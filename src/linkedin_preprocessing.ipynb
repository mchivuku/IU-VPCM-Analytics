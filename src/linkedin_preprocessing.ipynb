{
 "cells": [
  {
   "cell_type": "markdown",
   "metadata": {},
   "source": [
    "# Pre-processing LinkedIn Files\n",
    "\n",
    "Following are the list of files gathered by linkedIn:\n",
    "\n",
    "1. Visitor stats\n",
    "2. Updates\n",
    "3. Followers\n",
    "\n",
    "\n",
    "Following files will be combined to draw - Engagement insights\n",
    "\n",
    "**Engagement Insights:**\n",
    "Draw insight on:\n",
    "<ul>\n",
    "    <li>total page views to date,</li>\n",
    "    <li> total unique visitors to </li>\n",
    "    <li> average engagement rate </li>\n",
    "    <li> linked In posts </li>\n",
    "</ul>\n",
    "\n",
    "\n",
    "**Visitor Insights:**\n",
    "Draw insight on visitor demographics:\n",
    "<ul>\n",
    "    <li> Location of visitors </li>\n",
    "    <li> Visitor by industry </li>\n",
    " </ul>\n",
    " \n",
    "**Follower Insights:**\n",
    "Draw insight on follower demographics:\n",
    "<ul>\n",
    "    <li> Location of followers </li>\n",
    "    <li> Follower Industry </li>\n",
    " </ul>\n",
    " "
   ]
  },
  {
   "cell_type": "markdown",
   "metadata": {},
   "source": [
    "## Import Libraries"
   ]
  },
  {
   "cell_type": "code",
   "execution_count": 119,
   "metadata": {},
   "outputs": [
    {
     "data": {
      "text/html": [
       "        <script type=\"text/javascript\">\n",
       "        window.PlotlyConfig = {MathJaxConfig: 'local'};\n",
       "        if (window.MathJax) {MathJax.Hub.Config({SVG: {font: \"STIX-Web\"}});}\n",
       "        if (typeof require !== 'undefined') {\n",
       "        require.undef(\"plotly\");\n",
       "        requirejs.config({\n",
       "            paths: {\n",
       "                'plotly': ['https://cdn.plot.ly/plotly-latest.min']\n",
       "            }\n",
       "        });\n",
       "        require(['plotly'], function(Plotly) {\n",
       "            window._Plotly = Plotly;\n",
       "        });\n",
       "        }\n",
       "        </script>\n",
       "        "
      ]
     },
     "metadata": {},
     "output_type": "display_data"
    }
   ],
   "source": [
    "import os\n",
    "import pandas as pd\n",
    "import numpy as np\n",
    "from datetime import date, timedelta, datetime\n",
    "import csv\n",
    "\n",
    "\n",
    "### Data Visualization\n",
    "\n",
    "import matplotlib.pyplot as plt\n",
    "import seaborn as sns\n",
    "import plotly \n",
    "\n",
    "# Replace with your information\n",
    "plotly.tools.set_credentials_file(username='mchivuku', api_key='ONCxWI3IjbPiHtld9PFm')\n",
    "# plotly standard imports\n",
    "import plotly.graph_objs as go\n",
    "import plotly.plotly as py\n",
    "\n",
    "# Cufflinks wrapper on plotly\n",
    "import cufflinks\n",
    "\n",
    "\n",
    "# Options for pandas\n",
    "pd.options.display.max_columns = 30\n",
    "\n",
    "# Display all cell outputs\n",
    "from IPython.core.interactiveshell import InteractiveShell\n",
    "InteractiveShell.ast_node_interactivity = 'all'\n",
    "\n",
    "from plotly.offline import iplot\n",
    "cufflinks.go_offline()\n",
    "\n",
    "# Set global theme\n",
    "cufflinks.set_config_file(world_readable=True, theme='pearl')\n",
    "\n",
    "%matplotlib inline\n",
    "plt.style.use(\"seaborn\")\n",
    "\n"
   ]
  },
  {
   "cell_type": "markdown",
   "metadata": {},
   "source": [
    "## Settings"
   ]
  },
  {
   "cell_type": "code",
   "execution_count": 167,
   "metadata": {},
   "outputs": [],
   "source": [
    "raw_data_dir = os.path.join(\"data\",\"raw_data\",\"iu-bloomington\")\n",
    "processed_data_dir = os.path.join(\"data\",\"processed_data\",\"iu-bloomington\")\n",
    "\n",
    "visitor_file =  \"indiana-university-bloomington_visitors_1560259203300.xls\"\n",
    "followers_file = \"indiana-university-bloomington_followers_1560260208689.xls\"\n",
    "engagements_file = \"indiana-university-bloomington_updates_1560260253072.xls\"\n",
    "\n",
    "start_date = date(2018, 6, 8)  # start date\n",
    "end_date = date(2019, 6, 9)    # end date\n",
    "\n",
    "\n",
    "## Read from\n",
    "visitors_file_path = os.path.join(raw_data_dir,visitor_file )\n",
    "followers_file_path = os.path.join(raw_data_dir,followers_file )\n",
    "engagements_file_path = os.path.join(raw_data_dir, engagements_file)\n",
    "\n",
    "\n",
    "## Save to Engagement insights\n",
    "timestamp = datetime.now().strftime(\"%Y%m%d-%H%M%S\")\n",
    "engagement_insights_filename = f\"indiana-university-bl_engagement_insights_{timestamp}.csv\"\n",
    "engagement_insights_filepath = os.path.join(processed_data_dir,engagement_insights_filename)\n",
    "\n",
    "engagement_top_posts_filename = f\"indiana-university-bl_engagement_insights_posts_{timestamp}.csv\"\n",
    "engagement_top_posts_filepath = os.path.join(processed_data_dir,engagement_top_posts_filename)\n",
    "\n",
    "\n",
    "### Visitor Demographic Insights\n",
    "visitor_demographics_location_filename = f\"indiana-university-bl_visitor_demographics_location_{timestamp}.csv\"\n",
    "visitor_demographics_industry_filename = f\"indiana-university-bl_visitor_demographics_industry_{timestamp}.csv\"\n",
    "visitor_demographics_location_filepath = os.path.join(processed_data_dir,visitor_demographics_location_filename)\n",
    "visitor_demographics_industry_filepath = os.path.join(processed_data_dir,visitor_demographics_industry_filename)\n",
    "\n",
    "\n",
    "### Follower Demographic insights\n",
    "follower_demographics_location_filename = f\"indiana-university-bl_follower_demographics_location_{timestamp}.csv\"\n",
    "follower_demographics_industry_filename = f\"indiana-university-bl_follower_demographics_industry_{timestamp}.csv\"\n",
    "follower_demographics_seniority_filename = f\"indiana-university-bl_follower_demographics_seniority_{timestamp}.csv\"\n",
    "\n",
    "follower_demographics_location_filepath = os.path.join(processed_data_dir,follower_demographics_location_filename)\n",
    "follower_demographics_industry_filepath = os.path.join(processed_data_dir,follower_demographics_industry_filename)\n",
    "follower_demographics_seniority_filepath = os.path.join(processed_data_dir,follower_demographics_seniority_filename)\n",
    "\n"
   ]
  },
  {
   "cell_type": "markdown",
   "metadata": {},
   "source": [
    "## Exploratory Data Analysis (EDA)"
   ]
  },
  {
   "cell_type": "code",
   "execution_count": 3,
   "metadata": {},
   "outputs": [],
   "source": [
    "visitors = pd.ExcelFile(visitors_file_path)\n",
    "engagements = pd.ExcelFile(engagements_file_path)\n",
    "followers = pd.ExcelFile(followers_file_path)\n"
   ]
  },
  {
   "cell_type": "markdown",
   "metadata": {},
   "source": [
    "### Visitors"
   ]
  },
  {
   "cell_type": "code",
   "execution_count": 5,
   "metadata": {},
   "outputs": [
    {
     "name": "stdout",
     "output_type": "stream",
     "text": [
      "['Visitor metrics', 'Location', 'Job function', 'Seniority', 'Industry', 'Company size', 'Life Page Traffic']\n"
     ]
    }
   ],
   "source": [
    "print(visitors.sheet_names)"
   ]
  },
  {
   "cell_type": "code",
   "execution_count": 7,
   "metadata": {},
   "outputs": [],
   "source": [
    "visitor_metrics_df = pd.read_excel(visitors_file_path, sheet_name='Visitor metrics')\n",
    "visitor_location_df = pd.read_excel(visitors_file_path,sheet_name = \"Location\")\n",
    "visitor_job_function_df = pd.read_excel(visitors_file_path,sheet_name = \"Job function\")\n",
    "visitor_industry_df = pd.read_excel(visitors_file_path,sheet_name= \"Industry\")\n",
    "visitor_company_size_df = pd.read_excel(visitors_file_path, sheet_name = \"Company size\")\n",
    "visitor_seniority_df = pd.read_excel(visitors_file_path,sheet_name = \"Seniority\")\n",
    "\n",
    "\n",
    "## Setting Date as index\n",
    "visitor_metrics_df[\"Date\"]= pd.to_datetime(visitor_metrics_df[\"Date\"]) \n"
   ]
  },
  {
   "cell_type": "code",
   "execution_count": 10,
   "metadata": {},
   "outputs": [
    {
     "name": "stdout",
     "output_type": "stream",
     "text": [
      "Min date: 2018-06-08 00:00:00  Max date: 2019-06-09 00:00:00\n",
      "Number of records, in visitor metrics: (367, 25)\n",
      "Number of records, in visitor location: (225, 2)\n",
      "Number of records, in visitor job function: (26, 2)\n",
      "Number of records, in visitor industry: (130, 2)\n",
      "Number of records, in visitor company size: (9, 2)\n",
      "Number of records, in visitor seniority: (10, 2)\n"
     ]
    }
   ],
   "source": [
    "print(\"Min date:\", visitor_metrics_df['Date'].min(), \" Max date:\", visitor_metrics_df[\"Date\"].max())\n",
    "print(f\"Number of records, in visitor metrics: {visitor_metrics_df.shape}\")\n",
    "print(f\"Number of records, in visitor location: {visitor_location_df.shape}\")\n",
    "print(f\"Number of records, in visitor job function: {visitor_job_function_df.shape}\")\n",
    "print(f\"Number of records, in visitor industry: {visitor_industry_df.shape}\")\n",
    "print(f\"Number of records, in visitor company size: {visitor_company_size_df.shape}\")\n",
    "print(f\"Number of records, in visitor seniority: {visitor_seniority_df.shape}\")\n",
    "\n",
    "\n"
   ]
  },
  {
   "cell_type": "code",
   "execution_count": 12,
   "metadata": {},
   "outputs": [
    {
     "data": {
      "application/vnd.plotly.v1+json": {
       "config": {
        "linkText": "Export to plot.ly",
        "plotlyServerURL": "https://plot.ly",
        "showLink": true
       },
       "data": [
        {
         "line": {
          "color": "rgba(255, 153, 51, 1.0)",
          "dash": "solid",
          "shape": "linear",
          "width": 1.3
         },
         "mode": "lines",
         "name": "Total page views (desktop)",
         "text": "",
         "type": "scatter",
         "uid": "a724f135-3b87-4e30-ab09-501759c8da92",
         "x": [
          "2018-06-30",
          "2018-07-31",
          "2018-08-31",
          "2018-09-30",
          "2018-10-31",
          "2018-11-30",
          "2018-12-31",
          "2019-01-31",
          "2019-02-28",
          "2019-03-31",
          "2019-04-30",
          "2019-05-31",
          "2019-06-30"
         ],
         "y": [
          182.34782608695653,
          185.2258064516129,
          200.29032258064515,
          212.26666666666668,
          222.5483870967742,
          224.36666666666667,
          153.61290322580646,
          253.58064516129033,
          446.0357142857143,
          365.38709677419354,
          697.6333333333333,
          279.16129032258067,
          264
         ]
        },
        {
         "line": {
          "color": "rgba(55, 128, 191, 1.0)",
          "dash": "solid",
          "shape": "linear",
          "width": 1.3
         },
         "mode": "lines",
         "name": "Total page views (mobile)",
         "text": "",
         "type": "scatter",
         "uid": "1b1f99f3-8c61-4c2a-bb0c-b20a98655822",
         "x": [
          "2018-06-30",
          "2018-07-31",
          "2018-08-31",
          "2018-09-30",
          "2018-10-31",
          "2018-11-30",
          "2018-12-31",
          "2019-01-31",
          "2019-02-28",
          "2019-03-31",
          "2019-04-30",
          "2019-05-31",
          "2019-06-30"
         ],
         "y": [
          281.1304347826087,
          246.2258064516129,
          283.03225806451616,
          327.96666666666664,
          348.48387096774195,
          281.6,
          222.41935483870967,
          231.3548387096774,
          260.2857142857143,
          236.06451612903226,
          240.93333333333334,
          207.83870967741936,
          209.77777777777777
         ]
        },
        {
         "line": {
          "color": "rgba(50, 171, 96, 1.0)",
          "dash": "solid",
          "shape": "linear",
          "width": 1.3
         },
         "mode": "lines",
         "name": "Total unique visitors (mobile)",
         "text": "",
         "type": "scatter",
         "uid": "9854ab52-1d40-4fec-be74-8225a5b63aaf",
         "x": [
          "2018-06-30",
          "2018-07-31",
          "2018-08-31",
          "2018-09-30",
          "2018-10-31",
          "2018-11-30",
          "2018-12-31",
          "2019-01-31",
          "2019-02-28",
          "2019-03-31",
          "2019-04-30",
          "2019-05-31",
          "2019-06-30"
         ],
         "y": [
          94.6086956521739,
          98.48387096774194,
          102.48387096774194,
          107.93333333333334,
          107.51612903225806,
          85.73333333333333,
          83.09677419354838,
          102.90322580645162,
          126.92857142857143,
          132.2258064516129,
          139.76666666666668,
          119.87096774193549,
          120.66666666666667
         ]
        },
        {
         "line": {
          "color": "rgba(128, 0, 128, 1.0)",
          "dash": "solid",
          "shape": "linear",
          "width": 1.3
         },
         "mode": "lines",
         "name": "Total unique visitors (desktop)",
         "text": "",
         "type": "scatter",
         "uid": "783c096d-b382-41d8-9fd7-abd10739f622",
         "x": [
          "2018-06-30",
          "2018-07-31",
          "2018-08-31",
          "2018-09-30",
          "2018-10-31",
          "2018-11-30",
          "2018-12-31",
          "2019-01-31",
          "2019-02-28",
          "2019-03-31",
          "2019-04-30",
          "2019-05-31",
          "2019-06-30"
         ],
         "y": [
          136.56521739130434,
          133.51612903225808,
          147.7741935483871,
          158.1,
          168.67741935483872,
          157.76666666666668,
          109.2258064516129,
          153.6451612903226,
          172.64285714285714,
          163.03225806451613,
          191.43333333333334,
          134.16129032258064,
          114.44444444444444
         ]
        }
       ],
       "layout": {
        "legend": {
         "bgcolor": "#F5F6F9",
         "font": {
          "color": "#4D5663"
         }
        },
        "paper_bgcolor": "#F5F6F9",
        "plot_bgcolor": "#F5F6F9",
        "title": {
         "font": {
          "color": "#4D5663"
         },
         "text": "Monthly Page Views"
        },
        "xaxis": {
         "gridcolor": "#E1E5ED",
         "showgrid": true,
         "tickfont": {
          "color": "#4D5663"
         },
         "title": {
          "font": {
           "color": "#4D5663"
          },
          "text": "Date"
         },
         "zerolinecolor": "#E1E5ED"
        },
        "yaxis": {
         "gridcolor": "#E1E5ED",
         "showgrid": true,
         "tickfont": {
          "color": "#4D5663"
         },
         "title": {
          "font": {
           "color": "#4D5663"
          },
          "text": "Average Views"
         },
         "zerolinecolor": "#E1E5ED"
        }
       }
      },
      "text/html": [
       "<div>\n",
       "        \n",
       "        \n",
       "            <div id=\"55081536-d420-45e2-b72a-c2082eab7c84\" class=\"plotly-graph-div\" style=\"height:525px; width:100%;\"></div>\n",
       "            <script type=\"text/javascript\">\n",
       "                require([\"plotly\"], function(Plotly) {\n",
       "                    window.PLOTLYENV=window.PLOTLYENV || {};\n",
       "                    window.PLOTLYENV.BASE_URL='https://plot.ly';\n",
       "                    \n",
       "                if (document.getElementById(\"55081536-d420-45e2-b72a-c2082eab7c84\")) {\n",
       "                    Plotly.newPlot(\n",
       "                        '55081536-d420-45e2-b72a-c2082eab7c84',\n",
       "                        [{\"line\": {\"color\": \"rgba(255, 153, 51, 1.0)\", \"dash\": \"solid\", \"shape\": \"linear\", \"width\": 1.3}, \"mode\": \"lines\", \"name\": \"Total page views (desktop)\", \"text\": \"\", \"type\": \"scatter\", \"uid\": \"a724f135-3b87-4e30-ab09-501759c8da92\", \"x\": [\"2018-06-30\", \"2018-07-31\", \"2018-08-31\", \"2018-09-30\", \"2018-10-31\", \"2018-11-30\", \"2018-12-31\", \"2019-01-31\", \"2019-02-28\", \"2019-03-31\", \"2019-04-30\", \"2019-05-31\", \"2019-06-30\"], \"y\": [182.34782608695653, 185.2258064516129, 200.29032258064515, 212.26666666666668, 222.5483870967742, 224.36666666666667, 153.61290322580646, 253.58064516129033, 446.0357142857143, 365.38709677419354, 697.6333333333333, 279.16129032258067, 264.0]}, {\"line\": {\"color\": \"rgba(55, 128, 191, 1.0)\", \"dash\": \"solid\", \"shape\": \"linear\", \"width\": 1.3}, \"mode\": \"lines\", \"name\": \"Total page views (mobile)\", \"text\": \"\", \"type\": \"scatter\", \"uid\": \"1b1f99f3-8c61-4c2a-bb0c-b20a98655822\", \"x\": [\"2018-06-30\", \"2018-07-31\", \"2018-08-31\", \"2018-09-30\", \"2018-10-31\", \"2018-11-30\", \"2018-12-31\", \"2019-01-31\", \"2019-02-28\", \"2019-03-31\", \"2019-04-30\", \"2019-05-31\", \"2019-06-30\"], \"y\": [281.1304347826087, 246.2258064516129, 283.03225806451616, 327.96666666666664, 348.48387096774195, 281.6, 222.41935483870967, 231.3548387096774, 260.2857142857143, 236.06451612903226, 240.93333333333334, 207.83870967741936, 209.77777777777777]}, {\"line\": {\"color\": \"rgba(50, 171, 96, 1.0)\", \"dash\": \"solid\", \"shape\": \"linear\", \"width\": 1.3}, \"mode\": \"lines\", \"name\": \"Total unique visitors (mobile)\", \"text\": \"\", \"type\": \"scatter\", \"uid\": \"9854ab52-1d40-4fec-be74-8225a5b63aaf\", \"x\": [\"2018-06-30\", \"2018-07-31\", \"2018-08-31\", \"2018-09-30\", \"2018-10-31\", \"2018-11-30\", \"2018-12-31\", \"2019-01-31\", \"2019-02-28\", \"2019-03-31\", \"2019-04-30\", \"2019-05-31\", \"2019-06-30\"], \"y\": [94.6086956521739, 98.48387096774194, 102.48387096774194, 107.93333333333334, 107.51612903225806, 85.73333333333333, 83.09677419354838, 102.90322580645162, 126.92857142857143, 132.2258064516129, 139.76666666666668, 119.87096774193549, 120.66666666666667]}, {\"line\": {\"color\": \"rgba(128, 0, 128, 1.0)\", \"dash\": \"solid\", \"shape\": \"linear\", \"width\": 1.3}, \"mode\": \"lines\", \"name\": \"Total unique visitors (desktop)\", \"text\": \"\", \"type\": \"scatter\", \"uid\": \"783c096d-b382-41d8-9fd7-abd10739f622\", \"x\": [\"2018-06-30\", \"2018-07-31\", \"2018-08-31\", \"2018-09-30\", \"2018-10-31\", \"2018-11-30\", \"2018-12-31\", \"2019-01-31\", \"2019-02-28\", \"2019-03-31\", \"2019-04-30\", \"2019-05-31\", \"2019-06-30\"], \"y\": [136.56521739130434, 133.51612903225808, 147.7741935483871, 158.1, 168.67741935483872, 157.76666666666668, 109.2258064516129, 153.6451612903226, 172.64285714285714, 163.03225806451613, 191.43333333333334, 134.16129032258064, 114.44444444444444]}],\n",
       "                        {\"legend\": {\"bgcolor\": \"#F5F6F9\", \"font\": {\"color\": \"#4D5663\"}}, \"paper_bgcolor\": \"#F5F6F9\", \"plot_bgcolor\": \"#F5F6F9\", \"title\": {\"font\": {\"color\": \"#4D5663\"}, \"text\": \"Monthly Page Views\"}, \"xaxis\": {\"gridcolor\": \"#E1E5ED\", \"showgrid\": true, \"tickfont\": {\"color\": \"#4D5663\"}, \"title\": {\"font\": {\"color\": \"#4D5663\"}, \"text\": \"Date\"}, \"zerolinecolor\": \"#E1E5ED\"}, \"yaxis\": {\"gridcolor\": \"#E1E5ED\", \"showgrid\": true, \"tickfont\": {\"color\": \"#4D5663\"}, \"title\": {\"font\": {\"color\": \"#4D5663\"}, \"text\": \"Average Views\"}, \"zerolinecolor\": \"#E1E5ED\"}},\n",
       "                        {\"showLink\": true, \"linkText\": \"Export to plot.ly\", \"plotlyServerURL\": \"https://plot.ly\", \"responsive\": true}\n",
       "                    ).then(function(){\n",
       "                            \n",
       "var gd = document.getElementById('55081536-d420-45e2-b72a-c2082eab7c84');\n",
       "var x = new MutationObserver(function (mutations, observer) {{\n",
       "        var display = window.getComputedStyle(gd).display;\n",
       "        if (!display || display === 'none') {{\n",
       "            console.log([gd, 'removed!']);\n",
       "            Plotly.purge(gd);\n",
       "            observer.disconnect();\n",
       "        }}\n",
       "}});\n",
       "\n",
       "// Listen for the removal of the full notebook cells\n",
       "var notebookContainer = gd.closest('#notebook-container');\n",
       "if (notebookContainer) {{\n",
       "    x.observe(notebookContainer, {childList: true});\n",
       "}}\n",
       "\n",
       "// Listen for the clearing of the current output cell\n",
       "var outputEl = gd.closest('.output');\n",
       "if (outputEl) {{\n",
       "    x.observe(outputEl, {childList: true});\n",
       "}}\n",
       "\n",
       "                        })\n",
       "                };\n",
       "                });\n",
       "            </script>\n",
       "        </div>"
      ]
     },
     "metadata": {},
     "output_type": "display_data"
    }
   ],
   "source": [
    "page_views_df = visitor_metrics_df[['Total page views (desktop)', 'Total page views (mobile)','Total unique visitors (mobile)',\n",
    "                                    'Total unique visitors (desktop)',\n",
    "          'Date']].set_index('Date').resample('M').mean()\n",
    "\n",
    "page_views_df.iplot(\n",
    "    kind='line',\n",
    "    xTitle='Date',\n",
    "    yTitle='Average Views',\n",
    "    title='Monthly Page Views')"
   ]
  },
  {
   "cell_type": "code",
   "execution_count": 31,
   "metadata": {},
   "outputs": [
    {
     "data": {
      "application/vnd.plotly.v1+json": {
       "config": {
        "linkText": "Export to plot.ly",
        "plotlyServerURL": "https://plot.ly",
        "showLink": true
       },
       "data": [
        {
         "marker": {
          "color": "rgba(255, 153, 51, 1.0)",
          "line": {
           "width": 1.3
          },
          "opacity": 0.8,
          "size": [
           14
          ],
          "symbol": "circle"
         },
         "mode": "markers",
         "name": "Defense & Space",
         "textfont": {
          "color": "#4D5663"
         },
         "type": "scatter",
         "uid": "e4b3657b-cfee-4bef-a6b1-3f4db5d698fe",
         "x": [
          431
         ],
         "y": [
          "Defense & Space"
         ]
        },
        {
         "marker": {
          "color": "rgba(55, 128, 191, 1.0)",
          "line": {
           "width": 1.3
          },
          "opacity": 0.8,
          "size": [
           12
          ],
          "symbol": "circle"
         },
         "mode": "markers",
         "name": "Computer Hardware",
         "textfont": {
          "color": "#4D5663"
         },
         "type": "scatter",
         "uid": "5e803f66-0d5e-48da-9b2a-5d189cf2464e",
         "x": [
          2
         ],
         "y": [
          "Computer Hardware"
         ]
        },
        {
         "marker": {
          "color": "rgba(50, 171, 96, 1.0)",
          "line": {
           "width": 1.3
          },
          "opacity": 0.8,
          "size": [
           30
          ],
          "symbol": "circle"
         },
         "mode": "markers",
         "name": "Computer Software",
         "textfont": {
          "color": "#4D5663"
         },
         "type": "scatter",
         "uid": "51fe1f34-bf5d-46eb-99a0-1a14ab09fcc1",
         "x": [
          3815
         ],
         "y": [
          "Computer Software"
         ]
        },
        {
         "marker": {
          "color": "rgba(128, 0, 128, 1.0)",
          "line": {
           "width": 1.3
          },
          "opacity": 0.8,
          "size": [
           12
          ],
          "symbol": "circle"
         },
         "mode": "markers",
         "name": "Computer Networking",
         "textfont": {
          "color": "#4D5663"
         },
         "type": "scatter",
         "uid": "4af4acdf-5627-4c56-bcad-3c493fb70bb5",
         "x": [
          115
         ],
         "y": [
          "Computer Networking"
         ]
        },
        {
         "marker": {
          "color": "rgba(219, 64, 82, 1.0)",
          "line": {
           "width": 1.3
          },
          "opacity": 0.8,
          "size": [
           29
          ],
          "symbol": "circle"
         },
         "mode": "markers",
         "name": "Internet",
         "textfont": {
          "color": "#4D5663"
         },
         "type": "scatter",
         "uid": "6902f2f0-3da6-4a30-a825-0e9e3ba44286",
         "x": [
          3469
         ],
         "y": [
          "Internet"
         ]
        },
        {
         "marker": {
          "color": "rgba(0, 128, 128, 1.0)",
          "line": {
           "width": 1.3
          },
          "opacity": 0.8,
          "size": [
           12
          ],
          "symbol": "circle"
         },
         "mode": "markers",
         "name": "Semiconductors",
         "textfont": {
          "color": "#4D5663"
         },
         "type": "scatter",
         "uid": "b6dccf62-0913-44bf-9874-f60edddddcbb",
         "x": [
          183
         ],
         "y": [
          "Semiconductors"
         ]
        },
        {
         "marker": {
          "color": "rgba(255, 255, 51, 1.0)",
          "line": {
           "width": 1.3
          },
          "opacity": 0.8,
          "size": [
           16
          ],
          "symbol": "circle"
         },
         "mode": "markers",
         "name": "Telecommunications",
         "textfont": {
          "color": "#4D5663"
         },
         "type": "scatter",
         "uid": "8bf9b8db-a5ea-47c8-b896-e767bc841bf8",
         "x": [
          963
         ],
         "y": [
          "Telecommunications"
         ]
        },
        {
         "marker": {
          "color": "rgba(128, 128, 0, 1.0)",
          "line": {
           "width": 1.3
          },
          "opacity": 0.8,
          "size": [
           17
          ],
          "symbol": "circle"
         },
         "mode": "markers",
         "name": "Law Practice",
         "textfont": {
          "color": "#4D5663"
         },
         "type": "scatter",
         "uid": "fbab4f91-d1c0-46af-8af2-f4a922cfde5f",
         "x": [
          1097
         ],
         "y": [
          "Law Practice"
         ]
        },
        {
         "marker": {
          "color": "rgba(251, 128, 114, 1.0)",
          "line": {
           "width": 1.3
          },
          "opacity": 0.8,
          "size": [
           14
          ],
          "symbol": "circle"
         },
         "mode": "markers",
         "name": "Legal Services",
         "textfont": {
          "color": "#4D5663"
         },
         "type": "scatter",
         "uid": "0aa9f850-fc6d-4dbd-b5af-5e19c9abe065",
         "x": [
          575
         ],
         "y": [
          "Legal Services"
         ]
        },
        {
         "marker": {
          "color": "rgba(128, 177, 211, 1.0)",
          "line": {
           "width": 1.3
          },
          "opacity": 0.8,
          "size": [
           25
          ],
          "symbol": "circle"
         },
         "mode": "markers",
         "name": "Management Consulting",
         "textfont": {
          "color": "#4D5663"
         },
         "type": "scatter",
         "uid": "06628771-9a77-4524-a62f-022f3613ccb2",
         "x": [
          2818
         ],
         "y": [
          "Management Consulting"
         ]
        },
        {
         "marker": {
          "color": "rgba(128, 177, 211, 0.9384615384615385)",
          "line": {
           "width": 1.3
          },
          "opacity": 0.8,
          "size": [
           16
          ],
          "symbol": "circle"
         },
         "mode": "markers",
         "name": "Biotechnology",
         "textfont": {
          "color": "#4D5663"
         },
         "type": "scatter",
         "uid": "0c9b827a-7bd2-4d9e-89af-89fba25ec797",
         "x": [
          845
         ],
         "y": [
          "Biotechnology"
         ]
        },
        {
         "marker": {
          "color": "rgba(255, 153, 51, 0.9384615384615385)",
          "line": {
           "width": 1.3
          },
          "opacity": 0.8,
          "size": [
           14
          ],
          "symbol": "circle"
         },
         "mode": "markers",
         "name": "Medical Practice",
         "textfont": {
          "color": "#4D5663"
         },
         "type": "scatter",
         "uid": "c9dbac38-622a-4f6a-8398-2d0f28fd7535",
         "x": [
          437
         ],
         "y": [
          "Medical Practice"
         ]
        },
        {
         "marker": {
          "color": "rgba(55, 128, 191, 0.9384615384615385)",
          "line": {
           "width": 1.3
          },
          "opacity": 0.8,
          "size": [
           33
          ],
          "symbol": "circle"
         },
         "mode": "markers",
         "name": "Hospital & Health Care",
         "textfont": {
          "color": "#4D5663"
         },
         "type": "scatter",
         "uid": "072229f0-28c3-4f5b-a7fc-a22237fe3d98",
         "x": [
          4371
         ],
         "y": [
          "Hospital & Health Care"
         ]
        },
        {
         "marker": {
          "color": "rgba(50, 171, 96, 0.9384615384615385)",
          "line": {
           "width": 1.3
          },
          "opacity": 0.8,
          "size": [
           18
          ],
          "symbol": "circle"
         },
         "mode": "markers",
         "name": "Pharmaceuticals",
         "textfont": {
          "color": "#4D5663"
         },
         "type": "scatter",
         "uid": "b18c31ad-b9a7-400f-a1fa-b81827849543",
         "x": [
          1232
         ],
         "y": [
          "Pharmaceuticals"
         ]
        },
        {
         "marker": {
          "color": "rgba(128, 0, 128, 0.9384615384615385)",
          "line": {
           "width": 1.3
          },
          "opacity": 0.8,
          "size": [
           16
          ],
          "symbol": "circle"
         },
         "mode": "markers",
         "name": "Medical Devices",
         "textfont": {
          "color": "#4D5663"
         },
         "type": "scatter",
         "uid": "b5533c5b-3850-45b3-b46c-bb02d2bcef83",
         "x": [
          982
         ],
         "y": [
          "Medical Devices"
         ]
        },
        {
         "marker": {
          "color": "rgba(219, 64, 82, 0.9384615384615385)",
          "line": {
           "width": 1.3
          },
          "opacity": 0.8,
          "size": [
           12
          ],
          "symbol": "circle"
         },
         "mode": "markers",
         "name": "Cosmetics",
         "textfont": {
          "color": "#4D5663"
         },
         "type": "scatter",
         "uid": "192ed8ab-48f4-48de-9fab-98f45c243052",
         "x": [
          128
         ],
         "y": [
          "Cosmetics"
         ]
        },
        {
         "marker": {
          "color": "rgba(0, 128, 128, 0.9384615384615385)",
          "line": {
           "width": 1.3
          },
          "opacity": 0.8,
          "size": [
           15
          ],
          "symbol": "circle"
         },
         "mode": "markers",
         "name": "Apparel & Fashion",
         "textfont": {
          "color": "#4D5663"
         },
         "type": "scatter",
         "uid": "97ecb453-44d6-4aba-a6f6-d5a0bc31bcee",
         "x": [
          617
         ],
         "y": [
          "Apparel & Fashion"
         ]
        },
        {
         "marker": {
          "color": "rgba(255, 255, 51, 0.9384615384615385)",
          "line": {
           "width": 1.3
          },
          "opacity": 0.8,
          "size": [
           12
          ],
          "symbol": "circle"
         },
         "mode": "markers",
         "name": "Sporting Goods",
         "textfont": {
          "color": "#4D5663"
         },
         "type": "scatter",
         "uid": "8a0cf075-56c0-4c64-9fd7-d42de87f4de9",
         "x": [
          125
         ],
         "y": [
          "Sporting Goods"
         ]
        },
        {
         "marker": {
          "color": "rgba(128, 128, 0, 0.9384615384615385)",
          "line": {
           "width": 1.3
          },
          "opacity": 0.8,
          "size": [
           12
          ],
          "symbol": "circle"
         },
         "mode": "markers",
         "name": "Supermarkets",
         "textfont": {
          "color": "#4D5663"
         },
         "type": "scatter",
         "uid": "dc4b80bb-8c9f-4a41-97a1-d964e16693b7",
         "x": [
          1
         ],
         "y": [
          "Supermarkets"
         ]
        },
        {
         "marker": {
          "color": "rgba(251, 128, 114, 0.9384615384615385)",
          "line": {
           "width": 1.3
          },
          "opacity": 0.8,
          "size": [
           13
          ],
          "symbol": "circle"
         },
         "mode": "markers",
         "name": "Food Production",
         "textfont": {
          "color": "#4D5663"
         },
         "type": "scatter",
         "uid": "5c184973-414f-4de7-a6f0-8e808cd52218",
         "x": [
          371
         ],
         "y": [
          "Food Production"
         ]
        },
        {
         "marker": {
          "color": "rgba(251, 128, 114, 0.8769230769230769)",
          "line": {
           "width": 1.3
          },
          "opacity": 0.8,
          "size": [
           13
          ],
          "symbol": "circle"
         },
         "mode": "markers",
         "name": "Consumer Electronics",
         "textfont": {
          "color": "#4D5663"
         },
         "type": "scatter",
         "uid": "2430ce15-4e07-4951-bf17-e56fa79515ae",
         "x": [
          371
         ],
         "y": [
          "Consumer Electronics"
         ]
        },
        {
         "marker": {
          "color": "rgba(128, 177, 211, 0.8769230769230769)",
          "line": {
           "width": 1.3
          },
          "opacity": 0.8,
          "size": [
           17
          ],
          "symbol": "circle"
         },
         "mode": "markers",
         "name": "Consumer Goods",
         "textfont": {
          "color": "#4D5663"
         },
         "type": "scatter",
         "uid": "2c9dbce8-563d-4cae-85f0-3822af24b711",
         "x": [
          1020
         ],
         "y": [
          "Consumer Goods"
         ]
        },
        {
         "marker": {
          "color": "rgba(255, 153, 51, 0.8769230769230769)",
          "line": {
           "width": 1.3
          },
          "opacity": 0.8,
          "size": [
           12
          ],
          "symbol": "circle"
         },
         "mode": "markers",
         "name": "Furniture",
         "textfont": {
          "color": "#4D5663"
         },
         "type": "scatter",
         "uid": "1d269f97-949a-4a0f-820e-726c332c4868",
         "x": [
          91
         ],
         "y": [
          "Furniture"
         ]
        },
        {
         "marker": {
          "color": "rgba(55, 128, 191, 0.8769230769230769)",
          "line": {
           "width": 1.3
          },
          "opacity": 0.8,
          "size": [
           25
          ],
          "symbol": "circle"
         },
         "mode": "markers",
         "name": "Retail",
         "textfont": {
          "color": "#4D5663"
         },
         "type": "scatter",
         "uid": "a9de2f69-e3f8-4362-8263-3b3f500f48c8",
         "x": [
          2671
         ],
         "y": [
          "Retail"
         ]
        },
        {
         "marker": {
          "color": "rgba(50, 171, 96, 0.8769230769230769)",
          "line": {
           "width": 1.3
          },
          "opacity": 0.8,
          "size": [
           17
          ],
          "symbol": "circle"
         },
         "mode": "markers",
         "name": "Entertainment",
         "textfont": {
          "color": "#4D5663"
         },
         "type": "scatter",
         "uid": "b62a03c0-1728-4daf-a5ad-58faf8b0fa23",
         "x": [
          1037
         ],
         "y": [
          "Entertainment"
         ]
        },
        {
         "marker": {
          "color": "rgba(128, 0, 128, 0.8769230769230769)",
          "line": {
           "width": 1.3
          },
          "opacity": 0.8,
          "size": [
           13
          ],
          "symbol": "circle"
         },
         "mode": "markers",
         "name": "Leisure, Travel & Tourism",
         "textfont": {
          "color": "#4D5663"
         },
         "type": "scatter",
         "uid": "3b20ffb3-8064-4e0b-8cfa-1c2e2116ac24",
         "x": [
          341
         ],
         "y": [
          "Leisure, Travel & Tourism"
         ]
        },
        {
         "marker": {
          "color": "rgba(219, 64, 82, 0.8769230769230769)",
          "line": {
           "width": 1.3
          },
          "opacity": 0.8,
          "size": [
           16
          ],
          "symbol": "circle"
         },
         "mode": "markers",
         "name": "Hospitality",
         "textfont": {
          "color": "#4D5663"
         },
         "type": "scatter",
         "uid": "ede6cfd3-f9b9-48b4-b2be-3759fe9f4039",
         "x": [
          832
         ],
         "y": [
          "Hospitality"
         ]
        },
        {
         "marker": {
          "color": "rgba(0, 128, 128, 0.8769230769230769)",
          "line": {
           "width": 1.3
          },
          "opacity": 0.8,
          "size": [
           16
          ],
          "symbol": "circle"
         },
         "mode": "markers",
         "name": "Restaurants",
         "textfont": {
          "color": "#4D5663"
         },
         "type": "scatter",
         "uid": "d2750527-f115-4e44-8797-5bf6ac6042ea",
         "x": [
          819
         ],
         "y": [
          "Restaurants"
         ]
        },
        {
         "marker": {
          "color": "rgba(255, 255, 51, 0.8769230769230769)",
          "line": {
           "width": 1.3
          },
          "opacity": 0.8,
          "size": [
           19
          ],
          "symbol": "circle"
         },
         "mode": "markers",
         "name": "Sports",
         "textfont": {
          "color": "#4D5663"
         },
         "type": "scatter",
         "uid": "eb567855-ef4c-44f0-b105-a8268ae89443",
         "x": [
          1460
         ],
         "y": [
          "Sports"
         ]
        },
        {
         "marker": {
          "color": "rgba(128, 128, 0, 0.8769230769230769)",
          "line": {
           "width": 1.3
          },
          "opacity": 0.8,
          "size": [
           17
          ],
          "symbol": "circle"
         },
         "mode": "markers",
         "name": "Food & Beverages",
         "textfont": {
          "color": "#4D5663"
         },
         "type": "scatter",
         "uid": "6fd5b930-df96-4b0c-a5b8-cd29c19f186e",
         "x": [
          1058
         ],
         "y": [
          "Food & Beverages"
         ]
        },
        {
         "marker": {
          "color": "rgba(128, 128, 0, 0.8153846153846154)",
          "line": {
           "width": 1.3
          },
          "opacity": 0.8,
          "size": [
           12
          ],
          "symbol": "circle"
         },
         "mode": "markers",
         "name": "Motion Pictures and Film",
         "textfont": {
          "color": "#4D5663"
         },
         "type": "scatter",
         "uid": "af3bcae3-e92e-408a-84cc-21e0757efd4b",
         "x": [
          10
         ],
         "y": [
          "Motion Pictures and Film"
         ]
        },
        {
         "marker": {
          "color": "rgba(251, 128, 114, 0.8153846153846154)",
          "line": {
           "width": 1.3
          },
          "opacity": 0.8,
          "size": [
           15
          ],
          "symbol": "circle"
         },
         "mode": "markers",
         "name": "Broadcast Media",
         "textfont": {
          "color": "#4D5663"
         },
         "type": "scatter",
         "uid": "1ab313a6-377c-42c0-8b7e-21d280433b7f",
         "x": [
          745
         ],
         "y": [
          "Broadcast Media"
         ]
        },
        {
         "marker": {
          "color": "rgba(128, 177, 211, 0.8153846153846154)",
          "line": {
           "width": 1.3
          },
          "opacity": 0.8,
          "size": [
           13
          ],
          "symbol": "circle"
         },
         "mode": "markers",
         "name": "Museums and Institutions",
         "textfont": {
          "color": "#4D5663"
         },
         "type": "scatter",
         "uid": "010fddd8-b288-4367-9fb2-70dda2819110",
         "x": [
          276
         ],
         "y": [
          "Museums and Institutions"
         ]
        },
        {
         "marker": {
          "color": "rgba(255, 153, 51, 0.8153846153846154)",
          "line": {
           "width": 1.3
          },
          "opacity": 0.8,
          "size": [
           12
          ],
          "symbol": "circle"
         },
         "mode": "markers",
         "name": "Fine Art",
         "textfont": {
          "color": "#4D5663"
         },
         "type": "scatter",
         "uid": "aafd4cf0-08a7-43ef-9ce2-14195c8751b7",
         "x": [
          104
         ],
         "y": [
          "Fine Art"
         ]
        },
        {
         "marker": {
          "color": "rgba(55, 128, 191, 0.8153846153846154)",
          "line": {
           "width": 1.3
          },
          "opacity": 0.8,
          "size": [
           13
          ],
          "symbol": "circle"
         },
         "mode": "markers",
         "name": "Performing Arts",
         "textfont": {
          "color": "#4D5663"
         },
         "type": "scatter",
         "uid": "96fa32d4-d9ca-4273-90fe-e47581bd4038",
         "x": [
          236
         ],
         "y": [
          "Performing Arts"
         ]
        },
        {
         "marker": {
          "color": "rgba(50, 171, 96, 0.8153846153846154)",
          "line": {
           "width": 1.3
          },
          "opacity": 0.8,
          "size": [
           13
          ],
          "symbol": "circle"
         },
         "mode": "markers",
         "name": "Recreational Facilities and Services",
         "textfont": {
          "color": "#4D5663"
         },
         "type": "scatter",
         "uid": "180bebdf-72a5-4028-a8fa-162cb12b7489",
         "x": [
          238
         ],
         "y": [
          "Recreational Facilities and Services"
         ]
        },
        {
         "marker": {
          "color": "rgba(128, 0, 128, 0.8153846153846154)",
          "line": {
           "width": 1.3
          },
          "opacity": 0.8,
          "size": [
           19
          ],
          "symbol": "circle"
         },
         "mode": "markers",
         "name": "Banking",
         "textfont": {
          "color": "#4D5663"
         },
         "type": "scatter",
         "uid": "df6681e4-090e-4895-848b-4f2e2943b81a",
         "x": [
          1429
         ],
         "y": [
          "Banking"
         ]
        },
        {
         "marker": {
          "color": "rgba(219, 64, 82, 0.8153846153846154)",
          "line": {
           "width": 1.3
          },
          "opacity": 0.8,
          "size": [
           20
          ],
          "symbol": "circle"
         },
         "mode": "markers",
         "name": "Insurance",
         "textfont": {
          "color": "#4D5663"
         },
         "type": "scatter",
         "uid": "c13395d2-a5b2-4f68-8aac-e4ac0e162ecc",
         "x": [
          1656
         ],
         "y": [
          "Insurance"
         ]
        },
        {
         "marker": {
          "color": "rgba(0, 128, 128, 0.8153846153846154)",
          "line": {
           "width": 1.3
          },
          "opacity": 0.8,
          "size": [
           39
          ],
          "symbol": "circle"
         },
         "mode": "markers",
         "name": "Financial Services",
         "textfont": {
          "color": "#4D5663"
         },
         "type": "scatter",
         "uid": "7db56581-19c7-460d-a0b1-132b5917bde0",
         "x": [
          5647
         ],
         "y": [
          "Financial Services"
         ]
        },
        {
         "marker": {
          "color": "rgba(255, 255, 51, 0.8153846153846154)",
          "line": {
           "width": 1.3
          },
          "opacity": 0.8,
          "size": [
           19
          ],
          "symbol": "circle"
         },
         "mode": "markers",
         "name": "Real Estate",
         "textfont": {
          "color": "#4D5663"
         },
         "type": "scatter",
         "uid": "f0d992c9-73a1-462d-85a2-973c758ef55d",
         "x": [
          1551
         ],
         "y": [
          "Real Estate"
         ]
        },
        {
         "marker": {
          "color": "rgba(255, 255, 51, 0.7538461538461538)",
          "line": {
           "width": 1.3
          },
          "opacity": 0.8,
          "size": [
           14
          ],
          "symbol": "circle"
         },
         "mode": "markers",
         "name": "Investment Banking",
         "textfont": {
          "color": "#4D5663"
         },
         "type": "scatter",
         "uid": "6a9e9c3a-725e-4aaa-b9b9-8d6b74f2ab75",
         "x": [
          533
         ],
         "y": [
          "Investment Banking"
         ]
        },
        {
         "marker": {
          "color": "rgba(128, 128, 0, 0.7538461538461538)",
          "line": {
           "width": 1.3
          },
          "opacity": 0.8,
          "size": [
           15
          ],
          "symbol": "circle"
         },
         "mode": "markers",
         "name": "Investment Management",
         "textfont": {
          "color": "#4D5663"
         },
         "type": "scatter",
         "uid": "4bc4625c-ead8-4627-8fbb-8c74b3d6c59a",
         "x": [
          693
         ],
         "y": [
          "Investment Management"
         ]
        },
        {
         "marker": {
          "color": "rgba(251, 128, 114, 0.7538461538461538)",
          "line": {
           "width": 1.3
          },
          "opacity": 0.8,
          "size": [
           22
          ],
          "symbol": "circle"
         },
         "mode": "markers",
         "name": "Accounting",
         "textfont": {
          "color": "#4D5663"
         },
         "type": "scatter",
         "uid": "4dddc5a9-d303-43fd-8666-45167170e4e7",
         "x": [
          2055
         ],
         "y": [
          "Accounting"
         ]
        },
        {
         "marker": {
          "color": "rgba(128, 177, 211, 0.7538461538461538)",
          "line": {
           "width": 1.3
          },
          "opacity": 0.8,
          "size": [
           16
          ],
          "symbol": "circle"
         },
         "mode": "markers",
         "name": "Construction",
         "textfont": {
          "color": "#4D5663"
         },
         "type": "scatter",
         "uid": "30312076-27fd-480c-8f58-5b5d0e75903a",
         "x": [
          986
         ],
         "y": [
          "Construction"
         ]
        },
        {
         "marker": {
          "color": "rgba(255, 153, 51, 0.7538461538461538)",
          "line": {
           "width": 1.3
          },
          "opacity": 0.8,
          "size": [
           13
          ],
          "symbol": "circle"
         },
         "mode": "markers",
         "name": "Building Materials",
         "textfont": {
          "color": "#4D5663"
         },
         "type": "scatter",
         "uid": "5842e2a2-8a16-4c27-845c-7c6aa20d176e",
         "x": [
          276
         ],
         "y": [
          "Building Materials"
         ]
        },
        {
         "marker": {
          "color": "rgba(55, 128, 191, 0.7538461538461538)",
          "line": {
           "width": 1.3
          },
          "opacity": 0.8,
          "size": [
           13
          ],
          "symbol": "circle"
         },
         "mode": "markers",
         "name": "Architecture & Planning",
         "textfont": {
          "color": "#4D5663"
         },
         "type": "scatter",
         "uid": "5971a3fe-6da6-41e8-8818-4db4f3a41485",
         "x": [
          280
         ],
         "y": [
          "Architecture & Planning"
         ]
        },
        {
         "marker": {
          "color": "rgba(50, 171, 96, 0.7538461538461538)",
          "line": {
           "width": 1.3
          },
          "opacity": 0.8,
          "size": [
           13
          ],
          "symbol": "circle"
         },
         "mode": "markers",
         "name": "Civil Engineering",
         "textfont": {
          "color": "#4D5663"
         },
         "type": "scatter",
         "uid": "384295cd-6f84-4ce3-9a34-076a70bef46f",
         "x": [
          304
         ],
         "y": [
          "Civil Engineering"
         ]
        },
        {
         "marker": {
          "color": "rgba(128, 0, 128, 0.7538461538461538)",
          "line": {
           "width": 1.3
          },
          "opacity": 0.8,
          "size": [
           13
          ],
          "symbol": "circle"
         },
         "mode": "markers",
         "name": "Aviation & Aerospace",
         "textfont": {
          "color": "#4D5663"
         },
         "type": "scatter",
         "uid": "a7ef0562-7c44-4630-ade4-cbde6fbb1ce1",
         "x": [
          369
         ],
         "y": [
          "Aviation & Aerospace"
         ]
        },
        {
         "marker": {
          "color": "rgba(219, 64, 82, 0.7538461538461538)",
          "line": {
           "width": 1.3
          },
          "opacity": 0.8,
          "size": [
           19
          ],
          "symbol": "circle"
         },
         "mode": "markers",
         "name": "Automotive",
         "textfont": {
          "color": "#4D5663"
         },
         "type": "scatter",
         "uid": "9aaf1091-f47d-4f48-8a19-6104fcdc419f",
         "x": [
          1530
         ],
         "y": [
          "Automotive"
         ]
        },
        {
         "marker": {
          "color": "rgba(0, 128, 128, 0.7538461538461538)",
          "line": {
           "width": 1.3
          },
          "opacity": 0.8,
          "size": [
           14
          ],
          "symbol": "circle"
         },
         "mode": "markers",
         "name": "Chemicals",
         "textfont": {
          "color": "#4D5663"
         },
         "type": "scatter",
         "uid": "151c1619-1e8f-4963-bc81-c427b3399672",
         "x": [
          434
         ],
         "y": [
          "Chemicals"
         ]
        },
        {
         "marker": {
          "color": "rgba(0, 128, 128, 0.6923076923076923)",
          "line": {
           "width": 1.3
          },
          "opacity": 0.8,
          "size": [
           13
          ],
          "symbol": "circle"
         },
         "mode": "markers",
         "name": "Machinery",
         "textfont": {
          "color": "#4D5663"
         },
         "type": "scatter",
         "uid": "21120bc2-ed15-4b29-bc27-526669c75b2a",
         "x": [
          363
         ],
         "y": [
          "Machinery"
         ]
        },
        {
         "marker": {
          "color": "rgba(255, 255, 51, 0.6923076923076923)",
          "line": {
           "width": 1.3
          },
          "opacity": 0.8,
          "size": [
           13
          ],
          "symbol": "circle"
         },
         "mode": "markers",
         "name": "Mining & Metals",
         "textfont": {
          "color": "#4D5663"
         },
         "type": "scatter",
         "uid": "5033df94-d7f8-4c03-beb1-c108308de32f",
         "x": [
          274
         ],
         "y": [
          "Mining & Metals"
         ]
        },
        {
         "marker": {
          "color": "rgba(128, 128, 0, 0.6923076923076923)",
          "line": {
           "width": 1.3
          },
          "opacity": 0.8,
          "size": [
           15
          ],
          "symbol": "circle"
         },
         "mode": "markers",
         "name": "Oil & Energy",
         "textfont": {
          "color": "#4D5663"
         },
         "type": "scatter",
         "uid": "de3505ce-86f3-4fe2-8b42-4ebd9a5b9e74",
         "x": [
          712
         ],
         "y": [
          "Oil & Energy"
         ]
        },
        {
         "marker": {
          "color": "rgba(251, 128, 114, 0.6923076923076923)",
          "line": {
           "width": 1.3
          },
          "opacity": 0.8,
          "size": [
           13
          ],
          "symbol": "circle"
         },
         "mode": "markers",
         "name": "Utilities",
         "textfont": {
          "color": "#4D5663"
         },
         "type": "scatter",
         "uid": "1d9dae5b-88a7-4547-ae96-7ac3b05e9512",
         "x": [
          401
         ],
         "y": [
          "Utilities"
         ]
        },
        {
         "marker": {
          "color": "rgba(128, 177, 211, 0.6923076923076923)",
          "line": {
           "width": 1.3
          },
          "opacity": 0.8,
          "size": [
           12
          ],
          "symbol": "circle"
         },
         "mode": "markers",
         "name": "Textiles",
         "textfont": {
          "color": "#4D5663"
         },
         "type": "scatter",
         "uid": "a7d8aef8-0f24-4584-b332-b667956f9052",
         "x": [
          1
         ],
         "y": [
          "Textiles"
         ]
        },
        {
         "marker": {
          "color": "rgba(255, 153, 51, 0.6923076923076923)",
          "line": {
           "width": 1.3
          },
          "opacity": 0.8,
          "size": [
           12
          ],
          "symbol": "circle"
         },
         "mode": "markers",
         "name": "Farming",
         "textfont": {
          "color": "#4D5663"
         },
         "type": "scatter",
         "uid": "45b433e6-ce46-49ff-8c13-861b68dd5267",
         "x": [
          5
         ],
         "y": [
          "Farming"
         ]
        },
        {
         "marker": {
          "color": "rgba(55, 128, 191, 0.6923076923076923)",
          "line": {
           "width": 1.3
          },
          "opacity": 0.8,
          "size": [
           12
          ],
          "symbol": "circle"
         },
         "mode": "markers",
         "name": "Dairy",
         "textfont": {
          "color": "#4D5663"
         },
         "type": "scatter",
         "uid": "61f30e70-21db-4496-b27b-32adbf3a70b5",
         "x": [
          3
         ],
         "y": [
          "Dairy"
         ]
        },
        {
         "marker": {
          "color": "rgba(50, 171, 96, 0.6923076923076923)",
          "line": {
           "width": 1.3
          },
          "opacity": 0.8,
          "size": [
           15
          ],
          "symbol": "circle"
         },
         "mode": "markers",
         "name": "Primary/Secondary Education",
         "textfont": {
          "color": "#4D5663"
         },
         "type": "scatter",
         "uid": "26220cb3-5c57-4f43-9563-9f289c360766",
         "x": [
          698
         ],
         "y": [
          "Primary/Secondary Education"
         ]
        },
        {
         "marker": {
          "color": "rgba(128, 0, 128, 0.6923076923076923)",
          "line": {
           "width": 1.3
          },
          "opacity": 0.8,
          "size": [
           112
          ],
          "symbol": "circle"
         },
         "mode": "markers",
         "name": "Higher Education",
         "textfont": {
          "color": "#4D5663"
         },
         "type": "scatter",
         "uid": "bdf62c61-93e4-49f9-a208-7f788fdc1beb",
         "x": [
          20361
         ],
         "y": [
          "Higher Education"
         ]
        },
        {
         "marker": {
          "color": "rgba(219, 64, 82, 0.6923076923076923)",
          "line": {
           "width": 1.3
          },
          "opacity": 0.8,
          "size": [
           28
          ],
          "symbol": "circle"
         },
         "mode": "markers",
         "name": "Education Management",
         "textfont": {
          "color": "#4D5663"
         },
         "type": "scatter",
         "uid": "6889718d-fdb0-49d6-bb9b-dd1d23cf04ce",
         "x": [
          3263
         ],
         "y": [
          "Education Management"
         ]
        },
        {
         "marker": {
          "color": "rgba(219, 64, 82, 0.6307692307692307)",
          "line": {
           "width": 1.3
          },
          "opacity": 0.8,
          "size": [
           20
          ],
          "symbol": "circle"
         },
         "mode": "markers",
         "name": "Research",
         "textfont": {
          "color": "#4D5663"
         },
         "type": "scatter",
         "uid": "8f771c50-9bbc-419d-b725-27330db326df",
         "x": [
          1634
         ],
         "y": [
          "Research"
         ]
        },
        {
         "marker": {
          "color": "rgba(0, 128, 128, 0.6307692307692307)",
          "line": {
           "width": 1.3
          },
          "opacity": 0.8,
          "size": [
           14
          ],
          "symbol": "circle"
         },
         "mode": "markers",
         "name": "Military",
         "textfont": {
          "color": "#4D5663"
         },
         "type": "scatter",
         "uid": "8e2c8af3-94fa-4a59-af74-962723a5a10d",
         "x": [
          580
         ],
         "y": [
          "Military"
         ]
        },
        {
         "marker": {
          "color": "rgba(255, 255, 51, 0.6307692307692307)",
          "line": {
           "width": 1.3
          },
          "opacity": 0.8,
          "size": [
           12
          ],
          "symbol": "circle"
         },
         "mode": "markers",
         "name": "Judiciary",
         "textfont": {
          "color": "#4D5663"
         },
         "type": "scatter",
         "uid": "cd08194a-6309-4655-b33b-ffc3c3a89ffe",
         "x": [
          1
         ],
         "y": [
          "Judiciary"
         ]
        },
        {
         "marker": {
          "color": "rgba(128, 128, 0, 0.6307692307692307)",
          "line": {
           "width": 1.3
          },
          "opacity": 0.8,
          "size": [
           14
          ],
          "symbol": "circle"
         },
         "mode": "markers",
         "name": "International Affairs",
         "textfont": {
          "color": "#4D5663"
         },
         "type": "scatter",
         "uid": "0e8c8353-6465-4c5d-a74a-a11da1184c82",
         "x": [
          436
         ],
         "y": [
          "International Affairs"
         ]
        },
        {
         "marker": {
          "color": "rgba(251, 128, 114, 0.6307692307692307)",
          "line": {
           "width": 1.3
          },
          "opacity": 0.8,
          "size": [
           19
          ],
          "symbol": "circle"
         },
         "mode": "markers",
         "name": "Government Administration",
         "textfont": {
          "color": "#4D5663"
         },
         "type": "scatter",
         "uid": "2e8103b9-75bb-40d3-874c-7fb69f0fc8f0",
         "x": [
          1604
         ],
         "y": [
          "Government Administration"
         ]
        },
        {
         "marker": {
          "color": "rgba(128, 177, 211, 0.6307692307692307)",
          "line": {
           "width": 1.3
          },
          "opacity": 0.8,
          "size": [
           12
          ],
          "symbol": "circle"
         },
         "mode": "markers",
         "name": "Executive Office",
         "textfont": {
          "color": "#4D5663"
         },
         "type": "scatter",
         "uid": "2db5d67b-75e8-4731-8231-979c6e1860f9",
         "x": [
          80
         ],
         "y": [
          "Executive Office"
         ]
        },
        {
         "marker": {
          "color": "rgba(255, 153, 51, 0.6307692307692307)",
          "line": {
           "width": 1.3
          },
          "opacity": 0.8,
          "size": [
           12
          ],
          "symbol": "circle"
         },
         "mode": "markers",
         "name": "Law Enforcement",
         "textfont": {
          "color": "#4D5663"
         },
         "type": "scatter",
         "uid": "ef1690ba-509b-4b90-8064-c562db05098b",
         "x": [
          164
         ],
         "y": [
          "Law Enforcement"
         ]
        },
        {
         "marker": {
          "color": "rgba(55, 128, 191, 0.6307692307692307)",
          "line": {
           "width": 1.3
          },
          "opacity": 0.8,
          "size": [
           12
          ],
          "symbol": "circle"
         },
         "mode": "markers",
         "name": "Public Safety",
         "textfont": {
          "color": "#4D5663"
         },
         "type": "scatter",
         "uid": "c6463279-1d81-495f-bf40-cff8f87b8403",
         "x": [
          21
         ],
         "y": [
          "Public Safety"
         ]
        },
        {
         "marker": {
          "color": "rgba(50, 171, 96, 0.6307692307692307)",
          "line": {
           "width": 1.3
          },
          "opacity": 0.8,
          "size": [
           13
          ],
          "symbol": "circle"
         },
         "mode": "markers",
         "name": "Public Policy",
         "textfont": {
          "color": "#4D5663"
         },
         "type": "scatter",
         "uid": "e1f27ee5-8a20-4ee1-8ece-ed00c42c1983",
         "x": [
          249
         ],
         "y": [
          "Public Policy"
         ]
        },
        {
         "marker": {
          "color": "rgba(128, 0, 128, 0.6307692307692307)",
          "line": {
           "width": 1.3
          },
          "opacity": 0.8,
          "size": [
           31
          ],
          "symbol": "circle"
         },
         "mode": "markers",
         "name": "Marketing and Advertising",
         "textfont": {
          "color": "#4D5663"
         },
         "type": "scatter",
         "uid": "646deca7-b9cd-4252-9e88-b8c5978499b3",
         "x": [
          3985
         ],
         "y": [
          "Marketing and Advertising"
         ]
        },
        {
         "marker": {
          "color": "rgba(128, 0, 128, 0.5692307692307692)",
          "line": {
           "width": 1.3
          },
          "opacity": 0.8,
          "size": [
           13
          ],
          "symbol": "circle"
         },
         "mode": "markers",
         "name": "Newspapers",
         "textfont": {
          "color": "#4D5663"
         },
         "type": "scatter",
         "uid": "c32457fe-b19a-4a8b-992a-884712e7fe3d",
         "x": [
          345
         ],
         "y": [
          "Newspapers"
         ]
        },
        {
         "marker": {
          "color": "rgba(219, 64, 82, 0.5692307692307692)",
          "line": {
           "width": 1.3
          },
          "opacity": 0.8,
          "size": [
           14
          ],
          "symbol": "circle"
         },
         "mode": "markers",
         "name": "Publishing",
         "textfont": {
          "color": "#4D5663"
         },
         "type": "scatter",
         "uid": "70a4db80-41d5-4551-be44-0c5b6d6e2eac",
         "x": [
          513
         ],
         "y": [
          "Publishing"
         ]
        },
        {
         "marker": {
          "color": "rgba(0, 128, 128, 0.5692307692307692)",
          "line": {
           "width": 1.3
          },
          "opacity": 0.8,
          "size": [
           12
          ],
          "symbol": "circle"
         },
         "mode": "markers",
         "name": "Printing",
         "textfont": {
          "color": "#4D5663"
         },
         "type": "scatter",
         "uid": "7af870eb-1271-4590-be92-4a965c7a3ea7",
         "x": [
          15
         ],
         "y": [
          "Printing"
         ]
        },
        {
         "marker": {
          "color": "rgba(255, 255, 51, 0.5692307692307692)",
          "line": {
           "width": 1.3
          },
          "opacity": 0.8,
          "size": [
           14
          ],
          "symbol": "circle"
         },
         "mode": "markers",
         "name": "Information Services",
         "textfont": {
          "color": "#4D5663"
         },
         "type": "scatter",
         "uid": "56b4e822-5629-4dfa-9259-1ffdf7dee39f",
         "x": [
          536
         ],
         "y": [
          "Information Services"
         ]
        },
        {
         "marker": {
          "color": "rgba(128, 128, 0, 0.5692307692307692)",
          "line": {
           "width": 1.3
          },
          "opacity": 0.8,
          "size": [
           12
          ],
          "symbol": "circle"
         },
         "mode": "markers",
         "name": "Libraries",
         "textfont": {
          "color": "#4D5663"
         },
         "type": "scatter",
         "uid": "12f90415-30a4-43b1-a900-b0dd0b3f94b2",
         "x": [
          97
         ],
         "y": [
          "Libraries"
         ]
        },
        {
         "marker": {
          "color": "rgba(251, 128, 114, 0.5692307692307692)",
          "line": {
           "width": 1.3
          },
          "opacity": 0.8,
          "size": [
           14
          ],
          "symbol": "circle"
         },
         "mode": "markers",
         "name": "Environmental Services",
         "textfont": {
          "color": "#4D5663"
         },
         "type": "scatter",
         "uid": "aefb12c0-c27f-4331-a1d8-f877a0552e9d",
         "x": [
          485
         ],
         "y": [
          "Environmental Services"
         ]
        },
        {
         "marker": {
          "color": "rgba(128, 177, 211, 0.5692307692307692)",
          "line": {
           "width": 1.3
          },
          "opacity": 0.8,
          "size": [
           13
          ],
          "symbol": "circle"
         },
         "mode": "markers",
         "name": "Individual & Family Services",
         "textfont": {
          "color": "#4D5663"
         },
         "type": "scatter",
         "uid": "0f40c7ee-a9d6-4a9d-92eb-d7efa194bffe",
         "x": [
          375
         ],
         "y": [
          "Individual & Family Services"
         ]
        },
        {
         "marker": {
          "color": "rgba(255, 153, 51, 0.5692307692307692)",
          "line": {
           "width": 1.3
          },
          "opacity": 0.8,
          "size": [
           13
          ],
          "symbol": "circle"
         },
         "mode": "markers",
         "name": "Religious Institutions",
         "textfont": {
          "color": "#4D5663"
         },
         "type": "scatter",
         "uid": "ec795201-866f-4be7-ab4d-d39417820d76",
         "x": [
          300
         ],
         "y": [
          "Religious Institutions"
         ]
        },
        {
         "marker": {
          "color": "rgba(55, 128, 191, 0.5692307692307692)",
          "line": {
           "width": 1.3
          },
          "opacity": 0.8,
          "size": [
           15
          ],
          "symbol": "circle"
         },
         "mode": "markers",
         "name": "Civic & Social Organization",
         "textfont": {
          "color": "#4D5663"
         },
         "type": "scatter",
         "uid": "98a74553-7398-4406-ac70-8c2e43868fc4",
         "x": [
          630
         ],
         "y": [
          "Civic & Social Organization"
         ]
        },
        {
         "marker": {
          "color": "rgba(50, 171, 96, 0.5692307692307692)",
          "line": {
           "width": 1.3
          },
          "opacity": 0.8,
          "size": [
           14
          ],
          "symbol": "circle"
         },
         "mode": "markers",
         "name": "Consumer Services",
         "textfont": {
          "color": "#4D5663"
         },
         "type": "scatter",
         "uid": "69832ea9-2197-492f-b815-dbcf095bc7a8",
         "x": [
          461
         ],
         "y": [
          "Consumer Services"
         ]
        },
        {
         "marker": {
          "color": "rgba(50, 171, 96, 0.5076923076923077)",
          "line": {
           "width": 1.3
          },
          "opacity": 0.8,
          "size": [
           14
          ],
          "symbol": "circle"
         },
         "mode": "markers",
         "name": "Transportation/Trucking/Railroad",
         "textfont": {
          "color": "#4D5663"
         },
         "type": "scatter",
         "uid": "b45dd0d6-3e68-4af0-a794-37c3a257c81c",
         "x": [
          525
         ],
         "y": [
          "Transportation/Trucking/Railroad"
         ]
        },
        {
         "marker": {
          "color": "rgba(128, 0, 128, 0.5076923076923077)",
          "line": {
           "width": 1.3
          },
          "opacity": 0.8,
          "size": [
           12
          ],
          "symbol": "circle"
         },
         "mode": "markers",
         "name": "Airlines/Aviation",
         "textfont": {
          "color": "#4D5663"
         },
         "type": "scatter",
         "uid": "f2f6f620-dc92-46b3-a799-474222b6f7c2",
         "x": [
          186
         ],
         "y": [
          "Airlines/Aviation"
         ]
        },
        {
         "marker": {
          "color": "rgba(219, 64, 82, 0.5076923076923077)",
          "line": {
           "width": 1.3
          },
          "opacity": 0.8,
          "size": [
           50
          ],
          "symbol": "circle"
         },
         "mode": "markers",
         "name": "Information Technology and Services",
         "textfont": {
          "color": "#4D5663"
         },
         "type": "scatter",
         "uid": "adc3bf87-5e9a-46d0-830a-9ac4e74cf6a0",
         "x": [
          7797
         ],
         "y": [
          "Information Technology and Services"
         ]
        },
        {
         "marker": {
          "color": "rgba(0, 128, 128, 0.5076923076923077)",
          "line": {
           "width": 1.3
          },
          "opacity": 0.8,
          "size": [
           14
          ],
          "symbol": "circle"
         },
         "mode": "markers",
         "name": "Market Research",
         "textfont": {
          "color": "#4D5663"
         },
         "type": "scatter",
         "uid": "9e1902fa-ef14-497e-a242-de7fbdab824b",
         "x": [
          451
         ],
         "y": [
          "Market Research"
         ]
        },
        {
         "marker": {
          "color": "rgba(255, 255, 51, 0.5076923076923077)",
          "line": {
           "width": 1.3
          },
          "opacity": 0.8,
          "size": [
           14
          ],
          "symbol": "circle"
         },
         "mode": "markers",
         "name": "Public Relations and Communications",
         "textfont": {
          "color": "#4D5663"
         },
         "type": "scatter",
         "uid": "98e6ee76-f757-42ca-8a6c-32e53c49e80e",
         "x": [
          587
         ],
         "y": [
          "Public Relations and Communications"
         ]
        },
        {
         "marker": {
          "color": "rgba(128, 128, 0, 0.5076923076923077)",
          "line": {
           "width": 1.3
          },
          "opacity": 0.8,
          "size": [
           14
          ],
          "symbol": "circle"
         },
         "mode": "markers",
         "name": "Design",
         "textfont": {
          "color": "#4D5663"
         },
         "type": "scatter",
         "uid": "07ecdf9c-06e3-4a81-927e-183c6e619a8a",
         "x": [
          511
         ],
         "y": [
          "Design"
         ]
        },
        {
         "marker": {
          "color": "rgba(251, 128, 114, 0.5076923076923077)",
          "line": {
           "width": 1.3
          },
          "opacity": 0.8,
          "size": [
           28
          ],
          "symbol": "circle"
         },
         "mode": "markers",
         "name": "Nonprofit Organization Management",
         "textfont": {
          "color": "#4D5663"
         },
         "type": "scatter",
         "uid": "ee411263-67ff-4196-98d0-07cf96147374",
         "x": [
          3283
         ],
         "y": [
          "Nonprofit Organization Management"
         ]
        },
        {
         "marker": {
          "color": "rgba(128, 177, 211, 0.5076923076923077)",
          "line": {
           "width": 1.3
          },
          "opacity": 0.8,
          "size": [
           13
          ],
          "symbol": "circle"
         },
         "mode": "markers",
         "name": "Fund-Raising",
         "textfont": {
          "color": "#4D5663"
         },
         "type": "scatter",
         "uid": "be97a256-8045-4d2f-9e5e-c7319f0e6911",
         "x": [
          282
         ],
         "y": [
          "Fund-Raising"
         ]
        },
        {
         "marker": {
          "color": "rgba(255, 153, 51, 0.5076923076923077)",
          "line": {
           "width": 1.3
          },
          "opacity": 0.8,
          "size": [
           12
          ],
          "symbol": "circle"
         },
         "mode": "markers",
         "name": "Program Development",
         "textfont": {
          "color": "#4D5663"
         },
         "type": "scatter",
         "uid": "b2f3d7d0-db5b-4f88-a67d-3c97b6eb2529",
         "x": [
          163
         ],
         "y": [
          "Program Development"
         ]
        },
        {
         "marker": {
          "color": "rgba(55, 128, 191, 0.5076923076923077)",
          "line": {
           "width": 1.3
          },
          "opacity": 0.8,
          "size": [
           13
          ],
          "symbol": "circle"
         },
         "mode": "markers",
         "name": "Writing and Editing",
         "textfont": {
          "color": "#4D5663"
         },
         "type": "scatter",
         "uid": "7f156937-89fc-4fc5-a907-b20ec2961a73",
         "x": [
          391
         ],
         "y": [
          "Writing and Editing"
         ]
        },
        {
         "marker": {
          "color": "rgba(55, 128, 191, 0.4461538461538462)",
          "line": {
           "width": 1.3
          },
          "opacity": 0.8,
          "size": [
           22
          ],
          "symbol": "circle"
         },
         "mode": "markers",
         "name": "Staffing and Recruiting",
         "textfont": {
          "color": "#4D5663"
         },
         "type": "scatter",
         "uid": "be1531d2-0d4b-4ec3-b6c0-235b4732d5e9",
         "x": [
          2046
         ],
         "y": [
          "Staffing and Recruiting"
         ]
        },
        {
         "marker": {
          "color": "rgba(50, 171, 96, 0.4461538461538462)",
          "line": {
           "width": 1.3
          },
          "opacity": 0.8,
          "size": [
           16
          ],
          "symbol": "circle"
         },
         "mode": "markers",
         "name": "Professional Training & Coaching",
         "textfont": {
          "color": "#4D5663"
         },
         "type": "scatter",
         "uid": "2704b4a3-424a-4bb9-9716-6f99fd1f9ac6",
         "x": [
          948
         ],
         "y": [
          "Professional Training & Coaching"
         ]
        },
        {
         "marker": {
          "color": "rgba(128, 0, 128, 0.4461538461538462)",
          "line": {
           "width": 1.3
          },
          "opacity": 0.8,
          "size": [
           14
          ],
          "symbol": "circle"
         },
         "mode": "markers",
         "name": "Venture Capital & Private Equity",
         "textfont": {
          "color": "#4D5663"
         },
         "type": "scatter",
         "uid": "7e1e1d0e-3cd6-4988-bae4-cba546478aa0",
         "x": [
          492
         ],
         "y": [
          "Venture Capital & Private Equity"
         ]
        },
        {
         "marker": {
          "color": "rgba(219, 64, 82, 0.4461538461538462)",
          "line": {
           "width": 1.3
          },
          "opacity": 0.8,
          "size": [
           12
          ],
          "symbol": "circle"
         },
         "mode": "markers",
         "name": "Political Organization",
         "textfont": {
          "color": "#4D5663"
         },
         "type": "scatter",
         "uid": "967b1f46-4155-41ad-9974-a4fd65a5c49d",
         "x": [
          8
         ],
         "y": [
          "Political Organization"
         ]
        },
        {
         "marker": {
          "color": "rgba(0, 128, 128, 0.4461538461538462)",
          "line": {
           "width": 1.3
          },
          "opacity": 0.8,
          "size": [
           12
          ],
          "symbol": "circle"
         },
         "mode": "markers",
         "name": "Translation and Localization",
         "textfont": {
          "color": "#4D5663"
         },
         "type": "scatter",
         "uid": "8217cb85-1780-4b5f-8fee-e29f932561e2",
         "x": [
          3
         ],
         "y": [
          "Translation and Localization"
         ]
        },
        {
         "marker": {
          "color": "rgba(255, 255, 51, 0.4461538461538462)",
          "line": {
           "width": 1.3
          },
          "opacity": 0.8,
          "size": [
           12
          ],
          "symbol": "circle"
         },
         "mode": "markers",
         "name": "Computer Games",
         "textfont": {
          "color": "#4D5663"
         },
         "type": "scatter",
         "uid": "3230234b-c2f9-47ba-a8ed-28857de61fee",
         "x": [
          2
         ],
         "y": [
          "Computer Games"
         ]
        },
        {
         "marker": {
          "color": "rgba(128, 128, 0, 0.4461538461538462)",
          "line": {
           "width": 1.3
          },
          "opacity": 0.8,
          "size": [
           13
          ],
          "symbol": "circle"
         },
         "mode": "markers",
         "name": "Events Services",
         "textfont": {
          "color": "#4D5663"
         },
         "type": "scatter",
         "uid": "a7eb3b12-d900-4ab0-a27c-cc95c6f60d33",
         "x": [
          388
         ],
         "y": [
          "Events Services"
         ]
        },
        {
         "marker": {
          "color": "rgba(251, 128, 114, 0.4461538461538462)",
          "line": {
           "width": 1.3
          },
          "opacity": 0.8,
          "size": [
           12
          ],
          "symbol": "circle"
         },
         "mode": "markers",
         "name": "Arts and Crafts",
         "textfont": {
          "color": "#4D5663"
         },
         "type": "scatter",
         "uid": "e5ae551c-1f43-42f6-9300-f5bcf1908c62",
         "x": [
          13
         ],
         "y": [
          "Arts and Crafts"
         ]
        },
        {
         "marker": {
          "color": "rgba(128, 177, 211, 0.4461538461538462)",
          "line": {
           "width": 1.3
          },
          "opacity": 0.8,
          "size": [
           15
          ],
          "symbol": "circle"
         },
         "mode": "markers",
         "name": "Electrical/Electronic Manufacturing",
         "textfont": {
          "color": "#4D5663"
         },
         "type": "scatter",
         "uid": "db7a34b4-d793-4d9a-acee-87559d67fa9d",
         "x": [
          668
         ],
         "y": [
          "Electrical/Electronic Manufacturing"
         ]
        },
        {
         "marker": {
          "color": "rgba(255, 153, 51, 0.4461538461538462)",
          "line": {
           "width": 1.3
          },
          "opacity": 0.8,
          "size": [
           13
          ],
          "symbol": "circle"
         },
         "mode": "markers",
         "name": "Online Media",
         "textfont": {
          "color": "#4D5663"
         },
         "type": "scatter",
         "uid": "5d64ce08-d63f-48d5-b698-f43cb76d6fa6",
         "x": [
          408
         ],
         "y": [
          "Online Media"
         ]
        },
        {
         "marker": {
          "color": "rgba(255, 153, 51, 0.38461538461538464)",
          "line": {
           "width": 1.3
          },
          "opacity": 0.8,
          "size": [
           14
          ],
          "symbol": "circle"
         },
         "mode": "markers",
         "name": "Music",
         "textfont": {
          "color": "#4D5663"
         },
         "type": "scatter",
         "uid": "363d20a9-97f0-4c52-99aa-e996948003ae",
         "x": [
          575
         ],
         "y": [
          "Music"
         ]
        },
        {
         "marker": {
          "color": "rgba(55, 128, 191, 0.38461538461538464)",
          "line": {
           "width": 1.3
          },
          "opacity": 0.8,
          "size": [
           16
          ],
          "symbol": "circle"
         },
         "mode": "markers",
         "name": "Logistics and Supply Chain",
         "textfont": {
          "color": "#4D5663"
         },
         "type": "scatter",
         "uid": "373d3bbd-0c67-49ca-bcd9-9cc604799e3b",
         "x": [
          827
         ],
         "y": [
          "Logistics and Supply Chain"
         ]
        },
        {
         "marker": {
          "color": "rgba(50, 171, 96, 0.38461538461538464)",
          "line": {
           "width": 1.3
          },
          "opacity": 0.8,
          "size": [
           12
          ],
          "symbol": "circle"
         },
         "mode": "markers",
         "name": "Plastics",
         "textfont": {
          "color": "#4D5663"
         },
         "type": "scatter",
         "uid": "d6ee09b6-bfa8-4e4d-9a30-4844427bf5a4",
         "x": [
          6
         ],
         "y": [
          "Plastics"
         ]
        },
        {
         "marker": {
          "color": "rgba(128, 0, 128, 0.38461538461538464)",
          "line": {
           "width": 1.3
          },
          "opacity": 0.8,
          "size": [
           13
          ],
          "symbol": "circle"
         },
         "mode": "markers",
         "name": "Computer & Network Security",
         "textfont": {
          "color": "#4D5663"
         },
         "type": "scatter",
         "uid": "6ead730a-bb58-4e88-80b3-b5597a9166fb",
         "x": [
          277
         ],
         "y": [
          "Computer & Network Security"
         ]
        },
        {
         "marker": {
          "color": "rgba(219, 64, 82, 0.38461538461538464)",
          "line": {
           "width": 1.3
          },
          "opacity": 0.8,
          "size": [
           12
          ],
          "symbol": "circle"
         },
         "mode": "markers",
         "name": "Security and Investigations",
         "textfont": {
          "color": "#4D5663"
         },
         "type": "scatter",
         "uid": "05f80f98-9c70-4e9b-9f1f-8647b420331c",
         "x": [
          19
         ],
         "y": [
          "Security and Investigations"
         ]
        },
        {
         "marker": {
          "color": "rgba(0, 128, 128, 0.38461538461538464)",
          "line": {
           "width": 1.3
          },
          "opacity": 0.8,
          "size": [
           13
          ],
          "symbol": "circle"
         },
         "mode": "markers",
         "name": "Facilities Services",
         "textfont": {
          "color": "#4D5663"
         },
         "type": "scatter",
         "uid": "543da522-94ac-4e12-bc59-4174ea83f3d7",
         "x": [
          276
         ],
         "y": [
          "Facilities Services"
         ]
        },
        {
         "marker": {
          "color": "rgba(255, 255, 51, 0.38461538461538464)",
          "line": {
           "width": 1.3
          },
          "opacity": 0.8,
          "size": [
           14
          ],
          "symbol": "circle"
         },
         "mode": "markers",
         "name": "Outsourcing/Offshoring",
         "textfont": {
          "color": "#4D5663"
         },
         "type": "scatter",
         "uid": "eda2d460-beef-40d3-8162-6a227816152e",
         "x": [
          545
         ],
         "y": [
          "Outsourcing/Offshoring"
         ]
        },
        {
         "marker": {
          "color": "rgba(128, 128, 0, 0.38461538461538464)",
          "line": {
           "width": 1.3
          },
          "opacity": 0.8,
          "size": [
           19
          ],
          "symbol": "circle"
         },
         "mode": "markers",
         "name": "Health, Wellness and Fitness",
         "textfont": {
          "color": "#4D5663"
         },
         "type": "scatter",
         "uid": "bffbde1e-f7b9-4960-a398-3b4373d94693",
         "x": [
          1511
         ],
         "y": [
          "Health, Wellness and Fitness"
         ]
        },
        {
         "marker": {
          "color": "rgba(251, 128, 114, 0.38461538461538464)",
          "line": {
           "width": 1.3
          },
          "opacity": 0.8,
          "size": [
           14
          ],
          "symbol": "circle"
         },
         "mode": "markers",
         "name": "Media Production",
         "textfont": {
          "color": "#4D5663"
         },
         "type": "scatter",
         "uid": "e2a9c50d-9f65-4512-88aa-da99c093c8d0",
         "x": [
          538
         ],
         "y": [
          "Media Production"
         ]
        },
        {
         "marker": {
          "color": "rgba(128, 177, 211, 0.38461538461538464)",
          "line": {
           "width": 1.3
          },
          "opacity": 0.8,
          "size": [
           12
          ],
          "symbol": "circle"
         },
         "mode": "markers",
         "name": "Animation",
         "textfont": {
          "color": "#4D5663"
         },
         "type": "scatter",
         "uid": "2c9009ae-7246-4adc-9b35-55bb3132cdd0",
         "x": [
          4
         ],
         "y": [
          "Animation"
         ]
        },
        {
         "marker": {
          "color": "rgba(128, 177, 211, 0.3230769230769231)",
          "line": {
           "width": 1.3
          },
          "opacity": 0.8,
          "size": [
           13
          ],
          "symbol": "circle"
         },
         "mode": "markers",
         "name": "Commercial Real Estate",
         "textfont": {
          "color": "#4D5663"
         },
         "type": "scatter",
         "uid": "52df663c-d2ca-413d-821d-29f900b9cd5d",
         "x": [
          268
         ],
         "y": [
          "Commercial Real Estate"
         ]
        },
        {
         "marker": {
          "color": "rgba(255, 153, 51, 0.3230769230769231)",
          "line": {
           "width": 1.3
          },
          "opacity": 0.8,
          "size": [
           12
          ],
          "symbol": "circle"
         },
         "mode": "markers",
         "name": "Capital Markets",
         "textfont": {
          "color": "#4D5663"
         },
         "type": "scatter",
         "uid": "eb9050b9-eb4c-44a2-b659-d708444623c5",
         "x": [
          1
         ],
         "y": [
          "Capital Markets"
         ]
        },
        {
         "marker": {
          "color": "rgba(55, 128, 191, 0.3230769230769231)",
          "line": {
           "width": 1.3
          },
          "opacity": 0.8,
          "size": [
           12
          ],
          "symbol": "circle"
         },
         "mode": "markers",
         "name": "Think Tanks",
         "textfont": {
          "color": "#4D5663"
         },
         "type": "scatter",
         "uid": "9a7fe6ef-f2b3-42a2-aa7c-a45f565fa4ff",
         "x": [
          1
         ],
         "y": [
          "Think Tanks"
         ]
        },
        {
         "marker": {
          "color": "rgba(50, 171, 96, 0.3230769230769231)",
          "line": {
           "width": 1.3
          },
          "opacity": 0.8,
          "size": [
           14
          ],
          "symbol": "circle"
         },
         "mode": "markers",
         "name": "Philanthropy",
         "textfont": {
          "color": "#4D5663"
         },
         "type": "scatter",
         "uid": "522a654f-919d-4b88-a3ef-8f4424fa1637",
         "x": [
          413
         ],
         "y": [
          "Philanthropy"
         ]
        },
        {
         "marker": {
          "color": "rgba(128, 0, 128, 0.3230769230769231)",
          "line": {
           "width": 1.3
          },
          "opacity": 0.8,
          "size": [
           14
          ],
          "symbol": "circle"
         },
         "mode": "markers",
         "name": "E-Learning",
         "textfont": {
          "color": "#4D5663"
         },
         "type": "scatter",
         "uid": "87d5f120-f06e-41ad-bb3e-308b5e06ba4e",
         "x": [
          519
         ],
         "y": [
          "E-Learning"
         ]
        },
        {
         "marker": {
          "color": "rgba(219, 64, 82, 0.3230769230769231)",
          "line": {
           "width": 1.3
          },
          "opacity": 0.8,
          "size": [
           13
          ],
          "symbol": "circle"
         },
         "mode": "markers",
         "name": "Wholesale",
         "textfont": {
          "color": "#4D5663"
         },
         "type": "scatter",
         "uid": "6e3b6a5c-1deb-4edb-b5b5-4897872bc779",
         "x": [
          348
         ],
         "y": [
          "Wholesale"
         ]
        },
        {
         "marker": {
          "color": "rgba(0, 128, 128, 0.3230769230769231)",
          "line": {
           "width": 1.3
          },
          "opacity": 0.8,
          "size": [
           14
          ],
          "symbol": "circle"
         },
         "mode": "markers",
         "name": "Mechanical or Industrial Engineering",
         "textfont": {
          "color": "#4D5663"
         },
         "type": "scatter",
         "uid": "e9315bd3-86bb-4870-90dc-84687ba9781f",
         "x": [
          444
         ],
         "y": [
          "Mechanical or Industrial Engineering"
         ]
        },
        {
         "marker": {
          "color": "rgba(255, 255, 51, 0.3230769230769231)",
          "line": {
           "width": 1.3
          },
          "opacity": 0.8,
          "size": [
           12
          ],
          "symbol": "circle"
         },
         "mode": "markers",
         "name": "Photography",
         "textfont": {
          "color": "#4D5663"
         },
         "type": "scatter",
         "uid": "706331ac-d4f4-4cd4-91ea-e614c05a1c58",
         "x": [
          32
         ],
         "y": [
          "Photography"
         ]
        },
        {
         "marker": {
          "color": "rgba(128, 128, 0, 0.3230769230769231)",
          "line": {
           "width": 1.3
          },
          "opacity": 0.8,
          "size": [
           15
          ],
          "symbol": "circle"
         },
         "mode": "markers",
         "name": "Human Resources",
         "textfont": {
          "color": "#4D5663"
         },
         "type": "scatter",
         "uid": "2e037d93-c65e-498e-bd6f-840904dc8305",
         "x": [
          786
         ],
         "y": [
          "Human Resources"
         ]
        },
        {
         "marker": {
          "color": "rgba(251, 128, 114, 0.3230769230769231)",
          "line": {
           "width": 1.3
          },
          "opacity": 0.8,
          "size": [
           13
          ],
          "symbol": "circle"
         },
         "mode": "markers",
         "name": "Business Supplies and Equipment",
         "textfont": {
          "color": "#4D5663"
         },
         "type": "scatter",
         "uid": "7fd9ddb1-5259-4667-ae4d-c9d2c6c7d860",
         "x": [
          210
         ],
         "y": [
          "Business Supplies and Equipment"
         ]
        },
        {
         "marker": {
          "color": "rgba(251, 128, 114, 0.26153846153846155)",
          "line": {
           "width": 1.3
          },
          "opacity": 0.8,
          "size": [
           14
          ],
          "symbol": "circle"
         },
         "mode": "markers",
         "name": "Mental Health Care",
         "textfont": {
          "color": "#4D5663"
         },
         "type": "scatter",
         "uid": "793b7285-3f84-48c3-af91-2256b7fdd52b",
         "x": [
          433
         ],
         "y": [
          "Mental Health Care"
         ]
        },
        {
         "marker": {
          "color": "rgba(128, 177, 211, 0.26153846153846155)",
          "line": {
           "width": 1.3
          },
          "opacity": 0.8,
          "size": [
           12
          ],
          "symbol": "circle"
         },
         "mode": "markers",
         "name": "Graphic Design",
         "textfont": {
          "color": "#4D5663"
         },
         "type": "scatter",
         "uid": "9c3aa59c-330d-476b-b748-1a5c85c9d9e5",
         "x": [
          103
         ],
         "y": [
          "Graphic Design"
         ]
        },
        {
         "marker": {
          "color": "rgba(255, 153, 51, 0.26153846153846155)",
          "line": {
           "width": 1.3
          },
          "opacity": 0.8,
          "size": [
           13
          ],
          "symbol": "circle"
         },
         "mode": "markers",
         "name": "International Trade and Development",
         "textfont": {
          "color": "#4D5663"
         },
         "type": "scatter",
         "uid": "dc004d1a-ba58-47e4-9dc0-f2dcde47ef02",
         "x": [
          251
         ],
         "y": [
          "International Trade and Development"
         ]
        },
        {
         "marker": {
          "color": "rgba(55, 128, 191, 0.26153846153846155)",
          "line": {
           "width": 1.3
          },
          "opacity": 0.8,
          "size": [
           12
          ],
          "symbol": "circle"
         },
         "mode": "markers",
         "name": "Wine and Spirits",
         "textfont": {
          "color": "#4D5663"
         },
         "type": "scatter",
         "uid": "ce25c32e-4c7b-4590-9e81-fd552c4ebe45",
         "x": [
          2
         ],
         "y": [
          "Wine and Spirits"
         ]
        },
        {
         "marker": {
          "color": "rgba(50, 171, 96, 0.26153846153846155)",
          "line": {
           "width": 1.3
          },
          "opacity": 0.8,
          "size": [
           12
          ],
          "symbol": "circle"
         },
         "mode": "markers",
         "name": "Luxury Goods & Jewelry",
         "textfont": {
          "color": "#4D5663"
         },
         "type": "scatter",
         "uid": "e2017a59-9415-433a-805f-eefdd52819e2",
         "x": [
          6
         ],
         "y": [
          "Luxury Goods & Jewelry"
         ]
        },
        {
         "marker": {
          "color": "rgba(128, 0, 128, 0.26153846153846155)",
          "line": {
           "width": 1.3
          },
          "opacity": 0.8,
          "size": [
           13
          ],
          "symbol": "circle"
         },
         "mode": "markers",
         "name": "Renewables & Environment",
         "textfont": {
          "color": "#4D5663"
         },
         "type": "scatter",
         "uid": "87911ecb-6a1d-443d-9de6-90365db30e14",
         "x": [
          256
         ],
         "y": [
          "Renewables & Environment"
         ]
        },
        {
         "marker": {
          "color": "rgba(219, 64, 82, 0.26153846153846155)",
          "line": {
           "width": 1.3
          },
          "opacity": 0.8,
          "size": [
           12
          ],
          "symbol": "circle"
         },
         "mode": "markers",
         "name": "Glass, Ceramics & Concrete",
         "textfont": {
          "color": "#4D5663"
         },
         "type": "scatter",
         "uid": "e06da05b-79ad-46a3-8ea3-e45fd68a603b",
         "x": [
          1
         ],
         "y": [
          "Glass, Ceramics & Concrete"
         ]
        },
        {
         "marker": {
          "color": "rgba(0, 128, 128, 0.26153846153846155)",
          "line": {
           "width": 1.3
          },
          "opacity": 0.8,
          "size": [
           12
          ],
          "symbol": "circle"
         },
         "mode": "markers",
         "name": "Packaging and Containers",
         "textfont": {
          "color": "#4D5663"
         },
         "type": "scatter",
         "uid": "8d9e434f-c2f1-450f-9f66-9cb9c687b361",
         "x": [
          8
         ],
         "y": [
          "Packaging and Containers"
         ]
        },
        {
         "marker": {
          "color": "rgba(255, 255, 51, 0.26153846153846155)",
          "line": {
           "width": 1.3
          },
          "opacity": 0.8,
          "size": [
           12
          ],
          "symbol": "circle"
         },
         "mode": "markers",
         "name": "Industrial Automation",
         "textfont": {
          "color": "#4D5663"
         },
         "type": "scatter",
         "uid": "118ece5b-8dc0-4e2f-b82f-cb2cfefb61f9",
         "x": [
          3
         ],
         "y": [
          "Industrial Automation"
         ]
        },
        {
         "marker": {
          "color": "rgba(128, 128, 0, 0.26153846153846155)",
          "line": {
           "width": 1.3
          },
          "opacity": 0.8,
          "size": [
           13
          ],
          "symbol": "circle"
         },
         "mode": "markers",
         "name": "Government Relations",
         "textfont": {
          "color": "#4D5663"
         },
         "type": "scatter",
         "uid": "286259f8-7e31-4ec6-801f-f38512478626",
         "x": [
          215
         ],
         "y": [
          "Government Relations"
         ]
        }
       ],
       "layout": {
        "legend": {
         "bgcolor": "#F5F6F9",
         "font": {
          "color": "#4D5663"
         }
        },
        "paper_bgcolor": "#F5F6F9",
        "plot_bgcolor": "#F5F6F9",
        "title": {
         "font": {
          "color": "#4D5663"
         },
         "text": "Plot Sized by Total Views and Colored by Industry"
        },
        "xaxis": {
         "gridcolor": "#E1E5ED",
         "showgrid": true,
         "tickfont": {
          "color": "#4D5663"
         },
         "title": {
          "font": {
           "color": "#4D5663"
          },
          "text": "Total views"
         },
         "zerolinecolor": "#E1E5ED"
        },
        "yaxis": {
         "gridcolor": "#E1E5ED",
         "showgrid": true,
         "tickfont": {
          "color": "#4D5663"
         },
         "title": {
          "font": {
           "color": "#4D5663"
          },
          "text": "Industry"
         },
         "zerolinecolor": "#E1E5ED"
        }
       }
      },
      "text/html": [
       "<div>\n",
       "        \n",
       "        \n",
       "            <div id=\"a4451ffa-b5c9-4f42-a169-90b9130a7cf9\" class=\"plotly-graph-div\" style=\"height:525px; width:100%;\"></div>\n",
       "            <script type=\"text/javascript\">\n",
       "                require([\"plotly\"], function(Plotly) {\n",
       "                    window.PLOTLYENV=window.PLOTLYENV || {};\n",
       "                    window.PLOTLYENV.BASE_URL='https://plot.ly';\n",
       "                    \n",
       "                if (document.getElementById(\"a4451ffa-b5c9-4f42-a169-90b9130a7cf9\")) {\n",
       "                    Plotly.newPlot(\n",
       "                        'a4451ffa-b5c9-4f42-a169-90b9130a7cf9',\n",
       "                        [{\"marker\": {\"color\": \"rgba(255, 153, 51, 1.0)\", \"line\": {\"width\": 1.3}, \"opacity\": 0.8, \"size\": [14], \"symbol\": \"circle\"}, \"mode\": \"markers\", \"name\": \"Defense & Space\", \"textfont\": {\"color\": \"#4D5663\"}, \"type\": \"scatter\", \"uid\": \"e4b3657b-cfee-4bef-a6b1-3f4db5d698fe\", \"x\": [431], \"y\": [\"Defense & Space\"]}, {\"marker\": {\"color\": \"rgba(55, 128, 191, 1.0)\", \"line\": {\"width\": 1.3}, \"opacity\": 0.8, \"size\": [12], \"symbol\": \"circle\"}, \"mode\": \"markers\", \"name\": \"Computer Hardware\", \"textfont\": {\"color\": \"#4D5663\"}, \"type\": \"scatter\", \"uid\": \"5e803f66-0d5e-48da-9b2a-5d189cf2464e\", \"x\": [2], \"y\": [\"Computer Hardware\"]}, {\"marker\": {\"color\": \"rgba(50, 171, 96, 1.0)\", \"line\": {\"width\": 1.3}, \"opacity\": 0.8, \"size\": [30], \"symbol\": \"circle\"}, \"mode\": \"markers\", \"name\": \"Computer Software\", \"textfont\": {\"color\": \"#4D5663\"}, \"type\": \"scatter\", \"uid\": \"51fe1f34-bf5d-46eb-99a0-1a14ab09fcc1\", \"x\": [3815], \"y\": [\"Computer Software\"]}, {\"marker\": {\"color\": \"rgba(128, 0, 128, 1.0)\", \"line\": {\"width\": 1.3}, \"opacity\": 0.8, \"size\": [12], \"symbol\": \"circle\"}, \"mode\": \"markers\", \"name\": \"Computer Networking\", \"textfont\": {\"color\": \"#4D5663\"}, \"type\": \"scatter\", \"uid\": \"4af4acdf-5627-4c56-bcad-3c493fb70bb5\", \"x\": [115], \"y\": [\"Computer Networking\"]}, {\"marker\": {\"color\": \"rgba(219, 64, 82, 1.0)\", \"line\": {\"width\": 1.3}, \"opacity\": 0.8, \"size\": [29], \"symbol\": \"circle\"}, \"mode\": \"markers\", \"name\": \"Internet\", \"textfont\": {\"color\": \"#4D5663\"}, \"type\": \"scatter\", \"uid\": \"6902f2f0-3da6-4a30-a825-0e9e3ba44286\", \"x\": [3469], \"y\": [\"Internet\"]}, {\"marker\": {\"color\": \"rgba(0, 128, 128, 1.0)\", \"line\": {\"width\": 1.3}, \"opacity\": 0.8, \"size\": [12], \"symbol\": \"circle\"}, \"mode\": \"markers\", \"name\": \"Semiconductors\", \"textfont\": {\"color\": \"#4D5663\"}, \"type\": \"scatter\", \"uid\": \"b6dccf62-0913-44bf-9874-f60edddddcbb\", \"x\": [183], \"y\": [\"Semiconductors\"]}, {\"marker\": {\"color\": \"rgba(255, 255, 51, 1.0)\", \"line\": {\"width\": 1.3}, \"opacity\": 0.8, \"size\": [16], \"symbol\": \"circle\"}, \"mode\": \"markers\", \"name\": \"Telecommunications\", \"textfont\": {\"color\": \"#4D5663\"}, \"type\": \"scatter\", \"uid\": \"8bf9b8db-a5ea-47c8-b896-e767bc841bf8\", \"x\": [963], \"y\": [\"Telecommunications\"]}, {\"marker\": {\"color\": \"rgba(128, 128, 0, 1.0)\", \"line\": {\"width\": 1.3}, \"opacity\": 0.8, \"size\": [17], \"symbol\": \"circle\"}, \"mode\": \"markers\", \"name\": \"Law Practice\", \"textfont\": {\"color\": \"#4D5663\"}, \"type\": \"scatter\", \"uid\": \"fbab4f91-d1c0-46af-8af2-f4a922cfde5f\", \"x\": [1097], \"y\": [\"Law Practice\"]}, {\"marker\": {\"color\": \"rgba(251, 128, 114, 1.0)\", \"line\": {\"width\": 1.3}, \"opacity\": 0.8, \"size\": [14], \"symbol\": \"circle\"}, \"mode\": \"markers\", \"name\": \"Legal Services\", \"textfont\": {\"color\": \"#4D5663\"}, \"type\": \"scatter\", \"uid\": \"0aa9f850-fc6d-4dbd-b5af-5e19c9abe065\", \"x\": [575], \"y\": [\"Legal Services\"]}, {\"marker\": {\"color\": \"rgba(128, 177, 211, 1.0)\", \"line\": {\"width\": 1.3}, \"opacity\": 0.8, \"size\": [25], \"symbol\": \"circle\"}, \"mode\": \"markers\", \"name\": \"Management Consulting\", \"textfont\": {\"color\": \"#4D5663\"}, \"type\": \"scatter\", \"uid\": \"06628771-9a77-4524-a62f-022f3613ccb2\", \"x\": [2818], \"y\": [\"Management Consulting\"]}, {\"marker\": {\"color\": \"rgba(128, 177, 211, 0.9384615384615385)\", \"line\": {\"width\": 1.3}, \"opacity\": 0.8, \"size\": [16], \"symbol\": \"circle\"}, \"mode\": \"markers\", \"name\": \"Biotechnology\", \"textfont\": {\"color\": \"#4D5663\"}, \"type\": \"scatter\", \"uid\": \"0c9b827a-7bd2-4d9e-89af-89fba25ec797\", \"x\": [845], \"y\": [\"Biotechnology\"]}, {\"marker\": {\"color\": \"rgba(255, 153, 51, 0.9384615384615385)\", \"line\": {\"width\": 1.3}, \"opacity\": 0.8, \"size\": [14], \"symbol\": \"circle\"}, \"mode\": \"markers\", \"name\": \"Medical Practice\", \"textfont\": {\"color\": \"#4D5663\"}, \"type\": \"scatter\", \"uid\": \"c9dbac38-622a-4f6a-8398-2d0f28fd7535\", \"x\": [437], \"y\": [\"Medical Practice\"]}, {\"marker\": {\"color\": \"rgba(55, 128, 191, 0.9384615384615385)\", \"line\": {\"width\": 1.3}, \"opacity\": 0.8, \"size\": [33], \"symbol\": \"circle\"}, \"mode\": \"markers\", \"name\": \"Hospital & Health Care\", \"textfont\": {\"color\": \"#4D5663\"}, \"type\": \"scatter\", \"uid\": \"072229f0-28c3-4f5b-a7fc-a22237fe3d98\", \"x\": [4371], \"y\": [\"Hospital & Health Care\"]}, {\"marker\": {\"color\": \"rgba(50, 171, 96, 0.9384615384615385)\", \"line\": {\"width\": 1.3}, \"opacity\": 0.8, \"size\": [18], \"symbol\": \"circle\"}, \"mode\": \"markers\", \"name\": \"Pharmaceuticals\", \"textfont\": {\"color\": \"#4D5663\"}, \"type\": \"scatter\", \"uid\": \"b18c31ad-b9a7-400f-a1fa-b81827849543\", \"x\": [1232], \"y\": [\"Pharmaceuticals\"]}, {\"marker\": {\"color\": \"rgba(128, 0, 128, 0.9384615384615385)\", \"line\": {\"width\": 1.3}, \"opacity\": 0.8, \"size\": [16], \"symbol\": \"circle\"}, \"mode\": \"markers\", \"name\": \"Medical Devices\", \"textfont\": {\"color\": \"#4D5663\"}, \"type\": \"scatter\", \"uid\": \"b5533c5b-3850-45b3-b46c-bb02d2bcef83\", \"x\": [982], \"y\": [\"Medical Devices\"]}, {\"marker\": {\"color\": \"rgba(219, 64, 82, 0.9384615384615385)\", \"line\": {\"width\": 1.3}, \"opacity\": 0.8, \"size\": [12], \"symbol\": \"circle\"}, \"mode\": \"markers\", \"name\": \"Cosmetics\", \"textfont\": {\"color\": \"#4D5663\"}, \"type\": \"scatter\", \"uid\": \"192ed8ab-48f4-48de-9fab-98f45c243052\", \"x\": [128], \"y\": [\"Cosmetics\"]}, {\"marker\": {\"color\": \"rgba(0, 128, 128, 0.9384615384615385)\", \"line\": {\"width\": 1.3}, \"opacity\": 0.8, \"size\": [15], \"symbol\": \"circle\"}, \"mode\": \"markers\", \"name\": \"Apparel & Fashion\", \"textfont\": {\"color\": \"#4D5663\"}, \"type\": \"scatter\", \"uid\": \"97ecb453-44d6-4aba-a6f6-d5a0bc31bcee\", \"x\": [617], \"y\": [\"Apparel & Fashion\"]}, {\"marker\": {\"color\": \"rgba(255, 255, 51, 0.9384615384615385)\", \"line\": {\"width\": 1.3}, \"opacity\": 0.8, \"size\": [12], \"symbol\": \"circle\"}, \"mode\": \"markers\", \"name\": \"Sporting Goods\", \"textfont\": {\"color\": \"#4D5663\"}, \"type\": \"scatter\", \"uid\": \"8a0cf075-56c0-4c64-9fd7-d42de87f4de9\", \"x\": [125], \"y\": [\"Sporting Goods\"]}, {\"marker\": {\"color\": \"rgba(128, 128, 0, 0.9384615384615385)\", \"line\": {\"width\": 1.3}, \"opacity\": 0.8, \"size\": [12], \"symbol\": \"circle\"}, \"mode\": \"markers\", \"name\": \"Supermarkets\", \"textfont\": {\"color\": \"#4D5663\"}, \"type\": \"scatter\", \"uid\": \"dc4b80bb-8c9f-4a41-97a1-d964e16693b7\", \"x\": [1], \"y\": [\"Supermarkets\"]}, {\"marker\": {\"color\": \"rgba(251, 128, 114, 0.9384615384615385)\", \"line\": {\"width\": 1.3}, \"opacity\": 0.8, \"size\": [13], \"symbol\": \"circle\"}, \"mode\": \"markers\", \"name\": \"Food Production\", \"textfont\": {\"color\": \"#4D5663\"}, \"type\": \"scatter\", \"uid\": \"5c184973-414f-4de7-a6f0-8e808cd52218\", \"x\": [371], \"y\": [\"Food Production\"]}, {\"marker\": {\"color\": \"rgba(251, 128, 114, 0.8769230769230769)\", \"line\": {\"width\": 1.3}, \"opacity\": 0.8, \"size\": [13], \"symbol\": \"circle\"}, \"mode\": \"markers\", \"name\": \"Consumer Electronics\", \"textfont\": {\"color\": \"#4D5663\"}, \"type\": \"scatter\", \"uid\": \"2430ce15-4e07-4951-bf17-e56fa79515ae\", \"x\": [371], \"y\": [\"Consumer Electronics\"]}, {\"marker\": {\"color\": \"rgba(128, 177, 211, 0.8769230769230769)\", \"line\": {\"width\": 1.3}, \"opacity\": 0.8, \"size\": [17], \"symbol\": \"circle\"}, \"mode\": \"markers\", \"name\": \"Consumer Goods\", \"textfont\": {\"color\": \"#4D5663\"}, \"type\": \"scatter\", \"uid\": \"2c9dbce8-563d-4cae-85f0-3822af24b711\", \"x\": [1020], \"y\": [\"Consumer Goods\"]}, {\"marker\": {\"color\": \"rgba(255, 153, 51, 0.8769230769230769)\", \"line\": {\"width\": 1.3}, \"opacity\": 0.8, \"size\": [12], \"symbol\": \"circle\"}, \"mode\": \"markers\", \"name\": \"Furniture\", \"textfont\": {\"color\": \"#4D5663\"}, \"type\": \"scatter\", \"uid\": \"1d269f97-949a-4a0f-820e-726c332c4868\", \"x\": [91], \"y\": [\"Furniture\"]}, {\"marker\": {\"color\": \"rgba(55, 128, 191, 0.8769230769230769)\", \"line\": {\"width\": 1.3}, \"opacity\": 0.8, \"size\": [25], \"symbol\": \"circle\"}, \"mode\": \"markers\", \"name\": \"Retail\", \"textfont\": {\"color\": \"#4D5663\"}, \"type\": \"scatter\", \"uid\": \"a9de2f69-e3f8-4362-8263-3b3f500f48c8\", \"x\": [2671], \"y\": [\"Retail\"]}, {\"marker\": {\"color\": \"rgba(50, 171, 96, 0.8769230769230769)\", \"line\": {\"width\": 1.3}, \"opacity\": 0.8, \"size\": [17], \"symbol\": \"circle\"}, \"mode\": \"markers\", \"name\": \"Entertainment\", \"textfont\": {\"color\": \"#4D5663\"}, \"type\": \"scatter\", \"uid\": \"b62a03c0-1728-4daf-a5ad-58faf8b0fa23\", \"x\": [1037], \"y\": [\"Entertainment\"]}, {\"marker\": {\"color\": \"rgba(128, 0, 128, 0.8769230769230769)\", \"line\": {\"width\": 1.3}, \"opacity\": 0.8, \"size\": [13], \"symbol\": \"circle\"}, \"mode\": \"markers\", \"name\": \"Leisure, Travel & Tourism\", \"textfont\": {\"color\": \"#4D5663\"}, \"type\": \"scatter\", \"uid\": \"3b20ffb3-8064-4e0b-8cfa-1c2e2116ac24\", \"x\": [341], \"y\": [\"Leisure, Travel & Tourism\"]}, {\"marker\": {\"color\": \"rgba(219, 64, 82, 0.8769230769230769)\", \"line\": {\"width\": 1.3}, \"opacity\": 0.8, \"size\": [16], \"symbol\": \"circle\"}, \"mode\": \"markers\", \"name\": \"Hospitality\", \"textfont\": {\"color\": \"#4D5663\"}, \"type\": \"scatter\", \"uid\": \"ede6cfd3-f9b9-48b4-b2be-3759fe9f4039\", \"x\": [832], \"y\": [\"Hospitality\"]}, {\"marker\": {\"color\": \"rgba(0, 128, 128, 0.8769230769230769)\", \"line\": {\"width\": 1.3}, \"opacity\": 0.8, \"size\": [16], \"symbol\": \"circle\"}, \"mode\": \"markers\", \"name\": \"Restaurants\", \"textfont\": {\"color\": \"#4D5663\"}, \"type\": \"scatter\", \"uid\": \"d2750527-f115-4e44-8797-5bf6ac6042ea\", \"x\": [819], \"y\": [\"Restaurants\"]}, {\"marker\": {\"color\": \"rgba(255, 255, 51, 0.8769230769230769)\", \"line\": {\"width\": 1.3}, \"opacity\": 0.8, \"size\": [19], \"symbol\": \"circle\"}, \"mode\": \"markers\", \"name\": \"Sports\", \"textfont\": {\"color\": \"#4D5663\"}, \"type\": \"scatter\", \"uid\": \"eb567855-ef4c-44f0-b105-a8268ae89443\", \"x\": [1460], \"y\": [\"Sports\"]}, {\"marker\": {\"color\": \"rgba(128, 128, 0, 0.8769230769230769)\", \"line\": {\"width\": 1.3}, \"opacity\": 0.8, \"size\": [17], \"symbol\": \"circle\"}, \"mode\": \"markers\", \"name\": \"Food & Beverages\", \"textfont\": {\"color\": \"#4D5663\"}, \"type\": \"scatter\", \"uid\": \"6fd5b930-df96-4b0c-a5b8-cd29c19f186e\", \"x\": [1058], \"y\": [\"Food & Beverages\"]}, {\"marker\": {\"color\": \"rgba(128, 128, 0, 0.8153846153846154)\", \"line\": {\"width\": 1.3}, \"opacity\": 0.8, \"size\": [12], \"symbol\": \"circle\"}, \"mode\": \"markers\", \"name\": \"Motion Pictures and Film\", \"textfont\": {\"color\": \"#4D5663\"}, \"type\": \"scatter\", \"uid\": \"af3bcae3-e92e-408a-84cc-21e0757efd4b\", \"x\": [10], \"y\": [\"Motion Pictures and Film\"]}, {\"marker\": {\"color\": \"rgba(251, 128, 114, 0.8153846153846154)\", \"line\": {\"width\": 1.3}, \"opacity\": 0.8, \"size\": [15], \"symbol\": \"circle\"}, \"mode\": \"markers\", \"name\": \"Broadcast Media\", \"textfont\": {\"color\": \"#4D5663\"}, \"type\": \"scatter\", \"uid\": \"1ab313a6-377c-42c0-8b7e-21d280433b7f\", \"x\": [745], \"y\": [\"Broadcast Media\"]}, {\"marker\": {\"color\": \"rgba(128, 177, 211, 0.8153846153846154)\", \"line\": {\"width\": 1.3}, \"opacity\": 0.8, \"size\": [13], \"symbol\": \"circle\"}, \"mode\": \"markers\", \"name\": \"Museums and Institutions\", \"textfont\": {\"color\": \"#4D5663\"}, \"type\": \"scatter\", \"uid\": \"010fddd8-b288-4367-9fb2-70dda2819110\", \"x\": [276], \"y\": [\"Museums and Institutions\"]}, {\"marker\": {\"color\": \"rgba(255, 153, 51, 0.8153846153846154)\", \"line\": {\"width\": 1.3}, \"opacity\": 0.8, \"size\": [12], \"symbol\": \"circle\"}, \"mode\": \"markers\", \"name\": \"Fine Art\", \"textfont\": {\"color\": \"#4D5663\"}, \"type\": \"scatter\", \"uid\": \"aafd4cf0-08a7-43ef-9ce2-14195c8751b7\", \"x\": [104], \"y\": [\"Fine Art\"]}, {\"marker\": {\"color\": \"rgba(55, 128, 191, 0.8153846153846154)\", \"line\": {\"width\": 1.3}, \"opacity\": 0.8, \"size\": [13], \"symbol\": \"circle\"}, \"mode\": \"markers\", \"name\": \"Performing Arts\", \"textfont\": {\"color\": \"#4D5663\"}, \"type\": \"scatter\", \"uid\": \"96fa32d4-d9ca-4273-90fe-e47581bd4038\", \"x\": [236], \"y\": [\"Performing Arts\"]}, {\"marker\": {\"color\": \"rgba(50, 171, 96, 0.8153846153846154)\", \"line\": {\"width\": 1.3}, \"opacity\": 0.8, \"size\": [13], \"symbol\": \"circle\"}, \"mode\": \"markers\", \"name\": \"Recreational Facilities and Services\", \"textfont\": {\"color\": \"#4D5663\"}, \"type\": \"scatter\", \"uid\": \"180bebdf-72a5-4028-a8fa-162cb12b7489\", \"x\": [238], \"y\": [\"Recreational Facilities and Services\"]}, {\"marker\": {\"color\": \"rgba(128, 0, 128, 0.8153846153846154)\", \"line\": {\"width\": 1.3}, \"opacity\": 0.8, \"size\": [19], \"symbol\": \"circle\"}, \"mode\": \"markers\", \"name\": \"Banking\", \"textfont\": {\"color\": \"#4D5663\"}, \"type\": \"scatter\", \"uid\": \"df6681e4-090e-4895-848b-4f2e2943b81a\", \"x\": [1429], \"y\": [\"Banking\"]}, {\"marker\": {\"color\": \"rgba(219, 64, 82, 0.8153846153846154)\", \"line\": {\"width\": 1.3}, \"opacity\": 0.8, \"size\": [20], \"symbol\": \"circle\"}, \"mode\": \"markers\", \"name\": \"Insurance\", \"textfont\": {\"color\": \"#4D5663\"}, \"type\": \"scatter\", \"uid\": \"c13395d2-a5b2-4f68-8aac-e4ac0e162ecc\", \"x\": [1656], \"y\": [\"Insurance\"]}, {\"marker\": {\"color\": \"rgba(0, 128, 128, 0.8153846153846154)\", \"line\": {\"width\": 1.3}, \"opacity\": 0.8, \"size\": [39], \"symbol\": \"circle\"}, \"mode\": \"markers\", \"name\": \"Financial Services\", \"textfont\": {\"color\": \"#4D5663\"}, \"type\": \"scatter\", \"uid\": \"7db56581-19c7-460d-a0b1-132b5917bde0\", \"x\": [5647], \"y\": [\"Financial Services\"]}, {\"marker\": {\"color\": \"rgba(255, 255, 51, 0.8153846153846154)\", \"line\": {\"width\": 1.3}, \"opacity\": 0.8, \"size\": [19], \"symbol\": \"circle\"}, \"mode\": \"markers\", \"name\": \"Real Estate\", \"textfont\": {\"color\": \"#4D5663\"}, \"type\": \"scatter\", \"uid\": \"f0d992c9-73a1-462d-85a2-973c758ef55d\", \"x\": [1551], \"y\": [\"Real Estate\"]}, {\"marker\": {\"color\": \"rgba(255, 255, 51, 0.7538461538461538)\", \"line\": {\"width\": 1.3}, \"opacity\": 0.8, \"size\": [14], \"symbol\": \"circle\"}, \"mode\": \"markers\", \"name\": \"Investment Banking\", \"textfont\": {\"color\": \"#4D5663\"}, \"type\": \"scatter\", \"uid\": \"6a9e9c3a-725e-4aaa-b9b9-8d6b74f2ab75\", \"x\": [533], \"y\": [\"Investment Banking\"]}, {\"marker\": {\"color\": \"rgba(128, 128, 0, 0.7538461538461538)\", \"line\": {\"width\": 1.3}, \"opacity\": 0.8, \"size\": [15], \"symbol\": \"circle\"}, \"mode\": \"markers\", \"name\": \"Investment Management\", \"textfont\": {\"color\": \"#4D5663\"}, \"type\": \"scatter\", \"uid\": \"4bc4625c-ead8-4627-8fbb-8c74b3d6c59a\", \"x\": [693], \"y\": [\"Investment Management\"]}, {\"marker\": {\"color\": \"rgba(251, 128, 114, 0.7538461538461538)\", \"line\": {\"width\": 1.3}, \"opacity\": 0.8, \"size\": [22], \"symbol\": \"circle\"}, \"mode\": \"markers\", \"name\": \"Accounting\", \"textfont\": {\"color\": \"#4D5663\"}, \"type\": \"scatter\", \"uid\": \"4dddc5a9-d303-43fd-8666-45167170e4e7\", \"x\": [2055], \"y\": [\"Accounting\"]}, {\"marker\": {\"color\": \"rgba(128, 177, 211, 0.7538461538461538)\", \"line\": {\"width\": 1.3}, \"opacity\": 0.8, \"size\": [16], \"symbol\": \"circle\"}, \"mode\": \"markers\", \"name\": \"Construction\", \"textfont\": {\"color\": \"#4D5663\"}, \"type\": \"scatter\", \"uid\": \"30312076-27fd-480c-8f58-5b5d0e75903a\", \"x\": [986], \"y\": [\"Construction\"]}, {\"marker\": {\"color\": \"rgba(255, 153, 51, 0.7538461538461538)\", \"line\": {\"width\": 1.3}, \"opacity\": 0.8, \"size\": [13], \"symbol\": \"circle\"}, \"mode\": \"markers\", \"name\": \"Building Materials\", \"textfont\": {\"color\": \"#4D5663\"}, \"type\": \"scatter\", \"uid\": \"5842e2a2-8a16-4c27-845c-7c6aa20d176e\", \"x\": [276], \"y\": [\"Building Materials\"]}, {\"marker\": {\"color\": \"rgba(55, 128, 191, 0.7538461538461538)\", \"line\": {\"width\": 1.3}, \"opacity\": 0.8, \"size\": [13], \"symbol\": \"circle\"}, \"mode\": \"markers\", \"name\": \"Architecture & Planning\", \"textfont\": {\"color\": \"#4D5663\"}, \"type\": \"scatter\", \"uid\": \"5971a3fe-6da6-41e8-8818-4db4f3a41485\", \"x\": [280], \"y\": [\"Architecture & Planning\"]}, {\"marker\": {\"color\": \"rgba(50, 171, 96, 0.7538461538461538)\", \"line\": {\"width\": 1.3}, \"opacity\": 0.8, \"size\": [13], \"symbol\": \"circle\"}, \"mode\": \"markers\", \"name\": \"Civil Engineering\", \"textfont\": {\"color\": \"#4D5663\"}, \"type\": \"scatter\", \"uid\": \"384295cd-6f84-4ce3-9a34-076a70bef46f\", \"x\": [304], \"y\": [\"Civil Engineering\"]}, {\"marker\": {\"color\": \"rgba(128, 0, 128, 0.7538461538461538)\", \"line\": {\"width\": 1.3}, \"opacity\": 0.8, \"size\": [13], \"symbol\": \"circle\"}, \"mode\": \"markers\", \"name\": \"Aviation & Aerospace\", \"textfont\": {\"color\": \"#4D5663\"}, \"type\": \"scatter\", \"uid\": \"a7ef0562-7c44-4630-ade4-cbde6fbb1ce1\", \"x\": [369], \"y\": [\"Aviation & Aerospace\"]}, {\"marker\": {\"color\": \"rgba(219, 64, 82, 0.7538461538461538)\", \"line\": {\"width\": 1.3}, \"opacity\": 0.8, \"size\": [19], \"symbol\": \"circle\"}, \"mode\": \"markers\", \"name\": \"Automotive\", \"textfont\": {\"color\": \"#4D5663\"}, \"type\": \"scatter\", \"uid\": \"9aaf1091-f47d-4f48-8a19-6104fcdc419f\", \"x\": [1530], \"y\": [\"Automotive\"]}, {\"marker\": {\"color\": \"rgba(0, 128, 128, 0.7538461538461538)\", \"line\": {\"width\": 1.3}, \"opacity\": 0.8, \"size\": [14], \"symbol\": \"circle\"}, \"mode\": \"markers\", \"name\": \"Chemicals\", \"textfont\": {\"color\": \"#4D5663\"}, \"type\": \"scatter\", \"uid\": \"151c1619-1e8f-4963-bc81-c427b3399672\", \"x\": [434], \"y\": [\"Chemicals\"]}, {\"marker\": {\"color\": \"rgba(0, 128, 128, 0.6923076923076923)\", \"line\": {\"width\": 1.3}, \"opacity\": 0.8, \"size\": [13], \"symbol\": \"circle\"}, \"mode\": \"markers\", \"name\": \"Machinery\", \"textfont\": {\"color\": \"#4D5663\"}, \"type\": \"scatter\", \"uid\": \"21120bc2-ed15-4b29-bc27-526669c75b2a\", \"x\": [363], \"y\": [\"Machinery\"]}, {\"marker\": {\"color\": \"rgba(255, 255, 51, 0.6923076923076923)\", \"line\": {\"width\": 1.3}, \"opacity\": 0.8, \"size\": [13], \"symbol\": \"circle\"}, \"mode\": \"markers\", \"name\": \"Mining & Metals\", \"textfont\": {\"color\": \"#4D5663\"}, \"type\": \"scatter\", \"uid\": \"5033df94-d7f8-4c03-beb1-c108308de32f\", \"x\": [274], \"y\": [\"Mining & Metals\"]}, {\"marker\": {\"color\": \"rgba(128, 128, 0, 0.6923076923076923)\", \"line\": {\"width\": 1.3}, \"opacity\": 0.8, \"size\": [15], \"symbol\": \"circle\"}, \"mode\": \"markers\", \"name\": \"Oil & Energy\", \"textfont\": {\"color\": \"#4D5663\"}, \"type\": \"scatter\", \"uid\": \"de3505ce-86f3-4fe2-8b42-4ebd9a5b9e74\", \"x\": [712], \"y\": [\"Oil & Energy\"]}, {\"marker\": {\"color\": \"rgba(251, 128, 114, 0.6923076923076923)\", \"line\": {\"width\": 1.3}, \"opacity\": 0.8, \"size\": [13], \"symbol\": \"circle\"}, \"mode\": \"markers\", \"name\": \"Utilities\", \"textfont\": {\"color\": \"#4D5663\"}, \"type\": \"scatter\", \"uid\": \"1d9dae5b-88a7-4547-ae96-7ac3b05e9512\", \"x\": [401], \"y\": [\"Utilities\"]}, {\"marker\": {\"color\": \"rgba(128, 177, 211, 0.6923076923076923)\", \"line\": {\"width\": 1.3}, \"opacity\": 0.8, \"size\": [12], \"symbol\": \"circle\"}, \"mode\": \"markers\", \"name\": \"Textiles\", \"textfont\": {\"color\": \"#4D5663\"}, \"type\": \"scatter\", \"uid\": \"a7d8aef8-0f24-4584-b332-b667956f9052\", \"x\": [1], \"y\": [\"Textiles\"]}, {\"marker\": {\"color\": \"rgba(255, 153, 51, 0.6923076923076923)\", \"line\": {\"width\": 1.3}, \"opacity\": 0.8, \"size\": [12], \"symbol\": \"circle\"}, \"mode\": \"markers\", \"name\": \"Farming\", \"textfont\": {\"color\": \"#4D5663\"}, \"type\": \"scatter\", \"uid\": \"45b433e6-ce46-49ff-8c13-861b68dd5267\", \"x\": [5], \"y\": [\"Farming\"]}, {\"marker\": {\"color\": \"rgba(55, 128, 191, 0.6923076923076923)\", \"line\": {\"width\": 1.3}, \"opacity\": 0.8, \"size\": [12], \"symbol\": \"circle\"}, \"mode\": \"markers\", \"name\": \"Dairy\", \"textfont\": {\"color\": \"#4D5663\"}, \"type\": \"scatter\", \"uid\": \"61f30e70-21db-4496-b27b-32adbf3a70b5\", \"x\": [3], \"y\": [\"Dairy\"]}, {\"marker\": {\"color\": \"rgba(50, 171, 96, 0.6923076923076923)\", \"line\": {\"width\": 1.3}, \"opacity\": 0.8, \"size\": [15], \"symbol\": \"circle\"}, \"mode\": \"markers\", \"name\": \"Primary/Secondary Education\", \"textfont\": {\"color\": \"#4D5663\"}, \"type\": \"scatter\", \"uid\": \"26220cb3-5c57-4f43-9563-9f289c360766\", \"x\": [698], \"y\": [\"Primary/Secondary Education\"]}, {\"marker\": {\"color\": \"rgba(128, 0, 128, 0.6923076923076923)\", \"line\": {\"width\": 1.3}, \"opacity\": 0.8, \"size\": [112], \"symbol\": \"circle\"}, \"mode\": \"markers\", \"name\": \"Higher Education\", \"textfont\": {\"color\": \"#4D5663\"}, \"type\": \"scatter\", \"uid\": \"bdf62c61-93e4-49f9-a208-7f788fdc1beb\", \"x\": [20361], \"y\": [\"Higher Education\"]}, {\"marker\": {\"color\": \"rgba(219, 64, 82, 0.6923076923076923)\", \"line\": {\"width\": 1.3}, \"opacity\": 0.8, \"size\": [28], \"symbol\": \"circle\"}, \"mode\": \"markers\", \"name\": \"Education Management\", \"textfont\": {\"color\": \"#4D5663\"}, \"type\": \"scatter\", \"uid\": \"6889718d-fdb0-49d6-bb9b-dd1d23cf04ce\", \"x\": [3263], \"y\": [\"Education Management\"]}, {\"marker\": {\"color\": \"rgba(219, 64, 82, 0.6307692307692307)\", \"line\": {\"width\": 1.3}, \"opacity\": 0.8, \"size\": [20], \"symbol\": \"circle\"}, \"mode\": \"markers\", \"name\": \"Research\", \"textfont\": {\"color\": \"#4D5663\"}, \"type\": \"scatter\", \"uid\": \"8f771c50-9bbc-419d-b725-27330db326df\", \"x\": [1634], \"y\": [\"Research\"]}, {\"marker\": {\"color\": \"rgba(0, 128, 128, 0.6307692307692307)\", \"line\": {\"width\": 1.3}, \"opacity\": 0.8, \"size\": [14], \"symbol\": \"circle\"}, \"mode\": \"markers\", \"name\": \"Military\", \"textfont\": {\"color\": \"#4D5663\"}, \"type\": \"scatter\", \"uid\": \"8e2c8af3-94fa-4a59-af74-962723a5a10d\", \"x\": [580], \"y\": [\"Military\"]}, {\"marker\": {\"color\": \"rgba(255, 255, 51, 0.6307692307692307)\", \"line\": {\"width\": 1.3}, \"opacity\": 0.8, \"size\": [12], \"symbol\": \"circle\"}, \"mode\": \"markers\", \"name\": \"Judiciary\", \"textfont\": {\"color\": \"#4D5663\"}, \"type\": \"scatter\", \"uid\": \"cd08194a-6309-4655-b33b-ffc3c3a89ffe\", \"x\": [1], \"y\": [\"Judiciary\"]}, {\"marker\": {\"color\": \"rgba(128, 128, 0, 0.6307692307692307)\", \"line\": {\"width\": 1.3}, \"opacity\": 0.8, \"size\": [14], \"symbol\": \"circle\"}, \"mode\": \"markers\", \"name\": \"International Affairs\", \"textfont\": {\"color\": \"#4D5663\"}, \"type\": \"scatter\", \"uid\": \"0e8c8353-6465-4c5d-a74a-a11da1184c82\", \"x\": [436], \"y\": [\"International Affairs\"]}, {\"marker\": {\"color\": \"rgba(251, 128, 114, 0.6307692307692307)\", \"line\": {\"width\": 1.3}, \"opacity\": 0.8, \"size\": [19], \"symbol\": \"circle\"}, \"mode\": \"markers\", \"name\": \"Government Administration\", \"textfont\": {\"color\": \"#4D5663\"}, \"type\": \"scatter\", \"uid\": \"2e8103b9-75bb-40d3-874c-7fb69f0fc8f0\", \"x\": [1604], \"y\": [\"Government Administration\"]}, {\"marker\": {\"color\": \"rgba(128, 177, 211, 0.6307692307692307)\", \"line\": {\"width\": 1.3}, \"opacity\": 0.8, \"size\": [12], \"symbol\": \"circle\"}, \"mode\": \"markers\", \"name\": \"Executive Office\", \"textfont\": {\"color\": \"#4D5663\"}, \"type\": \"scatter\", \"uid\": \"2db5d67b-75e8-4731-8231-979c6e1860f9\", \"x\": [80], \"y\": [\"Executive Office\"]}, {\"marker\": {\"color\": \"rgba(255, 153, 51, 0.6307692307692307)\", \"line\": {\"width\": 1.3}, \"opacity\": 0.8, \"size\": [12], \"symbol\": \"circle\"}, \"mode\": \"markers\", \"name\": \"Law Enforcement\", \"textfont\": {\"color\": \"#4D5663\"}, \"type\": \"scatter\", \"uid\": \"ef1690ba-509b-4b90-8064-c562db05098b\", \"x\": [164], \"y\": [\"Law Enforcement\"]}, {\"marker\": {\"color\": \"rgba(55, 128, 191, 0.6307692307692307)\", \"line\": {\"width\": 1.3}, \"opacity\": 0.8, \"size\": [12], \"symbol\": \"circle\"}, \"mode\": \"markers\", \"name\": \"Public Safety\", \"textfont\": {\"color\": \"#4D5663\"}, \"type\": \"scatter\", \"uid\": \"c6463279-1d81-495f-bf40-cff8f87b8403\", \"x\": [21], \"y\": [\"Public Safety\"]}, {\"marker\": {\"color\": \"rgba(50, 171, 96, 0.6307692307692307)\", \"line\": {\"width\": 1.3}, \"opacity\": 0.8, \"size\": [13], \"symbol\": \"circle\"}, \"mode\": \"markers\", \"name\": \"Public Policy\", \"textfont\": {\"color\": \"#4D5663\"}, \"type\": \"scatter\", \"uid\": \"e1f27ee5-8a20-4ee1-8ece-ed00c42c1983\", \"x\": [249], \"y\": [\"Public Policy\"]}, {\"marker\": {\"color\": \"rgba(128, 0, 128, 0.6307692307692307)\", \"line\": {\"width\": 1.3}, \"opacity\": 0.8, \"size\": [31], \"symbol\": \"circle\"}, \"mode\": \"markers\", \"name\": \"Marketing and Advertising\", \"textfont\": {\"color\": \"#4D5663\"}, \"type\": \"scatter\", \"uid\": \"646deca7-b9cd-4252-9e88-b8c5978499b3\", \"x\": [3985], \"y\": [\"Marketing and Advertising\"]}, {\"marker\": {\"color\": \"rgba(128, 0, 128, 0.5692307692307692)\", \"line\": {\"width\": 1.3}, \"opacity\": 0.8, \"size\": [13], \"symbol\": \"circle\"}, \"mode\": \"markers\", \"name\": \"Newspapers\", \"textfont\": {\"color\": \"#4D5663\"}, \"type\": \"scatter\", \"uid\": \"c32457fe-b19a-4a8b-992a-884712e7fe3d\", \"x\": [345], \"y\": [\"Newspapers\"]}, {\"marker\": {\"color\": \"rgba(219, 64, 82, 0.5692307692307692)\", \"line\": {\"width\": 1.3}, \"opacity\": 0.8, \"size\": [14], \"symbol\": \"circle\"}, \"mode\": \"markers\", \"name\": \"Publishing\", \"textfont\": {\"color\": \"#4D5663\"}, \"type\": \"scatter\", \"uid\": \"70a4db80-41d5-4551-be44-0c5b6d6e2eac\", \"x\": [513], \"y\": [\"Publishing\"]}, {\"marker\": {\"color\": \"rgba(0, 128, 128, 0.5692307692307692)\", \"line\": {\"width\": 1.3}, \"opacity\": 0.8, \"size\": [12], \"symbol\": \"circle\"}, \"mode\": \"markers\", \"name\": \"Printing\", \"textfont\": {\"color\": \"#4D5663\"}, \"type\": \"scatter\", \"uid\": \"7af870eb-1271-4590-be92-4a965c7a3ea7\", \"x\": [15], \"y\": [\"Printing\"]}, {\"marker\": {\"color\": \"rgba(255, 255, 51, 0.5692307692307692)\", \"line\": {\"width\": 1.3}, \"opacity\": 0.8, \"size\": [14], \"symbol\": \"circle\"}, \"mode\": \"markers\", \"name\": \"Information Services\", \"textfont\": {\"color\": \"#4D5663\"}, \"type\": \"scatter\", \"uid\": \"56b4e822-5629-4dfa-9259-1ffdf7dee39f\", \"x\": [536], \"y\": [\"Information Services\"]}, {\"marker\": {\"color\": \"rgba(128, 128, 0, 0.5692307692307692)\", \"line\": {\"width\": 1.3}, \"opacity\": 0.8, \"size\": [12], \"symbol\": \"circle\"}, \"mode\": \"markers\", \"name\": \"Libraries\", \"textfont\": {\"color\": \"#4D5663\"}, \"type\": \"scatter\", \"uid\": \"12f90415-30a4-43b1-a900-b0dd0b3f94b2\", \"x\": [97], \"y\": [\"Libraries\"]}, {\"marker\": {\"color\": \"rgba(251, 128, 114, 0.5692307692307692)\", \"line\": {\"width\": 1.3}, \"opacity\": 0.8, \"size\": [14], \"symbol\": \"circle\"}, \"mode\": \"markers\", \"name\": \"Environmental Services\", \"textfont\": {\"color\": \"#4D5663\"}, \"type\": \"scatter\", \"uid\": \"aefb12c0-c27f-4331-a1d8-f877a0552e9d\", \"x\": [485], \"y\": [\"Environmental Services\"]}, {\"marker\": {\"color\": \"rgba(128, 177, 211, 0.5692307692307692)\", \"line\": {\"width\": 1.3}, \"opacity\": 0.8, \"size\": [13], \"symbol\": \"circle\"}, \"mode\": \"markers\", \"name\": \"Individual & Family Services\", \"textfont\": {\"color\": \"#4D5663\"}, \"type\": \"scatter\", \"uid\": \"0f40c7ee-a9d6-4a9d-92eb-d7efa194bffe\", \"x\": [375], \"y\": [\"Individual & Family Services\"]}, {\"marker\": {\"color\": \"rgba(255, 153, 51, 0.5692307692307692)\", \"line\": {\"width\": 1.3}, \"opacity\": 0.8, \"size\": [13], \"symbol\": \"circle\"}, \"mode\": \"markers\", \"name\": \"Religious Institutions\", \"textfont\": {\"color\": \"#4D5663\"}, \"type\": \"scatter\", \"uid\": \"ec795201-866f-4be7-ab4d-d39417820d76\", \"x\": [300], \"y\": [\"Religious Institutions\"]}, {\"marker\": {\"color\": \"rgba(55, 128, 191, 0.5692307692307692)\", \"line\": {\"width\": 1.3}, \"opacity\": 0.8, \"size\": [15], \"symbol\": \"circle\"}, \"mode\": \"markers\", \"name\": \"Civic & Social Organization\", \"textfont\": {\"color\": \"#4D5663\"}, \"type\": \"scatter\", \"uid\": \"98a74553-7398-4406-ac70-8c2e43868fc4\", \"x\": [630], \"y\": [\"Civic & Social Organization\"]}, {\"marker\": {\"color\": \"rgba(50, 171, 96, 0.5692307692307692)\", \"line\": {\"width\": 1.3}, \"opacity\": 0.8, \"size\": [14], \"symbol\": \"circle\"}, \"mode\": \"markers\", \"name\": \"Consumer Services\", \"textfont\": {\"color\": \"#4D5663\"}, \"type\": \"scatter\", \"uid\": \"69832ea9-2197-492f-b815-dbcf095bc7a8\", \"x\": [461], \"y\": [\"Consumer Services\"]}, {\"marker\": {\"color\": \"rgba(50, 171, 96, 0.5076923076923077)\", \"line\": {\"width\": 1.3}, \"opacity\": 0.8, \"size\": [14], \"symbol\": \"circle\"}, \"mode\": \"markers\", \"name\": \"Transportation/Trucking/Railroad\", \"textfont\": {\"color\": \"#4D5663\"}, \"type\": \"scatter\", \"uid\": \"b45dd0d6-3e68-4af0-a794-37c3a257c81c\", \"x\": [525], \"y\": [\"Transportation/Trucking/Railroad\"]}, {\"marker\": {\"color\": \"rgba(128, 0, 128, 0.5076923076923077)\", \"line\": {\"width\": 1.3}, \"opacity\": 0.8, \"size\": [12], \"symbol\": \"circle\"}, \"mode\": \"markers\", \"name\": \"Airlines/Aviation\", \"textfont\": {\"color\": \"#4D5663\"}, \"type\": \"scatter\", \"uid\": \"f2f6f620-dc92-46b3-a799-474222b6f7c2\", \"x\": [186], \"y\": [\"Airlines/Aviation\"]}, {\"marker\": {\"color\": \"rgba(219, 64, 82, 0.5076923076923077)\", \"line\": {\"width\": 1.3}, \"opacity\": 0.8, \"size\": [50], \"symbol\": \"circle\"}, \"mode\": \"markers\", \"name\": \"Information Technology and Services\", \"textfont\": {\"color\": \"#4D5663\"}, \"type\": \"scatter\", \"uid\": \"adc3bf87-5e9a-46d0-830a-9ac4e74cf6a0\", \"x\": [7797], \"y\": [\"Information Technology and Services\"]}, {\"marker\": {\"color\": \"rgba(0, 128, 128, 0.5076923076923077)\", \"line\": {\"width\": 1.3}, \"opacity\": 0.8, \"size\": [14], \"symbol\": \"circle\"}, \"mode\": \"markers\", \"name\": \"Market Research\", \"textfont\": {\"color\": \"#4D5663\"}, \"type\": \"scatter\", \"uid\": \"9e1902fa-ef14-497e-a242-de7fbdab824b\", \"x\": [451], \"y\": [\"Market Research\"]}, {\"marker\": {\"color\": \"rgba(255, 255, 51, 0.5076923076923077)\", \"line\": {\"width\": 1.3}, \"opacity\": 0.8, \"size\": [14], \"symbol\": \"circle\"}, \"mode\": \"markers\", \"name\": \"Public Relations and Communications\", \"textfont\": {\"color\": \"#4D5663\"}, \"type\": \"scatter\", \"uid\": \"98e6ee76-f757-42ca-8a6c-32e53c49e80e\", \"x\": [587], \"y\": [\"Public Relations and Communications\"]}, {\"marker\": {\"color\": \"rgba(128, 128, 0, 0.5076923076923077)\", \"line\": {\"width\": 1.3}, \"opacity\": 0.8, \"size\": [14], \"symbol\": \"circle\"}, \"mode\": \"markers\", \"name\": \"Design\", \"textfont\": {\"color\": \"#4D5663\"}, \"type\": \"scatter\", \"uid\": \"07ecdf9c-06e3-4a81-927e-183c6e619a8a\", \"x\": [511], \"y\": [\"Design\"]}, {\"marker\": {\"color\": \"rgba(251, 128, 114, 0.5076923076923077)\", \"line\": {\"width\": 1.3}, \"opacity\": 0.8, \"size\": [28], \"symbol\": \"circle\"}, \"mode\": \"markers\", \"name\": \"Nonprofit Organization Management\", \"textfont\": {\"color\": \"#4D5663\"}, \"type\": \"scatter\", \"uid\": \"ee411263-67ff-4196-98d0-07cf96147374\", \"x\": [3283], \"y\": [\"Nonprofit Organization Management\"]}, {\"marker\": {\"color\": \"rgba(128, 177, 211, 0.5076923076923077)\", \"line\": {\"width\": 1.3}, \"opacity\": 0.8, \"size\": [13], \"symbol\": \"circle\"}, \"mode\": \"markers\", \"name\": \"Fund-Raising\", \"textfont\": {\"color\": \"#4D5663\"}, \"type\": \"scatter\", \"uid\": \"be97a256-8045-4d2f-9e5e-c7319f0e6911\", \"x\": [282], \"y\": [\"Fund-Raising\"]}, {\"marker\": {\"color\": \"rgba(255, 153, 51, 0.5076923076923077)\", \"line\": {\"width\": 1.3}, \"opacity\": 0.8, \"size\": [12], \"symbol\": \"circle\"}, \"mode\": \"markers\", \"name\": \"Program Development\", \"textfont\": {\"color\": \"#4D5663\"}, \"type\": \"scatter\", \"uid\": \"b2f3d7d0-db5b-4f88-a67d-3c97b6eb2529\", \"x\": [163], \"y\": [\"Program Development\"]}, {\"marker\": {\"color\": \"rgba(55, 128, 191, 0.5076923076923077)\", \"line\": {\"width\": 1.3}, \"opacity\": 0.8, \"size\": [13], \"symbol\": \"circle\"}, \"mode\": \"markers\", \"name\": \"Writing and Editing\", \"textfont\": {\"color\": \"#4D5663\"}, \"type\": \"scatter\", \"uid\": \"7f156937-89fc-4fc5-a907-b20ec2961a73\", \"x\": [391], \"y\": [\"Writing and Editing\"]}, {\"marker\": {\"color\": \"rgba(55, 128, 191, 0.4461538461538462)\", \"line\": {\"width\": 1.3}, \"opacity\": 0.8, \"size\": [22], \"symbol\": \"circle\"}, \"mode\": \"markers\", \"name\": \"Staffing and Recruiting\", \"textfont\": {\"color\": \"#4D5663\"}, \"type\": \"scatter\", \"uid\": \"be1531d2-0d4b-4ec3-b6c0-235b4732d5e9\", \"x\": [2046], \"y\": [\"Staffing and Recruiting\"]}, {\"marker\": {\"color\": \"rgba(50, 171, 96, 0.4461538461538462)\", \"line\": {\"width\": 1.3}, \"opacity\": 0.8, \"size\": [16], \"symbol\": \"circle\"}, \"mode\": \"markers\", \"name\": \"Professional Training & Coaching\", \"textfont\": {\"color\": \"#4D5663\"}, \"type\": \"scatter\", \"uid\": \"2704b4a3-424a-4bb9-9716-6f99fd1f9ac6\", \"x\": [948], \"y\": [\"Professional Training & Coaching\"]}, {\"marker\": {\"color\": \"rgba(128, 0, 128, 0.4461538461538462)\", \"line\": {\"width\": 1.3}, \"opacity\": 0.8, \"size\": [14], \"symbol\": \"circle\"}, \"mode\": \"markers\", \"name\": \"Venture Capital & Private Equity\", \"textfont\": {\"color\": \"#4D5663\"}, \"type\": \"scatter\", \"uid\": \"7e1e1d0e-3cd6-4988-bae4-cba546478aa0\", \"x\": [492], \"y\": [\"Venture Capital & Private Equity\"]}, {\"marker\": {\"color\": \"rgba(219, 64, 82, 0.4461538461538462)\", \"line\": {\"width\": 1.3}, \"opacity\": 0.8, \"size\": [12], \"symbol\": \"circle\"}, \"mode\": \"markers\", \"name\": \"Political Organization\", \"textfont\": {\"color\": \"#4D5663\"}, \"type\": \"scatter\", \"uid\": \"967b1f46-4155-41ad-9974-a4fd65a5c49d\", \"x\": [8], \"y\": [\"Political Organization\"]}, {\"marker\": {\"color\": \"rgba(0, 128, 128, 0.4461538461538462)\", \"line\": {\"width\": 1.3}, \"opacity\": 0.8, \"size\": [12], \"symbol\": \"circle\"}, \"mode\": \"markers\", \"name\": \"Translation and Localization\", \"textfont\": {\"color\": \"#4D5663\"}, \"type\": \"scatter\", \"uid\": \"8217cb85-1780-4b5f-8fee-e29f932561e2\", \"x\": [3], \"y\": [\"Translation and Localization\"]}, {\"marker\": {\"color\": \"rgba(255, 255, 51, 0.4461538461538462)\", \"line\": {\"width\": 1.3}, \"opacity\": 0.8, \"size\": [12], \"symbol\": \"circle\"}, \"mode\": \"markers\", \"name\": \"Computer Games\", \"textfont\": {\"color\": \"#4D5663\"}, \"type\": \"scatter\", \"uid\": \"3230234b-c2f9-47ba-a8ed-28857de61fee\", \"x\": [2], \"y\": [\"Computer Games\"]}, {\"marker\": {\"color\": \"rgba(128, 128, 0, 0.4461538461538462)\", \"line\": {\"width\": 1.3}, \"opacity\": 0.8, \"size\": [13], \"symbol\": \"circle\"}, \"mode\": \"markers\", \"name\": \"Events Services\", \"textfont\": {\"color\": \"#4D5663\"}, \"type\": \"scatter\", \"uid\": \"a7eb3b12-d900-4ab0-a27c-cc95c6f60d33\", \"x\": [388], \"y\": [\"Events Services\"]}, {\"marker\": {\"color\": \"rgba(251, 128, 114, 0.4461538461538462)\", \"line\": {\"width\": 1.3}, \"opacity\": 0.8, \"size\": [12], \"symbol\": \"circle\"}, \"mode\": \"markers\", \"name\": \"Arts and Crafts\", \"textfont\": {\"color\": \"#4D5663\"}, \"type\": \"scatter\", \"uid\": \"e5ae551c-1f43-42f6-9300-f5bcf1908c62\", \"x\": [13], \"y\": [\"Arts and Crafts\"]}, {\"marker\": {\"color\": \"rgba(128, 177, 211, 0.4461538461538462)\", \"line\": {\"width\": 1.3}, \"opacity\": 0.8, \"size\": [15], \"symbol\": \"circle\"}, \"mode\": \"markers\", \"name\": \"Electrical/Electronic Manufacturing\", \"textfont\": {\"color\": \"#4D5663\"}, \"type\": \"scatter\", \"uid\": \"db7a34b4-d793-4d9a-acee-87559d67fa9d\", \"x\": [668], \"y\": [\"Electrical/Electronic Manufacturing\"]}, {\"marker\": {\"color\": \"rgba(255, 153, 51, 0.4461538461538462)\", \"line\": {\"width\": 1.3}, \"opacity\": 0.8, \"size\": [13], \"symbol\": \"circle\"}, \"mode\": \"markers\", \"name\": \"Online Media\", \"textfont\": {\"color\": \"#4D5663\"}, \"type\": \"scatter\", \"uid\": \"5d64ce08-d63f-48d5-b698-f43cb76d6fa6\", \"x\": [408], \"y\": [\"Online Media\"]}, {\"marker\": {\"color\": \"rgba(255, 153, 51, 0.38461538461538464)\", \"line\": {\"width\": 1.3}, \"opacity\": 0.8, \"size\": [14], \"symbol\": \"circle\"}, \"mode\": \"markers\", \"name\": \"Music\", \"textfont\": {\"color\": \"#4D5663\"}, \"type\": \"scatter\", \"uid\": \"363d20a9-97f0-4c52-99aa-e996948003ae\", \"x\": [575], \"y\": [\"Music\"]}, {\"marker\": {\"color\": \"rgba(55, 128, 191, 0.38461538461538464)\", \"line\": {\"width\": 1.3}, \"opacity\": 0.8, \"size\": [16], \"symbol\": \"circle\"}, \"mode\": \"markers\", \"name\": \"Logistics and Supply Chain\", \"textfont\": {\"color\": \"#4D5663\"}, \"type\": \"scatter\", \"uid\": \"373d3bbd-0c67-49ca-bcd9-9cc604799e3b\", \"x\": [827], \"y\": [\"Logistics and Supply Chain\"]}, {\"marker\": {\"color\": \"rgba(50, 171, 96, 0.38461538461538464)\", \"line\": {\"width\": 1.3}, \"opacity\": 0.8, \"size\": [12], \"symbol\": \"circle\"}, \"mode\": \"markers\", \"name\": \"Plastics\", \"textfont\": {\"color\": \"#4D5663\"}, \"type\": \"scatter\", \"uid\": \"d6ee09b6-bfa8-4e4d-9a30-4844427bf5a4\", \"x\": [6], \"y\": [\"Plastics\"]}, {\"marker\": {\"color\": \"rgba(128, 0, 128, 0.38461538461538464)\", \"line\": {\"width\": 1.3}, \"opacity\": 0.8, \"size\": [13], \"symbol\": \"circle\"}, \"mode\": \"markers\", \"name\": \"Computer & Network Security\", \"textfont\": {\"color\": \"#4D5663\"}, \"type\": \"scatter\", \"uid\": \"6ead730a-bb58-4e88-80b3-b5597a9166fb\", \"x\": [277], \"y\": [\"Computer & Network Security\"]}, {\"marker\": {\"color\": \"rgba(219, 64, 82, 0.38461538461538464)\", \"line\": {\"width\": 1.3}, \"opacity\": 0.8, \"size\": [12], \"symbol\": \"circle\"}, \"mode\": \"markers\", \"name\": \"Security and Investigations\", \"textfont\": {\"color\": \"#4D5663\"}, \"type\": \"scatter\", \"uid\": \"05f80f98-9c70-4e9b-9f1f-8647b420331c\", \"x\": [19], \"y\": [\"Security and Investigations\"]}, {\"marker\": {\"color\": \"rgba(0, 128, 128, 0.38461538461538464)\", \"line\": {\"width\": 1.3}, \"opacity\": 0.8, \"size\": [13], \"symbol\": \"circle\"}, \"mode\": \"markers\", \"name\": \"Facilities Services\", \"textfont\": {\"color\": \"#4D5663\"}, \"type\": \"scatter\", \"uid\": \"543da522-94ac-4e12-bc59-4174ea83f3d7\", \"x\": [276], \"y\": [\"Facilities Services\"]}, {\"marker\": {\"color\": \"rgba(255, 255, 51, 0.38461538461538464)\", \"line\": {\"width\": 1.3}, \"opacity\": 0.8, \"size\": [14], \"symbol\": \"circle\"}, \"mode\": \"markers\", \"name\": \"Outsourcing/Offshoring\", \"textfont\": {\"color\": \"#4D5663\"}, \"type\": \"scatter\", \"uid\": \"eda2d460-beef-40d3-8162-6a227816152e\", \"x\": [545], \"y\": [\"Outsourcing/Offshoring\"]}, {\"marker\": {\"color\": \"rgba(128, 128, 0, 0.38461538461538464)\", \"line\": {\"width\": 1.3}, \"opacity\": 0.8, \"size\": [19], \"symbol\": \"circle\"}, \"mode\": \"markers\", \"name\": \"Health, Wellness and Fitness\", \"textfont\": {\"color\": \"#4D5663\"}, \"type\": \"scatter\", \"uid\": \"bffbde1e-f7b9-4960-a398-3b4373d94693\", \"x\": [1511], \"y\": [\"Health, Wellness and Fitness\"]}, {\"marker\": {\"color\": \"rgba(251, 128, 114, 0.38461538461538464)\", \"line\": {\"width\": 1.3}, \"opacity\": 0.8, \"size\": [14], \"symbol\": \"circle\"}, \"mode\": \"markers\", \"name\": \"Media Production\", \"textfont\": {\"color\": \"#4D5663\"}, \"type\": \"scatter\", \"uid\": \"e2a9c50d-9f65-4512-88aa-da99c093c8d0\", \"x\": [538], \"y\": [\"Media Production\"]}, {\"marker\": {\"color\": \"rgba(128, 177, 211, 0.38461538461538464)\", \"line\": {\"width\": 1.3}, \"opacity\": 0.8, \"size\": [12], \"symbol\": \"circle\"}, \"mode\": \"markers\", \"name\": \"Animation\", \"textfont\": {\"color\": \"#4D5663\"}, \"type\": \"scatter\", \"uid\": \"2c9009ae-7246-4adc-9b35-55bb3132cdd0\", \"x\": [4], \"y\": [\"Animation\"]}, {\"marker\": {\"color\": \"rgba(128, 177, 211, 0.3230769230769231)\", \"line\": {\"width\": 1.3}, \"opacity\": 0.8, \"size\": [13], \"symbol\": \"circle\"}, \"mode\": \"markers\", \"name\": \"Commercial Real Estate\", \"textfont\": {\"color\": \"#4D5663\"}, \"type\": \"scatter\", \"uid\": \"52df663c-d2ca-413d-821d-29f900b9cd5d\", \"x\": [268], \"y\": [\"Commercial Real Estate\"]}, {\"marker\": {\"color\": \"rgba(255, 153, 51, 0.3230769230769231)\", \"line\": {\"width\": 1.3}, \"opacity\": 0.8, \"size\": [12], \"symbol\": \"circle\"}, \"mode\": \"markers\", \"name\": \"Capital Markets\", \"textfont\": {\"color\": \"#4D5663\"}, \"type\": \"scatter\", \"uid\": \"eb9050b9-eb4c-44a2-b659-d708444623c5\", \"x\": [1], \"y\": [\"Capital Markets\"]}, {\"marker\": {\"color\": \"rgba(55, 128, 191, 0.3230769230769231)\", \"line\": {\"width\": 1.3}, \"opacity\": 0.8, \"size\": [12], \"symbol\": \"circle\"}, \"mode\": \"markers\", \"name\": \"Think Tanks\", \"textfont\": {\"color\": \"#4D5663\"}, \"type\": \"scatter\", \"uid\": \"9a7fe6ef-f2b3-42a2-aa7c-a45f565fa4ff\", \"x\": [1], \"y\": [\"Think Tanks\"]}, {\"marker\": {\"color\": \"rgba(50, 171, 96, 0.3230769230769231)\", \"line\": {\"width\": 1.3}, \"opacity\": 0.8, \"size\": [14], \"symbol\": \"circle\"}, \"mode\": \"markers\", \"name\": \"Philanthropy\", \"textfont\": {\"color\": \"#4D5663\"}, \"type\": \"scatter\", \"uid\": \"522a654f-919d-4b88-a3ef-8f4424fa1637\", \"x\": [413], \"y\": [\"Philanthropy\"]}, {\"marker\": {\"color\": \"rgba(128, 0, 128, 0.3230769230769231)\", \"line\": {\"width\": 1.3}, \"opacity\": 0.8, \"size\": [14], \"symbol\": \"circle\"}, \"mode\": \"markers\", \"name\": \"E-Learning\", \"textfont\": {\"color\": \"#4D5663\"}, \"type\": \"scatter\", \"uid\": \"87d5f120-f06e-41ad-bb3e-308b5e06ba4e\", \"x\": [519], \"y\": [\"E-Learning\"]}, {\"marker\": {\"color\": \"rgba(219, 64, 82, 0.3230769230769231)\", \"line\": {\"width\": 1.3}, \"opacity\": 0.8, \"size\": [13], \"symbol\": \"circle\"}, \"mode\": \"markers\", \"name\": \"Wholesale\", \"textfont\": {\"color\": \"#4D5663\"}, \"type\": \"scatter\", \"uid\": \"6e3b6a5c-1deb-4edb-b5b5-4897872bc779\", \"x\": [348], \"y\": [\"Wholesale\"]}, {\"marker\": {\"color\": \"rgba(0, 128, 128, 0.3230769230769231)\", \"line\": {\"width\": 1.3}, \"opacity\": 0.8, \"size\": [14], \"symbol\": \"circle\"}, \"mode\": \"markers\", \"name\": \"Mechanical or Industrial Engineering\", \"textfont\": {\"color\": \"#4D5663\"}, \"type\": \"scatter\", \"uid\": \"e9315bd3-86bb-4870-90dc-84687ba9781f\", \"x\": [444], \"y\": [\"Mechanical or Industrial Engineering\"]}, {\"marker\": {\"color\": \"rgba(255, 255, 51, 0.3230769230769231)\", \"line\": {\"width\": 1.3}, \"opacity\": 0.8, \"size\": [12], \"symbol\": \"circle\"}, \"mode\": \"markers\", \"name\": \"Photography\", \"textfont\": {\"color\": \"#4D5663\"}, \"type\": \"scatter\", \"uid\": \"706331ac-d4f4-4cd4-91ea-e614c05a1c58\", \"x\": [32], \"y\": [\"Photography\"]}, {\"marker\": {\"color\": \"rgba(128, 128, 0, 0.3230769230769231)\", \"line\": {\"width\": 1.3}, \"opacity\": 0.8, \"size\": [15], \"symbol\": \"circle\"}, \"mode\": \"markers\", \"name\": \"Human Resources\", \"textfont\": {\"color\": \"#4D5663\"}, \"type\": \"scatter\", \"uid\": \"2e037d93-c65e-498e-bd6f-840904dc8305\", \"x\": [786], \"y\": [\"Human Resources\"]}, {\"marker\": {\"color\": \"rgba(251, 128, 114, 0.3230769230769231)\", \"line\": {\"width\": 1.3}, \"opacity\": 0.8, \"size\": [13], \"symbol\": \"circle\"}, \"mode\": \"markers\", \"name\": \"Business Supplies and Equipment\", \"textfont\": {\"color\": \"#4D5663\"}, \"type\": \"scatter\", \"uid\": \"7fd9ddb1-5259-4667-ae4d-c9d2c6c7d860\", \"x\": [210], \"y\": [\"Business Supplies and Equipment\"]}, {\"marker\": {\"color\": \"rgba(251, 128, 114, 0.26153846153846155)\", \"line\": {\"width\": 1.3}, \"opacity\": 0.8, \"size\": [14], \"symbol\": \"circle\"}, \"mode\": \"markers\", \"name\": \"Mental Health Care\", \"textfont\": {\"color\": \"#4D5663\"}, \"type\": \"scatter\", \"uid\": \"793b7285-3f84-48c3-af91-2256b7fdd52b\", \"x\": [433], \"y\": [\"Mental Health Care\"]}, {\"marker\": {\"color\": \"rgba(128, 177, 211, 0.26153846153846155)\", \"line\": {\"width\": 1.3}, \"opacity\": 0.8, \"size\": [12], \"symbol\": \"circle\"}, \"mode\": \"markers\", \"name\": \"Graphic Design\", \"textfont\": {\"color\": \"#4D5663\"}, \"type\": \"scatter\", \"uid\": \"9c3aa59c-330d-476b-b748-1a5c85c9d9e5\", \"x\": [103], \"y\": [\"Graphic Design\"]}, {\"marker\": {\"color\": \"rgba(255, 153, 51, 0.26153846153846155)\", \"line\": {\"width\": 1.3}, \"opacity\": 0.8, \"size\": [13], \"symbol\": \"circle\"}, \"mode\": \"markers\", \"name\": \"International Trade and Development\", \"textfont\": {\"color\": \"#4D5663\"}, \"type\": \"scatter\", \"uid\": \"dc004d1a-ba58-47e4-9dc0-f2dcde47ef02\", \"x\": [251], \"y\": [\"International Trade and Development\"]}, {\"marker\": {\"color\": \"rgba(55, 128, 191, 0.26153846153846155)\", \"line\": {\"width\": 1.3}, \"opacity\": 0.8, \"size\": [12], \"symbol\": \"circle\"}, \"mode\": \"markers\", \"name\": \"Wine and Spirits\", \"textfont\": {\"color\": \"#4D5663\"}, \"type\": \"scatter\", \"uid\": \"ce25c32e-4c7b-4590-9e81-fd552c4ebe45\", \"x\": [2], \"y\": [\"Wine and Spirits\"]}, {\"marker\": {\"color\": \"rgba(50, 171, 96, 0.26153846153846155)\", \"line\": {\"width\": 1.3}, \"opacity\": 0.8, \"size\": [12], \"symbol\": \"circle\"}, \"mode\": \"markers\", \"name\": \"Luxury Goods & Jewelry\", \"textfont\": {\"color\": \"#4D5663\"}, \"type\": \"scatter\", \"uid\": \"e2017a59-9415-433a-805f-eefdd52819e2\", \"x\": [6], \"y\": [\"Luxury Goods & Jewelry\"]}, {\"marker\": {\"color\": \"rgba(128, 0, 128, 0.26153846153846155)\", \"line\": {\"width\": 1.3}, \"opacity\": 0.8, \"size\": [13], \"symbol\": \"circle\"}, \"mode\": \"markers\", \"name\": \"Renewables & Environment\", \"textfont\": {\"color\": \"#4D5663\"}, \"type\": \"scatter\", \"uid\": \"87911ecb-6a1d-443d-9de6-90365db30e14\", \"x\": [256], \"y\": [\"Renewables & Environment\"]}, {\"marker\": {\"color\": \"rgba(219, 64, 82, 0.26153846153846155)\", \"line\": {\"width\": 1.3}, \"opacity\": 0.8, \"size\": [12], \"symbol\": \"circle\"}, \"mode\": \"markers\", \"name\": \"Glass, Ceramics & Concrete\", \"textfont\": {\"color\": \"#4D5663\"}, \"type\": \"scatter\", \"uid\": \"e06da05b-79ad-46a3-8ea3-e45fd68a603b\", \"x\": [1], \"y\": [\"Glass, Ceramics & Concrete\"]}, {\"marker\": {\"color\": \"rgba(0, 128, 128, 0.26153846153846155)\", \"line\": {\"width\": 1.3}, \"opacity\": 0.8, \"size\": [12], \"symbol\": \"circle\"}, \"mode\": \"markers\", \"name\": \"Packaging and Containers\", \"textfont\": {\"color\": \"#4D5663\"}, \"type\": \"scatter\", \"uid\": \"8d9e434f-c2f1-450f-9f66-9cb9c687b361\", \"x\": [8], \"y\": [\"Packaging and Containers\"]}, {\"marker\": {\"color\": \"rgba(255, 255, 51, 0.26153846153846155)\", \"line\": {\"width\": 1.3}, \"opacity\": 0.8, \"size\": [12], \"symbol\": \"circle\"}, \"mode\": \"markers\", \"name\": \"Industrial Automation\", \"textfont\": {\"color\": \"#4D5663\"}, \"type\": \"scatter\", \"uid\": \"118ece5b-8dc0-4e2f-b82f-cb2cfefb61f9\", \"x\": [3], \"y\": [\"Industrial Automation\"]}, {\"marker\": {\"color\": \"rgba(128, 128, 0, 0.26153846153846155)\", \"line\": {\"width\": 1.3}, \"opacity\": 0.8, \"size\": [13], \"symbol\": \"circle\"}, \"mode\": \"markers\", \"name\": \"Government Relations\", \"textfont\": {\"color\": \"#4D5663\"}, \"type\": \"scatter\", \"uid\": \"286259f8-7e31-4ec6-801f-f38512478626\", \"x\": [215], \"y\": [\"Government Relations\"]}],\n",
       "                        {\"legend\": {\"bgcolor\": \"#F5F6F9\", \"font\": {\"color\": \"#4D5663\"}}, \"paper_bgcolor\": \"#F5F6F9\", \"plot_bgcolor\": \"#F5F6F9\", \"title\": {\"font\": {\"color\": \"#4D5663\"}, \"text\": \"Plot Sized by Total Views and Colored by Industry\"}, \"xaxis\": {\"gridcolor\": \"#E1E5ED\", \"showgrid\": true, \"tickfont\": {\"color\": \"#4D5663\"}, \"title\": {\"font\": {\"color\": \"#4D5663\"}, \"text\": \"Total views\"}, \"zerolinecolor\": \"#E1E5ED\"}, \"yaxis\": {\"gridcolor\": \"#E1E5ED\", \"showgrid\": true, \"tickfont\": {\"color\": \"#4D5663\"}, \"title\": {\"font\": {\"color\": \"#4D5663\"}, \"text\": \"Industry\"}, \"zerolinecolor\": \"#E1E5ED\"}},\n",
       "                        {\"showLink\": true, \"linkText\": \"Export to plot.ly\", \"plotlyServerURL\": \"https://plot.ly\", \"responsive\": true}\n",
       "                    ).then(function(){\n",
       "                            \n",
       "var gd = document.getElementById('a4451ffa-b5c9-4f42-a169-90b9130a7cf9');\n",
       "var x = new MutationObserver(function (mutations, observer) {{\n",
       "        var display = window.getComputedStyle(gd).display;\n",
       "        if (!display || display === 'none') {{\n",
       "            console.log([gd, 'removed!']);\n",
       "            Plotly.purge(gd);\n",
       "            observer.disconnect();\n",
       "        }}\n",
       "}});\n",
       "\n",
       "// Listen for the removal of the full notebook cells\n",
       "var notebookContainer = gd.closest('#notebook-container');\n",
       "if (notebookContainer) {{\n",
       "    x.observe(notebookContainer, {childList: true});\n",
       "}}\n",
       "\n",
       "// Listen for the clearing of the current output cell\n",
       "var outputEl = gd.closest('.output');\n",
       "if (outputEl) {{\n",
       "    x.observe(outputEl, {childList: true});\n",
       "}}\n",
       "\n",
       "                        })\n",
       "                };\n",
       "                });\n",
       "            </script>\n",
       "        </div>"
      ]
     },
     "metadata": {},
     "output_type": "display_data"
    }
   ],
   "source": [
    "colorscales = [\n",
    "    'Greys', 'YlGnBu', 'Greens', 'YlOrRd', 'Bluered', 'RdBu', 'Reds', 'Blues',\n",
    "    'Picnic', 'Rainbow', 'Portland', 'Jet', 'Hot', 'Blackbody', 'Earth',\n",
    "    'Electric', 'Viridis', 'Cividis'\n",
    "]\n",
    "visitor_industry_df.iplot(x='Total views', y='Industry',  kind='bubble2d', xTitle='Total views', yTitle='Industry',\n",
    "           theme='pearl', size='Total views',\n",
    "         categories='Industry', title='Plot Sized by Total Views and Colored by Industry')"
   ]
  },
  {
   "cell_type": "markdown",
   "metadata": {},
   "source": [
    "### Updates or Engagements"
   ]
  },
  {
   "cell_type": "code",
   "execution_count": 13,
   "metadata": {},
   "outputs": [
    {
     "name": "stdout",
     "output_type": "stream",
     "text": [
      "['Update metrics (aggregated)', 'Update engagement']\n"
     ]
    }
   ],
   "source": [
    "print(engagements.sheet_names)"
   ]
  },
  {
   "cell_type": "code",
   "execution_count": 14,
   "metadata": {},
   "outputs": [],
   "source": [
    "engagement_metrics_aggregate_df = pd.read_excel(engagements_file_path,sheet_name = 'Update metrics (aggregated)')\n",
    "engagement_metrics_update_df = pd.read_excel(engagements_file_path,sheet_name = 'Update engagement')"
   ]
  },
  {
   "cell_type": "markdown",
   "metadata": {},
   "source": [
    "##### Fix the Header"
   ]
  },
  {
   "cell_type": "code",
   "execution_count": 25,
   "metadata": {},
   "outputs": [],
   "source": [
    "## Fix the Header\n",
    "new_header = engagement_metrics_update_df.iloc[0] #grab the first row for the header\n",
    "engagement_metrics_update_df = engagement_metrics_update_df[1:] #take the data less the header row\n",
    "engagement_metrics_update_df.columns = new_header #set the header row as the df header\n",
    "\n",
    "\n",
    "new_header_agg = engagement_metrics_aggregate_df.iloc[0] #grab the first row for the header\n",
    "engagement_metrics_aggregate_df = engagement_metrics_aggregate_df[1:] #take the data less the header row\n",
    "engagement_metrics_aggregate_df.columns = new_header_agg #set the header row as the df header\n"
   ]
  },
  {
   "cell_type": "code",
   "execution_count": 26,
   "metadata": {},
   "outputs": [
    {
     "data": {
      "text/plain": [
       "(Index(['Update title', 'Update link', 'Update type', 'Campaign name',\n",
       "        'Posted by', 'Created date', 'Campaign start date', 'Campaign end date',\n",
       "        'Audience', 'Impressions', 'Video views', 'Clicks',\n",
       "        'Click through rate (CTR)', 'Likes', 'Comments', 'Shares', 'Follows',\n",
       "        'Engagement rate'],\n",
       "       dtype='object', name=0),\n",
       " Index(['Date', 'Impressions (organic)', 'Impressions (sponsored)',\n",
       "        'Impressions (total)', 'Unique impressions (organic)',\n",
       "        'Clicks (organic)', 'Clicks (sponsored)', 'Clicks (total)',\n",
       "        'Likes (organic)', 'Likes (sponsored)', 'Likes (total)',\n",
       "        'Comments (organic)', 'Comments (sponsored)', 'Comments (total)',\n",
       "        'Shares (organic)', 'Shares (sponsored)', 'Shares (total)',\n",
       "        'Engagement rate (organic)', 'Engagement rate (sponsored)',\n",
       "        'Engagement rate (total)'],\n",
       "       dtype='object', name=0))"
      ]
     },
     "execution_count": 26,
     "metadata": {},
     "output_type": "execute_result"
    }
   ],
   "source": [
    "engagement_metrics_update_df.columns, engagement_metrics_aggregate_df.columns"
   ]
  },
  {
   "cell_type": "code",
   "execution_count": 22,
   "metadata": {},
   "outputs": [],
   "source": [
    "engagement_metrics_update_df[\"Created date\"] = pd.to_datetime(engagement_metrics_update_df[\"Created date\"])"
   ]
  },
  {
   "cell_type": "code",
   "execution_count": 24,
   "metadata": {},
   "outputs": [
    {
     "name": "stdout",
     "output_type": "stream",
     "text": [
      "Min date: 2018-06-26 00:00:00  Max date: 2019-06-08 00:00:00\n",
      "No of records,(177, 18)\n"
     ]
    }
   ],
   "source": [
    "print(\"Min date:\", engagement_metrics_update_df[\"Created date\"].min(), \" Max date:\", engagement_metrics_update_df[\"Created date\"].max())\n",
    "print(f\"No of records: {engagement_metrics_update_df.shape}\")"
   ]
  },
  {
   "cell_type": "code",
   "execution_count": 59,
   "metadata": {},
   "outputs": [
    {
     "data": {
      "text/plain": [
       "(0       Date Impressions (organic) Impressions (sponsored)  \\\n",
       " 1 2018-06-08                  5313                       0   \n",
       " 2 2018-06-09                  3486                       0   \n",
       " 3 2018-06-10                  3535                       0   \n",
       " 4 2018-06-11                  5349                       0   \n",
       " 5 2018-06-12                  4951                       0   \n",
       " \n",
       " 0 Impressions (total) Unique impressions (organic) Clicks (organic)  \\\n",
       " 1                5313                         2393               55   \n",
       " 2                3486                         1669               35   \n",
       " 3                3535                         1653               39   \n",
       " 4                5349                         2306               47   \n",
       " 5                4951                         2015               46   \n",
       " \n",
       " 0 Clicks (sponsored) Clicks (total) Likes (organic) Likes (sponsored)  \\\n",
       " 1                  0             55              20                 0   \n",
       " 2                  0             35              15                 0   \n",
       " 3                  0             39              18                 0   \n",
       " 4                  0             47               8                 0   \n",
       " 5                  0             46              16                 0   \n",
       " \n",
       " 0 Likes (total) Comments (organic) Comments (sponsored) Comments (total)  \\\n",
       " 1            20                  0                    0                0   \n",
       " 2            15                  0                    0                0   \n",
       " 3            18                  0                    0                0   \n",
       " 4             8                  0                    0                0   \n",
       " 5            16                  1                    0                1   \n",
       " \n",
       " 0 Shares (organic) Shares (sponsored) Shares (total)  \\\n",
       " 1                1                  0              1   \n",
       " 2                1                  0              1   \n",
       " 3                1                  0              1   \n",
       " 4                0                  0              0   \n",
       " 5                2                  0              2   \n",
       " \n",
       " 0 Engagement rate (organic) Engagement rate (sponsored)  \\\n",
       " 1                 0.0143045                           0   \n",
       " 2                 0.0146299                           0   \n",
       " 3                 0.0164074                           0   \n",
       " 4                 0.0102823                           0   \n",
       " 5                 0.0131287                           0   \n",
       " \n",
       " 0 Engagement rate (total)  \n",
       " 1               0.0143045  \n",
       " 2               0.0146299  \n",
       " 3               0.0164074  \n",
       " 4               0.0102823  \n",
       " 5               0.0131287  ,\n",
       " Index(['Date', 'Impressions (organic)', 'Impressions (sponsored)',\n",
       "        'Impressions (total)', 'Unique impressions (organic)',\n",
       "        'Clicks (organic)', 'Clicks (sponsored)', 'Clicks (total)',\n",
       "        'Likes (organic)', 'Likes (sponsored)', 'Likes (total)',\n",
       "        'Comments (organic)', 'Comments (sponsored)', 'Comments (total)',\n",
       "        'Shares (organic)', 'Shares (sponsored)', 'Shares (total)',\n",
       "        'Engagement rate (organic)', 'Engagement rate (sponsored)',\n",
       "        'Engagement rate (total)'],\n",
       "       dtype='object', name=0))"
      ]
     },
     "execution_count": 59,
     "metadata": {},
     "output_type": "execute_result"
    }
   ],
   "source": [
    "engagement_metrics_aggregate_df.head(),engagement_metrics_aggregate_df.columns"
   ]
  },
  {
   "cell_type": "code",
   "execution_count": 34,
   "metadata": {},
   "outputs": [],
   "source": [
    "engagement_metrics_aggregate_df[\"Date\"] = pd.to_datetime(engagement_metrics_aggregate_df[\"Date\"])"
   ]
  },
  {
   "cell_type": "code",
   "execution_count": 88,
   "metadata": {},
   "outputs": [
    {
     "data": {
      "text/plain": [
       "{'Date': 0.0,\n",
       " 'Impressions (organic)': 0.0,\n",
       " 'Impressions (sponsored)': 0.0,\n",
       " 'Impressions (total)': 0.0,\n",
       " 'Unique impressions (organic)': 0.0,\n",
       " 'Clicks (organic)': 0.0,\n",
       " 'Clicks (sponsored)': 0.0,\n",
       " 'Clicks (total)': 0.0,\n",
       " 'Likes (organic)': 0.0,\n",
       " 'Likes (sponsored)': 0.0,\n",
       " 'Likes (total)': 0.0,\n",
       " 'Comments (organic)': 0.0,\n",
       " 'Comments (sponsored)': 0.0,\n",
       " 'Comments (total)': 0.0,\n",
       " 'Shares (organic)': 0.0,\n",
       " 'Shares (sponsored)': 0.0,\n",
       " 'Shares (total)': 0.0,\n",
       " 'Engagement rate (organic)': 0.0,\n",
       " 'Engagement rate (sponsored)': 0.0,\n",
       " 'Engagement rate (total)': 0.0}"
      ]
     },
     "execution_count": 88,
     "metadata": {},
     "output_type": "execute_result"
    }
   ],
   "source": [
    "# determine the percent of missing values\n",
    "def percent_missing(df):\n",
    "    data = pd.DataFrame(df)\n",
    "    df_cols = list(pd.DataFrame(data))\n",
    "    dict_x = {}\n",
    "    for i in range(0, len(df_cols)):\n",
    "        dict_x.update({df_cols[i]: round(data[df_cols[i]].isnull().mean()*100,2)})\n",
    "    \n",
    "    return dict_x\n",
    "\n",
    "percent_missing(engagement_metrics_aggregate_df)"
   ]
  },
  {
   "cell_type": "code",
   "execution_count": 82,
   "metadata": {},
   "outputs": [
    {
     "data": {
      "text/html": [
       "<div>\n",
       "<style scoped>\n",
       "    .dataframe tbody tr th:only-of-type {\n",
       "        vertical-align: middle;\n",
       "    }\n",
       "\n",
       "    .dataframe tbody tr th {\n",
       "        vertical-align: top;\n",
       "    }\n",
       "\n",
       "    .dataframe thead th {\n",
       "        text-align: right;\n",
       "    }\n",
       "</style>\n",
       "<table border=\"1\" class=\"dataframe\">\n",
       "  <thead>\n",
       "    <tr style=\"text-align: right;\">\n",
       "      <th></th>\n",
       "      <th>count</th>\n",
       "      <th>unique</th>\n",
       "      <th>top</th>\n",
       "      <th>freq</th>\n",
       "    </tr>\n",
       "    <tr>\n",
       "      <th>Date</th>\n",
       "      <th></th>\n",
       "      <th></th>\n",
       "      <th></th>\n",
       "      <th></th>\n",
       "    </tr>\n",
       "  </thead>\n",
       "  <tbody>\n",
       "    <tr>\n",
       "      <th>April</th>\n",
       "      <td>30.0</td>\n",
       "      <td>30.0</td>\n",
       "      <td>0.047926</td>\n",
       "      <td>1.0</td>\n",
       "    </tr>\n",
       "    <tr>\n",
       "      <th>August</th>\n",
       "      <td>31.0</td>\n",
       "      <td>31.0</td>\n",
       "      <td>0.019706</td>\n",
       "      <td>1.0</td>\n",
       "    </tr>\n",
       "    <tr>\n",
       "      <th>December</th>\n",
       "      <td>31.0</td>\n",
       "      <td>31.0</td>\n",
       "      <td>0.088166</td>\n",
       "      <td>1.0</td>\n",
       "    </tr>\n",
       "    <tr>\n",
       "      <th>February</th>\n",
       "      <td>28.0</td>\n",
       "      <td>28.0</td>\n",
       "      <td>0.026203</td>\n",
       "      <td>1.0</td>\n",
       "    </tr>\n",
       "    <tr>\n",
       "      <th>January</th>\n",
       "      <td>31.0</td>\n",
       "      <td>31.0</td>\n",
       "      <td>0.035781</td>\n",
       "      <td>1.0</td>\n",
       "    </tr>\n",
       "    <tr>\n",
       "      <th>July</th>\n",
       "      <td>31.0</td>\n",
       "      <td>31.0</td>\n",
       "      <td>0.017767</td>\n",
       "      <td>1.0</td>\n",
       "    </tr>\n",
       "    <tr>\n",
       "      <th>June</th>\n",
       "      <td>32.0</td>\n",
       "      <td>32.0</td>\n",
       "      <td>0.016434</td>\n",
       "      <td>1.0</td>\n",
       "    </tr>\n",
       "    <tr>\n",
       "      <th>March</th>\n",
       "      <td>31.0</td>\n",
       "      <td>31.0</td>\n",
       "      <td>0.021510</td>\n",
       "      <td>1.0</td>\n",
       "    </tr>\n",
       "    <tr>\n",
       "      <th>May</th>\n",
       "      <td>31.0</td>\n",
       "      <td>31.0</td>\n",
       "      <td>0.040334</td>\n",
       "      <td>1.0</td>\n",
       "    </tr>\n",
       "    <tr>\n",
       "      <th>November</th>\n",
       "      <td>30.0</td>\n",
       "      <td>30.0</td>\n",
       "      <td>0.014521</td>\n",
       "      <td>1.0</td>\n",
       "    </tr>\n",
       "    <tr>\n",
       "      <th>October</th>\n",
       "      <td>31.0</td>\n",
       "      <td>31.0</td>\n",
       "      <td>0.034491</td>\n",
       "      <td>1.0</td>\n",
       "    </tr>\n",
       "    <tr>\n",
       "      <th>September</th>\n",
       "      <td>30.0</td>\n",
       "      <td>30.0</td>\n",
       "      <td>0.047353</td>\n",
       "      <td>1.0</td>\n",
       "    </tr>\n",
       "  </tbody>\n",
       "</table>\n",
       "</div>"
      ],
      "text/plain": [
       "           count  unique       top  freq\n",
       "Date                                    \n",
       "April       30.0    30.0  0.047926   1.0\n",
       "August      31.0    31.0  0.019706   1.0\n",
       "December    31.0    31.0  0.088166   1.0\n",
       "February    28.0    28.0  0.026203   1.0\n",
       "January     31.0    31.0  0.035781   1.0\n",
       "July        31.0    31.0  0.017767   1.0\n",
       "June        32.0    32.0  0.016434   1.0\n",
       "March       31.0    31.0  0.021510   1.0\n",
       "May         31.0    31.0  0.040334   1.0\n",
       "November    30.0    30.0  0.014521   1.0\n",
       "October     31.0    31.0  0.034491   1.0\n",
       "September   30.0    30.0  0.047353   1.0"
      ]
     },
     "execution_count": 82,
     "metadata": {},
     "output_type": "execute_result"
    }
   ],
   "source": [
    "#engagement_metrics_aggregate_df.set_index(\"Date\")\n",
    "engagement_metrics_aggregate_df.groupby(engagement_metrics_aggregate_df['Date'].dt.strftime('%B'))['Engagement rate (total)'].describe()"
   ]
  },
  {
   "cell_type": "code",
   "execution_count": 98,
   "metadata": {},
   "outputs": [
    {
     "data": {
      "text/plain": [
       "<matplotlib.axes._subplots.AxesSubplot at 0x7fa3e868a630>"
      ]
     },
     "execution_count": 98,
     "metadata": {},
     "output_type": "execute_result"
    },
    {
     "data": {
      "image/png": "[encoded data removed]",
      "text/plain": [
       "<Figure size 432x288 with 1 Axes>"
      ]
     },
     "metadata": {
      "needs_background": "light"
     },
     "output_type": "display_data"
    }
   ],
   "source": [
    "engagement_metrics_aggregate_df[[\"Engagement rate (total)\",\"Date\"]].set_index(\"Date\").plot()"
   ]
  },
  {
   "cell_type": "code",
   "execution_count": 100,
   "metadata": {},
   "outputs": [
    {
     "data": {
      "text/plain": [
       "Index(['Update title', 'Update link', 'Update type', 'Campaign name',\n",
       "       'Posted by', 'Created date', 'Campaign start date', 'Campaign end date',\n",
       "       'Audience', 'Impressions', 'Video views', 'Clicks',\n",
       "       'Click through rate (CTR)', 'Likes', 'Comments', 'Shares', 'Follows',\n",
       "       'Engagement rate'],\n",
       "      dtype='object', name=0)"
      ]
     },
     "execution_count": 100,
     "metadata": {},
     "output_type": "execute_result"
    }
   ],
   "source": [
    "engagement_metrics_update_df.columns"
   ]
  },
  {
   "cell_type": "code",
   "execution_count": 103,
   "metadata": {},
   "outputs": [
    {
     "data": {
      "text/plain": [
       "74     Find out who'll be speaking at Indiana Univers...\n",
       "107                                           It's true.\n",
       "161    IU's Kelley School of Business was just ranked...\n",
       "1      🚨BIG NEWS🚨 \\n\\nIndiana University is acquiring...\n",
       "58     This Indiana University - Kelley School of Bus...\n",
       "42     Six alumni of the Indiana University - Kelley ...\n",
       "23     Sometimes a college career doesn't progress in...\n",
       "83     For the third time in four years, the Paul H. ...\n",
       "175    \"Few cities, large or small, offer more than B...\n",
       "114    Having an impact, changing lives, making a dif...\n",
       "112    This IU alumnus and his partner just created a...\n",
       "126    Meet the Indiana University Office of the Bice...\n",
       "2      College is more than a collection of classes a...\n",
       "34     Our hearts are with the family and friends of ...\n",
       "150    For the fourth consecutive year, Indiana Unive...\n",
       "90     Today the IU School of Public and Environmenta...\n",
       "10     IU researchers have created a powerful new mol...\n",
       "131    \\nWe're constantly in awe of the incredible wo...\n",
       "168    Calling IU Alumni Job Seekers: \\n\\nAre you see...\n",
       "54     \"Much work needs to be done to encourage more ...\n",
       "71     A true Hoosier champion - Lilly King just beca...\n",
       "16     \"I.M. Pei was one of the greatest and most acc...\n",
       "167    Calling IU Alumni Job Seekers: \\n\\nAre you see...\n",
       "38     Indiana University will award more than 21,000...\n",
       "81     A cutting-edge blood test discovered by Indian...\n",
       "152    The Indiana University family is deeply sadden...\n",
       "51     The IU School of Art, Architecture + Design ha...\n",
       "57     Indiana University Bloomington has appointed R...\n",
       "47     A Silicon Valley innovator, a former U.S. amba...\n",
       "80     The Indiana University community mourns the pa...\n",
       "108    Congrats to these Indiana University - Kelley ...\n",
       "60     The IU Alumni Association is proud to present ...\n",
       "129    This Indiana University professor's intelligen...\n",
       "95     For the fourth year in a row, Indiana Universi...\n",
       "29     Join us live today at 3 p.m. to celebrate this...\n",
       "165    Attention IU Alumni, Would you like to work fo...\n",
       "28     Join us live today at 10 a.m. to celebrate the...\n",
       "133    Faculty who inspire: congratulations to the ei...\n",
       "59     Forty Little 500s ago in April 1979, Indiana U...\n",
       "111    Moving up - after being ranked second last yea...\n",
       "115    \\nIU Bloomington ranks sixth among U.S. colleg...\n",
       "76     The IU Alumni Association is proud to present ...\n",
       "65     Visiting the past shouldn’t be difficult.\\nAt ...\n",
       "177    Work somewhere you know you already love! Come...\n",
       "120    IU physicist co-leads study reporting the firs...\n",
       "20     This year's IU Bloomington commencement by the...\n",
       "Name: Update title, dtype: object"
      ]
     },
     "execution_count": 103,
     "metadata": {},
     "output_type": "execute_result"
    }
   ],
   "source": [
    "engagement_metrics_update_df.sort_values(by='Engagement rate',ascending=False).loc[:20,'Update title']"
   ]
  },
  {
   "cell_type": "markdown",
   "metadata": {},
   "source": [
    "### Followers"
   ]
  },
  {
   "cell_type": "code",
   "execution_count": 29,
   "metadata": {},
   "outputs": [
    {
     "name": "stdout",
     "output_type": "stream",
     "text": [
      "['New followers', 'Location', 'Job function', 'Seniority', 'Industry', 'Company size']\n"
     ]
    }
   ],
   "source": [
    "print(followers.sheet_names)"
   ]
  },
  {
   "cell_type": "code",
   "execution_count": 99,
   "metadata": {},
   "outputs": [],
   "source": [
    "new_followers_df = pd.read_excel(followers_file_path, sheet_name='New followers')\n",
    "followers_location_df = pd.read_excel(followers_file_path,sheet_name = \"Location\")\n",
    "followers_job_function_df = pd.read_excel(followers_file_path,sheet_name = \"Job function\")\n",
    "followers_industry_df = pd.read_excel(followers_file_path,sheet_name= \"Industry\")\n",
    "followers_company_size_df = pd.read_excel(followers_file_path, sheet_name = \"Company size\")\n",
    "followers_seniority_df = pd.read_excel(followers_file_path,sheet_name = \"Seniority\")\n"
   ]
  },
  {
   "cell_type": "code",
   "execution_count": 104,
   "metadata": {},
   "outputs": [
    {
     "name": "stdout",
     "output_type": "stream",
     "text": [
      "Min date: 01/01/2019  Max date: 12/31/2018\n",
      "Number of records, in followers metrics: (367, 4)\n",
      "Number of records, in followers location: (99, 2)\n",
      "Number of records, in followers job function: (26, 2)\n",
      "Number of records, in followers industry: (99, 2)\n",
      "Number of records, in followers company size: (9, 2)\n",
      "Number of records, in followers seniority: (10, 2)\n"
     ]
    }
   ],
   "source": [
    "print(\"Min date:\", new_followers_df['Date'].min(), \" Max date:\", new_followers_df[\"Date\"].max())\n",
    "print(f\"Number of records, in followers metrics: {new_followers_df.shape}\")\n",
    "print(f\"Number of records, in followers location: {followers_location_df.shape}\")\n",
    "print(f\"Number of records, in followers job function: {followers_job_function_df.shape}\")\n",
    "print(f\"Number of records, in followers industry: {followers_industry_df.shape}\")\n",
    "print(f\"Number of records, in followers company size: {followers_company_size_df.shape}\")\n",
    "print(f\"Number of records, in followers seniority: {followers_seniority_df.shape}\")\n",
    "\n"
   ]
  },
  {
   "cell_type": "code",
   "execution_count": 105,
   "metadata": {},
   "outputs": [
    {
     "data": {
      "text/plain": [
       "<matplotlib.axes._subplots.AxesSubplot at 0x7fa3e859a7f0>"
      ]
     },
     "execution_count": 105,
     "metadata": {},
     "output_type": "execute_result"
    },
    {
     "data": {
      "image/png": "[encoded data removed]",
      "text/plain": [
       "<Figure size 432x288 with 1 Axes>"
      ]
     },
     "metadata": {
      "needs_background": "light"
     },
     "output_type": "display_data"
    }
   ],
   "source": [
    "followers_job_function_df.sort_values(by=\"Total followers\",ascending = False)[:10].set_index(\"Job function\").plot(kind=\"barh\")"
   ]
  },
  {
   "cell_type": "code",
   "execution_count": 108,
   "metadata": {},
   "outputs": [
    {
     "data": {
      "text/plain": [
       "<matplotlib.axes._subplots.AxesSubplot at 0x7fa3f9d86630>"
      ]
     },
     "execution_count": 108,
     "metadata": {},
     "output_type": "execute_result"
    },
    {
     "data": {
      "image/png": "[encoded data removed]",
      "text/plain": [
       "<Figure size 432x288 with 1 Axes>"
      ]
     },
     "metadata": {
      "needs_background": "light"
     },
     "output_type": "display_data"
    }
   ],
   "source": [
    "new_followers_df.set_index(\"Date\").plot(kind=\"line\")"
   ]
  },
  {
   "cell_type": "code",
   "execution_count": 109,
   "metadata": {},
   "outputs": [
    {
     "data": {
      "text/plain": [
       "<matplotlib.axes._subplots.AxesSubplot at 0x7fa41a146400>"
      ]
     },
     "execution_count": 109,
     "metadata": {},
     "output_type": "execute_result"
    },
    {
     "data": {
      "image/png": "[encoded data removed]",
      "text/plain": [
       "<Figure size 432x288 with 1 Axes>"
      ]
     },
     "metadata": {},
     "output_type": "display_data"
    }
   ],
   "source": [
    "followers_seniority_df.set_index(\"Seniority\").plot.pie(y = \"Total followers\")\n"
   ]
  },
  {
   "cell_type": "code",
   "execution_count": 116,
   "metadata": {},
   "outputs": [
    {
     "data": {
      "text/html": [
       "<div>\n",
       "<style scoped>\n",
       "    .dataframe tbody tr th:only-of-type {\n",
       "        vertical-align: middle;\n",
       "    }\n",
       "\n",
       "    .dataframe tbody tr th {\n",
       "        vertical-align: top;\n",
       "    }\n",
       "\n",
       "    .dataframe thead th {\n",
       "        text-align: right;\n",
       "    }\n",
       "</style>\n",
       "<table border=\"1\" class=\"dataframe\">\n",
       "  <thead>\n",
       "    <tr style=\"text-align: right;\">\n",
       "      <th></th>\n",
       "      <th>Total followers</th>\n",
       "    </tr>\n",
       "    <tr>\n",
       "      <th>Location</th>\n",
       "      <th></th>\n",
       "    </tr>\n",
       "  </thead>\n",
       "  <tbody>\n",
       "    <tr>\n",
       "      <th>Indianapolis, Indiana Area</th>\n",
       "      <td>56075</td>\n",
       "    </tr>\n",
       "    <tr>\n",
       "      <th>Bloomington, Indiana Area</th>\n",
       "      <td>39203</td>\n",
       "    </tr>\n",
       "    <tr>\n",
       "      <th>Greater Chicago Area</th>\n",
       "      <td>36751</td>\n",
       "    </tr>\n",
       "    <tr>\n",
       "      <th>Greater New York City Area</th>\n",
       "      <td>13246</td>\n",
       "    </tr>\n",
       "    <tr>\n",
       "      <th>Washington D.C. Metro Area</th>\n",
       "      <td>6732</td>\n",
       "    </tr>\n",
       "    <tr>\n",
       "      <th>San Francisco Bay Area</th>\n",
       "      <td>6580</td>\n",
       "    </tr>\n",
       "    <tr>\n",
       "      <th>Greater Los Angeles Area</th>\n",
       "      <td>6306</td>\n",
       "    </tr>\n",
       "    <tr>\n",
       "      <th>Louisville, Kentucky Area</th>\n",
       "      <td>6282</td>\n",
       "    </tr>\n",
       "    <tr>\n",
       "      <th>Fort Wayne, Indiana Area</th>\n",
       "      <td>5979</td>\n",
       "    </tr>\n",
       "    <tr>\n",
       "      <th>Cincinnati, Ohio Area</th>\n",
       "      <td>5432</td>\n",
       "    </tr>\n",
       "    <tr>\n",
       "      <th>Greater Denver Area</th>\n",
       "      <td>4640</td>\n",
       "    </tr>\n",
       "    <tr>\n",
       "      <th>Greater Atlanta Area</th>\n",
       "      <td>4211</td>\n",
       "    </tr>\n",
       "    <tr>\n",
       "      <th>South Bend, Indiana Area</th>\n",
       "      <td>3623</td>\n",
       "    </tr>\n",
       "    <tr>\n",
       "      <th>Dallas/Fort Worth Area</th>\n",
       "      <td>3446</td>\n",
       "    </tr>\n",
       "    <tr>\n",
       "      <th>Evansville, Indiana Area</th>\n",
       "      <td>3444</td>\n",
       "    </tr>\n",
       "    <tr>\n",
       "      <th>Greater Boston Area</th>\n",
       "      <td>3317</td>\n",
       "    </tr>\n",
       "    <tr>\n",
       "      <th>Greater Seattle Area</th>\n",
       "      <td>3057</td>\n",
       "    </tr>\n",
       "    <tr>\n",
       "      <th>Greater Detroit Area</th>\n",
       "      <td>2856</td>\n",
       "    </tr>\n",
       "    <tr>\n",
       "      <th>Greater St. Louis Area</th>\n",
       "      <td>2695</td>\n",
       "    </tr>\n",
       "    <tr>\n",
       "      <th>Phoenix, Arizona Area</th>\n",
       "      <td>2533</td>\n",
       "    </tr>\n",
       "  </tbody>\n",
       "</table>\n",
       "</div>"
      ],
      "text/plain": [
       "                            Total followers\n",
       "Location                                   \n",
       "Indianapolis, Indiana Area            56075\n",
       "Bloomington, Indiana Area             39203\n",
       "Greater Chicago Area                  36751\n",
       "Greater New York City Area            13246\n",
       "Washington D.C. Metro Area             6732\n",
       "San Francisco Bay Area                 6580\n",
       "Greater Los Angeles Area               6306\n",
       "Louisville, Kentucky Area              6282\n",
       "Fort Wayne, Indiana Area               5979\n",
       "Cincinnati, Ohio Area                  5432\n",
       "Greater Denver Area                    4640\n",
       "Greater Atlanta Area                   4211\n",
       "South Bend, Indiana Area               3623\n",
       "Dallas/Fort Worth Area                 3446\n",
       "Evansville, Indiana Area               3444\n",
       "Greater Boston Area                    3317\n",
       "Greater Seattle Area                   3057\n",
       "Greater Detroit Area                   2856\n",
       "Greater St. Louis Area                 2695\n",
       "Phoenix, Arizona Area                  2533"
      ]
     },
     "execution_count": 116,
     "metadata": {},
     "output_type": "execute_result"
    }
   ],
   "source": [
    "followers_location_df.set_index(\"Location\").sort_values(by=\"Total followers\",ascending=False)[:20]"
   ]
  },
  {
   "cell_type": "code",
   "execution_count": 118,
   "metadata": {},
   "outputs": [
    {
     "data": {
      "text/plain": [
       "<matplotlib.axes._subplots.AxesSubplot at 0x7fa3f9d45f60>"
      ]
     },
     "execution_count": 118,
     "metadata": {},
     "output_type": "execute_result"
    },
    {
     "data": {
      "image/png": "[encoded data removed]",
      "text/plain": [
       "<Figure size 432x288 with 1 Axes>"
      ]
     },
     "metadata": {
      "needs_background": "light"
     },
     "output_type": "display_data"
    }
   ],
   "source": [
    "followers_location_df.set_index(\"Location\").sort_values(by=\"Total followers\",ascending=False)[:20].plot(kind=\"barh\")"
   ]
  },
  {
   "cell_type": "markdown",
   "metadata": {},
   "source": [
    "### Engagement Insights"
   ]
  },
  {
   "cell_type": "code",
   "execution_count": 130,
   "metadata": {},
   "outputs": [],
   "source": [
    "def make_engagement_insights(file,visitor_metrics_df, engagement_metrics_aggregate_df, new_followers_df):\n",
    "    csvFile = open(file,\"w\")\n",
    "    csvWriter = csv.writer(csvFile)\n",
    "    csvWriter.writerow(['Date',\n",
    "                        'Total page views (desktop)',\n",
    "                        'Total page views (mobile)',\n",
    "                        'Total page views (total)',\n",
    "                        'Total unique visitors (desktop)',\n",
    "                        'Total unique visitors (mobile)',\n",
    "                        'Total unique visitors (total)',\n",
    "                        'Sponsored followers',\n",
    "                        'Organic followers',\n",
    "                        'Total followers',\n",
    "                        'Impressions (organic)', \n",
    "                        'Impressions (sponsored)',\n",
    "                        'Impressions (total)', \n",
    "                        'Unique impressions (organic)',\n",
    "        'Clicks (organic)', 'Clicks (sponsored)', 'Clicks (total)',\n",
    "        'Likes (organic)', 'Likes (sponsored)', 'Likes (total)',\n",
    "        'Comments (organic)', 'Comments (sponsored)', 'Comments (total)',\n",
    "        'Shares (organic)', 'Shares (sponsored)', 'Shares (total)',\n",
    "        'Engagement rate (organic)', 'Engagement rate (sponsored)',\n",
    "        'Engagement rate (total)'])\n",
    "\n",
    "\n",
    "    # days between start and end date\n",
    "    delta = end_date - start_date  # timedelta\n",
    "\n",
    "    visitor_metrics_df = visitor_metrics_df.fillna(0)\n",
    "    engagement_metrics_aggregate_df = engagement_metrics_aggregate_df.fillna(0)\n",
    "    new_followers_df = new_followers_df.fillna(0)\n",
    "    \n",
    "    ## Set Index Date\n",
    "    visitor_metrics_df[\"Date\"] = pd.to_datetime(visitor_metrics_df[\"Date\"])\n",
    "    new_followers_df[\"Date\"] = pd.to_datetime(new_followers_df[\"Date\"])\n",
    "    engagement_metrics_aggregate_df[\"Date\"] = pd.to_datetime(engagement_metrics_aggregate_df[\"Date\"])\n",
    "    \n",
    "    visitor_metrics_df = visitor_metrics_df.set_index(\"Date\")\n",
    "    new_followers_df = new_followers_df.set_index(\"Date\")\n",
    "    engagement_metrics_aggregate_df = engagement_metrics_aggregate_df.set_index(\"Date\")\n",
    "\n",
    "    \n",
    "    for i in range(delta.days + 1):\n",
    "        metric = []\n",
    "\n",
    "        date = start_date + timedelta(days=i)\n",
    "\n",
    "        ## visitor metrics\n",
    "        v = visitor_metrics_df[visitor_metrics_df.index.date==date]\n",
    "        metric.append(date)\n",
    "        metric.append(float(v[\"Total page views (desktop)\"]))\n",
    "        metric.append(float(v[\"Total page views (mobile)\"]))\n",
    "        metric.append(float(v[\"Total page views (total)\"]))\n",
    "        metric.append(float(v[\"Total unique visitors (desktop)\"]))\n",
    "        metric.append(float(v[\"Total unique visitors (mobile)\"]))\n",
    "        metric.append(float(v[\"Total unique visitors (total)\"]))\n",
    "\n",
    "        ## follower metrics\n",
    "\n",
    "        f = new_followers_df[new_followers_df.index.date==date]\n",
    "        metric.append(float(f[\"Sponsored followers\"]))\n",
    "        metric.append(float(f[\"Organic followers\"]))\n",
    "        metric.append(float(f['Total followers']))\n",
    "\n",
    "        ## engagement \n",
    "        try:\n",
    "            e = engagement_metrics_aggregate_df[engagement_metrics_aggregate_df.index.date == date]\n",
    "            metric.append(float(e['Impressions (organic)']))\n",
    "            metric.append(float(e['Impressions (sponsored)']))\n",
    "            metric.append(float(e['Impressions (total)']))\n",
    "            metric.append(float(e['Unique impressions (organic)']))\n",
    "            metric.append(float(e['Clicks (organic)']))\n",
    "            metric.append(float(e['Clicks (total)']))\n",
    "            metric.append(float(e['Clicks (sponsored)']))\n",
    "            metric.append(float(e['Likes (organic)']))\n",
    "            metric.append(float(e['Likes (sponsored)']))\n",
    "            metric.append(float(e['Likes (total)']))\n",
    "            metric.append(float(e['Comments (organic)']))\n",
    "            metric.append(float(e['Comments (sponsored)']))\n",
    "            metric.append(float(e['Comments (total)']))\n",
    "            metric.append(float(e['Shares (organic)']))\n",
    "            metric.append(float(e['Shares (sponsored)']))\n",
    "            metric.append(float(e['Shares (total)']))\n",
    "            metric.append(float(e['Engagement rate (organic)']))\n",
    "            metric.append(float(e['Engagement rate (sponsored)']))\n",
    "            metric.append(float(e['Engagement rate (total)']))\n",
    "            \n",
    "        except:   \n",
    "            for r in range(19):\n",
    "                metric.append(0)\n",
    "        csvWriter.writerow(metric)\n",
    "        \n",
    "    print(\"Copying done!\",date)    \n",
    "        "
   ]
  },
  {
   "cell_type": "code",
   "execution_count": 131,
   "metadata": {},
   "outputs": [
    {
     "name": "stdout",
     "output_type": "stream",
     "text": [
      "Copying done! 2019-06-09\n"
     ]
    }
   ],
   "source": [
    "make_engagement_insights(engagement_insights_filepath,visitor_metrics_df,engagement_metrics_aggregate_df,new_followers_df)"
   ]
  },
  {
   "cell_type": "code",
   "execution_count": 133,
   "metadata": {},
   "outputs": [
    {
     "name": "stdout",
     "output_type": "stream",
     "text": [
      "Number of rows and columns (367, 29)\n"
     ]
    }
   ],
   "source": [
    "metrics_df  = pd.read_csv(engagement_insights_filepath)\n",
    "print(f\"Number of rows and columns\",metrics_df.shape)"
   ]
  },
  {
   "cell_type": "code",
   "execution_count": 138,
   "metadata": {},
   "outputs": [
    {
     "data": {
      "text/html": [
       "<div>\n",
       "<style scoped>\n",
       "    .dataframe tbody tr th:only-of-type {\n",
       "        vertical-align: middle;\n",
       "    }\n",
       "\n",
       "    .dataframe tbody tr th {\n",
       "        vertical-align: top;\n",
       "    }\n",
       "\n",
       "    .dataframe thead th {\n",
       "        text-align: right;\n",
       "    }\n",
       "</style>\n",
       "<table border=\"1\" class=\"dataframe\">\n",
       "  <thead>\n",
       "    <tr style=\"text-align: right;\">\n",
       "      <th></th>\n",
       "      <th>Date</th>\n",
       "      <th>Total page views (desktop)</th>\n",
       "      <th>Total page views (mobile)</th>\n",
       "      <th>Total page views (total)</th>\n",
       "      <th>Total unique visitors (desktop)</th>\n",
       "      <th>Total unique visitors (mobile)</th>\n",
       "      <th>Total unique visitors (total)</th>\n",
       "      <th>Sponsored followers</th>\n",
       "      <th>Organic followers</th>\n",
       "      <th>Total followers</th>\n",
       "      <th>Impressions (organic)</th>\n",
       "      <th>Impressions (sponsored)</th>\n",
       "      <th>Impressions (total)</th>\n",
       "      <th>Unique impressions (organic)</th>\n",
       "      <th>Clicks (organic)</th>\n",
       "      <th>Clicks (sponsored)</th>\n",
       "      <th>Clicks (total)</th>\n",
       "      <th>Likes (organic)</th>\n",
       "      <th>Likes (sponsored)</th>\n",
       "      <th>Likes (total)</th>\n",
       "      <th>Comments (organic)</th>\n",
       "      <th>Comments (sponsored)</th>\n",
       "      <th>Comments (total)</th>\n",
       "      <th>Shares (organic)</th>\n",
       "      <th>Shares (sponsored)</th>\n",
       "      <th>Shares (total)</th>\n",
       "      <th>Engagement rate (organic)</th>\n",
       "      <th>Engagement rate (sponsored)</th>\n",
       "      <th>Engagement rate (total)</th>\n",
       "    </tr>\n",
       "  </thead>\n",
       "  <tbody>\n",
       "    <tr>\n",
       "      <th>0</th>\n",
       "      <td>2018-06-08</td>\n",
       "      <td>198.0</td>\n",
       "      <td>288.0</td>\n",
       "      <td>486.0</td>\n",
       "      <td>142.0</td>\n",
       "      <td>97.0</td>\n",
       "      <td>239.0</td>\n",
       "      <td>0.0</td>\n",
       "      <td>63.0</td>\n",
       "      <td>63.0</td>\n",
       "      <td>5313.0</td>\n",
       "      <td>0.0</td>\n",
       "      <td>5313.0</td>\n",
       "      <td>2393.0</td>\n",
       "      <td>55.0</td>\n",
       "      <td>55.0</td>\n",
       "      <td>0.0</td>\n",
       "      <td>20.0</td>\n",
       "      <td>0.0</td>\n",
       "      <td>20.0</td>\n",
       "      <td>0.0</td>\n",
       "      <td>0.0</td>\n",
       "      <td>0.0</td>\n",
       "      <td>1.0</td>\n",
       "      <td>0.0</td>\n",
       "      <td>1.0</td>\n",
       "      <td>0.014305</td>\n",
       "      <td>0.000000</td>\n",
       "      <td>0.014305</td>\n",
       "    </tr>\n",
       "    <tr>\n",
       "      <th>1</th>\n",
       "      <td>2018-06-09</td>\n",
       "      <td>61.0</td>\n",
       "      <td>225.0</td>\n",
       "      <td>286.0</td>\n",
       "      <td>46.0</td>\n",
       "      <td>87.0</td>\n",
       "      <td>133.0</td>\n",
       "      <td>0.0</td>\n",
       "      <td>34.0</td>\n",
       "      <td>34.0</td>\n",
       "      <td>3486.0</td>\n",
       "      <td>0.0</td>\n",
       "      <td>3486.0</td>\n",
       "      <td>1669.0</td>\n",
       "      <td>35.0</td>\n",
       "      <td>35.0</td>\n",
       "      <td>0.0</td>\n",
       "      <td>15.0</td>\n",
       "      <td>0.0</td>\n",
       "      <td>15.0</td>\n",
       "      <td>0.0</td>\n",
       "      <td>0.0</td>\n",
       "      <td>0.0</td>\n",
       "      <td>1.0</td>\n",
       "      <td>0.0</td>\n",
       "      <td>1.0</td>\n",
       "      <td>0.014630</td>\n",
       "      <td>0.000000</td>\n",
       "      <td>0.014630</td>\n",
       "    </tr>\n",
       "    <tr>\n",
       "      <th>2</th>\n",
       "      <td>2018-06-10</td>\n",
       "      <td>69.0</td>\n",
       "      <td>268.0</td>\n",
       "      <td>337.0</td>\n",
       "      <td>54.0</td>\n",
       "      <td>82.0</td>\n",
       "      <td>135.0</td>\n",
       "      <td>0.0</td>\n",
       "      <td>48.0</td>\n",
       "      <td>48.0</td>\n",
       "      <td>3535.0</td>\n",
       "      <td>0.0</td>\n",
       "      <td>3535.0</td>\n",
       "      <td>1653.0</td>\n",
       "      <td>39.0</td>\n",
       "      <td>39.0</td>\n",
       "      <td>0.0</td>\n",
       "      <td>18.0</td>\n",
       "      <td>0.0</td>\n",
       "      <td>18.0</td>\n",
       "      <td>0.0</td>\n",
       "      <td>0.0</td>\n",
       "      <td>0.0</td>\n",
       "      <td>1.0</td>\n",
       "      <td>0.0</td>\n",
       "      <td>1.0</td>\n",
       "      <td>0.016407</td>\n",
       "      <td>0.000000</td>\n",
       "      <td>0.016407</td>\n",
       "    </tr>\n",
       "    <tr>\n",
       "      <th>3</th>\n",
       "      <td>2018-06-11</td>\n",
       "      <td>216.0</td>\n",
       "      <td>289.0</td>\n",
       "      <td>505.0</td>\n",
       "      <td>159.0</td>\n",
       "      <td>98.0</td>\n",
       "      <td>257.0</td>\n",
       "      <td>0.0</td>\n",
       "      <td>62.0</td>\n",
       "      <td>62.0</td>\n",
       "      <td>5349.0</td>\n",
       "      <td>0.0</td>\n",
       "      <td>5349.0</td>\n",
       "      <td>2306.0</td>\n",
       "      <td>47.0</td>\n",
       "      <td>47.0</td>\n",
       "      <td>0.0</td>\n",
       "      <td>8.0</td>\n",
       "      <td>0.0</td>\n",
       "      <td>8.0</td>\n",
       "      <td>0.0</td>\n",
       "      <td>0.0</td>\n",
       "      <td>0.0</td>\n",
       "      <td>0.0</td>\n",
       "      <td>0.0</td>\n",
       "      <td>0.0</td>\n",
       "      <td>0.010282</td>\n",
       "      <td>0.000000</td>\n",
       "      <td>0.010282</td>\n",
       "    </tr>\n",
       "    <tr>\n",
       "      <th>4</th>\n",
       "      <td>2018-06-12</td>\n",
       "      <td>256.0</td>\n",
       "      <td>363.0</td>\n",
       "      <td>619.0</td>\n",
       "      <td>179.0</td>\n",
       "      <td>112.0</td>\n",
       "      <td>290.0</td>\n",
       "      <td>0.0</td>\n",
       "      <td>73.0</td>\n",
       "      <td>73.0</td>\n",
       "      <td>4951.0</td>\n",
       "      <td>0.0</td>\n",
       "      <td>4951.0</td>\n",
       "      <td>2015.0</td>\n",
       "      <td>46.0</td>\n",
       "      <td>46.0</td>\n",
       "      <td>0.0</td>\n",
       "      <td>16.0</td>\n",
       "      <td>0.0</td>\n",
       "      <td>16.0</td>\n",
       "      <td>1.0</td>\n",
       "      <td>0.0</td>\n",
       "      <td>1.0</td>\n",
       "      <td>2.0</td>\n",
       "      <td>0.0</td>\n",
       "      <td>2.0</td>\n",
       "      <td>0.013129</td>\n",
       "      <td>0.000000</td>\n",
       "      <td>0.013129</td>\n",
       "    </tr>\n",
       "    <tr>\n",
       "      <th>5</th>\n",
       "      <td>2018-06-13</td>\n",
       "      <td>212.0</td>\n",
       "      <td>340.0</td>\n",
       "      <td>552.0</td>\n",
       "      <td>165.0</td>\n",
       "      <td>104.0</td>\n",
       "      <td>269.0</td>\n",
       "      <td>0.0</td>\n",
       "      <td>75.0</td>\n",
       "      <td>75.0</td>\n",
       "      <td>4590.0</td>\n",
       "      <td>0.0</td>\n",
       "      <td>4590.0</td>\n",
       "      <td>1805.0</td>\n",
       "      <td>46.0</td>\n",
       "      <td>46.0</td>\n",
       "      <td>0.0</td>\n",
       "      <td>15.0</td>\n",
       "      <td>0.0</td>\n",
       "      <td>15.0</td>\n",
       "      <td>1.0</td>\n",
       "      <td>0.0</td>\n",
       "      <td>1.0</td>\n",
       "      <td>2.0</td>\n",
       "      <td>0.0</td>\n",
       "      <td>2.0</td>\n",
       "      <td>0.013943</td>\n",
       "      <td>0.000000</td>\n",
       "      <td>0.013943</td>\n",
       "    </tr>\n",
       "    <tr>\n",
       "      <th>6</th>\n",
       "      <td>2018-06-14</td>\n",
       "      <td>230.0</td>\n",
       "      <td>351.0</td>\n",
       "      <td>581.0</td>\n",
       "      <td>172.0</td>\n",
       "      <td>113.0</td>\n",
       "      <td>285.0</td>\n",
       "      <td>0.0</td>\n",
       "      <td>61.0</td>\n",
       "      <td>61.0</td>\n",
       "      <td>3868.0</td>\n",
       "      <td>0.0</td>\n",
       "      <td>3868.0</td>\n",
       "      <td>1585.0</td>\n",
       "      <td>34.0</td>\n",
       "      <td>34.0</td>\n",
       "      <td>0.0</td>\n",
       "      <td>11.0</td>\n",
       "      <td>0.0</td>\n",
       "      <td>11.0</td>\n",
       "      <td>0.0</td>\n",
       "      <td>0.0</td>\n",
       "      <td>0.0</td>\n",
       "      <td>2.0</td>\n",
       "      <td>0.0</td>\n",
       "      <td>2.0</td>\n",
       "      <td>0.012151</td>\n",
       "      <td>0.000000</td>\n",
       "      <td>0.012151</td>\n",
       "    </tr>\n",
       "    <tr>\n",
       "      <th>7</th>\n",
       "      <td>2018-06-15</td>\n",
       "      <td>142.0</td>\n",
       "      <td>323.0</td>\n",
       "      <td>465.0</td>\n",
       "      <td>103.0</td>\n",
       "      <td>102.0</td>\n",
       "      <td>204.0</td>\n",
       "      <td>0.0</td>\n",
       "      <td>38.0</td>\n",
       "      <td>38.0</td>\n",
       "      <td>2272.0</td>\n",
       "      <td>0.0</td>\n",
       "      <td>2272.0</td>\n",
       "      <td>1042.0</td>\n",
       "      <td>26.0</td>\n",
       "      <td>26.0</td>\n",
       "      <td>0.0</td>\n",
       "      <td>5.0</td>\n",
       "      <td>0.0</td>\n",
       "      <td>5.0</td>\n",
       "      <td>0.0</td>\n",
       "      <td>0.0</td>\n",
       "      <td>0.0</td>\n",
       "      <td>5.0</td>\n",
       "      <td>0.0</td>\n",
       "      <td>5.0</td>\n",
       "      <td>0.015845</td>\n",
       "      <td>0.000000</td>\n",
       "      <td>0.015845</td>\n",
       "    </tr>\n",
       "    <tr>\n",
       "      <th>8</th>\n",
       "      <td>2018-06-16</td>\n",
       "      <td>60.0</td>\n",
       "      <td>257.0</td>\n",
       "      <td>317.0</td>\n",
       "      <td>47.0</td>\n",
       "      <td>87.0</td>\n",
       "      <td>134.0</td>\n",
       "      <td>0.0</td>\n",
       "      <td>38.0</td>\n",
       "      <td>38.0</td>\n",
       "      <td>1691.0</td>\n",
       "      <td>0.0</td>\n",
       "      <td>1691.0</td>\n",
       "      <td>785.0</td>\n",
       "      <td>32.0</td>\n",
       "      <td>32.0</td>\n",
       "      <td>0.0</td>\n",
       "      <td>5.0</td>\n",
       "      <td>0.0</td>\n",
       "      <td>5.0</td>\n",
       "      <td>-1.0</td>\n",
       "      <td>0.0</td>\n",
       "      <td>-1.0</td>\n",
       "      <td>3.0</td>\n",
       "      <td>0.0</td>\n",
       "      <td>3.0</td>\n",
       "      <td>0.023063</td>\n",
       "      <td>0.000000</td>\n",
       "      <td>0.023063</td>\n",
       "    </tr>\n",
       "    <tr>\n",
       "      <th>9</th>\n",
       "      <td>2018-06-17</td>\n",
       "      <td>69.0</td>\n",
       "      <td>230.0</td>\n",
       "      <td>299.0</td>\n",
       "      <td>48.0</td>\n",
       "      <td>76.0</td>\n",
       "      <td>123.0</td>\n",
       "      <td>0.0</td>\n",
       "      <td>30.0</td>\n",
       "      <td>30.0</td>\n",
       "      <td>1487.0</td>\n",
       "      <td>0.0</td>\n",
       "      <td>1487.0</td>\n",
       "      <td>675.0</td>\n",
       "      <td>22.0</td>\n",
       "      <td>22.0</td>\n",
       "      <td>0.0</td>\n",
       "      <td>5.0</td>\n",
       "      <td>0.0</td>\n",
       "      <td>5.0</td>\n",
       "      <td>0.0</td>\n",
       "      <td>0.0</td>\n",
       "      <td>0.0</td>\n",
       "      <td>0.0</td>\n",
       "      <td>0.0</td>\n",
       "      <td>0.0</td>\n",
       "      <td>0.018157</td>\n",
       "      <td>0.000000</td>\n",
       "      <td>0.018157</td>\n",
       "    </tr>\n",
       "    <tr>\n",
       "      <th>10</th>\n",
       "      <td>2018-06-18</td>\n",
       "      <td>254.0</td>\n",
       "      <td>273.0</td>\n",
       "      <td>527.0</td>\n",
       "      <td>207.0</td>\n",
       "      <td>81.0</td>\n",
       "      <td>287.0</td>\n",
       "      <td>0.0</td>\n",
       "      <td>72.0</td>\n",
       "      <td>72.0</td>\n",
       "      <td>2658.0</td>\n",
       "      <td>0.0</td>\n",
       "      <td>2658.0</td>\n",
       "      <td>1210.0</td>\n",
       "      <td>37.0</td>\n",
       "      <td>37.0</td>\n",
       "      <td>0.0</td>\n",
       "      <td>11.0</td>\n",
       "      <td>0.0</td>\n",
       "      <td>11.0</td>\n",
       "      <td>0.0</td>\n",
       "      <td>0.0</td>\n",
       "      <td>0.0</td>\n",
       "      <td>1.0</td>\n",
       "      <td>0.0</td>\n",
       "      <td>1.0</td>\n",
       "      <td>0.018435</td>\n",
       "      <td>0.000000</td>\n",
       "      <td>0.018435</td>\n",
       "    </tr>\n",
       "    <tr>\n",
       "      <th>11</th>\n",
       "      <td>2018-06-19</td>\n",
       "      <td>234.0</td>\n",
       "      <td>281.0</td>\n",
       "      <td>515.0</td>\n",
       "      <td>180.0</td>\n",
       "      <td>88.0</td>\n",
       "      <td>268.0</td>\n",
       "      <td>0.0</td>\n",
       "      <td>85.0</td>\n",
       "      <td>85.0</td>\n",
       "      <td>2896.0</td>\n",
       "      <td>0.0</td>\n",
       "      <td>2896.0</td>\n",
       "      <td>1366.0</td>\n",
       "      <td>23.0</td>\n",
       "      <td>23.0</td>\n",
       "      <td>0.0</td>\n",
       "      <td>15.0</td>\n",
       "      <td>0.0</td>\n",
       "      <td>15.0</td>\n",
       "      <td>0.0</td>\n",
       "      <td>0.0</td>\n",
       "      <td>0.0</td>\n",
       "      <td>1.0</td>\n",
       "      <td>0.0</td>\n",
       "      <td>1.0</td>\n",
       "      <td>0.013467</td>\n",
       "      <td>0.000000</td>\n",
       "      <td>0.013467</td>\n",
       "    </tr>\n",
       "    <tr>\n",
       "      <th>12</th>\n",
       "      <td>2018-06-20</td>\n",
       "      <td>231.0</td>\n",
       "      <td>308.0</td>\n",
       "      <td>539.0</td>\n",
       "      <td>184.0</td>\n",
       "      <td>106.0</td>\n",
       "      <td>290.0</td>\n",
       "      <td>4.0</td>\n",
       "      <td>71.0</td>\n",
       "      <td>75.0</td>\n",
       "      <td>2434.0</td>\n",
       "      <td>0.0</td>\n",
       "      <td>2434.0</td>\n",
       "      <td>1143.0</td>\n",
       "      <td>34.0</td>\n",
       "      <td>34.0</td>\n",
       "      <td>0.0</td>\n",
       "      <td>4.0</td>\n",
       "      <td>0.0</td>\n",
       "      <td>4.0</td>\n",
       "      <td>0.0</td>\n",
       "      <td>0.0</td>\n",
       "      <td>0.0</td>\n",
       "      <td>2.0</td>\n",
       "      <td>0.0</td>\n",
       "      <td>2.0</td>\n",
       "      <td>0.016434</td>\n",
       "      <td>0.000000</td>\n",
       "      <td>0.016434</td>\n",
       "    </tr>\n",
       "    <tr>\n",
       "      <th>13</th>\n",
       "      <td>2018-06-21</td>\n",
       "      <td>274.0</td>\n",
       "      <td>266.0</td>\n",
       "      <td>540.0</td>\n",
       "      <td>192.0</td>\n",
       "      <td>93.0</td>\n",
       "      <td>283.0</td>\n",
       "      <td>5.0</td>\n",
       "      <td>88.0</td>\n",
       "      <td>93.0</td>\n",
       "      <td>2190.0</td>\n",
       "      <td>0.0</td>\n",
       "      <td>2190.0</td>\n",
       "      <td>993.0</td>\n",
       "      <td>24.0</td>\n",
       "      <td>24.0</td>\n",
       "      <td>0.0</td>\n",
       "      <td>10.0</td>\n",
       "      <td>0.0</td>\n",
       "      <td>10.0</td>\n",
       "      <td>0.0</td>\n",
       "      <td>0.0</td>\n",
       "      <td>0.0</td>\n",
       "      <td>0.0</td>\n",
       "      <td>0.0</td>\n",
       "      <td>0.0</td>\n",
       "      <td>0.015525</td>\n",
       "      <td>0.000000</td>\n",
       "      <td>0.015525</td>\n",
       "    </tr>\n",
       "    <tr>\n",
       "      <th>14</th>\n",
       "      <td>2018-06-22</td>\n",
       "      <td>209.0</td>\n",
       "      <td>309.0</td>\n",
       "      <td>518.0</td>\n",
       "      <td>161.0</td>\n",
       "      <td>88.0</td>\n",
       "      <td>249.0</td>\n",
       "      <td>5.0</td>\n",
       "      <td>73.0</td>\n",
       "      <td>78.0</td>\n",
       "      <td>1648.0</td>\n",
       "      <td>0.0</td>\n",
       "      <td>1648.0</td>\n",
       "      <td>742.0</td>\n",
       "      <td>23.0</td>\n",
       "      <td>23.0</td>\n",
       "      <td>0.0</td>\n",
       "      <td>4.0</td>\n",
       "      <td>0.0</td>\n",
       "      <td>4.0</td>\n",
       "      <td>0.0</td>\n",
       "      <td>0.0</td>\n",
       "      <td>0.0</td>\n",
       "      <td>0.0</td>\n",
       "      <td>0.0</td>\n",
       "      <td>0.0</td>\n",
       "      <td>0.016383</td>\n",
       "      <td>0.000000</td>\n",
       "      <td>0.016383</td>\n",
       "    </tr>\n",
       "    <tr>\n",
       "      <th>15</th>\n",
       "      <td>2018-06-23</td>\n",
       "      <td>91.0</td>\n",
       "      <td>234.0</td>\n",
       "      <td>325.0</td>\n",
       "      <td>68.0</td>\n",
       "      <td>81.0</td>\n",
       "      <td>148.0</td>\n",
       "      <td>2.0</td>\n",
       "      <td>34.0</td>\n",
       "      <td>36.0</td>\n",
       "      <td>1045.0</td>\n",
       "      <td>0.0</td>\n",
       "      <td>1045.0</td>\n",
       "      <td>509.0</td>\n",
       "      <td>9.0</td>\n",
       "      <td>9.0</td>\n",
       "      <td>0.0</td>\n",
       "      <td>3.0</td>\n",
       "      <td>0.0</td>\n",
       "      <td>3.0</td>\n",
       "      <td>0.0</td>\n",
       "      <td>0.0</td>\n",
       "      <td>0.0</td>\n",
       "      <td>-1.0</td>\n",
       "      <td>0.0</td>\n",
       "      <td>-1.0</td>\n",
       "      <td>0.010526</td>\n",
       "      <td>0.000000</td>\n",
       "      <td>0.010526</td>\n",
       "    </tr>\n",
       "    <tr>\n",
       "      <th>16</th>\n",
       "      <td>2018-06-24</td>\n",
       "      <td>72.0</td>\n",
       "      <td>218.0</td>\n",
       "      <td>290.0</td>\n",
       "      <td>57.0</td>\n",
       "      <td>77.0</td>\n",
       "      <td>134.0</td>\n",
       "      <td>0.0</td>\n",
       "      <td>36.0</td>\n",
       "      <td>36.0</td>\n",
       "      <td>999.0</td>\n",
       "      <td>0.0</td>\n",
       "      <td>999.0</td>\n",
       "      <td>476.0</td>\n",
       "      <td>12.0</td>\n",
       "      <td>12.0</td>\n",
       "      <td>0.0</td>\n",
       "      <td>8.0</td>\n",
       "      <td>0.0</td>\n",
       "      <td>8.0</td>\n",
       "      <td>0.0</td>\n",
       "      <td>0.0</td>\n",
       "      <td>0.0</td>\n",
       "      <td>0.0</td>\n",
       "      <td>0.0</td>\n",
       "      <td>0.0</td>\n",
       "      <td>0.020020</td>\n",
       "      <td>0.000000</td>\n",
       "      <td>0.020020</td>\n",
       "    </tr>\n",
       "    <tr>\n",
       "      <th>17</th>\n",
       "      <td>2018-06-25</td>\n",
       "      <td>243.0</td>\n",
       "      <td>241.0</td>\n",
       "      <td>484.0</td>\n",
       "      <td>169.0</td>\n",
       "      <td>89.0</td>\n",
       "      <td>258.0</td>\n",
       "      <td>3.0</td>\n",
       "      <td>64.0</td>\n",
       "      <td>67.0</td>\n",
       "      <td>1549.0</td>\n",
       "      <td>0.0</td>\n",
       "      <td>1549.0</td>\n",
       "      <td>735.0</td>\n",
       "      <td>10.0</td>\n",
       "      <td>10.0</td>\n",
       "      <td>0.0</td>\n",
       "      <td>9.0</td>\n",
       "      <td>0.0</td>\n",
       "      <td>9.0</td>\n",
       "      <td>1.0</td>\n",
       "      <td>0.0</td>\n",
       "      <td>1.0</td>\n",
       "      <td>0.0</td>\n",
       "      <td>0.0</td>\n",
       "      <td>0.0</td>\n",
       "      <td>0.012912</td>\n",
       "      <td>0.000000</td>\n",
       "      <td>0.012912</td>\n",
       "    </tr>\n",
       "    <tr>\n",
       "      <th>18</th>\n",
       "      <td>2018-06-26</td>\n",
       "      <td>259.0</td>\n",
       "      <td>317.0</td>\n",
       "      <td>576.0</td>\n",
       "      <td>195.0</td>\n",
       "      <td>102.0</td>\n",
       "      <td>297.0</td>\n",
       "      <td>4.0</td>\n",
       "      <td>76.0</td>\n",
       "      <td>80.0</td>\n",
       "      <td>12626.0</td>\n",
       "      <td>0.0</td>\n",
       "      <td>12626.0</td>\n",
       "      <td>6320.0</td>\n",
       "      <td>248.0</td>\n",
       "      <td>248.0</td>\n",
       "      <td>0.0</td>\n",
       "      <td>38.0</td>\n",
       "      <td>0.0</td>\n",
       "      <td>38.0</td>\n",
       "      <td>0.0</td>\n",
       "      <td>0.0</td>\n",
       "      <td>0.0</td>\n",
       "      <td>4.0</td>\n",
       "      <td>0.0</td>\n",
       "      <td>4.0</td>\n",
       "      <td>0.022968</td>\n",
       "      <td>0.000000</td>\n",
       "      <td>0.022968</td>\n",
       "    </tr>\n",
       "    <tr>\n",
       "      <th>19</th>\n",
       "      <td>2018-06-27</td>\n",
       "      <td>222.0</td>\n",
       "      <td>223.0</td>\n",
       "      <td>445.0</td>\n",
       "      <td>173.0</td>\n",
       "      <td>83.0</td>\n",
       "      <td>256.0</td>\n",
       "      <td>6.0</td>\n",
       "      <td>64.0</td>\n",
       "      <td>70.0</td>\n",
       "      <td>18293.0</td>\n",
       "      <td>0.0</td>\n",
       "      <td>18293.0</td>\n",
       "      <td>9339.0</td>\n",
       "      <td>345.0</td>\n",
       "      <td>345.0</td>\n",
       "      <td>0.0</td>\n",
       "      <td>52.0</td>\n",
       "      <td>0.0</td>\n",
       "      <td>52.0</td>\n",
       "      <td>0.0</td>\n",
       "      <td>0.0</td>\n",
       "      <td>0.0</td>\n",
       "      <td>3.0</td>\n",
       "      <td>0.0</td>\n",
       "      <td>3.0</td>\n",
       "      <td>0.021866</td>\n",
       "      <td>0.000000</td>\n",
       "      <td>0.021866</td>\n",
       "    </tr>\n",
       "    <tr>\n",
       "      <th>20</th>\n",
       "      <td>2018-06-28</td>\n",
       "      <td>279.0</td>\n",
       "      <td>300.0</td>\n",
       "      <td>579.0</td>\n",
       "      <td>205.0</td>\n",
       "      <td>103.0</td>\n",
       "      <td>308.0</td>\n",
       "      <td>5.0</td>\n",
       "      <td>66.0</td>\n",
       "      <td>71.0</td>\n",
       "      <td>10344.0</td>\n",
       "      <td>0.0</td>\n",
       "      <td>10344.0</td>\n",
       "      <td>5652.0</td>\n",
       "      <td>143.0</td>\n",
       "      <td>143.0</td>\n",
       "      <td>0.0</td>\n",
       "      <td>26.0</td>\n",
       "      <td>0.0</td>\n",
       "      <td>26.0</td>\n",
       "      <td>0.0</td>\n",
       "      <td>0.0</td>\n",
       "      <td>0.0</td>\n",
       "      <td>2.0</td>\n",
       "      <td>0.0</td>\n",
       "      <td>2.0</td>\n",
       "      <td>0.016531</td>\n",
       "      <td>0.000000</td>\n",
       "      <td>0.016531</td>\n",
       "    </tr>\n",
       "    <tr>\n",
       "      <th>21</th>\n",
       "      <td>2018-06-29</td>\n",
       "      <td>219.0</td>\n",
       "      <td>247.0</td>\n",
       "      <td>466.0</td>\n",
       "      <td>170.0</td>\n",
       "      <td>97.0</td>\n",
       "      <td>264.0</td>\n",
       "      <td>4.0</td>\n",
       "      <td>48.0</td>\n",
       "      <td>52.0</td>\n",
       "      <td>10041.0</td>\n",
       "      <td>0.0</td>\n",
       "      <td>10041.0</td>\n",
       "      <td>5556.0</td>\n",
       "      <td>290.0</td>\n",
       "      <td>290.0</td>\n",
       "      <td>0.0</td>\n",
       "      <td>85.0</td>\n",
       "      <td>0.0</td>\n",
       "      <td>85.0</td>\n",
       "      <td>3.0</td>\n",
       "      <td>0.0</td>\n",
       "      <td>3.0</td>\n",
       "      <td>4.0</td>\n",
       "      <td>0.0</td>\n",
       "      <td>4.0</td>\n",
       "      <td>0.038044</td>\n",
       "      <td>0.000000</td>\n",
       "      <td>0.038044</td>\n",
       "    </tr>\n",
       "    <tr>\n",
       "      <th>22</th>\n",
       "      <td>2018-06-30</td>\n",
       "      <td>94.0</td>\n",
       "      <td>315.0</td>\n",
       "      <td>409.0</td>\n",
       "      <td>65.0</td>\n",
       "      <td>130.0</td>\n",
       "      <td>195.0</td>\n",
       "      <td>3.0</td>\n",
       "      <td>59.0</td>\n",
       "      <td>62.0</td>\n",
       "      <td>11418.0</td>\n",
       "      <td>0.0</td>\n",
       "      <td>11418.0</td>\n",
       "      <td>6972.0</td>\n",
       "      <td>451.0</td>\n",
       "      <td>451.0</td>\n",
       "      <td>0.0</td>\n",
       "      <td>148.0</td>\n",
       "      <td>0.0</td>\n",
       "      <td>148.0</td>\n",
       "      <td>2.0</td>\n",
       "      <td>0.0</td>\n",
       "      <td>2.0</td>\n",
       "      <td>11.0</td>\n",
       "      <td>0.0</td>\n",
       "      <td>11.0</td>\n",
       "      <td>0.053600</td>\n",
       "      <td>0.000000</td>\n",
       "      <td>0.053600</td>\n",
       "    </tr>\n",
       "    <tr>\n",
       "      <th>23</th>\n",
       "      <td>2018-07-01</td>\n",
       "      <td>69.0</td>\n",
       "      <td>218.0</td>\n",
       "      <td>287.0</td>\n",
       "      <td>53.0</td>\n",
       "      <td>85.0</td>\n",
       "      <td>137.0</td>\n",
       "      <td>5.0</td>\n",
       "      <td>31.0</td>\n",
       "      <td>36.0</td>\n",
       "      <td>7141.0</td>\n",
       "      <td>0.0</td>\n",
       "      <td>7141.0</td>\n",
       "      <td>4469.0</td>\n",
       "      <td>226.0</td>\n",
       "      <td>226.0</td>\n",
       "      <td>0.0</td>\n",
       "      <td>56.0</td>\n",
       "      <td>0.0</td>\n",
       "      <td>56.0</td>\n",
       "      <td>1.0</td>\n",
       "      <td>0.0</td>\n",
       "      <td>1.0</td>\n",
       "      <td>4.0</td>\n",
       "      <td>0.0</td>\n",
       "      <td>4.0</td>\n",
       "      <td>0.040190</td>\n",
       "      <td>0.000000</td>\n",
       "      <td>0.040190</td>\n",
       "    </tr>\n",
       "    <tr>\n",
       "      <th>24</th>\n",
       "      <td>2018-07-02</td>\n",
       "      <td>242.0</td>\n",
       "      <td>213.0</td>\n",
       "      <td>455.0</td>\n",
       "      <td>184.0</td>\n",
       "      <td>81.0</td>\n",
       "      <td>263.0</td>\n",
       "      <td>4.0</td>\n",
       "      <td>74.0</td>\n",
       "      <td>78.0</td>\n",
       "      <td>11805.0</td>\n",
       "      <td>0.0</td>\n",
       "      <td>11805.0</td>\n",
       "      <td>7036.0</td>\n",
       "      <td>307.0</td>\n",
       "      <td>307.0</td>\n",
       "      <td>0.0</td>\n",
       "      <td>109.0</td>\n",
       "      <td>0.0</td>\n",
       "      <td>109.0</td>\n",
       "      <td>4.0</td>\n",
       "      <td>0.0</td>\n",
       "      <td>4.0</td>\n",
       "      <td>10.0</td>\n",
       "      <td>0.0</td>\n",
       "      <td>10.0</td>\n",
       "      <td>0.036425</td>\n",
       "      <td>0.000000</td>\n",
       "      <td>0.036425</td>\n",
       "    </tr>\n",
       "    <tr>\n",
       "      <th>25</th>\n",
       "      <td>2018-07-03</td>\n",
       "      <td>191.0</td>\n",
       "      <td>265.0</td>\n",
       "      <td>456.0</td>\n",
       "      <td>148.0</td>\n",
       "      <td>104.0</td>\n",
       "      <td>252.0</td>\n",
       "      <td>5.0</td>\n",
       "      <td>63.0</td>\n",
       "      <td>68.0</td>\n",
       "      <td>6208.0</td>\n",
       "      <td>0.0</td>\n",
       "      <td>6208.0</td>\n",
       "      <td>3545.0</td>\n",
       "      <td>110.0</td>\n",
       "      <td>110.0</td>\n",
       "      <td>0.0</td>\n",
       "      <td>36.0</td>\n",
       "      <td>0.0</td>\n",
       "      <td>36.0</td>\n",
       "      <td>0.0</td>\n",
       "      <td>0.0</td>\n",
       "      <td>0.0</td>\n",
       "      <td>5.0</td>\n",
       "      <td>0.0</td>\n",
       "      <td>5.0</td>\n",
       "      <td>0.024323</td>\n",
       "      <td>0.000000</td>\n",
       "      <td>0.024323</td>\n",
       "    </tr>\n",
       "    <tr>\n",
       "      <th>26</th>\n",
       "      <td>2018-07-04</td>\n",
       "      <td>157.0</td>\n",
       "      <td>165.0</td>\n",
       "      <td>322.0</td>\n",
       "      <td>86.0</td>\n",
       "      <td>78.0</td>\n",
       "      <td>164.0</td>\n",
       "      <td>3.0</td>\n",
       "      <td>59.0</td>\n",
       "      <td>62.0</td>\n",
       "      <td>3030.0</td>\n",
       "      <td>0.0</td>\n",
       "      <td>3030.0</td>\n",
       "      <td>1787.0</td>\n",
       "      <td>74.0</td>\n",
       "      <td>74.0</td>\n",
       "      <td>0.0</td>\n",
       "      <td>19.0</td>\n",
       "      <td>0.0</td>\n",
       "      <td>19.0</td>\n",
       "      <td>2.0</td>\n",
       "      <td>0.0</td>\n",
       "      <td>2.0</td>\n",
       "      <td>2.0</td>\n",
       "      <td>0.0</td>\n",
       "      <td>2.0</td>\n",
       "      <td>0.032013</td>\n",
       "      <td>0.000000</td>\n",
       "      <td>0.032013</td>\n",
       "    </tr>\n",
       "    <tr>\n",
       "      <th>27</th>\n",
       "      <td>2018-07-05</td>\n",
       "      <td>194.0</td>\n",
       "      <td>176.0</td>\n",
       "      <td>370.0</td>\n",
       "      <td>145.0</td>\n",
       "      <td>78.0</td>\n",
       "      <td>223.0</td>\n",
       "      <td>5.0</td>\n",
       "      <td>55.0</td>\n",
       "      <td>60.0</td>\n",
       "      <td>3730.0</td>\n",
       "      <td>0.0</td>\n",
       "      <td>3730.0</td>\n",
       "      <td>2284.0</td>\n",
       "      <td>84.0</td>\n",
       "      <td>84.0</td>\n",
       "      <td>0.0</td>\n",
       "      <td>25.0</td>\n",
       "      <td>0.0</td>\n",
       "      <td>25.0</td>\n",
       "      <td>1.0</td>\n",
       "      <td>0.0</td>\n",
       "      <td>1.0</td>\n",
       "      <td>0.0</td>\n",
       "      <td>0.0</td>\n",
       "      <td>0.0</td>\n",
       "      <td>0.029491</td>\n",
       "      <td>0.000000</td>\n",
       "      <td>0.029491</td>\n",
       "    </tr>\n",
       "    <tr>\n",
       "      <th>28</th>\n",
       "      <td>2018-07-06</td>\n",
       "      <td>163.0</td>\n",
       "      <td>265.0</td>\n",
       "      <td>428.0</td>\n",
       "      <td>128.0</td>\n",
       "      <td>98.0</td>\n",
       "      <td>226.0</td>\n",
       "      <td>5.0</td>\n",
       "      <td>51.0</td>\n",
       "      <td>56.0</td>\n",
       "      <td>8977.0</td>\n",
       "      <td>0.0</td>\n",
       "      <td>8977.0</td>\n",
       "      <td>5609.0</td>\n",
       "      <td>189.0</td>\n",
       "      <td>189.0</td>\n",
       "      <td>0.0</td>\n",
       "      <td>62.0</td>\n",
       "      <td>0.0</td>\n",
       "      <td>62.0</td>\n",
       "      <td>2.0</td>\n",
       "      <td>0.0</td>\n",
       "      <td>2.0</td>\n",
       "      <td>8.0</td>\n",
       "      <td>0.0</td>\n",
       "      <td>8.0</td>\n",
       "      <td>0.029074</td>\n",
       "      <td>0.000000</td>\n",
       "      <td>0.029074</td>\n",
       "    </tr>\n",
       "    <tr>\n",
       "      <th>29</th>\n",
       "      <td>2018-07-07</td>\n",
       "      <td>91.0</td>\n",
       "      <td>247.0</td>\n",
       "      <td>338.0</td>\n",
       "      <td>67.0</td>\n",
       "      <td>103.0</td>\n",
       "      <td>170.0</td>\n",
       "      <td>1.0</td>\n",
       "      <td>39.0</td>\n",
       "      <td>40.0</td>\n",
       "      <td>11792.0</td>\n",
       "      <td>0.0</td>\n",
       "      <td>11792.0</td>\n",
       "      <td>8173.0</td>\n",
       "      <td>250.0</td>\n",
       "      <td>250.0</td>\n",
       "      <td>0.0</td>\n",
       "      <td>112.0</td>\n",
       "      <td>0.0</td>\n",
       "      <td>112.0</td>\n",
       "      <td>2.0</td>\n",
       "      <td>0.0</td>\n",
       "      <td>2.0</td>\n",
       "      <td>4.0</td>\n",
       "      <td>0.0</td>\n",
       "      <td>4.0</td>\n",
       "      <td>0.031208</td>\n",
       "      <td>0.000000</td>\n",
       "      <td>0.031208</td>\n",
       "    </tr>\n",
       "    <tr>\n",
       "      <th>...</th>\n",
       "      <td>...</td>\n",
       "      <td>...</td>\n",
       "      <td>...</td>\n",
       "      <td>...</td>\n",
       "      <td>...</td>\n",
       "      <td>...</td>\n",
       "      <td>...</td>\n",
       "      <td>...</td>\n",
       "      <td>...</td>\n",
       "      <td>...</td>\n",
       "      <td>...</td>\n",
       "      <td>...</td>\n",
       "      <td>...</td>\n",
       "      <td>...</td>\n",
       "      <td>...</td>\n",
       "      <td>...</td>\n",
       "      <td>...</td>\n",
       "      <td>...</td>\n",
       "      <td>...</td>\n",
       "      <td>...</td>\n",
       "      <td>...</td>\n",
       "      <td>...</td>\n",
       "      <td>...</td>\n",
       "      <td>...</td>\n",
       "      <td>...</td>\n",
       "      <td>...</td>\n",
       "      <td>...</td>\n",
       "      <td>...</td>\n",
       "      <td>...</td>\n",
       "    </tr>\n",
       "    <tr>\n",
       "      <th>327</th>\n",
       "      <td>2019-05-01</td>\n",
       "      <td>317.0</td>\n",
       "      <td>240.0</td>\n",
       "      <td>557.0</td>\n",
       "      <td>163.0</td>\n",
       "      <td>131.0</td>\n",
       "      <td>292.0</td>\n",
       "      <td>0.0</td>\n",
       "      <td>66.0</td>\n",
       "      <td>66.0</td>\n",
       "      <td>28405.0</td>\n",
       "      <td>3167.0</td>\n",
       "      <td>31572.0</td>\n",
       "      <td>13293.0</td>\n",
       "      <td>247.0</td>\n",
       "      <td>268.0</td>\n",
       "      <td>21.0</td>\n",
       "      <td>162.0</td>\n",
       "      <td>4.0</td>\n",
       "      <td>166.0</td>\n",
       "      <td>5.0</td>\n",
       "      <td>0.0</td>\n",
       "      <td>5.0</td>\n",
       "      <td>10.0</td>\n",
       "      <td>0.0</td>\n",
       "      <td>10.0</td>\n",
       "      <td>0.014927</td>\n",
       "      <td>0.019893</td>\n",
       "      <td>0.034820</td>\n",
       "    </tr>\n",
       "    <tr>\n",
       "      <th>328</th>\n",
       "      <td>2019-05-02</td>\n",
       "      <td>341.0</td>\n",
       "      <td>183.0</td>\n",
       "      <td>524.0</td>\n",
       "      <td>132.0</td>\n",
       "      <td>115.0</td>\n",
       "      <td>246.0</td>\n",
       "      <td>0.0</td>\n",
       "      <td>63.0</td>\n",
       "      <td>63.0</td>\n",
       "      <td>25440.0</td>\n",
       "      <td>2795.0</td>\n",
       "      <td>28235.0</td>\n",
       "      <td>12397.0</td>\n",
       "      <td>209.0</td>\n",
       "      <td>234.0</td>\n",
       "      <td>25.0</td>\n",
       "      <td>166.0</td>\n",
       "      <td>3.0</td>\n",
       "      <td>169.0</td>\n",
       "      <td>6.0</td>\n",
       "      <td>0.0</td>\n",
       "      <td>6.0</td>\n",
       "      <td>9.0</td>\n",
       "      <td>0.0</td>\n",
       "      <td>9.0</td>\n",
       "      <td>0.015330</td>\n",
       "      <td>0.017531</td>\n",
       "      <td>0.032861</td>\n",
       "    </tr>\n",
       "    <tr>\n",
       "      <th>329</th>\n",
       "      <td>2019-05-03</td>\n",
       "      <td>299.0</td>\n",
       "      <td>253.0</td>\n",
       "      <td>552.0</td>\n",
       "      <td>150.0</td>\n",
       "      <td>133.0</td>\n",
       "      <td>282.0</td>\n",
       "      <td>0.0</td>\n",
       "      <td>60.0</td>\n",
       "      <td>60.0</td>\n",
       "      <td>19142.0</td>\n",
       "      <td>2886.0</td>\n",
       "      <td>22028.0</td>\n",
       "      <td>9535.0</td>\n",
       "      <td>218.0</td>\n",
       "      <td>231.0</td>\n",
       "      <td>13.0</td>\n",
       "      <td>166.0</td>\n",
       "      <td>3.0</td>\n",
       "      <td>169.0</td>\n",
       "      <td>9.0</td>\n",
       "      <td>0.0</td>\n",
       "      <td>9.0</td>\n",
       "      <td>4.0</td>\n",
       "      <td>0.0</td>\n",
       "      <td>4.0</td>\n",
       "      <td>0.020740</td>\n",
       "      <td>0.012821</td>\n",
       "      <td>0.033560</td>\n",
       "    </tr>\n",
       "    <tr>\n",
       "      <th>330</th>\n",
       "      <td>2019-05-04</td>\n",
       "      <td>102.0</td>\n",
       "      <td>203.0</td>\n",
       "      <td>305.0</td>\n",
       "      <td>58.0</td>\n",
       "      <td>119.0</td>\n",
       "      <td>177.0</td>\n",
       "      <td>0.0</td>\n",
       "      <td>41.0</td>\n",
       "      <td>41.0</td>\n",
       "      <td>12901.0</td>\n",
       "      <td>2290.0</td>\n",
       "      <td>15191.0</td>\n",
       "      <td>6481.0</td>\n",
       "      <td>234.0</td>\n",
       "      <td>244.0</td>\n",
       "      <td>10.0</td>\n",
       "      <td>245.0</td>\n",
       "      <td>0.0</td>\n",
       "      <td>245.0</td>\n",
       "      <td>7.0</td>\n",
       "      <td>0.0</td>\n",
       "      <td>7.0</td>\n",
       "      <td>6.0</td>\n",
       "      <td>0.0</td>\n",
       "      <td>6.0</td>\n",
       "      <td>0.038137</td>\n",
       "      <td>0.010917</td>\n",
       "      <td>0.049054</td>\n",
       "    </tr>\n",
       "    <tr>\n",
       "      <th>331</th>\n",
       "      <td>2019-05-05</td>\n",
       "      <td>110.0</td>\n",
       "      <td>209.0</td>\n",
       "      <td>319.0</td>\n",
       "      <td>55.0</td>\n",
       "      <td>123.0</td>\n",
       "      <td>178.0</td>\n",
       "      <td>0.0</td>\n",
       "      <td>43.0</td>\n",
       "      <td>43.0</td>\n",
       "      <td>17790.0</td>\n",
       "      <td>2442.0</td>\n",
       "      <td>20232.0</td>\n",
       "      <td>8814.0</td>\n",
       "      <td>244.0</td>\n",
       "      <td>257.0</td>\n",
       "      <td>13.0</td>\n",
       "      <td>200.0</td>\n",
       "      <td>5.0</td>\n",
       "      <td>205.0</td>\n",
       "      <td>0.0</td>\n",
       "      <td>0.0</td>\n",
       "      <td>0.0</td>\n",
       "      <td>4.0</td>\n",
       "      <td>0.0</td>\n",
       "      <td>4.0</td>\n",
       "      <td>0.025183</td>\n",
       "      <td>0.015152</td>\n",
       "      <td>0.040334</td>\n",
       "    </tr>\n",
       "    <tr>\n",
       "      <th>332</th>\n",
       "      <td>2019-05-06</td>\n",
       "      <td>386.0</td>\n",
       "      <td>197.0</td>\n",
       "      <td>583.0</td>\n",
       "      <td>177.0</td>\n",
       "      <td>116.0</td>\n",
       "      <td>292.0</td>\n",
       "      <td>0.0</td>\n",
       "      <td>71.0</td>\n",
       "      <td>71.0</td>\n",
       "      <td>31292.0</td>\n",
       "      <td>2794.0</td>\n",
       "      <td>34086.0</td>\n",
       "      <td>14912.0</td>\n",
       "      <td>309.0</td>\n",
       "      <td>315.0</td>\n",
       "      <td>6.0</td>\n",
       "      <td>352.0</td>\n",
       "      <td>2.0</td>\n",
       "      <td>354.0</td>\n",
       "      <td>6.0</td>\n",
       "      <td>0.0</td>\n",
       "      <td>6.0</td>\n",
       "      <td>5.0</td>\n",
       "      <td>0.0</td>\n",
       "      <td>5.0</td>\n",
       "      <td>0.021475</td>\n",
       "      <td>0.006800</td>\n",
       "      <td>0.028275</td>\n",
       "    </tr>\n",
       "    <tr>\n",
       "      <th>333</th>\n",
       "      <td>2019-05-07</td>\n",
       "      <td>359.0</td>\n",
       "      <td>242.0</td>\n",
       "      <td>601.0</td>\n",
       "      <td>188.0</td>\n",
       "      <td>129.0</td>\n",
       "      <td>316.0</td>\n",
       "      <td>0.0</td>\n",
       "      <td>83.0</td>\n",
       "      <td>83.0</td>\n",
       "      <td>43140.0</td>\n",
       "      <td>1990.0</td>\n",
       "      <td>45130.0</td>\n",
       "      <td>22978.0</td>\n",
       "      <td>353.0</td>\n",
       "      <td>358.0</td>\n",
       "      <td>5.0</td>\n",
       "      <td>495.0</td>\n",
       "      <td>2.0</td>\n",
       "      <td>497.0</td>\n",
       "      <td>9.0</td>\n",
       "      <td>0.0</td>\n",
       "      <td>9.0</td>\n",
       "      <td>18.0</td>\n",
       "      <td>0.0</td>\n",
       "      <td>18.0</td>\n",
       "      <td>0.020283</td>\n",
       "      <td>0.013568</td>\n",
       "      <td>0.033851</td>\n",
       "    </tr>\n",
       "    <tr>\n",
       "      <th>334</th>\n",
       "      <td>2019-05-08</td>\n",
       "      <td>359.0</td>\n",
       "      <td>242.0</td>\n",
       "      <td>601.0</td>\n",
       "      <td>185.0</td>\n",
       "      <td>131.0</td>\n",
       "      <td>315.0</td>\n",
       "      <td>0.0</td>\n",
       "      <td>100.0</td>\n",
       "      <td>100.0</td>\n",
       "      <td>28353.0</td>\n",
       "      <td>1336.0</td>\n",
       "      <td>29689.0</td>\n",
       "      <td>15336.0</td>\n",
       "      <td>222.0</td>\n",
       "      <td>228.0</td>\n",
       "      <td>6.0</td>\n",
       "      <td>268.0</td>\n",
       "      <td>1.0</td>\n",
       "      <td>269.0</td>\n",
       "      <td>7.0</td>\n",
       "      <td>0.0</td>\n",
       "      <td>7.0</td>\n",
       "      <td>8.0</td>\n",
       "      <td>0.0</td>\n",
       "      <td>8.0</td>\n",
       "      <td>0.017811</td>\n",
       "      <td>0.013473</td>\n",
       "      <td>0.031284</td>\n",
       "    </tr>\n",
       "    <tr>\n",
       "      <th>335</th>\n",
       "      <td>2019-05-09</td>\n",
       "      <td>279.0</td>\n",
       "      <td>232.0</td>\n",
       "      <td>511.0</td>\n",
       "      <td>159.0</td>\n",
       "      <td>127.0</td>\n",
       "      <td>286.0</td>\n",
       "      <td>0.0</td>\n",
       "      <td>68.0</td>\n",
       "      <td>68.0</td>\n",
       "      <td>20194.0</td>\n",
       "      <td>1333.0</td>\n",
       "      <td>21527.0</td>\n",
       "      <td>10398.0</td>\n",
       "      <td>135.0</td>\n",
       "      <td>137.0</td>\n",
       "      <td>2.0</td>\n",
       "      <td>148.0</td>\n",
       "      <td>0.0</td>\n",
       "      <td>148.0</td>\n",
       "      <td>5.0</td>\n",
       "      <td>0.0</td>\n",
       "      <td>5.0</td>\n",
       "      <td>9.0</td>\n",
       "      <td>0.0</td>\n",
       "      <td>9.0</td>\n",
       "      <td>0.014707</td>\n",
       "      <td>0.012753</td>\n",
       "      <td>0.027461</td>\n",
       "    </tr>\n",
       "    <tr>\n",
       "      <th>336</th>\n",
       "      <td>2019-05-10</td>\n",
       "      <td>247.0</td>\n",
       "      <td>173.0</td>\n",
       "      <td>420.0</td>\n",
       "      <td>135.0</td>\n",
       "      <td>111.0</td>\n",
       "      <td>245.0</td>\n",
       "      <td>0.0</td>\n",
       "      <td>60.0</td>\n",
       "      <td>60.0</td>\n",
       "      <td>20044.0</td>\n",
       "      <td>2819.0</td>\n",
       "      <td>22863.0</td>\n",
       "      <td>10977.0</td>\n",
       "      <td>182.0</td>\n",
       "      <td>192.0</td>\n",
       "      <td>10.0</td>\n",
       "      <td>162.0</td>\n",
       "      <td>3.0</td>\n",
       "      <td>165.0</td>\n",
       "      <td>9.0</td>\n",
       "      <td>0.0</td>\n",
       "      <td>9.0</td>\n",
       "      <td>5.0</td>\n",
       "      <td>0.0</td>\n",
       "      <td>5.0</td>\n",
       "      <td>0.017861</td>\n",
       "      <td>0.009933</td>\n",
       "      <td>0.027793</td>\n",
       "    </tr>\n",
       "    <tr>\n",
       "      <th>337</th>\n",
       "      <td>2019-05-11</td>\n",
       "      <td>113.0</td>\n",
       "      <td>264.0</td>\n",
       "      <td>377.0</td>\n",
       "      <td>57.0</td>\n",
       "      <td>168.0</td>\n",
       "      <td>225.0</td>\n",
       "      <td>0.0</td>\n",
       "      <td>40.0</td>\n",
       "      <td>40.0</td>\n",
       "      <td>23866.0</td>\n",
       "      <td>13045.0</td>\n",
       "      <td>36911.0</td>\n",
       "      <td>11720.0</td>\n",
       "      <td>382.0</td>\n",
       "      <td>475.0</td>\n",
       "      <td>93.0</td>\n",
       "      <td>212.0</td>\n",
       "      <td>14.0</td>\n",
       "      <td>226.0</td>\n",
       "      <td>9.0</td>\n",
       "      <td>0.0</td>\n",
       "      <td>9.0</td>\n",
       "      <td>4.0</td>\n",
       "      <td>0.0</td>\n",
       "      <td>4.0</td>\n",
       "      <td>0.025434</td>\n",
       "      <td>0.013108</td>\n",
       "      <td>0.038542</td>\n",
       "    </tr>\n",
       "    <tr>\n",
       "      <th>338</th>\n",
       "      <td>2019-05-12</td>\n",
       "      <td>114.0</td>\n",
       "      <td>208.0</td>\n",
       "      <td>322.0</td>\n",
       "      <td>61.0</td>\n",
       "      <td>124.0</td>\n",
       "      <td>185.0</td>\n",
       "      <td>0.0</td>\n",
       "      <td>45.0</td>\n",
       "      <td>45.0</td>\n",
       "      <td>28714.0</td>\n",
       "      <td>3133.0</td>\n",
       "      <td>31847.0</td>\n",
       "      <td>14583.0</td>\n",
       "      <td>849.0</td>\n",
       "      <td>868.0</td>\n",
       "      <td>19.0</td>\n",
       "      <td>287.0</td>\n",
       "      <td>6.0</td>\n",
       "      <td>293.0</td>\n",
       "      <td>8.0</td>\n",
       "      <td>0.0</td>\n",
       "      <td>8.0</td>\n",
       "      <td>3.0</td>\n",
       "      <td>0.0</td>\n",
       "      <td>3.0</td>\n",
       "      <td>0.039946</td>\n",
       "      <td>0.013725</td>\n",
       "      <td>0.053671</td>\n",
       "    </tr>\n",
       "    <tr>\n",
       "      <th>339</th>\n",
       "      <td>2019-05-13</td>\n",
       "      <td>365.0</td>\n",
       "      <td>243.0</td>\n",
       "      <td>608.0</td>\n",
       "      <td>169.0</td>\n",
       "      <td>137.0</td>\n",
       "      <td>304.0</td>\n",
       "      <td>0.0</td>\n",
       "      <td>83.0</td>\n",
       "      <td>83.0</td>\n",
       "      <td>35111.0</td>\n",
       "      <td>1590.0</td>\n",
       "      <td>36701.0</td>\n",
       "      <td>17415.0</td>\n",
       "      <td>624.0</td>\n",
       "      <td>629.0</td>\n",
       "      <td>5.0</td>\n",
       "      <td>301.0</td>\n",
       "      <td>2.0</td>\n",
       "      <td>303.0</td>\n",
       "      <td>5.0</td>\n",
       "      <td>0.0</td>\n",
       "      <td>5.0</td>\n",
       "      <td>9.0</td>\n",
       "      <td>0.0</td>\n",
       "      <td>9.0</td>\n",
       "      <td>0.026744</td>\n",
       "      <td>0.012579</td>\n",
       "      <td>0.039322</td>\n",
       "    </tr>\n",
       "    <tr>\n",
       "      <th>340</th>\n",
       "      <td>2019-05-14</td>\n",
       "      <td>373.0</td>\n",
       "      <td>194.0</td>\n",
       "      <td>567.0</td>\n",
       "      <td>191.0</td>\n",
       "      <td>126.0</td>\n",
       "      <td>316.0</td>\n",
       "      <td>0.0</td>\n",
       "      <td>73.0</td>\n",
       "      <td>73.0</td>\n",
       "      <td>27136.0</td>\n",
       "      <td>1433.0</td>\n",
       "      <td>28569.0</td>\n",
       "      <td>13574.0</td>\n",
       "      <td>377.0</td>\n",
       "      <td>382.0</td>\n",
       "      <td>5.0</td>\n",
       "      <td>203.0</td>\n",
       "      <td>1.0</td>\n",
       "      <td>204.0</td>\n",
       "      <td>5.0</td>\n",
       "      <td>0.0</td>\n",
       "      <td>5.0</td>\n",
       "      <td>4.0</td>\n",
       "      <td>0.0</td>\n",
       "      <td>4.0</td>\n",
       "      <td>0.021705</td>\n",
       "      <td>0.016748</td>\n",
       "      <td>0.038454</td>\n",
       "    </tr>\n",
       "    <tr>\n",
       "      <th>341</th>\n",
       "      <td>2019-05-15</td>\n",
       "      <td>322.0</td>\n",
       "      <td>178.0</td>\n",
       "      <td>500.0</td>\n",
       "      <td>176.0</td>\n",
       "      <td>117.0</td>\n",
       "      <td>292.0</td>\n",
       "      <td>0.0</td>\n",
       "      <td>57.0</td>\n",
       "      <td>57.0</td>\n",
       "      <td>38866.0</td>\n",
       "      <td>180.0</td>\n",
       "      <td>39046.0</td>\n",
       "      <td>19513.0</td>\n",
       "      <td>481.0</td>\n",
       "      <td>481.0</td>\n",
       "      <td>0.0</td>\n",
       "      <td>542.0</td>\n",
       "      <td>0.0</td>\n",
       "      <td>542.0</td>\n",
       "      <td>11.0</td>\n",
       "      <td>0.0</td>\n",
       "      <td>11.0</td>\n",
       "      <td>17.0</td>\n",
       "      <td>0.0</td>\n",
       "      <td>17.0</td>\n",
       "      <td>0.027042</td>\n",
       "      <td>0.005556</td>\n",
       "      <td>0.032597</td>\n",
       "    </tr>\n",
       "    <tr>\n",
       "      <th>342</th>\n",
       "      <td>2019-05-16</td>\n",
       "      <td>471.0</td>\n",
       "      <td>222.0</td>\n",
       "      <td>693.0</td>\n",
       "      <td>178.0</td>\n",
       "      <td>137.0</td>\n",
       "      <td>315.0</td>\n",
       "      <td>0.0</td>\n",
       "      <td>81.0</td>\n",
       "      <td>81.0</td>\n",
       "      <td>48122.0</td>\n",
       "      <td>189.0</td>\n",
       "      <td>48311.0</td>\n",
       "      <td>26948.0</td>\n",
       "      <td>524.0</td>\n",
       "      <td>525.0</td>\n",
       "      <td>1.0</td>\n",
       "      <td>471.0</td>\n",
       "      <td>0.0</td>\n",
       "      <td>471.0</td>\n",
       "      <td>8.0</td>\n",
       "      <td>0.0</td>\n",
       "      <td>8.0</td>\n",
       "      <td>26.0</td>\n",
       "      <td>0.0</td>\n",
       "      <td>26.0</td>\n",
       "      <td>0.021383</td>\n",
       "      <td>0.005291</td>\n",
       "      <td>0.026674</td>\n",
       "    </tr>\n",
       "    <tr>\n",
       "      <th>343</th>\n",
       "      <td>2019-05-17</td>\n",
       "      <td>291.0</td>\n",
       "      <td>283.0</td>\n",
       "      <td>574.0</td>\n",
       "      <td>150.0</td>\n",
       "      <td>141.0</td>\n",
       "      <td>290.0</td>\n",
       "      <td>0.0</td>\n",
       "      <td>49.0</td>\n",
       "      <td>49.0</td>\n",
       "      <td>38210.0</td>\n",
       "      <td>129.0</td>\n",
       "      <td>38339.0</td>\n",
       "      <td>18825.0</td>\n",
       "      <td>455.0</td>\n",
       "      <td>456.0</td>\n",
       "      <td>1.0</td>\n",
       "      <td>511.0</td>\n",
       "      <td>0.0</td>\n",
       "      <td>511.0</td>\n",
       "      <td>17.0</td>\n",
       "      <td>0.0</td>\n",
       "      <td>17.0</td>\n",
       "      <td>30.0</td>\n",
       "      <td>0.0</td>\n",
       "      <td>30.0</td>\n",
       "      <td>0.026511</td>\n",
       "      <td>0.007752</td>\n",
       "      <td>0.034263</td>\n",
       "    </tr>\n",
       "    <tr>\n",
       "      <th>344</th>\n",
       "      <td>2019-05-18</td>\n",
       "      <td>125.0</td>\n",
       "      <td>198.0</td>\n",
       "      <td>323.0</td>\n",
       "      <td>68.0</td>\n",
       "      <td>106.0</td>\n",
       "      <td>174.0</td>\n",
       "      <td>0.0</td>\n",
       "      <td>32.0</td>\n",
       "      <td>32.0</td>\n",
       "      <td>23789.0</td>\n",
       "      <td>62.0</td>\n",
       "      <td>23851.0</td>\n",
       "      <td>12692.0</td>\n",
       "      <td>333.0</td>\n",
       "      <td>333.0</td>\n",
       "      <td>0.0</td>\n",
       "      <td>309.0</td>\n",
       "      <td>2.0</td>\n",
       "      <td>311.0</td>\n",
       "      <td>2.0</td>\n",
       "      <td>0.0</td>\n",
       "      <td>2.0</td>\n",
       "      <td>12.0</td>\n",
       "      <td>0.0</td>\n",
       "      <td>12.0</td>\n",
       "      <td>0.027576</td>\n",
       "      <td>0.032258</td>\n",
       "      <td>0.059834</td>\n",
       "    </tr>\n",
       "    <tr>\n",
       "      <th>345</th>\n",
       "      <td>2019-05-19</td>\n",
       "      <td>173.0</td>\n",
       "      <td>167.0</td>\n",
       "      <td>340.0</td>\n",
       "      <td>52.0</td>\n",
       "      <td>90.0</td>\n",
       "      <td>142.0</td>\n",
       "      <td>0.0</td>\n",
       "      <td>33.0</td>\n",
       "      <td>33.0</td>\n",
       "      <td>18260.0</td>\n",
       "      <td>39.0</td>\n",
       "      <td>18299.0</td>\n",
       "      <td>9835.0</td>\n",
       "      <td>283.0</td>\n",
       "      <td>283.0</td>\n",
       "      <td>0.0</td>\n",
       "      <td>190.0</td>\n",
       "      <td>0.0</td>\n",
       "      <td>190.0</td>\n",
       "      <td>6.0</td>\n",
       "      <td>0.0</td>\n",
       "      <td>6.0</td>\n",
       "      <td>19.0</td>\n",
       "      <td>0.0</td>\n",
       "      <td>19.0</td>\n",
       "      <td>0.027273</td>\n",
       "      <td>0.025641</td>\n",
       "      <td>0.052914</td>\n",
       "    </tr>\n",
       "    <tr>\n",
       "      <th>346</th>\n",
       "      <td>2019-05-20</td>\n",
       "      <td>274.0</td>\n",
       "      <td>195.0</td>\n",
       "      <td>469.0</td>\n",
       "      <td>138.0</td>\n",
       "      <td>106.0</td>\n",
       "      <td>244.0</td>\n",
       "      <td>1.0</td>\n",
       "      <td>72.0</td>\n",
       "      <td>73.0</td>\n",
       "      <td>29537.0</td>\n",
       "      <td>112.0</td>\n",
       "      <td>29649.0</td>\n",
       "      <td>15847.0</td>\n",
       "      <td>222.0</td>\n",
       "      <td>223.0</td>\n",
       "      <td>1.0</td>\n",
       "      <td>251.0</td>\n",
       "      <td>0.0</td>\n",
       "      <td>251.0</td>\n",
       "      <td>7.0</td>\n",
       "      <td>0.0</td>\n",
       "      <td>7.0</td>\n",
       "      <td>12.0</td>\n",
       "      <td>0.0</td>\n",
       "      <td>12.0</td>\n",
       "      <td>0.016657</td>\n",
       "      <td>0.008929</td>\n",
       "      <td>0.025586</td>\n",
       "    </tr>\n",
       "    <tr>\n",
       "      <th>347</th>\n",
       "      <td>2019-05-21</td>\n",
       "      <td>477.0</td>\n",
       "      <td>236.0</td>\n",
       "      <td>713.0</td>\n",
       "      <td>170.0</td>\n",
       "      <td>127.0</td>\n",
       "      <td>296.0</td>\n",
       "      <td>0.0</td>\n",
       "      <td>77.0</td>\n",
       "      <td>77.0</td>\n",
       "      <td>27096.0</td>\n",
       "      <td>146.0</td>\n",
       "      <td>27242.0</td>\n",
       "      <td>13799.0</td>\n",
       "      <td>288.0</td>\n",
       "      <td>289.0</td>\n",
       "      <td>1.0</td>\n",
       "      <td>196.0</td>\n",
       "      <td>0.0</td>\n",
       "      <td>196.0</td>\n",
       "      <td>11.0</td>\n",
       "      <td>0.0</td>\n",
       "      <td>11.0</td>\n",
       "      <td>10.0</td>\n",
       "      <td>0.0</td>\n",
       "      <td>10.0</td>\n",
       "      <td>0.018637</td>\n",
       "      <td>0.006849</td>\n",
       "      <td>0.025487</td>\n",
       "    </tr>\n",
       "    <tr>\n",
       "      <th>348</th>\n",
       "      <td>2019-05-22</td>\n",
       "      <td>356.0</td>\n",
       "      <td>186.0</td>\n",
       "      <td>542.0</td>\n",
       "      <td>167.0</td>\n",
       "      <td>90.0</td>\n",
       "      <td>255.0</td>\n",
       "      <td>0.0</td>\n",
       "      <td>64.0</td>\n",
       "      <td>64.0</td>\n",
       "      <td>19242.0</td>\n",
       "      <td>163.0</td>\n",
       "      <td>19405.0</td>\n",
       "      <td>9729.0</td>\n",
       "      <td>203.0</td>\n",
       "      <td>206.0</td>\n",
       "      <td>3.0</td>\n",
       "      <td>138.0</td>\n",
       "      <td>1.0</td>\n",
       "      <td>139.0</td>\n",
       "      <td>2.0</td>\n",
       "      <td>0.0</td>\n",
       "      <td>2.0</td>\n",
       "      <td>5.0</td>\n",
       "      <td>0.0</td>\n",
       "      <td>5.0</td>\n",
       "      <td>0.018085</td>\n",
       "      <td>0.024540</td>\n",
       "      <td>0.042625</td>\n",
       "    </tr>\n",
       "    <tr>\n",
       "      <th>349</th>\n",
       "      <td>2019-05-23</td>\n",
       "      <td>314.0</td>\n",
       "      <td>202.0</td>\n",
       "      <td>516.0</td>\n",
       "      <td>167.0</td>\n",
       "      <td>123.0</td>\n",
       "      <td>290.0</td>\n",
       "      <td>0.0</td>\n",
       "      <td>81.0</td>\n",
       "      <td>81.0</td>\n",
       "      <td>28503.0</td>\n",
       "      <td>171.0</td>\n",
       "      <td>28674.0</td>\n",
       "      <td>13540.0</td>\n",
       "      <td>247.0</td>\n",
       "      <td>247.0</td>\n",
       "      <td>0.0</td>\n",
       "      <td>108.0</td>\n",
       "      <td>1.0</td>\n",
       "      <td>109.0</td>\n",
       "      <td>6.0</td>\n",
       "      <td>0.0</td>\n",
       "      <td>6.0</td>\n",
       "      <td>5.0</td>\n",
       "      <td>0.0</td>\n",
       "      <td>5.0</td>\n",
       "      <td>0.012841</td>\n",
       "      <td>0.011696</td>\n",
       "      <td>0.024537</td>\n",
       "    </tr>\n",
       "    <tr>\n",
       "      <th>350</th>\n",
       "      <td>2019-05-24</td>\n",
       "      <td>271.0</td>\n",
       "      <td>205.0</td>\n",
       "      <td>476.0</td>\n",
       "      <td>145.0</td>\n",
       "      <td>124.0</td>\n",
       "      <td>269.0</td>\n",
       "      <td>0.0</td>\n",
       "      <td>58.0</td>\n",
       "      <td>58.0</td>\n",
       "      <td>24146.0</td>\n",
       "      <td>7628.0</td>\n",
       "      <td>31774.0</td>\n",
       "      <td>11639.0</td>\n",
       "      <td>211.0</td>\n",
       "      <td>245.0</td>\n",
       "      <td>34.0</td>\n",
       "      <td>164.0</td>\n",
       "      <td>9.0</td>\n",
       "      <td>173.0</td>\n",
       "      <td>5.0</td>\n",
       "      <td>0.0</td>\n",
       "      <td>5.0</td>\n",
       "      <td>11.0</td>\n",
       "      <td>0.0</td>\n",
       "      <td>11.0</td>\n",
       "      <td>0.016193</td>\n",
       "      <td>0.008915</td>\n",
       "      <td>0.025108</td>\n",
       "    </tr>\n",
       "    <tr>\n",
       "      <th>351</th>\n",
       "      <td>2019-05-25</td>\n",
       "      <td>127.0</td>\n",
       "      <td>217.0</td>\n",
       "      <td>344.0</td>\n",
       "      <td>60.0</td>\n",
       "      <td>137.0</td>\n",
       "      <td>197.0</td>\n",
       "      <td>0.0</td>\n",
       "      <td>16.0</td>\n",
       "      <td>16.0</td>\n",
       "      <td>12559.0</td>\n",
       "      <td>8958.0</td>\n",
       "      <td>21517.0</td>\n",
       "      <td>6171.0</td>\n",
       "      <td>128.0</td>\n",
       "      <td>180.0</td>\n",
       "      <td>52.0</td>\n",
       "      <td>102.0</td>\n",
       "      <td>15.0</td>\n",
       "      <td>117.0</td>\n",
       "      <td>0.0</td>\n",
       "      <td>0.0</td>\n",
       "      <td>0.0</td>\n",
       "      <td>4.0</td>\n",
       "      <td>1.0</td>\n",
       "      <td>5.0</td>\n",
       "      <td>0.018632</td>\n",
       "      <td>0.010605</td>\n",
       "      <td>0.029237</td>\n",
       "    </tr>\n",
       "    <tr>\n",
       "      <th>352</th>\n",
       "      <td>2019-05-26</td>\n",
       "      <td>73.0</td>\n",
       "      <td>181.0</td>\n",
       "      <td>254.0</td>\n",
       "      <td>41.0</td>\n",
       "      <td>99.0</td>\n",
       "      <td>140.0</td>\n",
       "      <td>0.0</td>\n",
       "      <td>34.0</td>\n",
       "      <td>34.0</td>\n",
       "      <td>12843.0</td>\n",
       "      <td>1238.0</td>\n",
       "      <td>14081.0</td>\n",
       "      <td>6565.0</td>\n",
       "      <td>190.0</td>\n",
       "      <td>200.0</td>\n",
       "      <td>10.0</td>\n",
       "      <td>121.0</td>\n",
       "      <td>2.0</td>\n",
       "      <td>123.0</td>\n",
       "      <td>2.0</td>\n",
       "      <td>0.0</td>\n",
       "      <td>2.0</td>\n",
       "      <td>6.0</td>\n",
       "      <td>0.0</td>\n",
       "      <td>6.0</td>\n",
       "      <td>0.024838</td>\n",
       "      <td>0.013732</td>\n",
       "      <td>0.038570</td>\n",
       "    </tr>\n",
       "    <tr>\n",
       "      <th>353</th>\n",
       "      <td>2019-05-27</td>\n",
       "      <td>193.0</td>\n",
       "      <td>178.0</td>\n",
       "      <td>371.0</td>\n",
       "      <td>76.0</td>\n",
       "      <td>108.0</td>\n",
       "      <td>184.0</td>\n",
       "      <td>0.0</td>\n",
       "      <td>36.0</td>\n",
       "      <td>36.0</td>\n",
       "      <td>23375.0</td>\n",
       "      <td>122.0</td>\n",
       "      <td>23497.0</td>\n",
       "      <td>11858.0</td>\n",
       "      <td>265.0</td>\n",
       "      <td>265.0</td>\n",
       "      <td>0.0</td>\n",
       "      <td>353.0</td>\n",
       "      <td>0.0</td>\n",
       "      <td>353.0</td>\n",
       "      <td>8.0</td>\n",
       "      <td>0.0</td>\n",
       "      <td>8.0</td>\n",
       "      <td>20.0</td>\n",
       "      <td>0.0</td>\n",
       "      <td>20.0</td>\n",
       "      <td>0.027636</td>\n",
       "      <td>0.000000</td>\n",
       "      <td>0.027636</td>\n",
       "    </tr>\n",
       "    <tr>\n",
       "      <th>354</th>\n",
       "      <td>2019-05-28</td>\n",
       "      <td>448.0</td>\n",
       "      <td>192.0</td>\n",
       "      <td>640.0</td>\n",
       "      <td>176.0</td>\n",
       "      <td>102.0</td>\n",
       "      <td>276.0</td>\n",
       "      <td>0.0</td>\n",
       "      <td>50.0</td>\n",
       "      <td>50.0</td>\n",
       "      <td>33629.0</td>\n",
       "      <td>186.0</td>\n",
       "      <td>33815.0</td>\n",
       "      <td>18217.0</td>\n",
       "      <td>259.0</td>\n",
       "      <td>260.0</td>\n",
       "      <td>1.0</td>\n",
       "      <td>285.0</td>\n",
       "      <td>2.0</td>\n",
       "      <td>287.0</td>\n",
       "      <td>2.0</td>\n",
       "      <td>0.0</td>\n",
       "      <td>2.0</td>\n",
       "      <td>10.0</td>\n",
       "      <td>1.0</td>\n",
       "      <td>11.0</td>\n",
       "      <td>0.016533</td>\n",
       "      <td>0.021505</td>\n",
       "      <td>0.038039</td>\n",
       "    </tr>\n",
       "    <tr>\n",
       "      <th>355</th>\n",
       "      <td>2019-05-29</td>\n",
       "      <td>345.0</td>\n",
       "      <td>200.0</td>\n",
       "      <td>545.0</td>\n",
       "      <td>186.0</td>\n",
       "      <td>106.0</td>\n",
       "      <td>291.0</td>\n",
       "      <td>0.0</td>\n",
       "      <td>50.0</td>\n",
       "      <td>50.0</td>\n",
       "      <td>24203.0</td>\n",
       "      <td>213.0</td>\n",
       "      <td>24416.0</td>\n",
       "      <td>12335.0</td>\n",
       "      <td>209.0</td>\n",
       "      <td>210.0</td>\n",
       "      <td>1.0</td>\n",
       "      <td>179.0</td>\n",
       "      <td>0.0</td>\n",
       "      <td>179.0</td>\n",
       "      <td>5.0</td>\n",
       "      <td>0.0</td>\n",
       "      <td>5.0</td>\n",
       "      <td>5.0</td>\n",
       "      <td>0.0</td>\n",
       "      <td>5.0</td>\n",
       "      <td>0.016444</td>\n",
       "      <td>0.009390</td>\n",
       "      <td>0.025834</td>\n",
       "    </tr>\n",
       "    <tr>\n",
       "      <th>356</th>\n",
       "      <td>2019-05-30</td>\n",
       "      <td>376.0</td>\n",
       "      <td>169.0</td>\n",
       "      <td>545.0</td>\n",
       "      <td>173.0</td>\n",
       "      <td>106.0</td>\n",
       "      <td>279.0</td>\n",
       "      <td>1.0</td>\n",
       "      <td>70.0</td>\n",
       "      <td>71.0</td>\n",
       "      <td>19312.0</td>\n",
       "      <td>225.0</td>\n",
       "      <td>19537.0</td>\n",
       "      <td>9564.0</td>\n",
       "      <td>188.0</td>\n",
       "      <td>190.0</td>\n",
       "      <td>2.0</td>\n",
       "      <td>125.0</td>\n",
       "      <td>0.0</td>\n",
       "      <td>125.0</td>\n",
       "      <td>2.0</td>\n",
       "      <td>0.0</td>\n",
       "      <td>2.0</td>\n",
       "      <td>8.0</td>\n",
       "      <td>0.0</td>\n",
       "      <td>8.0</td>\n",
       "      <td>0.016725</td>\n",
       "      <td>0.017778</td>\n",
       "      <td>0.034503</td>\n",
       "    </tr>\n",
       "  </tbody>\n",
       "</table>\n",
       "<p>357 rows × 29 columns</p>\n",
       "</div>"
      ],
      "text/plain": [
       "           Date  Total page views (desktop)  Total page views (mobile)  \\\n",
       "0    2018-06-08                       198.0                      288.0   \n",
       "1    2018-06-09                        61.0                      225.0   \n",
       "2    2018-06-10                        69.0                      268.0   \n",
       "3    2018-06-11                       216.0                      289.0   \n",
       "4    2018-06-12                       256.0                      363.0   \n",
       "5    2018-06-13                       212.0                      340.0   \n",
       "6    2018-06-14                       230.0                      351.0   \n",
       "7    2018-06-15                       142.0                      323.0   \n",
       "8    2018-06-16                        60.0                      257.0   \n",
       "9    2018-06-17                        69.0                      230.0   \n",
       "10   2018-06-18                       254.0                      273.0   \n",
       "11   2018-06-19                       234.0                      281.0   \n",
       "12   2018-06-20                       231.0                      308.0   \n",
       "13   2018-06-21                       274.0                      266.0   \n",
       "14   2018-06-22                       209.0                      309.0   \n",
       "15   2018-06-23                        91.0                      234.0   \n",
       "16   2018-06-24                        72.0                      218.0   \n",
       "17   2018-06-25                       243.0                      241.0   \n",
       "18   2018-06-26                       259.0                      317.0   \n",
       "19   2018-06-27                       222.0                      223.0   \n",
       "20   2018-06-28                       279.0                      300.0   \n",
       "21   2018-06-29                       219.0                      247.0   \n",
       "22   2018-06-30                        94.0                      315.0   \n",
       "23   2018-07-01                        69.0                      218.0   \n",
       "24   2018-07-02                       242.0                      213.0   \n",
       "25   2018-07-03                       191.0                      265.0   \n",
       "26   2018-07-04                       157.0                      165.0   \n",
       "27   2018-07-05                       194.0                      176.0   \n",
       "28   2018-07-06                       163.0                      265.0   \n",
       "29   2018-07-07                        91.0                      247.0   \n",
       "..          ...                         ...                        ...   \n",
       "327  2019-05-01                       317.0                      240.0   \n",
       "328  2019-05-02                       341.0                      183.0   \n",
       "329  2019-05-03                       299.0                      253.0   \n",
       "330  2019-05-04                       102.0                      203.0   \n",
       "331  2019-05-05                       110.0                      209.0   \n",
       "332  2019-05-06                       386.0                      197.0   \n",
       "333  2019-05-07                       359.0                      242.0   \n",
       "334  2019-05-08                       359.0                      242.0   \n",
       "335  2019-05-09                       279.0                      232.0   \n",
       "336  2019-05-10                       247.0                      173.0   \n",
       "337  2019-05-11                       113.0                      264.0   \n",
       "338  2019-05-12                       114.0                      208.0   \n",
       "339  2019-05-13                       365.0                      243.0   \n",
       "340  2019-05-14                       373.0                      194.0   \n",
       "341  2019-05-15                       322.0                      178.0   \n",
       "342  2019-05-16                       471.0                      222.0   \n",
       "343  2019-05-17                       291.0                      283.0   \n",
       "344  2019-05-18                       125.0                      198.0   \n",
       "345  2019-05-19                       173.0                      167.0   \n",
       "346  2019-05-20                       274.0                      195.0   \n",
       "347  2019-05-21                       477.0                      236.0   \n",
       "348  2019-05-22                       356.0                      186.0   \n",
       "349  2019-05-23                       314.0                      202.0   \n",
       "350  2019-05-24                       271.0                      205.0   \n",
       "351  2019-05-25                       127.0                      217.0   \n",
       "352  2019-05-26                        73.0                      181.0   \n",
       "353  2019-05-27                       193.0                      178.0   \n",
       "354  2019-05-28                       448.0                      192.0   \n",
       "355  2019-05-29                       345.0                      200.0   \n",
       "356  2019-05-30                       376.0                      169.0   \n",
       "\n",
       "     Total page views (total)  Total unique visitors (desktop)  \\\n",
       "0                       486.0                            142.0   \n",
       "1                       286.0                             46.0   \n",
       "2                       337.0                             54.0   \n",
       "3                       505.0                            159.0   \n",
       "4                       619.0                            179.0   \n",
       "5                       552.0                            165.0   \n",
       "6                       581.0                            172.0   \n",
       "7                       465.0                            103.0   \n",
       "8                       317.0                             47.0   \n",
       "9                       299.0                             48.0   \n",
       "10                      527.0                            207.0   \n",
       "11                      515.0                            180.0   \n",
       "12                      539.0                            184.0   \n",
       "13                      540.0                            192.0   \n",
       "14                      518.0                            161.0   \n",
       "15                      325.0                             68.0   \n",
       "16                      290.0                             57.0   \n",
       "17                      484.0                            169.0   \n",
       "18                      576.0                            195.0   \n",
       "19                      445.0                            173.0   \n",
       "20                      579.0                            205.0   \n",
       "21                      466.0                            170.0   \n",
       "22                      409.0                             65.0   \n",
       "23                      287.0                             53.0   \n",
       "24                      455.0                            184.0   \n",
       "25                      456.0                            148.0   \n",
       "26                      322.0                             86.0   \n",
       "27                      370.0                            145.0   \n",
       "28                      428.0                            128.0   \n",
       "29                      338.0                             67.0   \n",
       "..                        ...                              ...   \n",
       "327                     557.0                            163.0   \n",
       "328                     524.0                            132.0   \n",
       "329                     552.0                            150.0   \n",
       "330                     305.0                             58.0   \n",
       "331                     319.0                             55.0   \n",
       "332                     583.0                            177.0   \n",
       "333                     601.0                            188.0   \n",
       "334                     601.0                            185.0   \n",
       "335                     511.0                            159.0   \n",
       "336                     420.0                            135.0   \n",
       "337                     377.0                             57.0   \n",
       "338                     322.0                             61.0   \n",
       "339                     608.0                            169.0   \n",
       "340                     567.0                            191.0   \n",
       "341                     500.0                            176.0   \n",
       "342                     693.0                            178.0   \n",
       "343                     574.0                            150.0   \n",
       "344                     323.0                             68.0   \n",
       "345                     340.0                             52.0   \n",
       "346                     469.0                            138.0   \n",
       "347                     713.0                            170.0   \n",
       "348                     542.0                            167.0   \n",
       "349                     516.0                            167.0   \n",
       "350                     476.0                            145.0   \n",
       "351                     344.0                             60.0   \n",
       "352                     254.0                             41.0   \n",
       "353                     371.0                             76.0   \n",
       "354                     640.0                            176.0   \n",
       "355                     545.0                            186.0   \n",
       "356                     545.0                            173.0   \n",
       "\n",
       "     Total unique visitors (mobile)  Total unique visitors (total)  \\\n",
       "0                              97.0                          239.0   \n",
       "1                              87.0                          133.0   \n",
       "2                              82.0                          135.0   \n",
       "3                              98.0                          257.0   \n",
       "4                             112.0                          290.0   \n",
       "5                             104.0                          269.0   \n",
       "6                             113.0                          285.0   \n",
       "7                             102.0                          204.0   \n",
       "8                              87.0                          134.0   \n",
       "9                              76.0                          123.0   \n",
       "10                             81.0                          287.0   \n",
       "11                             88.0                          268.0   \n",
       "12                            106.0                          290.0   \n",
       "13                             93.0                          283.0   \n",
       "14                             88.0                          249.0   \n",
       "15                             81.0                          148.0   \n",
       "16                             77.0                          134.0   \n",
       "17                             89.0                          258.0   \n",
       "18                            102.0                          297.0   \n",
       "19                             83.0                          256.0   \n",
       "20                            103.0                          308.0   \n",
       "21                             97.0                          264.0   \n",
       "22                            130.0                          195.0   \n",
       "23                             85.0                          137.0   \n",
       "24                             81.0                          263.0   \n",
       "25                            104.0                          252.0   \n",
       "26                             78.0                          164.0   \n",
       "27                             78.0                          223.0   \n",
       "28                             98.0                          226.0   \n",
       "29                            103.0                          170.0   \n",
       "..                              ...                            ...   \n",
       "327                           131.0                          292.0   \n",
       "328                           115.0                          246.0   \n",
       "329                           133.0                          282.0   \n",
       "330                           119.0                          177.0   \n",
       "331                           123.0                          178.0   \n",
       "332                           116.0                          292.0   \n",
       "333                           129.0                          316.0   \n",
       "334                           131.0                          315.0   \n",
       "335                           127.0                          286.0   \n",
       "336                           111.0                          245.0   \n",
       "337                           168.0                          225.0   \n",
       "338                           124.0                          185.0   \n",
       "339                           137.0                          304.0   \n",
       "340                           126.0                          316.0   \n",
       "341                           117.0                          292.0   \n",
       "342                           137.0                          315.0   \n",
       "343                           141.0                          290.0   \n",
       "344                           106.0                          174.0   \n",
       "345                            90.0                          142.0   \n",
       "346                           106.0                          244.0   \n",
       "347                           127.0                          296.0   \n",
       "348                            90.0                          255.0   \n",
       "349                           123.0                          290.0   \n",
       "350                           124.0                          269.0   \n",
       "351                           137.0                          197.0   \n",
       "352                            99.0                          140.0   \n",
       "353                           108.0                          184.0   \n",
       "354                           102.0                          276.0   \n",
       "355                           106.0                          291.0   \n",
       "356                           106.0                          279.0   \n",
       "\n",
       "     Sponsored followers  Organic followers  Total followers  \\\n",
       "0                    0.0               63.0             63.0   \n",
       "1                    0.0               34.0             34.0   \n",
       "2                    0.0               48.0             48.0   \n",
       "3                    0.0               62.0             62.0   \n",
       "4                    0.0               73.0             73.0   \n",
       "5                    0.0               75.0             75.0   \n",
       "6                    0.0               61.0             61.0   \n",
       "7                    0.0               38.0             38.0   \n",
       "8                    0.0               38.0             38.0   \n",
       "9                    0.0               30.0             30.0   \n",
       "10                   0.0               72.0             72.0   \n",
       "11                   0.0               85.0             85.0   \n",
       "12                   4.0               71.0             75.0   \n",
       "13                   5.0               88.0             93.0   \n",
       "14                   5.0               73.0             78.0   \n",
       "15                   2.0               34.0             36.0   \n",
       "16                   0.0               36.0             36.0   \n",
       "17                   3.0               64.0             67.0   \n",
       "18                   4.0               76.0             80.0   \n",
       "19                   6.0               64.0             70.0   \n",
       "20                   5.0               66.0             71.0   \n",
       "21                   4.0               48.0             52.0   \n",
       "22                   3.0               59.0             62.0   \n",
       "23                   5.0               31.0             36.0   \n",
       "24                   4.0               74.0             78.0   \n",
       "25                   5.0               63.0             68.0   \n",
       "26                   3.0               59.0             62.0   \n",
       "27                   5.0               55.0             60.0   \n",
       "28                   5.0               51.0             56.0   \n",
       "29                   1.0               39.0             40.0   \n",
       "..                   ...                ...              ...   \n",
       "327                  0.0               66.0             66.0   \n",
       "328                  0.0               63.0             63.0   \n",
       "329                  0.0               60.0             60.0   \n",
       "330                  0.0               41.0             41.0   \n",
       "331                  0.0               43.0             43.0   \n",
       "332                  0.0               71.0             71.0   \n",
       "333                  0.0               83.0             83.0   \n",
       "334                  0.0              100.0            100.0   \n",
       "335                  0.0               68.0             68.0   \n",
       "336                  0.0               60.0             60.0   \n",
       "337                  0.0               40.0             40.0   \n",
       "338                  0.0               45.0             45.0   \n",
       "339                  0.0               83.0             83.0   \n",
       "340                  0.0               73.0             73.0   \n",
       "341                  0.0               57.0             57.0   \n",
       "342                  0.0               81.0             81.0   \n",
       "343                  0.0               49.0             49.0   \n",
       "344                  0.0               32.0             32.0   \n",
       "345                  0.0               33.0             33.0   \n",
       "346                  1.0               72.0             73.0   \n",
       "347                  0.0               77.0             77.0   \n",
       "348                  0.0               64.0             64.0   \n",
       "349                  0.0               81.0             81.0   \n",
       "350                  0.0               58.0             58.0   \n",
       "351                  0.0               16.0             16.0   \n",
       "352                  0.0               34.0             34.0   \n",
       "353                  0.0               36.0             36.0   \n",
       "354                  0.0               50.0             50.0   \n",
       "355                  0.0               50.0             50.0   \n",
       "356                  1.0               70.0             71.0   \n",
       "\n",
       "     Impressions (organic)  Impressions (sponsored)  Impressions (total)  \\\n",
       "0                   5313.0                      0.0               5313.0   \n",
       "1                   3486.0                      0.0               3486.0   \n",
       "2                   3535.0                      0.0               3535.0   \n",
       "3                   5349.0                      0.0               5349.0   \n",
       "4                   4951.0                      0.0               4951.0   \n",
       "5                   4590.0                      0.0               4590.0   \n",
       "6                   3868.0                      0.0               3868.0   \n",
       "7                   2272.0                      0.0               2272.0   \n",
       "8                   1691.0                      0.0               1691.0   \n",
       "9                   1487.0                      0.0               1487.0   \n",
       "10                  2658.0                      0.0               2658.0   \n",
       "11                  2896.0                      0.0               2896.0   \n",
       "12                  2434.0                      0.0               2434.0   \n",
       "13                  2190.0                      0.0               2190.0   \n",
       "14                  1648.0                      0.0               1648.0   \n",
       "15                  1045.0                      0.0               1045.0   \n",
       "16                   999.0                      0.0                999.0   \n",
       "17                  1549.0                      0.0               1549.0   \n",
       "18                 12626.0                      0.0              12626.0   \n",
       "19                 18293.0                      0.0              18293.0   \n",
       "20                 10344.0                      0.0              10344.0   \n",
       "21                 10041.0                      0.0              10041.0   \n",
       "22                 11418.0                      0.0              11418.0   \n",
       "23                  7141.0                      0.0               7141.0   \n",
       "24                 11805.0                      0.0              11805.0   \n",
       "25                  6208.0                      0.0               6208.0   \n",
       "26                  3030.0                      0.0               3030.0   \n",
       "27                  3730.0                      0.0               3730.0   \n",
       "28                  8977.0                      0.0               8977.0   \n",
       "29                 11792.0                      0.0              11792.0   \n",
       "..                     ...                      ...                  ...   \n",
       "327                28405.0                   3167.0              31572.0   \n",
       "328                25440.0                   2795.0              28235.0   \n",
       "329                19142.0                   2886.0              22028.0   \n",
       "330                12901.0                   2290.0              15191.0   \n",
       "331                17790.0                   2442.0              20232.0   \n",
       "332                31292.0                   2794.0              34086.0   \n",
       "333                43140.0                   1990.0              45130.0   \n",
       "334                28353.0                   1336.0              29689.0   \n",
       "335                20194.0                   1333.0              21527.0   \n",
       "336                20044.0                   2819.0              22863.0   \n",
       "337                23866.0                  13045.0              36911.0   \n",
       "338                28714.0                   3133.0              31847.0   \n",
       "339                35111.0                   1590.0              36701.0   \n",
       "340                27136.0                   1433.0              28569.0   \n",
       "341                38866.0                    180.0              39046.0   \n",
       "342                48122.0                    189.0              48311.0   \n",
       "343                38210.0                    129.0              38339.0   \n",
       "344                23789.0                     62.0              23851.0   \n",
       "345                18260.0                     39.0              18299.0   \n",
       "346                29537.0                    112.0              29649.0   \n",
       "347                27096.0                    146.0              27242.0   \n",
       "348                19242.0                    163.0              19405.0   \n",
       "349                28503.0                    171.0              28674.0   \n",
       "350                24146.0                   7628.0              31774.0   \n",
       "351                12559.0                   8958.0              21517.0   \n",
       "352                12843.0                   1238.0              14081.0   \n",
       "353                23375.0                    122.0              23497.0   \n",
       "354                33629.0                    186.0              33815.0   \n",
       "355                24203.0                    213.0              24416.0   \n",
       "356                19312.0                    225.0              19537.0   \n",
       "\n",
       "     Unique impressions (organic)  Clicks (organic)  Clicks (sponsored)  \\\n",
       "0                          2393.0              55.0                55.0   \n",
       "1                          1669.0              35.0                35.0   \n",
       "2                          1653.0              39.0                39.0   \n",
       "3                          2306.0              47.0                47.0   \n",
       "4                          2015.0              46.0                46.0   \n",
       "5                          1805.0              46.0                46.0   \n",
       "6                          1585.0              34.0                34.0   \n",
       "7                          1042.0              26.0                26.0   \n",
       "8                           785.0              32.0                32.0   \n",
       "9                           675.0              22.0                22.0   \n",
       "10                         1210.0              37.0                37.0   \n",
       "11                         1366.0              23.0                23.0   \n",
       "12                         1143.0              34.0                34.0   \n",
       "13                          993.0              24.0                24.0   \n",
       "14                          742.0              23.0                23.0   \n",
       "15                          509.0               9.0                 9.0   \n",
       "16                          476.0              12.0                12.0   \n",
       "17                          735.0              10.0                10.0   \n",
       "18                         6320.0             248.0               248.0   \n",
       "19                         9339.0             345.0               345.0   \n",
       "20                         5652.0             143.0               143.0   \n",
       "21                         5556.0             290.0               290.0   \n",
       "22                         6972.0             451.0               451.0   \n",
       "23                         4469.0             226.0               226.0   \n",
       "24                         7036.0             307.0               307.0   \n",
       "25                         3545.0             110.0               110.0   \n",
       "26                         1787.0              74.0                74.0   \n",
       "27                         2284.0              84.0                84.0   \n",
       "28                         5609.0             189.0               189.0   \n",
       "29                         8173.0             250.0               250.0   \n",
       "..                            ...               ...                 ...   \n",
       "327                       13293.0             247.0               268.0   \n",
       "328                       12397.0             209.0               234.0   \n",
       "329                        9535.0             218.0               231.0   \n",
       "330                        6481.0             234.0               244.0   \n",
       "331                        8814.0             244.0               257.0   \n",
       "332                       14912.0             309.0               315.0   \n",
       "333                       22978.0             353.0               358.0   \n",
       "334                       15336.0             222.0               228.0   \n",
       "335                       10398.0             135.0               137.0   \n",
       "336                       10977.0             182.0               192.0   \n",
       "337                       11720.0             382.0               475.0   \n",
       "338                       14583.0             849.0               868.0   \n",
       "339                       17415.0             624.0               629.0   \n",
       "340                       13574.0             377.0               382.0   \n",
       "341                       19513.0             481.0               481.0   \n",
       "342                       26948.0             524.0               525.0   \n",
       "343                       18825.0             455.0               456.0   \n",
       "344                       12692.0             333.0               333.0   \n",
       "345                        9835.0             283.0               283.0   \n",
       "346                       15847.0             222.0               223.0   \n",
       "347                       13799.0             288.0               289.0   \n",
       "348                        9729.0             203.0               206.0   \n",
       "349                       13540.0             247.0               247.0   \n",
       "350                       11639.0             211.0               245.0   \n",
       "351                        6171.0             128.0               180.0   \n",
       "352                        6565.0             190.0               200.0   \n",
       "353                       11858.0             265.0               265.0   \n",
       "354                       18217.0             259.0               260.0   \n",
       "355                       12335.0             209.0               210.0   \n",
       "356                        9564.0             188.0               190.0   \n",
       "\n",
       "     Clicks (total)  Likes (organic)  Likes (sponsored)  Likes (total)  \\\n",
       "0               0.0             20.0                0.0           20.0   \n",
       "1               0.0             15.0                0.0           15.0   \n",
       "2               0.0             18.0                0.0           18.0   \n",
       "3               0.0              8.0                0.0            8.0   \n",
       "4               0.0             16.0                0.0           16.0   \n",
       "5               0.0             15.0                0.0           15.0   \n",
       "6               0.0             11.0                0.0           11.0   \n",
       "7               0.0              5.0                0.0            5.0   \n",
       "8               0.0              5.0                0.0            5.0   \n",
       "9               0.0              5.0                0.0            5.0   \n",
       "10              0.0             11.0                0.0           11.0   \n",
       "11              0.0             15.0                0.0           15.0   \n",
       "12              0.0              4.0                0.0            4.0   \n",
       "13              0.0             10.0                0.0           10.0   \n",
       "14              0.0              4.0                0.0            4.0   \n",
       "15              0.0              3.0                0.0            3.0   \n",
       "16              0.0              8.0                0.0            8.0   \n",
       "17              0.0              9.0                0.0            9.0   \n",
       "18              0.0             38.0                0.0           38.0   \n",
       "19              0.0             52.0                0.0           52.0   \n",
       "20              0.0             26.0                0.0           26.0   \n",
       "21              0.0             85.0                0.0           85.0   \n",
       "22              0.0            148.0                0.0          148.0   \n",
       "23              0.0             56.0                0.0           56.0   \n",
       "24              0.0            109.0                0.0          109.0   \n",
       "25              0.0             36.0                0.0           36.0   \n",
       "26              0.0             19.0                0.0           19.0   \n",
       "27              0.0             25.0                0.0           25.0   \n",
       "28              0.0             62.0                0.0           62.0   \n",
       "29              0.0            112.0                0.0          112.0   \n",
       "..              ...              ...                ...            ...   \n",
       "327            21.0            162.0                4.0          166.0   \n",
       "328            25.0            166.0                3.0          169.0   \n",
       "329            13.0            166.0                3.0          169.0   \n",
       "330            10.0            245.0                0.0          245.0   \n",
       "331            13.0            200.0                5.0          205.0   \n",
       "332             6.0            352.0                2.0          354.0   \n",
       "333             5.0            495.0                2.0          497.0   \n",
       "334             6.0            268.0                1.0          269.0   \n",
       "335             2.0            148.0                0.0          148.0   \n",
       "336            10.0            162.0                3.0          165.0   \n",
       "337            93.0            212.0               14.0          226.0   \n",
       "338            19.0            287.0                6.0          293.0   \n",
       "339             5.0            301.0                2.0          303.0   \n",
       "340             5.0            203.0                1.0          204.0   \n",
       "341             0.0            542.0                0.0          542.0   \n",
       "342             1.0            471.0                0.0          471.0   \n",
       "343             1.0            511.0                0.0          511.0   \n",
       "344             0.0            309.0                2.0          311.0   \n",
       "345             0.0            190.0                0.0          190.0   \n",
       "346             1.0            251.0                0.0          251.0   \n",
       "347             1.0            196.0                0.0          196.0   \n",
       "348             3.0            138.0                1.0          139.0   \n",
       "349             0.0            108.0                1.0          109.0   \n",
       "350            34.0            164.0                9.0          173.0   \n",
       "351            52.0            102.0               15.0          117.0   \n",
       "352            10.0            121.0                2.0          123.0   \n",
       "353             0.0            353.0                0.0          353.0   \n",
       "354             1.0            285.0                2.0          287.0   \n",
       "355             1.0            179.0                0.0          179.0   \n",
       "356             2.0            125.0                0.0          125.0   \n",
       "\n",
       "     Comments (organic)  Comments (sponsored)  Comments (total)  \\\n",
       "0                   0.0                   0.0               0.0   \n",
       "1                   0.0                   0.0               0.0   \n",
       "2                   0.0                   0.0               0.0   \n",
       "3                   0.0                   0.0               0.0   \n",
       "4                   1.0                   0.0               1.0   \n",
       "5                   1.0                   0.0               1.0   \n",
       "6                   0.0                   0.0               0.0   \n",
       "7                   0.0                   0.0               0.0   \n",
       "8                  -1.0                   0.0              -1.0   \n",
       "9                   0.0                   0.0               0.0   \n",
       "10                  0.0                   0.0               0.0   \n",
       "11                  0.0                   0.0               0.0   \n",
       "12                  0.0                   0.0               0.0   \n",
       "13                  0.0                   0.0               0.0   \n",
       "14                  0.0                   0.0               0.0   \n",
       "15                  0.0                   0.0               0.0   \n",
       "16                  0.0                   0.0               0.0   \n",
       "17                  1.0                   0.0               1.0   \n",
       "18                  0.0                   0.0               0.0   \n",
       "19                  0.0                   0.0               0.0   \n",
       "20                  0.0                   0.0               0.0   \n",
       "21                  3.0                   0.0               3.0   \n",
       "22                  2.0                   0.0               2.0   \n",
       "23                  1.0                   0.0               1.0   \n",
       "24                  4.0                   0.0               4.0   \n",
       "25                  0.0                   0.0               0.0   \n",
       "26                  2.0                   0.0               2.0   \n",
       "27                  1.0                   0.0               1.0   \n",
       "28                  2.0                   0.0               2.0   \n",
       "29                  2.0                   0.0               2.0   \n",
       "..                  ...                   ...               ...   \n",
       "327                 5.0                   0.0               5.0   \n",
       "328                 6.0                   0.0               6.0   \n",
       "329                 9.0                   0.0               9.0   \n",
       "330                 7.0                   0.0               7.0   \n",
       "331                 0.0                   0.0               0.0   \n",
       "332                 6.0                   0.0               6.0   \n",
       "333                 9.0                   0.0               9.0   \n",
       "334                 7.0                   0.0               7.0   \n",
       "335                 5.0                   0.0               5.0   \n",
       "336                 9.0                   0.0               9.0   \n",
       "337                 9.0                   0.0               9.0   \n",
       "338                 8.0                   0.0               8.0   \n",
       "339                 5.0                   0.0               5.0   \n",
       "340                 5.0                   0.0               5.0   \n",
       "341                11.0                   0.0              11.0   \n",
       "342                 8.0                   0.0               8.0   \n",
       "343                17.0                   0.0              17.0   \n",
       "344                 2.0                   0.0               2.0   \n",
       "345                 6.0                   0.0               6.0   \n",
       "346                 7.0                   0.0               7.0   \n",
       "347                11.0                   0.0              11.0   \n",
       "348                 2.0                   0.0               2.0   \n",
       "349                 6.0                   0.0               6.0   \n",
       "350                 5.0                   0.0               5.0   \n",
       "351                 0.0                   0.0               0.0   \n",
       "352                 2.0                   0.0               2.0   \n",
       "353                 8.0                   0.0               8.0   \n",
       "354                 2.0                   0.0               2.0   \n",
       "355                 5.0                   0.0               5.0   \n",
       "356                 2.0                   0.0               2.0   \n",
       "\n",
       "     Shares (organic)  Shares (sponsored)  Shares (total)  \\\n",
       "0                 1.0                 0.0             1.0   \n",
       "1                 1.0                 0.0             1.0   \n",
       "2                 1.0                 0.0             1.0   \n",
       "3                 0.0                 0.0             0.0   \n",
       "4                 2.0                 0.0             2.0   \n",
       "5                 2.0                 0.0             2.0   \n",
       "6                 2.0                 0.0             2.0   \n",
       "7                 5.0                 0.0             5.0   \n",
       "8                 3.0                 0.0             3.0   \n",
       "9                 0.0                 0.0             0.0   \n",
       "10                1.0                 0.0             1.0   \n",
       "11                1.0                 0.0             1.0   \n",
       "12                2.0                 0.0             2.0   \n",
       "13                0.0                 0.0             0.0   \n",
       "14                0.0                 0.0             0.0   \n",
       "15               -1.0                 0.0            -1.0   \n",
       "16                0.0                 0.0             0.0   \n",
       "17                0.0                 0.0             0.0   \n",
       "18                4.0                 0.0             4.0   \n",
       "19                3.0                 0.0             3.0   \n",
       "20                2.0                 0.0             2.0   \n",
       "21                4.0                 0.0             4.0   \n",
       "22               11.0                 0.0            11.0   \n",
       "23                4.0                 0.0             4.0   \n",
       "24               10.0                 0.0            10.0   \n",
       "25                5.0                 0.0             5.0   \n",
       "26                2.0                 0.0             2.0   \n",
       "27                0.0                 0.0             0.0   \n",
       "28                8.0                 0.0             8.0   \n",
       "29                4.0                 0.0             4.0   \n",
       "..                ...                 ...             ...   \n",
       "327              10.0                 0.0            10.0   \n",
       "328               9.0                 0.0             9.0   \n",
       "329               4.0                 0.0             4.0   \n",
       "330               6.0                 0.0             6.0   \n",
       "331               4.0                 0.0             4.0   \n",
       "332               5.0                 0.0             5.0   \n",
       "333              18.0                 0.0            18.0   \n",
       "334               8.0                 0.0             8.0   \n",
       "335               9.0                 0.0             9.0   \n",
       "336               5.0                 0.0             5.0   \n",
       "337               4.0                 0.0             4.0   \n",
       "338               3.0                 0.0             3.0   \n",
       "339               9.0                 0.0             9.0   \n",
       "340               4.0                 0.0             4.0   \n",
       "341              17.0                 0.0            17.0   \n",
       "342              26.0                 0.0            26.0   \n",
       "343              30.0                 0.0            30.0   \n",
       "344              12.0                 0.0            12.0   \n",
       "345              19.0                 0.0            19.0   \n",
       "346              12.0                 0.0            12.0   \n",
       "347              10.0                 0.0            10.0   \n",
       "348               5.0                 0.0             5.0   \n",
       "349               5.0                 0.0             5.0   \n",
       "350              11.0                 0.0            11.0   \n",
       "351               4.0                 1.0             5.0   \n",
       "352               6.0                 0.0             6.0   \n",
       "353              20.0                 0.0            20.0   \n",
       "354              10.0                 1.0            11.0   \n",
       "355               5.0                 0.0             5.0   \n",
       "356               8.0                 0.0             8.0   \n",
       "\n",
       "     Engagement rate (organic)  Engagement rate (sponsored)  \\\n",
       "0                     0.014305                     0.000000   \n",
       "1                     0.014630                     0.000000   \n",
       "2                     0.016407                     0.000000   \n",
       "3                     0.010282                     0.000000   \n",
       "4                     0.013129                     0.000000   \n",
       "5                     0.013943                     0.000000   \n",
       "6                     0.012151                     0.000000   \n",
       "7                     0.015845                     0.000000   \n",
       "8                     0.023063                     0.000000   \n",
       "9                     0.018157                     0.000000   \n",
       "10                    0.018435                     0.000000   \n",
       "11                    0.013467                     0.000000   \n",
       "12                    0.016434                     0.000000   \n",
       "13                    0.015525                     0.000000   \n",
       "14                    0.016383                     0.000000   \n",
       "15                    0.010526                     0.000000   \n",
       "16                    0.020020                     0.000000   \n",
       "17                    0.012912                     0.000000   \n",
       "18                    0.022968                     0.000000   \n",
       "19                    0.021866                     0.000000   \n",
       "20                    0.016531                     0.000000   \n",
       "21                    0.038044                     0.000000   \n",
       "22                    0.053600                     0.000000   \n",
       "23                    0.040190                     0.000000   \n",
       "24                    0.036425                     0.000000   \n",
       "25                    0.024323                     0.000000   \n",
       "26                    0.032013                     0.000000   \n",
       "27                    0.029491                     0.000000   \n",
       "28                    0.029074                     0.000000   \n",
       "29                    0.031208                     0.000000   \n",
       "..                         ...                          ...   \n",
       "327                   0.014927                     0.019893   \n",
       "328                   0.015330                     0.017531   \n",
       "329                   0.020740                     0.012821   \n",
       "330                   0.038137                     0.010917   \n",
       "331                   0.025183                     0.015152   \n",
       "332                   0.021475                     0.006800   \n",
       "333                   0.020283                     0.013568   \n",
       "334                   0.017811                     0.013473   \n",
       "335                   0.014707                     0.012753   \n",
       "336                   0.017861                     0.009933   \n",
       "337                   0.025434                     0.013108   \n",
       "338                   0.039946                     0.013725   \n",
       "339                   0.026744                     0.012579   \n",
       "340                   0.021705                     0.016748   \n",
       "341                   0.027042                     0.005556   \n",
       "342                   0.021383                     0.005291   \n",
       "343                   0.026511                     0.007752   \n",
       "344                   0.027576                     0.032258   \n",
       "345                   0.027273                     0.025641   \n",
       "346                   0.016657                     0.008929   \n",
       "347                   0.018637                     0.006849   \n",
       "348                   0.018085                     0.024540   \n",
       "349                   0.012841                     0.011696   \n",
       "350                   0.016193                     0.008915   \n",
       "351                   0.018632                     0.010605   \n",
       "352                   0.024838                     0.013732   \n",
       "353                   0.027636                     0.000000   \n",
       "354                   0.016533                     0.021505   \n",
       "355                   0.016444                     0.009390   \n",
       "356                   0.016725                     0.017778   \n",
       "\n",
       "     Engagement rate (total)  \n",
       "0                   0.014305  \n",
       "1                   0.014630  \n",
       "2                   0.016407  \n",
       "3                   0.010282  \n",
       "4                   0.013129  \n",
       "5                   0.013943  \n",
       "6                   0.012151  \n",
       "7                   0.015845  \n",
       "8                   0.023063  \n",
       "9                   0.018157  \n",
       "10                  0.018435  \n",
       "11                  0.013467  \n",
       "12                  0.016434  \n",
       "13                  0.015525  \n",
       "14                  0.016383  \n",
       "15                  0.010526  \n",
       "16                  0.020020  \n",
       "17                  0.012912  \n",
       "18                  0.022968  \n",
       "19                  0.021866  \n",
       "20                  0.016531  \n",
       "21                  0.038044  \n",
       "22                  0.053600  \n",
       "23                  0.040190  \n",
       "24                  0.036425  \n",
       "25                  0.024323  \n",
       "26                  0.032013  \n",
       "27                  0.029491  \n",
       "28                  0.029074  \n",
       "29                  0.031208  \n",
       "..                       ...  \n",
       "327                 0.034820  \n",
       "328                 0.032861  \n",
       "329                 0.033560  \n",
       "330                 0.049054  \n",
       "331                 0.040334  \n",
       "332                 0.028275  \n",
       "333                 0.033851  \n",
       "334                 0.031284  \n",
       "335                 0.027461  \n",
       "336                 0.027793  \n",
       "337                 0.038542  \n",
       "338                 0.053671  \n",
       "339                 0.039322  \n",
       "340                 0.038454  \n",
       "341                 0.032597  \n",
       "342                 0.026674  \n",
       "343                 0.034263  \n",
       "344                 0.059834  \n",
       "345                 0.052914  \n",
       "346                 0.025586  \n",
       "347                 0.025487  \n",
       "348                 0.042625  \n",
       "349                 0.024537  \n",
       "350                 0.025108  \n",
       "351                 0.029237  \n",
       "352                 0.038570  \n",
       "353                 0.027636  \n",
       "354                 0.038039  \n",
       "355                 0.025834  \n",
       "356                 0.034503  \n",
       "\n",
       "[357 rows x 29 columns]"
      ]
     },
     "execution_count": 138,
     "metadata": {},
     "output_type": "execute_result"
    }
   ],
   "source": [
    "metrics_df\n"
   ]
  },
  {
   "cell_type": "code",
   "execution_count": 139,
   "metadata": {
    "scrolled": true
   },
   "outputs": [
    {
     "data": {
      "text/html": [
       "<div>\n",
       "<style scoped>\n",
       "    .dataframe tbody tr th:only-of-type {\n",
       "        vertical-align: middle;\n",
       "    }\n",
       "\n",
       "    .dataframe tbody tr th {\n",
       "        vertical-align: top;\n",
       "    }\n",
       "\n",
       "    .dataframe thead th {\n",
       "        text-align: right;\n",
       "    }\n",
       "</style>\n",
       "<table border=\"1\" class=\"dataframe\">\n",
       "  <thead>\n",
       "    <tr style=\"text-align: right;\">\n",
       "      <th></th>\n",
       "      <th>Update title</th>\n",
       "      <th>Update link</th>\n",
       "      <th>Update type</th>\n",
       "      <th>Campaign name</th>\n",
       "      <th>Posted by</th>\n",
       "      <th>Created date</th>\n",
       "      <th>Campaign start date</th>\n",
       "      <th>Campaign end date</th>\n",
       "      <th>Audience</th>\n",
       "      <th>Impressions</th>\n",
       "      <th>Video views</th>\n",
       "      <th>Clicks</th>\n",
       "      <th>Click through rate (CTR)</th>\n",
       "      <th>Likes</th>\n",
       "      <th>Comments</th>\n",
       "      <th>Shares</th>\n",
       "      <th>Follows</th>\n",
       "      <th>Engagement rate</th>\n",
       "    </tr>\n",
       "  </thead>\n",
       "  <tbody>\n",
       "    <tr>\n",
       "      <th>1</th>\n",
       "      <td>🚨BIG NEWS🚨 \\n\\nIndiana University is acquiring...</td>\n",
       "      <td>https://www.linkedin.com/feed/update/urn:li:ac...</td>\n",
       "      <td>Organic</td>\n",
       "      <td>NaN</td>\n",
       "      <td>Morgan Campbell</td>\n",
       "      <td>2019-06-08</td>\n",
       "      <td>NaN</td>\n",
       "      <td>NaN</td>\n",
       "      <td>All followers</td>\n",
       "      <td>64796</td>\n",
       "      <td>NaN</td>\n",
       "      <td>2428</td>\n",
       "      <td>0.0374714</td>\n",
       "      <td>1275</td>\n",
       "      <td>22</td>\n",
       "      <td>91</td>\n",
       "      <td>NaN</td>\n",
       "      <td>0.0588925</td>\n",
       "    </tr>\n",
       "    <tr>\n",
       "      <th>2</th>\n",
       "      <td>College is more than a collection of classes a...</td>\n",
       "      <td>https://www.linkedin.com/feed/update/urn:li:ac...</td>\n",
       "      <td>Organic</td>\n",
       "      <td>NaN</td>\n",
       "      <td>Clayton Norman</td>\n",
       "      <td>2019-06-07</td>\n",
       "      <td>NaN</td>\n",
       "      <td>NaN</td>\n",
       "      <td>All followers</td>\n",
       "      <td>51769</td>\n",
       "      <td>15607</td>\n",
       "      <td>914</td>\n",
       "      <td>0.0176554</td>\n",
       "      <td>737</td>\n",
       "      <td>85</td>\n",
       "      <td>35</td>\n",
       "      <td>NaN</td>\n",
       "      <td>0.0342097</td>\n",
       "    </tr>\n",
       "    <tr>\n",
       "      <th>3</th>\n",
       "      <td>Watch IU President Michael McRobbie discuss th...</td>\n",
       "      <td>https://www.linkedin.com/feed/update/urn:li:ac...</td>\n",
       "      <td>Organic</td>\n",
       "      <td>NaN</td>\n",
       "      <td>Clayton Norman</td>\n",
       "      <td>2019-06-06</td>\n",
       "      <td>NaN</td>\n",
       "      <td>NaN</td>\n",
       "      <td>All followers</td>\n",
       "      <td>9675</td>\n",
       "      <td>NaN</td>\n",
       "      <td>113</td>\n",
       "      <td>0.0116796</td>\n",
       "      <td>36</td>\n",
       "      <td>0</td>\n",
       "      <td>1</td>\n",
       "      <td>NaN</td>\n",
       "      <td>0.0155039</td>\n",
       "    </tr>\n",
       "    <tr>\n",
       "      <th>4</th>\n",
       "      <td>Business law and ethics professor and IU-Bloom...</td>\n",
       "      <td>https://www.linkedin.com/feed/update/urn:li:ac...</td>\n",
       "      <td>Organic</td>\n",
       "      <td>NaN</td>\n",
       "      <td>Clayton Norman</td>\n",
       "      <td>2019-06-06</td>\n",
       "      <td>NaN</td>\n",
       "      <td>NaN</td>\n",
       "      <td>All followers</td>\n",
       "      <td>7954</td>\n",
       "      <td>NaN</td>\n",
       "      <td>63</td>\n",
       "      <td>0.00792054</td>\n",
       "      <td>35</td>\n",
       "      <td>1</td>\n",
       "      <td>2</td>\n",
       "      <td>NaN</td>\n",
       "      <td>0.012698</td>\n",
       "    </tr>\n",
       "    <tr>\n",
       "      <th>5</th>\n",
       "      <td>The IU Alumni Association is proud to present ...</td>\n",
       "      <td>https://www.linkedin.com/feed/update/urn:li:ac...</td>\n",
       "      <td>Organic</td>\n",
       "      <td>NaN</td>\n",
       "      <td>Erin Erwin</td>\n",
       "      <td>2019-06-05</td>\n",
       "      <td>NaN</td>\n",
       "      <td>NaN</td>\n",
       "      <td>All followers</td>\n",
       "      <td>21303</td>\n",
       "      <td>NaN</td>\n",
       "      <td>199</td>\n",
       "      <td>0.00934141</td>\n",
       "      <td>104</td>\n",
       "      <td>0</td>\n",
       "      <td>3</td>\n",
       "      <td>NaN</td>\n",
       "      <td>0.0143642</td>\n",
       "    </tr>\n",
       "  </tbody>\n",
       "</table>\n",
       "</div>"
      ],
      "text/plain": [
       "0                                       Update title  \\\n",
       "1  🚨BIG NEWS🚨 \\n\\nIndiana University is acquiring...   \n",
       "2  College is more than a collection of classes a...   \n",
       "3  Watch IU President Michael McRobbie discuss th...   \n",
       "4  Business law and ethics professor and IU-Bloom...   \n",
       "5  The IU Alumni Association is proud to present ...   \n",
       "\n",
       "0                                        Update link Update type  \\\n",
       "1  https://www.linkedin.com/feed/update/urn:li:ac...     Organic   \n",
       "2  https://www.linkedin.com/feed/update/urn:li:ac...     Organic   \n",
       "3  https://www.linkedin.com/feed/update/urn:li:ac...     Organic   \n",
       "4  https://www.linkedin.com/feed/update/urn:li:ac...     Organic   \n",
       "5  https://www.linkedin.com/feed/update/urn:li:ac...     Organic   \n",
       "\n",
       "0 Campaign name        Posted by Created date Campaign start date  \\\n",
       "1           NaN  Morgan Campbell   2019-06-08                 NaN   \n",
       "2           NaN   Clayton Norman   2019-06-07                 NaN   \n",
       "3           NaN   Clayton Norman   2019-06-06                 NaN   \n",
       "4           NaN   Clayton Norman   2019-06-06                 NaN   \n",
       "5           NaN       Erin Erwin   2019-06-05                 NaN   \n",
       "\n",
       "0 Campaign end date       Audience Impressions Video views Clicks  \\\n",
       "1               NaN  All followers       64796         NaN   2428   \n",
       "2               NaN  All followers       51769       15607    914   \n",
       "3               NaN  All followers        9675         NaN    113   \n",
       "4               NaN  All followers        7954         NaN     63   \n",
       "5               NaN  All followers       21303         NaN    199   \n",
       "\n",
       "0 Click through rate (CTR) Likes Comments Shares Follows Engagement rate  \n",
       "1                0.0374714  1275       22     91     NaN       0.0588925  \n",
       "2                0.0176554   737       85     35     NaN       0.0342097  \n",
       "3                0.0116796    36        0      1     NaN       0.0155039  \n",
       "4               0.00792054    35        1      2     NaN        0.012698  \n",
       "5               0.00934141   104        0      3     NaN       0.0143642  "
      ]
     },
     "execution_count": 139,
     "metadata": {},
     "output_type": "execute_result"
    }
   ],
   "source": [
    "#engagement_top_posts_filepath\n",
    "\n",
    "engagement_metrics_update_df.head()"
   ]
  },
  {
   "cell_type": "markdown",
   "metadata": {},
   "source": [
    "### Engagement Posts"
   ]
  },
  {
   "cell_type": "code",
   "execution_count": 144,
   "metadata": {},
   "outputs": [],
   "source": [
    "def make_engagement_posts(file,engagement_metrics_update_df):\n",
    "    csvFile = open(file,\"w\")\n",
    "    csvWriter = csv.writer(csvFile)\n",
    "    csvWriter.writerow(['Created date',\n",
    "                        'Post title',\n",
    "                        'Post link',\n",
    "                        'Post type',\n",
    "                        'Impressions',\n",
    "                        'Video views',\n",
    "                        'Clicks',\n",
    "                        'Click through rate (CTR)',\n",
    "                        'Likes',\n",
    "                        'Comments',\n",
    "                        'Shares', \n",
    "                        'Follows',\n",
    "        'Engagement rate'])\n",
    "    \n",
    "    engagement_metrics_update_df = engagement_metrics_update_df.fillna(0)\n",
    "    for index, row in engagement_metrics_update_df.iterrows():\n",
    "        csvWriter.writerow([row[\"Created date\"], row[\"Update title\"],row[\"Update link\"],row[\"Update type\"],\n",
    "                           row[\"Impressions\"],row[\"Video views\"],row[\"Clicks\"],row[\"Click through rate (CTR)\"],\n",
    "                           row[\"Likes\"],row[\"Comments\"], row[\"Shares\"],row[\"Follows\"],row[\"Engagement rate\"]\n",
    "                           ])\n",
    "    \n",
    "    print(\"Copying done!\",index)\n",
    "\n",
    "    \n",
    "\n",
    "    "
   ]
  },
  {
   "cell_type": "code",
   "execution_count": 145,
   "metadata": {},
   "outputs": [
    {
     "name": "stdout",
     "output_type": "stream",
     "text": [
      "Copying done! 177\n"
     ]
    }
   ],
   "source": [
    "make_engagement_posts(engagement_top_posts_filepath,engagement_metrics_update_df)"
   ]
  },
  {
   "cell_type": "code",
   "execution_count": 146,
   "metadata": {},
   "outputs": [
    {
     "name": "stdout",
     "output_type": "stream",
     "text": [
      "Number of rows and columns (177, 13)\n"
     ]
    }
   ],
   "source": [
    "posts_df  = pd.read_csv(engagement_top_posts_filepath)\n",
    "print(f\"Number of rows and columns\",posts_df.shape)"
   ]
  },
  {
   "cell_type": "code",
   "execution_count": 147,
   "metadata": {},
   "outputs": [
    {
     "data": {
      "text/html": [
       "<div>\n",
       "<style scoped>\n",
       "    .dataframe tbody tr th:only-of-type {\n",
       "        vertical-align: middle;\n",
       "    }\n",
       "\n",
       "    .dataframe tbody tr th {\n",
       "        vertical-align: top;\n",
       "    }\n",
       "\n",
       "    .dataframe thead th {\n",
       "        text-align: right;\n",
       "    }\n",
       "</style>\n",
       "<table border=\"1\" class=\"dataframe\">\n",
       "  <thead>\n",
       "    <tr style=\"text-align: right;\">\n",
       "      <th></th>\n",
       "      <th>Created date</th>\n",
       "      <th>Post title</th>\n",
       "      <th>Post link</th>\n",
       "      <th>Post type</th>\n",
       "      <th>Impressions</th>\n",
       "      <th>Video views</th>\n",
       "      <th>Clicks</th>\n",
       "      <th>Click through rate (CTR)</th>\n",
       "      <th>Likes</th>\n",
       "      <th>Comments</th>\n",
       "      <th>Shares</th>\n",
       "      <th>Follows</th>\n",
       "      <th>Engagement rate</th>\n",
       "    </tr>\n",
       "  </thead>\n",
       "  <tbody>\n",
       "    <tr>\n",
       "      <th>0</th>\n",
       "      <td>2019-06-08 00:00:00</td>\n",
       "      <td>🚨BIG NEWS🚨 \\n\\nIndiana University is acquiring...</td>\n",
       "      <td>https://www.linkedin.com/feed/update/urn:li:ac...</td>\n",
       "      <td>Organic</td>\n",
       "      <td>64796</td>\n",
       "      <td>0</td>\n",
       "      <td>2428</td>\n",
       "      <td>0.037471</td>\n",
       "      <td>1275</td>\n",
       "      <td>22</td>\n",
       "      <td>91</td>\n",
       "      <td>0</td>\n",
       "      <td>0.058893</td>\n",
       "    </tr>\n",
       "    <tr>\n",
       "      <th>1</th>\n",
       "      <td>2019-06-07 00:00:00</td>\n",
       "      <td>College is more than a collection of classes a...</td>\n",
       "      <td>https://www.linkedin.com/feed/update/urn:li:ac...</td>\n",
       "      <td>Organic</td>\n",
       "      <td>51769</td>\n",
       "      <td>15607</td>\n",
       "      <td>914</td>\n",
       "      <td>0.017655</td>\n",
       "      <td>737</td>\n",
       "      <td>85</td>\n",
       "      <td>35</td>\n",
       "      <td>0</td>\n",
       "      <td>0.034210</td>\n",
       "    </tr>\n",
       "    <tr>\n",
       "      <th>2</th>\n",
       "      <td>2019-06-06 00:00:00</td>\n",
       "      <td>Watch IU President Michael McRobbie discuss th...</td>\n",
       "      <td>https://www.linkedin.com/feed/update/urn:li:ac...</td>\n",
       "      <td>Organic</td>\n",
       "      <td>9675</td>\n",
       "      <td>0</td>\n",
       "      <td>113</td>\n",
       "      <td>0.011680</td>\n",
       "      <td>36</td>\n",
       "      <td>0</td>\n",
       "      <td>1</td>\n",
       "      <td>0</td>\n",
       "      <td>0.015504</td>\n",
       "    </tr>\n",
       "    <tr>\n",
       "      <th>3</th>\n",
       "      <td>2019-06-06 00:00:00</td>\n",
       "      <td>Business law and ethics professor and IU-Bloom...</td>\n",
       "      <td>https://www.linkedin.com/feed/update/urn:li:ac...</td>\n",
       "      <td>Organic</td>\n",
       "      <td>7954</td>\n",
       "      <td>0</td>\n",
       "      <td>63</td>\n",
       "      <td>0.007921</td>\n",
       "      <td>35</td>\n",
       "      <td>1</td>\n",
       "      <td>2</td>\n",
       "      <td>0</td>\n",
       "      <td>0.012698</td>\n",
       "    </tr>\n",
       "    <tr>\n",
       "      <th>4</th>\n",
       "      <td>2019-06-05 00:00:00</td>\n",
       "      <td>The IU Alumni Association is proud to present ...</td>\n",
       "      <td>https://www.linkedin.com/feed/update/urn:li:ac...</td>\n",
       "      <td>Organic</td>\n",
       "      <td>21303</td>\n",
       "      <td>0</td>\n",
       "      <td>199</td>\n",
       "      <td>0.009341</td>\n",
       "      <td>104</td>\n",
       "      <td>0</td>\n",
       "      <td>3</td>\n",
       "      <td>0</td>\n",
       "      <td>0.014364</td>\n",
       "    </tr>\n",
       "  </tbody>\n",
       "</table>\n",
       "</div>"
      ],
      "text/plain": [
       "          Created date                                         Post title  \\\n",
       "0  2019-06-08 00:00:00  🚨BIG NEWS🚨 \\n\\nIndiana University is acquiring...   \n",
       "1  2019-06-07 00:00:00  College is more than a collection of classes a...   \n",
       "2  2019-06-06 00:00:00  Watch IU President Michael McRobbie discuss th...   \n",
       "3  2019-06-06 00:00:00  Business law and ethics professor and IU-Bloom...   \n",
       "4  2019-06-05 00:00:00  The IU Alumni Association is proud to present ...   \n",
       "\n",
       "                                           Post link Post type  Impressions  \\\n",
       "0  https://www.linkedin.com/feed/update/urn:li:ac...   Organic        64796   \n",
       "1  https://www.linkedin.com/feed/update/urn:li:ac...   Organic        51769   \n",
       "2  https://www.linkedin.com/feed/update/urn:li:ac...   Organic         9675   \n",
       "3  https://www.linkedin.com/feed/update/urn:li:ac...   Organic         7954   \n",
       "4  https://www.linkedin.com/feed/update/urn:li:ac...   Organic        21303   \n",
       "\n",
       "   Video views  Clicks  Click through rate (CTR)  Likes  Comments  Shares  \\\n",
       "0            0    2428                  0.037471   1275        22      91   \n",
       "1        15607     914                  0.017655    737        85      35   \n",
       "2            0     113                  0.011680     36         0       1   \n",
       "3            0      63                  0.007921     35         1       2   \n",
       "4            0     199                  0.009341    104         0       3   \n",
       "\n",
       "   Follows  Engagement rate  \n",
       "0        0         0.058893  \n",
       "1        0         0.034210  \n",
       "2        0         0.015504  \n",
       "3        0         0.012698  \n",
       "4        0         0.014364  "
      ]
     },
     "execution_count": 147,
     "metadata": {},
     "output_type": "execute_result"
    }
   ],
   "source": [
    "posts_df.head()"
   ]
  },
  {
   "cell_type": "code",
   "execution_count": 149,
   "metadata": {},
   "outputs": [
    {
     "data": {
      "text/html": [
       "<div>\n",
       "<style scoped>\n",
       "    .dataframe tbody tr th:only-of-type {\n",
       "        vertical-align: middle;\n",
       "    }\n",
       "\n",
       "    .dataframe tbody tr th {\n",
       "        vertical-align: top;\n",
       "    }\n",
       "\n",
       "    .dataframe thead th {\n",
       "        text-align: right;\n",
       "    }\n",
       "</style>\n",
       "<table border=\"1\" class=\"dataframe\">\n",
       "  <thead>\n",
       "    <tr style=\"text-align: right;\">\n",
       "      <th></th>\n",
       "      <th>Location</th>\n",
       "      <th>Total views</th>\n",
       "    </tr>\n",
       "  </thead>\n",
       "  <tbody>\n",
       "    <tr>\n",
       "      <th>0</th>\n",
       "      <td>Greater Boston Area</td>\n",
       "      <td>1857</td>\n",
       "    </tr>\n",
       "    <tr>\n",
       "      <th>1</th>\n",
       "      <td>Greater Chicago Area</td>\n",
       "      <td>11522</td>\n",
       "    </tr>\n",
       "    <tr>\n",
       "      <th>2</th>\n",
       "      <td>Albany, New York Area</td>\n",
       "      <td>7</td>\n",
       "    </tr>\n",
       "    <tr>\n",
       "      <th>3</th>\n",
       "      <td>Cincinnati, Ohio Area</td>\n",
       "      <td>1352</td>\n",
       "    </tr>\n",
       "    <tr>\n",
       "      <th>4</th>\n",
       "      <td>Cleveland/Akron, Ohio Area</td>\n",
       "      <td>516</td>\n",
       "    </tr>\n",
       "  </tbody>\n",
       "</table>\n",
       "</div>"
      ],
      "text/plain": [
       "                     Location  Total views\n",
       "0         Greater Boston Area         1857\n",
       "1        Greater Chicago Area        11522\n",
       "2       Albany, New York Area            7\n",
       "3       Cincinnati, Ohio Area         1352\n",
       "4  Cleveland/Akron, Ohio Area          516"
      ]
     },
     "execution_count": 149,
     "metadata": {},
     "output_type": "execute_result"
    }
   ],
   "source": [
    "visitor_location_df.head()"
   ]
  },
  {
   "cell_type": "markdown",
   "metadata": {},
   "source": [
    "### Visitor Demographic Insights"
   ]
  },
  {
   "cell_type": "code",
   "execution_count": 168,
   "metadata": {},
   "outputs": [],
   "source": [
    "#visitor_demographics_location_filepath,visitor_demographics_industry_filepath\n",
    "def make_visitor_demographics_location(file,visitor_location_df):\n",
    "    visitor_location_df.to_csv(file,header=True,index=False)\n",
    "    print(\"Copying done!\")\n"
   ]
  },
  {
   "cell_type": "code",
   "execution_count": 169,
   "metadata": {},
   "outputs": [
    {
     "name": "stdout",
     "output_type": "stream",
     "text": [
      "Copying done!\n"
     ]
    }
   ],
   "source": [
    "make_visitor_demographics_location(visitor_demographics_location_filepath,visitor_location_df)"
   ]
  },
  {
   "cell_type": "code",
   "execution_count": 170,
   "metadata": {},
   "outputs": [
    {
     "data": {
      "text/html": [
       "<div>\n",
       "<style scoped>\n",
       "    .dataframe tbody tr th:only-of-type {\n",
       "        vertical-align: middle;\n",
       "    }\n",
       "\n",
       "    .dataframe tbody tr th {\n",
       "        vertical-align: top;\n",
       "    }\n",
       "\n",
       "    .dataframe thead th {\n",
       "        text-align: right;\n",
       "    }\n",
       "</style>\n",
       "<table border=\"1\" class=\"dataframe\">\n",
       "  <thead>\n",
       "    <tr style=\"text-align: right;\">\n",
       "      <th></th>\n",
       "      <th>Location</th>\n",
       "      <th>Total views</th>\n",
       "    </tr>\n",
       "  </thead>\n",
       "  <tbody>\n",
       "    <tr>\n",
       "      <th>0</th>\n",
       "      <td>Greater Boston Area</td>\n",
       "      <td>1857</td>\n",
       "    </tr>\n",
       "    <tr>\n",
       "      <th>1</th>\n",
       "      <td>Greater Chicago Area</td>\n",
       "      <td>11522</td>\n",
       "    </tr>\n",
       "    <tr>\n",
       "      <th>2</th>\n",
       "      <td>Albany, New York Area</td>\n",
       "      <td>7</td>\n",
       "    </tr>\n",
       "    <tr>\n",
       "      <th>3</th>\n",
       "      <td>Cincinnati, Ohio Area</td>\n",
       "      <td>1352</td>\n",
       "    </tr>\n",
       "    <tr>\n",
       "      <th>4</th>\n",
       "      <td>Cleveland/Akron, Ohio Area</td>\n",
       "      <td>516</td>\n",
       "    </tr>\n",
       "  </tbody>\n",
       "</table>\n",
       "</div>"
      ],
      "text/plain": [
       "                     Location  Total views\n",
       "0         Greater Boston Area         1857\n",
       "1        Greater Chicago Area        11522\n",
       "2       Albany, New York Area            7\n",
       "3       Cincinnati, Ohio Area         1352\n",
       "4  Cleveland/Akron, Ohio Area          516"
      ]
     },
     "execution_count": 170,
     "metadata": {},
     "output_type": "execute_result"
    }
   ],
   "source": [
    "vl = pd.read_csv(visitor_demographics_location_filepath)\n",
    "vl.head()"
   ]
  },
  {
   "cell_type": "code",
   "execution_count": 171,
   "metadata": {},
   "outputs": [],
   "source": [
    "#visitor_demographics_location_filepath,visitor_demographics_industry_filepath\n",
    "def make_visitor_demographics_industry(file,visitor_industry_df):\n",
    "    visitor_industry_df.to_csv(file,header=True,index=False)\n",
    "    print(\"Copying done!\")\n"
   ]
  },
  {
   "cell_type": "code",
   "execution_count": 172,
   "metadata": {},
   "outputs": [
    {
     "name": "stdout",
     "output_type": "stream",
     "text": [
      "Copying done!\n"
     ]
    }
   ],
   "source": [
    "make_visitor_demographics_industry(visitor_demographics_industry_filepath,visitor_industry_df)"
   ]
  },
  {
   "cell_type": "code",
   "execution_count": 173,
   "metadata": {},
   "outputs": [
    {
     "data": {
      "text/html": [
       "<div>\n",
       "<style scoped>\n",
       "    .dataframe tbody tr th:only-of-type {\n",
       "        vertical-align: middle;\n",
       "    }\n",
       "\n",
       "    .dataframe tbody tr th {\n",
       "        vertical-align: top;\n",
       "    }\n",
       "\n",
       "    .dataframe thead th {\n",
       "        text-align: right;\n",
       "    }\n",
       "</style>\n",
       "<table border=\"1\" class=\"dataframe\">\n",
       "  <thead>\n",
       "    <tr style=\"text-align: right;\">\n",
       "      <th></th>\n",
       "      <th>Industry</th>\n",
       "      <th>Total views</th>\n",
       "    </tr>\n",
       "  </thead>\n",
       "  <tbody>\n",
       "    <tr>\n",
       "      <th>0</th>\n",
       "      <td>Defense &amp; Space</td>\n",
       "      <td>431</td>\n",
       "    </tr>\n",
       "    <tr>\n",
       "      <th>1</th>\n",
       "      <td>Computer Hardware</td>\n",
       "      <td>2</td>\n",
       "    </tr>\n",
       "    <tr>\n",
       "      <th>2</th>\n",
       "      <td>Computer Software</td>\n",
       "      <td>3815</td>\n",
       "    </tr>\n",
       "    <tr>\n",
       "      <th>3</th>\n",
       "      <td>Computer Networking</td>\n",
       "      <td>115</td>\n",
       "    </tr>\n",
       "    <tr>\n",
       "      <th>4</th>\n",
       "      <td>Internet</td>\n",
       "      <td>3469</td>\n",
       "    </tr>\n",
       "  </tbody>\n",
       "</table>\n",
       "</div>"
      ],
      "text/plain": [
       "              Industry  Total views\n",
       "0      Defense & Space          431\n",
       "1    Computer Hardware            2\n",
       "2    Computer Software         3815\n",
       "3  Computer Networking          115\n",
       "4             Internet         3469"
      ]
     },
     "execution_count": 173,
     "metadata": {},
     "output_type": "execute_result"
    }
   ],
   "source": [
    "vl = pd.read_csv(visitor_demographics_industry_filepath)\n",
    "vl.head()"
   ]
  },
  {
   "cell_type": "markdown",
   "metadata": {},
   "source": [
    "### Follower Demographics Insights"
   ]
  },
  {
   "cell_type": "code",
   "execution_count": 174,
   "metadata": {},
   "outputs": [],
   "source": [
    "#follower_demographics_location_filepath,follower_demographics_industry_filepath,follower_demographics_seniority_filepath\n",
    "def make_csv_from_df(file,df):\n",
    "    df.to_csv(file,header=True,index=False)\n",
    "    print(\"Copying done!\")\n",
    "    \n"
   ]
  },
  {
   "cell_type": "code",
   "execution_count": 175,
   "metadata": {},
   "outputs": [
    {
     "name": "stdout",
     "output_type": "stream",
     "text": [
      "Copying done!\n",
      "Copying done!\n",
      "Copying done!\n"
     ]
    }
   ],
   "source": [
    "make_csv_from_df(follower_demographics_location_filepath,followers_location_df)\n",
    "make_csv_from_df(follower_demographics_industry_filepath,followers_industry_df)\n",
    "make_csv_from_df(follower_demographics_seniority_filepath,followers_seniority_df)\n"
   ]
  },
  {
   "cell_type": "code",
   "execution_count": 176,
   "metadata": {},
   "outputs": [
    {
     "data": {
      "text/html": [
       "<div>\n",
       "<style scoped>\n",
       "    .dataframe tbody tr th:only-of-type {\n",
       "        vertical-align: middle;\n",
       "    }\n",
       "\n",
       "    .dataframe tbody tr th {\n",
       "        vertical-align: top;\n",
       "    }\n",
       "\n",
       "    .dataframe thead th {\n",
       "        text-align: right;\n",
       "    }\n",
       "</style>\n",
       "<table border=\"1\" class=\"dataframe\">\n",
       "  <thead>\n",
       "    <tr style=\"text-align: right;\">\n",
       "      <th></th>\n",
       "      <th>Location</th>\n",
       "      <th>Total followers</th>\n",
       "    </tr>\n",
       "  </thead>\n",
       "  <tbody>\n",
       "    <tr>\n",
       "      <th>0</th>\n",
       "      <td>Indianapolis, Indiana Area</td>\n",
       "      <td>56075</td>\n",
       "    </tr>\n",
       "    <tr>\n",
       "      <th>1</th>\n",
       "      <td>Bloomington, Indiana Area</td>\n",
       "      <td>39203</td>\n",
       "    </tr>\n",
       "    <tr>\n",
       "      <th>2</th>\n",
       "      <td>Greater Chicago Area</td>\n",
       "      <td>36751</td>\n",
       "    </tr>\n",
       "    <tr>\n",
       "      <th>3</th>\n",
       "      <td>Greater New York City Area</td>\n",
       "      <td>13246</td>\n",
       "    </tr>\n",
       "    <tr>\n",
       "      <th>4</th>\n",
       "      <td>Washington D.C. Metro Area</td>\n",
       "      <td>6732</td>\n",
       "    </tr>\n",
       "  </tbody>\n",
       "</table>\n",
       "</div>"
      ],
      "text/plain": [
       "                     Location  Total followers\n",
       "0  Indianapolis, Indiana Area            56075\n",
       "1   Bloomington, Indiana Area            39203\n",
       "2        Greater Chicago Area            36751\n",
       "3  Greater New York City Area            13246\n",
       "4  Washington D.C. Metro Area             6732"
      ]
     },
     "execution_count": 176,
     "metadata": {},
     "output_type": "execute_result"
    }
   ],
   "source": [
    "d = pd.read_csv(follower_demographics_location_filepath)\n",
    "d.head()"
   ]
  },
  {
   "cell_type": "code",
   "execution_count": 177,
   "metadata": {},
   "outputs": [
    {
     "data": {
      "text/html": [
       "<div>\n",
       "<style scoped>\n",
       "    .dataframe tbody tr th:only-of-type {\n",
       "        vertical-align: middle;\n",
       "    }\n",
       "\n",
       "    .dataframe tbody tr th {\n",
       "        vertical-align: top;\n",
       "    }\n",
       "\n",
       "    .dataframe thead th {\n",
       "        text-align: right;\n",
       "    }\n",
       "</style>\n",
       "<table border=\"1\" class=\"dataframe\">\n",
       "  <thead>\n",
       "    <tr style=\"text-align: right;\">\n",
       "      <th></th>\n",
       "      <th>Industry</th>\n",
       "      <th>Total followers</th>\n",
       "    </tr>\n",
       "  </thead>\n",
       "  <tbody>\n",
       "    <tr>\n",
       "      <th>0</th>\n",
       "      <td>Higher Education</td>\n",
       "      <td>34653</td>\n",
       "    </tr>\n",
       "    <tr>\n",
       "      <th>1</th>\n",
       "      <td>Hospital &amp; Health Care</td>\n",
       "      <td>16691</td>\n",
       "    </tr>\n",
       "    <tr>\n",
       "      <th>2</th>\n",
       "      <td>Financial Services</td>\n",
       "      <td>13711</td>\n",
       "    </tr>\n",
       "    <tr>\n",
       "      <th>3</th>\n",
       "      <td>Information Technology and Services</td>\n",
       "      <td>12284</td>\n",
       "    </tr>\n",
       "    <tr>\n",
       "      <th>4</th>\n",
       "      <td>Education Management</td>\n",
       "      <td>9948</td>\n",
       "    </tr>\n",
       "  </tbody>\n",
       "</table>\n",
       "</div>"
      ],
      "text/plain": [
       "                              Industry  Total followers\n",
       "0                     Higher Education            34653\n",
       "1               Hospital & Health Care            16691\n",
       "2                   Financial Services            13711\n",
       "3  Information Technology and Services            12284\n",
       "4                 Education Management             9948"
      ]
     },
     "execution_count": 177,
     "metadata": {},
     "output_type": "execute_result"
    }
   ],
   "source": [
    "d = pd.read_csv(follower_demographics_industry_filepath)\n",
    "d.head()"
   ]
  },
  {
   "cell_type": "code",
   "execution_count": 178,
   "metadata": {},
   "outputs": [
    {
     "data": {
      "text/html": [
       "<div>\n",
       "<style scoped>\n",
       "    .dataframe tbody tr th:only-of-type {\n",
       "        vertical-align: middle;\n",
       "    }\n",
       "\n",
       "    .dataframe tbody tr th {\n",
       "        vertical-align: top;\n",
       "    }\n",
       "\n",
       "    .dataframe thead th {\n",
       "        text-align: right;\n",
       "    }\n",
       "</style>\n",
       "<table border=\"1\" class=\"dataframe\">\n",
       "  <thead>\n",
       "    <tr style=\"text-align: right;\">\n",
       "      <th></th>\n",
       "      <th>Seniority</th>\n",
       "      <th>Total followers</th>\n",
       "    </tr>\n",
       "  </thead>\n",
       "  <tbody>\n",
       "    <tr>\n",
       "      <th>0</th>\n",
       "      <td>Senior</td>\n",
       "      <td>87849</td>\n",
       "    </tr>\n",
       "    <tr>\n",
       "      <th>1</th>\n",
       "      <td>Entry</td>\n",
       "      <td>83284</td>\n",
       "    </tr>\n",
       "    <tr>\n",
       "      <th>2</th>\n",
       "      <td>Director</td>\n",
       "      <td>26631</td>\n",
       "    </tr>\n",
       "    <tr>\n",
       "      <th>3</th>\n",
       "      <td>Manager</td>\n",
       "      <td>18802</td>\n",
       "    </tr>\n",
       "    <tr>\n",
       "      <th>4</th>\n",
       "      <td>VP</td>\n",
       "      <td>13359</td>\n",
       "    </tr>\n",
       "  </tbody>\n",
       "</table>\n",
       "</div>"
      ],
      "text/plain": [
       "  Seniority  Total followers\n",
       "0    Senior            87849\n",
       "1     Entry            83284\n",
       "2  Director            26631\n",
       "3   Manager            18802\n",
       "4        VP            13359"
      ]
     },
     "execution_count": 178,
     "metadata": {},
     "output_type": "execute_result"
    }
   ],
   "source": [
    "d = pd.read_csv(follower_demographics_seniority_filepath)\n",
    "d.head()"
   ]
  },
  {
   "cell_type": "code",
   "execution_count": null,
   "metadata": {},
   "outputs": [],
   "source": []
  },
  {
   "cell_type": "code",
   "execution_count": null,
   "metadata": {},
   "outputs": [],
   "source": []
  }
 ],
 "metadata": {
  "kernelspec": {
   "display_name": "Python 3",
   "language": "python",
   "name": "python3"
  },
  "language_info": {
   "codemirror_mode": {
    "name": "ipython",
    "version": 3
   },
   "file_extension": ".py",
   "mimetype": "text/x-python",
   "name": "python",
   "nbconvert_exporter": "python",
   "pygments_lexer": "ipython3",
   "version": "3.7.3"
  }
 },
 "nbformat": 4,
 "nbformat_minor": 2
}
