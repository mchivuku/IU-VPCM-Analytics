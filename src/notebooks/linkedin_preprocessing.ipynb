{
 "cells": [
  {
   "cell_type": "markdown",
   "metadata": {},
   "source": [
    "# Pre-processing LinkedIn Files\n",
    "\n",
    "Following are the list of files gathered by linkedIn:\n",
    "\n",
    "1. Visitor stats\n",
    "2. Updates\n",
    "3. Followers\n",
    "\n",
    "\n",
    "Following files will be combined to draw - Engagement insights\n",
    "\n",
    "**Engagement Insights:**\n",
    "Draw insight on:\n",
    "<ul>\n",
    "    <li>total page views to date,</li>\n",
    "    <li> total unique visitors to </li>\n",
    "    <li> average engagement rate </li>\n",
    "    <li> linked In posts </li>\n",
    "</ul>\n",
    "\n",
    "\n",
    "**Visitor Insights:**\n",
    "Draw insight on visitor demographics:\n",
    "<ul>\n",
    "    <li> Location of visitors </li>\n",
    "    <li> Visitor by industry </li>\n",
    " </ul>\n",
    " \n",
    "**Follower Insights:**\n",
    "Draw insight on follower demographics:\n",
    "<ul>\n",
    "    <li> Location of followers </li>\n",
    "    <li> Follower Industry </li>\n",
    " </ul>\n",
    " "
   ]
  },
  {
   "cell_type": "markdown",
   "metadata": {},
   "source": [
    "## Import Libraries"
   ]
  },
  {
   "cell_type": "code",
   "execution_count": 1,
   "metadata": {},
   "outputs": [
    {
     "data": {
      "text/html": [
       "        <script type=\"text/javascript\">\n",
       "        window.PlotlyConfig = {MathJaxConfig: 'local'};\n",
       "        if (window.MathJax) {MathJax.Hub.Config({SVG: {font: \"STIX-Web\"}});}\n",
       "        if (typeof require !== 'undefined') {\n",
       "        require.undef(\"plotly\");\n",
       "        requirejs.config({\n",
       "            paths: {\n",
       "                'plotly': ['https://cdn.plot.ly/plotly-latest.min']\n",
       "            }\n",
       "        });\n",
       "        require(['plotly'], function(Plotly) {\n",
       "            window._Plotly = Plotly;\n",
       "        });\n",
       "        }\n",
       "        </script>\n",
       "        "
      ]
     },
     "metadata": {},
     "output_type": "display_data"
    }
   ],
   "source": [
    "import os\n",
    "import pandas as pd\n",
    "import numpy as np\n",
    "from datetime import date, timedelta, datetime\n",
    "import csv\n",
    "\n",
    "\n",
    "### Data Visualization\n",
    "\n",
    "import matplotlib.pyplot as plt\n",
    "import seaborn as sns\n",
    "import plotly \n",
    "\n",
    "# Replace with your information\n",
    "plotly.tools.set_credentials_file(username='mchivuku', api_key='ONCxWI3IjbPiHtld9PFm')\n",
    "# plotly standard imports\n",
    "import plotly.graph_objs as go\n",
    "import plotly.plotly as py\n",
    "\n",
    "# Cufflinks wrapper on plotly\n",
    "import cufflinks\n",
    "\n",
    "\n",
    "# Options for pandas\n",
    "pd.options.display.max_columns = 30\n",
    "\n",
    "# Display all cell outputs\n",
    "from IPython.core.interactiveshell import InteractiveShell\n",
    "InteractiveShell.ast_node_interactivity = 'all'\n",
    "\n",
    "from plotly.offline import iplot\n",
    "cufflinks.go_offline()\n",
    "\n",
    "# Set global theme\n",
    "cufflinks.set_config_file(world_readable=True, theme='pearl')\n",
    "\n",
    "%matplotlib inline\n",
    "plt.style.use(\"seaborn\")\n",
    "\n"
   ]
  },
  {
   "cell_type": "markdown",
   "metadata": {},
   "source": [
    "## Settings"
   ]
  },
  {
   "cell_type": "code",
   "execution_count": 2,
   "metadata": {},
   "outputs": [],
   "source": [
    "raw_data_dir = os.path.join(\"../../\",\"data\",\"raw_data\",\"iupui\",\"linkedIn\")\n",
    "processed_data_dir = os.path.join(\"../../\",\"data\",\"processed_data\",\"iupui\",\"linkedIn\")\n",
    "\n",
    "followers_file =  \"indiana-university_purdue-university-indianapolis_followers.xls\"\n",
    "engagements_file = \"indiana-university_purdue-university-indianapolis_updates.xls\"\n",
    "visitor_file = \"indiana-university_purdue-university-indianapolis_visitors.xls\"\n",
    "\n",
    "start_date = date(2018, 6, 10)  # start date\n",
    "end_date = date(2019, 6, 10)    # end date\n",
    "\n",
    "\n",
    "## Read from\n",
    "visitors_file_path = os.path.join(raw_data_dir,visitor_file )\n",
    "followers_file_path = os.path.join(raw_data_dir,followers_file )\n",
    "engagements_file_path = os.path.join(raw_data_dir, engagements_file)\n"
   ]
  },
  {
   "cell_type": "markdown",
   "metadata": {},
   "source": [
    "## Exploratory Data Analysis (EDA)"
   ]
  },
  {
   "cell_type": "code",
   "execution_count": 3,
   "metadata": {},
   "outputs": [],
   "source": [
    "visitors = pd.ExcelFile(visitors_file_path)\n",
    "engagements = pd.ExcelFile(engagements_file_path)\n",
    "followers = pd.ExcelFile(followers_file_path)\n"
   ]
  },
  {
   "cell_type": "markdown",
   "metadata": {},
   "source": [
    "### Visitors"
   ]
  },
  {
   "cell_type": "code",
   "execution_count": 4,
   "metadata": {},
   "outputs": [
    {
     "name": "stdout",
     "output_type": "stream",
     "text": [
      "['Visitor metrics', 'Location', 'Job function', 'Seniority', 'Industry', 'Company size']\n"
     ]
    }
   ],
   "source": [
    "print(visitors.sheet_names)"
   ]
  },
  {
   "cell_type": "code",
   "execution_count": 5,
   "metadata": {},
   "outputs": [],
   "source": [
    "visitor_metrics_df = pd.read_excel(visitors_file_path, sheet_name='Visitor metrics')\n",
    "visitor_location_df = pd.read_excel(visitors_file_path,sheet_name = \"Location\")\n",
    "visitor_job_function_df = pd.read_excel(visitors_file_path,sheet_name = \"Job function\")\n",
    "visitor_industry_df = pd.read_excel(visitors_file_path,sheet_name= \"Industry\")\n",
    "visitor_company_size_df = pd.read_excel(visitors_file_path, sheet_name = \"Company size\")\n",
    "visitor_seniority_df = pd.read_excel(visitors_file_path,sheet_name = \"Seniority\")\n",
    "\n",
    "\n",
    "## Setting Date as index\n",
    "visitor_metrics_df[\"Date\"]= pd.to_datetime(visitor_metrics_df[\"Date\"]) \n"
   ]
  },
  {
   "cell_type": "code",
   "execution_count": 6,
   "metadata": {},
   "outputs": [
    {
     "name": "stdout",
     "output_type": "stream",
     "text": [
      "Min date: 2018-06-10 00:00:00  Max date: 2019-06-10 00:00:00\n",
      "Number of records, in visitor metrics: (366, 25)\n",
      "Number of records, in visitor location: (173, 2)\n",
      "Number of records, in visitor job function: (26, 2)\n",
      "Number of records, in visitor industry: (120, 2)\n",
      "Number of records, in visitor company size: (9, 2)\n",
      "Number of records, in visitor seniority: (10, 2)\n"
     ]
    }
   ],
   "source": [
    "print(\"Min date:\", visitor_metrics_df['Date'].min(), \" Max date:\", visitor_metrics_df[\"Date\"].max())\n",
    "print(f\"Number of records, in visitor metrics: {visitor_metrics_df.shape}\")\n",
    "print(f\"Number of records, in visitor location: {visitor_location_df.shape}\")\n",
    "print(f\"Number of records, in visitor job function: {visitor_job_function_df.shape}\")\n",
    "print(f\"Number of records, in visitor industry: {visitor_industry_df.shape}\")\n",
    "print(f\"Number of records, in visitor company size: {visitor_company_size_df.shape}\")\n",
    "print(f\"Number of records, in visitor seniority: {visitor_seniority_df.shape}\")\n",
    "\n",
    "\n"
   ]
  },
  {
   "cell_type": "code",
   "execution_count": 7,
   "metadata": {
    "scrolled": true
   },
   "outputs": [
    {
     "data": {
      "application/vnd.plotly.v1+json": {
       "config": {
        "linkText": "Export to plot.ly",
        "plotlyServerURL": "https://plot.ly",
        "showLink": true
       },
       "data": [
        {
         "line": {
          "color": "rgba(255, 153, 51, 1.0)",
          "dash": "solid",
          "shape": "linear",
          "width": 1.3
         },
         "mode": "lines",
         "name": "Total page views (desktop)",
         "text": "",
         "type": "scatter",
         "uid": "b680e670-a737-4fc8-b3bc-3c70dde4200b",
         "x": [
          "2018-06-30",
          "2018-07-31",
          "2018-08-31",
          "2018-09-30",
          "2018-10-31",
          "2018-11-30",
          "2018-12-31",
          "2019-01-31",
          "2019-02-28",
          "2019-03-31",
          "2019-04-30",
          "2019-05-31",
          "2019-06-30"
         ],
         "y": [
          29.761904761904763,
          27.967741935483872,
          35.03225806451613,
          38.53333333333333,
          35.58064516129032,
          40.56666666666667,
          32.58064516129032,
          56.645161290322584,
          79.07142857142857,
          65.09677419354838,
          67.33333333333333,
          57.29032258064516,
          57.4
         ]
        },
        {
         "line": {
          "color": "rgba(55, 128, 191, 1.0)",
          "dash": "solid",
          "shape": "linear",
          "width": 1.3
         },
         "mode": "lines",
         "name": "Total page views (mobile)",
         "text": "",
         "type": "scatter",
         "uid": "c8c449d6-f207-4fad-8ab1-935fce67b733",
         "x": [
          "2018-06-30",
          "2018-07-31",
          "2018-08-31",
          "2018-09-30",
          "2018-10-31",
          "2018-11-30",
          "2018-12-31",
          "2019-01-31",
          "2019-02-28",
          "2019-03-31",
          "2019-04-30",
          "2019-05-31",
          "2019-06-30"
         ],
         "y": [
          45.19047619047619,
          33.96774193548387,
          48.74193548387097,
          57.63333333333333,
          54.70967741935484,
          47.93333333333333,
          43.03225806451613,
          52.806451612903224,
          53.25,
          48.806451612903224,
          50.06666666666667,
          53.61290322580645,
          51.7
         ]
        },
        {
         "line": {
          "color": "rgba(50, 171, 96, 1.0)",
          "dash": "solid",
          "shape": "linear",
          "width": 1.3
         },
         "mode": "lines",
         "name": "Total unique visitors (mobile)",
         "text": "",
         "type": "scatter",
         "uid": "d6954a79-25b4-497f-947c-5edc870a685a",
         "x": [
          "2018-06-30",
          "2018-07-31",
          "2018-08-31",
          "2018-09-30",
          "2018-10-31",
          "2018-11-30",
          "2018-12-31",
          "2019-01-31",
          "2019-02-28",
          "2019-03-31",
          "2019-04-30",
          "2019-05-31",
          "2019-06-30"
         ],
         "y": [
          18.238095238095237,
          17.967741935483872,
          23.580645161290324,
          26.533333333333335,
          24.225806451612904,
          19.233333333333334,
          18.677419354838708,
          24.032258064516128,
          26.642857142857142,
          26.258064516129032,
          28.133333333333333,
          28.93548387096774,
          29.4
         ]
        },
        {
         "line": {
          "color": "rgba(128, 0, 128, 1.0)",
          "dash": "solid",
          "shape": "linear",
          "width": 1.3
         },
         "mode": "lines",
         "name": "Total unique visitors (desktop)",
         "text": "",
         "type": "scatter",
         "uid": "cb2c4b28-207a-4bd6-bee6-6527bf284992",
         "x": [
          "2018-06-30",
          "2018-07-31",
          "2018-08-31",
          "2018-09-30",
          "2018-10-31",
          "2018-11-30",
          "2018-12-31",
          "2019-01-31",
          "2019-02-28",
          "2019-03-31",
          "2019-04-30",
          "2019-05-31",
          "2019-06-30"
         ],
         "y": [
          23.095238095238095,
          21.741935483870968,
          26.258064516129032,
          28.1,
          27.967741935483872,
          30,
          22.451612903225808,
          32.645161290322584,
          40.75,
          34.12903225806452,
          36.833333333333336,
          32.54838709677419,
          33.7
         ]
        }
       ],
       "layout": {
        "legend": {
         "bgcolor": "#F5F6F9",
         "font": {
          "color": "#4D5663"
         }
        },
        "paper_bgcolor": "#F5F6F9",
        "plot_bgcolor": "#F5F6F9",
        "title": {
         "font": {
          "color": "#4D5663"
         },
         "text": "Monthly Page Views"
        },
        "xaxis": {
         "gridcolor": "#E1E5ED",
         "showgrid": true,
         "tickfont": {
          "color": "#4D5663"
         },
         "title": {
          "font": {
           "color": "#4D5663"
          },
          "text": "Date"
         },
         "zerolinecolor": "#E1E5ED"
        },
        "yaxis": {
         "gridcolor": "#E1E5ED",
         "showgrid": true,
         "tickfont": {
          "color": "#4D5663"
         },
         "title": {
          "font": {
           "color": "#4D5663"
          },
          "text": "Average Views"
         },
         "zerolinecolor": "#E1E5ED"
        }
       }
      },
      "text/html": [
       "<div>\n",
       "        \n",
       "        \n",
       "            <div id=\"77d70941-68d1-4f0c-9402-09d204b11f6d\" class=\"plotly-graph-div\" style=\"height:525px; width:100%;\"></div>\n",
       "            <script type=\"text/javascript\">\n",
       "                require([\"plotly\"], function(Plotly) {\n",
       "                    window.PLOTLYENV=window.PLOTLYENV || {};\n",
       "                    window.PLOTLYENV.BASE_URL='https://plot.ly';\n",
       "                    \n",
       "                if (document.getElementById(\"77d70941-68d1-4f0c-9402-09d204b11f6d\")) {\n",
       "                    Plotly.newPlot(\n",
       "                        '77d70941-68d1-4f0c-9402-09d204b11f6d',\n",
       "                        [{\"line\": {\"color\": \"rgba(255, 153, 51, 1.0)\", \"dash\": \"solid\", \"shape\": \"linear\", \"width\": 1.3}, \"mode\": \"lines\", \"name\": \"Total page views (desktop)\", \"text\": \"\", \"type\": \"scatter\", \"uid\": \"b680e670-a737-4fc8-b3bc-3c70dde4200b\", \"x\": [\"2018-06-30\", \"2018-07-31\", \"2018-08-31\", \"2018-09-30\", \"2018-10-31\", \"2018-11-30\", \"2018-12-31\", \"2019-01-31\", \"2019-02-28\", \"2019-03-31\", \"2019-04-30\", \"2019-05-31\", \"2019-06-30\"], \"y\": [29.761904761904763, 27.967741935483872, 35.03225806451613, 38.53333333333333, 35.58064516129032, 40.56666666666667, 32.58064516129032, 56.645161290322584, 79.07142857142857, 65.09677419354838, 67.33333333333333, 57.29032258064516, 57.4]}, {\"line\": {\"color\": \"rgba(55, 128, 191, 1.0)\", \"dash\": \"solid\", \"shape\": \"linear\", \"width\": 1.3}, \"mode\": \"lines\", \"name\": \"Total page views (mobile)\", \"text\": \"\", \"type\": \"scatter\", \"uid\": \"c8c449d6-f207-4fad-8ab1-935fce67b733\", \"x\": [\"2018-06-30\", \"2018-07-31\", \"2018-08-31\", \"2018-09-30\", \"2018-10-31\", \"2018-11-30\", \"2018-12-31\", \"2019-01-31\", \"2019-02-28\", \"2019-03-31\", \"2019-04-30\", \"2019-05-31\", \"2019-06-30\"], \"y\": [45.19047619047619, 33.96774193548387, 48.74193548387097, 57.63333333333333, 54.70967741935484, 47.93333333333333, 43.03225806451613, 52.806451612903224, 53.25, 48.806451612903224, 50.06666666666667, 53.61290322580645, 51.7]}, {\"line\": {\"color\": \"rgba(50, 171, 96, 1.0)\", \"dash\": \"solid\", \"shape\": \"linear\", \"width\": 1.3}, \"mode\": \"lines\", \"name\": \"Total unique visitors (mobile)\", \"text\": \"\", \"type\": \"scatter\", \"uid\": \"d6954a79-25b4-497f-947c-5edc870a685a\", \"x\": [\"2018-06-30\", \"2018-07-31\", \"2018-08-31\", \"2018-09-30\", \"2018-10-31\", \"2018-11-30\", \"2018-12-31\", \"2019-01-31\", \"2019-02-28\", \"2019-03-31\", \"2019-04-30\", \"2019-05-31\", \"2019-06-30\"], \"y\": [18.238095238095237, 17.967741935483872, 23.580645161290324, 26.533333333333335, 24.225806451612904, 19.233333333333334, 18.677419354838708, 24.032258064516128, 26.642857142857142, 26.258064516129032, 28.133333333333333, 28.93548387096774, 29.4]}, {\"line\": {\"color\": \"rgba(128, 0, 128, 1.0)\", \"dash\": \"solid\", \"shape\": \"linear\", \"width\": 1.3}, \"mode\": \"lines\", \"name\": \"Total unique visitors (desktop)\", \"text\": \"\", \"type\": \"scatter\", \"uid\": \"cb2c4b28-207a-4bd6-bee6-6527bf284992\", \"x\": [\"2018-06-30\", \"2018-07-31\", \"2018-08-31\", \"2018-09-30\", \"2018-10-31\", \"2018-11-30\", \"2018-12-31\", \"2019-01-31\", \"2019-02-28\", \"2019-03-31\", \"2019-04-30\", \"2019-05-31\", \"2019-06-30\"], \"y\": [23.095238095238095, 21.741935483870968, 26.258064516129032, 28.1, 27.967741935483872, 30.0, 22.451612903225808, 32.645161290322584, 40.75, 34.12903225806452, 36.833333333333336, 32.54838709677419, 33.7]}],\n",
       "                        {\"legend\": {\"bgcolor\": \"#F5F6F9\", \"font\": {\"color\": \"#4D5663\"}}, \"paper_bgcolor\": \"#F5F6F9\", \"plot_bgcolor\": \"#F5F6F9\", \"title\": {\"font\": {\"color\": \"#4D5663\"}, \"text\": \"Monthly Page Views\"}, \"xaxis\": {\"gridcolor\": \"#E1E5ED\", \"showgrid\": true, \"tickfont\": {\"color\": \"#4D5663\"}, \"title\": {\"font\": {\"color\": \"#4D5663\"}, \"text\": \"Date\"}, \"zerolinecolor\": \"#E1E5ED\"}, \"yaxis\": {\"gridcolor\": \"#E1E5ED\", \"showgrid\": true, \"tickfont\": {\"color\": \"#4D5663\"}, \"title\": {\"font\": {\"color\": \"#4D5663\"}, \"text\": \"Average Views\"}, \"zerolinecolor\": \"#E1E5ED\"}},\n",
       "                        {\"showLink\": true, \"linkText\": \"Export to plot.ly\", \"plotlyServerURL\": \"https://plot.ly\", \"responsive\": true}\n",
       "                    ).then(function(){\n",
       "                            \n",
       "var gd = document.getElementById('77d70941-68d1-4f0c-9402-09d204b11f6d');\n",
       "var x = new MutationObserver(function (mutations, observer) {{\n",
       "        var display = window.getComputedStyle(gd).display;\n",
       "        if (!display || display === 'none') {{\n",
       "            console.log([gd, 'removed!']);\n",
       "            Plotly.purge(gd);\n",
       "            observer.disconnect();\n",
       "        }}\n",
       "}});\n",
       "\n",
       "// Listen for the removal of the full notebook cells\n",
       "var notebookContainer = gd.closest('#notebook-container');\n",
       "if (notebookContainer) {{\n",
       "    x.observe(notebookContainer, {childList: true});\n",
       "}}\n",
       "\n",
       "// Listen for the clearing of the current output cell\n",
       "var outputEl = gd.closest('.output');\n",
       "if (outputEl) {{\n",
       "    x.observe(outputEl, {childList: true});\n",
       "}}\n",
       "\n",
       "                        })\n",
       "                };\n",
       "                });\n",
       "            </script>\n",
       "        </div>"
      ]
     },
     "metadata": {},
     "output_type": "display_data"
    }
   ],
   "source": [
    "page_views_df = visitor_metrics_df[['Total page views (desktop)', 'Total page views (mobile)','Total unique visitors (mobile)',\n",
    "                                    'Total unique visitors (desktop)',\n",
    "          'Date']].set_index('Date').resample('M').mean()\n",
    "\n",
    "page_views_df.iplot(\n",
    "    kind='line',\n",
    "    xTitle='Date',\n",
    "    yTitle='Average Views',\n",
    "    title='Monthly Page Views')"
   ]
  },
  {
   "cell_type": "code",
   "execution_count": 8,
   "metadata": {},
   "outputs": [
    {
     "data": {
      "application/vnd.plotly.v1+json": {
       "config": {
        "linkText": "Export to plot.ly",
        "plotlyServerURL": "https://plot.ly",
        "showLink": true
       },
       "data": [
        {
         "marker": {
          "color": "rgba(255, 153, 51, 1.0)",
          "line": {
           "width": 1.3
          },
          "opacity": 0.8,
          "size": [
           13
          ],
          "symbol": "circle"
         },
         "mode": "markers",
         "name": "Defense & Space",
         "textfont": {
          "color": "#4D5663"
         },
         "type": "scatter",
         "uid": "0344e69e-d0e8-4054-9861-93f48a2302d0",
         "x": [
          66
         ],
         "y": [
          "Defense & Space"
         ]
        },
        {
         "marker": {
          "color": "rgba(55, 128, 191, 1.0)",
          "line": {
           "width": 1.3
          },
          "opacity": 0.8,
          "size": [
           28
          ],
          "symbol": "circle"
         },
         "mode": "markers",
         "name": "Computer Software",
         "textfont": {
          "color": "#4D5663"
         },
         "type": "scatter",
         "uid": "8f56c469-e23b-453c-83d1-dcc99dfd79c1",
         "x": [
          564
         ],
         "y": [
          "Computer Software"
         ]
        },
        {
         "marker": {
          "color": "rgba(50, 171, 96, 1.0)",
          "line": {
           "width": 1.3
          },
          "opacity": 0.8,
          "size": [
           12
          ],
          "symbol": "circle"
         },
         "mode": "markers",
         "name": "Computer Networking",
         "textfont": {
          "color": "#4D5663"
         },
         "type": "scatter",
         "uid": "a9e5c054-01fc-4108-a07f-fd8c8f850551",
         "x": [
          24
         ],
         "y": [
          "Computer Networking"
         ]
        },
        {
         "marker": {
          "color": "rgba(128, 0, 128, 1.0)",
          "line": {
           "width": 1.3
          },
          "opacity": 0.8,
          "size": [
           28
          ],
          "symbol": "circle"
         },
         "mode": "markers",
         "name": "Internet",
         "textfont": {
          "color": "#4D5663"
         },
         "type": "scatter",
         "uid": "68d33313-3ca9-4e14-9c9c-0d5144509c12",
         "x": [
          553
         ],
         "y": [
          "Internet"
         ]
        },
        {
         "marker": {
          "color": "rgba(219, 64, 82, 1.0)",
          "line": {
           "width": 1.3
          },
          "opacity": 0.8,
          "size": [
           12
          ],
          "symbol": "circle"
         },
         "mode": "markers",
         "name": "Semiconductors",
         "textfont": {
          "color": "#4D5663"
         },
         "type": "scatter",
         "uid": "564d13ed-69ae-4995-8788-d00f23ef335f",
         "x": [
          16
         ],
         "y": [
          "Semiconductors"
         ]
        },
        {
         "marker": {
          "color": "rgba(0, 128, 128, 1.0)",
          "line": {
           "width": 1.3
          },
          "opacity": 0.8,
          "size": [
           15
          ],
          "symbol": "circle"
         },
         "mode": "markers",
         "name": "Telecommunications",
         "textfont": {
          "color": "#4D5663"
         },
         "type": "scatter",
         "uid": "fe91ce18-7bd2-4d45-917a-d045cfdea0f4",
         "x": [
          113
         ],
         "y": [
          "Telecommunications"
         ]
        },
        {
         "marker": {
          "color": "rgba(255, 255, 51, 1.0)",
          "line": {
           "width": 1.3
          },
          "opacity": 0.8,
          "size": [
           16
          ],
          "symbol": "circle"
         },
         "mode": "markers",
         "name": "Law Practice",
         "textfont": {
          "color": "#4D5663"
         },
         "type": "scatter",
         "uid": "5a9d6ec0-1bd6-4752-aa3e-8267c45c80d9",
         "x": [
          137
         ],
         "y": [
          "Law Practice"
         ]
        },
        {
         "marker": {
          "color": "rgba(128, 128, 0, 1.0)",
          "line": {
           "width": 1.3
          },
          "opacity": 0.8,
          "size": [
           14
          ],
          "symbol": "circle"
         },
         "mode": "markers",
         "name": "Legal Services",
         "textfont": {
          "color": "#4D5663"
         },
         "type": "scatter",
         "uid": "d7c64050-0025-4958-beba-499f2ea48c5e",
         "x": [
          93
         ],
         "y": [
          "Legal Services"
         ]
        },
        {
         "marker": {
          "color": "rgba(251, 128, 114, 1.0)",
          "line": {
           "width": 1.3
          },
          "opacity": 0.8,
          "size": [
           20
          ],
          "symbol": "circle"
         },
         "mode": "markers",
         "name": "Management Consulting",
         "textfont": {
          "color": "#4D5663"
         },
         "type": "scatter",
         "uid": "84e37911-dbaf-49c8-bcaa-8376116c5695",
         "x": [
          281
         ],
         "y": [
          "Management Consulting"
         ]
        },
        {
         "marker": {
          "color": "rgba(128, 177, 211, 1.0)",
          "line": {
           "width": 1.3
          },
          "opacity": 0.8,
          "size": [
           18
          ],
          "symbol": "circle"
         },
         "mode": "markers",
         "name": "Biotechnology",
         "textfont": {
          "color": "#4D5663"
         },
         "type": "scatter",
         "uid": "df7db781-f552-453d-8431-6afe841d0fc4",
         "x": [
          220
         ],
         "y": [
          "Biotechnology"
         ]
        },
        {
         "marker": {
          "color": "rgba(128, 177, 211, 0.9333333333333333)",
          "line": {
           "width": 1.3
          },
          "opacity": 0.8,
          "size": [
           15
          ],
          "symbol": "circle"
         },
         "mode": "markers",
         "name": "Medical Practice",
         "textfont": {
          "color": "#4D5663"
         },
         "type": "scatter",
         "uid": "91eb4e3c-2a04-49ad-8fb3-a91b1fc072ef",
         "x": [
          130
         ],
         "y": [
          "Medical Practice"
         ]
        },
        {
         "marker": {
          "color": "rgba(255, 153, 51, 0.9333333333333333)",
          "line": {
           "width": 1.3
          },
          "opacity": 0.8,
          "size": [
           55
          ],
          "symbol": "circle"
         },
         "mode": "markers",
         "name": "Hospital & Health Care",
         "textfont": {
          "color": "#4D5663"
         },
         "type": "scatter",
         "uid": "d80f8700-2c45-4dc7-95a6-d32e4a6a9805",
         "x": [
          1476
         ],
         "y": [
          "Hospital & Health Care"
         ]
        },
        {
         "marker": {
          "color": "rgba(55, 128, 191, 0.9333333333333333)",
          "line": {
           "width": 1.3
          },
          "opacity": 0.8,
          "size": [
           21
          ],
          "symbol": "circle"
         },
         "mode": "markers",
         "name": "Pharmaceuticals",
         "textfont": {
          "color": "#4D5663"
         },
         "type": "scatter",
         "uid": "cc1e124c-8793-4756-86cc-1a9b2f3fff82",
         "x": [
          309
         ],
         "y": [
          "Pharmaceuticals"
         ]
        },
        {
         "marker": {
          "color": "rgba(50, 171, 96, 0.9333333333333333)",
          "line": {
           "width": 1.3
          },
          "opacity": 0.8,
          "size": [
           12
          ],
          "symbol": "circle"
         },
         "mode": "markers",
         "name": "Veterinary",
         "textfont": {
          "color": "#4D5663"
         },
         "type": "scatter",
         "uid": "0742a56e-64f0-4045-aa2f-bdf5d75df947",
         "x": [
          3
         ],
         "y": [
          "Veterinary"
         ]
        },
        {
         "marker": {
          "color": "rgba(128, 0, 128, 0.9333333333333333)",
          "line": {
           "width": 1.3
          },
          "opacity": 0.8,
          "size": [
           16
          ],
          "symbol": "circle"
         },
         "mode": "markers",
         "name": "Medical Devices",
         "textfont": {
          "color": "#4D5663"
         },
         "type": "scatter",
         "uid": "007dac99-baa9-47db-a89c-92bca4dc53f7",
         "x": [
          158
         ],
         "y": [
          "Medical Devices"
         ]
        },
        {
         "marker": {
          "color": "rgba(219, 64, 82, 0.9333333333333333)",
          "line": {
           "width": 1.3
          },
          "opacity": 0.8,
          "size": [
           12
          ],
          "symbol": "circle"
         },
         "mode": "markers",
         "name": "Cosmetics",
         "textfont": {
          "color": "#4D5663"
         },
         "type": "scatter",
         "uid": "ded60b6d-0a1f-4780-96d3-e6e38c68b231",
         "x": [
          19
         ],
         "y": [
          "Cosmetics"
         ]
        },
        {
         "marker": {
          "color": "rgba(0, 128, 128, 0.9333333333333333)",
          "line": {
           "width": 1.3
          },
          "opacity": 0.8,
          "size": [
           14
          ],
          "symbol": "circle"
         },
         "mode": "markers",
         "name": "Apparel & Fashion",
         "textfont": {
          "color": "#4D5663"
         },
         "type": "scatter",
         "uid": "c5514f27-52eb-434f-aff4-3ec53d4c48c2",
         "x": [
          69
         ],
         "y": [
          "Apparel & Fashion"
         ]
        },
        {
         "marker": {
          "color": "rgba(255, 255, 51, 0.9333333333333333)",
          "line": {
           "width": 1.3
          },
          "opacity": 0.8,
          "size": [
           12
          ],
          "symbol": "circle"
         },
         "mode": "markers",
         "name": "Sporting Goods",
         "textfont": {
          "color": "#4D5663"
         },
         "type": "scatter",
         "uid": "f3bdab2d-8450-4f5d-a379-0dadfd4eb903",
         "x": [
          19
         ],
         "y": [
          "Sporting Goods"
         ]
        },
        {
         "marker": {
          "color": "rgba(128, 128, 0, 0.9333333333333333)",
          "line": {
           "width": 1.3
          },
          "opacity": 0.8,
          "size": [
           12
          ],
          "symbol": "circle"
         },
         "mode": "markers",
         "name": "Tobacco",
         "textfont": {
          "color": "#4D5663"
         },
         "type": "scatter",
         "uid": "55f427e2-68c6-4ac3-bc11-7ed233ca4e66",
         "x": [
          1
         ],
         "y": [
          "Tobacco"
         ]
        },
        {
         "marker": {
          "color": "rgba(251, 128, 114, 0.9333333333333333)",
          "line": {
           "width": 1.3
          },
          "opacity": 0.8,
          "size": [
           13
          ],
          "symbol": "circle"
         },
         "mode": "markers",
         "name": "Food Production",
         "textfont": {
          "color": "#4D5663"
         },
         "type": "scatter",
         "uid": "941fbc78-22c3-4cf7-ba4e-1ff726ec8cdb",
         "x": [
          40
         ],
         "y": [
          "Food Production"
         ]
        },
        {
         "marker": {
          "color": "rgba(251, 128, 114, 0.8666666666666667)",
          "line": {
           "width": 1.3
          },
          "opacity": 0.8,
          "size": [
           12
          ],
          "symbol": "circle"
         },
         "mode": "markers",
         "name": "Consumer Electronics",
         "textfont": {
          "color": "#4D5663"
         },
         "type": "scatter",
         "uid": "f56eb6ad-6d87-45b0-a1f3-f26bc6d6af16",
         "x": [
          20
         ],
         "y": [
          "Consumer Electronics"
         ]
        },
        {
         "marker": {
          "color": "rgba(128, 177, 211, 0.8666666666666667)",
          "line": {
           "width": 1.3
          },
          "opacity": 0.8,
          "size": [
           15
          ],
          "symbol": "circle"
         },
         "mode": "markers",
         "name": "Consumer Goods",
         "textfont": {
          "color": "#4D5663"
         },
         "type": "scatter",
         "uid": "cb9435d3-aa0c-4dda-8738-01c3b11ebe25",
         "x": [
          120
         ],
         "y": [
          "Consumer Goods"
         ]
        },
        {
         "marker": {
          "color": "rgba(255, 153, 51, 0.8666666666666667)",
          "line": {
           "width": 1.3
          },
          "opacity": 0.8,
          "size": [
           12
          ],
          "symbol": "circle"
         },
         "mode": "markers",
         "name": "Furniture",
         "textfont": {
          "color": "#4D5663"
         },
         "type": "scatter",
         "uid": "794e0682-4f1a-487e-9196-24a4ec0369ee",
         "x": [
          12
         ],
         "y": [
          "Furniture"
         ]
        },
        {
         "marker": {
          "color": "rgba(55, 128, 191, 0.8666666666666667)",
          "line": {
           "width": 1.3
          },
          "opacity": 0.8,
          "size": [
           29
          ],
          "symbol": "circle"
         },
         "mode": "markers",
         "name": "Retail",
         "textfont": {
          "color": "#4D5663"
         },
         "type": "scatter",
         "uid": "dc549821-a71a-4011-8ac6-bdbe601314bf",
         "x": [
          589
         ],
         "y": [
          "Retail"
         ]
        },
        {
         "marker": {
          "color": "rgba(50, 171, 96, 0.8666666666666667)",
          "line": {
           "width": 1.3
          },
          "opacity": 0.8,
          "size": [
           15
          ],
          "symbol": "circle"
         },
         "mode": "markers",
         "name": "Entertainment",
         "textfont": {
          "color": "#4D5663"
         },
         "type": "scatter",
         "uid": "d35e289a-39c2-4642-81c0-a6ce59feb344",
         "x": [
          106
         ],
         "y": [
          "Entertainment"
         ]
        },
        {
         "marker": {
          "color": "rgba(128, 0, 128, 0.8666666666666667)",
          "line": {
           "width": 1.3
          },
          "opacity": 0.8,
          "size": [
           13
          ],
          "symbol": "circle"
         },
         "mode": "markers",
         "name": "Leisure, Travel & Tourism",
         "textfont": {
          "color": "#4D5663"
         },
         "type": "scatter",
         "uid": "5dce8265-57ef-4225-b291-c56dbb732695",
         "x": [
          40
         ],
         "y": [
          "Leisure, Travel & Tourism"
         ]
        },
        {
         "marker": {
          "color": "rgba(219, 64, 82, 0.8666666666666667)",
          "line": {
           "width": 1.3
          },
          "opacity": 0.8,
          "size": [
           17
          ],
          "symbol": "circle"
         },
         "mode": "markers",
         "name": "Hospitality",
         "textfont": {
          "color": "#4D5663"
         },
         "type": "scatter",
         "uid": "7c8dc459-4d29-4766-a11b-a276a2aa67c7",
         "x": [
          200
         ],
         "y": [
          "Hospitality"
         ]
        },
        {
         "marker": {
          "color": "rgba(0, 128, 128, 0.8666666666666667)",
          "line": {
           "width": 1.3
          },
          "opacity": 0.8,
          "size": [
           18
          ],
          "symbol": "circle"
         },
         "mode": "markers",
         "name": "Restaurants",
         "textfont": {
          "color": "#4D5663"
         },
         "type": "scatter",
         "uid": "c9ac86e8-5e8a-4301-bf68-dcae32f6e726",
         "x": [
          215
         ],
         "y": [
          "Restaurants"
         ]
        },
        {
         "marker": {
          "color": "rgba(255, 255, 51, 0.8666666666666667)",
          "line": {
           "width": 1.3
          },
          "opacity": 0.8,
          "size": [
           18
          ],
          "symbol": "circle"
         },
         "mode": "markers",
         "name": "Sports",
         "textfont": {
          "color": "#4D5663"
         },
         "type": "scatter",
         "uid": "3f6a0058-a2af-436c-8688-e14cef0426c4",
         "x": [
          217
         ],
         "y": [
          "Sports"
         ]
        },
        {
         "marker": {
          "color": "rgba(128, 128, 0, 0.8666666666666667)",
          "line": {
           "width": 1.3
          },
          "opacity": 0.8,
          "size": [
           17
          ],
          "symbol": "circle"
         },
         "mode": "markers",
         "name": "Food & Beverages",
         "textfont": {
          "color": "#4D5663"
         },
         "type": "scatter",
         "uid": "7507d563-a4f7-4649-8118-5c321fd96647",
         "x": [
          181
         ],
         "y": [
          "Food & Beverages"
         ]
        },
        {
         "marker": {
          "color": "rgba(128, 128, 0, 0.8)",
          "line": {
           "width": 1.3
          },
          "opacity": 0.8,
          "size": [
           14
          ],
          "symbol": "circle"
         },
         "mode": "markers",
         "name": "Broadcast Media",
         "textfont": {
          "color": "#4D5663"
         },
         "type": "scatter",
         "uid": "78d76a2f-8bd1-475f-b5ef-7ecee44f90ae",
         "x": [
          93
         ],
         "y": [
          "Broadcast Media"
         ]
        },
        {
         "marker": {
          "color": "rgba(251, 128, 114, 0.8)",
          "line": {
           "width": 1.3
          },
          "opacity": 0.8,
          "size": [
           13
          ],
          "symbol": "circle"
         },
         "mode": "markers",
         "name": "Museums and Institutions",
         "textfont": {
          "color": "#4D5663"
         },
         "type": "scatter",
         "uid": "001dbe55-c6cc-4869-8302-d724f2c0abfa",
         "x": [
          58
         ],
         "y": [
          "Museums and Institutions"
         ]
        },
        {
         "marker": {
          "color": "rgba(128, 177, 211, 0.8)",
          "line": {
           "width": 1.3
          },
          "opacity": 0.8,
          "size": [
           12
          ],
          "symbol": "circle"
         },
         "mode": "markers",
         "name": "Fine Art",
         "textfont": {
          "color": "#4D5663"
         },
         "type": "scatter",
         "uid": "14b7ac05-e6ab-41f8-9dd7-01c92df1ba7d",
         "x": [
          2
         ],
         "y": [
          "Fine Art"
         ]
        },
        {
         "marker": {
          "color": "rgba(255, 153, 51, 0.8)",
          "line": {
           "width": 1.3
          },
          "opacity": 0.8,
          "size": [
           12
          ],
          "symbol": "circle"
         },
         "mode": "markers",
         "name": "Performing Arts",
         "textfont": {
          "color": "#4D5663"
         },
         "type": "scatter",
         "uid": "60e8a3c0-178c-4040-abed-fbdd2e47a464",
         "x": [
          20
         ],
         "y": [
          "Performing Arts"
         ]
        },
        {
         "marker": {
          "color": "rgba(55, 128, 191, 0.8)",
          "line": {
           "width": 1.3
          },
          "opacity": 0.8,
          "size": [
           12
          ],
          "symbol": "circle"
         },
         "mode": "markers",
         "name": "Recreational Facilities and Services",
         "textfont": {
          "color": "#4D5663"
         },
         "type": "scatter",
         "uid": "bfe826fd-3e0e-47dc-beb0-6010f5c9ec87",
         "x": [
          24
         ],
         "y": [
          "Recreational Facilities and Services"
         ]
        },
        {
         "marker": {
          "color": "rgba(50, 171, 96, 0.8)",
          "line": {
           "width": 1.3
          },
          "opacity": 0.8,
          "size": [
           16
          ],
          "symbol": "circle"
         },
         "mode": "markers",
         "name": "Banking",
         "textfont": {
          "color": "#4D5663"
         },
         "type": "scatter",
         "uid": "fd5dfbc9-cdf3-434e-ab12-b0786a043446",
         "x": [
          151
         ],
         "y": [
          "Banking"
         ]
        },
        {
         "marker": {
          "color": "rgba(128, 0, 128, 0.8)",
          "line": {
           "width": 1.3
          },
          "opacity": 0.8,
          "size": [
           22
          ],
          "symbol": "circle"
         },
         "mode": "markers",
         "name": "Insurance",
         "textfont": {
          "color": "#4D5663"
         },
         "type": "scatter",
         "uid": "3b3b9857-893c-4257-8382-d674a7b0dc96",
         "x": [
          352
         ],
         "y": [
          "Insurance"
         ]
        },
        {
         "marker": {
          "color": "rgba(219, 64, 82, 0.8)",
          "line": {
           "width": 1.3
          },
          "opacity": 0.8,
          "size": [
           26
          ],
          "symbol": "circle"
         },
         "mode": "markers",
         "name": "Financial Services",
         "textfont": {
          "color": "#4D5663"
         },
         "type": "scatter",
         "uid": "85d0867b-95e4-4fb1-9403-e3571171a023",
         "x": [
          499
         ],
         "y": [
          "Financial Services"
         ]
        },
        {
         "marker": {
          "color": "rgba(0, 128, 128, 0.8)",
          "line": {
           "width": 1.3
          },
          "opacity": 0.8,
          "size": [
           18
          ],
          "symbol": "circle"
         },
         "mode": "markers",
         "name": "Real Estate",
         "textfont": {
          "color": "#4D5663"
         },
         "type": "scatter",
         "uid": "9582e583-4f5a-4a40-9b92-c76fa3a2495b",
         "x": [
          218
         ],
         "y": [
          "Real Estate"
         ]
        },
        {
         "marker": {
          "color": "rgba(255, 255, 51, 0.8)",
          "line": {
           "width": 1.3
          },
          "opacity": 0.8,
          "size": [
           13
          ],
          "symbol": "circle"
         },
         "mode": "markers",
         "name": "Investment Management",
         "textfont": {
          "color": "#4D5663"
         },
         "type": "scatter",
         "uid": "6a1381f3-71ee-4ac1-9df7-1b58b3b4dd6b",
         "x": [
          40
         ],
         "y": [
          "Investment Management"
         ]
        },
        {
         "marker": {
          "color": "rgba(255, 255, 51, 0.7333333333333334)",
          "line": {
           "width": 1.3
          },
          "opacity": 0.8,
          "size": [
           18
          ],
          "symbol": "circle"
         },
         "mode": "markers",
         "name": "Accounting",
         "textfont": {
          "color": "#4D5663"
         },
         "type": "scatter",
         "uid": "492b7226-e573-4f2c-acc1-5daa955c8c6c",
         "x": [
          206
         ],
         "y": [
          "Accounting"
         ]
        },
        {
         "marker": {
          "color": "rgba(128, 128, 0, 0.7333333333333334)",
          "line": {
           "width": 1.3
          },
          "opacity": 0.8,
          "size": [
           19
          ],
          "symbol": "circle"
         },
         "mode": "markers",
         "name": "Construction",
         "textfont": {
          "color": "#4D5663"
         },
         "type": "scatter",
         "uid": "7acc4b54-e440-4e6e-9d8d-a09a1f54116f",
         "x": [
          253
         ],
         "y": [
          "Construction"
         ]
        },
        {
         "marker": {
          "color": "rgba(251, 128, 114, 0.7333333333333334)",
          "line": {
           "width": 1.3
          },
          "opacity": 0.8,
          "size": [
           13
          ],
          "symbol": "circle"
         },
         "mode": "markers",
         "name": "Building Materials",
         "textfont": {
          "color": "#4D5663"
         },
         "type": "scatter",
         "uid": "f180af80-cd86-46a0-a000-c82220f8fc09",
         "x": [
          54
         ],
         "y": [
          "Building Materials"
         ]
        },
        {
         "marker": {
          "color": "rgba(128, 177, 211, 0.7333333333333334)",
          "line": {
           "width": 1.3
          },
          "opacity": 0.8,
          "size": [
           13
          ],
          "symbol": "circle"
         },
         "mode": "markers",
         "name": "Architecture & Planning",
         "textfont": {
          "color": "#4D5663"
         },
         "type": "scatter",
         "uid": "5ec46368-a091-4644-b264-79050ab28a3c",
         "x": [
          61
         ],
         "y": [
          "Architecture & Planning"
         ]
        },
        {
         "marker": {
          "color": "rgba(255, 153, 51, 0.7333333333333334)",
          "line": {
           "width": 1.3
          },
          "opacity": 0.8,
          "size": [
           13
          ],
          "symbol": "circle"
         },
         "mode": "markers",
         "name": "Civil Engineering",
         "textfont": {
          "color": "#4D5663"
         },
         "type": "scatter",
         "uid": "a369f9a6-77e3-4d51-a313-c71bc6d96009",
         "x": [
          62
         ],
         "y": [
          "Civil Engineering"
         ]
        },
        {
         "marker": {
          "color": "rgba(55, 128, 191, 0.7333333333333334)",
          "line": {
           "width": 1.3
          },
          "opacity": 0.8,
          "size": [
           14
          ],
          "symbol": "circle"
         },
         "mode": "markers",
         "name": "Aviation & Aerospace",
         "textfont": {
          "color": "#4D5663"
         },
         "type": "scatter",
         "uid": "d662a847-844c-46e0-b865-9eb6d17b85da",
         "x": [
          96
         ],
         "y": [
          "Aviation & Aerospace"
         ]
        },
        {
         "marker": {
          "color": "rgba(50, 171, 96, 0.7333333333333334)",
          "line": {
           "width": 1.3
          },
          "opacity": 0.8,
          "size": [
           26
          ],
          "symbol": "circle"
         },
         "mode": "markers",
         "name": "Automotive",
         "textfont": {
          "color": "#4D5663"
         },
         "type": "scatter",
         "uid": "8126b4d4-c669-43bd-b7ab-25f700a72bdb",
         "x": [
          490
         ],
         "y": [
          "Automotive"
         ]
        },
        {
         "marker": {
          "color": "rgba(128, 0, 128, 0.7333333333333334)",
          "line": {
           "width": 1.3
          },
          "opacity": 0.8,
          "size": [
           14
          ],
          "symbol": "circle"
         },
         "mode": "markers",
         "name": "Chemicals",
         "textfont": {
          "color": "#4D5663"
         },
         "type": "scatter",
         "uid": "686e43f6-dd38-47f0-afff-bfdf07866516",
         "x": [
          73
         ],
         "y": [
          "Chemicals"
         ]
        },
        {
         "marker": {
          "color": "rgba(219, 64, 82, 0.7333333333333334)",
          "line": {
           "width": 1.3
          },
          "opacity": 0.8,
          "size": [
           14
          ],
          "symbol": "circle"
         },
         "mode": "markers",
         "name": "Machinery",
         "textfont": {
          "color": "#4D5663"
         },
         "type": "scatter",
         "uid": "3b464413-a246-4266-8fa1-db530fc86739",
         "x": [
          98
         ],
         "y": [
          "Machinery"
         ]
        },
        {
         "marker": {
          "color": "rgba(0, 128, 128, 0.7333333333333334)",
          "line": {
           "width": 1.3
          },
          "opacity": 0.8,
          "size": [
           12
          ],
          "symbol": "circle"
         },
         "mode": "markers",
         "name": "Mining & Metals",
         "textfont": {
          "color": "#4D5663"
         },
         "type": "scatter",
         "uid": "5cf89028-3157-4fd8-96d5-facac2af641b",
         "x": [
          31
         ],
         "y": [
          "Mining & Metals"
         ]
        },
        {
         "marker": {
          "color": "rgba(0, 128, 128, 0.6666666666666667)",
          "line": {
           "width": 1.3
          },
          "opacity": 0.8,
          "size": [
           14
          ],
          "symbol": "circle"
         },
         "mode": "markers",
         "name": "Oil & Energy",
         "textfont": {
          "color": "#4D5663"
         },
         "type": "scatter",
         "uid": "159ad3e5-7372-46a9-ba6a-3cdae3d2c527",
         "x": [
          85
         ],
         "y": [
          "Oil & Energy"
         ]
        },
        {
         "marker": {
          "color": "rgba(255, 255, 51, 0.6666666666666667)",
          "line": {
           "width": 1.3
          },
          "opacity": 0.8,
          "size": [
           15
          ],
          "symbol": "circle"
         },
         "mode": "markers",
         "name": "Utilities",
         "textfont": {
          "color": "#4D5663"
         },
         "type": "scatter",
         "uid": "c38683ef-3820-4fa9-96fb-87831d185dc4",
         "x": [
          117
         ],
         "y": [
          "Utilities"
         ]
        },
        {
         "marker": {
          "color": "rgba(128, 128, 0, 0.6666666666666667)",
          "line": {
           "width": 1.3
          },
          "opacity": 0.8,
          "size": [
           12
          ],
          "symbol": "circle"
         },
         "mode": "markers",
         "name": "Textiles",
         "textfont": {
          "color": "#4D5663"
         },
         "type": "scatter",
         "uid": "c738663e-4b1c-4801-a768-6b7c1bf82b0c",
         "x": [
          2
         ],
         "y": [
          "Textiles"
         ]
        },
        {
         "marker": {
          "color": "rgba(251, 128, 114, 0.6666666666666667)",
          "line": {
           "width": 1.3
          },
          "opacity": 0.8,
          "size": [
           13
          ],
          "symbol": "circle"
         },
         "mode": "markers",
         "name": "Farming",
         "textfont": {
          "color": "#4D5663"
         },
         "type": "scatter",
         "uid": "f5ae11e3-a62b-4f7a-b47a-c653363a7d0e",
         "x": [
          41
         ],
         "y": [
          "Farming"
         ]
        },
        {
         "marker": {
          "color": "rgba(128, 177, 211, 0.6666666666666667)",
          "line": {
           "width": 1.3
          },
          "opacity": 0.8,
          "size": [
           17
          ],
          "symbol": "circle"
         },
         "mode": "markers",
         "name": "Primary/Secondary Education",
         "textfont": {
          "color": "#4D5663"
         },
         "type": "scatter",
         "uid": "2870de1e-a939-40f3-a4b9-be0a4fc915a4",
         "x": [
          183
         ],
         "y": [
          "Primary/Secondary Education"
         ]
        },
        {
         "marker": {
          "color": "rgba(255, 153, 51, 0.6666666666666667)",
          "line": {
           "width": 1.3
          },
          "opacity": 0.8,
          "size": [
           112
          ],
          "symbol": "circle"
         },
         "mode": "markers",
         "name": "Higher Education",
         "textfont": {
          "color": "#4D5663"
         },
         "type": "scatter",
         "uid": "5abaa493-f489-40de-8219-1e514823de5c",
         "x": [
          3373
         ],
         "y": [
          "Higher Education"
         ]
        },
        {
         "marker": {
          "color": "rgba(55, 128, 191, 0.6666666666666667)",
          "line": {
           "width": 1.3
          },
          "opacity": 0.8,
          "size": [
           29
          ],
          "symbol": "circle"
         },
         "mode": "markers",
         "name": "Education Management",
         "textfont": {
          "color": "#4D5663"
         },
         "type": "scatter",
         "uid": "33f7d16d-18b7-44a3-96ee-850e3446213e",
         "x": [
          577
         ],
         "y": [
          "Education Management"
         ]
        },
        {
         "marker": {
          "color": "rgba(50, 171, 96, 0.6666666666666667)",
          "line": {
           "width": 1.3
          },
          "opacity": 0.8,
          "size": [
           25
          ],
          "symbol": "circle"
         },
         "mode": "markers",
         "name": "Research",
         "textfont": {
          "color": "#4D5663"
         },
         "type": "scatter",
         "uid": "6deeaf03-9279-4f9a-bd2b-7e40b517aa2a",
         "x": [
          473
         ],
         "y": [
          "Research"
         ]
        },
        {
         "marker": {
          "color": "rgba(128, 0, 128, 0.6666666666666667)",
          "line": {
           "width": 1.3
          },
          "opacity": 0.8,
          "size": [
           17
          ],
          "symbol": "circle"
         },
         "mode": "markers",
         "name": "Military",
         "textfont": {
          "color": "#4D5663"
         },
         "type": "scatter",
         "uid": "70fff631-70b2-4191-b08b-f51182ccaf68",
         "x": [
          178
         ],
         "y": [
          "Military"
         ]
        },
        {
         "marker": {
          "color": "rgba(219, 64, 82, 0.6666666666666667)",
          "line": {
           "width": 1.3
          },
          "opacity": 0.8,
          "size": [
           12
          ],
          "symbol": "circle"
         },
         "mode": "markers",
         "name": "Legislative Office",
         "textfont": {
          "color": "#4D5663"
         },
         "type": "scatter",
         "uid": "3fc15700-60ea-485b-b188-300f5bff8664",
         "x": [
          2
         ],
         "y": [
          "Legislative Office"
         ]
        },
        {
         "marker": {
          "color": "rgba(219, 64, 82, 0.6000000000000001)",
          "line": {
           "width": 1.3
          },
          "opacity": 0.8,
          "size": [
           12
          ],
          "symbol": "circle"
         },
         "mode": "markers",
         "name": "International Affairs",
         "textfont": {
          "color": "#4D5663"
         },
         "type": "scatter",
         "uid": "66f8c601-5a32-4d82-8d87-548847a9da9c",
         "x": [
          32
         ],
         "y": [
          "International Affairs"
         ]
        },
        {
         "marker": {
          "color": "rgba(0, 128, 128, 0.6000000000000001)",
          "line": {
           "width": 1.3
          },
          "opacity": 0.8,
          "size": [
           21
          ],
          "symbol": "circle"
         },
         "mode": "markers",
         "name": "Government Administration",
         "textfont": {
          "color": "#4D5663"
         },
         "type": "scatter",
         "uid": "b40d4d02-3d00-4de8-9e74-603b41898a0e",
         "x": [
          317
         ],
         "y": [
          "Government Administration"
         ]
        },
        {
         "marker": {
          "color": "rgba(255, 255, 51, 0.6000000000000001)",
          "line": {
           "width": 1.3
          },
          "opacity": 0.8,
          "size": [
           12
          ],
          "symbol": "circle"
         },
         "mode": "markers",
         "name": "Law Enforcement",
         "textfont": {
          "color": "#4D5663"
         },
         "type": "scatter",
         "uid": "7b0df6f3-b090-4e88-9491-e3c8bc30a34f",
         "x": [
          31
         ],
         "y": [
          "Law Enforcement"
         ]
        },
        {
         "marker": {
          "color": "rgba(128, 128, 0, 0.6000000000000001)",
          "line": {
           "width": 1.3
          },
          "opacity": 0.8,
          "size": [
           13
          ],
          "symbol": "circle"
         },
         "mode": "markers",
         "name": "Public Safety",
         "textfont": {
          "color": "#4D5663"
         },
         "type": "scatter",
         "uid": "dbf32e45-dbc5-4469-91aa-6cbc04f1916d",
         "x": [
          44
         ],
         "y": [
          "Public Safety"
         ]
        },
        {
         "marker": {
          "color": "rgba(251, 128, 114, 0.6000000000000001)",
          "line": {
           "width": 1.3
          },
          "opacity": 0.8,
          "size": [
           13
          ],
          "symbol": "circle"
         },
         "mode": "markers",
         "name": "Public Policy",
         "textfont": {
          "color": "#4D5663"
         },
         "type": "scatter",
         "uid": "d78a5d13-6765-4610-ac71-49ebe8869c67",
         "x": [
          54
         ],
         "y": [
          "Public Policy"
         ]
        },
        {
         "marker": {
          "color": "rgba(128, 177, 211, 0.6000000000000001)",
          "line": {
           "width": 1.3
          },
          "opacity": 0.8,
          "size": [
           25
          ],
          "symbol": "circle"
         },
         "mode": "markers",
         "name": "Marketing and Advertising",
         "textfont": {
          "color": "#4D5663"
         },
         "type": "scatter",
         "uid": "4fe76036-ebd3-4265-90bb-d22a7ceb7391",
         "x": [
          463
         ],
         "y": [
          "Marketing and Advertising"
         ]
        },
        {
         "marker": {
          "color": "rgba(255, 153, 51, 0.6000000000000001)",
          "line": {
           "width": 1.3
          },
          "opacity": 0.8,
          "size": [
           12
          ],
          "symbol": "circle"
         },
         "mode": "markers",
         "name": "Newspapers",
         "textfont": {
          "color": "#4D5663"
         },
         "type": "scatter",
         "uid": "c1854e90-5fef-4938-b4ab-3b5c797a4828",
         "x": [
          4
         ],
         "y": [
          "Newspapers"
         ]
        },
        {
         "marker": {
          "color": "rgba(55, 128, 191, 0.6000000000000001)",
          "line": {
           "width": 1.3
          },
          "opacity": 0.8,
          "size": [
           14
          ],
          "symbol": "circle"
         },
         "mode": "markers",
         "name": "Publishing",
         "textfont": {
          "color": "#4D5663"
         },
         "type": "scatter",
         "uid": "02b0bb26-7326-4da9-954d-4d860c0a14ba",
         "x": [
          92
         ],
         "y": [
          "Publishing"
         ]
        },
        {
         "marker": {
          "color": "rgba(50, 171, 96, 0.6000000000000001)",
          "line": {
           "width": 1.3
          },
          "opacity": 0.8,
          "size": [
           12
          ],
          "symbol": "circle"
         },
         "mode": "markers",
         "name": "Printing",
         "textfont": {
          "color": "#4D5663"
         },
         "type": "scatter",
         "uid": "4e869485-b7d4-47ad-bced-648a66edf840",
         "x": [
          2
         ],
         "y": [
          "Printing"
         ]
        },
        {
         "marker": {
          "color": "rgba(128, 0, 128, 0.6000000000000001)",
          "line": {
           "width": 1.3
          },
          "opacity": 0.8,
          "size": [
           13
          ],
          "symbol": "circle"
         },
         "mode": "markers",
         "name": "Information Services",
         "textfont": {
          "color": "#4D5663"
         },
         "type": "scatter",
         "uid": "98a36f8a-3bfe-443e-8579-ed4bd6eb1980",
         "x": [
          57
         ],
         "y": [
          "Information Services"
         ]
        },
        {
         "marker": {
          "color": "rgba(128, 0, 128, 0.5333333333333334)",
          "line": {
           "width": 1.3
          },
          "opacity": 0.8,
          "size": [
           13
          ],
          "symbol": "circle"
         },
         "mode": "markers",
         "name": "Libraries",
         "textfont": {
          "color": "#4D5663"
         },
         "type": "scatter",
         "uid": "435ca7b4-72ad-4e46-bb15-b1b5e4dfbef6",
         "x": [
          50
         ],
         "y": [
          "Libraries"
         ]
        },
        {
         "marker": {
          "color": "rgba(219, 64, 82, 0.5333333333333334)",
          "line": {
           "width": 1.3
          },
          "opacity": 0.8,
          "size": [
           14
          ],
          "symbol": "circle"
         },
         "mode": "markers",
         "name": "Environmental Services",
         "textfont": {
          "color": "#4D5663"
         },
         "type": "scatter",
         "uid": "7c11f860-6e41-48c7-ac2d-4486424f8455",
         "x": [
          94
         ],
         "y": [
          "Environmental Services"
         ]
        },
        {
         "marker": {
          "color": "rgba(0, 128, 128, 0.5333333333333334)",
          "line": {
           "width": 1.3
          },
          "opacity": 0.8,
          "size": [
           14
          ],
          "symbol": "circle"
         },
         "mode": "markers",
         "name": "Individual & Family Services",
         "textfont": {
          "color": "#4D5663"
         },
         "type": "scatter",
         "uid": "5c70e76d-7c28-4e2d-ac74-3696703651a2",
         "x": [
          91
         ],
         "y": [
          "Individual & Family Services"
         ]
        },
        {
         "marker": {
          "color": "rgba(255, 255, 51, 0.5333333333333334)",
          "line": {
           "width": 1.3
          },
          "opacity": 0.8,
          "size": [
           14
          ],
          "symbol": "circle"
         },
         "mode": "markers",
         "name": "Religious Institutions",
         "textfont": {
          "color": "#4D5663"
         },
         "type": "scatter",
         "uid": "8bd54deb-00fb-406e-9369-df28badf5ff2",
         "x": [
          88
         ],
         "y": [
          "Religious Institutions"
         ]
        },
        {
         "marker": {
          "color": "rgba(128, 128, 0, 0.5333333333333334)",
          "line": {
           "width": 1.3
          },
          "opacity": 0.8,
          "size": [
           14
          ],
          "symbol": "circle"
         },
         "mode": "markers",
         "name": "Civic & Social Organization",
         "textfont": {
          "color": "#4D5663"
         },
         "type": "scatter",
         "uid": "392dd893-bac1-4596-92f8-988c8c709f59",
         "x": [
          89
         ],
         "y": [
          "Civic & Social Organization"
         ]
        },
        {
         "marker": {
          "color": "rgba(251, 128, 114, 0.5333333333333334)",
          "line": {
           "width": 1.3
          },
          "opacity": 0.8,
          "size": [
           14
          ],
          "symbol": "circle"
         },
         "mode": "markers",
         "name": "Consumer Services",
         "textfont": {
          "color": "#4D5663"
         },
         "type": "scatter",
         "uid": "c6c81660-03cf-4451-9c92-35770619a87e",
         "x": [
          86
         ],
         "y": [
          "Consumer Services"
         ]
        },
        {
         "marker": {
          "color": "rgba(128, 177, 211, 0.5333333333333334)",
          "line": {
           "width": 1.3
          },
          "opacity": 0.8,
          "size": [
           15
          ],
          "symbol": "circle"
         },
         "mode": "markers",
         "name": "Transportation/Trucking/Railroad",
         "textfont": {
          "color": "#4D5663"
         },
         "type": "scatter",
         "uid": "b8ddcd90-0275-47db-b584-bafd8dd4d5dd",
         "x": [
          131
         ],
         "y": [
          "Transportation/Trucking/Railroad"
         ]
        },
        {
         "marker": {
          "color": "rgba(255, 153, 51, 0.5333333333333334)",
          "line": {
           "width": 1.3
          },
          "opacity": 0.8,
          "size": [
           13
          ],
          "symbol": "circle"
         },
         "mode": "markers",
         "name": "Airlines/Aviation",
         "textfont": {
          "color": "#4D5663"
         },
         "type": "scatter",
         "uid": "d9dbc643-f926-49ad-b918-8f717f4f428e",
         "x": [
          63
         ],
         "y": [
          "Airlines/Aviation"
         ]
        },
        {
         "marker": {
          "color": "rgba(55, 128, 191, 0.5333333333333334)",
          "line": {
           "width": 1.3
          },
          "opacity": 0.8,
          "size": [
           47
          ],
          "symbol": "circle"
         },
         "mode": "markers",
         "name": "Information Technology and Services",
         "textfont": {
          "color": "#4D5663"
         },
         "type": "scatter",
         "uid": "6f7e8b24-5d84-494d-b981-f0798118cd8e",
         "x": [
          1186
         ],
         "y": [
          "Information Technology and Services"
         ]
        },
        {
         "marker": {
          "color": "rgba(50, 171, 96, 0.5333333333333334)",
          "line": {
           "width": 1.3
          },
          "opacity": 0.8,
          "size": [
           13
          ],
          "symbol": "circle"
         },
         "mode": "markers",
         "name": "Market Research",
         "textfont": {
          "color": "#4D5663"
         },
         "type": "scatter",
         "uid": "4ea3f396-ccba-4c64-8309-4fb46bd6d58f",
         "x": [
          35
         ],
         "y": [
          "Market Research"
         ]
        },
        {
         "marker": {
          "color": "rgba(50, 171, 96, 0.46666666666666684)",
          "line": {
           "width": 1.3
          },
          "opacity": 0.8,
          "size": [
           13
          ],
          "symbol": "circle"
         },
         "mode": "markers",
         "name": "Public Relations and Communications",
         "textfont": {
          "color": "#4D5663"
         },
         "type": "scatter",
         "uid": "1ef96403-ae42-41d5-aa45-db34ed5757cd",
         "x": [
          67
         ],
         "y": [
          "Public Relations and Communications"
         ]
        },
        {
         "marker": {
          "color": "rgba(128, 0, 128, 0.46666666666666684)",
          "line": {
           "width": 1.3
          },
          "opacity": 0.8,
          "size": [
           15
          ],
          "symbol": "circle"
         },
         "mode": "markers",
         "name": "Design",
         "textfont": {
          "color": "#4D5663"
         },
         "type": "scatter",
         "uid": "d7044875-9048-49d3-8dff-6afdc92d3a59",
         "x": [
          108
         ],
         "y": [
          "Design"
         ]
        },
        {
         "marker": {
          "color": "rgba(219, 64, 82, 0.46666666666666684)",
          "line": {
           "width": 1.3
          },
          "opacity": 0.8,
          "size": [
           28
          ],
          "symbol": "circle"
         },
         "mode": "markers",
         "name": "Nonprofit Organization Management",
         "textfont": {
          "color": "#4D5663"
         },
         "type": "scatter",
         "uid": "a483cdb2-25d0-4f2b-93e9-c851f7813d0e",
         "x": [
          570
         ],
         "y": [
          "Nonprofit Organization Management"
         ]
        },
        {
         "marker": {
          "color": "rgba(0, 128, 128, 0.46666666666666684)",
          "line": {
           "width": 1.3
          },
          "opacity": 0.8,
          "size": [
           13
          ],
          "symbol": "circle"
         },
         "mode": "markers",
         "name": "Fund-Raising",
         "textfont": {
          "color": "#4D5663"
         },
         "type": "scatter",
         "uid": "16fcf015-e5f3-4d9f-b9b9-1145a3fb38bc",
         "x": [
          40
         ],
         "y": [
          "Fund-Raising"
         ]
        },
        {
         "marker": {
          "color": "rgba(255, 255, 51, 0.46666666666666684)",
          "line": {
           "width": 1.3
          },
          "opacity": 0.8,
          "size": [
           15
          ],
          "symbol": "circle"
         },
         "mode": "markers",
         "name": "Program Development",
         "textfont": {
          "color": "#4D5663"
         },
         "type": "scatter",
         "uid": "05b9b3bb-d5d3-42bd-8c0f-1b1b97b93095",
         "x": [
          119
         ],
         "y": [
          "Program Development"
         ]
        },
        {
         "marker": {
          "color": "rgba(128, 128, 0, 0.46666666666666684)",
          "line": {
           "width": 1.3
          },
          "opacity": 0.8,
          "size": [
           14
          ],
          "symbol": "circle"
         },
         "mode": "markers",
         "name": "Writing and Editing",
         "textfont": {
          "color": "#4D5663"
         },
         "type": "scatter",
         "uid": "1cd0bf7f-980a-4d92-9963-7114f1a6adac",
         "x": [
          83
         ],
         "y": [
          "Writing and Editing"
         ]
        },
        {
         "marker": {
          "color": "rgba(251, 128, 114, 0.46666666666666684)",
          "line": {
           "width": 1.3
          },
          "opacity": 0.8,
          "size": [
           24
          ],
          "symbol": "circle"
         },
         "mode": "markers",
         "name": "Staffing and Recruiting",
         "textfont": {
          "color": "#4D5663"
         },
         "type": "scatter",
         "uid": "3933682b-b8f4-481b-9c2d-bcad8d8abd49",
         "x": [
          428
         ],
         "y": [
          "Staffing and Recruiting"
         ]
        },
        {
         "marker": {
          "color": "rgba(128, 177, 211, 0.46666666666666684)",
          "line": {
           "width": 1.3
          },
          "opacity": 0.8,
          "size": [
           15
          ],
          "symbol": "circle"
         },
         "mode": "markers",
         "name": "Professional Training & Coaching",
         "textfont": {
          "color": "#4D5663"
         },
         "type": "scatter",
         "uid": "45175300-9c5e-441b-b7dc-d584f390deaf",
         "x": [
          133
         ],
         "y": [
          "Professional Training & Coaching"
         ]
        },
        {
         "marker": {
          "color": "rgba(255, 153, 51, 0.46666666666666684)",
          "line": {
           "width": 1.3
          },
          "opacity": 0.8,
          "size": [
           12
          ],
          "symbol": "circle"
         },
         "mode": "markers",
         "name": "Venture Capital & Private Equity",
         "textfont": {
          "color": "#4D5663"
         },
         "type": "scatter",
         "uid": "c9ef691b-9077-4033-9ec6-7fe62527d038",
         "x": [
          32
         ],
         "y": [
          "Venture Capital & Private Equity"
         ]
        },
        {
         "marker": {
          "color": "rgba(55, 128, 191, 0.46666666666666684)",
          "line": {
           "width": 1.3
          },
          "opacity": 0.8,
          "size": [
           12
          ],
          "symbol": "circle"
         },
         "mode": "markers",
         "name": "Political Organization",
         "textfont": {
          "color": "#4D5663"
         },
         "type": "scatter",
         "uid": "5754b5f5-bef4-4ba8-a789-58263d88536b",
         "x": [
          4
         ],
         "y": [
          "Political Organization"
         ]
        },
        {
         "marker": {
          "color": "rgba(55, 128, 191, 0.4000000000000002)",
          "line": {
           "width": 1.3
          },
          "opacity": 0.8,
          "size": [
           12
          ],
          "symbol": "circle"
         },
         "mode": "markers",
         "name": "Computer Games",
         "textfont": {
          "color": "#4D5663"
         },
         "type": "scatter",
         "uid": "326c950a-d20c-4a6b-a5fb-ec06c9c12233",
         "x": [
          1
         ],
         "y": [
          "Computer Games"
         ]
        },
        {
         "marker": {
          "color": "rgba(50, 171, 96, 0.4000000000000002)",
          "line": {
           "width": 1.3
          },
          "opacity": 0.8,
          "size": [
           14
          ],
          "symbol": "circle"
         },
         "mode": "markers",
         "name": "Events Services",
         "textfont": {
          "color": "#4D5663"
         },
         "type": "scatter",
         "uid": "737c9459-82c9-4b06-85ad-2000196dd154",
         "x": [
          84
         ],
         "y": [
          "Events Services"
         ]
        },
        {
         "marker": {
          "color": "rgba(128, 0, 128, 0.4000000000000002)",
          "line": {
           "width": 1.3
          },
          "opacity": 0.8,
          "size": [
           16
          ],
          "symbol": "circle"
         },
         "mode": "markers",
         "name": "Electrical/Electronic Manufacturing",
         "textfont": {
          "color": "#4D5663"
         },
         "type": "scatter",
         "uid": "cba7ad5b-acbe-4f69-a6e6-572b5583a071",
         "x": [
          141
         ],
         "y": [
          "Electrical/Electronic Manufacturing"
         ]
        },
        {
         "marker": {
          "color": "rgba(219, 64, 82, 0.4000000000000002)",
          "line": {
           "width": 1.3
          },
          "opacity": 0.8,
          "size": [
           13
          ],
          "symbol": "circle"
         },
         "mode": "markers",
         "name": "Online Media",
         "textfont": {
          "color": "#4D5663"
         },
         "type": "scatter",
         "uid": "8124f334-d08b-4802-b860-00305f8987e3",
         "x": [
          38
         ],
         "y": [
          "Online Media"
         ]
        },
        {
         "marker": {
          "color": "rgba(0, 128, 128, 0.4000000000000002)",
          "line": {
           "width": 1.3
          },
          "opacity": 0.8,
          "size": [
           13
          ],
          "symbol": "circle"
         },
         "mode": "markers",
         "name": "Music",
         "textfont": {
          "color": "#4D5663"
         },
         "type": "scatter",
         "uid": "3dddf0ec-2dda-4f72-9e77-f16c4a9a4164",
         "x": [
          42
         ],
         "y": [
          "Music"
         ]
        },
        {
         "marker": {
          "color": "rgba(255, 255, 51, 0.4000000000000002)",
          "line": {
           "width": 1.3
          },
          "opacity": 0.8,
          "size": [
           15
          ],
          "symbol": "circle"
         },
         "mode": "markers",
         "name": "Logistics and Supply Chain",
         "textfont": {
          "color": "#4D5663"
         },
         "type": "scatter",
         "uid": "9d5f1f95-eec7-4acf-bf0a-dc2b0212b81b",
         "x": [
          131
         ],
         "y": [
          "Logistics and Supply Chain"
         ]
        },
        {
         "marker": {
          "color": "rgba(128, 128, 0, 0.4000000000000002)",
          "line": {
           "width": 1.3
          },
          "opacity": 0.8,
          "size": [
           13
          ],
          "symbol": "circle"
         },
         "mode": "markers",
         "name": "Computer & Network Security",
         "textfont": {
          "color": "#4D5663"
         },
         "type": "scatter",
         "uid": "7c217830-7f8c-41a7-8763-0cf0e6da39fd",
         "x": [
          57
         ],
         "y": [
          "Computer & Network Security"
         ]
        },
        {
         "marker": {
          "color": "rgba(251, 128, 114, 0.4000000000000002)",
          "line": {
           "width": 1.3
          },
          "opacity": 0.8,
          "size": [
           12
          ],
          "symbol": "circle"
         },
         "mode": "markers",
         "name": "Wireless",
         "textfont": {
          "color": "#4D5663"
         },
         "type": "scatter",
         "uid": "1eba0e68-8340-47f9-85f2-82bb6f39ea91",
         "x": [
          1
         ],
         "y": [
          "Wireless"
         ]
        },
        {
         "marker": {
          "color": "rgba(128, 177, 211, 0.4000000000000002)",
          "line": {
           "width": 1.3
          },
          "opacity": 0.8,
          "size": [
           13
          ],
          "symbol": "circle"
         },
         "mode": "markers",
         "name": "Security and Investigations",
         "textfont": {
          "color": "#4D5663"
         },
         "type": "scatter",
         "uid": "0b361b4b-0fed-4653-84f1-7334e75c092a",
         "x": [
          44
         ],
         "y": [
          "Security and Investigations"
         ]
        },
        {
         "marker": {
          "color": "rgba(255, 153, 51, 0.4000000000000002)",
          "line": {
           "width": 1.3
          },
          "opacity": 0.8,
          "size": [
           13
          ],
          "symbol": "circle"
         },
         "mode": "markers",
         "name": "Facilities Services",
         "textfont": {
          "color": "#4D5663"
         },
         "type": "scatter",
         "uid": "a2a1fc48-b312-4d98-bbea-2a1377534b91",
         "x": [
          54
         ],
         "y": [
          "Facilities Services"
         ]
        },
        {
         "marker": {
          "color": "rgba(255, 153, 51, 0.33333333333333354)",
          "line": {
           "width": 1.3
          },
          "opacity": 0.8,
          "size": [
           13
          ],
          "symbol": "circle"
         },
         "mode": "markers",
         "name": "Outsourcing/Offshoring",
         "textfont": {
          "color": "#4D5663"
         },
         "type": "scatter",
         "uid": "06296186-521f-46de-96fb-a221c0ef1339",
         "x": [
          66
         ],
         "y": [
          "Outsourcing/Offshoring"
         ]
        },
        {
         "marker": {
          "color": "rgba(55, 128, 191, 0.33333333333333354)",
          "line": {
           "width": 1.3
          },
          "opacity": 0.8,
          "size": [
           21
          ],
          "symbol": "circle"
         },
         "mode": "markers",
         "name": "Health, Wellness and Fitness",
         "textfont": {
          "color": "#4D5663"
         },
         "type": "scatter",
         "uid": "1d795d1c-4cdb-4505-83d9-a54c00b87715",
         "x": [
          329
         ],
         "y": [
          "Health, Wellness and Fitness"
         ]
        },
        {
         "marker": {
          "color": "rgba(50, 171, 96, 0.33333333333333354)",
          "line": {
           "width": 1.3
          },
          "opacity": 0.8,
          "size": [
           13
          ],
          "symbol": "circle"
         },
         "mode": "markers",
         "name": "Media Production",
         "textfont": {
          "color": "#4D5663"
         },
         "type": "scatter",
         "uid": "0a6352c3-e368-4781-8b90-17a78d2b7314",
         "x": [
          67
         ],
         "y": [
          "Media Production"
         ]
        },
        {
         "marker": {
          "color": "rgba(128, 0, 128, 0.33333333333333354)",
          "line": {
           "width": 1.3
          },
          "opacity": 0.8,
          "size": [
           12
          ],
          "symbol": "circle"
         },
         "mode": "markers",
         "name": "Commercial Real Estate",
         "textfont": {
          "color": "#4D5663"
         },
         "type": "scatter",
         "uid": "02fbc175-3cfb-4a3f-bd38-835b78439563",
         "x": [
          18
         ],
         "y": [
          "Commercial Real Estate"
         ]
        },
        {
         "marker": {
          "color": "rgba(219, 64, 82, 0.33333333333333354)",
          "line": {
           "width": 1.3
          },
          "opacity": 0.8,
          "size": [
           12
          ],
          "symbol": "circle"
         },
         "mode": "markers",
         "name": "Think Tanks",
         "textfont": {
          "color": "#4D5663"
         },
         "type": "scatter",
         "uid": "0a53bb69-4b3f-464d-9781-9943942ab362",
         "x": [
          5
         ],
         "y": [
          "Think Tanks"
         ]
        },
        {
         "marker": {
          "color": "rgba(0, 128, 128, 0.33333333333333354)",
          "line": {
           "width": 1.3
          },
          "opacity": 0.8,
          "size": [
           14
          ],
          "symbol": "circle"
         },
         "mode": "markers",
         "name": "Philanthropy",
         "textfont": {
          "color": "#4D5663"
         },
         "type": "scatter",
         "uid": "bf87ad52-6f84-4541-817d-ea8d861ec779",
         "x": [
          77
         ],
         "y": [
          "Philanthropy"
         ]
        },
        {
         "marker": {
          "color": "rgba(255, 255, 51, 0.33333333333333354)",
          "line": {
           "width": 1.3
          },
          "opacity": 0.8,
          "size": [
           14
          ],
          "symbol": "circle"
         },
         "mode": "markers",
         "name": "E-Learning",
         "textfont": {
          "color": "#4D5663"
         },
         "type": "scatter",
         "uid": "f03a1fca-ae9d-42a3-b341-5263d8ec7fd8",
         "x": [
          69
         ],
         "y": [
          "E-Learning"
         ]
        },
        {
         "marker": {
          "color": "rgba(128, 128, 0, 0.33333333333333354)",
          "line": {
           "width": 1.3
          },
          "opacity": 0.8,
          "size": [
           13
          ],
          "symbol": "circle"
         },
         "mode": "markers",
         "name": "Wholesale",
         "textfont": {
          "color": "#4D5663"
         },
         "type": "scatter",
         "uid": "92681d6a-c3f0-4773-9737-638090ccd5f7",
         "x": [
          51
         ],
         "y": [
          "Wholesale"
         ]
        },
        {
         "marker": {
          "color": "rgba(251, 128, 114, 0.33333333333333354)",
          "line": {
           "width": 1.3
          },
          "opacity": 0.8,
          "size": [
           12
          ],
          "symbol": "circle"
         },
         "mode": "markers",
         "name": "Import and Export",
         "textfont": {
          "color": "#4D5663"
         },
         "type": "scatter",
         "uid": "43941fc5-56c9-4d39-835c-e586d4fa5875",
         "x": [
          1
         ],
         "y": [
          "Import and Export"
         ]
        },
        {
         "marker": {
          "color": "rgba(128, 177, 211, 0.33333333333333354)",
          "line": {
           "width": 1.3
          },
          "opacity": 0.8,
          "size": [
           16
          ],
          "symbol": "circle"
         },
         "mode": "markers",
         "name": "Mechanical or Industrial Engineering",
         "textfont": {
          "color": "#4D5663"
         },
         "type": "scatter",
         "uid": "72aaa2d2-ac65-46bc-ba7d-05f68a45075b",
         "x": [
          165
         ],
         "y": [
          "Mechanical or Industrial Engineering"
         ]
        },
        {
         "marker": {
          "color": "rgba(128, 177, 211, 0.2666666666666669)",
          "line": {
           "width": 1.3
          },
          "opacity": 0.8,
          "size": [
           12
          ],
          "symbol": "circle"
         },
         "mode": "markers",
         "name": "Photography",
         "textfont": {
          "color": "#4D5663"
         },
         "type": "scatter",
         "uid": "4f618bda-106a-430c-9e02-5bbc9e26142c",
         "x": [
          2
         ],
         "y": [
          "Photography"
         ]
        },
        {
         "marker": {
          "color": "rgba(255, 153, 51, 0.2666666666666669)",
          "line": {
           "width": 1.3
          },
          "opacity": 0.8,
          "size": [
           16
          ],
          "symbol": "circle"
         },
         "mode": "markers",
         "name": "Human Resources",
         "textfont": {
          "color": "#4D5663"
         },
         "type": "scatter",
         "uid": "a376a0ab-c2cb-4f4a-bc73-2ad00ec213a5",
         "x": [
          150
         ],
         "y": [
          "Human Resources"
         ]
        },
        {
         "marker": {
          "color": "rgba(55, 128, 191, 0.2666666666666669)",
          "line": {
           "width": 1.3
          },
          "opacity": 0.8,
          "size": [
           12
          ],
          "symbol": "circle"
         },
         "mode": "markers",
         "name": "Business Supplies and Equipment",
         "textfont": {
          "color": "#4D5663"
         },
         "type": "scatter",
         "uid": "067f2ceb-f2aa-4714-b4fc-73aefa76ef7d",
         "x": [
          34
         ],
         "y": [
          "Business Supplies and Equipment"
         ]
        },
        {
         "marker": {
          "color": "rgba(50, 171, 96, 0.2666666666666669)",
          "line": {
           "width": 1.3
          },
          "opacity": 0.8,
          "size": [
           15
          ],
          "symbol": "circle"
         },
         "mode": "markers",
         "name": "Mental Health Care",
         "textfont": {
          "color": "#4D5663"
         },
         "type": "scatter",
         "uid": "42a04d2c-533c-4b01-9a8b-6a683c03f621",
         "x": [
          120
         ],
         "y": [
          "Mental Health Care"
         ]
        },
        {
         "marker": {
          "color": "rgba(128, 0, 128, 0.2666666666666669)",
          "line": {
           "width": 1.3
          },
          "opacity": 0.8,
          "size": [
           12
          ],
          "symbol": "circle"
         },
         "mode": "markers",
         "name": "Graphic Design",
         "textfont": {
          "color": "#4D5663"
         },
         "type": "scatter",
         "uid": "d71f63cd-ea40-4f04-9376-1c566bb6fcbf",
         "x": [
          30
         ],
         "y": [
          "Graphic Design"
         ]
        },
        {
         "marker": {
          "color": "rgba(219, 64, 82, 0.2666666666666669)",
          "line": {
           "width": 1.3
          },
          "opacity": 0.8,
          "size": [
           12
          ],
          "symbol": "circle"
         },
         "mode": "markers",
         "name": "International Trade and Development",
         "textfont": {
          "color": "#4D5663"
         },
         "type": "scatter",
         "uid": "9c045153-deb5-4ffa-a797-4d9bd630324a",
         "x": [
          31
         ],
         "y": [
          "International Trade and Development"
         ]
        },
        {
         "marker": {
          "color": "rgba(0, 128, 128, 0.2666666666666669)",
          "line": {
           "width": 1.3
          },
          "opacity": 0.8,
          "size": [
           13
          ],
          "symbol": "circle"
         },
         "mode": "markers",
         "name": "Renewables & Environment",
         "textfont": {
          "color": "#4D5663"
         },
         "type": "scatter",
         "uid": "e1fe61ed-9def-4236-8ea8-c34a198f416d",
         "x": [
          37
         ],
         "y": [
          "Renewables & Environment"
         ]
        },
        {
         "marker": {
          "color": "rgba(255, 255, 51, 0.2666666666666669)",
          "line": {
           "width": 1.3
          },
          "opacity": 0.8,
          "size": [
           12
          ],
          "symbol": "circle"
         },
         "mode": "markers",
         "name": "Packaging and Containers",
         "textfont": {
          "color": "#4D5663"
         },
         "type": "scatter",
         "uid": "61d739d8-647d-4af7-847f-c870b4a8d47c",
         "x": [
          4
         ],
         "y": [
          "Packaging and Containers"
         ]
        },
        {
         "marker": {
          "color": "rgba(128, 128, 0, 0.2666666666666669)",
          "line": {
           "width": 1.3
          },
          "opacity": 0.8,
          "size": [
           13
          ],
          "symbol": "circle"
         },
         "mode": "markers",
         "name": "Industrial Automation",
         "textfont": {
          "color": "#4D5663"
         },
         "type": "scatter",
         "uid": "1f9e4985-3e16-4a13-a24f-8393ed7ef7a1",
         "x": [
          59
         ],
         "y": [
          "Industrial Automation"
         ]
        },
        {
         "marker": {
          "color": "rgba(251, 128, 114, 0.2666666666666669)",
          "line": {
           "width": 1.3
          },
          "opacity": 0.8,
          "size": [
           13
          ],
          "symbol": "circle"
         },
         "mode": "markers",
         "name": "Government Relations",
         "textfont": {
          "color": "#4D5663"
         },
         "type": "scatter",
         "uid": "66bf2306-95a4-44aa-8a27-cf32e3f60ca9",
         "x": [
          38
         ],
         "y": [
          "Government Relations"
         ]
        }
       ],
       "layout": {
        "legend": {
         "bgcolor": "#F5F6F9",
         "font": {
          "color": "#4D5663"
         }
        },
        "paper_bgcolor": "#F5F6F9",
        "plot_bgcolor": "#F5F6F9",
        "title": {
         "font": {
          "color": "#4D5663"
         },
         "text": "Plot Sized by Total Views and Colored by Industry"
        },
        "xaxis": {
         "gridcolor": "#E1E5ED",
         "showgrid": true,
         "tickfont": {
          "color": "#4D5663"
         },
         "title": {
          "font": {
           "color": "#4D5663"
          },
          "text": "Total views"
         },
         "zerolinecolor": "#E1E5ED"
        },
        "yaxis": {
         "gridcolor": "#E1E5ED",
         "showgrid": true,
         "tickfont": {
          "color": "#4D5663"
         },
         "title": {
          "font": {
           "color": "#4D5663"
          },
          "text": "Industry"
         },
         "zerolinecolor": "#E1E5ED"
        }
       }
      },
      "text/html": [
       "<div>\n",
       "        \n",
       "        \n",
       "            <div id=\"6d20683d-3494-4568-a9c2-3af0f4f2a0b0\" class=\"plotly-graph-div\" style=\"height:525px; width:100%;\"></div>\n",
       "            <script type=\"text/javascript\">\n",
       "                require([\"plotly\"], function(Plotly) {\n",
       "                    window.PLOTLYENV=window.PLOTLYENV || {};\n",
       "                    window.PLOTLYENV.BASE_URL='https://plot.ly';\n",
       "                    \n",
       "                if (document.getElementById(\"6d20683d-3494-4568-a9c2-3af0f4f2a0b0\")) {\n",
       "                    Plotly.newPlot(\n",
       "                        '6d20683d-3494-4568-a9c2-3af0f4f2a0b0',\n",
       "                        [{\"marker\": {\"color\": \"rgba(255, 153, 51, 1.0)\", \"line\": {\"width\": 1.3}, \"opacity\": 0.8, \"size\": [13], \"symbol\": \"circle\"}, \"mode\": \"markers\", \"name\": \"Defense & Space\", \"textfont\": {\"color\": \"#4D5663\"}, \"type\": \"scatter\", \"uid\": \"0344e69e-d0e8-4054-9861-93f48a2302d0\", \"x\": [66], \"y\": [\"Defense & Space\"]}, {\"marker\": {\"color\": \"rgba(55, 128, 191, 1.0)\", \"line\": {\"width\": 1.3}, \"opacity\": 0.8, \"size\": [28], \"symbol\": \"circle\"}, \"mode\": \"markers\", \"name\": \"Computer Software\", \"textfont\": {\"color\": \"#4D5663\"}, \"type\": \"scatter\", \"uid\": \"8f56c469-e23b-453c-83d1-dcc99dfd79c1\", \"x\": [564], \"y\": [\"Computer Software\"]}, {\"marker\": {\"color\": \"rgba(50, 171, 96, 1.0)\", \"line\": {\"width\": 1.3}, \"opacity\": 0.8, \"size\": [12], \"symbol\": \"circle\"}, \"mode\": \"markers\", \"name\": \"Computer Networking\", \"textfont\": {\"color\": \"#4D5663\"}, \"type\": \"scatter\", \"uid\": \"a9e5c054-01fc-4108-a07f-fd8c8f850551\", \"x\": [24], \"y\": [\"Computer Networking\"]}, {\"marker\": {\"color\": \"rgba(128, 0, 128, 1.0)\", \"line\": {\"width\": 1.3}, \"opacity\": 0.8, \"size\": [28], \"symbol\": \"circle\"}, \"mode\": \"markers\", \"name\": \"Internet\", \"textfont\": {\"color\": \"#4D5663\"}, \"type\": \"scatter\", \"uid\": \"68d33313-3ca9-4e14-9c9c-0d5144509c12\", \"x\": [553], \"y\": [\"Internet\"]}, {\"marker\": {\"color\": \"rgba(219, 64, 82, 1.0)\", \"line\": {\"width\": 1.3}, \"opacity\": 0.8, \"size\": [12], \"symbol\": \"circle\"}, \"mode\": \"markers\", \"name\": \"Semiconductors\", \"textfont\": {\"color\": \"#4D5663\"}, \"type\": \"scatter\", \"uid\": \"564d13ed-69ae-4995-8788-d00f23ef335f\", \"x\": [16], \"y\": [\"Semiconductors\"]}, {\"marker\": {\"color\": \"rgba(0, 128, 128, 1.0)\", \"line\": {\"width\": 1.3}, \"opacity\": 0.8, \"size\": [15], \"symbol\": \"circle\"}, \"mode\": \"markers\", \"name\": \"Telecommunications\", \"textfont\": {\"color\": \"#4D5663\"}, \"type\": \"scatter\", \"uid\": \"fe91ce18-7bd2-4d45-917a-d045cfdea0f4\", \"x\": [113], \"y\": [\"Telecommunications\"]}, {\"marker\": {\"color\": \"rgba(255, 255, 51, 1.0)\", \"line\": {\"width\": 1.3}, \"opacity\": 0.8, \"size\": [16], \"symbol\": \"circle\"}, \"mode\": \"markers\", \"name\": \"Law Practice\", \"textfont\": {\"color\": \"#4D5663\"}, \"type\": \"scatter\", \"uid\": \"5a9d6ec0-1bd6-4752-aa3e-8267c45c80d9\", \"x\": [137], \"y\": [\"Law Practice\"]}, {\"marker\": {\"color\": \"rgba(128, 128, 0, 1.0)\", \"line\": {\"width\": 1.3}, \"opacity\": 0.8, \"size\": [14], \"symbol\": \"circle\"}, \"mode\": \"markers\", \"name\": \"Legal Services\", \"textfont\": {\"color\": \"#4D5663\"}, \"type\": \"scatter\", \"uid\": \"d7c64050-0025-4958-beba-499f2ea48c5e\", \"x\": [93], \"y\": [\"Legal Services\"]}, {\"marker\": {\"color\": \"rgba(251, 128, 114, 1.0)\", \"line\": {\"width\": 1.3}, \"opacity\": 0.8, \"size\": [20], \"symbol\": \"circle\"}, \"mode\": \"markers\", \"name\": \"Management Consulting\", \"textfont\": {\"color\": \"#4D5663\"}, \"type\": \"scatter\", \"uid\": \"84e37911-dbaf-49c8-bcaa-8376116c5695\", \"x\": [281], \"y\": [\"Management Consulting\"]}, {\"marker\": {\"color\": \"rgba(128, 177, 211, 1.0)\", \"line\": {\"width\": 1.3}, \"opacity\": 0.8, \"size\": [18], \"symbol\": \"circle\"}, \"mode\": \"markers\", \"name\": \"Biotechnology\", \"textfont\": {\"color\": \"#4D5663\"}, \"type\": \"scatter\", \"uid\": \"df7db781-f552-453d-8431-6afe841d0fc4\", \"x\": [220], \"y\": [\"Biotechnology\"]}, {\"marker\": {\"color\": \"rgba(128, 177, 211, 0.9333333333333333)\", \"line\": {\"width\": 1.3}, \"opacity\": 0.8, \"size\": [15], \"symbol\": \"circle\"}, \"mode\": \"markers\", \"name\": \"Medical Practice\", \"textfont\": {\"color\": \"#4D5663\"}, \"type\": \"scatter\", \"uid\": \"91eb4e3c-2a04-49ad-8fb3-a91b1fc072ef\", \"x\": [130], \"y\": [\"Medical Practice\"]}, {\"marker\": {\"color\": \"rgba(255, 153, 51, 0.9333333333333333)\", \"line\": {\"width\": 1.3}, \"opacity\": 0.8, \"size\": [55], \"symbol\": \"circle\"}, \"mode\": \"markers\", \"name\": \"Hospital & Health Care\", \"textfont\": {\"color\": \"#4D5663\"}, \"type\": \"scatter\", \"uid\": \"d80f8700-2c45-4dc7-95a6-d32e4a6a9805\", \"x\": [1476], \"y\": [\"Hospital & Health Care\"]}, {\"marker\": {\"color\": \"rgba(55, 128, 191, 0.9333333333333333)\", \"line\": {\"width\": 1.3}, \"opacity\": 0.8, \"size\": [21], \"symbol\": \"circle\"}, \"mode\": \"markers\", \"name\": \"Pharmaceuticals\", \"textfont\": {\"color\": \"#4D5663\"}, \"type\": \"scatter\", \"uid\": \"cc1e124c-8793-4756-86cc-1a9b2f3fff82\", \"x\": [309], \"y\": [\"Pharmaceuticals\"]}, {\"marker\": {\"color\": \"rgba(50, 171, 96, 0.9333333333333333)\", \"line\": {\"width\": 1.3}, \"opacity\": 0.8, \"size\": [12], \"symbol\": \"circle\"}, \"mode\": \"markers\", \"name\": \"Veterinary\", \"textfont\": {\"color\": \"#4D5663\"}, \"type\": \"scatter\", \"uid\": \"0742a56e-64f0-4045-aa2f-bdf5d75df947\", \"x\": [3], \"y\": [\"Veterinary\"]}, {\"marker\": {\"color\": \"rgba(128, 0, 128, 0.9333333333333333)\", \"line\": {\"width\": 1.3}, \"opacity\": 0.8, \"size\": [16], \"symbol\": \"circle\"}, \"mode\": \"markers\", \"name\": \"Medical Devices\", \"textfont\": {\"color\": \"#4D5663\"}, \"type\": \"scatter\", \"uid\": \"007dac99-baa9-47db-a89c-92bca4dc53f7\", \"x\": [158], \"y\": [\"Medical Devices\"]}, {\"marker\": {\"color\": \"rgba(219, 64, 82, 0.9333333333333333)\", \"line\": {\"width\": 1.3}, \"opacity\": 0.8, \"size\": [12], \"symbol\": \"circle\"}, \"mode\": \"markers\", \"name\": \"Cosmetics\", \"textfont\": {\"color\": \"#4D5663\"}, \"type\": \"scatter\", \"uid\": \"ded60b6d-0a1f-4780-96d3-e6e38c68b231\", \"x\": [19], \"y\": [\"Cosmetics\"]}, {\"marker\": {\"color\": \"rgba(0, 128, 128, 0.9333333333333333)\", \"line\": {\"width\": 1.3}, \"opacity\": 0.8, \"size\": [14], \"symbol\": \"circle\"}, \"mode\": \"markers\", \"name\": \"Apparel & Fashion\", \"textfont\": {\"color\": \"#4D5663\"}, \"type\": \"scatter\", \"uid\": \"c5514f27-52eb-434f-aff4-3ec53d4c48c2\", \"x\": [69], \"y\": [\"Apparel & Fashion\"]}, {\"marker\": {\"color\": \"rgba(255, 255, 51, 0.9333333333333333)\", \"line\": {\"width\": 1.3}, \"opacity\": 0.8, \"size\": [12], \"symbol\": \"circle\"}, \"mode\": \"markers\", \"name\": \"Sporting Goods\", \"textfont\": {\"color\": \"#4D5663\"}, \"type\": \"scatter\", \"uid\": \"f3bdab2d-8450-4f5d-a379-0dadfd4eb903\", \"x\": [19], \"y\": [\"Sporting Goods\"]}, {\"marker\": {\"color\": \"rgba(128, 128, 0, 0.9333333333333333)\", \"line\": {\"width\": 1.3}, \"opacity\": 0.8, \"size\": [12], \"symbol\": \"circle\"}, \"mode\": \"markers\", \"name\": \"Tobacco\", \"textfont\": {\"color\": \"#4D5663\"}, \"type\": \"scatter\", \"uid\": \"55f427e2-68c6-4ac3-bc11-7ed233ca4e66\", \"x\": [1], \"y\": [\"Tobacco\"]}, {\"marker\": {\"color\": \"rgba(251, 128, 114, 0.9333333333333333)\", \"line\": {\"width\": 1.3}, \"opacity\": 0.8, \"size\": [13], \"symbol\": \"circle\"}, \"mode\": \"markers\", \"name\": \"Food Production\", \"textfont\": {\"color\": \"#4D5663\"}, \"type\": \"scatter\", \"uid\": \"941fbc78-22c3-4cf7-ba4e-1ff726ec8cdb\", \"x\": [40], \"y\": [\"Food Production\"]}, {\"marker\": {\"color\": \"rgba(251, 128, 114, 0.8666666666666667)\", \"line\": {\"width\": 1.3}, \"opacity\": 0.8, \"size\": [12], \"symbol\": \"circle\"}, \"mode\": \"markers\", \"name\": \"Consumer Electronics\", \"textfont\": {\"color\": \"#4D5663\"}, \"type\": \"scatter\", \"uid\": \"f56eb6ad-6d87-45b0-a1f3-f26bc6d6af16\", \"x\": [20], \"y\": [\"Consumer Electronics\"]}, {\"marker\": {\"color\": \"rgba(128, 177, 211, 0.8666666666666667)\", \"line\": {\"width\": 1.3}, \"opacity\": 0.8, \"size\": [15], \"symbol\": \"circle\"}, \"mode\": \"markers\", \"name\": \"Consumer Goods\", \"textfont\": {\"color\": \"#4D5663\"}, \"type\": \"scatter\", \"uid\": \"cb9435d3-aa0c-4dda-8738-01c3b11ebe25\", \"x\": [120], \"y\": [\"Consumer Goods\"]}, {\"marker\": {\"color\": \"rgba(255, 153, 51, 0.8666666666666667)\", \"line\": {\"width\": 1.3}, \"opacity\": 0.8, \"size\": [12], \"symbol\": \"circle\"}, \"mode\": \"markers\", \"name\": \"Furniture\", \"textfont\": {\"color\": \"#4D5663\"}, \"type\": \"scatter\", \"uid\": \"794e0682-4f1a-487e-9196-24a4ec0369ee\", \"x\": [12], \"y\": [\"Furniture\"]}, {\"marker\": {\"color\": \"rgba(55, 128, 191, 0.8666666666666667)\", \"line\": {\"width\": 1.3}, \"opacity\": 0.8, \"size\": [29], \"symbol\": \"circle\"}, \"mode\": \"markers\", \"name\": \"Retail\", \"textfont\": {\"color\": \"#4D5663\"}, \"type\": \"scatter\", \"uid\": \"dc549821-a71a-4011-8ac6-bdbe601314bf\", \"x\": [589], \"y\": [\"Retail\"]}, {\"marker\": {\"color\": \"rgba(50, 171, 96, 0.8666666666666667)\", \"line\": {\"width\": 1.3}, \"opacity\": 0.8, \"size\": [15], \"symbol\": \"circle\"}, \"mode\": \"markers\", \"name\": \"Entertainment\", \"textfont\": {\"color\": \"#4D5663\"}, \"type\": \"scatter\", \"uid\": \"d35e289a-39c2-4642-81c0-a6ce59feb344\", \"x\": [106], \"y\": [\"Entertainment\"]}, {\"marker\": {\"color\": \"rgba(128, 0, 128, 0.8666666666666667)\", \"line\": {\"width\": 1.3}, \"opacity\": 0.8, \"size\": [13], \"symbol\": \"circle\"}, \"mode\": \"markers\", \"name\": \"Leisure, Travel & Tourism\", \"textfont\": {\"color\": \"#4D5663\"}, \"type\": \"scatter\", \"uid\": \"5dce8265-57ef-4225-b291-c56dbb732695\", \"x\": [40], \"y\": [\"Leisure, Travel & Tourism\"]}, {\"marker\": {\"color\": \"rgba(219, 64, 82, 0.8666666666666667)\", \"line\": {\"width\": 1.3}, \"opacity\": 0.8, \"size\": [17], \"symbol\": \"circle\"}, \"mode\": \"markers\", \"name\": \"Hospitality\", \"textfont\": {\"color\": \"#4D5663\"}, \"type\": \"scatter\", \"uid\": \"7c8dc459-4d29-4766-a11b-a276a2aa67c7\", \"x\": [200], \"y\": [\"Hospitality\"]}, {\"marker\": {\"color\": \"rgba(0, 128, 128, 0.8666666666666667)\", \"line\": {\"width\": 1.3}, \"opacity\": 0.8, \"size\": [18], \"symbol\": \"circle\"}, \"mode\": \"markers\", \"name\": \"Restaurants\", \"textfont\": {\"color\": \"#4D5663\"}, \"type\": \"scatter\", \"uid\": \"c9ac86e8-5e8a-4301-bf68-dcae32f6e726\", \"x\": [215], \"y\": [\"Restaurants\"]}, {\"marker\": {\"color\": \"rgba(255, 255, 51, 0.8666666666666667)\", \"line\": {\"width\": 1.3}, \"opacity\": 0.8, \"size\": [18], \"symbol\": \"circle\"}, \"mode\": \"markers\", \"name\": \"Sports\", \"textfont\": {\"color\": \"#4D5663\"}, \"type\": \"scatter\", \"uid\": \"3f6a0058-a2af-436c-8688-e14cef0426c4\", \"x\": [217], \"y\": [\"Sports\"]}, {\"marker\": {\"color\": \"rgba(128, 128, 0, 0.8666666666666667)\", \"line\": {\"width\": 1.3}, \"opacity\": 0.8, \"size\": [17], \"symbol\": \"circle\"}, \"mode\": \"markers\", \"name\": \"Food & Beverages\", \"textfont\": {\"color\": \"#4D5663\"}, \"type\": \"scatter\", \"uid\": \"7507d563-a4f7-4649-8118-5c321fd96647\", \"x\": [181], \"y\": [\"Food & Beverages\"]}, {\"marker\": {\"color\": \"rgba(128, 128, 0, 0.8)\", \"line\": {\"width\": 1.3}, \"opacity\": 0.8, \"size\": [14], \"symbol\": \"circle\"}, \"mode\": \"markers\", \"name\": \"Broadcast Media\", \"textfont\": {\"color\": \"#4D5663\"}, \"type\": \"scatter\", \"uid\": \"78d76a2f-8bd1-475f-b5ef-7ecee44f90ae\", \"x\": [93], \"y\": [\"Broadcast Media\"]}, {\"marker\": {\"color\": \"rgba(251, 128, 114, 0.8)\", \"line\": {\"width\": 1.3}, \"opacity\": 0.8, \"size\": [13], \"symbol\": \"circle\"}, \"mode\": \"markers\", \"name\": \"Museums and Institutions\", \"textfont\": {\"color\": \"#4D5663\"}, \"type\": \"scatter\", \"uid\": \"001dbe55-c6cc-4869-8302-d724f2c0abfa\", \"x\": [58], \"y\": [\"Museums and Institutions\"]}, {\"marker\": {\"color\": \"rgba(128, 177, 211, 0.8)\", \"line\": {\"width\": 1.3}, \"opacity\": 0.8, \"size\": [12], \"symbol\": \"circle\"}, \"mode\": \"markers\", \"name\": \"Fine Art\", \"textfont\": {\"color\": \"#4D5663\"}, \"type\": \"scatter\", \"uid\": \"14b7ac05-e6ab-41f8-9dd7-01c92df1ba7d\", \"x\": [2], \"y\": [\"Fine Art\"]}, {\"marker\": {\"color\": \"rgba(255, 153, 51, 0.8)\", \"line\": {\"width\": 1.3}, \"opacity\": 0.8, \"size\": [12], \"symbol\": \"circle\"}, \"mode\": \"markers\", \"name\": \"Performing Arts\", \"textfont\": {\"color\": \"#4D5663\"}, \"type\": \"scatter\", \"uid\": \"60e8a3c0-178c-4040-abed-fbdd2e47a464\", \"x\": [20], \"y\": [\"Performing Arts\"]}, {\"marker\": {\"color\": \"rgba(55, 128, 191, 0.8)\", \"line\": {\"width\": 1.3}, \"opacity\": 0.8, \"size\": [12], \"symbol\": \"circle\"}, \"mode\": \"markers\", \"name\": \"Recreational Facilities and Services\", \"textfont\": {\"color\": \"#4D5663\"}, \"type\": \"scatter\", \"uid\": \"bfe826fd-3e0e-47dc-beb0-6010f5c9ec87\", \"x\": [24], \"y\": [\"Recreational Facilities and Services\"]}, {\"marker\": {\"color\": \"rgba(50, 171, 96, 0.8)\", \"line\": {\"width\": 1.3}, \"opacity\": 0.8, \"size\": [16], \"symbol\": \"circle\"}, \"mode\": \"markers\", \"name\": \"Banking\", \"textfont\": {\"color\": \"#4D5663\"}, \"type\": \"scatter\", \"uid\": \"fd5dfbc9-cdf3-434e-ab12-b0786a043446\", \"x\": [151], \"y\": [\"Banking\"]}, {\"marker\": {\"color\": \"rgba(128, 0, 128, 0.8)\", \"line\": {\"width\": 1.3}, \"opacity\": 0.8, \"size\": [22], \"symbol\": \"circle\"}, \"mode\": \"markers\", \"name\": \"Insurance\", \"textfont\": {\"color\": \"#4D5663\"}, \"type\": \"scatter\", \"uid\": \"3b3b9857-893c-4257-8382-d674a7b0dc96\", \"x\": [352], \"y\": [\"Insurance\"]}, {\"marker\": {\"color\": \"rgba(219, 64, 82, 0.8)\", \"line\": {\"width\": 1.3}, \"opacity\": 0.8, \"size\": [26], \"symbol\": \"circle\"}, \"mode\": \"markers\", \"name\": \"Financial Services\", \"textfont\": {\"color\": \"#4D5663\"}, \"type\": \"scatter\", \"uid\": \"85d0867b-95e4-4fb1-9403-e3571171a023\", \"x\": [499], \"y\": [\"Financial Services\"]}, {\"marker\": {\"color\": \"rgba(0, 128, 128, 0.8)\", \"line\": {\"width\": 1.3}, \"opacity\": 0.8, \"size\": [18], \"symbol\": \"circle\"}, \"mode\": \"markers\", \"name\": \"Real Estate\", \"textfont\": {\"color\": \"#4D5663\"}, \"type\": \"scatter\", \"uid\": \"9582e583-4f5a-4a40-9b92-c76fa3a2495b\", \"x\": [218], \"y\": [\"Real Estate\"]}, {\"marker\": {\"color\": \"rgba(255, 255, 51, 0.8)\", \"line\": {\"width\": 1.3}, \"opacity\": 0.8, \"size\": [13], \"symbol\": \"circle\"}, \"mode\": \"markers\", \"name\": \"Investment Management\", \"textfont\": {\"color\": \"#4D5663\"}, \"type\": \"scatter\", \"uid\": \"6a1381f3-71ee-4ac1-9df7-1b58b3b4dd6b\", \"x\": [40], \"y\": [\"Investment Management\"]}, {\"marker\": {\"color\": \"rgba(255, 255, 51, 0.7333333333333334)\", \"line\": {\"width\": 1.3}, \"opacity\": 0.8, \"size\": [18], \"symbol\": \"circle\"}, \"mode\": \"markers\", \"name\": \"Accounting\", \"textfont\": {\"color\": \"#4D5663\"}, \"type\": \"scatter\", \"uid\": \"492b7226-e573-4f2c-acc1-5daa955c8c6c\", \"x\": [206], \"y\": [\"Accounting\"]}, {\"marker\": {\"color\": \"rgba(128, 128, 0, 0.7333333333333334)\", \"line\": {\"width\": 1.3}, \"opacity\": 0.8, \"size\": [19], \"symbol\": \"circle\"}, \"mode\": \"markers\", \"name\": \"Construction\", \"textfont\": {\"color\": \"#4D5663\"}, \"type\": \"scatter\", \"uid\": \"7acc4b54-e440-4e6e-9d8d-a09a1f54116f\", \"x\": [253], \"y\": [\"Construction\"]}, {\"marker\": {\"color\": \"rgba(251, 128, 114, 0.7333333333333334)\", \"line\": {\"width\": 1.3}, \"opacity\": 0.8, \"size\": [13], \"symbol\": \"circle\"}, \"mode\": \"markers\", \"name\": \"Building Materials\", \"textfont\": {\"color\": \"#4D5663\"}, \"type\": \"scatter\", \"uid\": \"f180af80-cd86-46a0-a000-c82220f8fc09\", \"x\": [54], \"y\": [\"Building Materials\"]}, {\"marker\": {\"color\": \"rgba(128, 177, 211, 0.7333333333333334)\", \"line\": {\"width\": 1.3}, \"opacity\": 0.8, \"size\": [13], \"symbol\": \"circle\"}, \"mode\": \"markers\", \"name\": \"Architecture & Planning\", \"textfont\": {\"color\": \"#4D5663\"}, \"type\": \"scatter\", \"uid\": \"5ec46368-a091-4644-b264-79050ab28a3c\", \"x\": [61], \"y\": [\"Architecture & Planning\"]}, {\"marker\": {\"color\": \"rgba(255, 153, 51, 0.7333333333333334)\", \"line\": {\"width\": 1.3}, \"opacity\": 0.8, \"size\": [13], \"symbol\": \"circle\"}, \"mode\": \"markers\", \"name\": \"Civil Engineering\", \"textfont\": {\"color\": \"#4D5663\"}, \"type\": \"scatter\", \"uid\": \"a369f9a6-77e3-4d51-a313-c71bc6d96009\", \"x\": [62], \"y\": [\"Civil Engineering\"]}, {\"marker\": {\"color\": \"rgba(55, 128, 191, 0.7333333333333334)\", \"line\": {\"width\": 1.3}, \"opacity\": 0.8, \"size\": [14], \"symbol\": \"circle\"}, \"mode\": \"markers\", \"name\": \"Aviation & Aerospace\", \"textfont\": {\"color\": \"#4D5663\"}, \"type\": \"scatter\", \"uid\": \"d662a847-844c-46e0-b865-9eb6d17b85da\", \"x\": [96], \"y\": [\"Aviation & Aerospace\"]}, {\"marker\": {\"color\": \"rgba(50, 171, 96, 0.7333333333333334)\", \"line\": {\"width\": 1.3}, \"opacity\": 0.8, \"size\": [26], \"symbol\": \"circle\"}, \"mode\": \"markers\", \"name\": \"Automotive\", \"textfont\": {\"color\": \"#4D5663\"}, \"type\": \"scatter\", \"uid\": \"8126b4d4-c669-43bd-b7ab-25f700a72bdb\", \"x\": [490], \"y\": [\"Automotive\"]}, {\"marker\": {\"color\": \"rgba(128, 0, 128, 0.7333333333333334)\", \"line\": {\"width\": 1.3}, \"opacity\": 0.8, \"size\": [14], \"symbol\": \"circle\"}, \"mode\": \"markers\", \"name\": \"Chemicals\", \"textfont\": {\"color\": \"#4D5663\"}, \"type\": \"scatter\", \"uid\": \"686e43f6-dd38-47f0-afff-bfdf07866516\", \"x\": [73], \"y\": [\"Chemicals\"]}, {\"marker\": {\"color\": \"rgba(219, 64, 82, 0.7333333333333334)\", \"line\": {\"width\": 1.3}, \"opacity\": 0.8, \"size\": [14], \"symbol\": \"circle\"}, \"mode\": \"markers\", \"name\": \"Machinery\", \"textfont\": {\"color\": \"#4D5663\"}, \"type\": \"scatter\", \"uid\": \"3b464413-a246-4266-8fa1-db530fc86739\", \"x\": [98], \"y\": [\"Machinery\"]}, {\"marker\": {\"color\": \"rgba(0, 128, 128, 0.7333333333333334)\", \"line\": {\"width\": 1.3}, \"opacity\": 0.8, \"size\": [12], \"symbol\": \"circle\"}, \"mode\": \"markers\", \"name\": \"Mining & Metals\", \"textfont\": {\"color\": \"#4D5663\"}, \"type\": \"scatter\", \"uid\": \"5cf89028-3157-4fd8-96d5-facac2af641b\", \"x\": [31], \"y\": [\"Mining & Metals\"]}, {\"marker\": {\"color\": \"rgba(0, 128, 128, 0.6666666666666667)\", \"line\": {\"width\": 1.3}, \"opacity\": 0.8, \"size\": [14], \"symbol\": \"circle\"}, \"mode\": \"markers\", \"name\": \"Oil & Energy\", \"textfont\": {\"color\": \"#4D5663\"}, \"type\": \"scatter\", \"uid\": \"159ad3e5-7372-46a9-ba6a-3cdae3d2c527\", \"x\": [85], \"y\": [\"Oil & Energy\"]}, {\"marker\": {\"color\": \"rgba(255, 255, 51, 0.6666666666666667)\", \"line\": {\"width\": 1.3}, \"opacity\": 0.8, \"size\": [15], \"symbol\": \"circle\"}, \"mode\": \"markers\", \"name\": \"Utilities\", \"textfont\": {\"color\": \"#4D5663\"}, \"type\": \"scatter\", \"uid\": \"c38683ef-3820-4fa9-96fb-87831d185dc4\", \"x\": [117], \"y\": [\"Utilities\"]}, {\"marker\": {\"color\": \"rgba(128, 128, 0, 0.6666666666666667)\", \"line\": {\"width\": 1.3}, \"opacity\": 0.8, \"size\": [12], \"symbol\": \"circle\"}, \"mode\": \"markers\", \"name\": \"Textiles\", \"textfont\": {\"color\": \"#4D5663\"}, \"type\": \"scatter\", \"uid\": \"c738663e-4b1c-4801-a768-6b7c1bf82b0c\", \"x\": [2], \"y\": [\"Textiles\"]}, {\"marker\": {\"color\": \"rgba(251, 128, 114, 0.6666666666666667)\", \"line\": {\"width\": 1.3}, \"opacity\": 0.8, \"size\": [13], \"symbol\": \"circle\"}, \"mode\": \"markers\", \"name\": \"Farming\", \"textfont\": {\"color\": \"#4D5663\"}, \"type\": \"scatter\", \"uid\": \"f5ae11e3-a62b-4f7a-b47a-c653363a7d0e\", \"x\": [41], \"y\": [\"Farming\"]}, {\"marker\": {\"color\": \"rgba(128, 177, 211, 0.6666666666666667)\", \"line\": {\"width\": 1.3}, \"opacity\": 0.8, \"size\": [17], \"symbol\": \"circle\"}, \"mode\": \"markers\", \"name\": \"Primary/Secondary Education\", \"textfont\": {\"color\": \"#4D5663\"}, \"type\": \"scatter\", \"uid\": \"2870de1e-a939-40f3-a4b9-be0a4fc915a4\", \"x\": [183], \"y\": [\"Primary/Secondary Education\"]}, {\"marker\": {\"color\": \"rgba(255, 153, 51, 0.6666666666666667)\", \"line\": {\"width\": 1.3}, \"opacity\": 0.8, \"size\": [112], \"symbol\": \"circle\"}, \"mode\": \"markers\", \"name\": \"Higher Education\", \"textfont\": {\"color\": \"#4D5663\"}, \"type\": \"scatter\", \"uid\": \"5abaa493-f489-40de-8219-1e514823de5c\", \"x\": [3373], \"y\": [\"Higher Education\"]}, {\"marker\": {\"color\": \"rgba(55, 128, 191, 0.6666666666666667)\", \"line\": {\"width\": 1.3}, \"opacity\": 0.8, \"size\": [29], \"symbol\": \"circle\"}, \"mode\": \"markers\", \"name\": \"Education Management\", \"textfont\": {\"color\": \"#4D5663\"}, \"type\": \"scatter\", \"uid\": \"33f7d16d-18b7-44a3-96ee-850e3446213e\", \"x\": [577], \"y\": [\"Education Management\"]}, {\"marker\": {\"color\": \"rgba(50, 171, 96, 0.6666666666666667)\", \"line\": {\"width\": 1.3}, \"opacity\": 0.8, \"size\": [25], \"symbol\": \"circle\"}, \"mode\": \"markers\", \"name\": \"Research\", \"textfont\": {\"color\": \"#4D5663\"}, \"type\": \"scatter\", \"uid\": \"6deeaf03-9279-4f9a-bd2b-7e40b517aa2a\", \"x\": [473], \"y\": [\"Research\"]}, {\"marker\": {\"color\": \"rgba(128, 0, 128, 0.6666666666666667)\", \"line\": {\"width\": 1.3}, \"opacity\": 0.8, \"size\": [17], \"symbol\": \"circle\"}, \"mode\": \"markers\", \"name\": \"Military\", \"textfont\": {\"color\": \"#4D5663\"}, \"type\": \"scatter\", \"uid\": \"70fff631-70b2-4191-b08b-f51182ccaf68\", \"x\": [178], \"y\": [\"Military\"]}, {\"marker\": {\"color\": \"rgba(219, 64, 82, 0.6666666666666667)\", \"line\": {\"width\": 1.3}, \"opacity\": 0.8, \"size\": [12], \"symbol\": \"circle\"}, \"mode\": \"markers\", \"name\": \"Legislative Office\", \"textfont\": {\"color\": \"#4D5663\"}, \"type\": \"scatter\", \"uid\": \"3fc15700-60ea-485b-b188-300f5bff8664\", \"x\": [2], \"y\": [\"Legislative Office\"]}, {\"marker\": {\"color\": \"rgba(219, 64, 82, 0.6000000000000001)\", \"line\": {\"width\": 1.3}, \"opacity\": 0.8, \"size\": [12], \"symbol\": \"circle\"}, \"mode\": \"markers\", \"name\": \"International Affairs\", \"textfont\": {\"color\": \"#4D5663\"}, \"type\": \"scatter\", \"uid\": \"66f8c601-5a32-4d82-8d87-548847a9da9c\", \"x\": [32], \"y\": [\"International Affairs\"]}, {\"marker\": {\"color\": \"rgba(0, 128, 128, 0.6000000000000001)\", \"line\": {\"width\": 1.3}, \"opacity\": 0.8, \"size\": [21], \"symbol\": \"circle\"}, \"mode\": \"markers\", \"name\": \"Government Administration\", \"textfont\": {\"color\": \"#4D5663\"}, \"type\": \"scatter\", \"uid\": \"b40d4d02-3d00-4de8-9e74-603b41898a0e\", \"x\": [317], \"y\": [\"Government Administration\"]}, {\"marker\": {\"color\": \"rgba(255, 255, 51, 0.6000000000000001)\", \"line\": {\"width\": 1.3}, \"opacity\": 0.8, \"size\": [12], \"symbol\": \"circle\"}, \"mode\": \"markers\", \"name\": \"Law Enforcement\", \"textfont\": {\"color\": \"#4D5663\"}, \"type\": \"scatter\", \"uid\": \"7b0df6f3-b090-4e88-9491-e3c8bc30a34f\", \"x\": [31], \"y\": [\"Law Enforcement\"]}, {\"marker\": {\"color\": \"rgba(128, 128, 0, 0.6000000000000001)\", \"line\": {\"width\": 1.3}, \"opacity\": 0.8, \"size\": [13], \"symbol\": \"circle\"}, \"mode\": \"markers\", \"name\": \"Public Safety\", \"textfont\": {\"color\": \"#4D5663\"}, \"type\": \"scatter\", \"uid\": \"dbf32e45-dbc5-4469-91aa-6cbc04f1916d\", \"x\": [44], \"y\": [\"Public Safety\"]}, {\"marker\": {\"color\": \"rgba(251, 128, 114, 0.6000000000000001)\", \"line\": {\"width\": 1.3}, \"opacity\": 0.8, \"size\": [13], \"symbol\": \"circle\"}, \"mode\": \"markers\", \"name\": \"Public Policy\", \"textfont\": {\"color\": \"#4D5663\"}, \"type\": \"scatter\", \"uid\": \"d78a5d13-6765-4610-ac71-49ebe8869c67\", \"x\": [54], \"y\": [\"Public Policy\"]}, {\"marker\": {\"color\": \"rgba(128, 177, 211, 0.6000000000000001)\", \"line\": {\"width\": 1.3}, \"opacity\": 0.8, \"size\": [25], \"symbol\": \"circle\"}, \"mode\": \"markers\", \"name\": \"Marketing and Advertising\", \"textfont\": {\"color\": \"#4D5663\"}, \"type\": \"scatter\", \"uid\": \"4fe76036-ebd3-4265-90bb-d22a7ceb7391\", \"x\": [463], \"y\": [\"Marketing and Advertising\"]}, {\"marker\": {\"color\": \"rgba(255, 153, 51, 0.6000000000000001)\", \"line\": {\"width\": 1.3}, \"opacity\": 0.8, \"size\": [12], \"symbol\": \"circle\"}, \"mode\": \"markers\", \"name\": \"Newspapers\", \"textfont\": {\"color\": \"#4D5663\"}, \"type\": \"scatter\", \"uid\": \"c1854e90-5fef-4938-b4ab-3b5c797a4828\", \"x\": [4], \"y\": [\"Newspapers\"]}, {\"marker\": {\"color\": \"rgba(55, 128, 191, 0.6000000000000001)\", \"line\": {\"width\": 1.3}, \"opacity\": 0.8, \"size\": [14], \"symbol\": \"circle\"}, \"mode\": \"markers\", \"name\": \"Publishing\", \"textfont\": {\"color\": \"#4D5663\"}, \"type\": \"scatter\", \"uid\": \"02b0bb26-7326-4da9-954d-4d860c0a14ba\", \"x\": [92], \"y\": [\"Publishing\"]}, {\"marker\": {\"color\": \"rgba(50, 171, 96, 0.6000000000000001)\", \"line\": {\"width\": 1.3}, \"opacity\": 0.8, \"size\": [12], \"symbol\": \"circle\"}, \"mode\": \"markers\", \"name\": \"Printing\", \"textfont\": {\"color\": \"#4D5663\"}, \"type\": \"scatter\", \"uid\": \"4e869485-b7d4-47ad-bced-648a66edf840\", \"x\": [2], \"y\": [\"Printing\"]}, {\"marker\": {\"color\": \"rgba(128, 0, 128, 0.6000000000000001)\", \"line\": {\"width\": 1.3}, \"opacity\": 0.8, \"size\": [13], \"symbol\": \"circle\"}, \"mode\": \"markers\", \"name\": \"Information Services\", \"textfont\": {\"color\": \"#4D5663\"}, \"type\": \"scatter\", \"uid\": \"98a36f8a-3bfe-443e-8579-ed4bd6eb1980\", \"x\": [57], \"y\": [\"Information Services\"]}, {\"marker\": {\"color\": \"rgba(128, 0, 128, 0.5333333333333334)\", \"line\": {\"width\": 1.3}, \"opacity\": 0.8, \"size\": [13], \"symbol\": \"circle\"}, \"mode\": \"markers\", \"name\": \"Libraries\", \"textfont\": {\"color\": \"#4D5663\"}, \"type\": \"scatter\", \"uid\": \"435ca7b4-72ad-4e46-bb15-b1b5e4dfbef6\", \"x\": [50], \"y\": [\"Libraries\"]}, {\"marker\": {\"color\": \"rgba(219, 64, 82, 0.5333333333333334)\", \"line\": {\"width\": 1.3}, \"opacity\": 0.8, \"size\": [14], \"symbol\": \"circle\"}, \"mode\": \"markers\", \"name\": \"Environmental Services\", \"textfont\": {\"color\": \"#4D5663\"}, \"type\": \"scatter\", \"uid\": \"7c11f860-6e41-48c7-ac2d-4486424f8455\", \"x\": [94], \"y\": [\"Environmental Services\"]}, {\"marker\": {\"color\": \"rgba(0, 128, 128, 0.5333333333333334)\", \"line\": {\"width\": 1.3}, \"opacity\": 0.8, \"size\": [14], \"symbol\": \"circle\"}, \"mode\": \"markers\", \"name\": \"Individual & Family Services\", \"textfont\": {\"color\": \"#4D5663\"}, \"type\": \"scatter\", \"uid\": \"5c70e76d-7c28-4e2d-ac74-3696703651a2\", \"x\": [91], \"y\": [\"Individual & Family Services\"]}, {\"marker\": {\"color\": \"rgba(255, 255, 51, 0.5333333333333334)\", \"line\": {\"width\": 1.3}, \"opacity\": 0.8, \"size\": [14], \"symbol\": \"circle\"}, \"mode\": \"markers\", \"name\": \"Religious Institutions\", \"textfont\": {\"color\": \"#4D5663\"}, \"type\": \"scatter\", \"uid\": \"8bd54deb-00fb-406e-9369-df28badf5ff2\", \"x\": [88], \"y\": [\"Religious Institutions\"]}, {\"marker\": {\"color\": \"rgba(128, 128, 0, 0.5333333333333334)\", \"line\": {\"width\": 1.3}, \"opacity\": 0.8, \"size\": [14], \"symbol\": \"circle\"}, \"mode\": \"markers\", \"name\": \"Civic & Social Organization\", \"textfont\": {\"color\": \"#4D5663\"}, \"type\": \"scatter\", \"uid\": \"392dd893-bac1-4596-92f8-988c8c709f59\", \"x\": [89], \"y\": [\"Civic & Social Organization\"]}, {\"marker\": {\"color\": \"rgba(251, 128, 114, 0.5333333333333334)\", \"line\": {\"width\": 1.3}, \"opacity\": 0.8, \"size\": [14], \"symbol\": \"circle\"}, \"mode\": \"markers\", \"name\": \"Consumer Services\", \"textfont\": {\"color\": \"#4D5663\"}, \"type\": \"scatter\", \"uid\": \"c6c81660-03cf-4451-9c92-35770619a87e\", \"x\": [86], \"y\": [\"Consumer Services\"]}, {\"marker\": {\"color\": \"rgba(128, 177, 211, 0.5333333333333334)\", \"line\": {\"width\": 1.3}, \"opacity\": 0.8, \"size\": [15], \"symbol\": \"circle\"}, \"mode\": \"markers\", \"name\": \"Transportation/Trucking/Railroad\", \"textfont\": {\"color\": \"#4D5663\"}, \"type\": \"scatter\", \"uid\": \"b8ddcd90-0275-47db-b584-bafd8dd4d5dd\", \"x\": [131], \"y\": [\"Transportation/Trucking/Railroad\"]}, {\"marker\": {\"color\": \"rgba(255, 153, 51, 0.5333333333333334)\", \"line\": {\"width\": 1.3}, \"opacity\": 0.8, \"size\": [13], \"symbol\": \"circle\"}, \"mode\": \"markers\", \"name\": \"Airlines/Aviation\", \"textfont\": {\"color\": \"#4D5663\"}, \"type\": \"scatter\", \"uid\": \"d9dbc643-f926-49ad-b918-8f717f4f428e\", \"x\": [63], \"y\": [\"Airlines/Aviation\"]}, {\"marker\": {\"color\": \"rgba(55, 128, 191, 0.5333333333333334)\", \"line\": {\"width\": 1.3}, \"opacity\": 0.8, \"size\": [47], \"symbol\": \"circle\"}, \"mode\": \"markers\", \"name\": \"Information Technology and Services\", \"textfont\": {\"color\": \"#4D5663\"}, \"type\": \"scatter\", \"uid\": \"6f7e8b24-5d84-494d-b981-f0798118cd8e\", \"x\": [1186], \"y\": [\"Information Technology and Services\"]}, {\"marker\": {\"color\": \"rgba(50, 171, 96, 0.5333333333333334)\", \"line\": {\"width\": 1.3}, \"opacity\": 0.8, \"size\": [13], \"symbol\": \"circle\"}, \"mode\": \"markers\", \"name\": \"Market Research\", \"textfont\": {\"color\": \"#4D5663\"}, \"type\": \"scatter\", \"uid\": \"4ea3f396-ccba-4c64-8309-4fb46bd6d58f\", \"x\": [35], \"y\": [\"Market Research\"]}, {\"marker\": {\"color\": \"rgba(50, 171, 96, 0.46666666666666684)\", \"line\": {\"width\": 1.3}, \"opacity\": 0.8, \"size\": [13], \"symbol\": \"circle\"}, \"mode\": \"markers\", \"name\": \"Public Relations and Communications\", \"textfont\": {\"color\": \"#4D5663\"}, \"type\": \"scatter\", \"uid\": \"1ef96403-ae42-41d5-aa45-db34ed5757cd\", \"x\": [67], \"y\": [\"Public Relations and Communications\"]}, {\"marker\": {\"color\": \"rgba(128, 0, 128, 0.46666666666666684)\", \"line\": {\"width\": 1.3}, \"opacity\": 0.8, \"size\": [15], \"symbol\": \"circle\"}, \"mode\": \"markers\", \"name\": \"Design\", \"textfont\": {\"color\": \"#4D5663\"}, \"type\": \"scatter\", \"uid\": \"d7044875-9048-49d3-8dff-6afdc92d3a59\", \"x\": [108], \"y\": [\"Design\"]}, {\"marker\": {\"color\": \"rgba(219, 64, 82, 0.46666666666666684)\", \"line\": {\"width\": 1.3}, \"opacity\": 0.8, \"size\": [28], \"symbol\": \"circle\"}, \"mode\": \"markers\", \"name\": \"Nonprofit Organization Management\", \"textfont\": {\"color\": \"#4D5663\"}, \"type\": \"scatter\", \"uid\": \"a483cdb2-25d0-4f2b-93e9-c851f7813d0e\", \"x\": [570], \"y\": [\"Nonprofit Organization Management\"]}, {\"marker\": {\"color\": \"rgba(0, 128, 128, 0.46666666666666684)\", \"line\": {\"width\": 1.3}, \"opacity\": 0.8, \"size\": [13], \"symbol\": \"circle\"}, \"mode\": \"markers\", \"name\": \"Fund-Raising\", \"textfont\": {\"color\": \"#4D5663\"}, \"type\": \"scatter\", \"uid\": \"16fcf015-e5f3-4d9f-b9b9-1145a3fb38bc\", \"x\": [40], \"y\": [\"Fund-Raising\"]}, {\"marker\": {\"color\": \"rgba(255, 255, 51, 0.46666666666666684)\", \"line\": {\"width\": 1.3}, \"opacity\": 0.8, \"size\": [15], \"symbol\": \"circle\"}, \"mode\": \"markers\", \"name\": \"Program Development\", \"textfont\": {\"color\": \"#4D5663\"}, \"type\": \"scatter\", \"uid\": \"05b9b3bb-d5d3-42bd-8c0f-1b1b97b93095\", \"x\": [119], \"y\": [\"Program Development\"]}, {\"marker\": {\"color\": \"rgba(128, 128, 0, 0.46666666666666684)\", \"line\": {\"width\": 1.3}, \"opacity\": 0.8, \"size\": [14], \"symbol\": \"circle\"}, \"mode\": \"markers\", \"name\": \"Writing and Editing\", \"textfont\": {\"color\": \"#4D5663\"}, \"type\": \"scatter\", \"uid\": \"1cd0bf7f-980a-4d92-9963-7114f1a6adac\", \"x\": [83], \"y\": [\"Writing and Editing\"]}, {\"marker\": {\"color\": \"rgba(251, 128, 114, 0.46666666666666684)\", \"line\": {\"width\": 1.3}, \"opacity\": 0.8, \"size\": [24], \"symbol\": \"circle\"}, \"mode\": \"markers\", \"name\": \"Staffing and Recruiting\", \"textfont\": {\"color\": \"#4D5663\"}, \"type\": \"scatter\", \"uid\": \"3933682b-b8f4-481b-9c2d-bcad8d8abd49\", \"x\": [428], \"y\": [\"Staffing and Recruiting\"]}, {\"marker\": {\"color\": \"rgba(128, 177, 211, 0.46666666666666684)\", \"line\": {\"width\": 1.3}, \"opacity\": 0.8, \"size\": [15], \"symbol\": \"circle\"}, \"mode\": \"markers\", \"name\": \"Professional Training & Coaching\", \"textfont\": {\"color\": \"#4D5663\"}, \"type\": \"scatter\", \"uid\": \"45175300-9c5e-441b-b7dc-d584f390deaf\", \"x\": [133], \"y\": [\"Professional Training & Coaching\"]}, {\"marker\": {\"color\": \"rgba(255, 153, 51, 0.46666666666666684)\", \"line\": {\"width\": 1.3}, \"opacity\": 0.8, \"size\": [12], \"symbol\": \"circle\"}, \"mode\": \"markers\", \"name\": \"Venture Capital & Private Equity\", \"textfont\": {\"color\": \"#4D5663\"}, \"type\": \"scatter\", \"uid\": \"c9ef691b-9077-4033-9ec6-7fe62527d038\", \"x\": [32], \"y\": [\"Venture Capital & Private Equity\"]}, {\"marker\": {\"color\": \"rgba(55, 128, 191, 0.46666666666666684)\", \"line\": {\"width\": 1.3}, \"opacity\": 0.8, \"size\": [12], \"symbol\": \"circle\"}, \"mode\": \"markers\", \"name\": \"Political Organization\", \"textfont\": {\"color\": \"#4D5663\"}, \"type\": \"scatter\", \"uid\": \"5754b5f5-bef4-4ba8-a789-58263d88536b\", \"x\": [4], \"y\": [\"Political Organization\"]}, {\"marker\": {\"color\": \"rgba(55, 128, 191, 0.4000000000000002)\", \"line\": {\"width\": 1.3}, \"opacity\": 0.8, \"size\": [12], \"symbol\": \"circle\"}, \"mode\": \"markers\", \"name\": \"Computer Games\", \"textfont\": {\"color\": \"#4D5663\"}, \"type\": \"scatter\", \"uid\": \"326c950a-d20c-4a6b-a5fb-ec06c9c12233\", \"x\": [1], \"y\": [\"Computer Games\"]}, {\"marker\": {\"color\": \"rgba(50, 171, 96, 0.4000000000000002)\", \"line\": {\"width\": 1.3}, \"opacity\": 0.8, \"size\": [14], \"symbol\": \"circle\"}, \"mode\": \"markers\", \"name\": \"Events Services\", \"textfont\": {\"color\": \"#4D5663\"}, \"type\": \"scatter\", \"uid\": \"737c9459-82c9-4b06-85ad-2000196dd154\", \"x\": [84], \"y\": [\"Events Services\"]}, {\"marker\": {\"color\": \"rgba(128, 0, 128, 0.4000000000000002)\", \"line\": {\"width\": 1.3}, \"opacity\": 0.8, \"size\": [16], \"symbol\": \"circle\"}, \"mode\": \"markers\", \"name\": \"Electrical/Electronic Manufacturing\", \"textfont\": {\"color\": \"#4D5663\"}, \"type\": \"scatter\", \"uid\": \"cba7ad5b-acbe-4f69-a6e6-572b5583a071\", \"x\": [141], \"y\": [\"Electrical/Electronic Manufacturing\"]}, {\"marker\": {\"color\": \"rgba(219, 64, 82, 0.4000000000000002)\", \"line\": {\"width\": 1.3}, \"opacity\": 0.8, \"size\": [13], \"symbol\": \"circle\"}, \"mode\": \"markers\", \"name\": \"Online Media\", \"textfont\": {\"color\": \"#4D5663\"}, \"type\": \"scatter\", \"uid\": \"8124f334-d08b-4802-b860-00305f8987e3\", \"x\": [38], \"y\": [\"Online Media\"]}, {\"marker\": {\"color\": \"rgba(0, 128, 128, 0.4000000000000002)\", \"line\": {\"width\": 1.3}, \"opacity\": 0.8, \"size\": [13], \"symbol\": \"circle\"}, \"mode\": \"markers\", \"name\": \"Music\", \"textfont\": {\"color\": \"#4D5663\"}, \"type\": \"scatter\", \"uid\": \"3dddf0ec-2dda-4f72-9e77-f16c4a9a4164\", \"x\": [42], \"y\": [\"Music\"]}, {\"marker\": {\"color\": \"rgba(255, 255, 51, 0.4000000000000002)\", \"line\": {\"width\": 1.3}, \"opacity\": 0.8, \"size\": [15], \"symbol\": \"circle\"}, \"mode\": \"markers\", \"name\": \"Logistics and Supply Chain\", \"textfont\": {\"color\": \"#4D5663\"}, \"type\": \"scatter\", \"uid\": \"9d5f1f95-eec7-4acf-bf0a-dc2b0212b81b\", \"x\": [131], \"y\": [\"Logistics and Supply Chain\"]}, {\"marker\": {\"color\": \"rgba(128, 128, 0, 0.4000000000000002)\", \"line\": {\"width\": 1.3}, \"opacity\": 0.8, \"size\": [13], \"symbol\": \"circle\"}, \"mode\": \"markers\", \"name\": \"Computer & Network Security\", \"textfont\": {\"color\": \"#4D5663\"}, \"type\": \"scatter\", \"uid\": \"7c217830-7f8c-41a7-8763-0cf0e6da39fd\", \"x\": [57], \"y\": [\"Computer & Network Security\"]}, {\"marker\": {\"color\": \"rgba(251, 128, 114, 0.4000000000000002)\", \"line\": {\"width\": 1.3}, \"opacity\": 0.8, \"size\": [12], \"symbol\": \"circle\"}, \"mode\": \"markers\", \"name\": \"Wireless\", \"textfont\": {\"color\": \"#4D5663\"}, \"type\": \"scatter\", \"uid\": \"1eba0e68-8340-47f9-85f2-82bb6f39ea91\", \"x\": [1], \"y\": [\"Wireless\"]}, {\"marker\": {\"color\": \"rgba(128, 177, 211, 0.4000000000000002)\", \"line\": {\"width\": 1.3}, \"opacity\": 0.8, \"size\": [13], \"symbol\": \"circle\"}, \"mode\": \"markers\", \"name\": \"Security and Investigations\", \"textfont\": {\"color\": \"#4D5663\"}, \"type\": \"scatter\", \"uid\": \"0b361b4b-0fed-4653-84f1-7334e75c092a\", \"x\": [44], \"y\": [\"Security and Investigations\"]}, {\"marker\": {\"color\": \"rgba(255, 153, 51, 0.4000000000000002)\", \"line\": {\"width\": 1.3}, \"opacity\": 0.8, \"size\": [13], \"symbol\": \"circle\"}, \"mode\": \"markers\", \"name\": \"Facilities Services\", \"textfont\": {\"color\": \"#4D5663\"}, \"type\": \"scatter\", \"uid\": \"a2a1fc48-b312-4d98-bbea-2a1377534b91\", \"x\": [54], \"y\": [\"Facilities Services\"]}, {\"marker\": {\"color\": \"rgba(255, 153, 51, 0.33333333333333354)\", \"line\": {\"width\": 1.3}, \"opacity\": 0.8, \"size\": [13], \"symbol\": \"circle\"}, \"mode\": \"markers\", \"name\": \"Outsourcing/Offshoring\", \"textfont\": {\"color\": \"#4D5663\"}, \"type\": \"scatter\", \"uid\": \"06296186-521f-46de-96fb-a221c0ef1339\", \"x\": [66], \"y\": [\"Outsourcing/Offshoring\"]}, {\"marker\": {\"color\": \"rgba(55, 128, 191, 0.33333333333333354)\", \"line\": {\"width\": 1.3}, \"opacity\": 0.8, \"size\": [21], \"symbol\": \"circle\"}, \"mode\": \"markers\", \"name\": \"Health, Wellness and Fitness\", \"textfont\": {\"color\": \"#4D5663\"}, \"type\": \"scatter\", \"uid\": \"1d795d1c-4cdb-4505-83d9-a54c00b87715\", \"x\": [329], \"y\": [\"Health, Wellness and Fitness\"]}, {\"marker\": {\"color\": \"rgba(50, 171, 96, 0.33333333333333354)\", \"line\": {\"width\": 1.3}, \"opacity\": 0.8, \"size\": [13], \"symbol\": \"circle\"}, \"mode\": \"markers\", \"name\": \"Media Production\", \"textfont\": {\"color\": \"#4D5663\"}, \"type\": \"scatter\", \"uid\": \"0a6352c3-e368-4781-8b90-17a78d2b7314\", \"x\": [67], \"y\": [\"Media Production\"]}, {\"marker\": {\"color\": \"rgba(128, 0, 128, 0.33333333333333354)\", \"line\": {\"width\": 1.3}, \"opacity\": 0.8, \"size\": [12], \"symbol\": \"circle\"}, \"mode\": \"markers\", \"name\": \"Commercial Real Estate\", \"textfont\": {\"color\": \"#4D5663\"}, \"type\": \"scatter\", \"uid\": \"02fbc175-3cfb-4a3f-bd38-835b78439563\", \"x\": [18], \"y\": [\"Commercial Real Estate\"]}, {\"marker\": {\"color\": \"rgba(219, 64, 82, 0.33333333333333354)\", \"line\": {\"width\": 1.3}, \"opacity\": 0.8, \"size\": [12], \"symbol\": \"circle\"}, \"mode\": \"markers\", \"name\": \"Think Tanks\", \"textfont\": {\"color\": \"#4D5663\"}, \"type\": \"scatter\", \"uid\": \"0a53bb69-4b3f-464d-9781-9943942ab362\", \"x\": [5], \"y\": [\"Think Tanks\"]}, {\"marker\": {\"color\": \"rgba(0, 128, 128, 0.33333333333333354)\", \"line\": {\"width\": 1.3}, \"opacity\": 0.8, \"size\": [14], \"symbol\": \"circle\"}, \"mode\": \"markers\", \"name\": \"Philanthropy\", \"textfont\": {\"color\": \"#4D5663\"}, \"type\": \"scatter\", \"uid\": \"bf87ad52-6f84-4541-817d-ea8d861ec779\", \"x\": [77], \"y\": [\"Philanthropy\"]}, {\"marker\": {\"color\": \"rgba(255, 255, 51, 0.33333333333333354)\", \"line\": {\"width\": 1.3}, \"opacity\": 0.8, \"size\": [14], \"symbol\": \"circle\"}, \"mode\": \"markers\", \"name\": \"E-Learning\", \"textfont\": {\"color\": \"#4D5663\"}, \"type\": \"scatter\", \"uid\": \"f03a1fca-ae9d-42a3-b341-5263d8ec7fd8\", \"x\": [69], \"y\": [\"E-Learning\"]}, {\"marker\": {\"color\": \"rgba(128, 128, 0, 0.33333333333333354)\", \"line\": {\"width\": 1.3}, \"opacity\": 0.8, \"size\": [13], \"symbol\": \"circle\"}, \"mode\": \"markers\", \"name\": \"Wholesale\", \"textfont\": {\"color\": \"#4D5663\"}, \"type\": \"scatter\", \"uid\": \"92681d6a-c3f0-4773-9737-638090ccd5f7\", \"x\": [51], \"y\": [\"Wholesale\"]}, {\"marker\": {\"color\": \"rgba(251, 128, 114, 0.33333333333333354)\", \"line\": {\"width\": 1.3}, \"opacity\": 0.8, \"size\": [12], \"symbol\": \"circle\"}, \"mode\": \"markers\", \"name\": \"Import and Export\", \"textfont\": {\"color\": \"#4D5663\"}, \"type\": \"scatter\", \"uid\": \"43941fc5-56c9-4d39-835c-e586d4fa5875\", \"x\": [1], \"y\": [\"Import and Export\"]}, {\"marker\": {\"color\": \"rgba(128, 177, 211, 0.33333333333333354)\", \"line\": {\"width\": 1.3}, \"opacity\": 0.8, \"size\": [16], \"symbol\": \"circle\"}, \"mode\": \"markers\", \"name\": \"Mechanical or Industrial Engineering\", \"textfont\": {\"color\": \"#4D5663\"}, \"type\": \"scatter\", \"uid\": \"72aaa2d2-ac65-46bc-ba7d-05f68a45075b\", \"x\": [165], \"y\": [\"Mechanical or Industrial Engineering\"]}, {\"marker\": {\"color\": \"rgba(128, 177, 211, 0.2666666666666669)\", \"line\": {\"width\": 1.3}, \"opacity\": 0.8, \"size\": [12], \"symbol\": \"circle\"}, \"mode\": \"markers\", \"name\": \"Photography\", \"textfont\": {\"color\": \"#4D5663\"}, \"type\": \"scatter\", \"uid\": \"4f618bda-106a-430c-9e02-5bbc9e26142c\", \"x\": [2], \"y\": [\"Photography\"]}, {\"marker\": {\"color\": \"rgba(255, 153, 51, 0.2666666666666669)\", \"line\": {\"width\": 1.3}, \"opacity\": 0.8, \"size\": [16], \"symbol\": \"circle\"}, \"mode\": \"markers\", \"name\": \"Human Resources\", \"textfont\": {\"color\": \"#4D5663\"}, \"type\": \"scatter\", \"uid\": \"a376a0ab-c2cb-4f4a-bc73-2ad00ec213a5\", \"x\": [150], \"y\": [\"Human Resources\"]}, {\"marker\": {\"color\": \"rgba(55, 128, 191, 0.2666666666666669)\", \"line\": {\"width\": 1.3}, \"opacity\": 0.8, \"size\": [12], \"symbol\": \"circle\"}, \"mode\": \"markers\", \"name\": \"Business Supplies and Equipment\", \"textfont\": {\"color\": \"#4D5663\"}, \"type\": \"scatter\", \"uid\": \"067f2ceb-f2aa-4714-b4fc-73aefa76ef7d\", \"x\": [34], \"y\": [\"Business Supplies and Equipment\"]}, {\"marker\": {\"color\": \"rgba(50, 171, 96, 0.2666666666666669)\", \"line\": {\"width\": 1.3}, \"opacity\": 0.8, \"size\": [15], \"symbol\": \"circle\"}, \"mode\": \"markers\", \"name\": \"Mental Health Care\", \"textfont\": {\"color\": \"#4D5663\"}, \"type\": \"scatter\", \"uid\": \"42a04d2c-533c-4b01-9a8b-6a683c03f621\", \"x\": [120], \"y\": [\"Mental Health Care\"]}, {\"marker\": {\"color\": \"rgba(128, 0, 128, 0.2666666666666669)\", \"line\": {\"width\": 1.3}, \"opacity\": 0.8, \"size\": [12], \"symbol\": \"circle\"}, \"mode\": \"markers\", \"name\": \"Graphic Design\", \"textfont\": {\"color\": \"#4D5663\"}, \"type\": \"scatter\", \"uid\": \"d71f63cd-ea40-4f04-9376-1c566bb6fcbf\", \"x\": [30], \"y\": [\"Graphic Design\"]}, {\"marker\": {\"color\": \"rgba(219, 64, 82, 0.2666666666666669)\", \"line\": {\"width\": 1.3}, \"opacity\": 0.8, \"size\": [12], \"symbol\": \"circle\"}, \"mode\": \"markers\", \"name\": \"International Trade and Development\", \"textfont\": {\"color\": \"#4D5663\"}, \"type\": \"scatter\", \"uid\": \"9c045153-deb5-4ffa-a797-4d9bd630324a\", \"x\": [31], \"y\": [\"International Trade and Development\"]}, {\"marker\": {\"color\": \"rgba(0, 128, 128, 0.2666666666666669)\", \"line\": {\"width\": 1.3}, \"opacity\": 0.8, \"size\": [13], \"symbol\": \"circle\"}, \"mode\": \"markers\", \"name\": \"Renewables & Environment\", \"textfont\": {\"color\": \"#4D5663\"}, \"type\": \"scatter\", \"uid\": \"e1fe61ed-9def-4236-8ea8-c34a198f416d\", \"x\": [37], \"y\": [\"Renewables & Environment\"]}, {\"marker\": {\"color\": \"rgba(255, 255, 51, 0.2666666666666669)\", \"line\": {\"width\": 1.3}, \"opacity\": 0.8, \"size\": [12], \"symbol\": \"circle\"}, \"mode\": \"markers\", \"name\": \"Packaging and Containers\", \"textfont\": {\"color\": \"#4D5663\"}, \"type\": \"scatter\", \"uid\": \"61d739d8-647d-4af7-847f-c870b4a8d47c\", \"x\": [4], \"y\": [\"Packaging and Containers\"]}, {\"marker\": {\"color\": \"rgba(128, 128, 0, 0.2666666666666669)\", \"line\": {\"width\": 1.3}, \"opacity\": 0.8, \"size\": [13], \"symbol\": \"circle\"}, \"mode\": \"markers\", \"name\": \"Industrial Automation\", \"textfont\": {\"color\": \"#4D5663\"}, \"type\": \"scatter\", \"uid\": \"1f9e4985-3e16-4a13-a24f-8393ed7ef7a1\", \"x\": [59], \"y\": [\"Industrial Automation\"]}, {\"marker\": {\"color\": \"rgba(251, 128, 114, 0.2666666666666669)\", \"line\": {\"width\": 1.3}, \"opacity\": 0.8, \"size\": [13], \"symbol\": \"circle\"}, \"mode\": \"markers\", \"name\": \"Government Relations\", \"textfont\": {\"color\": \"#4D5663\"}, \"type\": \"scatter\", \"uid\": \"66bf2306-95a4-44aa-8a27-cf32e3f60ca9\", \"x\": [38], \"y\": [\"Government Relations\"]}],\n",
       "                        {\"legend\": {\"bgcolor\": \"#F5F6F9\", \"font\": {\"color\": \"#4D5663\"}}, \"paper_bgcolor\": \"#F5F6F9\", \"plot_bgcolor\": \"#F5F6F9\", \"title\": {\"font\": {\"color\": \"#4D5663\"}, \"text\": \"Plot Sized by Total Views and Colored by Industry\"}, \"xaxis\": {\"gridcolor\": \"#E1E5ED\", \"showgrid\": true, \"tickfont\": {\"color\": \"#4D5663\"}, \"title\": {\"font\": {\"color\": \"#4D5663\"}, \"text\": \"Total views\"}, \"zerolinecolor\": \"#E1E5ED\"}, \"yaxis\": {\"gridcolor\": \"#E1E5ED\", \"showgrid\": true, \"tickfont\": {\"color\": \"#4D5663\"}, \"title\": {\"font\": {\"color\": \"#4D5663\"}, \"text\": \"Industry\"}, \"zerolinecolor\": \"#E1E5ED\"}},\n",
       "                        {\"showLink\": true, \"linkText\": \"Export to plot.ly\", \"plotlyServerURL\": \"https://plot.ly\", \"responsive\": true}\n",
       "                    ).then(function(){\n",
       "                            \n",
       "var gd = document.getElementById('6d20683d-3494-4568-a9c2-3af0f4f2a0b0');\n",
       "var x = new MutationObserver(function (mutations, observer) {{\n",
       "        var display = window.getComputedStyle(gd).display;\n",
       "        if (!display || display === 'none') {{\n",
       "            console.log([gd, 'removed!']);\n",
       "            Plotly.purge(gd);\n",
       "            observer.disconnect();\n",
       "        }}\n",
       "}});\n",
       "\n",
       "// Listen for the removal of the full notebook cells\n",
       "var notebookContainer = gd.closest('#notebook-container');\n",
       "if (notebookContainer) {{\n",
       "    x.observe(notebookContainer, {childList: true});\n",
       "}}\n",
       "\n",
       "// Listen for the clearing of the current output cell\n",
       "var outputEl = gd.closest('.output');\n",
       "if (outputEl) {{\n",
       "    x.observe(outputEl, {childList: true});\n",
       "}}\n",
       "\n",
       "                        })\n",
       "                };\n",
       "                });\n",
       "            </script>\n",
       "        </div>"
      ]
     },
     "metadata": {},
     "output_type": "display_data"
    }
   ],
   "source": [
    "colorscales = [\n",
    "    'Greys', 'YlGnBu', 'Greens', 'YlOrRd', 'Bluered', 'RdBu', 'Reds', 'Blues',\n",
    "    'Picnic', 'Rainbow', 'Portland', 'Jet', 'Hot', 'Blackbody', 'Earth',\n",
    "    'Electric', 'Viridis', 'Cividis'\n",
    "]\n",
    "visitor_industry_df.iplot(x='Total views', y='Industry',  kind='bubble2d', xTitle='Total views', yTitle='Industry',\n",
    "           theme='pearl', size='Total views',\n",
    "         categories='Industry', title='Plot Sized by Total Views and Colored by Industry')"
   ]
  },
  {
   "cell_type": "markdown",
   "metadata": {},
   "source": [
    "### Updates or Engagements"
   ]
  },
  {
   "cell_type": "code",
   "execution_count": 9,
   "metadata": {},
   "outputs": [
    {
     "name": "stdout",
     "output_type": "stream",
     "text": [
      "['Update metrics (aggregated)', 'Update engagement']\n"
     ]
    }
   ],
   "source": [
    "print(engagements.sheet_names)"
   ]
  },
  {
   "cell_type": "code",
   "execution_count": 10,
   "metadata": {},
   "outputs": [],
   "source": [
    "engagement_metrics_aggregate_df = pd.read_excel(engagements_file_path,sheet_name = 'Update metrics (aggregated)')\n",
    "engagement_metrics_update_df = pd.read_excel(engagements_file_path,sheet_name = 'Update engagement')"
   ]
  },
  {
   "cell_type": "markdown",
   "metadata": {},
   "source": [
    "##### Fix the Header"
   ]
  },
  {
   "cell_type": "code",
   "execution_count": 11,
   "metadata": {},
   "outputs": [],
   "source": [
    "## Fix the Header\n",
    "new_header = engagement_metrics_update_df.iloc[0] #grab the first row for the header\n",
    "engagement_metrics_update_df = engagement_metrics_update_df[1:] #take the data less the header row\n",
    "engagement_metrics_update_df.columns = new_header #set the header row as the df header\n",
    "\n",
    "\n",
    "new_header_agg = engagement_metrics_aggregate_df.iloc[0] #grab the first row for the header\n",
    "engagement_metrics_aggregate_df = engagement_metrics_aggregate_df[1:] #take the data less the header row\n",
    "engagement_metrics_aggregate_df.columns = new_header_agg #set the header row as the df header\n"
   ]
  },
  {
   "cell_type": "code",
   "execution_count": 12,
   "metadata": {},
   "outputs": [
    {
     "data": {
      "text/plain": [
       "(Index(['Update title', 'Update link', 'Update type', 'Campaign name',\n",
       "        'Posted by', 'Created date', 'Campaign start date', 'Campaign end date',\n",
       "        'Audience', 'Impressions', 'Video views', 'Clicks',\n",
       "        'Click through rate (CTR)', 'Likes', 'Comments', 'Shares', 'Follows',\n",
       "        'Engagement rate'],\n",
       "       dtype='object', name=0),\n",
       " Index(['Date', 'Impressions (organic)', 'Impressions (sponsored)',\n",
       "        'Impressions (total)', 'Unique impressions (organic)',\n",
       "        'Clicks (organic)', 'Clicks (sponsored)', 'Clicks (total)',\n",
       "        'Reactions (organic)', 'Reactions (sponsored)', 'Reactions (total)',\n",
       "        'Comments (organic)', 'Comments (sponsored)', 'Comments (total)',\n",
       "        'Shares (organic)', 'Shares (sponsored)', 'Shares (total)',\n",
       "        'Engagement rate (organic)', 'Engagement rate (sponsored)',\n",
       "        'Engagement rate (total)'],\n",
       "       dtype='object', name=0))"
      ]
     },
     "execution_count": 12,
     "metadata": {},
     "output_type": "execute_result"
    }
   ],
   "source": [
    "engagement_metrics_update_df.columns, engagement_metrics_aggregate_df.columns"
   ]
  },
  {
   "cell_type": "code",
   "execution_count": null,
   "metadata": {},
   "outputs": [],
   "source": []
  },
  {
   "cell_type": "code",
   "execution_count": 13,
   "metadata": {},
   "outputs": [
    {
     "name": "stdout",
     "output_type": "stream",
     "text": [
      "Min date: 01/04/2019  Max date: 12/17/2018\n",
      "No of records: (43, 18)\n"
     ]
    }
   ],
   "source": [
    "print(\"Min date:\", engagement_metrics_update_df[\"Created date\"].min(), \" Max date:\", engagement_metrics_update_df[\"Created date\"].max())\n",
    "print(f\"No of records: {engagement_metrics_update_df.shape}\")"
   ]
  },
  {
   "cell_type": "code",
   "execution_count": 14,
   "metadata": {},
   "outputs": [
    {
     "data": {
      "text/plain": [
       "(0        Date Impressions (organic) Impressions (sponsored)  \\\n",
       " 1  06/10/2018                     0                       0   \n",
       " 2  06/11/2018                     0                       0   \n",
       " 3  06/12/2018                     0                       0   \n",
       " 4  06/13/2018                     0                       0   \n",
       " 5  06/14/2018                     0                       0   \n",
       " \n",
       " 0 Impressions (total) Unique impressions (organic) Clicks (organic)  \\\n",
       " 1                   0                            0                0   \n",
       " 2                   0                            0                0   \n",
       " 3                   0                            0                0   \n",
       " 4                   0                            0                0   \n",
       " 5                   0                            0                0   \n",
       " \n",
       " 0 Clicks (sponsored) Clicks (total) Reactions (organic) Reactions (sponsored)  \\\n",
       " 1                  0              0                   0                     0   \n",
       " 2                  0              0                   0                     0   \n",
       " 3                  0              0                   0                     0   \n",
       " 4                  0              0                   0                     0   \n",
       " 5                  0              0                   0                     0   \n",
       " \n",
       " 0 Reactions (total) Comments (organic) Comments (sponsored) Comments (total)  \\\n",
       " 1                 0                  0                    0                0   \n",
       " 2                 0                  0                    0                0   \n",
       " 3                 0                  0                    0                0   \n",
       " 4                 0                  0                    0                0   \n",
       " 5                 0                  0                    0                0   \n",
       " \n",
       " 0 Shares (organic) Shares (sponsored) Shares (total)  \\\n",
       " 1                0                  0              0   \n",
       " 2                0                  0              0   \n",
       " 3                0                  0              0   \n",
       " 4                0                  0              0   \n",
       " 5                0                  0              0   \n",
       " \n",
       " 0 Engagement rate (organic) Engagement rate (sponsored)  \\\n",
       " 1                         0                           0   \n",
       " 2                         0                           0   \n",
       " 3                         0                           0   \n",
       " 4                         0                           0   \n",
       " 5                         0                           0   \n",
       " \n",
       " 0 Engagement rate (total)  \n",
       " 1                       0  \n",
       " 2                       0  \n",
       " 3                       0  \n",
       " 4                       0  \n",
       " 5                       0  ,\n",
       " Index(['Date', 'Impressions (organic)', 'Impressions (sponsored)',\n",
       "        'Impressions (total)', 'Unique impressions (organic)',\n",
       "        'Clicks (organic)', 'Clicks (sponsored)', 'Clicks (total)',\n",
       "        'Reactions (organic)', 'Reactions (sponsored)', 'Reactions (total)',\n",
       "        'Comments (organic)', 'Comments (sponsored)', 'Comments (total)',\n",
       "        'Shares (organic)', 'Shares (sponsored)', 'Shares (total)',\n",
       "        'Engagement rate (organic)', 'Engagement rate (sponsored)',\n",
       "        'Engagement rate (total)'],\n",
       "       dtype='object', name=0))"
      ]
     },
     "execution_count": 14,
     "metadata": {},
     "output_type": "execute_result"
    }
   ],
   "source": [
    "engagement_metrics_aggregate_df.head(),engagement_metrics_aggregate_df.columns"
   ]
  },
  {
   "cell_type": "code",
   "execution_count": 15,
   "metadata": {},
   "outputs": [],
   "source": [
    "engagement_metrics_aggregate_df[\"Date\"] = pd.to_datetime(engagement_metrics_aggregate_df[\"Date\"])"
   ]
  },
  {
   "cell_type": "code",
   "execution_count": 16,
   "metadata": {},
   "outputs": [
    {
     "data": {
      "text/plain": [
       "{'Date': 0.0,\n",
       " 'Impressions (organic)': 0.0,\n",
       " 'Impressions (sponsored)': 0.0,\n",
       " 'Impressions (total)': 0.0,\n",
       " 'Unique impressions (organic)': 0.0,\n",
       " 'Clicks (organic)': 0.0,\n",
       " 'Clicks (sponsored)': 0.0,\n",
       " 'Clicks (total)': 0.0,\n",
       " 'Reactions (organic)': 0.0,\n",
       " 'Reactions (sponsored)': 0.0,\n",
       " 'Reactions (total)': 0.0,\n",
       " 'Comments (organic)': 0.0,\n",
       " 'Comments (sponsored)': 0.0,\n",
       " 'Comments (total)': 0.0,\n",
       " 'Shares (organic)': 0.0,\n",
       " 'Shares (sponsored)': 0.0,\n",
       " 'Shares (total)': 0.0,\n",
       " 'Engagement rate (organic)': 0.0,\n",
       " 'Engagement rate (sponsored)': 0.0,\n",
       " 'Engagement rate (total)': 0.0}"
      ]
     },
     "execution_count": 16,
     "metadata": {},
     "output_type": "execute_result"
    }
   ],
   "source": [
    "# determine the percent of missing values\n",
    "def percent_missing(df):\n",
    "    data = pd.DataFrame(df)\n",
    "    df_cols = list(pd.DataFrame(data))\n",
    "    dict_x = {}\n",
    "    for i in range(0, len(df_cols)):\n",
    "        dict_x.update({df_cols[i]: round(data[df_cols[i]].isnull().mean()*100,2)})\n",
    "    \n",
    "    return dict_x\n",
    "\n",
    "percent_missing(engagement_metrics_aggregate_df)"
   ]
  },
  {
   "cell_type": "code",
   "execution_count": 17,
   "metadata": {},
   "outputs": [
    {
     "data": {
      "text/html": [
       "<div>\n",
       "<style scoped>\n",
       "    .dataframe tbody tr th:only-of-type {\n",
       "        vertical-align: middle;\n",
       "    }\n",
       "\n",
       "    .dataframe tbody tr th {\n",
       "        vertical-align: top;\n",
       "    }\n",
       "\n",
       "    .dataframe thead th {\n",
       "        text-align: right;\n",
       "    }\n",
       "</style>\n",
       "<table border=\"1\" class=\"dataframe\">\n",
       "  <thead>\n",
       "    <tr style=\"text-align: right;\">\n",
       "      <th></th>\n",
       "      <th>count</th>\n",
       "      <th>unique</th>\n",
       "      <th>top</th>\n",
       "      <th>freq</th>\n",
       "    </tr>\n",
       "    <tr>\n",
       "      <th>Date</th>\n",
       "      <th></th>\n",
       "      <th></th>\n",
       "      <th></th>\n",
       "      <th></th>\n",
       "    </tr>\n",
       "  </thead>\n",
       "  <tbody>\n",
       "    <tr>\n",
       "      <th>April</th>\n",
       "      <td>30.0</td>\n",
       "      <td>30.0</td>\n",
       "      <td>0.020636</td>\n",
       "      <td>1.0</td>\n",
       "    </tr>\n",
       "    <tr>\n",
       "      <th>August</th>\n",
       "      <td>31.0</td>\n",
       "      <td>31.0</td>\n",
       "      <td>0.015863</td>\n",
       "      <td>1.0</td>\n",
       "    </tr>\n",
       "    <tr>\n",
       "      <th>December</th>\n",
       "      <td>31.0</td>\n",
       "      <td>31.0</td>\n",
       "      <td>0.008167</td>\n",
       "      <td>1.0</td>\n",
       "    </tr>\n",
       "    <tr>\n",
       "      <th>February</th>\n",
       "      <td>28.0</td>\n",
       "      <td>28.0</td>\n",
       "      <td>0.007213</td>\n",
       "      <td>1.0</td>\n",
       "    </tr>\n",
       "    <tr>\n",
       "      <th>January</th>\n",
       "      <td>31.0</td>\n",
       "      <td>31.0</td>\n",
       "      <td>0.015111</td>\n",
       "      <td>1.0</td>\n",
       "    </tr>\n",
       "    <tr>\n",
       "      <th>July</th>\n",
       "      <td>31.0</td>\n",
       "      <td>31.0</td>\n",
       "      <td>0.016815</td>\n",
       "      <td>1.0</td>\n",
       "    </tr>\n",
       "    <tr>\n",
       "      <th>June</th>\n",
       "      <td>31.0</td>\n",
       "      <td>26.0</td>\n",
       "      <td>0.000000</td>\n",
       "      <td>6.0</td>\n",
       "    </tr>\n",
       "    <tr>\n",
       "      <th>March</th>\n",
       "      <td>31.0</td>\n",
       "      <td>31.0</td>\n",
       "      <td>0.020365</td>\n",
       "      <td>1.0</td>\n",
       "    </tr>\n",
       "    <tr>\n",
       "      <th>May</th>\n",
       "      <td>31.0</td>\n",
       "      <td>31.0</td>\n",
       "      <td>0.015292</td>\n",
       "      <td>1.0</td>\n",
       "    </tr>\n",
       "    <tr>\n",
       "      <th>November</th>\n",
       "      <td>30.0</td>\n",
       "      <td>30.0</td>\n",
       "      <td>0.019131</td>\n",
       "      <td>1.0</td>\n",
       "    </tr>\n",
       "    <tr>\n",
       "      <th>October</th>\n",
       "      <td>31.0</td>\n",
       "      <td>31.0</td>\n",
       "      <td>0.034607</td>\n",
       "      <td>1.0</td>\n",
       "    </tr>\n",
       "    <tr>\n",
       "      <th>September</th>\n",
       "      <td>30.0</td>\n",
       "      <td>30.0</td>\n",
       "      <td>0.041617</td>\n",
       "      <td>1.0</td>\n",
       "    </tr>\n",
       "  </tbody>\n",
       "</table>\n",
       "</div>"
      ],
      "text/plain": [
       "           count  unique       top  freq\n",
       "Date                                    \n",
       "April       30.0    30.0  0.020636   1.0\n",
       "August      31.0    31.0  0.015863   1.0\n",
       "December    31.0    31.0  0.008167   1.0\n",
       "February    28.0    28.0  0.007213   1.0\n",
       "January     31.0    31.0  0.015111   1.0\n",
       "July        31.0    31.0  0.016815   1.0\n",
       "June        31.0    26.0  0.000000   6.0\n",
       "March       31.0    31.0  0.020365   1.0\n",
       "May         31.0    31.0  0.015292   1.0\n",
       "November    30.0    30.0  0.019131   1.0\n",
       "October     31.0    31.0  0.034607   1.0\n",
       "September   30.0    30.0  0.041617   1.0"
      ]
     },
     "execution_count": 17,
     "metadata": {},
     "output_type": "execute_result"
    }
   ],
   "source": [
    "#engagement_metrics_aggregate_df.set_index(\"Date\")\n",
    "engagement_metrics_aggregate_df.groupby(engagement_metrics_aggregate_df['Date'].dt.strftime('%B'))['Engagement rate (total)'].describe()"
   ]
  },
  {
   "cell_type": "code",
   "execution_count": 18,
   "metadata": {},
   "outputs": [
    {
     "data": {
      "text/plain": [
       "<matplotlib.axes._subplots.AxesSubplot at 0x7fa289301908>"
      ]
     },
     "execution_count": 18,
     "metadata": {},
     "output_type": "execute_result"
    },
    {
     "data": {
      "image/png": "[encoded data removed]",
      "text/plain": [
       "<Figure size 432x288 with 1 Axes>"
      ]
     },
     "metadata": {
      "needs_background": "light"
     },
     "output_type": "display_data"
    }
   ],
   "source": [
    "engagement_metrics_aggregate_df[[\"Engagement rate (total)\",\"Date\"]].set_index(\"Date\").plot()"
   ]
  },
  {
   "cell_type": "code",
   "execution_count": 19,
   "metadata": {},
   "outputs": [
    {
     "data": {
      "text/plain": [
       "Index(['Update title', 'Update link', 'Update type', 'Campaign name',\n",
       "       'Posted by', 'Created date', 'Campaign start date', 'Campaign end date',\n",
       "       'Audience', 'Impressions', 'Video views', 'Clicks',\n",
       "       'Click through rate (CTR)', 'Likes', 'Comments', 'Shares', 'Follows',\n",
       "       'Engagement rate'],\n",
       "      dtype='object', name=0)"
      ]
     },
     "execution_count": 19,
     "metadata": {},
     "output_type": "execute_result"
    }
   ],
   "source": [
    "engagement_metrics_update_df.columns"
   ]
  },
  {
   "cell_type": "code",
   "execution_count": 20,
   "metadata": {},
   "outputs": [
    {
     "data": {
      "text/plain": [
       "9     The MDCRB is an adaptable facility that will m...\n",
       "29    Another reason why we love Indy: The Circle Ci...\n",
       "28    Take an early look at the future Multidiscipli...\n",
       "34    Celebrating a legacy of strength: The IU Schoo...\n",
       "27    Women and minority researchers at all Indiana ...\n",
       "42    IUPUI's 50th Anniversary year celebration has ...\n",
       "3     This weekend, we celebrated the largest gradua...\n",
       "32    It's September, which can only mean one thing:...\n",
       "40    \"With more than 180,000 alumni, 7,000 full-tim...\n",
       "36    Generous gifts from IU alumni Jefferson and Ma...\n",
       "6     Eric Hewlett left the South Side of Chicago so...\n",
       "33    Stories from alumni, students, faculty and sta...\n",
       "1     We've changed a lot in 50 short years. We're n...\n",
       "37    Need a reason to come back to campus? Celebrat...\n",
       "22    IUPUI and TechPoint (Indiana) have developed a...\n",
       "11    IUPUI is leading the conversation about urban ...\n",
       "31    Scientists from the IU School of Medicine have...\n",
       "30    Through this grant, the IU School of Dentistry...\n",
       "13    Last weekend, the Jagathon Dance Marathon smas...\n",
       "21    Do you have an internship, mentoring, or job-s...\n",
       "20    \"The team will address problems stemming from ...\n",
       "Name: Update title, dtype: object"
      ]
     },
     "execution_count": 20,
     "metadata": {},
     "output_type": "execute_result"
    }
   ],
   "source": [
    "engagement_metrics_update_df.sort_values(by='Engagement rate',ascending=False).loc[:20,'Update title']"
   ]
  },
  {
   "cell_type": "markdown",
   "metadata": {},
   "source": [
    "### Followers"
   ]
  },
  {
   "cell_type": "code",
   "execution_count": 21,
   "metadata": {},
   "outputs": [
    {
     "name": "stdout",
     "output_type": "stream",
     "text": [
      "['New followers', 'Location', 'Job function', 'Seniority', 'Industry', 'Company size']\n"
     ]
    }
   ],
   "source": [
    "print(followers.sheet_names)"
   ]
  },
  {
   "cell_type": "code",
   "execution_count": 22,
   "metadata": {},
   "outputs": [],
   "source": [
    "new_followers_df = pd.read_excel(followers_file_path, sheet_name='New followers')\n",
    "followers_location_df = pd.read_excel(followers_file_path,sheet_name = \"Location\")\n",
    "followers_job_function_df = pd.read_excel(followers_file_path,sheet_name = \"Job function\")\n",
    "followers_industry_df = pd.read_excel(followers_file_path,sheet_name= \"Industry\")\n",
    "followers_company_size_df = pd.read_excel(followers_file_path, sheet_name = \"Company size\")\n",
    "followers_seniority_df = pd.read_excel(followers_file_path,sheet_name = \"Seniority\")\n"
   ]
  },
  {
   "cell_type": "code",
   "execution_count": 23,
   "metadata": {},
   "outputs": [
    {
     "name": "stdout",
     "output_type": "stream",
     "text": [
      "Min date: 01/01/2019  Max date: 12/31/2018\n",
      "Number of records, in followers metrics: (375, 4)\n",
      "Number of records, in followers location: (99, 2)\n",
      "Number of records, in followers job function: (26, 2)\n",
      "Number of records, in followers industry: (99, 2)\n",
      "Number of records, in followers company size: (9, 2)\n",
      "Number of records, in followers seniority: (10, 2)\n"
     ]
    }
   ],
   "source": [
    "print(\"Min date:\", new_followers_df['Date'].min(), \" Max date:\", new_followers_df[\"Date\"].max())\n",
    "print(f\"Number of records, in followers metrics: {new_followers_df.shape}\")\n",
    "print(f\"Number of records, in followers location: {followers_location_df.shape}\")\n",
    "print(f\"Number of records, in followers job function: {followers_job_function_df.shape}\")\n",
    "print(f\"Number of records, in followers industry: {followers_industry_df.shape}\")\n",
    "print(f\"Number of records, in followers company size: {followers_company_size_df.shape}\")\n",
    "print(f\"Number of records, in followers seniority: {followers_seniority_df.shape}\")\n",
    "\n"
   ]
  },
  {
   "cell_type": "code",
   "execution_count": 24,
   "metadata": {},
   "outputs": [
    {
     "data": {
      "text/plain": [
       "<matplotlib.axes._subplots.AxesSubplot at 0x7fa258c1af98>"
      ]
     },
     "execution_count": 24,
     "metadata": {},
     "output_type": "execute_result"
    },
    {
     "data": {
      "image/png": "[encoded data removed]",
      "text/plain": [
       "<Figure size 432x288 with 1 Axes>"
      ]
     },
     "metadata": {
      "needs_background": "light"
     },
     "output_type": "display_data"
    }
   ],
   "source": [
    "followers_job_function_df.sort_values(by=\"Total followers\",ascending = False)[:10].set_index(\"Job function\").plot(kind=\"barh\")"
   ]
  },
  {
   "cell_type": "code",
   "execution_count": 25,
   "metadata": {},
   "outputs": [
    {
     "data": {
      "text/plain": [
       "<matplotlib.axes._subplots.AxesSubplot at 0x7fa2893d56a0>"
      ]
     },
     "execution_count": 25,
     "metadata": {},
     "output_type": "execute_result"
    },
    {
     "data": {
      "image/png": "[encoded data removed]",
      "text/plain": [
       "<Figure size 432x288 with 1 Axes>"
      ]
     },
     "metadata": {
      "needs_background": "light"
     },
     "output_type": "display_data"
    }
   ],
   "source": [
    "new_followers_df.set_index(\"Date\").plot(kind=\"line\")"
   ]
  },
  {
   "cell_type": "code",
   "execution_count": 26,
   "metadata": {},
   "outputs": [
    {
     "data": {
      "text/plain": [
       "<matplotlib.axes._subplots.AxesSubplot at 0x7fa268ab3908>"
      ]
     },
     "execution_count": 26,
     "metadata": {},
     "output_type": "execute_result"
    },
    {
     "data": {
      "image/png": "[encoded data removed]",
      "text/plain": [
       "<Figure size 432x288 with 1 Axes>"
      ]
     },
     "metadata": {},
     "output_type": "display_data"
    }
   ],
   "source": [
    "followers_seniority_df.set_index(\"Seniority\").plot.pie(y = \"Total followers\")\n"
   ]
  },
  {
   "cell_type": "code",
   "execution_count": 27,
   "metadata": {},
   "outputs": [
    {
     "data": {
      "text/html": [
       "<div>\n",
       "<style scoped>\n",
       "    .dataframe tbody tr th:only-of-type {\n",
       "        vertical-align: middle;\n",
       "    }\n",
       "\n",
       "    .dataframe tbody tr th {\n",
       "        vertical-align: top;\n",
       "    }\n",
       "\n",
       "    .dataframe thead th {\n",
       "        text-align: right;\n",
       "    }\n",
       "</style>\n",
       "<table border=\"1\" class=\"dataframe\">\n",
       "  <thead>\n",
       "    <tr style=\"text-align: right;\">\n",
       "      <th></th>\n",
       "      <th>Total followers</th>\n",
       "    </tr>\n",
       "    <tr>\n",
       "      <th>Location</th>\n",
       "      <th></th>\n",
       "    </tr>\n",
       "  </thead>\n",
       "  <tbody>\n",
       "    <tr>\n",
       "      <th>Indianapolis, Indiana Area</th>\n",
       "      <td>67887</td>\n",
       "    </tr>\n",
       "    <tr>\n",
       "      <th>Greater Chicago Area</th>\n",
       "      <td>2901</td>\n",
       "    </tr>\n",
       "    <tr>\n",
       "      <th>Bloomington, Indiana Area</th>\n",
       "      <td>1406</td>\n",
       "    </tr>\n",
       "    <tr>\n",
       "      <th>Fort Wayne, Indiana Area</th>\n",
       "      <td>1267</td>\n",
       "    </tr>\n",
       "    <tr>\n",
       "      <th>Louisville, Kentucky Area</th>\n",
       "      <td>1254</td>\n",
       "    </tr>\n",
       "    <tr>\n",
       "      <th>Cincinnati, Ohio Area</th>\n",
       "      <td>1190</td>\n",
       "    </tr>\n",
       "    <tr>\n",
       "      <th>Lafayette, Indiana Area</th>\n",
       "      <td>1019</td>\n",
       "    </tr>\n",
       "    <tr>\n",
       "      <th>San Francisco Bay Area</th>\n",
       "      <td>882</td>\n",
       "    </tr>\n",
       "    <tr>\n",
       "      <th>Greater Atlanta Area</th>\n",
       "      <td>878</td>\n",
       "    </tr>\n",
       "    <tr>\n",
       "      <th>Greater New York City Area</th>\n",
       "      <td>790</td>\n",
       "    </tr>\n",
       "    <tr>\n",
       "      <th>Washington D.C. Metro Area</th>\n",
       "      <td>785</td>\n",
       "    </tr>\n",
       "    <tr>\n",
       "      <th>Greater Los Angeles Area</th>\n",
       "      <td>774</td>\n",
       "    </tr>\n",
       "    <tr>\n",
       "      <th>Dallas/Fort Worth Area</th>\n",
       "      <td>751</td>\n",
       "    </tr>\n",
       "    <tr>\n",
       "      <th>Greater Denver Area</th>\n",
       "      <td>698</td>\n",
       "    </tr>\n",
       "    <tr>\n",
       "      <th>Tampa/St. Petersburg, Florida Area</th>\n",
       "      <td>632</td>\n",
       "    </tr>\n",
       "    <tr>\n",
       "      <th>Greater Detroit Area</th>\n",
       "      <td>623</td>\n",
       "    </tr>\n",
       "    <tr>\n",
       "      <th>Phoenix, Arizona Area</th>\n",
       "      <td>613</td>\n",
       "    </tr>\n",
       "    <tr>\n",
       "      <th>Evansville, Indiana Area</th>\n",
       "      <td>600</td>\n",
       "    </tr>\n",
       "    <tr>\n",
       "      <th>Greater Seattle Area</th>\n",
       "      <td>532</td>\n",
       "    </tr>\n",
       "    <tr>\n",
       "      <th>South Bend, Indiana Area</th>\n",
       "      <td>521</td>\n",
       "    </tr>\n",
       "  </tbody>\n",
       "</table>\n",
       "</div>"
      ],
      "text/plain": [
       "                                    Total followers\n",
       "Location                                           \n",
       "Indianapolis, Indiana Area                    67887\n",
       "Greater Chicago Area                           2901\n",
       "Bloomington, Indiana Area                      1406\n",
       "Fort Wayne, Indiana Area                       1267\n",
       "Louisville, Kentucky Area                      1254\n",
       "Cincinnati, Ohio Area                          1190\n",
       "Lafayette, Indiana Area                        1019\n",
       "San Francisco Bay Area                          882\n",
       "Greater Atlanta Area                            878\n",
       "Greater New York City Area                      790\n",
       "Washington D.C. Metro Area                      785\n",
       "Greater Los Angeles Area                        774\n",
       "Dallas/Fort Worth Area                          751\n",
       "Greater Denver Area                             698\n",
       "Tampa/St. Petersburg, Florida Area              632\n",
       "Greater Detroit Area                            623\n",
       "Phoenix, Arizona Area                           613\n",
       "Evansville, Indiana Area                        600\n",
       "Greater Seattle Area                            532\n",
       "South Bend, Indiana Area                        521"
      ]
     },
     "execution_count": 27,
     "metadata": {},
     "output_type": "execute_result"
    }
   ],
   "source": [
    "followers_location_df.set_index(\"Location\").sort_values(by=\"Total followers\",ascending=False)[:20]"
   ]
  },
  {
   "cell_type": "code",
   "execution_count": 28,
   "metadata": {},
   "outputs": [
    {
     "data": {
      "text/plain": [
       "<matplotlib.axes._subplots.AxesSubplot at 0x7fa2995cf0b8>"
      ]
     },
     "execution_count": 28,
     "metadata": {},
     "output_type": "execute_result"
    },
    {
     "data": {
      "image/png": "[encoded data removed]",
      "text/plain": [
       "<Figure size 432x288 with 1 Axes>"
      ]
     },
     "metadata": {
      "needs_background": "light"
     },
     "output_type": "display_data"
    }
   ],
   "source": [
    "followers_location_df.set_index(\"Location\").sort_values(by=\"Total followers\",ascending=False)[:20].plot(kind=\"barh\")"
   ]
  },
  {
   "cell_type": "markdown",
   "metadata": {},
   "source": [
    "### Engagement Insights"
   ]
  },
  {
   "cell_type": "code",
   "execution_count": 32,
   "metadata": {},
   "outputs": [],
   "source": [
    "def make_engagement_insights(visitor_metrics_df, engagement_metrics_aggregate_df, new_followers_df):\n",
    "    columns = ['Date',\n",
    "                        'Total page views (desktop)',\n",
    "                        'Total page views (mobile)',\n",
    "                        'Total page views (total)',\n",
    "                        'Total unique visitors (desktop)',\n",
    "                        'Total unique visitors (mobile)',\n",
    "                        'Total unique visitors (total)',\n",
    "                        'Sponsored followers',\n",
    "                        'Organic followers',\n",
    "                        'Total followers',\n",
    "                        'Impressions (organic)', \n",
    "                        'Impressions (sponsored)',\n",
    "                        'Impressions (total)', \n",
    "                        'Unique impressions (organic)',\n",
    "        'Clicks (organic)', 'Clicks (sponsored)', 'Clicks (total)',\n",
    "        'Reactions (organic)', 'Reactions (sponsored)', 'Reactions (total)',\n",
    "        'Comments (organic)', 'Comments (sponsored)', 'Comments (total)',\n",
    "        'Shares (organic)', 'Shares (sponsored)', 'Shares (total)',\n",
    "        'Engagement rate (organic)', 'Engagement rate (sponsored)',\n",
    "        'Engagement rate (total)']\n",
    "\n",
    "\n",
    "    # days between start and end date\n",
    "    delta = end_date - start_date  # timedelta\n",
    "    \n",
    "    visitor_metrics_df = visitor_metrics_df.fillna(0)\n",
    "    engagement_metrics_aggregate_df = engagement_metrics_aggregate_df.fillna(0)\n",
    "    new_followers_df = new_followers_df.fillna(0)\n",
    "    \n",
    "    ## Set Index Date\n",
    "    visitor_metrics_df[\"Date\"] = pd.to_datetime(visitor_metrics_df[\"Date\"])\n",
    "    new_followers_df[\"Date\"] = pd.to_datetime(new_followers_df[\"Date\"])\n",
    "    engagement_metrics_aggregate_df[\"Date\"] = pd.to_datetime(engagement_metrics_aggregate_df[\"Date\"])\n",
    "    \n",
    "    visitor_metrics_df = visitor_metrics_df.set_index(\"Date\")\n",
    "    new_followers_df = new_followers_df.set_index(\"Date\")\n",
    "    engagement_metrics_aggregate_df = engagement_metrics_aggregate_df.set_index(\"Date\")\n",
    "\n",
    "    lines = []\n",
    "    for i in range(delta.days + 1):\n",
    "        metric = []\n",
    "\n",
    "        date = start_date + timedelta(days=i)\n",
    "        \n",
    "\n",
    "        ## visitor metrics\n",
    "        v = visitor_metrics_df[visitor_metrics_df.index.date==date]\n",
    "        metric.append(date)\n",
    "        if not v.shape[0] == 0:\n",
    "            metric.append(float(v[\"Total page views (desktop)\"]))\n",
    "            metric.append(float(v[\"Total page views (mobile)\"]))\n",
    "            metric.append(float(v[\"Total page views (total)\"]))\n",
    "            metric.append(float(v[\"Total unique visitors (desktop)\"]))\n",
    "            metric.append(float(v[\"Total unique visitors (mobile)\"]))\n",
    "            metric.append(float(v[\"Total unique visitors (total)\"]))\n",
    "        else:\n",
    "            for m in range(7):\n",
    "                metric.append(0.0)\n",
    "            \n",
    "\n",
    "        ## follower metrics\n",
    "\n",
    "        f = new_followers_df[new_followers_df.index.date==date]\n",
    "        \n",
    "        if not f.shape[0]==0:\n",
    "            metric.append(float(f[\"Sponsored followers\"]))\n",
    "            metric.append(float(f[\"Organic followers\"]))\n",
    "            metric.append(float(f['Total followers']))\n",
    "        else:\n",
    "            metric.append(0.0)\n",
    "            metric.append(0.0)\n",
    "            metric.append(0.0)\n",
    "\n",
    "        ## engagement \n",
    "        try:\n",
    "            e = engagement_metrics_aggregate_df[engagement_metrics_aggregate_df.index.date == date]\n",
    "            metric.append(float(e['Impressions (organic)']))\n",
    "            metric.append(float(e['Impressions (sponsored)']))\n",
    "            metric.append(float(e['Impressions (total)']))\n",
    "            metric.append(float(e['Unique impressions (organic)']))\n",
    "            metric.append(float(e['Clicks (organic)']))\n",
    "            metric.append(float(e['Clicks (total)']))\n",
    "            metric.append(float(e['Clicks (sponsored)']))\n",
    "            metric.append(float(e['Reactions (organic)']))\n",
    "            metric.append(float(e['Reactions (sponsored)']))\n",
    "            metric.append(float(e['Reactions (total)']))\n",
    "            metric.append(float(e['Comments (organic)']))\n",
    "            metric.append(float(e['Comments (sponsored)']))\n",
    "            metric.append(float(e['Comments (total)']))\n",
    "            metric.append(float(e['Shares (organic)']))\n",
    "            metric.append(float(e['Shares (sponsored)']))\n",
    "            metric.append(float(e['Shares (total)']))\n",
    "            metric.append(float(e['Engagement rate (organic)']))\n",
    "            metric.append(float(e['Engagement rate (sponsored)']))\n",
    "            metric.append(float(e['Engagement rate (total)']))         \n",
    "        except:   \n",
    "            print(\"exception\",str(e))\n",
    "            for r in range(19):\n",
    "                metric.append(0)\n",
    "                \n",
    "        lines.append(metric)\n",
    "        \n",
    "    \n",
    "    ### \n",
    "    df = pd.DataFrame(lines, \n",
    "               columns =columns)\n",
    "    return df\n",
    "    \n",
    "        "
   ]
  },
  {
   "cell_type": "code",
   "execution_count": null,
   "metadata": {},
   "outputs": [],
   "source": []
  },
  {
   "cell_type": "code",
   "execution_count": 33,
   "metadata": {},
   "outputs": [],
   "source": [
    "engagement_df = make_engagement_insights(visitor_metrics_df,engagement_metrics_aggregate_df,new_followers_df)"
   ]
  },
  {
   "cell_type": "code",
   "execution_count": 34,
   "metadata": {},
   "outputs": [
    {
     "name": "stdout",
     "output_type": "stream",
     "text": [
      "Number of rows and columns (366, 29)\n"
     ]
    }
   ],
   "source": [
    "print(f\"Number of rows and columns\",engagement_df.shape)"
   ]
  },
  {
   "cell_type": "code",
   "execution_count": 35,
   "metadata": {},
   "outputs": [
    {
     "data": {
      "text/plain": [
       "datetime.date(2019, 6, 10)"
      ]
     },
     "execution_count": 35,
     "metadata": {},
     "output_type": "execute_result"
    }
   ],
   "source": [
    "engagement_df[\"Date\"].max()\n"
   ]
  },
  {
   "cell_type": "code",
   "execution_count": 36,
   "metadata": {
    "scrolled": true
   },
   "outputs": [
    {
     "data": {
      "text/html": [
       "<div>\n",
       "<style scoped>\n",
       "    .dataframe tbody tr th:only-of-type {\n",
       "        vertical-align: middle;\n",
       "    }\n",
       "\n",
       "    .dataframe tbody tr th {\n",
       "        vertical-align: top;\n",
       "    }\n",
       "\n",
       "    .dataframe thead th {\n",
       "        text-align: right;\n",
       "    }\n",
       "</style>\n",
       "<table border=\"1\" class=\"dataframe\">\n",
       "  <thead>\n",
       "    <tr style=\"text-align: right;\">\n",
       "      <th></th>\n",
       "      <th>Date</th>\n",
       "      <th>Total page views (desktop)</th>\n",
       "      <th>Total page views (mobile)</th>\n",
       "      <th>Total page views (total)</th>\n",
       "      <th>Total unique visitors (desktop)</th>\n",
       "      <th>Total unique visitors (mobile)</th>\n",
       "      <th>Total unique visitors (total)</th>\n",
       "      <th>Sponsored followers</th>\n",
       "      <th>Organic followers</th>\n",
       "      <th>Total followers</th>\n",
       "      <th>Impressions (organic)</th>\n",
       "      <th>Impressions (sponsored)</th>\n",
       "      <th>Impressions (total)</th>\n",
       "      <th>Unique impressions (organic)</th>\n",
       "      <th>Clicks (organic)</th>\n",
       "      <th>Clicks (sponsored)</th>\n",
       "      <th>Clicks (total)</th>\n",
       "      <th>Reactions (organic)</th>\n",
       "      <th>Reactions (sponsored)</th>\n",
       "      <th>Reactions (total)</th>\n",
       "      <th>Comments (organic)</th>\n",
       "      <th>Comments (sponsored)</th>\n",
       "      <th>Comments (total)</th>\n",
       "      <th>Shares (organic)</th>\n",
       "      <th>Shares (sponsored)</th>\n",
       "      <th>Shares (total)</th>\n",
       "      <th>Engagement rate (organic)</th>\n",
       "      <th>Engagement rate (sponsored)</th>\n",
       "      <th>Engagement rate (total)</th>\n",
       "    </tr>\n",
       "  </thead>\n",
       "  <tbody>\n",
       "    <tr>\n",
       "      <th>0</th>\n",
       "      <td>2018-06-10</td>\n",
       "      <td>5.0</td>\n",
       "      <td>21.0</td>\n",
       "      <td>26.0</td>\n",
       "      <td>4.0</td>\n",
       "      <td>9.0</td>\n",
       "      <td>13.0</td>\n",
       "      <td>0.0</td>\n",
       "      <td>16.0</td>\n",
       "      <td>16.0</td>\n",
       "      <td>0.0</td>\n",
       "      <td>0.0</td>\n",
       "      <td>0.0</td>\n",
       "      <td>0.0</td>\n",
       "      <td>0.0</td>\n",
       "      <td>0.0</td>\n",
       "      <td>0.0</td>\n",
       "      <td>0.0</td>\n",
       "      <td>0.0</td>\n",
       "      <td>0.0</td>\n",
       "      <td>0.0</td>\n",
       "      <td>0.0</td>\n",
       "      <td>0.0</td>\n",
       "      <td>0.0</td>\n",
       "      <td>0.0</td>\n",
       "      <td>0.0</td>\n",
       "      <td>0.0</td>\n",
       "      <td>0.0</td>\n",
       "      <td>0.0</td>\n",
       "    </tr>\n",
       "    <tr>\n",
       "      <th>1</th>\n",
       "      <td>2018-06-11</td>\n",
       "      <td>28.0</td>\n",
       "      <td>51.0</td>\n",
       "      <td>79.0</td>\n",
       "      <td>21.0</td>\n",
       "      <td>24.0</td>\n",
       "      <td>44.0</td>\n",
       "      <td>0.0</td>\n",
       "      <td>27.0</td>\n",
       "      <td>27.0</td>\n",
       "      <td>0.0</td>\n",
       "      <td>0.0</td>\n",
       "      <td>0.0</td>\n",
       "      <td>0.0</td>\n",
       "      <td>0.0</td>\n",
       "      <td>0.0</td>\n",
       "      <td>0.0</td>\n",
       "      <td>0.0</td>\n",
       "      <td>0.0</td>\n",
       "      <td>0.0</td>\n",
       "      <td>0.0</td>\n",
       "      <td>0.0</td>\n",
       "      <td>0.0</td>\n",
       "      <td>0.0</td>\n",
       "      <td>0.0</td>\n",
       "      <td>0.0</td>\n",
       "      <td>0.0</td>\n",
       "      <td>0.0</td>\n",
       "      <td>0.0</td>\n",
       "    </tr>\n",
       "    <tr>\n",
       "      <th>2</th>\n",
       "      <td>2018-06-12</td>\n",
       "      <td>39.0</td>\n",
       "      <td>87.0</td>\n",
       "      <td>126.0</td>\n",
       "      <td>32.0</td>\n",
       "      <td>19.0</td>\n",
       "      <td>51.0</td>\n",
       "      <td>0.0</td>\n",
       "      <td>39.0</td>\n",
       "      <td>39.0</td>\n",
       "      <td>0.0</td>\n",
       "      <td>0.0</td>\n",
       "      <td>0.0</td>\n",
       "      <td>0.0</td>\n",
       "      <td>0.0</td>\n",
       "      <td>0.0</td>\n",
       "      <td>0.0</td>\n",
       "      <td>0.0</td>\n",
       "      <td>0.0</td>\n",
       "      <td>0.0</td>\n",
       "      <td>0.0</td>\n",
       "      <td>0.0</td>\n",
       "      <td>0.0</td>\n",
       "      <td>0.0</td>\n",
       "      <td>0.0</td>\n",
       "      <td>0.0</td>\n",
       "      <td>0.0</td>\n",
       "      <td>0.0</td>\n",
       "      <td>0.0</td>\n",
       "    </tr>\n",
       "    <tr>\n",
       "      <th>3</th>\n",
       "      <td>2018-06-13</td>\n",
       "      <td>36.0</td>\n",
       "      <td>54.0</td>\n",
       "      <td>90.0</td>\n",
       "      <td>30.0</td>\n",
       "      <td>25.0</td>\n",
       "      <td>55.0</td>\n",
       "      <td>0.0</td>\n",
       "      <td>29.0</td>\n",
       "      <td>29.0</td>\n",
       "      <td>0.0</td>\n",
       "      <td>0.0</td>\n",
       "      <td>0.0</td>\n",
       "      <td>0.0</td>\n",
       "      <td>0.0</td>\n",
       "      <td>0.0</td>\n",
       "      <td>0.0</td>\n",
       "      <td>0.0</td>\n",
       "      <td>0.0</td>\n",
       "      <td>0.0</td>\n",
       "      <td>0.0</td>\n",
       "      <td>0.0</td>\n",
       "      <td>0.0</td>\n",
       "      <td>0.0</td>\n",
       "      <td>0.0</td>\n",
       "      <td>0.0</td>\n",
       "      <td>0.0</td>\n",
       "      <td>0.0</td>\n",
       "      <td>0.0</td>\n",
       "    </tr>\n",
       "    <tr>\n",
       "      <th>4</th>\n",
       "      <td>2018-06-14</td>\n",
       "      <td>37.0</td>\n",
       "      <td>67.0</td>\n",
       "      <td>104.0</td>\n",
       "      <td>26.0</td>\n",
       "      <td>25.0</td>\n",
       "      <td>51.0</td>\n",
       "      <td>0.0</td>\n",
       "      <td>22.0</td>\n",
       "      <td>22.0</td>\n",
       "      <td>0.0</td>\n",
       "      <td>0.0</td>\n",
       "      <td>0.0</td>\n",
       "      <td>0.0</td>\n",
       "      <td>0.0</td>\n",
       "      <td>0.0</td>\n",
       "      <td>0.0</td>\n",
       "      <td>0.0</td>\n",
       "      <td>0.0</td>\n",
       "      <td>0.0</td>\n",
       "      <td>0.0</td>\n",
       "      <td>0.0</td>\n",
       "      <td>0.0</td>\n",
       "      <td>0.0</td>\n",
       "      <td>0.0</td>\n",
       "      <td>0.0</td>\n",
       "      <td>0.0</td>\n",
       "      <td>0.0</td>\n",
       "      <td>0.0</td>\n",
       "    </tr>\n",
       "  </tbody>\n",
       "</table>\n",
       "</div>"
      ],
      "text/plain": [
       "         Date  Total page views (desktop)  Total page views (mobile)  \\\n",
       "0  2018-06-10                         5.0                       21.0   \n",
       "1  2018-06-11                        28.0                       51.0   \n",
       "2  2018-06-12                        39.0                       87.0   \n",
       "3  2018-06-13                        36.0                       54.0   \n",
       "4  2018-06-14                        37.0                       67.0   \n",
       "\n",
       "   Total page views (total)  Total unique visitors (desktop)  \\\n",
       "0                      26.0                              4.0   \n",
       "1                      79.0                             21.0   \n",
       "2                     126.0                             32.0   \n",
       "3                      90.0                             30.0   \n",
       "4                     104.0                             26.0   \n",
       "\n",
       "   Total unique visitors (mobile)  Total unique visitors (total)  \\\n",
       "0                             9.0                           13.0   \n",
       "1                            24.0                           44.0   \n",
       "2                            19.0                           51.0   \n",
       "3                            25.0                           55.0   \n",
       "4                            25.0                           51.0   \n",
       "\n",
       "   Sponsored followers  Organic followers  Total followers  \\\n",
       "0                  0.0               16.0             16.0   \n",
       "1                  0.0               27.0             27.0   \n",
       "2                  0.0               39.0             39.0   \n",
       "3                  0.0               29.0             29.0   \n",
       "4                  0.0               22.0             22.0   \n",
       "\n",
       "   Impressions (organic)  Impressions (sponsored)  Impressions (total)  \\\n",
       "0                    0.0                      0.0                  0.0   \n",
       "1                    0.0                      0.0                  0.0   \n",
       "2                    0.0                      0.0                  0.0   \n",
       "3                    0.0                      0.0                  0.0   \n",
       "4                    0.0                      0.0                  0.0   \n",
       "\n",
       "   Unique impressions (organic)  Clicks (organic)  Clicks (sponsored)  \\\n",
       "0                           0.0               0.0                 0.0   \n",
       "1                           0.0               0.0                 0.0   \n",
       "2                           0.0               0.0                 0.0   \n",
       "3                           0.0               0.0                 0.0   \n",
       "4                           0.0               0.0                 0.0   \n",
       "\n",
       "   Clicks (total)  Reactions (organic)  Reactions (sponsored)  \\\n",
       "0             0.0                  0.0                    0.0   \n",
       "1             0.0                  0.0                    0.0   \n",
       "2             0.0                  0.0                    0.0   \n",
       "3             0.0                  0.0                    0.0   \n",
       "4             0.0                  0.0                    0.0   \n",
       "\n",
       "   Reactions (total)  Comments (organic)  Comments (sponsored)  \\\n",
       "0                0.0                 0.0                   0.0   \n",
       "1                0.0                 0.0                   0.0   \n",
       "2                0.0                 0.0                   0.0   \n",
       "3                0.0                 0.0                   0.0   \n",
       "4                0.0                 0.0                   0.0   \n",
       "\n",
       "   Comments (total)  Shares (organic)  Shares (sponsored)  Shares (total)  \\\n",
       "0               0.0               0.0                 0.0             0.0   \n",
       "1               0.0               0.0                 0.0             0.0   \n",
       "2               0.0               0.0                 0.0             0.0   \n",
       "3               0.0               0.0                 0.0             0.0   \n",
       "4               0.0               0.0                 0.0             0.0   \n",
       "\n",
       "   Engagement rate (organic)  Engagement rate (sponsored)  \\\n",
       "0                        0.0                          0.0   \n",
       "1                        0.0                          0.0   \n",
       "2                        0.0                          0.0   \n",
       "3                        0.0                          0.0   \n",
       "4                        0.0                          0.0   \n",
       "\n",
       "   Engagement rate (total)  \n",
       "0                      0.0  \n",
       "1                      0.0  \n",
       "2                      0.0  \n",
       "3                      0.0  \n",
       "4                      0.0  "
      ]
     },
     "execution_count": 36,
     "metadata": {},
     "output_type": "execute_result"
    }
   ],
   "source": [
    "#engagement_top_posts_filepath\n",
    "\n",
    "engagement_df.head()"
   ]
  },
  {
   "cell_type": "markdown",
   "metadata": {},
   "source": [
    "### Engagement Posts"
   ]
  },
  {
   "cell_type": "code",
   "execution_count": 37,
   "metadata": {},
   "outputs": [],
   "source": [
    "def make_engagement_posts(engagement_metrics_update_df):\n",
    "    columns = ['Created date',\n",
    "                        'Post title',\n",
    "                        'Post link',\n",
    "                        'Post type',\n",
    "                        'Impressions',\n",
    "                        'Video views',\n",
    "                        'Clicks',\n",
    "                        'Click through rate (CTR)',\n",
    "                        'Likes',\n",
    "                        'Comments',\n",
    "                        'Shares', \n",
    "                        'Follows',\n",
    "        'Engagement rate'] \n",
    "    \n",
    "    engagement_metrics_update_df = engagement_metrics_update_df.fillna(0)\n",
    "    data = []\n",
    "    for index, row in engagement_metrics_update_df.iterrows():\n",
    "        data.append([row[\"Created date\"], row[\"Update title\"],row[\"Update link\"],row[\"Update type\"],\n",
    "                           row[\"Impressions\"],row[\"Video views\"],row[\"Clicks\"],row[\"Click through rate (CTR)\"],\n",
    "                           row[\"Likes\"],row[\"Comments\"], row[\"Shares\"],row[\"Follows\"],row[\"Engagement rate\"]\n",
    "                           ])\n",
    "    \n",
    "    engagement_posts_df = pd.DataFrame(data, \n",
    "               columns =columns)\n",
    "    \n",
    "    \n",
    "    return engagement_posts_df\n",
    "    \n",
    "\n",
    "    "
   ]
  },
  {
   "cell_type": "code",
   "execution_count": 38,
   "metadata": {},
   "outputs": [],
   "source": [
    "engagement_posts_df = make_engagement_posts(engagement_metrics_update_df)"
   ]
  },
  {
   "cell_type": "code",
   "execution_count": 39,
   "metadata": {},
   "outputs": [
    {
     "name": "stdout",
     "output_type": "stream",
     "text": [
      "Number of rows and columns (43, 13)\n"
     ]
    }
   ],
   "source": [
    "print(f\"Number of rows and columns\",engagement_posts_df.shape)"
   ]
  },
  {
   "cell_type": "code",
   "execution_count": 40,
   "metadata": {},
   "outputs": [
    {
     "data": {
      "text/html": [
       "<div>\n",
       "<style scoped>\n",
       "    .dataframe tbody tr th:only-of-type {\n",
       "        vertical-align: middle;\n",
       "    }\n",
       "\n",
       "    .dataframe tbody tr th {\n",
       "        vertical-align: top;\n",
       "    }\n",
       "\n",
       "    .dataframe thead th {\n",
       "        text-align: right;\n",
       "    }\n",
       "</style>\n",
       "<table border=\"1\" class=\"dataframe\">\n",
       "  <thead>\n",
       "    <tr style=\"text-align: right;\">\n",
       "      <th></th>\n",
       "      <th>Created date</th>\n",
       "      <th>Post title</th>\n",
       "      <th>Post link</th>\n",
       "      <th>Post type</th>\n",
       "      <th>Impressions</th>\n",
       "      <th>Video views</th>\n",
       "      <th>Clicks</th>\n",
       "      <th>Click through rate (CTR)</th>\n",
       "      <th>Likes</th>\n",
       "      <th>Comments</th>\n",
       "      <th>Shares</th>\n",
       "      <th>Follows</th>\n",
       "      <th>Engagement rate</th>\n",
       "    </tr>\n",
       "  </thead>\n",
       "  <tbody>\n",
       "    <tr>\n",
       "      <th>0</th>\n",
       "      <td>06/03/2019</td>\n",
       "      <td>We've changed a lot in 50 short years. We're n...</td>\n",
       "      <td>https://www.linkedin.com/feed/update/urn:li:ac...</td>\n",
       "      <td>Organic</td>\n",
       "      <td>22890</td>\n",
       "      <td>7252</td>\n",
       "      <td>214</td>\n",
       "      <td>0.009349</td>\n",
       "      <td>242</td>\n",
       "      <td>15</td>\n",
       "      <td>28</td>\n",
       "      <td>0</td>\n",
       "      <td>0.021800</td>\n",
       "    </tr>\n",
       "    <tr>\n",
       "      <th>1</th>\n",
       "      <td>05/20/2019</td>\n",
       "      <td>Andrea Jandernoa uses sugar as an artistic med...</td>\n",
       "      <td>https://www.linkedin.com/feed/update/urn:li:ac...</td>\n",
       "      <td>Organic</td>\n",
       "      <td>17710</td>\n",
       "      <td>4803</td>\n",
       "      <td>79</td>\n",
       "      <td>0.004461</td>\n",
       "      <td>73</td>\n",
       "      <td>2</td>\n",
       "      <td>8</td>\n",
       "      <td>0</td>\n",
       "      <td>0.009147</td>\n",
       "    </tr>\n",
       "    <tr>\n",
       "      <th>2</th>\n",
       "      <td>05/13/2019</td>\n",
       "      <td>This weekend, we celebrated the largest gradua...</td>\n",
       "      <td>https://www.linkedin.com/feed/update/urn:li:ac...</td>\n",
       "      <td>Organic</td>\n",
       "      <td>25140</td>\n",
       "      <td>0</td>\n",
       "      <td>332</td>\n",
       "      <td>0.013206</td>\n",
       "      <td>300</td>\n",
       "      <td>9</td>\n",
       "      <td>7</td>\n",
       "      <td>0</td>\n",
       "      <td>0.025776</td>\n",
       "    </tr>\n",
       "    <tr>\n",
       "      <th>3</th>\n",
       "      <td>05/07/2019</td>\n",
       "      <td>Born and raised in a refugee camp, Easter Day ...</td>\n",
       "      <td>https://www.linkedin.com/feed/update/urn:li:ac...</td>\n",
       "      <td>Organic</td>\n",
       "      <td>20391</td>\n",
       "      <td>6304</td>\n",
       "      <td>136</td>\n",
       "      <td>0.006670</td>\n",
       "      <td>121</td>\n",
       "      <td>2</td>\n",
       "      <td>12</td>\n",
       "      <td>0</td>\n",
       "      <td>0.013290</td>\n",
       "    </tr>\n",
       "    <tr>\n",
       "      <th>4</th>\n",
       "      <td>05/02/2019</td>\n",
       "      <td>\"Sen. Lugar was a leader in renewable energy f...</td>\n",
       "      <td>https://www.linkedin.com/feed/update/urn:li:ac...</td>\n",
       "      <td>Organic</td>\n",
       "      <td>11556</td>\n",
       "      <td>0</td>\n",
       "      <td>77</td>\n",
       "      <td>0.006663</td>\n",
       "      <td>52</td>\n",
       "      <td>0</td>\n",
       "      <td>1</td>\n",
       "      <td>0</td>\n",
       "      <td>0.011250</td>\n",
       "    </tr>\n",
       "  </tbody>\n",
       "</table>\n",
       "</div>"
      ],
      "text/plain": [
       "  Created date                                         Post title  \\\n",
       "0   06/03/2019  We've changed a lot in 50 short years. We're n...   \n",
       "1   05/20/2019  Andrea Jandernoa uses sugar as an artistic med...   \n",
       "2   05/13/2019  This weekend, we celebrated the largest gradua...   \n",
       "3   05/07/2019  Born and raised in a refugee camp, Easter Day ...   \n",
       "4   05/02/2019  \"Sen. Lugar was a leader in renewable energy f...   \n",
       "\n",
       "                                           Post link Post type  Impressions  \\\n",
       "0  https://www.linkedin.com/feed/update/urn:li:ac...   Organic        22890   \n",
       "1  https://www.linkedin.com/feed/update/urn:li:ac...   Organic        17710   \n",
       "2  https://www.linkedin.com/feed/update/urn:li:ac...   Organic        25140   \n",
       "3  https://www.linkedin.com/feed/update/urn:li:ac...   Organic        20391   \n",
       "4  https://www.linkedin.com/feed/update/urn:li:ac...   Organic        11556   \n",
       "\n",
       "   Video views  Clicks  Click through rate (CTR)  Likes  Comments  Shares  \\\n",
       "0         7252     214                  0.009349    242        15      28   \n",
       "1         4803      79                  0.004461     73         2       8   \n",
       "2            0     332                  0.013206    300         9       7   \n",
       "3         6304     136                  0.006670    121         2      12   \n",
       "4            0      77                  0.006663     52         0       1   \n",
       "\n",
       "   Follows  Engagement rate  \n",
       "0        0         0.021800  \n",
       "1        0         0.009147  \n",
       "2        0         0.025776  \n",
       "3        0         0.013290  \n",
       "4        0         0.011250  "
      ]
     },
     "execution_count": 40,
     "metadata": {},
     "output_type": "execute_result"
    }
   ],
   "source": [
    "engagement_posts_df.head()"
   ]
  },
  {
   "cell_type": "code",
   "execution_count": 41,
   "metadata": {},
   "outputs": [
    {
     "data": {
      "text/html": [
       "<div>\n",
       "<style scoped>\n",
       "    .dataframe tbody tr th:only-of-type {\n",
       "        vertical-align: middle;\n",
       "    }\n",
       "\n",
       "    .dataframe tbody tr th {\n",
       "        vertical-align: top;\n",
       "    }\n",
       "\n",
       "    .dataframe thead th {\n",
       "        text-align: right;\n",
       "    }\n",
       "</style>\n",
       "<table border=\"1\" class=\"dataframe\">\n",
       "  <thead>\n",
       "    <tr style=\"text-align: right;\">\n",
       "      <th></th>\n",
       "      <th>Location</th>\n",
       "      <th>Total views</th>\n",
       "    </tr>\n",
       "  </thead>\n",
       "  <tbody>\n",
       "    <tr>\n",
       "      <th>0</th>\n",
       "      <td>Greater Boston Area</td>\n",
       "      <td>199</td>\n",
       "    </tr>\n",
       "    <tr>\n",
       "      <th>1</th>\n",
       "      <td>Greater Chicago Area</td>\n",
       "      <td>756</td>\n",
       "    </tr>\n",
       "    <tr>\n",
       "      <th>2</th>\n",
       "      <td>Albany, New York Area</td>\n",
       "      <td>21</td>\n",
       "    </tr>\n",
       "    <tr>\n",
       "      <th>3</th>\n",
       "      <td>Cincinnati, Ohio Area</td>\n",
       "      <td>186</td>\n",
       "    </tr>\n",
       "    <tr>\n",
       "      <th>4</th>\n",
       "      <td>Cleveland/Akron, Ohio Area</td>\n",
       "      <td>64</td>\n",
       "    </tr>\n",
       "  </tbody>\n",
       "</table>\n",
       "</div>"
      ],
      "text/plain": [
       "                     Location  Total views\n",
       "0         Greater Boston Area          199\n",
       "1        Greater Chicago Area          756\n",
       "2       Albany, New York Area           21\n",
       "3       Cincinnati, Ohio Area          186\n",
       "4  Cleveland/Akron, Ohio Area           64"
      ]
     },
     "execution_count": 41,
     "metadata": {},
     "output_type": "execute_result"
    }
   ],
   "source": [
    "visitor_location_df.head()"
   ]
  },
  {
   "cell_type": "markdown",
   "metadata": {},
   "source": [
    "### Visitor Demographic Insights"
   ]
  },
  {
   "cell_type": "code",
   "execution_count": 42,
   "metadata": {},
   "outputs": [
    {
     "data": {
      "text/html": [
       "<div>\n",
       "<style scoped>\n",
       "    .dataframe tbody tr th:only-of-type {\n",
       "        vertical-align: middle;\n",
       "    }\n",
       "\n",
       "    .dataframe tbody tr th {\n",
       "        vertical-align: top;\n",
       "    }\n",
       "\n",
       "    .dataframe thead th {\n",
       "        text-align: right;\n",
       "    }\n",
       "</style>\n",
       "<table border=\"1\" class=\"dataframe\">\n",
       "  <thead>\n",
       "    <tr style=\"text-align: right;\">\n",
       "      <th></th>\n",
       "      <th>Location</th>\n",
       "      <th>Total views</th>\n",
       "    </tr>\n",
       "  </thead>\n",
       "  <tbody>\n",
       "    <tr>\n",
       "      <th>0</th>\n",
       "      <td>Greater Boston Area</td>\n",
       "      <td>199</td>\n",
       "    </tr>\n",
       "    <tr>\n",
       "      <th>1</th>\n",
       "      <td>Greater Chicago Area</td>\n",
       "      <td>756</td>\n",
       "    </tr>\n",
       "    <tr>\n",
       "      <th>2</th>\n",
       "      <td>Albany, New York Area</td>\n",
       "      <td>21</td>\n",
       "    </tr>\n",
       "    <tr>\n",
       "      <th>3</th>\n",
       "      <td>Cincinnati, Ohio Area</td>\n",
       "      <td>186</td>\n",
       "    </tr>\n",
       "    <tr>\n",
       "      <th>4</th>\n",
       "      <td>Cleveland/Akron, Ohio Area</td>\n",
       "      <td>64</td>\n",
       "    </tr>\n",
       "  </tbody>\n",
       "</table>\n",
       "</div>"
      ],
      "text/plain": [
       "                     Location  Total views\n",
       "0         Greater Boston Area          199\n",
       "1        Greater Chicago Area          756\n",
       "2       Albany, New York Area           21\n",
       "3       Cincinnati, Ohio Area          186\n",
       "4  Cleveland/Akron, Ohio Area           64"
      ]
     },
     "execution_count": 42,
     "metadata": {},
     "output_type": "execute_result"
    }
   ],
   "source": [
    "visitor_location_df.head()\n"
   ]
  },
  {
   "cell_type": "markdown",
   "metadata": {},
   "source": [
    "### Follower Demographics Insights"
   ]
  },
  {
   "cell_type": "code",
   "execution_count": 43,
   "metadata": {},
   "outputs": [
    {
     "name": "stdout",
     "output_type": "stream",
     "text": [
      "(99, 2)\n"
     ]
    }
   ],
   "source": [
    "print(followers_location_df.shape)\n"
   ]
  },
  {
   "cell_type": "markdown",
   "metadata": {},
   "source": [
    "## Build Excel Sheets"
   ]
  },
  {
   "cell_type": "code",
   "execution_count": 44,
   "metadata": {},
   "outputs": [],
   "source": [
    "## Output\n",
    "file = \"iu_linkedIn_data.xlsx\"\n",
    "\n",
    "## Save to Engagement insights\n",
    "engagement_insights_sheetname = \"engagement_insights\"\n",
    "engagement_top_posts_sheetname = \"top_engagement_posts\"\n",
    "\n",
    "### Visitor Demographic Insights\n",
    "visitor_demographics_location_sheetname = \"visitors_by_location\"\n",
    "visitor_demographics_industry_sheetname = \"visitors_by_industry\"\n",
    "\n",
    "\n",
    "### Follower Demographic insights\n",
    "follower_demographics_location_sheetname = \"followers_by_location\"\n",
    "follower_demographics_industry_sheetname = \"followers_by_industry\"\n",
    "follower_demographics_seniority_sheetname = \"followers_by_seniority\""
   ]
  },
  {
   "cell_type": "code",
   "execution_count": 45,
   "metadata": {},
   "outputs": [
    {
     "name": "stdout",
     "output_type": "stream",
     "text": [
      "RangeIndex(start=0, stop=120, step=1)\n"
     ]
    }
   ],
   "source": [
    "print(visitor_industry_df.index)"
   ]
  },
  {
   "cell_type": "code",
   "execution_count": 46,
   "metadata": {},
   "outputs": [],
   "source": [
    "with pd.ExcelWriter(os.path.join(processed_data_dir,file),engine='xlsxwriter') as writer:\n",
    "    \n",
    "    ## Metrics\n",
    "    engagement_df.to_excel(writer, sheet_name=engagement_insights_sheetname,index= False)\n",
    "    engagement_posts_df.to_excel(writer, sheet_name=engagement_top_posts_sheetname,index= False)\n",
    "    \n",
    "    ## visitor demographics\n",
    "    visitor_location_df.to_excel(writer, sheet_name = visitor_demographics_location_sheetname,index=False)\n",
    "    visitor_industry_df.to_excel(writer, sheet_name = visitor_demographics_industry_sheetname,index=False)\n",
    "\n",
    "    ## follower demographics\n",
    "    followers_location_df.to_excel(writer, sheet_name = follower_demographics_location_sheetname,index=False)\n",
    "    followers_industry_df.to_excel(writer, sheet_name = follower_demographics_industry_sheetname,index=False)\n",
    "    followers_seniority_df.to_excel(writer, sheet_name = follower_demographics_seniority_sheetname,index=False)\n",
    "    \n",
    "    \n",
    "    writer.save()"
   ]
  },
  {
   "cell_type": "code",
   "execution_count": null,
   "metadata": {},
   "outputs": [],
   "source": []
  },
  {
   "cell_type": "code",
   "execution_count": null,
   "metadata": {},
   "outputs": [],
   "source": []
  },
  {
   "cell_type": "code",
   "execution_count": null,
   "metadata": {},
   "outputs": [],
   "source": []
  },
  {
   "cell_type": "code",
   "execution_count": null,
   "metadata": {},
   "outputs": [],
   "source": []
  },
  {
   "cell_type": "code",
   "execution_count": null,
   "metadata": {},
   "outputs": [],
   "source": []
  }
 ],
 "metadata": {
  "kernelspec": {
   "display_name": "Python 3",
   "language": "python",
   "name": "python3"
  },
  "language_info": {
   "codemirror_mode": {
    "name": "ipython",
    "version": 3
   },
   "file_extension": ".py",
   "mimetype": "text/x-python",
   "name": "python",
   "nbconvert_exporter": "python",
   "pygments_lexer": "ipython3",
   "version": "3.7.3"
  }
 },
 "nbformat": 4,
 "nbformat_minor": 2
}
