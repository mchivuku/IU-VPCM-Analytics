{
 "cells": [
  {
   "cell_type": "markdown",
   "metadata": {},
   "source": [
    "# Pre-processing LinkedIn Files\n",
    "\n",
    "Following are the list of files gathered by linkedIn:\n",
    "\n",
    "1. Visitor stats\n",
    "2. Updates\n",
    "3. Followers\n",
    "\n",
    "\n",
    "Following files will be combined to draw - Engagement insights\n",
    "\n",
    "**Engagement Insights:**\n",
    "Draw insight on:\n",
    "<ul>\n",
    "    <li>total page views to date,</li>\n",
    "    <li> total unique visitors to </li>\n",
    "    <li> average engagement rate </li>\n",
    "    <li> linked In posts </li>\n",
    "</ul>\n",
    "\n",
    "\n",
    "**Visitor Insights:**\n",
    "Draw insight on visitor demographics:\n",
    "<ul>\n",
    "    <li> Location of visitors </li>\n",
    "    <li> Visitor by industry </li>\n",
    " </ul>\n",
    " \n",
    "**Follower Insights:**\n",
    "Draw insight on follower demographics:\n",
    "<ul>\n",
    "    <li> Location of followers </li>\n",
    "    <li> Follower Industry </li>\n",
    " </ul>\n",
    " "
   ]
  },
  {
   "cell_type": "markdown",
   "metadata": {},
   "source": [
    "## Import Libraries"
   ]
  },
  {
   "cell_type": "code",
   "execution_count": 2,
   "metadata": {},
   "outputs": [
    {
     "data": {
      "text/html": [
       "        <script type=\"text/javascript\">\n",
       "        window.PlotlyConfig = {MathJaxConfig: 'local'};\n",
       "        if (window.MathJax) {MathJax.Hub.Config({SVG: {font: \"STIX-Web\"}});}\n",
       "        if (typeof require !== 'undefined') {\n",
       "        require.undef(\"plotly\");\n",
       "        requirejs.config({\n",
       "            paths: {\n",
       "                'plotly': ['https://cdn.plot.ly/plotly-latest.min']\n",
       "            }\n",
       "        });\n",
       "        require(['plotly'], function(Plotly) {\n",
       "            window._Plotly = Plotly;\n",
       "        });\n",
       "        }\n",
       "        </script>\n",
       "        "
      ]
     },
     "metadata": {},
     "output_type": "display_data"
    }
   ],
   "source": [
    "import os\n",
    "import pandas as pd\n",
    "import numpy as np\n",
    "from datetime import date, timedelta, datetime\n",
    "import csv\n",
    "\n",
    "\n",
    "### Data Visualization\n",
    "\n",
    "import matplotlib.pyplot as plt\n",
    "import seaborn as sns\n",
    "import plotly \n",
    "\n",
    "# Replace with your information\n",
    "plotly.tools.set_credentials_file(username='mchivuku', api_key='ONCxWI3IjbPiHtld9PFm')\n",
    "# plotly standard imports\n",
    "import plotly.graph_objs as go\n",
    "import plotly.plotly as py\n",
    "\n",
    "# Cufflinks wrapper on plotly\n",
    "import cufflinks\n",
    "\n",
    "\n",
    "# Options for pandas\n",
    "pd.options.display.max_columns = 30\n",
    "\n",
    "# Display all cell outputs\n",
    "from IPython.core.interactiveshell import InteractiveShell\n",
    "InteractiveShell.ast_node_interactivity = 'all'\n",
    "\n",
    "from plotly.offline import iplot\n",
    "cufflinks.go_offline()\n",
    "\n",
    "# Set global theme\n",
    "cufflinks.set_config_file(world_readable=True, theme='pearl')\n",
    "\n",
    "%matplotlib inline\n",
    "plt.style.use(\"seaborn\")\n",
    "\n"
   ]
  },
  {
   "cell_type": "markdown",
   "metadata": {},
   "source": [
    "## Settings"
   ]
  },
  {
   "cell_type": "code",
   "execution_count": 17,
   "metadata": {},
   "outputs": [],
   "source": [
    "raw_data_dir = os.path.join(\"../../\",\"data\",\"raw_data\",\"iu-bloomington\",\"linkedIn\")\n",
    "processed_data_dir = os.path.join(\"../../\",\"data\",\"processed_data\",\"iu-bloomington\",\"linkedIn\")\n",
    "\n",
    "followers_file =  \"indiana-university-bloomington_followers.xls\"\n",
    "engagements_file = \"indiana-university-bloomington_updates.xls\"\n",
    "visitor_file = \"indiana-university-bloomington_visitors.xls\"\n",
    "\n",
    "old_followers_file =  \"indiana-university-bloomington_followers_old.xls\"\n",
    "old_engagements_file = \"indiana-university-bloomington_updates_old.xls\"\n",
    "old_visitor_file = \"indiana-university-bloomington_visitors_old.xls\"\n",
    "\n",
    "\n",
    "\n",
    "start_date = date(2018, 6, 10)  # start date\n",
    "end_date = date(2019, 7, 31)    # end date\n",
    "\n",
    "\n",
    "## Read from\n",
    "visitors_file_path = os.path.join(raw_data_dir,visitor_file )\n",
    "followers_file_path = os.path.join(raw_data_dir,followers_file )\n",
    "engagements_file_path = os.path.join(raw_data_dir, engagements_file)\n",
    "\n",
    "\n",
    "\n",
    "old_visitors_file_path = os.path.join(raw_data_dir,old_visitor_file )\n",
    "old_followers_file_path = os.path.join(raw_data_dir,old_followers_file )\n",
    "old_engagements_file_path = os.path.join(raw_data_dir, old_engagements_file)\n"
   ]
  },
  {
   "cell_type": "code",
   "execution_count": null,
   "metadata": {},
   "outputs": [],
   "source": []
  },
  {
   "cell_type": "markdown",
   "metadata": {},
   "source": [
    "## Exploratory Data Analysis (EDA)"
   ]
  },
  {
   "cell_type": "code",
   "execution_count": 18,
   "metadata": {},
   "outputs": [],
   "source": [
    "visitors = pd.ExcelFile(visitors_file_path)\n",
    "engagements = pd.ExcelFile(engagements_file_path)\n",
    "followers = pd.ExcelFile(followers_file_path)\n"
   ]
  },
  {
   "cell_type": "markdown",
   "metadata": {},
   "source": [
    "### Visitors"
   ]
  },
  {
   "cell_type": "code",
   "execution_count": 4,
   "metadata": {},
   "outputs": [
    {
     "name": "stdout",
     "output_type": "stream",
     "text": [
      "['Visitor metrics', 'Location', 'Job function', 'Seniority', 'Industry', 'Company size']\n"
     ]
    }
   ],
   "source": [
    "print(visitors.sheet_names)"
   ]
  },
  {
   "cell_type": "code",
   "execution_count": 27,
   "metadata": {},
   "outputs": [
    {
     "name": "stdout",
     "output_type": "stream",
     "text": [
      "New: Min date: 2018-08-01 00:00:00  Max date: 2019-07-31 00:00:00\n",
      "Old: Min date: 2018-07-01 00:00:00  Max date: 2019-06-29 00:00:00\n"
     ]
    }
   ],
   "source": [
    "import datetime\n",
    "\n",
    "visitor_metrics_df = pd.read_excel(visitors_file_path, sheet_name='Visitor metrics')\n",
    "visitor_location_df = pd.read_excel(visitors_file_path,sheet_name = \"Location\")\n",
    "visitor_job_function_df = pd.read_excel(visitors_file_path,sheet_name = \"Job function\")\n",
    "visitor_industry_df = pd.read_excel(visitors_file_path,sheet_name= \"Industry\")\n",
    "visitor_company_size_df = pd.read_excel(visitors_file_path, sheet_name = \"Company size\")\n",
    "visitor_seniority_df = pd.read_excel(visitors_file_path,sheet_name = \"Seniority\")\n",
    "\n",
    "\n",
    "## Setting Date as index\n",
    "visitor_metrics_df[\"Date\"]= pd.to_datetime(visitor_metrics_df[\"Date\"]) \n",
    "\n",
    "## Old Data\n",
    "old_visitor_metrics_df = pd.read_excel(old_visitors_file_path, sheet_name='Visitor metrics')\n",
    "old_visitor_location_df = pd.read_excel(old_visitors_file_path,sheet_name = \"Location\")\n",
    "old_visitor_job_function_df = pd.read_excel(old_visitors_file_path,sheet_name = \"Job function\")\n",
    "old_visitor_industry_df = pd.read_excel(old_visitors_file_path,sheet_name= \"Industry\")\n",
    "old_visitor_company_size_df = pd.read_excel(old_visitors_file_path, sheet_name = \"Company size\")\n",
    "old_visitor_seniority_df = pd.read_excel(old_visitors_file_path,sheet_name = \"Seniority\")\n",
    "\n",
    "\n",
    "## Setting Date as index\n",
    "visitor_metrics_df[\"Date\"]= pd.to_datetime(visitor_metrics_df[\"Date\"]) \n",
    "old_visitor_metrics_df[\"Date\"] = pd.to_datetime(old_visitor_metrics_df[\"Date\"])\n",
    "\n",
    "\n",
    "print(\"New: Min date:\", visitor_metrics_df['Date'].min(), \" Max date:\", visitor_metrics_df[\"Date\"].max())\n",
    "print(\"Old: Min date:\", old_visitor_metrics_df['Date'].min(), \" Max date:\", old_visitor_metrics_df[\"Date\"].max())\n",
    "\n",
    "\n",
    "append_until_date = datetime.datetime(2018, 7, 31)\n",
    "visitor_metrics_df = visitor_metrics_df.append(old_visitor_metrics_df[old_visitor_metrics_df[\"Date\"]<=append_until_date])"
   ]
  },
  {
   "cell_type": "code",
   "execution_count": 30,
   "metadata": {},
   "outputs": [
    {
     "name": "stdout",
     "output_type": "stream",
     "text": [
      "Min date: 2018-07-01 00:00:00  Max date: 2019-07-31 00:00:00\n",
      "Number of records, in visitor metrics: (396, 25)\n",
      "Number of records, in visitor location: (245, 2)\n",
      "Number of records, in visitor job function: (26, 2)\n",
      "Number of records, in visitor industry: (131, 2)\n",
      "Number of records, in visitor company size: (9, 2)\n",
      "Number of records, in visitor seniority: (10, 2)\n"
     ]
    }
   ],
   "source": [
    "print(\"Min date:\", visitor_metrics_df['Date'].min(), \" Max date:\", visitor_metrics_df[\"Date\"].max())\n",
    "print(f\"Number of records, in visitor metrics: {visitor_metrics_df.shape}\")\n",
    "print(f\"Number of records, in visitor location: {visitor_location_df.shape}\")\n",
    "print(f\"Number of records, in visitor job function: {visitor_job_function_df.shape}\")\n",
    "print(f\"Number of records, in visitor industry: {visitor_industry_df.shape}\")\n",
    "print(f\"Number of records, in visitor company size: {visitor_company_size_df.shape}\")\n",
    "print(f\"Number of records, in visitor seniority: {visitor_seniority_df.shape}\")\n",
    "\n",
    "\n"
   ]
  },
  {
   "cell_type": "code",
   "execution_count": 33,
   "metadata": {
    "scrolled": true
   },
   "outputs": [
    {
     "data": {
      "application/vnd.plotly.v1+json": {
       "config": {
        "linkText": "Export to plot.ly",
        "plotlyServerURL": "https://plot.ly",
        "showLink": true
       },
       "data": [
        {
         "line": {
          "color": "rgba(255, 153, 51, 1.0)",
          "dash": "solid",
          "shape": "linear",
          "width": 1.3
         },
         "mode": "lines",
         "name": "Total page views (desktop)",
         "text": "",
         "type": "scatter",
         "uid": "5f99cb9e-e86b-4645-bcc9-29e46a575ac6",
         "x": [
          "2018-07-31",
          "2018-08-31",
          "2018-09-30",
          "2018-10-31",
          "2018-11-30",
          "2018-12-31",
          "2019-01-31",
          "2019-02-28",
          "2019-03-31",
          "2019-04-30",
          "2019-05-31",
          "2019-06-30",
          "2019-07-31"
         ],
         "y": [
          185.2258064516129,
          200.29032258064515,
          212.26666666666668,
          222.5483870967742,
          224.36666666666667,
          153.61290322580646,
          253.58064516129033,
          446.0357142857143,
          365.38709677419354,
          697.6333333333333,
          279.16129032258067,
          278.93333333333334,
          258.80645161290323
         ]
        },
        {
         "line": {
          "color": "rgba(55, 128, 191, 1.0)",
          "dash": "solid",
          "shape": "linear",
          "width": 1.3
         },
         "mode": "lines",
         "name": "Total page views (mobile)",
         "text": "",
         "type": "scatter",
         "uid": "041f11a4-da4d-4d51-8a89-fbdeda4a3979",
         "x": [
          "2018-07-31",
          "2018-08-31",
          "2018-09-30",
          "2018-10-31",
          "2018-11-30",
          "2018-12-31",
          "2019-01-31",
          "2019-02-28",
          "2019-03-31",
          "2019-04-30",
          "2019-05-31",
          "2019-06-30",
          "2019-07-31"
         ],
         "y": [
          246.2258064516129,
          283.03225806451616,
          327.96666666666664,
          348.48387096774195,
          281.6,
          222.41935483870967,
          231.3548387096774,
          260.2857142857143,
          236.06451612903226,
          240.93333333333334,
          207.83870967741936,
          205.93333333333334,
          172.5483870967742
         ]
        },
        {
         "line": {
          "color": "rgba(50, 171, 96, 1.0)",
          "dash": "solid",
          "shape": "linear",
          "width": 1.3
         },
         "mode": "lines",
         "name": "Total unique visitors (mobile)",
         "text": "",
         "type": "scatter",
         "uid": "c8e347ce-3ab7-4896-ab63-e74b1c19cfb0",
         "x": [
          "2018-07-31",
          "2018-08-31",
          "2018-09-30",
          "2018-10-31",
          "2018-11-30",
          "2018-12-31",
          "2019-01-31",
          "2019-02-28",
          "2019-03-31",
          "2019-04-30",
          "2019-05-31",
          "2019-06-30",
          "2019-07-31"
         ],
         "y": [
          98.48387096774194,
          102.48387096774194,
          107.93333333333334,
          107.51612903225806,
          85.73333333333333,
          83.09677419354838,
          102.90322580645162,
          126.92857142857143,
          132.2258064516129,
          139.76666666666668,
          119.87096774193549,
          119.03333333333333,
          101.19354838709677
         ]
        },
        {
         "line": {
          "color": "rgba(128, 0, 128, 1.0)",
          "dash": "solid",
          "shape": "linear",
          "width": 1.3
         },
         "mode": "lines",
         "name": "Total unique visitors (desktop)",
         "text": "",
         "type": "scatter",
         "uid": "8d363192-255e-461a-93fc-cb4990f65d2b",
         "x": [
          "2018-07-31",
          "2018-08-31",
          "2018-09-30",
          "2018-10-31",
          "2018-11-30",
          "2018-12-31",
          "2019-01-31",
          "2019-02-28",
          "2019-03-31",
          "2019-04-30",
          "2019-05-31",
          "2019-06-30",
          "2019-07-31"
         ],
         "y": [
          133.51612903225808,
          147.7741935483871,
          158.1,
          168.67741935483872,
          157.76666666666668,
          109.2258064516129,
          153.6451612903226,
          172.64285714285714,
          163.03225806451613,
          191.43333333333334,
          134.16129032258064,
          129.2,
          117.70967741935483
         ]
        }
       ],
       "layout": {
        "legend": {
         "bgcolor": "#F5F6F9",
         "font": {
          "color": "#4D5663"
         }
        },
        "paper_bgcolor": "#F5F6F9",
        "plot_bgcolor": "#F5F6F9",
        "title": {
         "font": {
          "color": "#4D5663"
         },
         "text": "Monthly Page Views"
        },
        "xaxis": {
         "gridcolor": "#E1E5ED",
         "showgrid": true,
         "tickfont": {
          "color": "#4D5663"
         },
         "title": {
          "font": {
           "color": "#4D5663"
          },
          "text": "Date"
         },
         "zerolinecolor": "#E1E5ED"
        },
        "yaxis": {
         "gridcolor": "#E1E5ED",
         "showgrid": true,
         "tickfont": {
          "color": "#4D5663"
         },
         "title": {
          "font": {
           "color": "#4D5663"
          },
          "text": "Average Views"
         },
         "zerolinecolor": "#E1E5ED"
        }
       }
      },
      "text/html": [
       "<div>\n",
       "        \n",
       "        \n",
       "            <div id=\"97338826-1bdf-432a-bd24-2632c852fc88\" class=\"plotly-graph-div\" style=\"height:525px; width:100%;\"></div>\n",
       "            <script type=\"text/javascript\">\n",
       "                require([\"plotly\"], function(Plotly) {\n",
       "                    window.PLOTLYENV=window.PLOTLYENV || {};\n",
       "                    window.PLOTLYENV.BASE_URL='https://plot.ly';\n",
       "                    \n",
       "                if (document.getElementById(\"97338826-1bdf-432a-bd24-2632c852fc88\")) {\n",
       "                    Plotly.newPlot(\n",
       "                        '97338826-1bdf-432a-bd24-2632c852fc88',\n",
       "                        [{\"line\": {\"color\": \"rgba(255, 153, 51, 1.0)\", \"dash\": \"solid\", \"shape\": \"linear\", \"width\": 1.3}, \"mode\": \"lines\", \"name\": \"Total page views (desktop)\", \"text\": \"\", \"type\": \"scatter\", \"uid\": \"5f99cb9e-e86b-4645-bcc9-29e46a575ac6\", \"x\": [\"2018-07-31\", \"2018-08-31\", \"2018-09-30\", \"2018-10-31\", \"2018-11-30\", \"2018-12-31\", \"2019-01-31\", \"2019-02-28\", \"2019-03-31\", \"2019-04-30\", \"2019-05-31\", \"2019-06-30\", \"2019-07-31\"], \"y\": [185.2258064516129, 200.29032258064515, 212.26666666666668, 222.5483870967742, 224.36666666666667, 153.61290322580646, 253.58064516129033, 446.0357142857143, 365.38709677419354, 697.6333333333333, 279.16129032258067, 278.93333333333334, 258.80645161290323]}, {\"line\": {\"color\": \"rgba(55, 128, 191, 1.0)\", \"dash\": \"solid\", \"shape\": \"linear\", \"width\": 1.3}, \"mode\": \"lines\", \"name\": \"Total page views (mobile)\", \"text\": \"\", \"type\": \"scatter\", \"uid\": \"041f11a4-da4d-4d51-8a89-fbdeda4a3979\", \"x\": [\"2018-07-31\", \"2018-08-31\", \"2018-09-30\", \"2018-10-31\", \"2018-11-30\", \"2018-12-31\", \"2019-01-31\", \"2019-02-28\", \"2019-03-31\", \"2019-04-30\", \"2019-05-31\", \"2019-06-30\", \"2019-07-31\"], \"y\": [246.2258064516129, 283.03225806451616, 327.96666666666664, 348.48387096774195, 281.6, 222.41935483870967, 231.3548387096774, 260.2857142857143, 236.06451612903226, 240.93333333333334, 207.83870967741936, 205.93333333333334, 172.5483870967742]}, {\"line\": {\"color\": \"rgba(50, 171, 96, 1.0)\", \"dash\": \"solid\", \"shape\": \"linear\", \"width\": 1.3}, \"mode\": \"lines\", \"name\": \"Total unique visitors (mobile)\", \"text\": \"\", \"type\": \"scatter\", \"uid\": \"c8e347ce-3ab7-4896-ab63-e74b1c19cfb0\", \"x\": [\"2018-07-31\", \"2018-08-31\", \"2018-09-30\", \"2018-10-31\", \"2018-11-30\", \"2018-12-31\", \"2019-01-31\", \"2019-02-28\", \"2019-03-31\", \"2019-04-30\", \"2019-05-31\", \"2019-06-30\", \"2019-07-31\"], \"y\": [98.48387096774194, 102.48387096774194, 107.93333333333334, 107.51612903225806, 85.73333333333333, 83.09677419354838, 102.90322580645162, 126.92857142857143, 132.2258064516129, 139.76666666666668, 119.87096774193549, 119.03333333333333, 101.19354838709677]}, {\"line\": {\"color\": \"rgba(128, 0, 128, 1.0)\", \"dash\": \"solid\", \"shape\": \"linear\", \"width\": 1.3}, \"mode\": \"lines\", \"name\": \"Total unique visitors (desktop)\", \"text\": \"\", \"type\": \"scatter\", \"uid\": \"8d363192-255e-461a-93fc-cb4990f65d2b\", \"x\": [\"2018-07-31\", \"2018-08-31\", \"2018-09-30\", \"2018-10-31\", \"2018-11-30\", \"2018-12-31\", \"2019-01-31\", \"2019-02-28\", \"2019-03-31\", \"2019-04-30\", \"2019-05-31\", \"2019-06-30\", \"2019-07-31\"], \"y\": [133.51612903225808, 147.7741935483871, 158.1, 168.67741935483872, 157.76666666666668, 109.2258064516129, 153.6451612903226, 172.64285714285714, 163.03225806451613, 191.43333333333334, 134.16129032258064, 129.2, 117.70967741935483]}],\n",
       "                        {\"legend\": {\"bgcolor\": \"#F5F6F9\", \"font\": {\"color\": \"#4D5663\"}}, \"paper_bgcolor\": \"#F5F6F9\", \"plot_bgcolor\": \"#F5F6F9\", \"title\": {\"font\": {\"color\": \"#4D5663\"}, \"text\": \"Monthly Page Views\"}, \"xaxis\": {\"gridcolor\": \"#E1E5ED\", \"showgrid\": true, \"tickfont\": {\"color\": \"#4D5663\"}, \"title\": {\"font\": {\"color\": \"#4D5663\"}, \"text\": \"Date\"}, \"zerolinecolor\": \"#E1E5ED\"}, \"yaxis\": {\"gridcolor\": \"#E1E5ED\", \"showgrid\": true, \"tickfont\": {\"color\": \"#4D5663\"}, \"title\": {\"font\": {\"color\": \"#4D5663\"}, \"text\": \"Average Views\"}, \"zerolinecolor\": \"#E1E5ED\"}},\n",
       "                        {\"showLink\": true, \"linkText\": \"Export to plot.ly\", \"plotlyServerURL\": \"https://plot.ly\", \"responsive\": true}\n",
       "                    ).then(function(){\n",
       "                            \n",
       "var gd = document.getElementById('97338826-1bdf-432a-bd24-2632c852fc88');\n",
       "var x = new MutationObserver(function (mutations, observer) {{\n",
       "        var display = window.getComputedStyle(gd).display;\n",
       "        if (!display || display === 'none') {{\n",
       "            console.log([gd, 'removed!']);\n",
       "            Plotly.purge(gd);\n",
       "            observer.disconnect();\n",
       "        }}\n",
       "}});\n",
       "\n",
       "// Listen for the removal of the full notebook cells\n",
       "var notebookContainer = gd.closest('#notebook-container');\n",
       "if (notebookContainer) {{\n",
       "    x.observe(notebookContainer, {childList: true});\n",
       "}}\n",
       "\n",
       "// Listen for the clearing of the current output cell\n",
       "var outputEl = gd.closest('.output');\n",
       "if (outputEl) {{\n",
       "    x.observe(outputEl, {childList: true});\n",
       "}}\n",
       "\n",
       "                        })\n",
       "                };\n",
       "                });\n",
       "            </script>\n",
       "        </div>"
      ]
     },
     "metadata": {},
     "output_type": "display_data"
    }
   ],
   "source": [
    "page_views_df = visitor_metrics_df[['Total page views (desktop)', 'Total page views (mobile)','Total unique visitors (mobile)',\n",
    "                                    'Total unique visitors (desktop)',\n",
    "          'Date']].set_index('Date').resample('M').mean()\n",
    "\n",
    "page_views_df.iplot(\n",
    "    kind='line',\n",
    "    xTitle='Date',\n",
    "    yTitle='Average Views',\n",
    "    title='Monthly Page Views')"
   ]
  },
  {
   "cell_type": "code",
   "execution_count": 34,
   "metadata": {},
   "outputs": [
    {
     "data": {
      "application/vnd.plotly.v1+json": {
       "config": {
        "linkText": "Export to plot.ly",
        "plotlyServerURL": "https://plot.ly",
        "showLink": true
       },
       "data": [
        {
         "marker": {
          "color": "rgba(255, 153, 51, 1.0)",
          "line": {
           "width": 1.3
          },
          "opacity": 0.8,
          "size": [
           13
          ],
          "symbol": "circle"
         },
         "mode": "markers",
         "name": "Defense & Space",
         "textfont": {
          "color": "#4D5663"
         },
         "type": "scatter",
         "uid": "902e678d-3326-41aa-a091-46256ba4bd20",
         "x": [
          634
         ],
         "y": [
          "Defense & Space"
         ]
        },
        {
         "marker": {
          "color": "rgba(55, 128, 191, 1.0)",
          "line": {
           "width": 1.3
          },
          "opacity": 0.8,
          "size": [
           12
          ],
          "symbol": "circle"
         },
         "mode": "markers",
         "name": "Computer Hardware",
         "textfont": {
          "color": "#4D5663"
         },
         "type": "scatter",
         "uid": "6c166591-415c-42ac-ad0d-8f3595559bd5",
         "x": [
          2
         ],
         "y": [
          "Computer Hardware"
         ]
        },
        {
         "marker": {
          "color": "rgba(50, 171, 96, 1.0)",
          "line": {
           "width": 1.3
          },
          "opacity": 0.8,
          "size": [
           26
          ],
          "symbol": "circle"
         },
         "mode": "markers",
         "name": "Computer Software",
         "textfont": {
          "color": "#4D5663"
         },
         "type": "scatter",
         "uid": "172c3d79-b91f-411c-a5a7-9ccb28acf3fb",
         "x": [
          5313
         ],
         "y": [
          "Computer Software"
         ]
        },
        {
         "marker": {
          "color": "rgba(128, 0, 128, 1.0)",
          "line": {
           "width": 1.3
          },
          "opacity": 0.8,
          "size": [
           12
          ],
          "symbol": "circle"
         },
         "mode": "markers",
         "name": "Computer Networking",
         "textfont": {
          "color": "#4D5663"
         },
         "type": "scatter",
         "uid": "0d129e21-8368-4ca7-8bf3-04bae42ad70a",
         "x": [
          281
         ],
         "y": [
          "Computer Networking"
         ]
        },
        {
         "marker": {
          "color": "rgba(219, 64, 82, 1.0)",
          "line": {
           "width": 1.3
          },
          "opacity": 0.8,
          "size": [
           24
          ],
          "symbol": "circle"
         },
         "mode": "markers",
         "name": "Internet",
         "textfont": {
          "color": "#4D5663"
         },
         "type": "scatter",
         "uid": "aeaf8471-caa2-4ccb-928b-f543cfc2820b",
         "x": [
          4779
         ],
         "y": [
          "Internet"
         ]
        },
        {
         "marker": {
          "color": "rgba(0, 128, 128, 1.0)",
          "line": {
           "width": 1.3
          },
          "opacity": 0.8,
          "size": [
           13
          ],
          "symbol": "circle"
         },
         "mode": "markers",
         "name": "Semiconductors",
         "textfont": {
          "color": "#4D5663"
         },
         "type": "scatter",
         "uid": "221ad562-3639-4937-bb39-5e07e991ff99",
         "x": [
          393
         ],
         "y": [
          "Semiconductors"
         ]
        },
        {
         "marker": {
          "color": "rgba(255, 255, 51, 1.0)",
          "line": {
           "width": 1.3
          },
          "opacity": 0.8,
          "size": [
           16
          ],
          "symbol": "circle"
         },
         "mode": "markers",
         "name": "Telecommunications",
         "textfont": {
          "color": "#4D5663"
         },
         "type": "scatter",
         "uid": "84fcf138-0fd8-4f56-9520-248d3063cdc4",
         "x": [
          1708
         ],
         "y": [
          "Telecommunications"
         ]
        },
        {
         "marker": {
          "color": "rgba(128, 128, 0, 1.0)",
          "line": {
           "width": 1.3
          },
          "opacity": 0.8,
          "size": [
           16
          ],
          "symbol": "circle"
         },
         "mode": "markers",
         "name": "Law Practice",
         "textfont": {
          "color": "#4D5663"
         },
         "type": "scatter",
         "uid": "34fa5430-41bd-4437-af45-f5e536179022",
         "x": [
          1705
         ],
         "y": [
          "Law Practice"
         ]
        },
        {
         "marker": {
          "color": "rgba(251, 128, 114, 1.0)",
          "line": {
           "width": 1.3
          },
          "opacity": 0.8,
          "size": [
           13
          ],
          "symbol": "circle"
         },
         "mode": "markers",
         "name": "Legal Services",
         "textfont": {
          "color": "#4D5663"
         },
         "type": "scatter",
         "uid": "0d1c329c-22a3-41cd-a2b0-2a8ac438fa9d",
         "x": [
          743
         ],
         "y": [
          "Legal Services"
         ]
        },
        {
         "marker": {
          "color": "rgba(128, 177, 211, 1.0)",
          "line": {
           "width": 1.3
          },
          "opacity": 0.8,
          "size": [
           22
          ],
          "symbol": "circle"
         },
         "mode": "markers",
         "name": "Management Consulting",
         "textfont": {
          "color": "#4D5663"
         },
         "type": "scatter",
         "uid": "624f0c88-73e5-4b21-a37f-bd07f608a8f9",
         "x": [
          4071
         ],
         "y": [
          "Management Consulting"
         ]
        },
        {
         "marker": {
          "color": "rgba(128, 177, 211, 0.9389312977099236)",
          "line": {
           "width": 1.3
          },
          "opacity": 0.8,
          "size": [
           15
          ],
          "symbol": "circle"
         },
         "mode": "markers",
         "name": "Biotechnology",
         "textfont": {
          "color": "#4D5663"
         },
         "type": "scatter",
         "uid": "6fcd53e0-791d-4f3c-84d6-8b0ef667ac35",
         "x": [
          1128
         ],
         "y": [
          "Biotechnology"
         ]
        },
        {
         "marker": {
          "color": "rgba(255, 153, 51, 0.9389312977099236)",
          "line": {
           "width": 1.3
          },
          "opacity": 0.8,
          "size": [
           13
          ],
          "symbol": "circle"
         },
         "mode": "markers",
         "name": "Medical Practice",
         "textfont": {
          "color": "#4D5663"
         },
         "type": "scatter",
         "uid": "a50bb17a-6243-4398-b3f7-5f0e7656d8b5",
         "x": [
          528
         ],
         "y": [
          "Medical Practice"
         ]
        },
        {
         "marker": {
          "color": "rgba(55, 128, 191, 0.9389312977099236)",
          "line": {
           "width": 1.3
          },
          "opacity": 0.8,
          "size": [
           28
          ],
          "symbol": "circle"
         },
         "mode": "markers",
         "name": "Hospital & Health Care",
         "textfont": {
          "color": "#4D5663"
         },
         "type": "scatter",
         "uid": "55ff4eba-7d8c-4029-9f02-90d2583dd590",
         "x": [
          6046
         ],
         "y": [
          "Hospital & Health Care"
         ]
        },
        {
         "marker": {
          "color": "rgba(50, 171, 96, 0.9389312977099236)",
          "line": {
           "width": 1.3
          },
          "opacity": 0.8,
          "size": [
           16
          ],
          "symbol": "circle"
         },
         "mode": "markers",
         "name": "Pharmaceuticals",
         "textfont": {
          "color": "#4D5663"
         },
         "type": "scatter",
         "uid": "4c629c41-1bf3-4a94-9732-d26a3ffdb9ef",
         "x": [
          1755
         ],
         "y": [
          "Pharmaceuticals"
         ]
        },
        {
         "marker": {
          "color": "rgba(128, 0, 128, 0.9389312977099236)",
          "line": {
           "width": 1.3
          },
          "opacity": 0.8,
          "size": [
           12
          ],
          "symbol": "circle"
         },
         "mode": "markers",
         "name": "Veterinary",
         "textfont": {
          "color": "#4D5663"
         },
         "type": "scatter",
         "uid": "c069c1d2-b5e9-4b6d-af99-5d517178b32f",
         "x": [
          11
         ],
         "y": [
          "Veterinary"
         ]
        },
        {
         "marker": {
          "color": "rgba(219, 64, 82, 0.9389312977099236)",
          "line": {
           "width": 1.3
          },
          "opacity": 0.8,
          "size": [
           15
          ],
          "symbol": "circle"
         },
         "mode": "markers",
         "name": "Medical Devices",
         "textfont": {
          "color": "#4D5663"
         },
         "type": "scatter",
         "uid": "945d0001-6b5a-41fc-8fa6-a27e7ee223a1",
         "x": [
          1331
         ],
         "y": [
          "Medical Devices"
         ]
        },
        {
         "marker": {
          "color": "rgba(0, 128, 128, 0.9389312977099236)",
          "line": {
           "width": 1.3
          },
          "opacity": 0.8,
          "size": [
           12
          ],
          "symbol": "circle"
         },
         "mode": "markers",
         "name": "Cosmetics",
         "textfont": {
          "color": "#4D5663"
         },
         "type": "scatter",
         "uid": "51a84668-041f-4882-a7e2-00a538f4e89c",
         "x": [
          122
         ],
         "y": [
          "Cosmetics"
         ]
        },
        {
         "marker": {
          "color": "rgba(255, 255, 51, 0.9389312977099236)",
          "line": {
           "width": 1.3
          },
          "opacity": 0.8,
          "size": [
           15
          ],
          "symbol": "circle"
         },
         "mode": "markers",
         "name": "Apparel & Fashion",
         "textfont": {
          "color": "#4D5663"
         },
         "type": "scatter",
         "uid": "ccce482e-69e9-4c78-a40d-7f6ff06ed1b7",
         "x": [
          1326
         ],
         "y": [
          "Apparel & Fashion"
         ]
        },
        {
         "marker": {
          "color": "rgba(128, 128, 0, 0.9389312977099236)",
          "line": {
           "width": 1.3
          },
          "opacity": 0.8,
          "size": [
           12
          ],
          "symbol": "circle"
         },
         "mode": "markers",
         "name": "Sporting Goods",
         "textfont": {
          "color": "#4D5663"
         },
         "type": "scatter",
         "uid": "ba56bc9a-226e-4126-a5b0-32fc33fdc1d1",
         "x": [
          173
         ],
         "y": [
          "Sporting Goods"
         ]
        },
        {
         "marker": {
          "color": "rgba(251, 128, 114, 0.9389312977099236)",
          "line": {
           "width": 1.3
          },
          "opacity": 0.8,
          "size": [
           12
          ],
          "symbol": "circle"
         },
         "mode": "markers",
         "name": "Supermarkets",
         "textfont": {
          "color": "#4D5663"
         },
         "type": "scatter",
         "uid": "6b459328-3d7f-4e51-8c35-5e29fe14b442",
         "x": [
          2
         ],
         "y": [
          "Supermarkets"
         ]
        },
        {
         "marker": {
          "color": "rgba(251, 128, 114, 0.8778625954198473)",
          "line": {
           "width": 1.3
          },
          "opacity": 0.8,
          "size": [
           13
          ],
          "symbol": "circle"
         },
         "mode": "markers",
         "name": "Food Production",
         "textfont": {
          "color": "#4D5663"
         },
         "type": "scatter",
         "uid": "517324e0-589e-43df-b668-9147124c1276",
         "x": [
          580
         ],
         "y": [
          "Food Production"
         ]
        },
        {
         "marker": {
          "color": "rgba(128, 177, 211, 0.8778625954198473)",
          "line": {
           "width": 1.3
          },
          "opacity": 0.8,
          "size": [
           13
          ],
          "symbol": "circle"
         },
         "mode": "markers",
         "name": "Consumer Electronics",
         "textfont": {
          "color": "#4D5663"
         },
         "type": "scatter",
         "uid": "31d9852f-bc3a-44ca-8035-c2ed93db5cda",
         "x": [
          540
         ],
         "y": [
          "Consumer Electronics"
         ]
        },
        {
         "marker": {
          "color": "rgba(255, 153, 51, 0.8778625954198473)",
          "line": {
           "width": 1.3
          },
          "opacity": 0.8,
          "size": [
           16
          ],
          "symbol": "circle"
         },
         "mode": "markers",
         "name": "Consumer Goods",
         "textfont": {
          "color": "#4D5663"
         },
         "type": "scatter",
         "uid": "35610a09-c4fb-4630-9912-15bc834fd462",
         "x": [
          1689
         ],
         "y": [
          "Consumer Goods"
         ]
        },
        {
         "marker": {
          "color": "rgba(55, 128, 191, 0.8778625954198473)",
          "line": {
           "width": 1.3
          },
          "opacity": 0.8,
          "size": [
           12
          ],
          "symbol": "circle"
         },
         "mode": "markers",
         "name": "Furniture",
         "textfont": {
          "color": "#4D5663"
         },
         "type": "scatter",
         "uid": "69c13bf7-2175-4c5b-af3a-0618e24b7e59",
         "x": [
          45
         ],
         "y": [
          "Furniture"
         ]
        },
        {
         "marker": {
          "color": "rgba(50, 171, 96, 0.8778625954198473)",
          "line": {
           "width": 1.3
          },
          "opacity": 0.8,
          "size": [
           23
          ],
          "symbol": "circle"
         },
         "mode": "markers",
         "name": "Retail",
         "textfont": {
          "color": "#4D5663"
         },
         "type": "scatter",
         "uid": "1d0c79c3-1903-4d1d-bbb3-16e0b45a4a8f",
         "x": [
          4221
         ],
         "y": [
          "Retail"
         ]
        },
        {
         "marker": {
          "color": "rgba(128, 0, 128, 0.8778625954198473)",
          "line": {
           "width": 1.3
          },
          "opacity": 0.8,
          "size": [
           15
          ],
          "symbol": "circle"
         },
         "mode": "markers",
         "name": "Entertainment",
         "textfont": {
          "color": "#4D5663"
         },
         "type": "scatter",
         "uid": "7bcd9973-d01c-4cb8-b2b9-efb5704bdd21",
         "x": [
          1458
         ],
         "y": [
          "Entertainment"
         ]
        },
        {
         "marker": {
          "color": "rgba(219, 64, 82, 0.8778625954198473)",
          "line": {
           "width": 1.3
          },
          "opacity": 0.8,
          "size": [
           13
          ],
          "symbol": "circle"
         },
         "mode": "markers",
         "name": "Leisure, Travel & Tourism",
         "textfont": {
          "color": "#4D5663"
         },
         "type": "scatter",
         "uid": "2565190d-1fbd-4a3f-87cd-8dd207401f11",
         "x": [
          452
         ],
         "y": [
          "Leisure, Travel & Tourism"
         ]
        },
        {
         "marker": {
          "color": "rgba(0, 128, 128, 0.8778625954198473)",
          "line": {
           "width": 1.3
          },
          "opacity": 0.8,
          "size": [
           17
          ],
          "symbol": "circle"
         },
         "mode": "markers",
         "name": "Hospitality",
         "textfont": {
          "color": "#4D5663"
         },
         "type": "scatter",
         "uid": "2b96dbe5-3993-4d60-b3ed-9532912f3e6d",
         "x": [
          1953
         ],
         "y": [
          "Hospitality"
         ]
        },
        {
         "marker": {
          "color": "rgba(255, 255, 51, 0.8778625954198473)",
          "line": {
           "width": 1.3
          },
          "opacity": 0.8,
          "size": [
           15
          ],
          "symbol": "circle"
         },
         "mode": "markers",
         "name": "Restaurants",
         "textfont": {
          "color": "#4D5663"
         },
         "type": "scatter",
         "uid": "2eb70dd1-9b8f-45ca-b047-e395fa8b18b2",
         "x": [
          1282
         ],
         "y": [
          "Restaurants"
         ]
        },
        {
         "marker": {
          "color": "rgba(128, 128, 0, 0.8778625954198473)",
          "line": {
           "width": 1.3
          },
          "opacity": 0.8,
          "size": [
           18
          ],
          "symbol": "circle"
         },
         "mode": "markers",
         "name": "Sports",
         "textfont": {
          "color": "#4D5663"
         },
         "type": "scatter",
         "uid": "f20a34d3-bc9d-49e5-9578-585c3a1add3c",
         "x": [
          2302
         ],
         "y": [
          "Sports"
         ]
        },
        {
         "marker": {
          "color": "rgba(128, 128, 0, 0.8167938931297709)",
          "line": {
           "width": 1.3
          },
          "opacity": 0.8,
          "size": [
           16
          ],
          "symbol": "circle"
         },
         "mode": "markers",
         "name": "Food & Beverages",
         "textfont": {
          "color": "#4D5663"
         },
         "type": "scatter",
         "uid": "394ef329-ff8a-441e-ad7a-16a7f0b69974",
         "x": [
          1530
         ],
         "y": [
          "Food & Beverages"
         ]
        },
        {
         "marker": {
          "color": "rgba(251, 128, 114, 0.8167938931297709)",
          "line": {
           "width": 1.3
          },
          "opacity": 0.8,
          "size": [
           12
          ],
          "symbol": "circle"
         },
         "mode": "markers",
         "name": "Motion Pictures and Film",
         "textfont": {
          "color": "#4D5663"
         },
         "type": "scatter",
         "uid": "a7d57df5-6a98-4b0c-9f3f-e046b471926e",
         "x": [
          42
         ],
         "y": [
          "Motion Pictures and Film"
         ]
        },
        {
         "marker": {
          "color": "rgba(128, 177, 211, 0.8167938931297709)",
          "line": {
           "width": 1.3
          },
          "opacity": 0.8,
          "size": [
           14
          ],
          "symbol": "circle"
         },
         "mode": "markers",
         "name": "Broadcast Media",
         "textfont": {
          "color": "#4D5663"
         },
         "type": "scatter",
         "uid": "958111bd-4ad5-4763-9faf-7938e2ebec86",
         "x": [
          1105
         ],
         "y": [
          "Broadcast Media"
         ]
        },
        {
         "marker": {
          "color": "rgba(255, 153, 51, 0.8167938931297709)",
          "line": {
           "width": 1.3
          },
          "opacity": 0.8,
          "size": [
           12
          ],
          "symbol": "circle"
         },
         "mode": "markers",
         "name": "Museums and Institutions",
         "textfont": {
          "color": "#4D5663"
         },
         "type": "scatter",
         "uid": "ed227d42-3744-4c15-9694-a6f3334727ea",
         "x": [
          373
         ],
         "y": [
          "Museums and Institutions"
         ]
        },
        {
         "marker": {
          "color": "rgba(55, 128, 191, 0.8167938931297709)",
          "line": {
           "width": 1.3
          },
          "opacity": 0.8,
          "size": [
           12
          ],
          "symbol": "circle"
         },
         "mode": "markers",
         "name": "Fine Art",
         "textfont": {
          "color": "#4D5663"
         },
         "type": "scatter",
         "uid": "0d512246-426a-44cf-930e-9a4b188cfe7c",
         "x": [
          12
         ],
         "y": [
          "Fine Art"
         ]
        },
        {
         "marker": {
          "color": "rgba(50, 171, 96, 0.8167938931297709)",
          "line": {
           "width": 1.3
          },
          "opacity": 0.8,
          "size": [
           12
          ],
          "symbol": "circle"
         },
         "mode": "markers",
         "name": "Performing Arts",
         "textfont": {
          "color": "#4D5663"
         },
         "type": "scatter",
         "uid": "5f790f27-813e-461e-b24b-516c84c5e911",
         "x": [
          352
         ],
         "y": [
          "Performing Arts"
         ]
        },
        {
         "marker": {
          "color": "rgba(128, 0, 128, 0.8167938931297709)",
          "line": {
           "width": 1.3
          },
          "opacity": 0.8,
          "size": [
           13
          ],
          "symbol": "circle"
         },
         "mode": "markers",
         "name": "Recreational Facilities and Services",
         "textfont": {
          "color": "#4D5663"
         },
         "type": "scatter",
         "uid": "94ca98ec-77ba-4abe-add2-5e73aea332bb",
         "x": [
          399
         ],
         "y": [
          "Recreational Facilities and Services"
         ]
        },
        {
         "marker": {
          "color": "rgba(219, 64, 82, 0.8167938931297709)",
          "line": {
           "width": 1.3
          },
          "opacity": 0.8,
          "size": [
           17
          ],
          "symbol": "circle"
         },
         "mode": "markers",
         "name": "Banking",
         "textfont": {
          "color": "#4D5663"
         },
         "type": "scatter",
         "uid": "f7787ae8-db57-4913-877f-f96d806840be",
         "x": [
          2016
         ],
         "y": [
          "Banking"
         ]
        },
        {
         "marker": {
          "color": "rgba(0, 128, 128, 0.8167938931297709)",
          "line": {
           "width": 1.3
          },
          "opacity": 0.8,
          "size": [
           19
          ],
          "symbol": "circle"
         },
         "mode": "markers",
         "name": "Insurance",
         "textfont": {
          "color": "#4D5663"
         },
         "type": "scatter",
         "uid": "469c810f-f832-4b6e-bf70-0945d275d55f",
         "x": [
          2777
         ],
         "y": [
          "Insurance"
         ]
        },
        {
         "marker": {
          "color": "rgba(255, 255, 51, 0.8167938931297709)",
          "line": {
           "width": 1.3
          },
          "opacity": 0.8,
          "size": [
           34
          ],
          "symbol": "circle"
         },
         "mode": "markers",
         "name": "Financial Services",
         "textfont": {
          "color": "#4D5663"
         },
         "type": "scatter",
         "uid": "ddef5b81-41b3-4f5d-84b7-98d1b1bc78b6",
         "x": [
          8528
         ],
         "y": [
          "Financial Services"
         ]
        },
        {
         "marker": {
          "color": "rgba(255, 255, 51, 0.7557251908396947)",
          "line": {
           "width": 1.3
          },
          "opacity": 0.8,
          "size": [
           17
          ],
          "symbol": "circle"
         },
         "mode": "markers",
         "name": "Real Estate",
         "textfont": {
          "color": "#4D5663"
         },
         "type": "scatter",
         "uid": "88e23d9a-3865-49f4-9b8b-0d033cc8c738",
         "x": [
          2189
         ],
         "y": [
          "Real Estate"
         ]
        },
        {
         "marker": {
          "color": "rgba(128, 128, 0, 0.7557251908396947)",
          "line": {
           "width": 1.3
          },
          "opacity": 0.8,
          "size": [
           13
          ],
          "symbol": "circle"
         },
         "mode": "markers",
         "name": "Investment Banking",
         "textfont": {
          "color": "#4D5663"
         },
         "type": "scatter",
         "uid": "ee5b083d-1af7-415c-bd35-ab323317f3a3",
         "x": [
          675
         ],
         "y": [
          "Investment Banking"
         ]
        },
        {
         "marker": {
          "color": "rgba(251, 128, 114, 0.7557251908396947)",
          "line": {
           "width": 1.3
          },
          "opacity": 0.8,
          "size": [
           14
          ],
          "symbol": "circle"
         },
         "mode": "markers",
         "name": "Investment Management",
         "textfont": {
          "color": "#4D5663"
         },
         "type": "scatter",
         "uid": "c7eec118-2b85-4751-b880-d1f8076eaf71",
         "x": [
          1083
         ],
         "y": [
          "Investment Management"
         ]
        },
        {
         "marker": {
          "color": "rgba(128, 177, 211, 0.7557251908396947)",
          "line": {
           "width": 1.3
          },
          "opacity": 0.8,
          "size": [
           19
          ],
          "symbol": "circle"
         },
         "mode": "markers",
         "name": "Accounting",
         "textfont": {
          "color": "#4D5663"
         },
         "type": "scatter",
         "uid": "74d3ef0a-a3a0-4617-b8cb-dd5f2c744b33",
         "x": [
          2904
         ],
         "y": [
          "Accounting"
         ]
        },
        {
         "marker": {
          "color": "rgba(255, 153, 51, 0.7557251908396947)",
          "line": {
           "width": 1.3
          },
          "opacity": 0.8,
          "size": [
           16
          ],
          "symbol": "circle"
         },
         "mode": "markers",
         "name": "Construction",
         "textfont": {
          "color": "#4D5663"
         },
         "type": "scatter",
         "uid": "609e362e-b656-4674-baa1-2b7c88c72fa9",
         "x": [
          1733
         ],
         "y": [
          "Construction"
         ]
        },
        {
         "marker": {
          "color": "rgba(55, 128, 191, 0.7557251908396947)",
          "line": {
           "width": 1.3
          },
          "opacity": 0.8,
          "size": [
           12
          ],
          "symbol": "circle"
         },
         "mode": "markers",
         "name": "Building Materials",
         "textfont": {
          "color": "#4D5663"
         },
         "type": "scatter",
         "uid": "b3b209bd-5923-4f54-822d-eee8af8a5057",
         "x": [
          324
         ],
         "y": [
          "Building Materials"
         ]
        },
        {
         "marker": {
          "color": "rgba(50, 171, 96, 0.7557251908396947)",
          "line": {
           "width": 1.3
          },
          "opacity": 0.8,
          "size": [
           13
          ],
          "symbol": "circle"
         },
         "mode": "markers",
         "name": "Architecture & Planning",
         "textfont": {
          "color": "#4D5663"
         },
         "type": "scatter",
         "uid": "1d80d993-caa5-4d22-8797-7c75c57fc943",
         "x": [
          385
         ],
         "y": [
          "Architecture & Planning"
         ]
        },
        {
         "marker": {
          "color": "rgba(128, 0, 128, 0.7557251908396947)",
          "line": {
           "width": 1.3
          },
          "opacity": 0.8,
          "size": [
           13
          ],
          "symbol": "circle"
         },
         "mode": "markers",
         "name": "Civil Engineering",
         "textfont": {
          "color": "#4D5663"
         },
         "type": "scatter",
         "uid": "4cab1f7b-ef78-46ae-b29d-41bc9de9f26b",
         "x": [
          409
         ],
         "y": [
          "Civil Engineering"
         ]
        },
        {
         "marker": {
          "color": "rgba(219, 64, 82, 0.7557251908396947)",
          "line": {
           "width": 1.3
          },
          "opacity": 0.8,
          "size": [
           13
          ],
          "symbol": "circle"
         },
         "mode": "markers",
         "name": "Aviation & Aerospace",
         "textfont": {
          "color": "#4D5663"
         },
         "type": "scatter",
         "uid": "e9d057aa-98da-422f-98b2-5d5e09fa7df2",
         "x": [
          603
         ],
         "y": [
          "Aviation & Aerospace"
         ]
        },
        {
         "marker": {
          "color": "rgba(0, 128, 128, 0.7557251908396947)",
          "line": {
           "width": 1.3
          },
          "opacity": 0.8,
          "size": [
           18
          ],
          "symbol": "circle"
         },
         "mode": "markers",
         "name": "Automotive",
         "textfont": {
          "color": "#4D5663"
         },
         "type": "scatter",
         "uid": "1f405765-5ebe-40c6-be3c-3334ee255883",
         "x": [
          2272
         ],
         "y": [
          "Automotive"
         ]
        },
        {
         "marker": {
          "color": "rgba(0, 128, 128, 0.6946564885496183)",
          "line": {
           "width": 1.3
          },
          "opacity": 0.8,
          "size": [
           15
          ],
          "symbol": "circle"
         },
         "mode": "markers",
         "name": "Chemicals",
         "textfont": {
          "color": "#4D5663"
         },
         "type": "scatter",
         "uid": "6e839dc7-f511-4cf4-88de-3d4a1c163087",
         "x": [
          1351
         ],
         "y": [
          "Chemicals"
         ]
        },
        {
         "marker": {
          "color": "rgba(255, 255, 51, 0.6946564885496183)",
          "line": {
           "width": 1.3
          },
          "opacity": 0.8,
          "size": [
           13
          ],
          "symbol": "circle"
         },
         "mode": "markers",
         "name": "Machinery",
         "textfont": {
          "color": "#4D5663"
         },
         "type": "scatter",
         "uid": "c58734cc-1422-467a-a0e6-b9861560f4d3",
         "x": [
          538
         ],
         "y": [
          "Machinery"
         ]
        },
        {
         "marker": {
          "color": "rgba(128, 128, 0, 0.6946564885496183)",
          "line": {
           "width": 1.3
          },
          "opacity": 0.8,
          "size": [
           13
          ],
          "symbol": "circle"
         },
         "mode": "markers",
         "name": "Mining & Metals",
         "textfont": {
          "color": "#4D5663"
         },
         "type": "scatter",
         "uid": "16f11fa1-69fd-424a-b292-030214af5ed2",
         "x": [
          483
         ],
         "y": [
          "Mining & Metals"
         ]
        },
        {
         "marker": {
          "color": "rgba(251, 128, 114, 0.6946564885496183)",
          "line": {
           "width": 1.3
          },
          "opacity": 0.8,
          "size": [
           14
          ],
          "symbol": "circle"
         },
         "mode": "markers",
         "name": "Oil & Energy",
         "textfont": {
          "color": "#4D5663"
         },
         "type": "scatter",
         "uid": "2cbc8103-d562-4de5-971a-2cc7e1422077",
         "x": [
          1070
         ],
         "y": [
          "Oil & Energy"
         ]
        },
        {
         "marker": {
          "color": "rgba(128, 177, 211, 0.6946564885496183)",
          "line": {
           "width": 1.3
          },
          "opacity": 0.8,
          "size": [
           13
          ],
          "symbol": "circle"
         },
         "mode": "markers",
         "name": "Utilities",
         "textfont": {
          "color": "#4D5663"
         },
         "type": "scatter",
         "uid": "32e6199b-1adc-4e68-b08d-779f27b810ba",
         "x": [
          563
         ],
         "y": [
          "Utilities"
         ]
        },
        {
         "marker": {
          "color": "rgba(255, 153, 51, 0.6946564885496183)",
          "line": {
           "width": 1.3
          },
          "opacity": 0.8,
          "size": [
           12
          ],
          "symbol": "circle"
         },
         "mode": "markers",
         "name": "Textiles",
         "textfont": {
          "color": "#4D5663"
         },
         "type": "scatter",
         "uid": "48fe361f-812e-4dd4-ab2f-f670164eb9d3",
         "x": [
          10
         ],
         "y": [
          "Textiles"
         ]
        },
        {
         "marker": {
          "color": "rgba(55, 128, 191, 0.6946564885496183)",
          "line": {
           "width": 1.3
          },
          "opacity": 0.8,
          "size": [
           12
          ],
          "symbol": "circle"
         },
         "mode": "markers",
         "name": "Farming",
         "textfont": {
          "color": "#4D5663"
         },
         "type": "scatter",
         "uid": "3502fc67-83be-48dc-b480-f2e972912775",
         "x": [
          1
         ],
         "y": [
          "Farming"
         ]
        },
        {
         "marker": {
          "color": "rgba(50, 171, 96, 0.6946564885496183)",
          "line": {
           "width": 1.3
          },
          "opacity": 0.8,
          "size": [
           12
          ],
          "symbol": "circle"
         },
         "mode": "markers",
         "name": "Dairy",
         "textfont": {
          "color": "#4D5663"
         },
         "type": "scatter",
         "uid": "5e4ca93f-da14-4111-b56e-0c67d838eb3d",
         "x": [
          20
         ],
         "y": [
          "Dairy"
         ]
        },
        {
         "marker": {
          "color": "rgba(128, 0, 128, 0.6946564885496183)",
          "line": {
           "width": 1.3
          },
          "opacity": 0.8,
          "size": [
           14
          ],
          "symbol": "circle"
         },
         "mode": "markers",
         "name": "Primary/Secondary Education",
         "textfont": {
          "color": "#4D5663"
         },
         "type": "scatter",
         "uid": "764d332c-ac05-4acb-b3d9-3adbd265f7fe",
         "x": [
          913
         ],
         "y": [
          "Primary/Secondary Education"
         ]
        },
        {
         "marker": {
          "color": "rgba(219, 64, 82, 0.6946564885496183)",
          "line": {
           "width": 1.3
          },
          "opacity": 0.8,
          "size": [
           112
          ],
          "symbol": "circle"
         },
         "mode": "markers",
         "name": "Higher Education",
         "textfont": {
          "color": "#4D5663"
         },
         "type": "scatter",
         "uid": "7aa51857-88e3-4fe0-9e03-904225a16662",
         "x": [
          37410
         ],
         "y": [
          "Higher Education"
         ]
        },
        {
         "marker": {
          "color": "rgba(219, 64, 82, 0.633587786259542)",
          "line": {
           "width": 1.3
          },
          "opacity": 0.8,
          "size": [
           24
          ],
          "symbol": "circle"
         },
         "mode": "markers",
         "name": "Education Management",
         "textfont": {
          "color": "#4D5663"
         },
         "type": "scatter",
         "uid": "8ddf12a1-77d6-4382-a2e5-230808d98702",
         "x": [
          4842
         ],
         "y": [
          "Education Management"
         ]
        },
        {
         "marker": {
          "color": "rgba(0, 128, 128, 0.633587786259542)",
          "line": {
           "width": 1.3
          },
          "opacity": 0.8,
          "size": [
           18
          ],
          "symbol": "circle"
         },
         "mode": "markers",
         "name": "Research",
         "textfont": {
          "color": "#4D5663"
         },
         "type": "scatter",
         "uid": "dfb6d769-260a-4fdb-9c95-8981d8cb8c61",
         "x": [
          2372
         ],
         "y": [
          "Research"
         ]
        },
        {
         "marker": {
          "color": "rgba(255, 255, 51, 0.633587786259542)",
          "line": {
           "width": 1.3
          },
          "opacity": 0.8,
          "size": [
           14
          ],
          "symbol": "circle"
         },
         "mode": "markers",
         "name": "Military",
         "textfont": {
          "color": "#4D5663"
         },
         "type": "scatter",
         "uid": "3063b540-2e82-4621-b2f7-d8277575cbe1",
         "x": [
          817
         ],
         "y": [
          "Military"
         ]
        },
        {
         "marker": {
          "color": "rgba(128, 128, 0, 0.633587786259542)",
          "line": {
           "width": 1.3
          },
          "opacity": 0.8,
          "size": [
           12
          ],
          "symbol": "circle"
         },
         "mode": "markers",
         "name": "Judiciary",
         "textfont": {
          "color": "#4D5663"
         },
         "type": "scatter",
         "uid": "d5fd93a2-14ea-4834-81c1-16d87889e829",
         "x": [
          2
         ],
         "y": [
          "Judiciary"
         ]
        },
        {
         "marker": {
          "color": "rgba(251, 128, 114, 0.633587786259542)",
          "line": {
           "width": 1.3
          },
          "opacity": 0.8,
          "size": [
           13
          ],
          "symbol": "circle"
         },
         "mode": "markers",
         "name": "International Affairs",
         "textfont": {
          "color": "#4D5663"
         },
         "type": "scatter",
         "uid": "49e01e28-560e-48e0-9b7d-3d3446afc240",
         "x": [
          669
         ],
         "y": [
          "International Affairs"
         ]
        },
        {
         "marker": {
          "color": "rgba(128, 177, 211, 0.633587786259542)",
          "line": {
           "width": 1.3
          },
          "opacity": 0.8,
          "size": [
           18
          ],
          "symbol": "circle"
         },
         "mode": "markers",
         "name": "Government Administration",
         "textfont": {
          "color": "#4D5663"
         },
         "type": "scatter",
         "uid": "fad141bb-adab-4440-88cc-c9b43b2ed688",
         "x": [
          2277
         ],
         "y": [
          "Government Administration"
         ]
        },
        {
         "marker": {
          "color": "rgba(255, 153, 51, 0.633587786259542)",
          "line": {
           "width": 1.3
          },
          "opacity": 0.8,
          "size": [
           12
          ],
          "symbol": "circle"
         },
         "mode": "markers",
         "name": "Executive Office",
         "textfont": {
          "color": "#4D5663"
         },
         "type": "scatter",
         "uid": "e43f9afb-eaeb-47da-9b79-2e03ad86d15c",
         "x": [
          105
         ],
         "y": [
          "Executive Office"
         ]
        },
        {
         "marker": {
          "color": "rgba(55, 128, 191, 0.633587786259542)",
          "line": {
           "width": 1.3
          },
          "opacity": 0.8,
          "size": [
           12
          ],
          "symbol": "circle"
         },
         "mode": "markers",
         "name": "Law Enforcement",
         "textfont": {
          "color": "#4D5663"
         },
         "type": "scatter",
         "uid": "e5ec5aa2-e75c-4faf-bd76-7defc7d1dc8c",
         "x": [
          227
         ],
         "y": [
          "Law Enforcement"
         ]
        },
        {
         "marker": {
          "color": "rgba(50, 171, 96, 0.633587786259542)",
          "line": {
           "width": 1.3
          },
          "opacity": 0.8,
          "size": [
           12
          ],
          "symbol": "circle"
         },
         "mode": "markers",
         "name": "Public Safety",
         "textfont": {
          "color": "#4D5663"
         },
         "type": "scatter",
         "uid": "3ea4a91d-935f-469a-a07c-f314641b4f13",
         "x": [
          51
         ],
         "y": [
          "Public Safety"
         ]
        },
        {
         "marker": {
          "color": "rgba(128, 0, 128, 0.633587786259542)",
          "line": {
           "width": 1.3
          },
          "opacity": 0.8,
          "size": [
           12
          ],
          "symbol": "circle"
         },
         "mode": "markers",
         "name": "Public Policy",
         "textfont": {
          "color": "#4D5663"
         },
         "type": "scatter",
         "uid": "7c275ac5-781e-429d-b5ae-e59dfa1bc39d",
         "x": [
          348
         ],
         "y": [
          "Public Policy"
         ]
        },
        {
         "marker": {
          "color": "rgba(128, 0, 128, 0.5725190839694656)",
          "line": {
           "width": 1.3
          },
          "opacity": 0.8,
          "size": [
           27
          ],
          "symbol": "circle"
         },
         "mode": "markers",
         "name": "Marketing and Advertising",
         "textfont": {
          "color": "#4D5663"
         },
         "type": "scatter",
         "uid": "394fa4a3-f629-434b-a3ae-0b7625895779",
         "x": [
          5659
         ],
         "y": [
          "Marketing and Advertising"
         ]
        },
        {
         "marker": {
          "color": "rgba(219, 64, 82, 0.5725190839694656)",
          "line": {
           "width": 1.3
          },
          "opacity": 0.8,
          "size": [
           13
          ],
          "symbol": "circle"
         },
         "mode": "markers",
         "name": "Newspapers",
         "textfont": {
          "color": "#4D5663"
         },
         "type": "scatter",
         "uid": "33df8cd6-79d1-493a-9c11-83791005b2cd",
         "x": [
          468
         ],
         "y": [
          "Newspapers"
         ]
        },
        {
         "marker": {
          "color": "rgba(0, 128, 128, 0.5725190839694656)",
          "line": {
           "width": 1.3
          },
          "opacity": 0.8,
          "size": [
           14
          ],
          "symbol": "circle"
         },
         "mode": "markers",
         "name": "Publishing",
         "textfont": {
          "color": "#4D5663"
         },
         "type": "scatter",
         "uid": "feb687b2-28c0-4d5a-9ec3-fd6969933027",
         "x": [
          852
         ],
         "y": [
          "Publishing"
         ]
        },
        {
         "marker": {
          "color": "rgba(255, 255, 51, 0.5725190839694656)",
          "line": {
           "width": 1.3
          },
          "opacity": 0.8,
          "size": [
           12
          ],
          "symbol": "circle"
         },
         "mode": "markers",
         "name": "Printing",
         "textfont": {
          "color": "#4D5663"
         },
         "type": "scatter",
         "uid": "5ff6b400-0d21-43b1-9ef2-f1e9f0de8bc2",
         "x": [
          11
         ],
         "y": [
          "Printing"
         ]
        },
        {
         "marker": {
          "color": "rgba(128, 128, 0, 0.5725190839694656)",
          "line": {
           "width": 1.3
          },
          "opacity": 0.8,
          "size": [
           13
          ],
          "symbol": "circle"
         },
         "mode": "markers",
         "name": "Information Services",
         "textfont": {
          "color": "#4D5663"
         },
         "type": "scatter",
         "uid": "03c1b1e5-67fe-4aeb-a5d4-0aeb74d18275",
         "x": [
          731
         ],
         "y": [
          "Information Services"
         ]
        },
        {
         "marker": {
          "color": "rgba(251, 128, 114, 0.5725190839694656)",
          "line": {
           "width": 1.3
          },
          "opacity": 0.8,
          "size": [
           12
          ],
          "symbol": "circle"
         },
         "mode": "markers",
         "name": "Libraries",
         "textfont": {
          "color": "#4D5663"
         },
         "type": "scatter",
         "uid": "a193d4f2-3685-42e7-a2a4-6f656371ec82",
         "x": [
          144
         ],
         "y": [
          "Libraries"
         ]
        },
        {
         "marker": {
          "color": "rgba(128, 177, 211, 0.5725190839694656)",
          "line": {
           "width": 1.3
          },
          "opacity": 0.8,
          "size": [
           13
          ],
          "symbol": "circle"
         },
         "mode": "markers",
         "name": "Environmental Services",
         "textfont": {
          "color": "#4D5663"
         },
         "type": "scatter",
         "uid": "a46919f8-7de3-405a-8726-317ea9c840fc",
         "x": [
          647
         ],
         "y": [
          "Environmental Services"
         ]
        },
        {
         "marker": {
          "color": "rgba(255, 153, 51, 0.5725190839694656)",
          "line": {
           "width": 1.3
          },
          "opacity": 0.8,
          "size": [
           13
          ],
          "symbol": "circle"
         },
         "mode": "markers",
         "name": "Individual & Family Services",
         "textfont": {
          "color": "#4D5663"
         },
         "type": "scatter",
         "uid": "78443c9e-8fef-42d8-addc-4f8d2592b1f8",
         "x": [
          462
         ],
         "y": [
          "Individual & Family Services"
         ]
        },
        {
         "marker": {
          "color": "rgba(55, 128, 191, 0.5725190839694656)",
          "line": {
           "width": 1.3
          },
          "opacity": 0.8,
          "size": [
           13
          ],
          "symbol": "circle"
         },
         "mode": "markers",
         "name": "Religious Institutions",
         "textfont": {
          "color": "#4D5663"
         },
         "type": "scatter",
         "uid": "e653c2bb-3d07-4001-8908-f782ebc1c77b",
         "x": [
          415
         ],
         "y": [
          "Religious Institutions"
         ]
        },
        {
         "marker": {
          "color": "rgba(50, 171, 96, 0.5725190839694656)",
          "line": {
           "width": 1.3
          },
          "opacity": 0.8,
          "size": [
           14
          ],
          "symbol": "circle"
         },
         "mode": "markers",
         "name": "Civic & Social Organization",
         "textfont": {
          "color": "#4D5663"
         },
         "type": "scatter",
         "uid": "b80cc9a3-a113-4ee3-9d2b-0dc7439514a7",
         "x": [
          1019
         ],
         "y": [
          "Civic & Social Organization"
         ]
        },
        {
         "marker": {
          "color": "rgba(50, 171, 96, 0.5114503816793894)",
          "line": {
           "width": 1.3
          },
          "opacity": 0.8,
          "size": [
           13
          ],
          "symbol": "circle"
         },
         "mode": "markers",
         "name": "Consumer Services",
         "textfont": {
          "color": "#4D5663"
         },
         "type": "scatter",
         "uid": "7b857349-00f4-416d-a6a1-406d9fbb3096",
         "x": [
          733
         ],
         "y": [
          "Consumer Services"
         ]
        },
        {
         "marker": {
          "color": "rgba(128, 0, 128, 0.5114503816793894)",
          "line": {
           "width": 1.3
          },
          "opacity": 0.8,
          "size": [
           14
          ],
          "symbol": "circle"
         },
         "mode": "markers",
         "name": "Transportation/Trucking/Railroad",
         "textfont": {
          "color": "#4D5663"
         },
         "type": "scatter",
         "uid": "37c8ad67-c535-4fe4-a05a-0e4c55dbeac7",
         "x": [
          933
         ],
         "y": [
          "Transportation/Trucking/Railroad"
         ]
        },
        {
         "marker": {
          "color": "rgba(219, 64, 82, 0.5114503816793894)",
          "line": {
           "width": 1.3
          },
          "opacity": 0.8,
          "size": [
           12
          ],
          "symbol": "circle"
         },
         "mode": "markers",
         "name": "Airlines/Aviation",
         "textfont": {
          "color": "#4D5663"
         },
         "type": "scatter",
         "uid": "1938cfc5-55f9-4e37-af14-7c02f1d2102e",
         "x": [
          341
         ],
         "y": [
          "Airlines/Aviation"
         ]
        },
        {
         "marker": {
          "color": "rgba(0, 128, 128, 0.5114503816793894)",
          "line": {
           "width": 1.3
          },
          "opacity": 0.8,
          "size": [
           44
          ],
          "symbol": "circle"
         },
         "mode": "markers",
         "name": "Information Technology and Services",
         "textfont": {
          "color": "#4D5663"
         },
         "type": "scatter",
         "uid": "62d769b8-3fd3-4edc-9b5a-5a826a0c8106",
         "x": [
          12244
         ],
         "y": [
          "Information Technology and Services"
         ]
        },
        {
         "marker": {
          "color": "rgba(255, 255, 51, 0.5114503816793894)",
          "line": {
           "width": 1.3
          },
          "opacity": 0.8,
          "size": [
           13
          ],
          "symbol": "circle"
         },
         "mode": "markers",
         "name": "Market Research",
         "textfont": {
          "color": "#4D5663"
         },
         "type": "scatter",
         "uid": "2d8804f6-aafd-4f92-b315-6f24cb89d12d",
         "x": [
          625
         ],
         "y": [
          "Market Research"
         ]
        },
        {
         "marker": {
          "color": "rgba(128, 128, 0, 0.5114503816793894)",
          "line": {
           "width": 1.3
          },
          "opacity": 0.8,
          "size": [
           14
          ],
          "symbol": "circle"
         },
         "mode": "markers",
         "name": "Public Relations and Communications",
         "textfont": {
          "color": "#4D5663"
         },
         "type": "scatter",
         "uid": "0941c4fc-0f11-4d4e-b75f-2efe32b9cbae",
         "x": [
          882
         ],
         "y": [
          "Public Relations and Communications"
         ]
        },
        {
         "marker": {
          "color": "rgba(251, 128, 114, 0.5114503816793894)",
          "line": {
           "width": 1.3
          },
          "opacity": 0.8,
          "size": [
           13
          ],
          "symbol": "circle"
         },
         "mode": "markers",
         "name": "Design",
         "textfont": {
          "color": "#4D5663"
         },
         "type": "scatter",
         "uid": "bd1a8687-5f23-469b-a3b0-85310de606dc",
         "x": [
          710
         ],
         "y": [
          "Design"
         ]
        },
        {
         "marker": {
          "color": "rgba(128, 177, 211, 0.5114503816793894)",
          "line": {
           "width": 1.3
          },
          "opacity": 0.8,
          "size": [
           25
          ],
          "symbol": "circle"
         },
         "mode": "markers",
         "name": "Nonprofit Organization Management",
         "textfont": {
          "color": "#4D5663"
         },
         "type": "scatter",
         "uid": "098c7d4a-f503-454b-8341-97da44f16b21",
         "x": [
          5113
         ],
         "y": [
          "Nonprofit Organization Management"
         ]
        },
        {
         "marker": {
          "color": "rgba(255, 153, 51, 0.5114503816793894)",
          "line": {
           "width": 1.3
          },
          "opacity": 0.8,
          "size": [
           13
          ],
          "symbol": "circle"
         },
         "mode": "markers",
         "name": "Fund-Raising",
         "textfont": {
          "color": "#4D5663"
         },
         "type": "scatter",
         "uid": "53deb813-2d54-4cb5-9dc6-04501ae1a2af",
         "x": [
          404
         ],
         "y": [
          "Fund-Raising"
         ]
        },
        {
         "marker": {
          "color": "rgba(55, 128, 191, 0.5114503816793894)",
          "line": {
           "width": 1.3
          },
          "opacity": 0.8,
          "size": [
           13
          ],
          "symbol": "circle"
         },
         "mode": "markers",
         "name": "Program Development",
         "textfont": {
          "color": "#4D5663"
         },
         "type": "scatter",
         "uid": "08b1d091-6692-4225-a5da-1e46d475f918",
         "x": [
          406
         ],
         "y": [
          "Program Development"
         ]
        },
        {
         "marker": {
          "color": "rgba(55, 128, 191, 0.450381679389313)",
          "line": {
           "width": 1.3
          },
          "opacity": 0.8,
          "size": [
           13
          ],
          "symbol": "circle"
         },
         "mode": "markers",
         "name": "Writing and Editing",
         "textfont": {
          "color": "#4D5663"
         },
         "type": "scatter",
         "uid": "6667ad20-224f-4c89-840b-9f0aaf68ed74",
         "x": [
          514
         ],
         "y": [
          "Writing and Editing"
         ]
        },
        {
         "marker": {
          "color": "rgba(50, 171, 96, 0.450381679389313)",
          "line": {
           "width": 1.3
          },
          "opacity": 0.8,
          "size": [
           19
          ],
          "symbol": "circle"
         },
         "mode": "markers",
         "name": "Staffing and Recruiting",
         "textfont": {
          "color": "#4D5663"
         },
         "type": "scatter",
         "uid": "77b9ff5f-b18f-4467-8ad1-3ff25c94fa6e",
         "x": [
          2888
         ],
         "y": [
          "Staffing and Recruiting"
         ]
        },
        {
         "marker": {
          "color": "rgba(128, 0, 128, 0.450381679389313)",
          "line": {
           "width": 1.3
          },
          "opacity": 0.8,
          "size": [
           16
          ],
          "symbol": "circle"
         },
         "mode": "markers",
         "name": "Professional Training & Coaching",
         "textfont": {
          "color": "#4D5663"
         },
         "type": "scatter",
         "uid": "9067fdc5-e99c-424f-98ad-b99dd2b9de5b",
         "x": [
          1725
         ],
         "y": [
          "Professional Training & Coaching"
         ]
        },
        {
         "marker": {
          "color": "rgba(219, 64, 82, 0.450381679389313)",
          "line": {
           "width": 1.3
          },
          "opacity": 0.8,
          "size": [
           13
          ],
          "symbol": "circle"
         },
         "mode": "markers",
         "name": "Venture Capital & Private Equity",
         "textfont": {
          "color": "#4D5663"
         },
         "type": "scatter",
         "uid": "3f9e1b06-8cad-4266-8ddc-1eb5f221749b",
         "x": [
          710
         ],
         "y": [
          "Venture Capital & Private Equity"
         ]
        },
        {
         "marker": {
          "color": "rgba(0, 128, 128, 0.450381679389313)",
          "line": {
           "width": 1.3
          },
          "opacity": 0.8,
          "size": [
           12
          ],
          "symbol": "circle"
         },
         "mode": "markers",
         "name": "Political Organization",
         "textfont": {
          "color": "#4D5663"
         },
         "type": "scatter",
         "uid": "d7b8e4a8-517b-4d95-ac88-a39b0f966790",
         "x": [
          57
         ],
         "y": [
          "Political Organization"
         ]
        },
        {
         "marker": {
          "color": "rgba(255, 255, 51, 0.450381679389313)",
          "line": {
           "width": 1.3
          },
          "opacity": 0.8,
          "size": [
           12
          ],
          "symbol": "circle"
         },
         "mode": "markers",
         "name": "Computer Games",
         "textfont": {
          "color": "#4D5663"
         },
         "type": "scatter",
         "uid": "7d1f48cb-5278-4e48-a158-dc2ece518872",
         "x": [
          2
         ],
         "y": [
          "Computer Games"
         ]
        },
        {
         "marker": {
          "color": "rgba(128, 128, 0, 0.450381679389313)",
          "line": {
           "width": 1.3
          },
          "opacity": 0.8,
          "size": [
           13
          ],
          "symbol": "circle"
         },
         "mode": "markers",
         "name": "Events Services",
         "textfont": {
          "color": "#4D5663"
         },
         "type": "scatter",
         "uid": "91004da3-f197-4f6b-8fe5-c3dab904ebf1",
         "x": [
          548
         ],
         "y": [
          "Events Services"
         ]
        },
        {
         "marker": {
          "color": "rgba(251, 128, 114, 0.450381679389313)",
          "line": {
           "width": 1.3
          },
          "opacity": 0.8,
          "size": [
           12
          ],
          "symbol": "circle"
         },
         "mode": "markers",
         "name": "Arts and Crafts",
         "textfont": {
          "color": "#4D5663"
         },
         "type": "scatter",
         "uid": "9b61e90b-be4f-4939-8d64-dca3bcb5b14a",
         "x": [
          135
         ],
         "y": [
          "Arts and Crafts"
         ]
        },
        {
         "marker": {
          "color": "rgba(128, 177, 211, 0.450381679389313)",
          "line": {
           "width": 1.3
          },
          "opacity": 0.8,
          "size": [
           14
          ],
          "symbol": "circle"
         },
         "mode": "markers",
         "name": "Electrical/Electronic Manufacturing",
         "textfont": {
          "color": "#4D5663"
         },
         "type": "scatter",
         "uid": "8838bbc5-e371-4bb7-b6ca-04916814955d",
         "x": [
          922
         ],
         "y": [
          "Electrical/Electronic Manufacturing"
         ]
        },
        {
         "marker": {
          "color": "rgba(255, 153, 51, 0.450381679389313)",
          "line": {
           "width": 1.3
          },
          "opacity": 0.8,
          "size": [
           13
          ],
          "symbol": "circle"
         },
         "mode": "markers",
         "name": "Online Media",
         "textfont": {
          "color": "#4D5663"
         },
         "type": "scatter",
         "uid": "a7c2e371-8af1-4b16-ac6a-45ad33a9ca35",
         "x": [
          599
         ],
         "y": [
          "Online Media"
         ]
        },
        {
         "marker": {
          "color": "rgba(255, 153, 51, 0.3893129770992368)",
          "line": {
           "width": 1.3
          },
          "opacity": 0.8,
          "size": [
           14
          ],
          "symbol": "circle"
         },
         "mode": "markers",
         "name": "Music",
         "textfont": {
          "color": "#4D5663"
         },
         "type": "scatter",
         "uid": "81401f69-fd2d-4bab-ae76-5b4178cb7000",
         "x": [
          790
         ],
         "y": [
          "Music"
         ]
        },
        {
         "marker": {
          "color": "rgba(55, 128, 191, 0.3893129770992368)",
          "line": {
           "width": 1.3
          },
          "opacity": 0.8,
          "size": [
           15
          ],
          "symbol": "circle"
         },
         "mode": "markers",
         "name": "Logistics and Supply Chain",
         "textfont": {
          "color": "#4D5663"
         },
         "type": "scatter",
         "uid": "cc0df6ce-3fd7-45be-b86a-fa63200650db",
         "x": [
          1266
         ],
         "y": [
          "Logistics and Supply Chain"
         ]
        },
        {
         "marker": {
          "color": "rgba(50, 171, 96, 0.3893129770992368)",
          "line": {
           "width": 1.3
          },
          "opacity": 0.8,
          "size": [
           12
          ],
          "symbol": "circle"
         },
         "mode": "markers",
         "name": "Plastics",
         "textfont": {
          "color": "#4D5663"
         },
         "type": "scatter",
         "uid": "0eb30b33-20bb-4d87-8a7e-bc1fdf0bdb38",
         "x": [
          5
         ],
         "y": [
          "Plastics"
         ]
        },
        {
         "marker": {
          "color": "rgba(128, 0, 128, 0.3893129770992368)",
          "line": {
           "width": 1.3
          },
          "opacity": 0.8,
          "size": [
           12
          ],
          "symbol": "circle"
         },
         "mode": "markers",
         "name": "Computer & Network Security",
         "textfont": {
          "color": "#4D5663"
         },
         "type": "scatter",
         "uid": "24dc0947-6e0a-459d-8600-a136c08d8ae3",
         "x": [
          365
         ],
         "y": [
          "Computer & Network Security"
         ]
        },
        {
         "marker": {
          "color": "rgba(219, 64, 82, 0.3893129770992368)",
          "line": {
           "width": 1.3
          },
          "opacity": 0.8,
          "size": [
           12
          ],
          "symbol": "circle"
         },
         "mode": "markers",
         "name": "Security and Investigations",
         "textfont": {
          "color": "#4D5663"
         },
         "type": "scatter",
         "uid": "c2343225-35d1-4fa7-bca0-e05dcadb8b90",
         "x": [
          44
         ],
         "y": [
          "Security and Investigations"
         ]
        },
        {
         "marker": {
          "color": "rgba(0, 128, 128, 0.3893129770992368)",
          "line": {
           "width": 1.3
          },
          "opacity": 0.8,
          "size": [
           12
          ],
          "symbol": "circle"
         },
         "mode": "markers",
         "name": "Facilities Services",
         "textfont": {
          "color": "#4D5663"
         },
         "type": "scatter",
         "uid": "6e493981-6c8c-4018-a85f-9e592610ed59",
         "x": [
          375
         ],
         "y": [
          "Facilities Services"
         ]
        },
        {
         "marker": {
          "color": "rgba(255, 255, 51, 0.3893129770992368)",
          "line": {
           "width": 1.3
          },
          "opacity": 0.8,
          "size": [
           13
          ],
          "symbol": "circle"
         },
         "mode": "markers",
         "name": "Outsourcing/Offshoring",
         "textfont": {
          "color": "#4D5663"
         },
         "type": "scatter",
         "uid": "a5d3b284-ca7e-4b26-9217-42042ba4e69e",
         "x": [
          697
         ],
         "y": [
          "Outsourcing/Offshoring"
         ]
        },
        {
         "marker": {
          "color": "rgba(128, 128, 0, 0.3893129770992368)",
          "line": {
           "width": 1.3
          },
          "opacity": 0.8,
          "size": [
           17
          ],
          "symbol": "circle"
         },
         "mode": "markers",
         "name": "Health, Wellness and Fitness",
         "textfont": {
          "color": "#4D5663"
         },
         "type": "scatter",
         "uid": "4ed0ed9e-638f-4a03-a5f7-e6ef3520d651",
         "x": [
          1987
         ],
         "y": [
          "Health, Wellness and Fitness"
         ]
        },
        {
         "marker": {
          "color": "rgba(251, 128, 114, 0.3893129770992368)",
          "line": {
           "width": 1.3
          },
          "opacity": 0.8,
          "size": [
           14
          ],
          "symbol": "circle"
         },
         "mode": "markers",
         "name": "Media Production",
         "textfont": {
          "color": "#4D5663"
         },
         "type": "scatter",
         "uid": "3e16a23f-e299-45df-8c7a-733e5d0cf228",
         "x": [
          905
         ],
         "y": [
          "Media Production"
         ]
        },
        {
         "marker": {
          "color": "rgba(128, 177, 211, 0.3893129770992368)",
          "line": {
           "width": 1.3
          },
          "opacity": 0.8,
          "size": [
           12
          ],
          "symbol": "circle"
         },
         "mode": "markers",
         "name": "Animation",
         "textfont": {
          "color": "#4D5663"
         },
         "type": "scatter",
         "uid": "72813464-8d12-4e50-8a31-a42eb0973d04",
         "x": [
          7
         ],
         "y": [
          "Animation"
         ]
        },
        {
         "marker": {
          "color": "rgba(128, 177, 211, 0.32824427480916035)",
          "line": {
           "width": 1.3
          },
          "opacity": 0.8,
          "size": [
           12
          ],
          "symbol": "circle"
         },
         "mode": "markers",
         "name": "Commercial Real Estate",
         "textfont": {
          "color": "#4D5663"
         },
         "type": "scatter",
         "uid": "03ebfc99-205d-4163-9e1c-8ed984b24e85",
         "x": [
          355
         ],
         "y": [
          "Commercial Real Estate"
         ]
        },
        {
         "marker": {
          "color": "rgba(255, 153, 51, 0.32824427480916035)",
          "line": {
           "width": 1.3
          },
          "opacity": 0.8,
          "size": [
           12
          ],
          "symbol": "circle"
         },
         "mode": "markers",
         "name": "Capital Markets",
         "textfont": {
          "color": "#4D5663"
         },
         "type": "scatter",
         "uid": "b156e998-6c39-43bc-9703-7eb6c4e24573",
         "x": [
          27
         ],
         "y": [
          "Capital Markets"
         ]
        },
        {
         "marker": {
          "color": "rgba(55, 128, 191, 0.32824427480916035)",
          "line": {
           "width": 1.3
          },
          "opacity": 0.8,
          "size": [
           12
          ],
          "symbol": "circle"
         },
         "mode": "markers",
         "name": "Think Tanks",
         "textfont": {
          "color": "#4D5663"
         },
         "type": "scatter",
         "uid": "eb748d01-0408-4624-8444-cdef6b9de1ab",
         "x": [
          32
         ],
         "y": [
          "Think Tanks"
         ]
        },
        {
         "marker": {
          "color": "rgba(50, 171, 96, 0.32824427480916035)",
          "line": {
           "width": 1.3
          },
          "opacity": 0.8,
          "size": [
           13
          ],
          "symbol": "circle"
         },
         "mode": "markers",
         "name": "Philanthropy",
         "textfont": {
          "color": "#4D5663"
         },
         "type": "scatter",
         "uid": "f156ec4b-1bbc-4d54-a909-9d70da8c6e35",
         "x": [
          645
         ],
         "y": [
          "Philanthropy"
         ]
        },
        {
         "marker": {
          "color": "rgba(128, 0, 128, 0.32824427480916035)",
          "line": {
           "width": 1.3
          },
          "opacity": 0.8,
          "size": [
           14
          ],
          "symbol": "circle"
         },
         "mode": "markers",
         "name": "E-Learning",
         "textfont": {
          "color": "#4D5663"
         },
         "type": "scatter",
         "uid": "1242b33b-d4bb-4282-92a8-bfc1af7e28f6",
         "x": [
          803
         ],
         "y": [
          "E-Learning"
         ]
        },
        {
         "marker": {
          "color": "rgba(219, 64, 82, 0.32824427480916035)",
          "line": {
           "width": 1.3
          },
          "opacity": 0.8,
          "size": [
           13
          ],
          "symbol": "circle"
         },
         "mode": "markers",
         "name": "Wholesale",
         "textfont": {
          "color": "#4D5663"
         },
         "type": "scatter",
         "uid": "869d68f2-bc61-4531-8ea7-0a15f829f81f",
         "x": [
          657
         ],
         "y": [
          "Wholesale"
         ]
        },
        {
         "marker": {
          "color": "rgba(0, 128, 128, 0.32824427480916035)",
          "line": {
           "width": 1.3
          },
          "opacity": 0.8,
          "size": [
           12
          ],
          "symbol": "circle"
         },
         "mode": "markers",
         "name": "Import and Export",
         "textfont": {
          "color": "#4D5663"
         },
         "type": "scatter",
         "uid": "c34296b2-2480-4ae4-8927-f3ca6ff255d6",
         "x": [
          4
         ],
         "y": [
          "Import and Export"
         ]
        },
        {
         "marker": {
          "color": "rgba(255, 255, 51, 0.32824427480916035)",
          "line": {
           "width": 1.3
          },
          "opacity": 0.8,
          "size": [
           13
          ],
          "symbol": "circle"
         },
         "mode": "markers",
         "name": "Mechanical or Industrial Engineering",
         "textfont": {
          "color": "#4D5663"
         },
         "type": "scatter",
         "uid": "afa0e0a1-ecec-423a-836e-56c726733c45",
         "x": [
          555
         ],
         "y": [
          "Mechanical or Industrial Engineering"
         ]
        },
        {
         "marker": {
          "color": "rgba(128, 128, 0, 0.32824427480916035)",
          "line": {
           "width": 1.3
          },
          "opacity": 0.8,
          "size": [
           12
          ],
          "symbol": "circle"
         },
         "mode": "markers",
         "name": "Photography",
         "textfont": {
          "color": "#4D5663"
         },
         "type": "scatter",
         "uid": "a4eb096f-7225-446f-9c1f-9a42ccd1b6a0",
         "x": [
          43
         ],
         "y": [
          "Photography"
         ]
        },
        {
         "marker": {
          "color": "rgba(251, 128, 114, 0.32824427480916035)",
          "line": {
           "width": 1.3
          },
          "opacity": 0.8,
          "size": [
           14
          ],
          "symbol": "circle"
         },
         "mode": "markers",
         "name": "Human Resources",
         "textfont": {
          "color": "#4D5663"
         },
         "type": "scatter",
         "uid": "0964f9a9-70aa-4ecd-aa55-c68611dfba35",
         "x": [
          1020
         ],
         "y": [
          "Human Resources"
         ]
        },
        {
         "marker": {
          "color": "rgba(251, 128, 114, 0.26717557251908414)",
          "line": {
           "width": 1.3
          },
          "opacity": 0.8,
          "size": [
           12
          ],
          "symbol": "circle"
         },
         "mode": "markers",
         "name": "Business Supplies and Equipment",
         "textfont": {
          "color": "#4D5663"
         },
         "type": "scatter",
         "uid": "a9f191f7-96c0-495d-a561-c0d39e11cd39",
         "x": [
          291
         ],
         "y": [
          "Business Supplies and Equipment"
         ]
        },
        {
         "marker": {
          "color": "rgba(128, 177, 211, 0.26717557251908414)",
          "line": {
           "width": 1.3
          },
          "opacity": 0.8,
          "size": [
           13
          ],
          "symbol": "circle"
         },
         "mode": "markers",
         "name": "Mental Health Care",
         "textfont": {
          "color": "#4D5663"
         },
         "type": "scatter",
         "uid": "f56f6688-98a7-4500-8809-111ac50e5d5e",
         "x": [
          625
         ],
         "y": [
          "Mental Health Care"
         ]
        },
        {
         "marker": {
          "color": "rgba(255, 153, 51, 0.26717557251908414)",
          "line": {
           "width": 1.3
          },
          "opacity": 0.8,
          "size": [
           12
          ],
          "symbol": "circle"
         },
         "mode": "markers",
         "name": "Graphic Design",
         "textfont": {
          "color": "#4D5663"
         },
         "type": "scatter",
         "uid": "b3f97213-fc04-4b9e-ba5c-367b5a66d917",
         "x": [
          182
         ],
         "y": [
          "Graphic Design"
         ]
        },
        {
         "marker": {
          "color": "rgba(55, 128, 191, 0.26717557251908414)",
          "line": {
           "width": 1.3
          },
          "opacity": 0.8,
          "size": [
           12
          ],
          "symbol": "circle"
         },
         "mode": "markers",
         "name": "International Trade and Development",
         "textfont": {
          "color": "#4D5663"
         },
         "type": "scatter",
         "uid": "2485e2a3-e2c3-40e1-81de-3db424fa477f",
         "x": [
          372
         ],
         "y": [
          "International Trade and Development"
         ]
        },
        {
         "marker": {
          "color": "rgba(50, 171, 96, 0.26717557251908414)",
          "line": {
           "width": 1.3
          },
          "opacity": 0.8,
          "size": [
           12
          ],
          "symbol": "circle"
         },
         "mode": "markers",
         "name": "Wine and Spirits",
         "textfont": {
          "color": "#4D5663"
         },
         "type": "scatter",
         "uid": "03daa06a-502f-4ff8-934a-b974409b338a",
         "x": [
          4
         ],
         "y": [
          "Wine and Spirits"
         ]
        },
        {
         "marker": {
          "color": "rgba(128, 0, 128, 0.26717557251908414)",
          "line": {
           "width": 1.3
          },
          "opacity": 0.8,
          "size": [
           12
          ],
          "symbol": "circle"
         },
         "mode": "markers",
         "name": "Luxury Goods & Jewelry",
         "textfont": {
          "color": "#4D5663"
         },
         "type": "scatter",
         "uid": "cbcc47bb-db1e-474e-8533-584b3861aee4",
         "x": [
          27
         ],
         "y": [
          "Luxury Goods & Jewelry"
         ]
        },
        {
         "marker": {
          "color": "rgba(219, 64, 82, 0.26717557251908414)",
          "line": {
           "width": 1.3
          },
          "opacity": 0.8,
          "size": [
           12
          ],
          "symbol": "circle"
         },
         "mode": "markers",
         "name": "Renewables & Environment",
         "textfont": {
          "color": "#4D5663"
         },
         "type": "scatter",
         "uid": "cf93d8ba-ee23-4623-b62d-0ce4e6d1b34d",
         "x": [
          361
         ],
         "y": [
          "Renewables & Environment"
         ]
        },
        {
         "marker": {
          "color": "rgba(0, 128, 128, 0.26717557251908414)",
          "line": {
           "width": 1.3
          },
          "opacity": 0.8,
          "size": [
           12
          ],
          "symbol": "circle"
         },
         "mode": "markers",
         "name": "Glass, Ceramics & Concrete",
         "textfont": {
          "color": "#4D5663"
         },
         "type": "scatter",
         "uid": "877d80ca-5573-4ea3-8dcf-8a13f45b2c6d",
         "x": [
          2
         ],
         "y": [
          "Glass, Ceramics & Concrete"
         ]
        },
        {
         "marker": {
          "color": "rgba(255, 255, 51, 0.26717557251908414)",
          "line": {
           "width": 1.3
          },
          "opacity": 0.8,
          "size": [
           12
          ],
          "symbol": "circle"
         },
         "mode": "markers",
         "name": "Packaging and Containers",
         "textfont": {
          "color": "#4D5663"
         },
         "type": "scatter",
         "uid": "cd9dc2f0-db20-46a0-ab00-41442966465b",
         "x": [
          30
         ],
         "y": [
          "Packaging and Containers"
         ]
        },
        {
         "marker": {
          "color": "rgba(128, 128, 0, 0.26717557251908414)",
          "line": {
           "width": 1.3
          },
          "opacity": 0.8,
          "size": [
           12
          ],
          "symbol": "circle"
         },
         "mode": "markers",
         "name": "Industrial Automation",
         "textfont": {
          "color": "#4D5663"
         },
         "type": "scatter",
         "uid": "98386eed-9057-4b61-b3a2-fe723ecfd480",
         "x": [
          11
         ],
         "y": [
          "Industrial Automation"
         ]
        },
        {
         "marker": {
          "color": "rgba(128, 128, 0, 0.2061068702290077)",
          "line": {
           "width": 1.3
          },
          "opacity": 0.8,
          "size": [
           12
          ],
          "symbol": "circle"
         },
         "mode": "markers",
         "name": "Government Relations",
         "textfont": {
          "color": "#4D5663"
         },
         "type": "scatter",
         "uid": "8552ce04-ae8a-46a7-923c-5834de30030f",
         "x": [
          267
         ],
         "y": [
          "Government Relations"
         ]
        }
       ],
       "layout": {
        "legend": {
         "bgcolor": "#F5F6F9",
         "font": {
          "color": "#4D5663"
         }
        },
        "paper_bgcolor": "#F5F6F9",
        "plot_bgcolor": "#F5F6F9",
        "title": {
         "font": {
          "color": "#4D5663"
         },
         "text": "Plot Sized by Total Views and Colored by Industry"
        },
        "xaxis": {
         "gridcolor": "#E1E5ED",
         "showgrid": true,
         "tickfont": {
          "color": "#4D5663"
         },
         "title": {
          "font": {
           "color": "#4D5663"
          },
          "text": "Total views"
         },
         "zerolinecolor": "#E1E5ED"
        },
        "yaxis": {
         "gridcolor": "#E1E5ED",
         "showgrid": true,
         "tickfont": {
          "color": "#4D5663"
         },
         "title": {
          "font": {
           "color": "#4D5663"
          },
          "text": "Industry"
         },
         "zerolinecolor": "#E1E5ED"
        }
       }
      },
      "text/html": [
       "<div>\n",
       "        \n",
       "        \n",
       "            <div id=\"baa65c6e-6240-4bed-b7b5-691e8ce4e0cd\" class=\"plotly-graph-div\" style=\"height:525px; width:100%;\"></div>\n",
       "            <script type=\"text/javascript\">\n",
       "                require([\"plotly\"], function(Plotly) {\n",
       "                    window.PLOTLYENV=window.PLOTLYENV || {};\n",
       "                    window.PLOTLYENV.BASE_URL='https://plot.ly';\n",
       "                    \n",
       "                if (document.getElementById(\"baa65c6e-6240-4bed-b7b5-691e8ce4e0cd\")) {\n",
       "                    Plotly.newPlot(\n",
       "                        'baa65c6e-6240-4bed-b7b5-691e8ce4e0cd',\n",
       "                        [{\"marker\": {\"color\": \"rgba(255, 153, 51, 1.0)\", \"line\": {\"width\": 1.3}, \"opacity\": 0.8, \"size\": [13], \"symbol\": \"circle\"}, \"mode\": \"markers\", \"name\": \"Defense & Space\", \"textfont\": {\"color\": \"#4D5663\"}, \"type\": \"scatter\", \"uid\": \"902e678d-3326-41aa-a091-46256ba4bd20\", \"x\": [634], \"y\": [\"Defense & Space\"]}, {\"marker\": {\"color\": \"rgba(55, 128, 191, 1.0)\", \"line\": {\"width\": 1.3}, \"opacity\": 0.8, \"size\": [12], \"symbol\": \"circle\"}, \"mode\": \"markers\", \"name\": \"Computer Hardware\", \"textfont\": {\"color\": \"#4D5663\"}, \"type\": \"scatter\", \"uid\": \"6c166591-415c-42ac-ad0d-8f3595559bd5\", \"x\": [2], \"y\": [\"Computer Hardware\"]}, {\"marker\": {\"color\": \"rgba(50, 171, 96, 1.0)\", \"line\": {\"width\": 1.3}, \"opacity\": 0.8, \"size\": [26], \"symbol\": \"circle\"}, \"mode\": \"markers\", \"name\": \"Computer Software\", \"textfont\": {\"color\": \"#4D5663\"}, \"type\": \"scatter\", \"uid\": \"172c3d79-b91f-411c-a5a7-9ccb28acf3fb\", \"x\": [5313], \"y\": [\"Computer Software\"]}, {\"marker\": {\"color\": \"rgba(128, 0, 128, 1.0)\", \"line\": {\"width\": 1.3}, \"opacity\": 0.8, \"size\": [12], \"symbol\": \"circle\"}, \"mode\": \"markers\", \"name\": \"Computer Networking\", \"textfont\": {\"color\": \"#4D5663\"}, \"type\": \"scatter\", \"uid\": \"0d129e21-8368-4ca7-8bf3-04bae42ad70a\", \"x\": [281], \"y\": [\"Computer Networking\"]}, {\"marker\": {\"color\": \"rgba(219, 64, 82, 1.0)\", \"line\": {\"width\": 1.3}, \"opacity\": 0.8, \"size\": [24], \"symbol\": \"circle\"}, \"mode\": \"markers\", \"name\": \"Internet\", \"textfont\": {\"color\": \"#4D5663\"}, \"type\": \"scatter\", \"uid\": \"aeaf8471-caa2-4ccb-928b-f543cfc2820b\", \"x\": [4779], \"y\": [\"Internet\"]}, {\"marker\": {\"color\": \"rgba(0, 128, 128, 1.0)\", \"line\": {\"width\": 1.3}, \"opacity\": 0.8, \"size\": [13], \"symbol\": \"circle\"}, \"mode\": \"markers\", \"name\": \"Semiconductors\", \"textfont\": {\"color\": \"#4D5663\"}, \"type\": \"scatter\", \"uid\": \"221ad562-3639-4937-bb39-5e07e991ff99\", \"x\": [393], \"y\": [\"Semiconductors\"]}, {\"marker\": {\"color\": \"rgba(255, 255, 51, 1.0)\", \"line\": {\"width\": 1.3}, \"opacity\": 0.8, \"size\": [16], \"symbol\": \"circle\"}, \"mode\": \"markers\", \"name\": \"Telecommunications\", \"textfont\": {\"color\": \"#4D5663\"}, \"type\": \"scatter\", \"uid\": \"84fcf138-0fd8-4f56-9520-248d3063cdc4\", \"x\": [1708], \"y\": [\"Telecommunications\"]}, {\"marker\": {\"color\": \"rgba(128, 128, 0, 1.0)\", \"line\": {\"width\": 1.3}, \"opacity\": 0.8, \"size\": [16], \"symbol\": \"circle\"}, \"mode\": \"markers\", \"name\": \"Law Practice\", \"textfont\": {\"color\": \"#4D5663\"}, \"type\": \"scatter\", \"uid\": \"34fa5430-41bd-4437-af45-f5e536179022\", \"x\": [1705], \"y\": [\"Law Practice\"]}, {\"marker\": {\"color\": \"rgba(251, 128, 114, 1.0)\", \"line\": {\"width\": 1.3}, \"opacity\": 0.8, \"size\": [13], \"symbol\": \"circle\"}, \"mode\": \"markers\", \"name\": \"Legal Services\", \"textfont\": {\"color\": \"#4D5663\"}, \"type\": \"scatter\", \"uid\": \"0d1c329c-22a3-41cd-a2b0-2a8ac438fa9d\", \"x\": [743], \"y\": [\"Legal Services\"]}, {\"marker\": {\"color\": \"rgba(128, 177, 211, 1.0)\", \"line\": {\"width\": 1.3}, \"opacity\": 0.8, \"size\": [22], \"symbol\": \"circle\"}, \"mode\": \"markers\", \"name\": \"Management Consulting\", \"textfont\": {\"color\": \"#4D5663\"}, \"type\": \"scatter\", \"uid\": \"624f0c88-73e5-4b21-a37f-bd07f608a8f9\", \"x\": [4071], \"y\": [\"Management Consulting\"]}, {\"marker\": {\"color\": \"rgba(128, 177, 211, 0.9389312977099236)\", \"line\": {\"width\": 1.3}, \"opacity\": 0.8, \"size\": [15], \"symbol\": \"circle\"}, \"mode\": \"markers\", \"name\": \"Biotechnology\", \"textfont\": {\"color\": \"#4D5663\"}, \"type\": \"scatter\", \"uid\": \"6fcd53e0-791d-4f3c-84d6-8b0ef667ac35\", \"x\": [1128], \"y\": [\"Biotechnology\"]}, {\"marker\": {\"color\": \"rgba(255, 153, 51, 0.9389312977099236)\", \"line\": {\"width\": 1.3}, \"opacity\": 0.8, \"size\": [13], \"symbol\": \"circle\"}, \"mode\": \"markers\", \"name\": \"Medical Practice\", \"textfont\": {\"color\": \"#4D5663\"}, \"type\": \"scatter\", \"uid\": \"a50bb17a-6243-4398-b3f7-5f0e7656d8b5\", \"x\": [528], \"y\": [\"Medical Practice\"]}, {\"marker\": {\"color\": \"rgba(55, 128, 191, 0.9389312977099236)\", \"line\": {\"width\": 1.3}, \"opacity\": 0.8, \"size\": [28], \"symbol\": \"circle\"}, \"mode\": \"markers\", \"name\": \"Hospital & Health Care\", \"textfont\": {\"color\": \"#4D5663\"}, \"type\": \"scatter\", \"uid\": \"55ff4eba-7d8c-4029-9f02-90d2583dd590\", \"x\": [6046], \"y\": [\"Hospital & Health Care\"]}, {\"marker\": {\"color\": \"rgba(50, 171, 96, 0.9389312977099236)\", \"line\": {\"width\": 1.3}, \"opacity\": 0.8, \"size\": [16], \"symbol\": \"circle\"}, \"mode\": \"markers\", \"name\": \"Pharmaceuticals\", \"textfont\": {\"color\": \"#4D5663\"}, \"type\": \"scatter\", \"uid\": \"4c629c41-1bf3-4a94-9732-d26a3ffdb9ef\", \"x\": [1755], \"y\": [\"Pharmaceuticals\"]}, {\"marker\": {\"color\": \"rgba(128, 0, 128, 0.9389312977099236)\", \"line\": {\"width\": 1.3}, \"opacity\": 0.8, \"size\": [12], \"symbol\": \"circle\"}, \"mode\": \"markers\", \"name\": \"Veterinary\", \"textfont\": {\"color\": \"#4D5663\"}, \"type\": \"scatter\", \"uid\": \"c069c1d2-b5e9-4b6d-af99-5d517178b32f\", \"x\": [11], \"y\": [\"Veterinary\"]}, {\"marker\": {\"color\": \"rgba(219, 64, 82, 0.9389312977099236)\", \"line\": {\"width\": 1.3}, \"opacity\": 0.8, \"size\": [15], \"symbol\": \"circle\"}, \"mode\": \"markers\", \"name\": \"Medical Devices\", \"textfont\": {\"color\": \"#4D5663\"}, \"type\": \"scatter\", \"uid\": \"945d0001-6b5a-41fc-8fa6-a27e7ee223a1\", \"x\": [1331], \"y\": [\"Medical Devices\"]}, {\"marker\": {\"color\": \"rgba(0, 128, 128, 0.9389312977099236)\", \"line\": {\"width\": 1.3}, \"opacity\": 0.8, \"size\": [12], \"symbol\": \"circle\"}, \"mode\": \"markers\", \"name\": \"Cosmetics\", \"textfont\": {\"color\": \"#4D5663\"}, \"type\": \"scatter\", \"uid\": \"51a84668-041f-4882-a7e2-00a538f4e89c\", \"x\": [122], \"y\": [\"Cosmetics\"]}, {\"marker\": {\"color\": \"rgba(255, 255, 51, 0.9389312977099236)\", \"line\": {\"width\": 1.3}, \"opacity\": 0.8, \"size\": [15], \"symbol\": \"circle\"}, \"mode\": \"markers\", \"name\": \"Apparel & Fashion\", \"textfont\": {\"color\": \"#4D5663\"}, \"type\": \"scatter\", \"uid\": \"ccce482e-69e9-4c78-a40d-7f6ff06ed1b7\", \"x\": [1326], \"y\": [\"Apparel & Fashion\"]}, {\"marker\": {\"color\": \"rgba(128, 128, 0, 0.9389312977099236)\", \"line\": {\"width\": 1.3}, \"opacity\": 0.8, \"size\": [12], \"symbol\": \"circle\"}, \"mode\": \"markers\", \"name\": \"Sporting Goods\", \"textfont\": {\"color\": \"#4D5663\"}, \"type\": \"scatter\", \"uid\": \"ba56bc9a-226e-4126-a5b0-32fc33fdc1d1\", \"x\": [173], \"y\": [\"Sporting Goods\"]}, {\"marker\": {\"color\": \"rgba(251, 128, 114, 0.9389312977099236)\", \"line\": {\"width\": 1.3}, \"opacity\": 0.8, \"size\": [12], \"symbol\": \"circle\"}, \"mode\": \"markers\", \"name\": \"Supermarkets\", \"textfont\": {\"color\": \"#4D5663\"}, \"type\": \"scatter\", \"uid\": \"6b459328-3d7f-4e51-8c35-5e29fe14b442\", \"x\": [2], \"y\": [\"Supermarkets\"]}, {\"marker\": {\"color\": \"rgba(251, 128, 114, 0.8778625954198473)\", \"line\": {\"width\": 1.3}, \"opacity\": 0.8, \"size\": [13], \"symbol\": \"circle\"}, \"mode\": \"markers\", \"name\": \"Food Production\", \"textfont\": {\"color\": \"#4D5663\"}, \"type\": \"scatter\", \"uid\": \"517324e0-589e-43df-b668-9147124c1276\", \"x\": [580], \"y\": [\"Food Production\"]}, {\"marker\": {\"color\": \"rgba(128, 177, 211, 0.8778625954198473)\", \"line\": {\"width\": 1.3}, \"opacity\": 0.8, \"size\": [13], \"symbol\": \"circle\"}, \"mode\": \"markers\", \"name\": \"Consumer Electronics\", \"textfont\": {\"color\": \"#4D5663\"}, \"type\": \"scatter\", \"uid\": \"31d9852f-bc3a-44ca-8035-c2ed93db5cda\", \"x\": [540], \"y\": [\"Consumer Electronics\"]}, {\"marker\": {\"color\": \"rgba(255, 153, 51, 0.8778625954198473)\", \"line\": {\"width\": 1.3}, \"opacity\": 0.8, \"size\": [16], \"symbol\": \"circle\"}, \"mode\": \"markers\", \"name\": \"Consumer Goods\", \"textfont\": {\"color\": \"#4D5663\"}, \"type\": \"scatter\", \"uid\": \"35610a09-c4fb-4630-9912-15bc834fd462\", \"x\": [1689], \"y\": [\"Consumer Goods\"]}, {\"marker\": {\"color\": \"rgba(55, 128, 191, 0.8778625954198473)\", \"line\": {\"width\": 1.3}, \"opacity\": 0.8, \"size\": [12], \"symbol\": \"circle\"}, \"mode\": \"markers\", \"name\": \"Furniture\", \"textfont\": {\"color\": \"#4D5663\"}, \"type\": \"scatter\", \"uid\": \"69c13bf7-2175-4c5b-af3a-0618e24b7e59\", \"x\": [45], \"y\": [\"Furniture\"]}, {\"marker\": {\"color\": \"rgba(50, 171, 96, 0.8778625954198473)\", \"line\": {\"width\": 1.3}, \"opacity\": 0.8, \"size\": [23], \"symbol\": \"circle\"}, \"mode\": \"markers\", \"name\": \"Retail\", \"textfont\": {\"color\": \"#4D5663\"}, \"type\": \"scatter\", \"uid\": \"1d0c79c3-1903-4d1d-bbb3-16e0b45a4a8f\", \"x\": [4221], \"y\": [\"Retail\"]}, {\"marker\": {\"color\": \"rgba(128, 0, 128, 0.8778625954198473)\", \"line\": {\"width\": 1.3}, \"opacity\": 0.8, \"size\": [15], \"symbol\": \"circle\"}, \"mode\": \"markers\", \"name\": \"Entertainment\", \"textfont\": {\"color\": \"#4D5663\"}, \"type\": \"scatter\", \"uid\": \"7bcd9973-d01c-4cb8-b2b9-efb5704bdd21\", \"x\": [1458], \"y\": [\"Entertainment\"]}, {\"marker\": {\"color\": \"rgba(219, 64, 82, 0.8778625954198473)\", \"line\": {\"width\": 1.3}, \"opacity\": 0.8, \"size\": [13], \"symbol\": \"circle\"}, \"mode\": \"markers\", \"name\": \"Leisure, Travel & Tourism\", \"textfont\": {\"color\": \"#4D5663\"}, \"type\": \"scatter\", \"uid\": \"2565190d-1fbd-4a3f-87cd-8dd207401f11\", \"x\": [452], \"y\": [\"Leisure, Travel & Tourism\"]}, {\"marker\": {\"color\": \"rgba(0, 128, 128, 0.8778625954198473)\", \"line\": {\"width\": 1.3}, \"opacity\": 0.8, \"size\": [17], \"symbol\": \"circle\"}, \"mode\": \"markers\", \"name\": \"Hospitality\", \"textfont\": {\"color\": \"#4D5663\"}, \"type\": \"scatter\", \"uid\": \"2b96dbe5-3993-4d60-b3ed-9532912f3e6d\", \"x\": [1953], \"y\": [\"Hospitality\"]}, {\"marker\": {\"color\": \"rgba(255, 255, 51, 0.8778625954198473)\", \"line\": {\"width\": 1.3}, \"opacity\": 0.8, \"size\": [15], \"symbol\": \"circle\"}, \"mode\": \"markers\", \"name\": \"Restaurants\", \"textfont\": {\"color\": \"#4D5663\"}, \"type\": \"scatter\", \"uid\": \"2eb70dd1-9b8f-45ca-b047-e395fa8b18b2\", \"x\": [1282], \"y\": [\"Restaurants\"]}, {\"marker\": {\"color\": \"rgba(128, 128, 0, 0.8778625954198473)\", \"line\": {\"width\": 1.3}, \"opacity\": 0.8, \"size\": [18], \"symbol\": \"circle\"}, \"mode\": \"markers\", \"name\": \"Sports\", \"textfont\": {\"color\": \"#4D5663\"}, \"type\": \"scatter\", \"uid\": \"f20a34d3-bc9d-49e5-9578-585c3a1add3c\", \"x\": [2302], \"y\": [\"Sports\"]}, {\"marker\": {\"color\": \"rgba(128, 128, 0, 0.8167938931297709)\", \"line\": {\"width\": 1.3}, \"opacity\": 0.8, \"size\": [16], \"symbol\": \"circle\"}, \"mode\": \"markers\", \"name\": \"Food & Beverages\", \"textfont\": {\"color\": \"#4D5663\"}, \"type\": \"scatter\", \"uid\": \"394ef329-ff8a-441e-ad7a-16a7f0b69974\", \"x\": [1530], \"y\": [\"Food & Beverages\"]}, {\"marker\": {\"color\": \"rgba(251, 128, 114, 0.8167938931297709)\", \"line\": {\"width\": 1.3}, \"opacity\": 0.8, \"size\": [12], \"symbol\": \"circle\"}, \"mode\": \"markers\", \"name\": \"Motion Pictures and Film\", \"textfont\": {\"color\": \"#4D5663\"}, \"type\": \"scatter\", \"uid\": \"a7d57df5-6a98-4b0c-9f3f-e046b471926e\", \"x\": [42], \"y\": [\"Motion Pictures and Film\"]}, {\"marker\": {\"color\": \"rgba(128, 177, 211, 0.8167938931297709)\", \"line\": {\"width\": 1.3}, \"opacity\": 0.8, \"size\": [14], \"symbol\": \"circle\"}, \"mode\": \"markers\", \"name\": \"Broadcast Media\", \"textfont\": {\"color\": \"#4D5663\"}, \"type\": \"scatter\", \"uid\": \"958111bd-4ad5-4763-9faf-7938e2ebec86\", \"x\": [1105], \"y\": [\"Broadcast Media\"]}, {\"marker\": {\"color\": \"rgba(255, 153, 51, 0.8167938931297709)\", \"line\": {\"width\": 1.3}, \"opacity\": 0.8, \"size\": [12], \"symbol\": \"circle\"}, \"mode\": \"markers\", \"name\": \"Museums and Institutions\", \"textfont\": {\"color\": \"#4D5663\"}, \"type\": \"scatter\", \"uid\": \"ed227d42-3744-4c15-9694-a6f3334727ea\", \"x\": [373], \"y\": [\"Museums and Institutions\"]}, {\"marker\": {\"color\": \"rgba(55, 128, 191, 0.8167938931297709)\", \"line\": {\"width\": 1.3}, \"opacity\": 0.8, \"size\": [12], \"symbol\": \"circle\"}, \"mode\": \"markers\", \"name\": \"Fine Art\", \"textfont\": {\"color\": \"#4D5663\"}, \"type\": \"scatter\", \"uid\": \"0d512246-426a-44cf-930e-9a4b188cfe7c\", \"x\": [12], \"y\": [\"Fine Art\"]}, {\"marker\": {\"color\": \"rgba(50, 171, 96, 0.8167938931297709)\", \"line\": {\"width\": 1.3}, \"opacity\": 0.8, \"size\": [12], \"symbol\": \"circle\"}, \"mode\": \"markers\", \"name\": \"Performing Arts\", \"textfont\": {\"color\": \"#4D5663\"}, \"type\": \"scatter\", \"uid\": \"5f790f27-813e-461e-b24b-516c84c5e911\", \"x\": [352], \"y\": [\"Performing Arts\"]}, {\"marker\": {\"color\": \"rgba(128, 0, 128, 0.8167938931297709)\", \"line\": {\"width\": 1.3}, \"opacity\": 0.8, \"size\": [13], \"symbol\": \"circle\"}, \"mode\": \"markers\", \"name\": \"Recreational Facilities and Services\", \"textfont\": {\"color\": \"#4D5663\"}, \"type\": \"scatter\", \"uid\": \"94ca98ec-77ba-4abe-add2-5e73aea332bb\", \"x\": [399], \"y\": [\"Recreational Facilities and Services\"]}, {\"marker\": {\"color\": \"rgba(219, 64, 82, 0.8167938931297709)\", \"line\": {\"width\": 1.3}, \"opacity\": 0.8, \"size\": [17], \"symbol\": \"circle\"}, \"mode\": \"markers\", \"name\": \"Banking\", \"textfont\": {\"color\": \"#4D5663\"}, \"type\": \"scatter\", \"uid\": \"f7787ae8-db57-4913-877f-f96d806840be\", \"x\": [2016], \"y\": [\"Banking\"]}, {\"marker\": {\"color\": \"rgba(0, 128, 128, 0.8167938931297709)\", \"line\": {\"width\": 1.3}, \"opacity\": 0.8, \"size\": [19], \"symbol\": \"circle\"}, \"mode\": \"markers\", \"name\": \"Insurance\", \"textfont\": {\"color\": \"#4D5663\"}, \"type\": \"scatter\", \"uid\": \"469c810f-f832-4b6e-bf70-0945d275d55f\", \"x\": [2777], \"y\": [\"Insurance\"]}, {\"marker\": {\"color\": \"rgba(255, 255, 51, 0.8167938931297709)\", \"line\": {\"width\": 1.3}, \"opacity\": 0.8, \"size\": [34], \"symbol\": \"circle\"}, \"mode\": \"markers\", \"name\": \"Financial Services\", \"textfont\": {\"color\": \"#4D5663\"}, \"type\": \"scatter\", \"uid\": \"ddef5b81-41b3-4f5d-84b7-98d1b1bc78b6\", \"x\": [8528], \"y\": [\"Financial Services\"]}, {\"marker\": {\"color\": \"rgba(255, 255, 51, 0.7557251908396947)\", \"line\": {\"width\": 1.3}, \"opacity\": 0.8, \"size\": [17], \"symbol\": \"circle\"}, \"mode\": \"markers\", \"name\": \"Real Estate\", \"textfont\": {\"color\": \"#4D5663\"}, \"type\": \"scatter\", \"uid\": \"88e23d9a-3865-49f4-9b8b-0d033cc8c738\", \"x\": [2189], \"y\": [\"Real Estate\"]}, {\"marker\": {\"color\": \"rgba(128, 128, 0, 0.7557251908396947)\", \"line\": {\"width\": 1.3}, \"opacity\": 0.8, \"size\": [13], \"symbol\": \"circle\"}, \"mode\": \"markers\", \"name\": \"Investment Banking\", \"textfont\": {\"color\": \"#4D5663\"}, \"type\": \"scatter\", \"uid\": \"ee5b083d-1af7-415c-bd35-ab323317f3a3\", \"x\": [675], \"y\": [\"Investment Banking\"]}, {\"marker\": {\"color\": \"rgba(251, 128, 114, 0.7557251908396947)\", \"line\": {\"width\": 1.3}, \"opacity\": 0.8, \"size\": [14], \"symbol\": \"circle\"}, \"mode\": \"markers\", \"name\": \"Investment Management\", \"textfont\": {\"color\": \"#4D5663\"}, \"type\": \"scatter\", \"uid\": \"c7eec118-2b85-4751-b880-d1f8076eaf71\", \"x\": [1083], \"y\": [\"Investment Management\"]}, {\"marker\": {\"color\": \"rgba(128, 177, 211, 0.7557251908396947)\", \"line\": {\"width\": 1.3}, \"opacity\": 0.8, \"size\": [19], \"symbol\": \"circle\"}, \"mode\": \"markers\", \"name\": \"Accounting\", \"textfont\": {\"color\": \"#4D5663\"}, \"type\": \"scatter\", \"uid\": \"74d3ef0a-a3a0-4617-b8cb-dd5f2c744b33\", \"x\": [2904], \"y\": [\"Accounting\"]}, {\"marker\": {\"color\": \"rgba(255, 153, 51, 0.7557251908396947)\", \"line\": {\"width\": 1.3}, \"opacity\": 0.8, \"size\": [16], \"symbol\": \"circle\"}, \"mode\": \"markers\", \"name\": \"Construction\", \"textfont\": {\"color\": \"#4D5663\"}, \"type\": \"scatter\", \"uid\": \"609e362e-b656-4674-baa1-2b7c88c72fa9\", \"x\": [1733], \"y\": [\"Construction\"]}, {\"marker\": {\"color\": \"rgba(55, 128, 191, 0.7557251908396947)\", \"line\": {\"width\": 1.3}, \"opacity\": 0.8, \"size\": [12], \"symbol\": \"circle\"}, \"mode\": \"markers\", \"name\": \"Building Materials\", \"textfont\": {\"color\": \"#4D5663\"}, \"type\": \"scatter\", \"uid\": \"b3b209bd-5923-4f54-822d-eee8af8a5057\", \"x\": [324], \"y\": [\"Building Materials\"]}, {\"marker\": {\"color\": \"rgba(50, 171, 96, 0.7557251908396947)\", \"line\": {\"width\": 1.3}, \"opacity\": 0.8, \"size\": [13], \"symbol\": \"circle\"}, \"mode\": \"markers\", \"name\": \"Architecture & Planning\", \"textfont\": {\"color\": \"#4D5663\"}, \"type\": \"scatter\", \"uid\": \"1d80d993-caa5-4d22-8797-7c75c57fc943\", \"x\": [385], \"y\": [\"Architecture & Planning\"]}, {\"marker\": {\"color\": \"rgba(128, 0, 128, 0.7557251908396947)\", \"line\": {\"width\": 1.3}, \"opacity\": 0.8, \"size\": [13], \"symbol\": \"circle\"}, \"mode\": \"markers\", \"name\": \"Civil Engineering\", \"textfont\": {\"color\": \"#4D5663\"}, \"type\": \"scatter\", \"uid\": \"4cab1f7b-ef78-46ae-b29d-41bc9de9f26b\", \"x\": [409], \"y\": [\"Civil Engineering\"]}, {\"marker\": {\"color\": \"rgba(219, 64, 82, 0.7557251908396947)\", \"line\": {\"width\": 1.3}, \"opacity\": 0.8, \"size\": [13], \"symbol\": \"circle\"}, \"mode\": \"markers\", \"name\": \"Aviation & Aerospace\", \"textfont\": {\"color\": \"#4D5663\"}, \"type\": \"scatter\", \"uid\": \"e9d057aa-98da-422f-98b2-5d5e09fa7df2\", \"x\": [603], \"y\": [\"Aviation & Aerospace\"]}, {\"marker\": {\"color\": \"rgba(0, 128, 128, 0.7557251908396947)\", \"line\": {\"width\": 1.3}, \"opacity\": 0.8, \"size\": [18], \"symbol\": \"circle\"}, \"mode\": \"markers\", \"name\": \"Automotive\", \"textfont\": {\"color\": \"#4D5663\"}, \"type\": \"scatter\", \"uid\": \"1f405765-5ebe-40c6-be3c-3334ee255883\", \"x\": [2272], \"y\": [\"Automotive\"]}, {\"marker\": {\"color\": \"rgba(0, 128, 128, 0.6946564885496183)\", \"line\": {\"width\": 1.3}, \"opacity\": 0.8, \"size\": [15], \"symbol\": \"circle\"}, \"mode\": \"markers\", \"name\": \"Chemicals\", \"textfont\": {\"color\": \"#4D5663\"}, \"type\": \"scatter\", \"uid\": \"6e839dc7-f511-4cf4-88de-3d4a1c163087\", \"x\": [1351], \"y\": [\"Chemicals\"]}, {\"marker\": {\"color\": \"rgba(255, 255, 51, 0.6946564885496183)\", \"line\": {\"width\": 1.3}, \"opacity\": 0.8, \"size\": [13], \"symbol\": \"circle\"}, \"mode\": \"markers\", \"name\": \"Machinery\", \"textfont\": {\"color\": \"#4D5663\"}, \"type\": \"scatter\", \"uid\": \"c58734cc-1422-467a-a0e6-b9861560f4d3\", \"x\": [538], \"y\": [\"Machinery\"]}, {\"marker\": {\"color\": \"rgba(128, 128, 0, 0.6946564885496183)\", \"line\": {\"width\": 1.3}, \"opacity\": 0.8, \"size\": [13], \"symbol\": \"circle\"}, \"mode\": \"markers\", \"name\": \"Mining & Metals\", \"textfont\": {\"color\": \"#4D5663\"}, \"type\": \"scatter\", \"uid\": \"16f11fa1-69fd-424a-b292-030214af5ed2\", \"x\": [483], \"y\": [\"Mining & Metals\"]}, {\"marker\": {\"color\": \"rgba(251, 128, 114, 0.6946564885496183)\", \"line\": {\"width\": 1.3}, \"opacity\": 0.8, \"size\": [14], \"symbol\": \"circle\"}, \"mode\": \"markers\", \"name\": \"Oil & Energy\", \"textfont\": {\"color\": \"#4D5663\"}, \"type\": \"scatter\", \"uid\": \"2cbc8103-d562-4de5-971a-2cc7e1422077\", \"x\": [1070], \"y\": [\"Oil & Energy\"]}, {\"marker\": {\"color\": \"rgba(128, 177, 211, 0.6946564885496183)\", \"line\": {\"width\": 1.3}, \"opacity\": 0.8, \"size\": [13], \"symbol\": \"circle\"}, \"mode\": \"markers\", \"name\": \"Utilities\", \"textfont\": {\"color\": \"#4D5663\"}, \"type\": \"scatter\", \"uid\": \"32e6199b-1adc-4e68-b08d-779f27b810ba\", \"x\": [563], \"y\": [\"Utilities\"]}, {\"marker\": {\"color\": \"rgba(255, 153, 51, 0.6946564885496183)\", \"line\": {\"width\": 1.3}, \"opacity\": 0.8, \"size\": [12], \"symbol\": \"circle\"}, \"mode\": \"markers\", \"name\": \"Textiles\", \"textfont\": {\"color\": \"#4D5663\"}, \"type\": \"scatter\", \"uid\": \"48fe361f-812e-4dd4-ab2f-f670164eb9d3\", \"x\": [10], \"y\": [\"Textiles\"]}, {\"marker\": {\"color\": \"rgba(55, 128, 191, 0.6946564885496183)\", \"line\": {\"width\": 1.3}, \"opacity\": 0.8, \"size\": [12], \"symbol\": \"circle\"}, \"mode\": \"markers\", \"name\": \"Farming\", \"textfont\": {\"color\": \"#4D5663\"}, \"type\": \"scatter\", \"uid\": \"3502fc67-83be-48dc-b480-f2e972912775\", \"x\": [1], \"y\": [\"Farming\"]}, {\"marker\": {\"color\": \"rgba(50, 171, 96, 0.6946564885496183)\", \"line\": {\"width\": 1.3}, \"opacity\": 0.8, \"size\": [12], \"symbol\": \"circle\"}, \"mode\": \"markers\", \"name\": \"Dairy\", \"textfont\": {\"color\": \"#4D5663\"}, \"type\": \"scatter\", \"uid\": \"5e4ca93f-da14-4111-b56e-0c67d838eb3d\", \"x\": [20], \"y\": [\"Dairy\"]}, {\"marker\": {\"color\": \"rgba(128, 0, 128, 0.6946564885496183)\", \"line\": {\"width\": 1.3}, \"opacity\": 0.8, \"size\": [14], \"symbol\": \"circle\"}, \"mode\": \"markers\", \"name\": \"Primary/Secondary Education\", \"textfont\": {\"color\": \"#4D5663\"}, \"type\": \"scatter\", \"uid\": \"764d332c-ac05-4acb-b3d9-3adbd265f7fe\", \"x\": [913], \"y\": [\"Primary/Secondary Education\"]}, {\"marker\": {\"color\": \"rgba(219, 64, 82, 0.6946564885496183)\", \"line\": {\"width\": 1.3}, \"opacity\": 0.8, \"size\": [112], \"symbol\": \"circle\"}, \"mode\": \"markers\", \"name\": \"Higher Education\", \"textfont\": {\"color\": \"#4D5663\"}, \"type\": \"scatter\", \"uid\": \"7aa51857-88e3-4fe0-9e03-904225a16662\", \"x\": [37410], \"y\": [\"Higher Education\"]}, {\"marker\": {\"color\": \"rgba(219, 64, 82, 0.633587786259542)\", \"line\": {\"width\": 1.3}, \"opacity\": 0.8, \"size\": [24], \"symbol\": \"circle\"}, \"mode\": \"markers\", \"name\": \"Education Management\", \"textfont\": {\"color\": \"#4D5663\"}, \"type\": \"scatter\", \"uid\": \"8ddf12a1-77d6-4382-a2e5-230808d98702\", \"x\": [4842], \"y\": [\"Education Management\"]}, {\"marker\": {\"color\": \"rgba(0, 128, 128, 0.633587786259542)\", \"line\": {\"width\": 1.3}, \"opacity\": 0.8, \"size\": [18], \"symbol\": \"circle\"}, \"mode\": \"markers\", \"name\": \"Research\", \"textfont\": {\"color\": \"#4D5663\"}, \"type\": \"scatter\", \"uid\": \"dfb6d769-260a-4fdb-9c95-8981d8cb8c61\", \"x\": [2372], \"y\": [\"Research\"]}, {\"marker\": {\"color\": \"rgba(255, 255, 51, 0.633587786259542)\", \"line\": {\"width\": 1.3}, \"opacity\": 0.8, \"size\": [14], \"symbol\": \"circle\"}, \"mode\": \"markers\", \"name\": \"Military\", \"textfont\": {\"color\": \"#4D5663\"}, \"type\": \"scatter\", \"uid\": \"3063b540-2e82-4621-b2f7-d8277575cbe1\", \"x\": [817], \"y\": [\"Military\"]}, {\"marker\": {\"color\": \"rgba(128, 128, 0, 0.633587786259542)\", \"line\": {\"width\": 1.3}, \"opacity\": 0.8, \"size\": [12], \"symbol\": \"circle\"}, \"mode\": \"markers\", \"name\": \"Judiciary\", \"textfont\": {\"color\": \"#4D5663\"}, \"type\": \"scatter\", \"uid\": \"d5fd93a2-14ea-4834-81c1-16d87889e829\", \"x\": [2], \"y\": [\"Judiciary\"]}, {\"marker\": {\"color\": \"rgba(251, 128, 114, 0.633587786259542)\", \"line\": {\"width\": 1.3}, \"opacity\": 0.8, \"size\": [13], \"symbol\": \"circle\"}, \"mode\": \"markers\", \"name\": \"International Affairs\", \"textfont\": {\"color\": \"#4D5663\"}, \"type\": \"scatter\", \"uid\": \"49e01e28-560e-48e0-9b7d-3d3446afc240\", \"x\": [669], \"y\": [\"International Affairs\"]}, {\"marker\": {\"color\": \"rgba(128, 177, 211, 0.633587786259542)\", \"line\": {\"width\": 1.3}, \"opacity\": 0.8, \"size\": [18], \"symbol\": \"circle\"}, \"mode\": \"markers\", \"name\": \"Government Administration\", \"textfont\": {\"color\": \"#4D5663\"}, \"type\": \"scatter\", \"uid\": \"fad141bb-adab-4440-88cc-c9b43b2ed688\", \"x\": [2277], \"y\": [\"Government Administration\"]}, {\"marker\": {\"color\": \"rgba(255, 153, 51, 0.633587786259542)\", \"line\": {\"width\": 1.3}, \"opacity\": 0.8, \"size\": [12], \"symbol\": \"circle\"}, \"mode\": \"markers\", \"name\": \"Executive Office\", \"textfont\": {\"color\": \"#4D5663\"}, \"type\": \"scatter\", \"uid\": \"e43f9afb-eaeb-47da-9b79-2e03ad86d15c\", \"x\": [105], \"y\": [\"Executive Office\"]}, {\"marker\": {\"color\": \"rgba(55, 128, 191, 0.633587786259542)\", \"line\": {\"width\": 1.3}, \"opacity\": 0.8, \"size\": [12], \"symbol\": \"circle\"}, \"mode\": \"markers\", \"name\": \"Law Enforcement\", \"textfont\": {\"color\": \"#4D5663\"}, \"type\": \"scatter\", \"uid\": \"e5ec5aa2-e75c-4faf-bd76-7defc7d1dc8c\", \"x\": [227], \"y\": [\"Law Enforcement\"]}, {\"marker\": {\"color\": \"rgba(50, 171, 96, 0.633587786259542)\", \"line\": {\"width\": 1.3}, \"opacity\": 0.8, \"size\": [12], \"symbol\": \"circle\"}, \"mode\": \"markers\", \"name\": \"Public Safety\", \"textfont\": {\"color\": \"#4D5663\"}, \"type\": \"scatter\", \"uid\": \"3ea4a91d-935f-469a-a07c-f314641b4f13\", \"x\": [51], \"y\": [\"Public Safety\"]}, {\"marker\": {\"color\": \"rgba(128, 0, 128, 0.633587786259542)\", \"line\": {\"width\": 1.3}, \"opacity\": 0.8, \"size\": [12], \"symbol\": \"circle\"}, \"mode\": \"markers\", \"name\": \"Public Policy\", \"textfont\": {\"color\": \"#4D5663\"}, \"type\": \"scatter\", \"uid\": \"7c275ac5-781e-429d-b5ae-e59dfa1bc39d\", \"x\": [348], \"y\": [\"Public Policy\"]}, {\"marker\": {\"color\": \"rgba(128, 0, 128, 0.5725190839694656)\", \"line\": {\"width\": 1.3}, \"opacity\": 0.8, \"size\": [27], \"symbol\": \"circle\"}, \"mode\": \"markers\", \"name\": \"Marketing and Advertising\", \"textfont\": {\"color\": \"#4D5663\"}, \"type\": \"scatter\", \"uid\": \"394fa4a3-f629-434b-a3ae-0b7625895779\", \"x\": [5659], \"y\": [\"Marketing and Advertising\"]}, {\"marker\": {\"color\": \"rgba(219, 64, 82, 0.5725190839694656)\", \"line\": {\"width\": 1.3}, \"opacity\": 0.8, \"size\": [13], \"symbol\": \"circle\"}, \"mode\": \"markers\", \"name\": \"Newspapers\", \"textfont\": {\"color\": \"#4D5663\"}, \"type\": \"scatter\", \"uid\": \"33df8cd6-79d1-493a-9c11-83791005b2cd\", \"x\": [468], \"y\": [\"Newspapers\"]}, {\"marker\": {\"color\": \"rgba(0, 128, 128, 0.5725190839694656)\", \"line\": {\"width\": 1.3}, \"opacity\": 0.8, \"size\": [14], \"symbol\": \"circle\"}, \"mode\": \"markers\", \"name\": \"Publishing\", \"textfont\": {\"color\": \"#4D5663\"}, \"type\": \"scatter\", \"uid\": \"feb687b2-28c0-4d5a-9ec3-fd6969933027\", \"x\": [852], \"y\": [\"Publishing\"]}, {\"marker\": {\"color\": \"rgba(255, 255, 51, 0.5725190839694656)\", \"line\": {\"width\": 1.3}, \"opacity\": 0.8, \"size\": [12], \"symbol\": \"circle\"}, \"mode\": \"markers\", \"name\": \"Printing\", \"textfont\": {\"color\": \"#4D5663\"}, \"type\": \"scatter\", \"uid\": \"5ff6b400-0d21-43b1-9ef2-f1e9f0de8bc2\", \"x\": [11], \"y\": [\"Printing\"]}, {\"marker\": {\"color\": \"rgba(128, 128, 0, 0.5725190839694656)\", \"line\": {\"width\": 1.3}, \"opacity\": 0.8, \"size\": [13], \"symbol\": \"circle\"}, \"mode\": \"markers\", \"name\": \"Information Services\", \"textfont\": {\"color\": \"#4D5663\"}, \"type\": \"scatter\", \"uid\": \"03c1b1e5-67fe-4aeb-a5d4-0aeb74d18275\", \"x\": [731], \"y\": [\"Information Services\"]}, {\"marker\": {\"color\": \"rgba(251, 128, 114, 0.5725190839694656)\", \"line\": {\"width\": 1.3}, \"opacity\": 0.8, \"size\": [12], \"symbol\": \"circle\"}, \"mode\": \"markers\", \"name\": \"Libraries\", \"textfont\": {\"color\": \"#4D5663\"}, \"type\": \"scatter\", \"uid\": \"a193d4f2-3685-42e7-a2a4-6f656371ec82\", \"x\": [144], \"y\": [\"Libraries\"]}, {\"marker\": {\"color\": \"rgba(128, 177, 211, 0.5725190839694656)\", \"line\": {\"width\": 1.3}, \"opacity\": 0.8, \"size\": [13], \"symbol\": \"circle\"}, \"mode\": \"markers\", \"name\": \"Environmental Services\", \"textfont\": {\"color\": \"#4D5663\"}, \"type\": \"scatter\", \"uid\": \"a46919f8-7de3-405a-8726-317ea9c840fc\", \"x\": [647], \"y\": [\"Environmental Services\"]}, {\"marker\": {\"color\": \"rgba(255, 153, 51, 0.5725190839694656)\", \"line\": {\"width\": 1.3}, \"opacity\": 0.8, \"size\": [13], \"symbol\": \"circle\"}, \"mode\": \"markers\", \"name\": \"Individual & Family Services\", \"textfont\": {\"color\": \"#4D5663\"}, \"type\": \"scatter\", \"uid\": \"78443c9e-8fef-42d8-addc-4f8d2592b1f8\", \"x\": [462], \"y\": [\"Individual & Family Services\"]}, {\"marker\": {\"color\": \"rgba(55, 128, 191, 0.5725190839694656)\", \"line\": {\"width\": 1.3}, \"opacity\": 0.8, \"size\": [13], \"symbol\": \"circle\"}, \"mode\": \"markers\", \"name\": \"Religious Institutions\", \"textfont\": {\"color\": \"#4D5663\"}, \"type\": \"scatter\", \"uid\": \"e653c2bb-3d07-4001-8908-f782ebc1c77b\", \"x\": [415], \"y\": [\"Religious Institutions\"]}, {\"marker\": {\"color\": \"rgba(50, 171, 96, 0.5725190839694656)\", \"line\": {\"width\": 1.3}, \"opacity\": 0.8, \"size\": [14], \"symbol\": \"circle\"}, \"mode\": \"markers\", \"name\": \"Civic & Social Organization\", \"textfont\": {\"color\": \"#4D5663\"}, \"type\": \"scatter\", \"uid\": \"b80cc9a3-a113-4ee3-9d2b-0dc7439514a7\", \"x\": [1019], \"y\": [\"Civic & Social Organization\"]}, {\"marker\": {\"color\": \"rgba(50, 171, 96, 0.5114503816793894)\", \"line\": {\"width\": 1.3}, \"opacity\": 0.8, \"size\": [13], \"symbol\": \"circle\"}, \"mode\": \"markers\", \"name\": \"Consumer Services\", \"textfont\": {\"color\": \"#4D5663\"}, \"type\": \"scatter\", \"uid\": \"7b857349-00f4-416d-a6a1-406d9fbb3096\", \"x\": [733], \"y\": [\"Consumer Services\"]}, {\"marker\": {\"color\": \"rgba(128, 0, 128, 0.5114503816793894)\", \"line\": {\"width\": 1.3}, \"opacity\": 0.8, \"size\": [14], \"symbol\": \"circle\"}, \"mode\": \"markers\", \"name\": \"Transportation/Trucking/Railroad\", \"textfont\": {\"color\": \"#4D5663\"}, \"type\": \"scatter\", \"uid\": \"37c8ad67-c535-4fe4-a05a-0e4c55dbeac7\", \"x\": [933], \"y\": [\"Transportation/Trucking/Railroad\"]}, {\"marker\": {\"color\": \"rgba(219, 64, 82, 0.5114503816793894)\", \"line\": {\"width\": 1.3}, \"opacity\": 0.8, \"size\": [12], \"symbol\": \"circle\"}, \"mode\": \"markers\", \"name\": \"Airlines/Aviation\", \"textfont\": {\"color\": \"#4D5663\"}, \"type\": \"scatter\", \"uid\": \"1938cfc5-55f9-4e37-af14-7c02f1d2102e\", \"x\": [341], \"y\": [\"Airlines/Aviation\"]}, {\"marker\": {\"color\": \"rgba(0, 128, 128, 0.5114503816793894)\", \"line\": {\"width\": 1.3}, \"opacity\": 0.8, \"size\": [44], \"symbol\": \"circle\"}, \"mode\": \"markers\", \"name\": \"Information Technology and Services\", \"textfont\": {\"color\": \"#4D5663\"}, \"type\": \"scatter\", \"uid\": \"62d769b8-3fd3-4edc-9b5a-5a826a0c8106\", \"x\": [12244], \"y\": [\"Information Technology and Services\"]}, {\"marker\": {\"color\": \"rgba(255, 255, 51, 0.5114503816793894)\", \"line\": {\"width\": 1.3}, \"opacity\": 0.8, \"size\": [13], \"symbol\": \"circle\"}, \"mode\": \"markers\", \"name\": \"Market Research\", \"textfont\": {\"color\": \"#4D5663\"}, \"type\": \"scatter\", \"uid\": \"2d8804f6-aafd-4f92-b315-6f24cb89d12d\", \"x\": [625], \"y\": [\"Market Research\"]}, {\"marker\": {\"color\": \"rgba(128, 128, 0, 0.5114503816793894)\", \"line\": {\"width\": 1.3}, \"opacity\": 0.8, \"size\": [14], \"symbol\": \"circle\"}, \"mode\": \"markers\", \"name\": \"Public Relations and Communications\", \"textfont\": {\"color\": \"#4D5663\"}, \"type\": \"scatter\", \"uid\": \"0941c4fc-0f11-4d4e-b75f-2efe32b9cbae\", \"x\": [882], \"y\": [\"Public Relations and Communications\"]}, {\"marker\": {\"color\": \"rgba(251, 128, 114, 0.5114503816793894)\", \"line\": {\"width\": 1.3}, \"opacity\": 0.8, \"size\": [13], \"symbol\": \"circle\"}, \"mode\": \"markers\", \"name\": \"Design\", \"textfont\": {\"color\": \"#4D5663\"}, \"type\": \"scatter\", \"uid\": \"bd1a8687-5f23-469b-a3b0-85310de606dc\", \"x\": [710], \"y\": [\"Design\"]}, {\"marker\": {\"color\": \"rgba(128, 177, 211, 0.5114503816793894)\", \"line\": {\"width\": 1.3}, \"opacity\": 0.8, \"size\": [25], \"symbol\": \"circle\"}, \"mode\": \"markers\", \"name\": \"Nonprofit Organization Management\", \"textfont\": {\"color\": \"#4D5663\"}, \"type\": \"scatter\", \"uid\": \"098c7d4a-f503-454b-8341-97da44f16b21\", \"x\": [5113], \"y\": [\"Nonprofit Organization Management\"]}, {\"marker\": {\"color\": \"rgba(255, 153, 51, 0.5114503816793894)\", \"line\": {\"width\": 1.3}, \"opacity\": 0.8, \"size\": [13], \"symbol\": \"circle\"}, \"mode\": \"markers\", \"name\": \"Fund-Raising\", \"textfont\": {\"color\": \"#4D5663\"}, \"type\": \"scatter\", \"uid\": \"53deb813-2d54-4cb5-9dc6-04501ae1a2af\", \"x\": [404], \"y\": [\"Fund-Raising\"]}, {\"marker\": {\"color\": \"rgba(55, 128, 191, 0.5114503816793894)\", \"line\": {\"width\": 1.3}, \"opacity\": 0.8, \"size\": [13], \"symbol\": \"circle\"}, \"mode\": \"markers\", \"name\": \"Program Development\", \"textfont\": {\"color\": \"#4D5663\"}, \"type\": \"scatter\", \"uid\": \"08b1d091-6692-4225-a5da-1e46d475f918\", \"x\": [406], \"y\": [\"Program Development\"]}, {\"marker\": {\"color\": \"rgba(55, 128, 191, 0.450381679389313)\", \"line\": {\"width\": 1.3}, \"opacity\": 0.8, \"size\": [13], \"symbol\": \"circle\"}, \"mode\": \"markers\", \"name\": \"Writing and Editing\", \"textfont\": {\"color\": \"#4D5663\"}, \"type\": \"scatter\", \"uid\": \"6667ad20-224f-4c89-840b-9f0aaf68ed74\", \"x\": [514], \"y\": [\"Writing and Editing\"]}, {\"marker\": {\"color\": \"rgba(50, 171, 96, 0.450381679389313)\", \"line\": {\"width\": 1.3}, \"opacity\": 0.8, \"size\": [19], \"symbol\": \"circle\"}, \"mode\": \"markers\", \"name\": \"Staffing and Recruiting\", \"textfont\": {\"color\": \"#4D5663\"}, \"type\": \"scatter\", \"uid\": \"77b9ff5f-b18f-4467-8ad1-3ff25c94fa6e\", \"x\": [2888], \"y\": [\"Staffing and Recruiting\"]}, {\"marker\": {\"color\": \"rgba(128, 0, 128, 0.450381679389313)\", \"line\": {\"width\": 1.3}, \"opacity\": 0.8, \"size\": [16], \"symbol\": \"circle\"}, \"mode\": \"markers\", \"name\": \"Professional Training & Coaching\", \"textfont\": {\"color\": \"#4D5663\"}, \"type\": \"scatter\", \"uid\": \"9067fdc5-e99c-424f-98ad-b99dd2b9de5b\", \"x\": [1725], \"y\": [\"Professional Training & Coaching\"]}, {\"marker\": {\"color\": \"rgba(219, 64, 82, 0.450381679389313)\", \"line\": {\"width\": 1.3}, \"opacity\": 0.8, \"size\": [13], \"symbol\": \"circle\"}, \"mode\": \"markers\", \"name\": \"Venture Capital & Private Equity\", \"textfont\": {\"color\": \"#4D5663\"}, \"type\": \"scatter\", \"uid\": \"3f9e1b06-8cad-4266-8ddc-1eb5f221749b\", \"x\": [710], \"y\": [\"Venture Capital & Private Equity\"]}, {\"marker\": {\"color\": \"rgba(0, 128, 128, 0.450381679389313)\", \"line\": {\"width\": 1.3}, \"opacity\": 0.8, \"size\": [12], \"symbol\": \"circle\"}, \"mode\": \"markers\", \"name\": \"Political Organization\", \"textfont\": {\"color\": \"#4D5663\"}, \"type\": \"scatter\", \"uid\": \"d7b8e4a8-517b-4d95-ac88-a39b0f966790\", \"x\": [57], \"y\": [\"Political Organization\"]}, {\"marker\": {\"color\": \"rgba(255, 255, 51, 0.450381679389313)\", \"line\": {\"width\": 1.3}, \"opacity\": 0.8, \"size\": [12], \"symbol\": \"circle\"}, \"mode\": \"markers\", \"name\": \"Computer Games\", \"textfont\": {\"color\": \"#4D5663\"}, \"type\": \"scatter\", \"uid\": \"7d1f48cb-5278-4e48-a158-dc2ece518872\", \"x\": [2], \"y\": [\"Computer Games\"]}, {\"marker\": {\"color\": \"rgba(128, 128, 0, 0.450381679389313)\", \"line\": {\"width\": 1.3}, \"opacity\": 0.8, \"size\": [13], \"symbol\": \"circle\"}, \"mode\": \"markers\", \"name\": \"Events Services\", \"textfont\": {\"color\": \"#4D5663\"}, \"type\": \"scatter\", \"uid\": \"91004da3-f197-4f6b-8fe5-c3dab904ebf1\", \"x\": [548], \"y\": [\"Events Services\"]}, {\"marker\": {\"color\": \"rgba(251, 128, 114, 0.450381679389313)\", \"line\": {\"width\": 1.3}, \"opacity\": 0.8, \"size\": [12], \"symbol\": \"circle\"}, \"mode\": \"markers\", \"name\": \"Arts and Crafts\", \"textfont\": {\"color\": \"#4D5663\"}, \"type\": \"scatter\", \"uid\": \"9b61e90b-be4f-4939-8d64-dca3bcb5b14a\", \"x\": [135], \"y\": [\"Arts and Crafts\"]}, {\"marker\": {\"color\": \"rgba(128, 177, 211, 0.450381679389313)\", \"line\": {\"width\": 1.3}, \"opacity\": 0.8, \"size\": [14], \"symbol\": \"circle\"}, \"mode\": \"markers\", \"name\": \"Electrical/Electronic Manufacturing\", \"textfont\": {\"color\": \"#4D5663\"}, \"type\": \"scatter\", \"uid\": \"8838bbc5-e371-4bb7-b6ca-04916814955d\", \"x\": [922], \"y\": [\"Electrical/Electronic Manufacturing\"]}, {\"marker\": {\"color\": \"rgba(255, 153, 51, 0.450381679389313)\", \"line\": {\"width\": 1.3}, \"opacity\": 0.8, \"size\": [13], \"symbol\": \"circle\"}, \"mode\": \"markers\", \"name\": \"Online Media\", \"textfont\": {\"color\": \"#4D5663\"}, \"type\": \"scatter\", \"uid\": \"a7c2e371-8af1-4b16-ac6a-45ad33a9ca35\", \"x\": [599], \"y\": [\"Online Media\"]}, {\"marker\": {\"color\": \"rgba(255, 153, 51, 0.3893129770992368)\", \"line\": {\"width\": 1.3}, \"opacity\": 0.8, \"size\": [14], \"symbol\": \"circle\"}, \"mode\": \"markers\", \"name\": \"Music\", \"textfont\": {\"color\": \"#4D5663\"}, \"type\": \"scatter\", \"uid\": \"81401f69-fd2d-4bab-ae76-5b4178cb7000\", \"x\": [790], \"y\": [\"Music\"]}, {\"marker\": {\"color\": \"rgba(55, 128, 191, 0.3893129770992368)\", \"line\": {\"width\": 1.3}, \"opacity\": 0.8, \"size\": [15], \"symbol\": \"circle\"}, \"mode\": \"markers\", \"name\": \"Logistics and Supply Chain\", \"textfont\": {\"color\": \"#4D5663\"}, \"type\": \"scatter\", \"uid\": \"cc0df6ce-3fd7-45be-b86a-fa63200650db\", \"x\": [1266], \"y\": [\"Logistics and Supply Chain\"]}, {\"marker\": {\"color\": \"rgba(50, 171, 96, 0.3893129770992368)\", \"line\": {\"width\": 1.3}, \"opacity\": 0.8, \"size\": [12], \"symbol\": \"circle\"}, \"mode\": \"markers\", \"name\": \"Plastics\", \"textfont\": {\"color\": \"#4D5663\"}, \"type\": \"scatter\", \"uid\": \"0eb30b33-20bb-4d87-8a7e-bc1fdf0bdb38\", \"x\": [5], \"y\": [\"Plastics\"]}, {\"marker\": {\"color\": \"rgba(128, 0, 128, 0.3893129770992368)\", \"line\": {\"width\": 1.3}, \"opacity\": 0.8, \"size\": [12], \"symbol\": \"circle\"}, \"mode\": \"markers\", \"name\": \"Computer & Network Security\", \"textfont\": {\"color\": \"#4D5663\"}, \"type\": \"scatter\", \"uid\": \"24dc0947-6e0a-459d-8600-a136c08d8ae3\", \"x\": [365], \"y\": [\"Computer & Network Security\"]}, {\"marker\": {\"color\": \"rgba(219, 64, 82, 0.3893129770992368)\", \"line\": {\"width\": 1.3}, \"opacity\": 0.8, \"size\": [12], \"symbol\": \"circle\"}, \"mode\": \"markers\", \"name\": \"Security and Investigations\", \"textfont\": {\"color\": \"#4D5663\"}, \"type\": \"scatter\", \"uid\": \"c2343225-35d1-4fa7-bca0-e05dcadb8b90\", \"x\": [44], \"y\": [\"Security and Investigations\"]}, {\"marker\": {\"color\": \"rgba(0, 128, 128, 0.3893129770992368)\", \"line\": {\"width\": 1.3}, \"opacity\": 0.8, \"size\": [12], \"symbol\": \"circle\"}, \"mode\": \"markers\", \"name\": \"Facilities Services\", \"textfont\": {\"color\": \"#4D5663\"}, \"type\": \"scatter\", \"uid\": \"6e493981-6c8c-4018-a85f-9e592610ed59\", \"x\": [375], \"y\": [\"Facilities Services\"]}, {\"marker\": {\"color\": \"rgba(255, 255, 51, 0.3893129770992368)\", \"line\": {\"width\": 1.3}, \"opacity\": 0.8, \"size\": [13], \"symbol\": \"circle\"}, \"mode\": \"markers\", \"name\": \"Outsourcing/Offshoring\", \"textfont\": {\"color\": \"#4D5663\"}, \"type\": \"scatter\", \"uid\": \"a5d3b284-ca7e-4b26-9217-42042ba4e69e\", \"x\": [697], \"y\": [\"Outsourcing/Offshoring\"]}, {\"marker\": {\"color\": \"rgba(128, 128, 0, 0.3893129770992368)\", \"line\": {\"width\": 1.3}, \"opacity\": 0.8, \"size\": [17], \"symbol\": \"circle\"}, \"mode\": \"markers\", \"name\": \"Health, Wellness and Fitness\", \"textfont\": {\"color\": \"#4D5663\"}, \"type\": \"scatter\", \"uid\": \"4ed0ed9e-638f-4a03-a5f7-e6ef3520d651\", \"x\": [1987], \"y\": [\"Health, Wellness and Fitness\"]}, {\"marker\": {\"color\": \"rgba(251, 128, 114, 0.3893129770992368)\", \"line\": {\"width\": 1.3}, \"opacity\": 0.8, \"size\": [14], \"symbol\": \"circle\"}, \"mode\": \"markers\", \"name\": \"Media Production\", \"textfont\": {\"color\": \"#4D5663\"}, \"type\": \"scatter\", \"uid\": \"3e16a23f-e299-45df-8c7a-733e5d0cf228\", \"x\": [905], \"y\": [\"Media Production\"]}, {\"marker\": {\"color\": \"rgba(128, 177, 211, 0.3893129770992368)\", \"line\": {\"width\": 1.3}, \"opacity\": 0.8, \"size\": [12], \"symbol\": \"circle\"}, \"mode\": \"markers\", \"name\": \"Animation\", \"textfont\": {\"color\": \"#4D5663\"}, \"type\": \"scatter\", \"uid\": \"72813464-8d12-4e50-8a31-a42eb0973d04\", \"x\": [7], \"y\": [\"Animation\"]}, {\"marker\": {\"color\": \"rgba(128, 177, 211, 0.32824427480916035)\", \"line\": {\"width\": 1.3}, \"opacity\": 0.8, \"size\": [12], \"symbol\": \"circle\"}, \"mode\": \"markers\", \"name\": \"Commercial Real Estate\", \"textfont\": {\"color\": \"#4D5663\"}, \"type\": \"scatter\", \"uid\": \"03ebfc99-205d-4163-9e1c-8ed984b24e85\", \"x\": [355], \"y\": [\"Commercial Real Estate\"]}, {\"marker\": {\"color\": \"rgba(255, 153, 51, 0.32824427480916035)\", \"line\": {\"width\": 1.3}, \"opacity\": 0.8, \"size\": [12], \"symbol\": \"circle\"}, \"mode\": \"markers\", \"name\": \"Capital Markets\", \"textfont\": {\"color\": \"#4D5663\"}, \"type\": \"scatter\", \"uid\": \"b156e998-6c39-43bc-9703-7eb6c4e24573\", \"x\": [27], \"y\": [\"Capital Markets\"]}, {\"marker\": {\"color\": \"rgba(55, 128, 191, 0.32824427480916035)\", \"line\": {\"width\": 1.3}, \"opacity\": 0.8, \"size\": [12], \"symbol\": \"circle\"}, \"mode\": \"markers\", \"name\": \"Think Tanks\", \"textfont\": {\"color\": \"#4D5663\"}, \"type\": \"scatter\", \"uid\": \"eb748d01-0408-4624-8444-cdef6b9de1ab\", \"x\": [32], \"y\": [\"Think Tanks\"]}, {\"marker\": {\"color\": \"rgba(50, 171, 96, 0.32824427480916035)\", \"line\": {\"width\": 1.3}, \"opacity\": 0.8, \"size\": [13], \"symbol\": \"circle\"}, \"mode\": \"markers\", \"name\": \"Philanthropy\", \"textfont\": {\"color\": \"#4D5663\"}, \"type\": \"scatter\", \"uid\": \"f156ec4b-1bbc-4d54-a909-9d70da8c6e35\", \"x\": [645], \"y\": [\"Philanthropy\"]}, {\"marker\": {\"color\": \"rgba(128, 0, 128, 0.32824427480916035)\", \"line\": {\"width\": 1.3}, \"opacity\": 0.8, \"size\": [14], \"symbol\": \"circle\"}, \"mode\": \"markers\", \"name\": \"E-Learning\", \"textfont\": {\"color\": \"#4D5663\"}, \"type\": \"scatter\", \"uid\": \"1242b33b-d4bb-4282-92a8-bfc1af7e28f6\", \"x\": [803], \"y\": [\"E-Learning\"]}, {\"marker\": {\"color\": \"rgba(219, 64, 82, 0.32824427480916035)\", \"line\": {\"width\": 1.3}, \"opacity\": 0.8, \"size\": [13], \"symbol\": \"circle\"}, \"mode\": \"markers\", \"name\": \"Wholesale\", \"textfont\": {\"color\": \"#4D5663\"}, \"type\": \"scatter\", \"uid\": \"869d68f2-bc61-4531-8ea7-0a15f829f81f\", \"x\": [657], \"y\": [\"Wholesale\"]}, {\"marker\": {\"color\": \"rgba(0, 128, 128, 0.32824427480916035)\", \"line\": {\"width\": 1.3}, \"opacity\": 0.8, \"size\": [12], \"symbol\": \"circle\"}, \"mode\": \"markers\", \"name\": \"Import and Export\", \"textfont\": {\"color\": \"#4D5663\"}, \"type\": \"scatter\", \"uid\": \"c34296b2-2480-4ae4-8927-f3ca6ff255d6\", \"x\": [4], \"y\": [\"Import and Export\"]}, {\"marker\": {\"color\": \"rgba(255, 255, 51, 0.32824427480916035)\", \"line\": {\"width\": 1.3}, \"opacity\": 0.8, \"size\": [13], \"symbol\": \"circle\"}, \"mode\": \"markers\", \"name\": \"Mechanical or Industrial Engineering\", \"textfont\": {\"color\": \"#4D5663\"}, \"type\": \"scatter\", \"uid\": \"afa0e0a1-ecec-423a-836e-56c726733c45\", \"x\": [555], \"y\": [\"Mechanical or Industrial Engineering\"]}, {\"marker\": {\"color\": \"rgba(128, 128, 0, 0.32824427480916035)\", \"line\": {\"width\": 1.3}, \"opacity\": 0.8, \"size\": [12], \"symbol\": \"circle\"}, \"mode\": \"markers\", \"name\": \"Photography\", \"textfont\": {\"color\": \"#4D5663\"}, \"type\": \"scatter\", \"uid\": \"a4eb096f-7225-446f-9c1f-9a42ccd1b6a0\", \"x\": [43], \"y\": [\"Photography\"]}, {\"marker\": {\"color\": \"rgba(251, 128, 114, 0.32824427480916035)\", \"line\": {\"width\": 1.3}, \"opacity\": 0.8, \"size\": [14], \"symbol\": \"circle\"}, \"mode\": \"markers\", \"name\": \"Human Resources\", \"textfont\": {\"color\": \"#4D5663\"}, \"type\": \"scatter\", \"uid\": \"0964f9a9-70aa-4ecd-aa55-c68611dfba35\", \"x\": [1020], \"y\": [\"Human Resources\"]}, {\"marker\": {\"color\": \"rgba(251, 128, 114, 0.26717557251908414)\", \"line\": {\"width\": 1.3}, \"opacity\": 0.8, \"size\": [12], \"symbol\": \"circle\"}, \"mode\": \"markers\", \"name\": \"Business Supplies and Equipment\", \"textfont\": {\"color\": \"#4D5663\"}, \"type\": \"scatter\", \"uid\": \"a9f191f7-96c0-495d-a561-c0d39e11cd39\", \"x\": [291], \"y\": [\"Business Supplies and Equipment\"]}, {\"marker\": {\"color\": \"rgba(128, 177, 211, 0.26717557251908414)\", \"line\": {\"width\": 1.3}, \"opacity\": 0.8, \"size\": [13], \"symbol\": \"circle\"}, \"mode\": \"markers\", \"name\": \"Mental Health Care\", \"textfont\": {\"color\": \"#4D5663\"}, \"type\": \"scatter\", \"uid\": \"f56f6688-98a7-4500-8809-111ac50e5d5e\", \"x\": [625], \"y\": [\"Mental Health Care\"]}, {\"marker\": {\"color\": \"rgba(255, 153, 51, 0.26717557251908414)\", \"line\": {\"width\": 1.3}, \"opacity\": 0.8, \"size\": [12], \"symbol\": \"circle\"}, \"mode\": \"markers\", \"name\": \"Graphic Design\", \"textfont\": {\"color\": \"#4D5663\"}, \"type\": \"scatter\", \"uid\": \"b3f97213-fc04-4b9e-ba5c-367b5a66d917\", \"x\": [182], \"y\": [\"Graphic Design\"]}, {\"marker\": {\"color\": \"rgba(55, 128, 191, 0.26717557251908414)\", \"line\": {\"width\": 1.3}, \"opacity\": 0.8, \"size\": [12], \"symbol\": \"circle\"}, \"mode\": \"markers\", \"name\": \"International Trade and Development\", \"textfont\": {\"color\": \"#4D5663\"}, \"type\": \"scatter\", \"uid\": \"2485e2a3-e2c3-40e1-81de-3db424fa477f\", \"x\": [372], \"y\": [\"International Trade and Development\"]}, {\"marker\": {\"color\": \"rgba(50, 171, 96, 0.26717557251908414)\", \"line\": {\"width\": 1.3}, \"opacity\": 0.8, \"size\": [12], \"symbol\": \"circle\"}, \"mode\": \"markers\", \"name\": \"Wine and Spirits\", \"textfont\": {\"color\": \"#4D5663\"}, \"type\": \"scatter\", \"uid\": \"03daa06a-502f-4ff8-934a-b974409b338a\", \"x\": [4], \"y\": [\"Wine and Spirits\"]}, {\"marker\": {\"color\": \"rgba(128, 0, 128, 0.26717557251908414)\", \"line\": {\"width\": 1.3}, \"opacity\": 0.8, \"size\": [12], \"symbol\": \"circle\"}, \"mode\": \"markers\", \"name\": \"Luxury Goods & Jewelry\", \"textfont\": {\"color\": \"#4D5663\"}, \"type\": \"scatter\", \"uid\": \"cbcc47bb-db1e-474e-8533-584b3861aee4\", \"x\": [27], \"y\": [\"Luxury Goods & Jewelry\"]}, {\"marker\": {\"color\": \"rgba(219, 64, 82, 0.26717557251908414)\", \"line\": {\"width\": 1.3}, \"opacity\": 0.8, \"size\": [12], \"symbol\": \"circle\"}, \"mode\": \"markers\", \"name\": \"Renewables & Environment\", \"textfont\": {\"color\": \"#4D5663\"}, \"type\": \"scatter\", \"uid\": \"cf93d8ba-ee23-4623-b62d-0ce4e6d1b34d\", \"x\": [361], \"y\": [\"Renewables & Environment\"]}, {\"marker\": {\"color\": \"rgba(0, 128, 128, 0.26717557251908414)\", \"line\": {\"width\": 1.3}, \"opacity\": 0.8, \"size\": [12], \"symbol\": \"circle\"}, \"mode\": \"markers\", \"name\": \"Glass, Ceramics & Concrete\", \"textfont\": {\"color\": \"#4D5663\"}, \"type\": \"scatter\", \"uid\": \"877d80ca-5573-4ea3-8dcf-8a13f45b2c6d\", \"x\": [2], \"y\": [\"Glass, Ceramics & Concrete\"]}, {\"marker\": {\"color\": \"rgba(255, 255, 51, 0.26717557251908414)\", \"line\": {\"width\": 1.3}, \"opacity\": 0.8, \"size\": [12], \"symbol\": \"circle\"}, \"mode\": \"markers\", \"name\": \"Packaging and Containers\", \"textfont\": {\"color\": \"#4D5663\"}, \"type\": \"scatter\", \"uid\": \"cd9dc2f0-db20-46a0-ab00-41442966465b\", \"x\": [30], \"y\": [\"Packaging and Containers\"]}, {\"marker\": {\"color\": \"rgba(128, 128, 0, 0.26717557251908414)\", \"line\": {\"width\": 1.3}, \"opacity\": 0.8, \"size\": [12], \"symbol\": \"circle\"}, \"mode\": \"markers\", \"name\": \"Industrial Automation\", \"textfont\": {\"color\": \"#4D5663\"}, \"type\": \"scatter\", \"uid\": \"98386eed-9057-4b61-b3a2-fe723ecfd480\", \"x\": [11], \"y\": [\"Industrial Automation\"]}, {\"marker\": {\"color\": \"rgba(128, 128, 0, 0.2061068702290077)\", \"line\": {\"width\": 1.3}, \"opacity\": 0.8, \"size\": [12], \"symbol\": \"circle\"}, \"mode\": \"markers\", \"name\": \"Government Relations\", \"textfont\": {\"color\": \"#4D5663\"}, \"type\": \"scatter\", \"uid\": \"8552ce04-ae8a-46a7-923c-5834de30030f\", \"x\": [267], \"y\": [\"Government Relations\"]}],\n",
       "                        {\"legend\": {\"bgcolor\": \"#F5F6F9\", \"font\": {\"color\": \"#4D5663\"}}, \"paper_bgcolor\": \"#F5F6F9\", \"plot_bgcolor\": \"#F5F6F9\", \"title\": {\"font\": {\"color\": \"#4D5663\"}, \"text\": \"Plot Sized by Total Views and Colored by Industry\"}, \"xaxis\": {\"gridcolor\": \"#E1E5ED\", \"showgrid\": true, \"tickfont\": {\"color\": \"#4D5663\"}, \"title\": {\"font\": {\"color\": \"#4D5663\"}, \"text\": \"Total views\"}, \"zerolinecolor\": \"#E1E5ED\"}, \"yaxis\": {\"gridcolor\": \"#E1E5ED\", \"showgrid\": true, \"tickfont\": {\"color\": \"#4D5663\"}, \"title\": {\"font\": {\"color\": \"#4D5663\"}, \"text\": \"Industry\"}, \"zerolinecolor\": \"#E1E5ED\"}},\n",
       "                        {\"showLink\": true, \"linkText\": \"Export to plot.ly\", \"plotlyServerURL\": \"https://plot.ly\", \"responsive\": true}\n",
       "                    ).then(function(){\n",
       "                            \n",
       "var gd = document.getElementById('baa65c6e-6240-4bed-b7b5-691e8ce4e0cd');\n",
       "var x = new MutationObserver(function (mutations, observer) {{\n",
       "        var display = window.getComputedStyle(gd).display;\n",
       "        if (!display || display === 'none') {{\n",
       "            console.log([gd, 'removed!']);\n",
       "            Plotly.purge(gd);\n",
       "            observer.disconnect();\n",
       "        }}\n",
       "}});\n",
       "\n",
       "// Listen for the removal of the full notebook cells\n",
       "var notebookContainer = gd.closest('#notebook-container');\n",
       "if (notebookContainer) {{\n",
       "    x.observe(notebookContainer, {childList: true});\n",
       "}}\n",
       "\n",
       "// Listen for the clearing of the current output cell\n",
       "var outputEl = gd.closest('.output');\n",
       "if (outputEl) {{\n",
       "    x.observe(outputEl, {childList: true});\n",
       "}}\n",
       "\n",
       "                        })\n",
       "                };\n",
       "                });\n",
       "            </script>\n",
       "        </div>"
      ]
     },
     "metadata": {},
     "output_type": "display_data"
    }
   ],
   "source": [
    "colorscales = [\n",
    "    'Greys', 'YlGnBu', 'Greens', 'YlOrRd', 'Bluered', 'RdBu', 'Reds', 'Blues',\n",
    "    'Picnic', 'Rainbow', 'Portland', 'Jet', 'Hot', 'Blackbody', 'Earth',\n",
    "    'Electric', 'Viridis', 'Cividis'\n",
    "]\n",
    "visitor_industry_df.iplot(x='Total views', y='Industry',  kind='bubble2d', xTitle='Total views', yTitle='Industry',\n",
    "           theme='pearl', size='Total views',\n",
    "         categories='Industry', title='Plot Sized by Total Views and Colored by Industry')"
   ]
  },
  {
   "cell_type": "markdown",
   "metadata": {},
   "source": [
    "### Updates or Engagements"
   ]
  },
  {
   "cell_type": "code",
   "execution_count": 35,
   "metadata": {},
   "outputs": [
    {
     "name": "stdout",
     "output_type": "stream",
     "text": [
      "['Update metrics (aggregated)', 'Update engagement']\n"
     ]
    }
   ],
   "source": [
    "print(engagements.sheet_names)"
   ]
  },
  {
   "cell_type": "code",
   "execution_count": 49,
   "metadata": {},
   "outputs": [],
   "source": [
    "engagement_metrics_aggregate_df = pd.read_excel(engagements_file_path,sheet_name = 'Update metrics (aggregated)')\n",
    "engagement_metrics_update_df = pd.read_excel(engagements_file_path,sheet_name = 'Update engagement')\n",
    "\n",
    "\n",
    "\n",
    "## Old \n",
    "engagement_metrics_aggregate_old_df = pd.read_excel(old_engagements_file_path,sheet_name = 'Update metrics (aggregated)')\n",
    "engagement_metrics_update_old_df = pd.read_excel(old_engagements_file_path,sheet_name = 'Update engagement')\n"
   ]
  },
  {
   "cell_type": "markdown",
   "metadata": {},
   "source": [
    "##### Fix the Header"
   ]
  },
  {
   "cell_type": "code",
   "execution_count": 50,
   "metadata": {},
   "outputs": [],
   "source": [
    "## Fix the Header\n",
    "new_header = engagement_metrics_update_df.iloc[0] #grab the first row for the header\n",
    "engagement_metrics_update_df = engagement_metrics_update_df[1:] #take the data less the header row\n",
    "engagement_metrics_update_df.columns = new_header #set the header row as the df header\n",
    "\n",
    "\n",
    "new_header_agg = engagement_metrics_aggregate_df.iloc[0] #grab the first row for the header\n",
    "engagement_metrics_aggregate_df = engagement_metrics_aggregate_df[1:] #take the data less the header row\n",
    "engagement_metrics_aggregate_df.columns = new_header_agg #set the header row as the df header\n",
    "\n",
    "\n",
    "\n",
    "## Update old file\n",
    "\n",
    "## Fix the Header\n",
    "new_header = engagement_metrics_update_old_df.iloc[0] #grab the first row for the header\n",
    "engagement_metrics_update_old_df = engagement_metrics_update_old_df[1:] #take the data less the header row\n",
    "engagement_metrics_update_old_df.columns = new_header #set the header row as the df header\n",
    "\n",
    "\n",
    "new_header_agg = engagement_metrics_aggregate_old_df.iloc[0] #grab the first row for the header\n",
    "engagement_metrics_aggregate_old_df = engagement_metrics_aggregate_old_df[1:] #take the data less the header row\n",
    "engagement_metrics_aggregate_old_df.columns = new_header_agg #set the header row as the df header\n",
    "\n",
    "\n"
   ]
  },
  {
   "cell_type": "code",
   "execution_count": 51,
   "metadata": {},
   "outputs": [
    {
     "data": {
      "text/plain": [
       "(Index(['Update title', 'Update link', 'Update type', 'Campaign name',\n",
       "        'Posted by', 'Created date', 'Campaign start date', 'Campaign end date',\n",
       "        'Audience', 'Impressions', 'Video views', 'Clicks',\n",
       "        'Click through rate (CTR)', 'Likes', 'Comments', 'Shares', 'Follows',\n",
       "        'Engagement rate'],\n",
       "       dtype='object', name=0),\n",
       " Index(['Date', 'Impressions (organic)', 'Impressions (sponsored)',\n",
       "        'Impressions (total)', 'Unique impressions (organic)',\n",
       "        'Clicks (organic)', 'Clicks (sponsored)', 'Clicks (total)',\n",
       "        'Reactions (organic)', 'Reactions (sponsored)', 'Reactions (total)',\n",
       "        'Comments (organic)', 'Comments (sponsored)', 'Comments (total)',\n",
       "        'Shares (organic)', 'Shares (sponsored)', 'Shares (total)',\n",
       "        'Engagement rate (organic)', 'Engagement rate (sponsored)',\n",
       "        'Engagement rate (total)'],\n",
       "       dtype='object', name=0),\n",
       " Index(['Update title', 'Update link', 'Update type', 'Campaign name',\n",
       "        'Posted by', 'Created date', 'Campaign start date', 'Campaign end date',\n",
       "        'Audience', 'Impressions', 'Video views', 'Clicks',\n",
       "        'Click through rate (CTR)', 'Likes', 'Comments', 'Shares', 'Follows',\n",
       "        'Engagement rate'],\n",
       "       dtype='object', name=0),\n",
       " Index(['Date', 'Impressions (organic)', 'Impressions (sponsored)',\n",
       "        'Impressions (total)', 'Unique impressions (organic)',\n",
       "        'Clicks (organic)', 'Clicks (sponsored)', 'Clicks (total)',\n",
       "        'Reactions (organic)', 'Reactions (sponsored)', 'Reactions (total)',\n",
       "        'Comments (organic)', 'Comments (sponsored)', 'Comments (total)',\n",
       "        'Shares (organic)', 'Shares (sponsored)', 'Shares (total)',\n",
       "        'Engagement rate (organic)', 'Engagement rate (sponsored)',\n",
       "        'Engagement rate (total)'],\n",
       "       dtype='object', name=0))"
      ]
     },
     "execution_count": 51,
     "metadata": {},
     "output_type": "execute_result"
    }
   ],
   "source": [
    "engagement_metrics_update_df.columns, engagement_metrics_aggregate_df.columns,engagement_metrics_update_old_df.columns, engagement_metrics_aggregate_old_df.columns"
   ]
  },
  {
   "cell_type": "code",
   "execution_count": 52,
   "metadata": {},
   "outputs": [
    {
     "name": "stdout",
     "output_type": "stream",
     "text": [
      "Min date: 01/04/2019  Max date: 12/28/2018\n"
     ]
    }
   ],
   "source": [
    "print(\"Min date:\", engagement_metrics_update_old_df[\"Created date\"].min(), \" Max date:\", engagement_metrics_update_old_df[\"Created date\"].max())"
   ]
  },
  {
   "cell_type": "code",
   "execution_count": 53,
   "metadata": {},
   "outputs": [
    {
     "name": "stdout",
     "output_type": "stream",
     "text": [
      "Min date: 01/01/2019  Max date: 12/31/2018\n"
     ]
    }
   ],
   "source": [
    "print(\"Min date:\", engagement_metrics_aggregate_old_df[\"Date\"].min(), \" Max date:\", engagement_metrics_aggregate_old_df[\"Date\"].max())"
   ]
  },
  {
   "cell_type": "code",
   "execution_count": 54,
   "metadata": {},
   "outputs": [
    {
     "name": "stdout",
     "output_type": "stream",
     "text": [
      "Min date: 01/04/2019  Max date: 12/28/2018\n",
      "No of records: (215, 18)\n"
     ]
    }
   ],
   "source": [
    "print(\"Min date:\", engagement_metrics_update_df[\"Created date\"].min(), \" Max date:\", engagement_metrics_update_df[\"Created date\"].max())\n",
    "print(f\"No of records: {engagement_metrics_update_df.shape}\")"
   ]
  },
  {
   "cell_type": "code",
   "execution_count": 55,
   "metadata": {},
   "outputs": [
    {
     "data": {
      "text/plain": [
       "(0        Date Impressions (organic) Impressions (sponsored)  \\\n",
       " 1  08/01/2018                     0                       0   \n",
       " 2  08/02/2018                 12182                       0   \n",
       " 3  08/03/2018                  7869                       0   \n",
       " 4  08/04/2018                  3494                       0   \n",
       " 5  08/05/2018                  3320                       0   \n",
       " \n",
       " 0 Impressions (total) Unique impressions (organic) Clicks (organic)  \\\n",
       " 1                   0                            0                0   \n",
       " 2               12182                         6740              135   \n",
       " 3                7869                         4442               83   \n",
       " 4                3494                         1908               36   \n",
       " 5                3320                         1847               47   \n",
       " \n",
       " 0 Clicks (sponsored) Clicks (total) Reactions (organic) Reactions (sponsored)  \\\n",
       " 1                  0              0                   0                     0   \n",
       " 2                  0            135                  56                     0   \n",
       " 3                  0             83                  33                     0   \n",
       " 4                  0             36                  16                     0   \n",
       " 5                  0             47                  13                     0   \n",
       " \n",
       " 0 Reactions (total) Comments (organic) Comments (sponsored) Comments (total)  \\\n",
       " 1                 0                  0                    0                0   \n",
       " 2                56                  7                    0                7   \n",
       " 3                33                  0                    0                0   \n",
       " 4                16                  0                    0                0   \n",
       " 5                13                  0                    0                0   \n",
       " \n",
       " 0 Shares (organic) Shares (sponsored) Shares (total)  \\\n",
       " 1                0                  0              0   \n",
       " 2                3                  0              3   \n",
       " 3                2                  0              2   \n",
       " 4                1                  0              1   \n",
       " 5                0                  0              0   \n",
       " \n",
       " 0 Engagement rate (organic) Engagement rate (sponsored)  \\\n",
       " 1                         0                           0   \n",
       " 2                 0.0164998                           0   \n",
       " 3                 0.0149956                           0   \n",
       " 4                 0.0151689                           0   \n",
       " 5                 0.0180723                           0   \n",
       " \n",
       " 0 Engagement rate (total)  \n",
       " 1                       0  \n",
       " 2               0.0164998  \n",
       " 3               0.0149956  \n",
       " 4               0.0151689  \n",
       " 5               0.0180723  ,\n",
       " Index(['Date', 'Impressions (organic)', 'Impressions (sponsored)',\n",
       "        'Impressions (total)', 'Unique impressions (organic)',\n",
       "        'Clicks (organic)', 'Clicks (sponsored)', 'Clicks (total)',\n",
       "        'Reactions (organic)', 'Reactions (sponsored)', 'Reactions (total)',\n",
       "        'Comments (organic)', 'Comments (sponsored)', 'Comments (total)',\n",
       "        'Shares (organic)', 'Shares (sponsored)', 'Shares (total)',\n",
       "        'Engagement rate (organic)', 'Engagement rate (sponsored)',\n",
       "        'Engagement rate (total)'],\n",
       "       dtype='object', name=0))"
      ]
     },
     "execution_count": 55,
     "metadata": {},
     "output_type": "execute_result"
    }
   ],
   "source": [
    "engagement_metrics_aggregate_df.head(),engagement_metrics_aggregate_df.columns"
   ]
  },
  {
   "cell_type": "code",
   "execution_count": 59,
   "metadata": {},
   "outputs": [
    {
     "data": {
      "text/plain": [
       "(Timestamp('2018-08-01 00:00:00'), Timestamp('2018-07-01 00:00:00'))"
      ]
     },
     "execution_count": 59,
     "metadata": {},
     "output_type": "execute_result"
    }
   ],
   "source": [
    "engagement_metrics_aggregate_df[\"Date\"] = pd.to_datetime(engagement_metrics_aggregate_df[\"Date\"])\n",
    "engagement_metrics_aggregate_old_df[\"Date\"] =  pd.to_datetime(engagement_metrics_aggregate_old_df[\"Date\"])\n",
    "engagement_metrics_aggregate_df[\"Date\"].min(), engagement_metrics_aggregate_old_df[\"Date\"].min()\n",
    "\n",
    "\n",
    "\n"
   ]
  },
  {
   "cell_type": "code",
   "execution_count": 62,
   "metadata": {},
   "outputs": [
    {
     "data": {
      "text/plain": [
       "(Timestamp('2018-08-06 00:00:00'), Timestamp('2018-07-06 00:00:00'))"
      ]
     },
     "execution_count": 62,
     "metadata": {},
     "output_type": "execute_result"
    }
   ],
   "source": [
    "engagement_metrics_update_df[\"Created date\"] = pd.to_datetime(engagement_metrics_update_df[\"Created date\"])\n",
    "engagement_metrics_update_old_df[\"Created date\"] =  pd.to_datetime(engagement_metrics_update_old_df[\"Created date\"])\n",
    "engagement_metrics_update_df[\"Created date\"].min(), engagement_metrics_update_old_df[\"Created date\"].min()\n"
   ]
  },
  {
   "cell_type": "code",
   "execution_count": 63,
   "metadata": {},
   "outputs": [
    {
     "name": "stdout",
     "output_type": "stream",
     "text": [
      "Merged successfully 2018-07-01 00:00:00\n"
     ]
    }
   ],
   "source": [
    "### Append\n",
    "\n",
    "engagement_metrics_aggregate_df = engagement_metrics_aggregate_df.append(engagement_metrics_aggregate_old_df[engagement_metrics_aggregate_old_df[\"Date\"]<engagement_metrics_aggregate_df[\"Date\"].min()]\n",
    ")\n",
    "\n",
    "print(\"Merged successfully\",engagement_metrics_aggregate_df[\"Date\"].min())\n",
    "\n"
   ]
  },
  {
   "cell_type": "code",
   "execution_count": 64,
   "metadata": {},
   "outputs": [
    {
     "name": "stdout",
     "output_type": "stream",
     "text": [
      "Merged successfully 2018-07-06 00:00:00\n"
     ]
    }
   ],
   "source": [
    "engagement_metrics_update_df = engagement_metrics_update_df.append(engagement_metrics_update_old_df[engagement_metrics_update_old_df[\"Created date\"]<engagement_metrics_update_df[\"Created date\"].min()]\n",
    ")\n",
    "\n",
    "print(\"Merged successfully\",engagement_metrics_update_df[\"Created date\"].min())\n"
   ]
  },
  {
   "cell_type": "code",
   "execution_count": 65,
   "metadata": {},
   "outputs": [
    {
     "data": {
      "text/plain": [
       "{'Date': 0.0,\n",
       " 'Impressions (organic)': 0.0,\n",
       " 'Impressions (sponsored)': 0.0,\n",
       " 'Impressions (total)': 0.0,\n",
       " 'Unique impressions (organic)': 0.0,\n",
       " 'Clicks (organic)': 0.0,\n",
       " 'Clicks (sponsored)': 0.0,\n",
       " 'Clicks (total)': 0.0,\n",
       " 'Reactions (organic)': 0.0,\n",
       " 'Reactions (sponsored)': 0.0,\n",
       " 'Reactions (total)': 0.0,\n",
       " 'Comments (organic)': 0.0,\n",
       " 'Comments (sponsored)': 0.0,\n",
       " 'Comments (total)': 0.0,\n",
       " 'Shares (organic)': 0.0,\n",
       " 'Shares (sponsored)': 0.0,\n",
       " 'Shares (total)': 0.0,\n",
       " 'Engagement rate (organic)': 0.0,\n",
       " 'Engagement rate (sponsored)': 0.0,\n",
       " 'Engagement rate (total)': 0.0}"
      ]
     },
     "execution_count": 65,
     "metadata": {},
     "output_type": "execute_result"
    }
   ],
   "source": [
    "# determine the percent of missing values\n",
    "def percent_missing(df):\n",
    "    data = pd.DataFrame(df)\n",
    "    df_cols = list(pd.DataFrame(data))\n",
    "    dict_x = {}\n",
    "    for i in range(0, len(df_cols)):\n",
    "        dict_x.update({df_cols[i]: round(data[df_cols[i]].isnull().mean()*100,2)})\n",
    "    \n",
    "    return dict_x\n",
    "\n",
    "percent_missing(engagement_metrics_aggregate_df)"
   ]
  },
  {
   "cell_type": "code",
   "execution_count": 17,
   "metadata": {},
   "outputs": [
    {
     "data": {
      "text/html": [
       "<div>\n",
       "<style scoped>\n",
       "    .dataframe tbody tr th:only-of-type {\n",
       "        vertical-align: middle;\n",
       "    }\n",
       "\n",
       "    .dataframe tbody tr th {\n",
       "        vertical-align: top;\n",
       "    }\n",
       "\n",
       "    .dataframe thead th {\n",
       "        text-align: right;\n",
       "    }\n",
       "</style>\n",
       "<table border=\"1\" class=\"dataframe\">\n",
       "  <thead>\n",
       "    <tr style=\"text-align: right;\">\n",
       "      <th></th>\n",
       "      <th>count</th>\n",
       "      <th>unique</th>\n",
       "      <th>top</th>\n",
       "      <th>freq</th>\n",
       "    </tr>\n",
       "    <tr>\n",
       "      <th>Date</th>\n",
       "      <th></th>\n",
       "      <th></th>\n",
       "      <th></th>\n",
       "      <th></th>\n",
       "    </tr>\n",
       "  </thead>\n",
       "  <tbody>\n",
       "    <tr>\n",
       "      <th>April</th>\n",
       "      <td>30.0</td>\n",
       "      <td>30.0</td>\n",
       "      <td>0.020636</td>\n",
       "      <td>1.0</td>\n",
       "    </tr>\n",
       "    <tr>\n",
       "      <th>August</th>\n",
       "      <td>31.0</td>\n",
       "      <td>31.0</td>\n",
       "      <td>0.015863</td>\n",
       "      <td>1.0</td>\n",
       "    </tr>\n",
       "    <tr>\n",
       "      <th>December</th>\n",
       "      <td>31.0</td>\n",
       "      <td>31.0</td>\n",
       "      <td>0.008167</td>\n",
       "      <td>1.0</td>\n",
       "    </tr>\n",
       "    <tr>\n",
       "      <th>February</th>\n",
       "      <td>28.0</td>\n",
       "      <td>28.0</td>\n",
       "      <td>0.007213</td>\n",
       "      <td>1.0</td>\n",
       "    </tr>\n",
       "    <tr>\n",
       "      <th>January</th>\n",
       "      <td>31.0</td>\n",
       "      <td>31.0</td>\n",
       "      <td>0.015111</td>\n",
       "      <td>1.0</td>\n",
       "    </tr>\n",
       "    <tr>\n",
       "      <th>July</th>\n",
       "      <td>31.0</td>\n",
       "      <td>31.0</td>\n",
       "      <td>0.016815</td>\n",
       "      <td>1.0</td>\n",
       "    </tr>\n",
       "    <tr>\n",
       "      <th>June</th>\n",
       "      <td>31.0</td>\n",
       "      <td>26.0</td>\n",
       "      <td>0.000000</td>\n",
       "      <td>6.0</td>\n",
       "    </tr>\n",
       "    <tr>\n",
       "      <th>March</th>\n",
       "      <td>31.0</td>\n",
       "      <td>31.0</td>\n",
       "      <td>0.020365</td>\n",
       "      <td>1.0</td>\n",
       "    </tr>\n",
       "    <tr>\n",
       "      <th>May</th>\n",
       "      <td>31.0</td>\n",
       "      <td>31.0</td>\n",
       "      <td>0.015292</td>\n",
       "      <td>1.0</td>\n",
       "    </tr>\n",
       "    <tr>\n",
       "      <th>November</th>\n",
       "      <td>30.0</td>\n",
       "      <td>30.0</td>\n",
       "      <td>0.019131</td>\n",
       "      <td>1.0</td>\n",
       "    </tr>\n",
       "    <tr>\n",
       "      <th>October</th>\n",
       "      <td>31.0</td>\n",
       "      <td>31.0</td>\n",
       "      <td>0.034607</td>\n",
       "      <td>1.0</td>\n",
       "    </tr>\n",
       "    <tr>\n",
       "      <th>September</th>\n",
       "      <td>30.0</td>\n",
       "      <td>30.0</td>\n",
       "      <td>0.041617</td>\n",
       "      <td>1.0</td>\n",
       "    </tr>\n",
       "  </tbody>\n",
       "</table>\n",
       "</div>"
      ],
      "text/plain": [
       "           count  unique       top  freq\n",
       "Date                                    \n",
       "April       30.0    30.0  0.020636   1.0\n",
       "August      31.0    31.0  0.015863   1.0\n",
       "December    31.0    31.0  0.008167   1.0\n",
       "February    28.0    28.0  0.007213   1.0\n",
       "January     31.0    31.0  0.015111   1.0\n",
       "July        31.0    31.0  0.016815   1.0\n",
       "June        31.0    26.0  0.000000   6.0\n",
       "March       31.0    31.0  0.020365   1.0\n",
       "May         31.0    31.0  0.015292   1.0\n",
       "November    30.0    30.0  0.019131   1.0\n",
       "October     31.0    31.0  0.034607   1.0\n",
       "September   30.0    30.0  0.041617   1.0"
      ]
     },
     "execution_count": 17,
     "metadata": {},
     "output_type": "execute_result"
    }
   ],
   "source": [
    "#engagement_metrics_aggregate_df.set_index(\"Date\")\n",
    "engagement_metrics_aggregate_df.groupby(engagement_metrics_aggregate_df['Date'].dt.strftime('%B'))['Engagement rate (total)'].describe()"
   ]
  },
  {
   "cell_type": "code",
   "execution_count": 18,
   "metadata": {},
   "outputs": [
    {
     "data": {
      "text/plain": [
       "<matplotlib.axes._subplots.AxesSubplot at 0x7fa289301908>"
      ]
     },
     "execution_count": 18,
     "metadata": {},
     "output_type": "execute_result"
    },
    {
     "data": {
      "image/png": "[encoded data removed]",
      "text/plain": [
       "<Figure size 432x288 with 1 Axes>"
      ]
     },
     "metadata": {
      "needs_background": "light"
     },
     "output_type": "display_data"
    }
   ],
   "source": [
    "engagement_metrics_aggregate_df[[\"Engagement rate (total)\",\"Date\"]].set_index(\"Date\").plot()"
   ]
  },
  {
   "cell_type": "code",
   "execution_count": 19,
   "metadata": {},
   "outputs": [
    {
     "data": {
      "text/plain": [
       "Index(['Update title', 'Update link', 'Update type', 'Campaign name',\n",
       "       'Posted by', 'Created date', 'Campaign start date', 'Campaign end date',\n",
       "       'Audience', 'Impressions', 'Video views', 'Clicks',\n",
       "       'Click through rate (CTR)', 'Likes', 'Comments', 'Shares', 'Follows',\n",
       "       'Engagement rate'],\n",
       "      dtype='object', name=0)"
      ]
     },
     "execution_count": 19,
     "metadata": {},
     "output_type": "execute_result"
    }
   ],
   "source": [
    "engagement_metrics_update_df.columns"
   ]
  },
  {
   "cell_type": "code",
   "execution_count": 20,
   "metadata": {},
   "outputs": [
    {
     "data": {
      "text/plain": [
       "9     The MDCRB is an adaptable facility that will m...\n",
       "29    Another reason why we love Indy: The Circle Ci...\n",
       "28    Take an early look at the future Multidiscipli...\n",
       "34    Celebrating a legacy of strength: The IU Schoo...\n",
       "27    Women and minority researchers at all Indiana ...\n",
       "42    IUPUI's 50th Anniversary year celebration has ...\n",
       "3     This weekend, we celebrated the largest gradua...\n",
       "32    It's September, which can only mean one thing:...\n",
       "40    \"With more than 180,000 alumni, 7,000 full-tim...\n",
       "36    Generous gifts from IU alumni Jefferson and Ma...\n",
       "6     Eric Hewlett left the South Side of Chicago so...\n",
       "33    Stories from alumni, students, faculty and sta...\n",
       "1     We've changed a lot in 50 short years. We're n...\n",
       "37    Need a reason to come back to campus? Celebrat...\n",
       "22    IUPUI and TechPoint (Indiana) have developed a...\n",
       "11    IUPUI is leading the conversation about urban ...\n",
       "31    Scientists from the IU School of Medicine have...\n",
       "30    Through this grant, the IU School of Dentistry...\n",
       "13    Last weekend, the Jagathon Dance Marathon smas...\n",
       "21    Do you have an internship, mentoring, or job-s...\n",
       "20    \"The team will address problems stemming from ...\n",
       "Name: Update title, dtype: object"
      ]
     },
     "execution_count": 20,
     "metadata": {},
     "output_type": "execute_result"
    }
   ],
   "source": [
    "engagement_metrics_update_df.sort_values(by='Engagement rate',ascending=False).loc[:20,'Update title']"
   ]
  },
  {
   "cell_type": "markdown",
   "metadata": {},
   "source": [
    "### Followers"
   ]
  },
  {
   "cell_type": "code",
   "execution_count": 66,
   "metadata": {},
   "outputs": [
    {
     "name": "stdout",
     "output_type": "stream",
     "text": [
      "['New followers', 'Location', 'Job function', 'Seniority', 'Industry', 'Company size']\n"
     ]
    }
   ],
   "source": [
    "print(followers.sheet_names)"
   ]
  },
  {
   "cell_type": "code",
   "execution_count": 72,
   "metadata": {},
   "outputs": [],
   "source": [
    "new_followers_df = pd.read_excel(followers_file_path, sheet_name='New followers')\n",
    "followers_location_df = pd.read_excel(followers_file_path,sheet_name = \"Location\")\n",
    "followers_job_function_df = pd.read_excel(followers_file_path,sheet_name = \"Job function\")\n",
    "followers_industry_df = pd.read_excel(followers_file_path,sheet_name= \"Industry\")\n",
    "followers_company_size_df = pd.read_excel(followers_file_path, sheet_name = \"Company size\")\n",
    "followers_seniority_df = pd.read_excel(followers_file_path,sheet_name = \"Seniority\")\n",
    "\n",
    "\n",
    "\n",
    "old_followers_df = pd.read_excel(old_followers_file_path, sheet_name='New followers')\n",
    "old_followers_location_df = pd.read_excel(old_followers_file_path,sheet_name = \"Location\")\n",
    "old_followers_job_function_df = pd.read_excel(old_followers_file_path,sheet_name = \"Job function\")\n",
    "old_followers_industry_df = pd.read_excel(old_followers_file_path,sheet_name= \"Industry\")\n",
    "old_followers_company_size_df = pd.read_excel(old_followers_file_path, sheet_name = \"Company size\")\n",
    "old_followers_seniority_df = pd.read_excel(old_followers_file_path,sheet_name = \"Seniority\")\n",
    "\n",
    "\n",
    "new_followers_df[\"Date\"] = pd.to_datetime(new_followers_df[\"Date\"])\n",
    "old_followers_df[\"Date\"] = pd.to_datetime(old_followers_df[\"Date\"])"
   ]
  },
  {
   "cell_type": "code",
   "execution_count": 73,
   "metadata": {},
   "outputs": [
    {
     "name": "stdout",
     "output_type": "stream",
     "text": [
      "Min date: 2018-08-01 00:00:00  Max date: 2019-07-31 00:00:00\n",
      "Number of records, in followers metrics: (365, 4)\n",
      "Number of records, in followers location: (99, 2)\n",
      "Number of records, in followers job function: (26, 2)\n",
      "Number of records, in followers industry: (99, 2)\n",
      "Number of records, in followers company size: (9, 2)\n",
      "Number of records, in followers seniority: (10, 2)\n",
      "Min date: 2018-07-01 00:00:00  Max date: 2019-06-29 00:00:00\n"
     ]
    }
   ],
   "source": [
    "print(\"Min date:\", new_followers_df['Date'].min(), \" Max date:\", new_followers_df[\"Date\"].max())\n",
    "print(f\"Number of records, in followers metrics: {new_followers_df.shape}\")\n",
    "print(f\"Number of records, in followers location: {followers_location_df.shape}\")\n",
    "print(f\"Number of records, in followers job function: {followers_job_function_df.shape}\")\n",
    "print(f\"Number of records, in followers industry: {followers_industry_df.shape}\")\n",
    "print(f\"Number of records, in followers company size: {followers_company_size_df.shape}\")\n",
    "print(f\"Number of records, in followers seniority: {followers_seniority_df.shape}\")\n",
    "\n",
    "print(\"Min date:\", old_followers_df['Date'].min(), \" Max date:\", old_followers_df[\"Date\"].max())\n"
   ]
  },
  {
   "cell_type": "code",
   "execution_count": 75,
   "metadata": {},
   "outputs": [
    {
     "data": {
      "text/plain": [
       "Timestamp('2018-07-01 00:00:00')"
      ]
     },
     "execution_count": 75,
     "metadata": {},
     "output_type": "execute_result"
    }
   ],
   "source": [
    "## merge\n",
    "new_followers_df = new_followers_df.append(old_followers_df[old_followers_df[\"Date\"]< new_followers_df['Date'].min()])\n",
    "\n",
    "new_followers_df[\"Date\"].min()"
   ]
  },
  {
   "cell_type": "code",
   "execution_count": 76,
   "metadata": {},
   "outputs": [
    {
     "data": {
      "text/plain": [
       "<matplotlib.axes._subplots.AxesSubplot at 0x7fd0689dada0>"
      ]
     },
     "execution_count": 76,
     "metadata": {},
     "output_type": "execute_result"
    },
    {
     "data": {
      "image/png": "[encoded data removed]",
      "text/plain": [
       "<Figure size 432x288 with 1 Axes>"
      ]
     },
     "metadata": {
      "needs_background": "light"
     },
     "output_type": "display_data"
    }
   ],
   "source": [
    "followers_job_function_df.sort_values(by=\"Total followers\",ascending = False)[:10].set_index(\"Job function\").plot(kind=\"barh\")"
   ]
  },
  {
   "cell_type": "code",
   "execution_count": 77,
   "metadata": {},
   "outputs": [
    {
     "data": {
      "text/plain": [
       "<matplotlib.axes._subplots.AxesSubplot at 0x7fd0a88aa5f8>"
      ]
     },
     "execution_count": 77,
     "metadata": {},
     "output_type": "execute_result"
    },
    {
     "data": {
      "image/png": "[encoded data removed]",
      "text/plain": [
       "<Figure size 432x288 with 1 Axes>"
      ]
     },
     "metadata": {
      "needs_background": "light"
     },
     "output_type": "display_data"
    }
   ],
   "source": [
    "new_followers_df.set_index(\"Date\").plot(kind=\"line\")"
   ]
  },
  {
   "cell_type": "code",
   "execution_count": 78,
   "metadata": {},
   "outputs": [
    {
     "data": {
      "text/plain": [
       "<matplotlib.axes._subplots.AxesSubplot at 0x7fd038df6c88>"
      ]
     },
     "execution_count": 78,
     "metadata": {},
     "output_type": "execute_result"
    },
    {
     "data": {
      "image/png": "[encoded data removed]",
      "text/plain": [
       "<Figure size 432x288 with 1 Axes>"
      ]
     },
     "metadata": {},
     "output_type": "display_data"
    }
   ],
   "source": [
    "followers_seniority_df.set_index(\"Seniority\").plot.pie(y = \"Total followers\")\n"
   ]
  },
  {
   "cell_type": "code",
   "execution_count": 79,
   "metadata": {},
   "outputs": [
    {
     "data": {
      "text/html": [
       "<div>\n",
       "<style scoped>\n",
       "    .dataframe tbody tr th:only-of-type {\n",
       "        vertical-align: middle;\n",
       "    }\n",
       "\n",
       "    .dataframe tbody tr th {\n",
       "        vertical-align: top;\n",
       "    }\n",
       "\n",
       "    .dataframe thead th {\n",
       "        text-align: right;\n",
       "    }\n",
       "</style>\n",
       "<table border=\"1\" class=\"dataframe\">\n",
       "  <thead>\n",
       "    <tr style=\"text-align: right;\">\n",
       "      <th></th>\n",
       "      <th>Total followers</th>\n",
       "    </tr>\n",
       "    <tr>\n",
       "      <th>Location</th>\n",
       "      <th></th>\n",
       "    </tr>\n",
       "  </thead>\n",
       "  <tbody>\n",
       "    <tr>\n",
       "      <th>Indianapolis, Indiana Area</th>\n",
       "      <td>56675</td>\n",
       "    </tr>\n",
       "    <tr>\n",
       "      <th>Bloomington, Indiana Area</th>\n",
       "      <td>38809</td>\n",
       "    </tr>\n",
       "    <tr>\n",
       "      <th>Greater Chicago Area</th>\n",
       "      <td>37072</td>\n",
       "    </tr>\n",
       "    <tr>\n",
       "      <th>Greater New York City Area</th>\n",
       "      <td>13423</td>\n",
       "    </tr>\n",
       "    <tr>\n",
       "      <th>Washington D.C. Metro Area</th>\n",
       "      <td>6797</td>\n",
       "    </tr>\n",
       "    <tr>\n",
       "      <th>San Francisco Bay Area</th>\n",
       "      <td>6640</td>\n",
       "    </tr>\n",
       "    <tr>\n",
       "      <th>Greater Los Angeles Area</th>\n",
       "      <td>6378</td>\n",
       "    </tr>\n",
       "    <tr>\n",
       "      <th>Louisville, Kentucky Area</th>\n",
       "      <td>6299</td>\n",
       "    </tr>\n",
       "    <tr>\n",
       "      <th>Fort Wayne, Indiana Area</th>\n",
       "      <td>5990</td>\n",
       "    </tr>\n",
       "    <tr>\n",
       "      <th>Cincinnati, Ohio Area</th>\n",
       "      <td>5486</td>\n",
       "    </tr>\n",
       "    <tr>\n",
       "      <th>Greater Denver Area</th>\n",
       "      <td>4700</td>\n",
       "    </tr>\n",
       "    <tr>\n",
       "      <th>Greater Atlanta Area</th>\n",
       "      <td>4268</td>\n",
       "    </tr>\n",
       "    <tr>\n",
       "      <th>South Bend, Indiana Area</th>\n",
       "      <td>3660</td>\n",
       "    </tr>\n",
       "    <tr>\n",
       "      <th>Dallas/Fort Worth Area</th>\n",
       "      <td>3519</td>\n",
       "    </tr>\n",
       "    <tr>\n",
       "      <th>Evansville, Indiana Area</th>\n",
       "      <td>3467</td>\n",
       "    </tr>\n",
       "    <tr>\n",
       "      <th>Greater Boston Area</th>\n",
       "      <td>3380</td>\n",
       "    </tr>\n",
       "    <tr>\n",
       "      <th>Greater Seattle Area</th>\n",
       "      <td>3137</td>\n",
       "    </tr>\n",
       "    <tr>\n",
       "      <th>Greater Detroit Area</th>\n",
       "      <td>2880</td>\n",
       "    </tr>\n",
       "    <tr>\n",
       "      <th>Greater St. Louis Area</th>\n",
       "      <td>2710</td>\n",
       "    </tr>\n",
       "    <tr>\n",
       "      <th>Phoenix, Arizona Area</th>\n",
       "      <td>2584</td>\n",
       "    </tr>\n",
       "  </tbody>\n",
       "</table>\n",
       "</div>"
      ],
      "text/plain": [
       "                            Total followers\n",
       "Location                                   \n",
       "Indianapolis, Indiana Area            56675\n",
       "Bloomington, Indiana Area             38809\n",
       "Greater Chicago Area                  37072\n",
       "Greater New York City Area            13423\n",
       "Washington D.C. Metro Area             6797\n",
       "San Francisco Bay Area                 6640\n",
       "Greater Los Angeles Area               6378\n",
       "Louisville, Kentucky Area              6299\n",
       "Fort Wayne, Indiana Area               5990\n",
       "Cincinnati, Ohio Area                  5486\n",
       "Greater Denver Area                    4700\n",
       "Greater Atlanta Area                   4268\n",
       "South Bend, Indiana Area               3660\n",
       "Dallas/Fort Worth Area                 3519\n",
       "Evansville, Indiana Area               3467\n",
       "Greater Boston Area                    3380\n",
       "Greater Seattle Area                   3137\n",
       "Greater Detroit Area                   2880\n",
       "Greater St. Louis Area                 2710\n",
       "Phoenix, Arizona Area                  2584"
      ]
     },
     "execution_count": 79,
     "metadata": {},
     "output_type": "execute_result"
    }
   ],
   "source": [
    "followers_location_df.set_index(\"Location\").sort_values(by=\"Total followers\",ascending=False)[:20]"
   ]
  },
  {
   "cell_type": "code",
   "execution_count": 80,
   "metadata": {},
   "outputs": [
    {
     "data": {
      "text/plain": [
       "<matplotlib.axes._subplots.AxesSubplot at 0x7fd098bfb4a8>"
      ]
     },
     "execution_count": 80,
     "metadata": {},
     "output_type": "execute_result"
    },
    {
     "data": {
      "image/png": "[encoded data removed]",
      "text/plain": [
       "<Figure size 432x288 with 1 Axes>"
      ]
     },
     "metadata": {
      "needs_background": "light"
     },
     "output_type": "display_data"
    }
   ],
   "source": [
    "followers_location_df.set_index(\"Location\").sort_values(by=\"Total followers\",ascending=False)[:20].plot(kind=\"barh\")"
   ]
  },
  {
   "cell_type": "markdown",
   "metadata": {},
   "source": [
    "### Engagement Insights"
   ]
  },
  {
   "cell_type": "code",
   "execution_count": 32,
   "metadata": {},
   "outputs": [],
   "source": [
    "def make_engagement_insights(visitor_metrics_df, engagement_metrics_aggregate_df, new_followers_df):\n",
    "    columns = ['Date',\n",
    "                        'Total page views (desktop)',\n",
    "                        'Total page views (mobile)',\n",
    "                        'Total page views (total)',\n",
    "                        'Total unique visitors (desktop)',\n",
    "                        'Total unique visitors (mobile)',\n",
    "                        'Total unique visitors (total)',\n",
    "                        'Sponsored followers',\n",
    "                        'Organic followers',\n",
    "                        'Total followers',\n",
    "                        'Impressions (organic)', \n",
    "                        'Impressions (sponsored)',\n",
    "                        'Impressions (total)', \n",
    "                        'Unique impressions (organic)',\n",
    "        'Clicks (organic)', 'Clicks (sponsored)', 'Clicks (total)',\n",
    "        'Reactions (organic)', 'Reactions (sponsored)', 'Reactions (total)',\n",
    "        'Comments (organic)', 'Comments (sponsored)', 'Comments (total)',\n",
    "        'Shares (organic)', 'Shares (sponsored)', 'Shares (total)',\n",
    "        'Engagement rate (organic)', 'Engagement rate (sponsored)',\n",
    "        'Engagement rate (total)']\n",
    "\n",
    "\n",
    "    # days between start and end date\n",
    "    delta = end_date - start_date  # timedelta\n",
    "    \n",
    "    visitor_metrics_df = visitor_metrics_df.fillna(0)\n",
    "    engagement_metrics_aggregate_df = engagement_metrics_aggregate_df.fillna(0)\n",
    "    new_followers_df = new_followers_df.fillna(0)\n",
    "    \n",
    "    ## Set Index Date\n",
    "    visitor_metrics_df[\"Date\"] = pd.to_datetime(visitor_metrics_df[\"Date\"])\n",
    "    new_followers_df[\"Date\"] = pd.to_datetime(new_followers_df[\"Date\"])\n",
    "    engagement_metrics_aggregate_df[\"Date\"] = pd.to_datetime(engagement_metrics_aggregate_df[\"Date\"])\n",
    "    \n",
    "    visitor_metrics_df = visitor_metrics_df.set_index(\"Date\")\n",
    "    new_followers_df = new_followers_df.set_index(\"Date\")\n",
    "    engagement_metrics_aggregate_df = engagement_metrics_aggregate_df.set_index(\"Date\")\n",
    "\n",
    "    lines = []\n",
    "    for i in range(delta.days + 1):\n",
    "        metric = []\n",
    "\n",
    "        date = start_date + timedelta(days=i)\n",
    "        \n",
    "\n",
    "        ## visitor metrics\n",
    "        v = visitor_metrics_df[visitor_metrics_df.index.date==date]\n",
    "        metric.append(date)\n",
    "        if not v.shape[0] == 0:\n",
    "            metric.append(float(v[\"Total page views (desktop)\"]))\n",
    "            metric.append(float(v[\"Total page views (mobile)\"]))\n",
    "            metric.append(float(v[\"Total page views (total)\"]))\n",
    "            metric.append(float(v[\"Total unique visitors (desktop)\"]))\n",
    "            metric.append(float(v[\"Total unique visitors (mobile)\"]))\n",
    "            metric.append(float(v[\"Total unique visitors (total)\"]))\n",
    "        else:\n",
    "            for m in range(7):\n",
    "                metric.append(0.0)\n",
    "            \n",
    "\n",
    "        ## follower metrics\n",
    "\n",
    "        f = new_followers_df[new_followers_df.index.date==date]\n",
    "        \n",
    "        if not f.shape[0]==0:\n",
    "            metric.append(float(f[\"Sponsored followers\"]))\n",
    "            metric.append(float(f[\"Organic followers\"]))\n",
    "            metric.append(float(f['Total followers']))\n",
    "        else:\n",
    "            metric.append(0.0)\n",
    "            metric.append(0.0)\n",
    "            metric.append(0.0)\n",
    "\n",
    "        ## engagement \n",
    "        try:\n",
    "            e = engagement_metrics_aggregate_df[engagement_metrics_aggregate_df.index.date == date]\n",
    "            metric.append(float(e['Impressions (organic)']))\n",
    "            metric.append(float(e['Impressions (sponsored)']))\n",
    "            metric.append(float(e['Impressions (total)']))\n",
    "            metric.append(float(e['Unique impressions (organic)']))\n",
    "            metric.append(float(e['Clicks (organic)']))\n",
    "            metric.append(float(e['Clicks (total)']))\n",
    "            metric.append(float(e['Clicks (sponsored)']))\n",
    "            metric.append(float(e['Reactions (organic)']))\n",
    "            metric.append(float(e['Reactions (sponsored)']))\n",
    "            metric.append(float(e['Reactions (total)']))\n",
    "            metric.append(float(e['Comments (organic)']))\n",
    "            metric.append(float(e['Comments (sponsored)']))\n",
    "            metric.append(float(e['Comments (total)']))\n",
    "            metric.append(float(e['Shares (organic)']))\n",
    "            metric.append(float(e['Shares (sponsored)']))\n",
    "            metric.append(float(e['Shares (total)']))\n",
    "            metric.append(float(e['Engagement rate (organic)']))\n",
    "            metric.append(float(e['Engagement rate (sponsored)']))\n",
    "            metric.append(float(e['Engagement rate (total)']))         \n",
    "        except:   \n",
    "            print(\"exception\",str(e))\n",
    "            for r in range(19):\n",
    "                metric.append(0)\n",
    "                \n",
    "        lines.append(metric)\n",
    "        \n",
    "    \n",
    "    ### \n",
    "    df = pd.DataFrame(lines, \n",
    "               columns =columns)\n",
    "    return df\n",
    "    \n",
    "        "
   ]
  },
  {
   "cell_type": "code",
   "execution_count": null,
   "metadata": {},
   "outputs": [],
   "source": []
  },
  {
   "cell_type": "code",
   "execution_count": 33,
   "metadata": {},
   "outputs": [],
   "source": [
    "engagement_df = make_engagement_insights(visitor_metrics_df,engagement_metrics_aggregate_df,new_followers_df)"
   ]
  },
  {
   "cell_type": "code",
   "execution_count": 34,
   "metadata": {},
   "outputs": [
    {
     "name": "stdout",
     "output_type": "stream",
     "text": [
      "Number of rows and columns (366, 29)\n"
     ]
    }
   ],
   "source": [
    "print(f\"Number of rows and columns\",engagement_df.shape)"
   ]
  },
  {
   "cell_type": "code",
   "execution_count": 35,
   "metadata": {},
   "outputs": [
    {
     "data": {
      "text/plain": [
       "datetime.date(2019, 6, 10)"
      ]
     },
     "execution_count": 35,
     "metadata": {},
     "output_type": "execute_result"
    }
   ],
   "source": [
    "engagement_df[\"Date\"].max()\n"
   ]
  },
  {
   "cell_type": "code",
   "execution_count": 36,
   "metadata": {
    "scrolled": true
   },
   "outputs": [
    {
     "data": {
      "text/html": [
       "<div>\n",
       "<style scoped>\n",
       "    .dataframe tbody tr th:only-of-type {\n",
       "        vertical-align: middle;\n",
       "    }\n",
       "\n",
       "    .dataframe tbody tr th {\n",
       "        vertical-align: top;\n",
       "    }\n",
       "\n",
       "    .dataframe thead th {\n",
       "        text-align: right;\n",
       "    }\n",
       "</style>\n",
       "<table border=\"1\" class=\"dataframe\">\n",
       "  <thead>\n",
       "    <tr style=\"text-align: right;\">\n",
       "      <th></th>\n",
       "      <th>Date</th>\n",
       "      <th>Total page views (desktop)</th>\n",
       "      <th>Total page views (mobile)</th>\n",
       "      <th>Total page views (total)</th>\n",
       "      <th>Total unique visitors (desktop)</th>\n",
       "      <th>Total unique visitors (mobile)</th>\n",
       "      <th>Total unique visitors (total)</th>\n",
       "      <th>Sponsored followers</th>\n",
       "      <th>Organic followers</th>\n",
       "      <th>Total followers</th>\n",
       "      <th>Impressions (organic)</th>\n",
       "      <th>Impressions (sponsored)</th>\n",
       "      <th>Impressions (total)</th>\n",
       "      <th>Unique impressions (organic)</th>\n",
       "      <th>Clicks (organic)</th>\n",
       "      <th>Clicks (sponsored)</th>\n",
       "      <th>Clicks (total)</th>\n",
       "      <th>Reactions (organic)</th>\n",
       "      <th>Reactions (sponsored)</th>\n",
       "      <th>Reactions (total)</th>\n",
       "      <th>Comments (organic)</th>\n",
       "      <th>Comments (sponsored)</th>\n",
       "      <th>Comments (total)</th>\n",
       "      <th>Shares (organic)</th>\n",
       "      <th>Shares (sponsored)</th>\n",
       "      <th>Shares (total)</th>\n",
       "      <th>Engagement rate (organic)</th>\n",
       "      <th>Engagement rate (sponsored)</th>\n",
       "      <th>Engagement rate (total)</th>\n",
       "    </tr>\n",
       "  </thead>\n",
       "  <tbody>\n",
       "    <tr>\n",
       "      <th>0</th>\n",
       "      <td>2018-06-10</td>\n",
       "      <td>5.0</td>\n",
       "      <td>21.0</td>\n",
       "      <td>26.0</td>\n",
       "      <td>4.0</td>\n",
       "      <td>9.0</td>\n",
       "      <td>13.0</td>\n",
       "      <td>0.0</td>\n",
       "      <td>16.0</td>\n",
       "      <td>16.0</td>\n",
       "      <td>0.0</td>\n",
       "      <td>0.0</td>\n",
       "      <td>0.0</td>\n",
       "      <td>0.0</td>\n",
       "      <td>0.0</td>\n",
       "      <td>0.0</td>\n",
       "      <td>0.0</td>\n",
       "      <td>0.0</td>\n",
       "      <td>0.0</td>\n",
       "      <td>0.0</td>\n",
       "      <td>0.0</td>\n",
       "      <td>0.0</td>\n",
       "      <td>0.0</td>\n",
       "      <td>0.0</td>\n",
       "      <td>0.0</td>\n",
       "      <td>0.0</td>\n",
       "      <td>0.0</td>\n",
       "      <td>0.0</td>\n",
       "      <td>0.0</td>\n",
       "    </tr>\n",
       "    <tr>\n",
       "      <th>1</th>\n",
       "      <td>2018-06-11</td>\n",
       "      <td>28.0</td>\n",
       "      <td>51.0</td>\n",
       "      <td>79.0</td>\n",
       "      <td>21.0</td>\n",
       "      <td>24.0</td>\n",
       "      <td>44.0</td>\n",
       "      <td>0.0</td>\n",
       "      <td>27.0</td>\n",
       "      <td>27.0</td>\n",
       "      <td>0.0</td>\n",
       "      <td>0.0</td>\n",
       "      <td>0.0</td>\n",
       "      <td>0.0</td>\n",
       "      <td>0.0</td>\n",
       "      <td>0.0</td>\n",
       "      <td>0.0</td>\n",
       "      <td>0.0</td>\n",
       "      <td>0.0</td>\n",
       "      <td>0.0</td>\n",
       "      <td>0.0</td>\n",
       "      <td>0.0</td>\n",
       "      <td>0.0</td>\n",
       "      <td>0.0</td>\n",
       "      <td>0.0</td>\n",
       "      <td>0.0</td>\n",
       "      <td>0.0</td>\n",
       "      <td>0.0</td>\n",
       "      <td>0.0</td>\n",
       "    </tr>\n",
       "    <tr>\n",
       "      <th>2</th>\n",
       "      <td>2018-06-12</td>\n",
       "      <td>39.0</td>\n",
       "      <td>87.0</td>\n",
       "      <td>126.0</td>\n",
       "      <td>32.0</td>\n",
       "      <td>19.0</td>\n",
       "      <td>51.0</td>\n",
       "      <td>0.0</td>\n",
       "      <td>39.0</td>\n",
       "      <td>39.0</td>\n",
       "      <td>0.0</td>\n",
       "      <td>0.0</td>\n",
       "      <td>0.0</td>\n",
       "      <td>0.0</td>\n",
       "      <td>0.0</td>\n",
       "      <td>0.0</td>\n",
       "      <td>0.0</td>\n",
       "      <td>0.0</td>\n",
       "      <td>0.0</td>\n",
       "      <td>0.0</td>\n",
       "      <td>0.0</td>\n",
       "      <td>0.0</td>\n",
       "      <td>0.0</td>\n",
       "      <td>0.0</td>\n",
       "      <td>0.0</td>\n",
       "      <td>0.0</td>\n",
       "      <td>0.0</td>\n",
       "      <td>0.0</td>\n",
       "      <td>0.0</td>\n",
       "    </tr>\n",
       "    <tr>\n",
       "      <th>3</th>\n",
       "      <td>2018-06-13</td>\n",
       "      <td>36.0</td>\n",
       "      <td>54.0</td>\n",
       "      <td>90.0</td>\n",
       "      <td>30.0</td>\n",
       "      <td>25.0</td>\n",
       "      <td>55.0</td>\n",
       "      <td>0.0</td>\n",
       "      <td>29.0</td>\n",
       "      <td>29.0</td>\n",
       "      <td>0.0</td>\n",
       "      <td>0.0</td>\n",
       "      <td>0.0</td>\n",
       "      <td>0.0</td>\n",
       "      <td>0.0</td>\n",
       "      <td>0.0</td>\n",
       "      <td>0.0</td>\n",
       "      <td>0.0</td>\n",
       "      <td>0.0</td>\n",
       "      <td>0.0</td>\n",
       "      <td>0.0</td>\n",
       "      <td>0.0</td>\n",
       "      <td>0.0</td>\n",
       "      <td>0.0</td>\n",
       "      <td>0.0</td>\n",
       "      <td>0.0</td>\n",
       "      <td>0.0</td>\n",
       "      <td>0.0</td>\n",
       "      <td>0.0</td>\n",
       "    </tr>\n",
       "    <tr>\n",
       "      <th>4</th>\n",
       "      <td>2018-06-14</td>\n",
       "      <td>37.0</td>\n",
       "      <td>67.0</td>\n",
       "      <td>104.0</td>\n",
       "      <td>26.0</td>\n",
       "      <td>25.0</td>\n",
       "      <td>51.0</td>\n",
       "      <td>0.0</td>\n",
       "      <td>22.0</td>\n",
       "      <td>22.0</td>\n",
       "      <td>0.0</td>\n",
       "      <td>0.0</td>\n",
       "      <td>0.0</td>\n",
       "      <td>0.0</td>\n",
       "      <td>0.0</td>\n",
       "      <td>0.0</td>\n",
       "      <td>0.0</td>\n",
       "      <td>0.0</td>\n",
       "      <td>0.0</td>\n",
       "      <td>0.0</td>\n",
       "      <td>0.0</td>\n",
       "      <td>0.0</td>\n",
       "      <td>0.0</td>\n",
       "      <td>0.0</td>\n",
       "      <td>0.0</td>\n",
       "      <td>0.0</td>\n",
       "      <td>0.0</td>\n",
       "      <td>0.0</td>\n",
       "      <td>0.0</td>\n",
       "    </tr>\n",
       "  </tbody>\n",
       "</table>\n",
       "</div>"
      ],
      "text/plain": [
       "         Date  Total page views (desktop)  Total page views (mobile)  \\\n",
       "0  2018-06-10                         5.0                       21.0   \n",
       "1  2018-06-11                        28.0                       51.0   \n",
       "2  2018-06-12                        39.0                       87.0   \n",
       "3  2018-06-13                        36.0                       54.0   \n",
       "4  2018-06-14                        37.0                       67.0   \n",
       "\n",
       "   Total page views (total)  Total unique visitors (desktop)  \\\n",
       "0                      26.0                              4.0   \n",
       "1                      79.0                             21.0   \n",
       "2                     126.0                             32.0   \n",
       "3                      90.0                             30.0   \n",
       "4                     104.0                             26.0   \n",
       "\n",
       "   Total unique visitors (mobile)  Total unique visitors (total)  \\\n",
       "0                             9.0                           13.0   \n",
       "1                            24.0                           44.0   \n",
       "2                            19.0                           51.0   \n",
       "3                            25.0                           55.0   \n",
       "4                            25.0                           51.0   \n",
       "\n",
       "   Sponsored followers  Organic followers  Total followers  \\\n",
       "0                  0.0               16.0             16.0   \n",
       "1                  0.0               27.0             27.0   \n",
       "2                  0.0               39.0             39.0   \n",
       "3                  0.0               29.0             29.0   \n",
       "4                  0.0               22.0             22.0   \n",
       "\n",
       "   Impressions (organic)  Impressions (sponsored)  Impressions (total)  \\\n",
       "0                    0.0                      0.0                  0.0   \n",
       "1                    0.0                      0.0                  0.0   \n",
       "2                    0.0                      0.0                  0.0   \n",
       "3                    0.0                      0.0                  0.0   \n",
       "4                    0.0                      0.0                  0.0   \n",
       "\n",
       "   Unique impressions (organic)  Clicks (organic)  Clicks (sponsored)  \\\n",
       "0                           0.0               0.0                 0.0   \n",
       "1                           0.0               0.0                 0.0   \n",
       "2                           0.0               0.0                 0.0   \n",
       "3                           0.0               0.0                 0.0   \n",
       "4                           0.0               0.0                 0.0   \n",
       "\n",
       "   Clicks (total)  Reactions (organic)  Reactions (sponsored)  \\\n",
       "0             0.0                  0.0                    0.0   \n",
       "1             0.0                  0.0                    0.0   \n",
       "2             0.0                  0.0                    0.0   \n",
       "3             0.0                  0.0                    0.0   \n",
       "4             0.0                  0.0                    0.0   \n",
       "\n",
       "   Reactions (total)  Comments (organic)  Comments (sponsored)  \\\n",
       "0                0.0                 0.0                   0.0   \n",
       "1                0.0                 0.0                   0.0   \n",
       "2                0.0                 0.0                   0.0   \n",
       "3                0.0                 0.0                   0.0   \n",
       "4                0.0                 0.0                   0.0   \n",
       "\n",
       "   Comments (total)  Shares (organic)  Shares (sponsored)  Shares (total)  \\\n",
       "0               0.0               0.0                 0.0             0.0   \n",
       "1               0.0               0.0                 0.0             0.0   \n",
       "2               0.0               0.0                 0.0             0.0   \n",
       "3               0.0               0.0                 0.0             0.0   \n",
       "4               0.0               0.0                 0.0             0.0   \n",
       "\n",
       "   Engagement rate (organic)  Engagement rate (sponsored)  \\\n",
       "0                        0.0                          0.0   \n",
       "1                        0.0                          0.0   \n",
       "2                        0.0                          0.0   \n",
       "3                        0.0                          0.0   \n",
       "4                        0.0                          0.0   \n",
       "\n",
       "   Engagement rate (total)  \n",
       "0                      0.0  \n",
       "1                      0.0  \n",
       "2                      0.0  \n",
       "3                      0.0  \n",
       "4                      0.0  "
      ]
     },
     "execution_count": 36,
     "metadata": {},
     "output_type": "execute_result"
    }
   ],
   "source": [
    "#engagement_top_posts_filepath\n",
    "\n",
    "engagement_df.head()"
   ]
  },
  {
   "cell_type": "markdown",
   "metadata": {},
   "source": [
    "### Engagement Posts"
   ]
  },
  {
   "cell_type": "code",
   "execution_count": 37,
   "metadata": {},
   "outputs": [],
   "source": [
    "def make_engagement_posts(engagement_metrics_update_df):\n",
    "    columns = ['Created date',\n",
    "                        'Post title',\n",
    "                        'Post link',\n",
    "                        'Post type',\n",
    "                        'Impressions',\n",
    "                        'Video views',\n",
    "                        'Clicks',\n",
    "                        'Click through rate (CTR)',\n",
    "                        'Likes',\n",
    "                        'Comments',\n",
    "                        'Shares', \n",
    "                        'Follows',\n",
    "        'Engagement rate'] \n",
    "    \n",
    "    engagement_metrics_update_df = engagement_metrics_update_df.fillna(0)\n",
    "    data = []\n",
    "    for index, row in engagement_metrics_update_df.iterrows():\n",
    "        data.append([row[\"Created date\"], row[\"Update title\"],row[\"Update link\"],row[\"Update type\"],\n",
    "                           row[\"Impressions\"],row[\"Video views\"],row[\"Clicks\"],row[\"Click through rate (CTR)\"],\n",
    "                           row[\"Likes\"],row[\"Comments\"], row[\"Shares\"],row[\"Follows\"],row[\"Engagement rate\"]\n",
    "                           ])\n",
    "    \n",
    "    engagement_posts_df = pd.DataFrame(data, \n",
    "               columns =columns)\n",
    "    \n",
    "    \n",
    "    return engagement_posts_df\n",
    "    \n",
    "\n",
    "    "
   ]
  },
  {
   "cell_type": "code",
   "execution_count": 38,
   "metadata": {},
   "outputs": [],
   "source": [
    "engagement_posts_df = make_engagement_posts(engagement_metrics_update_df)"
   ]
  },
  {
   "cell_type": "code",
   "execution_count": 39,
   "metadata": {},
   "outputs": [
    {
     "name": "stdout",
     "output_type": "stream",
     "text": [
      "Number of rows and columns (43, 13)\n"
     ]
    }
   ],
   "source": [
    "print(f\"Number of rows and columns\",engagement_posts_df.shape)"
   ]
  },
  {
   "cell_type": "code",
   "execution_count": 40,
   "metadata": {},
   "outputs": [
    {
     "data": {
      "text/html": [
       "<div>\n",
       "<style scoped>\n",
       "    .dataframe tbody tr th:only-of-type {\n",
       "        vertical-align: middle;\n",
       "    }\n",
       "\n",
       "    .dataframe tbody tr th {\n",
       "        vertical-align: top;\n",
       "    }\n",
       "\n",
       "    .dataframe thead th {\n",
       "        text-align: right;\n",
       "    }\n",
       "</style>\n",
       "<table border=\"1\" class=\"dataframe\">\n",
       "  <thead>\n",
       "    <tr style=\"text-align: right;\">\n",
       "      <th></th>\n",
       "      <th>Created date</th>\n",
       "      <th>Post title</th>\n",
       "      <th>Post link</th>\n",
       "      <th>Post type</th>\n",
       "      <th>Impressions</th>\n",
       "      <th>Video views</th>\n",
       "      <th>Clicks</th>\n",
       "      <th>Click through rate (CTR)</th>\n",
       "      <th>Likes</th>\n",
       "      <th>Comments</th>\n",
       "      <th>Shares</th>\n",
       "      <th>Follows</th>\n",
       "      <th>Engagement rate</th>\n",
       "    </tr>\n",
       "  </thead>\n",
       "  <tbody>\n",
       "    <tr>\n",
       "      <th>0</th>\n",
       "      <td>06/03/2019</td>\n",
       "      <td>We've changed a lot in 50 short years. We're n...</td>\n",
       "      <td>https://www.linkedin.com/feed/update/urn:li:ac...</td>\n",
       "      <td>Organic</td>\n",
       "      <td>22890</td>\n",
       "      <td>7252</td>\n",
       "      <td>214</td>\n",
       "      <td>0.009349</td>\n",
       "      <td>242</td>\n",
       "      <td>15</td>\n",
       "      <td>28</td>\n",
       "      <td>0</td>\n",
       "      <td>0.021800</td>\n",
       "    </tr>\n",
       "    <tr>\n",
       "      <th>1</th>\n",
       "      <td>05/20/2019</td>\n",
       "      <td>Andrea Jandernoa uses sugar as an artistic med...</td>\n",
       "      <td>https://www.linkedin.com/feed/update/urn:li:ac...</td>\n",
       "      <td>Organic</td>\n",
       "      <td>17710</td>\n",
       "      <td>4803</td>\n",
       "      <td>79</td>\n",
       "      <td>0.004461</td>\n",
       "      <td>73</td>\n",
       "      <td>2</td>\n",
       "      <td>8</td>\n",
       "      <td>0</td>\n",
       "      <td>0.009147</td>\n",
       "    </tr>\n",
       "    <tr>\n",
       "      <th>2</th>\n",
       "      <td>05/13/2019</td>\n",
       "      <td>This weekend, we celebrated the largest gradua...</td>\n",
       "      <td>https://www.linkedin.com/feed/update/urn:li:ac...</td>\n",
       "      <td>Organic</td>\n",
       "      <td>25140</td>\n",
       "      <td>0</td>\n",
       "      <td>332</td>\n",
       "      <td>0.013206</td>\n",
       "      <td>300</td>\n",
       "      <td>9</td>\n",
       "      <td>7</td>\n",
       "      <td>0</td>\n",
       "      <td>0.025776</td>\n",
       "    </tr>\n",
       "    <tr>\n",
       "      <th>3</th>\n",
       "      <td>05/07/2019</td>\n",
       "      <td>Born and raised in a refugee camp, Easter Day ...</td>\n",
       "      <td>https://www.linkedin.com/feed/update/urn:li:ac...</td>\n",
       "      <td>Organic</td>\n",
       "      <td>20391</td>\n",
       "      <td>6304</td>\n",
       "      <td>136</td>\n",
       "      <td>0.006670</td>\n",
       "      <td>121</td>\n",
       "      <td>2</td>\n",
       "      <td>12</td>\n",
       "      <td>0</td>\n",
       "      <td>0.013290</td>\n",
       "    </tr>\n",
       "    <tr>\n",
       "      <th>4</th>\n",
       "      <td>05/02/2019</td>\n",
       "      <td>\"Sen. Lugar was a leader in renewable energy f...</td>\n",
       "      <td>https://www.linkedin.com/feed/update/urn:li:ac...</td>\n",
       "      <td>Organic</td>\n",
       "      <td>11556</td>\n",
       "      <td>0</td>\n",
       "      <td>77</td>\n",
       "      <td>0.006663</td>\n",
       "      <td>52</td>\n",
       "      <td>0</td>\n",
       "      <td>1</td>\n",
       "      <td>0</td>\n",
       "      <td>0.011250</td>\n",
       "    </tr>\n",
       "  </tbody>\n",
       "</table>\n",
       "</div>"
      ],
      "text/plain": [
       "  Created date                                         Post title  \\\n",
       "0   06/03/2019  We've changed a lot in 50 short years. We're n...   \n",
       "1   05/20/2019  Andrea Jandernoa uses sugar as an artistic med...   \n",
       "2   05/13/2019  This weekend, we celebrated the largest gradua...   \n",
       "3   05/07/2019  Born and raised in a refugee camp, Easter Day ...   \n",
       "4   05/02/2019  \"Sen. Lugar was a leader in renewable energy f...   \n",
       "\n",
       "                                           Post link Post type  Impressions  \\\n",
       "0  https://www.linkedin.com/feed/update/urn:li:ac...   Organic        22890   \n",
       "1  https://www.linkedin.com/feed/update/urn:li:ac...   Organic        17710   \n",
       "2  https://www.linkedin.com/feed/update/urn:li:ac...   Organic        25140   \n",
       "3  https://www.linkedin.com/feed/update/urn:li:ac...   Organic        20391   \n",
       "4  https://www.linkedin.com/feed/update/urn:li:ac...   Organic        11556   \n",
       "\n",
       "   Video views  Clicks  Click through rate (CTR)  Likes  Comments  Shares  \\\n",
       "0         7252     214                  0.009349    242        15      28   \n",
       "1         4803      79                  0.004461     73         2       8   \n",
       "2            0     332                  0.013206    300         9       7   \n",
       "3         6304     136                  0.006670    121         2      12   \n",
       "4            0      77                  0.006663     52         0       1   \n",
       "\n",
       "   Follows  Engagement rate  \n",
       "0        0         0.021800  \n",
       "1        0         0.009147  \n",
       "2        0         0.025776  \n",
       "3        0         0.013290  \n",
       "4        0         0.011250  "
      ]
     },
     "execution_count": 40,
     "metadata": {},
     "output_type": "execute_result"
    }
   ],
   "source": [
    "engagement_posts_df.head()"
   ]
  },
  {
   "cell_type": "code",
   "execution_count": 41,
   "metadata": {},
   "outputs": [
    {
     "data": {
      "text/html": [
       "<div>\n",
       "<style scoped>\n",
       "    .dataframe tbody tr th:only-of-type {\n",
       "        vertical-align: middle;\n",
       "    }\n",
       "\n",
       "    .dataframe tbody tr th {\n",
       "        vertical-align: top;\n",
       "    }\n",
       "\n",
       "    .dataframe thead th {\n",
       "        text-align: right;\n",
       "    }\n",
       "</style>\n",
       "<table border=\"1\" class=\"dataframe\">\n",
       "  <thead>\n",
       "    <tr style=\"text-align: right;\">\n",
       "      <th></th>\n",
       "      <th>Location</th>\n",
       "      <th>Total views</th>\n",
       "    </tr>\n",
       "  </thead>\n",
       "  <tbody>\n",
       "    <tr>\n",
       "      <th>0</th>\n",
       "      <td>Greater Boston Area</td>\n",
       "      <td>199</td>\n",
       "    </tr>\n",
       "    <tr>\n",
       "      <th>1</th>\n",
       "      <td>Greater Chicago Area</td>\n",
       "      <td>756</td>\n",
       "    </tr>\n",
       "    <tr>\n",
       "      <th>2</th>\n",
       "      <td>Albany, New York Area</td>\n",
       "      <td>21</td>\n",
       "    </tr>\n",
       "    <tr>\n",
       "      <th>3</th>\n",
       "      <td>Cincinnati, Ohio Area</td>\n",
       "      <td>186</td>\n",
       "    </tr>\n",
       "    <tr>\n",
       "      <th>4</th>\n",
       "      <td>Cleveland/Akron, Ohio Area</td>\n",
       "      <td>64</td>\n",
       "    </tr>\n",
       "  </tbody>\n",
       "</table>\n",
       "</div>"
      ],
      "text/plain": [
       "                     Location  Total views\n",
       "0         Greater Boston Area          199\n",
       "1        Greater Chicago Area          756\n",
       "2       Albany, New York Area           21\n",
       "3       Cincinnati, Ohio Area          186\n",
       "4  Cleveland/Akron, Ohio Area           64"
      ]
     },
     "execution_count": 41,
     "metadata": {},
     "output_type": "execute_result"
    }
   ],
   "source": [
    "visitor_location_df.head()"
   ]
  },
  {
   "cell_type": "markdown",
   "metadata": {},
   "source": [
    "### Visitor Demographic Insights"
   ]
  },
  {
   "cell_type": "code",
   "execution_count": 42,
   "metadata": {},
   "outputs": [
    {
     "data": {
      "text/html": [
       "<div>\n",
       "<style scoped>\n",
       "    .dataframe tbody tr th:only-of-type {\n",
       "        vertical-align: middle;\n",
       "    }\n",
       "\n",
       "    .dataframe tbody tr th {\n",
       "        vertical-align: top;\n",
       "    }\n",
       "\n",
       "    .dataframe thead th {\n",
       "        text-align: right;\n",
       "    }\n",
       "</style>\n",
       "<table border=\"1\" class=\"dataframe\">\n",
       "  <thead>\n",
       "    <tr style=\"text-align: right;\">\n",
       "      <th></th>\n",
       "      <th>Location</th>\n",
       "      <th>Total views</th>\n",
       "    </tr>\n",
       "  </thead>\n",
       "  <tbody>\n",
       "    <tr>\n",
       "      <th>0</th>\n",
       "      <td>Greater Boston Area</td>\n",
       "      <td>199</td>\n",
       "    </tr>\n",
       "    <tr>\n",
       "      <th>1</th>\n",
       "      <td>Greater Chicago Area</td>\n",
       "      <td>756</td>\n",
       "    </tr>\n",
       "    <tr>\n",
       "      <th>2</th>\n",
       "      <td>Albany, New York Area</td>\n",
       "      <td>21</td>\n",
       "    </tr>\n",
       "    <tr>\n",
       "      <th>3</th>\n",
       "      <td>Cincinnati, Ohio Area</td>\n",
       "      <td>186</td>\n",
       "    </tr>\n",
       "    <tr>\n",
       "      <th>4</th>\n",
       "      <td>Cleveland/Akron, Ohio Area</td>\n",
       "      <td>64</td>\n",
       "    </tr>\n",
       "  </tbody>\n",
       "</table>\n",
       "</div>"
      ],
      "text/plain": [
       "                     Location  Total views\n",
       "0         Greater Boston Area          199\n",
       "1        Greater Chicago Area          756\n",
       "2       Albany, New York Area           21\n",
       "3       Cincinnati, Ohio Area          186\n",
       "4  Cleveland/Akron, Ohio Area           64"
      ]
     },
     "execution_count": 42,
     "metadata": {},
     "output_type": "execute_result"
    }
   ],
   "source": [
    "visitor_location_df.head()\n"
   ]
  },
  {
   "cell_type": "markdown",
   "metadata": {},
   "source": [
    "### Follower Demographics Insights"
   ]
  },
  {
   "cell_type": "code",
   "execution_count": 43,
   "metadata": {},
   "outputs": [
    {
     "name": "stdout",
     "output_type": "stream",
     "text": [
      "(99, 2)\n"
     ]
    }
   ],
   "source": [
    "print(followers_location_df.shape)\n"
   ]
  },
  {
   "cell_type": "markdown",
   "metadata": {},
   "source": [
    "## Build Excel Sheets"
   ]
  },
  {
   "cell_type": "code",
   "execution_count": 44,
   "metadata": {},
   "outputs": [],
   "source": [
    "## Output\n",
    "file = \"iu_linkedIn_data.xlsx\"\n",
    "\n",
    "## Save to Engagement insights\n",
    "engagement_insights_sheetname = \"engagement_insights\"\n",
    "engagement_top_posts_sheetname = \"top_engagement_posts\"\n",
    "\n",
    "### Visitor Demographic Insights\n",
    "visitor_demographics_location_sheetname = \"visitors_by_location\"\n",
    "visitor_demographics_industry_sheetname = \"visitors_by_industry\"\n",
    "\n",
    "\n",
    "### Follower Demographic insights\n",
    "follower_demographics_location_sheetname = \"followers_by_location\"\n",
    "follower_demographics_industry_sheetname = \"followers_by_industry\"\n",
    "follower_demographics_seniority_sheetname = \"followers_by_seniority\""
   ]
  },
  {
   "cell_type": "code",
   "execution_count": 45,
   "metadata": {},
   "outputs": [
    {
     "name": "stdout",
     "output_type": "stream",
     "text": [
      "RangeIndex(start=0, stop=120, step=1)\n"
     ]
    }
   ],
   "source": [
    "print(visitor_industry_df.index)"
   ]
  },
  {
   "cell_type": "code",
   "execution_count": 46,
   "metadata": {},
   "outputs": [],
   "source": [
    "with pd.ExcelWriter(os.path.join(processed_data_dir,file),engine='xlsxwriter') as writer:\n",
    "    \n",
    "    ## Metrics\n",
    "    engagement_df.to_excel(writer, sheet_name=engagement_insights_sheetname,index= False)\n",
    "    engagement_posts_df.to_excel(writer, sheet_name=engagement_top_posts_sheetname,index= False)\n",
    "    \n",
    "    ## visitor demographics\n",
    "    visitor_location_df.to_excel(writer, sheet_name = visitor_demographics_location_sheetname,index=False)\n",
    "    visitor_industry_df.to_excel(writer, sheet_name = visitor_demographics_industry_sheetname,index=False)\n",
    "\n",
    "    ## follower demographics\n",
    "    followers_location_df.to_excel(writer, sheet_name = follower_demographics_location_sheetname,index=False)\n",
    "    followers_industry_df.to_excel(writer, sheet_name = follower_demographics_industry_sheetname,index=False)\n",
    "    followers_seniority_df.to_excel(writer, sheet_name = follower_demographics_seniority_sheetname,index=False)\n",
    "    \n",
    "    \n",
    "    writer.save()"
   ]
  },
  {
   "cell_type": "code",
   "execution_count": null,
   "metadata": {},
   "outputs": [],
   "source": []
  },
  {
   "cell_type": "code",
   "execution_count": null,
   "metadata": {},
   "outputs": [],
   "source": []
  },
  {
   "cell_type": "code",
   "execution_count": null,
   "metadata": {},
   "outputs": [],
   "source": []
  },
  {
   "cell_type": "code",
   "execution_count": null,
   "metadata": {},
   "outputs": [],
   "source": []
  },
  {
   "cell_type": "code",
   "execution_count": null,
   "metadata": {},
   "outputs": [],
   "source": []
  }
 ],
 "metadata": {
  "kernelspec": {
   "display_name": "Python 3",
   "language": "python",
   "name": "python3"
  },
  "language_info": {
   "codemirror_mode": {
    "name": "ipython",
    "version": 3
   },
   "file_extension": ".py",
   "mimetype": "text/x-python",
   "name": "python",
   "nbconvert_exporter": "python",
   "pygments_lexer": "ipython3",
   "version": "3.7.3"
  }
 },
 "nbformat": 4,
 "nbformat_minor": 2
}
