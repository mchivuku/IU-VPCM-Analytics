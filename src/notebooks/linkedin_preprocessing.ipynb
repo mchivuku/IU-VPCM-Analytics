{
 "cells": [
  {
   "cell_type": "markdown",
   "metadata": {},
   "source": [
    "# Pre-processing LinkedIn Files\n",
    "\n",
    "Following are the list of files gathered by linkedIn:\n",
    "\n",
    "1. Visitor stats\n",
    "2. Updates\n",
    "3. Followers\n",
    "\n",
    "\n",
    "Following files will be combined to draw - Engagement insights\n",
    "\n",
    "**Engagement Insights:**\n",
    "Draw insight on:\n",
    "<ul>\n",
    "    <li>total page views to date,</li>\n",
    "    <li> total unique visitors to </li>\n",
    "    <li> average engagement rate </li>\n",
    "    <li> linked In posts </li>\n",
    "</ul>\n",
    "\n",
    "\n",
    "**Visitor Insights:**\n",
    "Draw insight on visitor demographics:\n",
    "<ul>\n",
    "    <li> Location of visitors </li>\n",
    "    <li> Visitor by industry </li>\n",
    " </ul>\n",
    " \n",
    "**Follower Insights:**\n",
    "Draw insight on follower demographics:\n",
    "<ul>\n",
    "    <li> Location of followers </li>\n",
    "    <li> Follower Industry </li>\n",
    " </ul>\n",
    " "
   ]
  },
  {
   "cell_type": "markdown",
   "metadata": {},
   "source": [
    "## Import Libraries"
   ]
  },
  {
   "cell_type": "code",
   "execution_count": 2,
   "metadata": {},
   "outputs": [
    {
     "data": {
      "text/html": [
       "        <script type=\"text/javascript\">\n",
       "        window.PlotlyConfig = {MathJaxConfig: 'local'};\n",
       "        if (window.MathJax) {MathJax.Hub.Config({SVG: {font: \"STIX-Web\"}});}\n",
       "        if (typeof require !== 'undefined') {\n",
       "        require.undef(\"plotly\");\n",
       "        requirejs.config({\n",
       "            paths: {\n",
       "                'plotly': ['https://cdn.plot.ly/plotly-latest.min']\n",
       "            }\n",
       "        });\n",
       "        require(['plotly'], function(Plotly) {\n",
       "            window._Plotly = Plotly;\n",
       "        });\n",
       "        }\n",
       "        </script>\n",
       "        "
      ]
     },
     "metadata": {},
     "output_type": "display_data"
    }
   ],
   "source": [
    "import os\n",
    "import pandas as pd\n",
    "import numpy as np\n",
    "from datetime import date, timedelta, datetime\n",
    "import csv\n",
    "\n",
    "\n",
    "### Data Visualization\n",
    "\n",
    "import matplotlib.pyplot as plt\n",
    "import seaborn as sns\n",
    "import plotly \n",
    "\n",
    "# Replace with your information\n",
    "plotly.tools.set_credentials_file(username='mchivuku', api_key='ONCxWI3IjbPiHtld9PFm')\n",
    "# plotly standard imports\n",
    "import plotly.graph_objs as go\n",
    "import plotly.plotly as py\n",
    "\n",
    "# Cufflinks wrapper on plotly\n",
    "import cufflinks\n",
    "\n",
    "\n",
    "# Options for pandas\n",
    "pd.options.display.max_columns = 30\n",
    "\n",
    "# Display all cell outputs\n",
    "from IPython.core.interactiveshell import InteractiveShell\n",
    "InteractiveShell.ast_node_interactivity = 'all'\n",
    "\n",
    "from plotly.offline import iplot\n",
    "cufflinks.go_offline()\n",
    "\n",
    "# Set global theme\n",
    "cufflinks.set_config_file(world_readable=True, theme='pearl')\n",
    "\n",
    "%matplotlib inline\n",
    "plt.style.use(\"seaborn\")\n",
    "\n"
   ]
  },
  {
   "cell_type": "markdown",
   "metadata": {},
   "source": [
    "## Settings"
   ]
  },
  {
   "cell_type": "code",
   "execution_count": 224,
   "metadata": {},
   "outputs": [],
   "source": [
    "raw_data_dir = os.path.join(\"../../\",\"data\",\"raw_data\",\"iu\",\"linkedIn\")\n",
    "processed_data_dir = os.path.join(\"../../\",\"data\",\"processed_data\",\"iu\",\"linkedIn\")\n",
    "\n",
    "followers_file =  \"indiana-university_followers_1561051489044.xls\"\n",
    "engagements_file = \"indiana-university_updates_1561051432130.xls\"\n",
    "visitor_file = \"indiana-university_visitors_1561051385922.xls\"\n",
    "\n",
    "start_date = date(2018, 6, 10)  # start date\n",
    "end_date = date(2019, 6, 10)    # end date\n",
    "\n",
    "\n",
    "## Read from\n",
    "visitors_file_path = os.path.join(raw_data_dir,visitor_file )\n",
    "followers_file_path = os.path.join(raw_data_dir,followers_file )\n",
    "engagements_file_path = os.path.join(raw_data_dir, engagements_file)\n"
   ]
  },
  {
   "cell_type": "markdown",
   "metadata": {},
   "source": [
    "## Exploratory Data Analysis (EDA)"
   ]
  },
  {
   "cell_type": "code",
   "execution_count": 225,
   "metadata": {},
   "outputs": [],
   "source": [
    "visitors = pd.ExcelFile(visitors_file_path)\n",
    "engagements = pd.ExcelFile(engagements_file_path)\n",
    "followers = pd.ExcelFile(followers_file_path)\n"
   ]
  },
  {
   "cell_type": "markdown",
   "metadata": {},
   "source": [
    "### Visitors"
   ]
  },
  {
   "cell_type": "code",
   "execution_count": 226,
   "metadata": {},
   "outputs": [
    {
     "name": "stdout",
     "output_type": "stream",
     "text": [
      "['Visitor metrics', 'Location', 'Job function', 'Seniority', 'Industry', 'Company size']\n"
     ]
    }
   ],
   "source": [
    "print(visitors.sheet_names)"
   ]
  },
  {
   "cell_type": "code",
   "execution_count": 227,
   "metadata": {},
   "outputs": [],
   "source": [
    "visitor_metrics_df = pd.read_excel(visitors_file_path, sheet_name='Visitor metrics')\n",
    "visitor_location_df = pd.read_excel(visitors_file_path,sheet_name = \"Location\")\n",
    "visitor_job_function_df = pd.read_excel(visitors_file_path,sheet_name = \"Job function\")\n",
    "visitor_industry_df = pd.read_excel(visitors_file_path,sheet_name= \"Industry\")\n",
    "visitor_company_size_df = pd.read_excel(visitors_file_path, sheet_name = \"Company size\")\n",
    "visitor_seniority_df = pd.read_excel(visitors_file_path,sheet_name = \"Seniority\")\n",
    "\n",
    "\n",
    "## Setting Date as index\n",
    "visitor_metrics_df[\"Date\"]= pd.to_datetime(visitor_metrics_df[\"Date\"]) \n"
   ]
  },
  {
   "cell_type": "code",
   "execution_count": 228,
   "metadata": {},
   "outputs": [
    {
     "name": "stdout",
     "output_type": "stream",
     "text": [
      "Min date: 2018-06-10 00:00:00  Max date: 2019-06-10 00:00:00\n",
      "Number of records, in visitor metrics: (366, 25)\n",
      "Number of records, in visitor location: (113, 2)\n",
      "Number of records, in visitor job function: (25, 2)\n",
      "Number of records, in visitor industry: (93, 2)\n",
      "Number of records, in visitor company size: (9, 2)\n",
      "Number of records, in visitor seniority: (10, 2)\n"
     ]
    }
   ],
   "source": [
    "print(\"Min date:\", visitor_metrics_df['Date'].min(), \" Max date:\", visitor_metrics_df[\"Date\"].max())\n",
    "print(f\"Number of records, in visitor metrics: {visitor_metrics_df.shape}\")\n",
    "print(f\"Number of records, in visitor location: {visitor_location_df.shape}\")\n",
    "print(f\"Number of records, in visitor job function: {visitor_job_function_df.shape}\")\n",
    "print(f\"Number of records, in visitor industry: {visitor_industry_df.shape}\")\n",
    "print(f\"Number of records, in visitor company size: {visitor_company_size_df.shape}\")\n",
    "print(f\"Number of records, in visitor seniority: {visitor_seniority_df.shape}\")\n",
    "\n",
    "\n"
   ]
  },
  {
   "cell_type": "code",
   "execution_count": 229,
   "metadata": {
    "scrolled": true
   },
   "outputs": [
    {
     "data": {
      "application/vnd.plotly.v1+json": {
       "config": {
        "linkText": "Export to plot.ly",
        "plotlyServerURL": "https://plot.ly",
        "showLink": true
       },
       "data": [
        {
         "line": {
          "color": "rgba(255, 153, 51, 1.0)",
          "dash": "solid",
          "shape": "linear",
          "width": 1.3
         },
         "mode": "lines",
         "name": "Total page views (desktop)",
         "text": "",
         "type": "scatter",
         "uid": "80383281-d989-4857-807d-f17aa2c04cad",
         "x": [
          "2018-06-30",
          "2018-07-31",
          "2018-08-31",
          "2018-09-30",
          "2018-10-31",
          "2018-11-30",
          "2018-12-31",
          "2019-01-31",
          "2019-02-28",
          "2019-03-31",
          "2019-04-30",
          "2019-05-31",
          "2019-06-30"
         ],
         "y": [
          0,
          0,
          0,
          0,
          0,
          0,
          0,
          0,
          6.821428571428571,
          6.741935483870968,
          8.433333333333334,
          10.35483870967742,
          10.2
         ]
        },
        {
         "line": {
          "color": "rgba(55, 128, 191, 1.0)",
          "dash": "solid",
          "shape": "linear",
          "width": 1.3
         },
         "mode": "lines",
         "name": "Total page views (mobile)",
         "text": "",
         "type": "scatter",
         "uid": "8a412da8-e410-41c5-aa6d-7bcbca0685ca",
         "x": [
          "2018-06-30",
          "2018-07-31",
          "2018-08-31",
          "2018-09-30",
          "2018-10-31",
          "2018-11-30",
          "2018-12-31",
          "2019-01-31",
          "2019-02-28",
          "2019-03-31",
          "2019-04-30",
          "2019-05-31",
          "2019-06-30"
         ],
         "y": [
          0,
          0,
          0,
          0,
          0,
          0,
          0,
          0,
          0.8928571428571429,
          0.7096774193548387,
          0.7666666666666667,
          2.064516129032258,
          2
         ]
        },
        {
         "line": {
          "color": "rgba(50, 171, 96, 1.0)",
          "dash": "solid",
          "shape": "linear",
          "width": 1.3
         },
         "mode": "lines",
         "name": "Total unique visitors (mobile)",
         "text": "",
         "type": "scatter",
         "uid": "bc9043bf-588f-4e11-85f3-964ac1ef488b",
         "x": [
          "2018-06-30",
          "2018-07-31",
          "2018-08-31",
          "2018-09-30",
          "2018-10-31",
          "2018-11-30",
          "2018-12-31",
          "2019-01-31",
          "2019-02-28",
          "2019-03-31",
          "2019-04-30",
          "2019-05-31",
          "2019-06-30"
         ],
         "y": [
          0,
          0,
          0,
          0,
          0,
          0,
          0,
          0,
          0.5357142857142857,
          0.3870967741935484,
          0.5333333333333333,
          1.3225806451612903,
          1.2
         ]
        },
        {
         "line": {
          "color": "rgba(128, 0, 128, 1.0)",
          "dash": "solid",
          "shape": "linear",
          "width": 1.3
         },
         "mode": "lines",
         "name": "Total unique visitors (desktop)",
         "text": "",
         "type": "scatter",
         "uid": "13dfd9ce-9d7d-4b78-b0dc-3e853ec528b9",
         "x": [
          "2018-06-30",
          "2018-07-31",
          "2018-08-31",
          "2018-09-30",
          "2018-10-31",
          "2018-11-30",
          "2018-12-31",
          "2019-01-31",
          "2019-02-28",
          "2019-03-31",
          "2019-04-30",
          "2019-05-31",
          "2019-06-30"
         ],
         "y": [
          0,
          0,
          0,
          0,
          0,
          0,
          0,
          0,
          2.9642857142857144,
          3.129032258064516,
          4.633333333333334,
          4.870967741935484,
          4.9
         ]
        }
       ],
       "layout": {
        "legend": {
         "bgcolor": "#F5F6F9",
         "font": {
          "color": "#4D5663"
         }
        },
        "paper_bgcolor": "#F5F6F9",
        "plot_bgcolor": "#F5F6F9",
        "title": {
         "font": {
          "color": "#4D5663"
         },
         "text": "Monthly Page Views"
        },
        "xaxis": {
         "gridcolor": "#E1E5ED",
         "showgrid": true,
         "tickfont": {
          "color": "#4D5663"
         },
         "title": {
          "font": {
           "color": "#4D5663"
          },
          "text": "Date"
         },
         "zerolinecolor": "#E1E5ED"
        },
        "yaxis": {
         "gridcolor": "#E1E5ED",
         "showgrid": true,
         "tickfont": {
          "color": "#4D5663"
         },
         "title": {
          "font": {
           "color": "#4D5663"
          },
          "text": "Average Views"
         },
         "zerolinecolor": "#E1E5ED"
        }
       }
      },
      "text/html": [
       "<div>\n",
       "        \n",
       "        \n",
       "            <div id=\"d3d55042-6ccf-4494-9f3b-0a9ec6604d19\" class=\"plotly-graph-div\" style=\"height:525px; width:100%;\"></div>\n",
       "            <script type=\"text/javascript\">\n",
       "                require([\"plotly\"], function(Plotly) {\n",
       "                    window.PLOTLYENV=window.PLOTLYENV || {};\n",
       "                    window.PLOTLYENV.BASE_URL='https://plot.ly';\n",
       "                    \n",
       "                if (document.getElementById(\"d3d55042-6ccf-4494-9f3b-0a9ec6604d19\")) {\n",
       "                    Plotly.newPlot(\n",
       "                        'd3d55042-6ccf-4494-9f3b-0a9ec6604d19',\n",
       "                        [{\"line\": {\"color\": \"rgba(255, 153, 51, 1.0)\", \"dash\": \"solid\", \"shape\": \"linear\", \"width\": 1.3}, \"mode\": \"lines\", \"name\": \"Total page views (desktop)\", \"text\": \"\", \"type\": \"scatter\", \"uid\": \"80383281-d989-4857-807d-f17aa2c04cad\", \"x\": [\"2018-06-30\", \"2018-07-31\", \"2018-08-31\", \"2018-09-30\", \"2018-10-31\", \"2018-11-30\", \"2018-12-31\", \"2019-01-31\", \"2019-02-28\", \"2019-03-31\", \"2019-04-30\", \"2019-05-31\", \"2019-06-30\"], \"y\": [0.0, 0.0, 0.0, 0.0, 0.0, 0.0, 0.0, 0.0, 6.821428571428571, 6.741935483870968, 8.433333333333334, 10.35483870967742, 10.2]}, {\"line\": {\"color\": \"rgba(55, 128, 191, 1.0)\", \"dash\": \"solid\", \"shape\": \"linear\", \"width\": 1.3}, \"mode\": \"lines\", \"name\": \"Total page views (mobile)\", \"text\": \"\", \"type\": \"scatter\", \"uid\": \"8a412da8-e410-41c5-aa6d-7bcbca0685ca\", \"x\": [\"2018-06-30\", \"2018-07-31\", \"2018-08-31\", \"2018-09-30\", \"2018-10-31\", \"2018-11-30\", \"2018-12-31\", \"2019-01-31\", \"2019-02-28\", \"2019-03-31\", \"2019-04-30\", \"2019-05-31\", \"2019-06-30\"], \"y\": [0.0, 0.0, 0.0, 0.0, 0.0, 0.0, 0.0, 0.0, 0.8928571428571429, 0.7096774193548387, 0.7666666666666667, 2.064516129032258, 2.0]}, {\"line\": {\"color\": \"rgba(50, 171, 96, 1.0)\", \"dash\": \"solid\", \"shape\": \"linear\", \"width\": 1.3}, \"mode\": \"lines\", \"name\": \"Total unique visitors (mobile)\", \"text\": \"\", \"type\": \"scatter\", \"uid\": \"bc9043bf-588f-4e11-85f3-964ac1ef488b\", \"x\": [\"2018-06-30\", \"2018-07-31\", \"2018-08-31\", \"2018-09-30\", \"2018-10-31\", \"2018-11-30\", \"2018-12-31\", \"2019-01-31\", \"2019-02-28\", \"2019-03-31\", \"2019-04-30\", \"2019-05-31\", \"2019-06-30\"], \"y\": [0.0, 0.0, 0.0, 0.0, 0.0, 0.0, 0.0, 0.0, 0.5357142857142857, 0.3870967741935484, 0.5333333333333333, 1.3225806451612903, 1.2]}, {\"line\": {\"color\": \"rgba(128, 0, 128, 1.0)\", \"dash\": \"solid\", \"shape\": \"linear\", \"width\": 1.3}, \"mode\": \"lines\", \"name\": \"Total unique visitors (desktop)\", \"text\": \"\", \"type\": \"scatter\", \"uid\": \"13dfd9ce-9d7d-4b78-b0dc-3e853ec528b9\", \"x\": [\"2018-06-30\", \"2018-07-31\", \"2018-08-31\", \"2018-09-30\", \"2018-10-31\", \"2018-11-30\", \"2018-12-31\", \"2019-01-31\", \"2019-02-28\", \"2019-03-31\", \"2019-04-30\", \"2019-05-31\", \"2019-06-30\"], \"y\": [0.0, 0.0, 0.0, 0.0, 0.0, 0.0, 0.0, 0.0, 2.9642857142857144, 3.129032258064516, 4.633333333333334, 4.870967741935484, 4.9]}],\n",
       "                        {\"legend\": {\"bgcolor\": \"#F5F6F9\", \"font\": {\"color\": \"#4D5663\"}}, \"paper_bgcolor\": \"#F5F6F9\", \"plot_bgcolor\": \"#F5F6F9\", \"title\": {\"font\": {\"color\": \"#4D5663\"}, \"text\": \"Monthly Page Views\"}, \"xaxis\": {\"gridcolor\": \"#E1E5ED\", \"showgrid\": true, \"tickfont\": {\"color\": \"#4D5663\"}, \"title\": {\"font\": {\"color\": \"#4D5663\"}, \"text\": \"Date\"}, \"zerolinecolor\": \"#E1E5ED\"}, \"yaxis\": {\"gridcolor\": \"#E1E5ED\", \"showgrid\": true, \"tickfont\": {\"color\": \"#4D5663\"}, \"title\": {\"font\": {\"color\": \"#4D5663\"}, \"text\": \"Average Views\"}, \"zerolinecolor\": \"#E1E5ED\"}},\n",
       "                        {\"showLink\": true, \"linkText\": \"Export to plot.ly\", \"plotlyServerURL\": \"https://plot.ly\", \"responsive\": true}\n",
       "                    ).then(function(){\n",
       "                            \n",
       "var gd = document.getElementById('d3d55042-6ccf-4494-9f3b-0a9ec6604d19');\n",
       "var x = new MutationObserver(function (mutations, observer) {{\n",
       "        var display = window.getComputedStyle(gd).display;\n",
       "        if (!display || display === 'none') {{\n",
       "            console.log([gd, 'removed!']);\n",
       "            Plotly.purge(gd);\n",
       "            observer.disconnect();\n",
       "        }}\n",
       "}});\n",
       "\n",
       "// Listen for the removal of the full notebook cells\n",
       "var notebookContainer = gd.closest('#notebook-container');\n",
       "if (notebookContainer) {{\n",
       "    x.observe(notebookContainer, {childList: true});\n",
       "}}\n",
       "\n",
       "// Listen for the clearing of the current output cell\n",
       "var outputEl = gd.closest('.output');\n",
       "if (outputEl) {{\n",
       "    x.observe(outputEl, {childList: true});\n",
       "}}\n",
       "\n",
       "                        })\n",
       "                };\n",
       "                });\n",
       "            </script>\n",
       "        </div>"
      ]
     },
     "metadata": {},
     "output_type": "display_data"
    }
   ],
   "source": [
    "page_views_df = visitor_metrics_df[['Total page views (desktop)', 'Total page views (mobile)','Total unique visitors (mobile)',\n",
    "                                    'Total unique visitors (desktop)',\n",
    "          'Date']].set_index('Date').resample('M').mean()\n",
    "\n",
    "page_views_df.iplot(\n",
    "    kind='line',\n",
    "    xTitle='Date',\n",
    "    yTitle='Average Views',\n",
    "    title='Monthly Page Views')"
   ]
  },
  {
   "cell_type": "code",
   "execution_count": 230,
   "metadata": {},
   "outputs": [
    {
     "data": {
      "application/vnd.plotly.v1+json": {
       "config": {
        "linkText": "Export to plot.ly",
        "plotlyServerURL": "https://plot.ly",
        "showLink": true
       },
       "data": [
        {
         "marker": {
          "color": "rgba(255, 153, 51, 1.0)",
          "line": {
           "width": 1.3
          },
          "opacity": 0.8,
          "size": [
           12
          ],
          "symbol": "circle"
         },
         "mode": "markers",
         "name": "Defense & Space",
         "textfont": {
          "color": "#4D5663"
         },
         "type": "scatter",
         "uid": "83f1dda6-991f-4d06-91d8-e8ac4838b31d",
         "x": [
          2
         ],
         "y": [
          "Defense & Space"
         ]
        },
        {
         "marker": {
          "color": "rgba(55, 128, 191, 1.0)",
          "line": {
           "width": 1.3
          },
          "opacity": 0.8,
          "size": [
           38
          ],
          "symbol": "circle"
         },
         "mode": "markers",
         "name": "Computer Software",
         "textfont": {
          "color": "#4D5663"
         },
         "type": "scatter",
         "uid": "b96add59-981d-4808-a485-41b417b723ee",
         "x": [
          46
         ],
         "y": [
          "Computer Software"
         ]
        },
        {
         "marker": {
          "color": "rgba(50, 171, 96, 1.0)",
          "line": {
           "width": 1.3
          },
          "opacity": 0.8,
          "size": [
           12
          ],
          "symbol": "circle"
         },
         "mode": "markers",
         "name": "Computer Networking",
         "textfont": {
          "color": "#4D5663"
         },
         "type": "scatter",
         "uid": "e544f9a0-0b51-4804-844e-2e2b7f6b6e4f",
         "x": [
          2
         ],
         "y": [
          "Computer Networking"
         ]
        },
        {
         "marker": {
          "color": "rgba(128, 0, 128, 1.0)",
          "line": {
           "width": 1.3
          },
          "opacity": 0.8,
          "size": [
           25
          ],
          "symbol": "circle"
         },
         "mode": "markers",
         "name": "Internet",
         "textfont": {
          "color": "#4D5663"
         },
         "type": "scatter",
         "uid": "bdde0fd2-b421-4f68-9346-c31ee29d5e51",
         "x": [
          24
         ],
         "y": [
          "Internet"
         ]
        },
        {
         "marker": {
          "color": "rgba(219, 64, 82, 1.0)",
          "line": {
           "width": 1.3
          },
          "opacity": 0.8,
          "size": [
           12
          ],
          "symbol": "circle"
         },
         "mode": "markers",
         "name": "Semiconductors",
         "textfont": {
          "color": "#4D5663"
         },
         "type": "scatter",
         "uid": "2c427983-28ea-454d-ba5e-2a1addac7a27",
         "x": [
          2
         ],
         "y": [
          "Semiconductors"
         ]
        },
        {
         "marker": {
          "color": "rgba(0, 128, 128, 1.0)",
          "line": {
           "width": 1.3
          },
          "opacity": 0.8,
          "size": [
           16
          ],
          "symbol": "circle"
         },
         "mode": "markers",
         "name": "Telecommunications",
         "textfont": {
          "color": "#4D5663"
         },
         "type": "scatter",
         "uid": "2bb6fba3-d6cf-4d51-bc3d-d887729358ae",
         "x": [
          9
         ],
         "y": [
          "Telecommunications"
         ]
        },
        {
         "marker": {
          "color": "rgba(255, 255, 51, 1.0)",
          "line": {
           "width": 1.3
          },
          "opacity": 0.8,
          "size": [
           15
          ],
          "symbol": "circle"
         },
         "mode": "markers",
         "name": "Law Practice",
         "textfont": {
          "color": "#4D5663"
         },
         "type": "scatter",
         "uid": "9a821596-e29f-43e7-9cea-130f71b37f8b",
         "x": [
          7
         ],
         "y": [
          "Law Practice"
         ]
        },
        {
         "marker": {
          "color": "rgba(128, 128, 0, 1.0)",
          "line": {
           "width": 1.3
          },
          "opacity": 0.8,
          "size": [
           12
          ],
          "symbol": "circle"
         },
         "mode": "markers",
         "name": "Legal Services",
         "textfont": {
          "color": "#4D5663"
         },
         "type": "scatter",
         "uid": "27a5417d-3e68-4881-b16a-b713516b0270",
         "x": [
          2
         ],
         "y": [
          "Legal Services"
         ]
        },
        {
         "marker": {
          "color": "rgba(251, 128, 114, 1.0)",
          "line": {
           "width": 1.3
          },
          "opacity": 0.8,
          "size": [
           16
          ],
          "symbol": "circle"
         },
         "mode": "markers",
         "name": "Management Consulting",
         "textfont": {
          "color": "#4D5663"
         },
         "type": "scatter",
         "uid": "c60ee949-7ca2-47eb-8412-5c9ecc3b0bae",
         "x": [
          9
         ],
         "y": [
          "Management Consulting"
         ]
        },
        {
         "marker": {
          "color": "rgba(128, 177, 211, 1.0)",
          "line": {
           "width": 1.3
          },
          "opacity": 0.8,
          "size": [
           13
          ],
          "symbol": "circle"
         },
         "mode": "markers",
         "name": "Medical Practice",
         "textfont": {
          "color": "#4D5663"
         },
         "type": "scatter",
         "uid": "b75b316b-a38d-4f9c-a206-6d0d427ac680",
         "x": [
          3
         ],
         "y": [
          "Medical Practice"
         ]
        },
        {
         "marker": {
          "color": "rgba(128, 177, 211, 0.913978494623656)",
          "line": {
           "width": 1.3
          },
          "opacity": 0.8,
          "size": [
           20
          ],
          "symbol": "circle"
         },
         "mode": "markers",
         "name": "Hospital & Health Care",
         "textfont": {
          "color": "#4D5663"
         },
         "type": "scatter",
         "uid": "929cf6b8-8746-40ad-bdd0-cd5ef4fa5ace",
         "x": [
          15
         ],
         "y": [
          "Hospital & Health Care"
         ]
        },
        {
         "marker": {
          "color": "rgba(255, 153, 51, 0.913978494623656)",
          "line": {
           "width": 1.3
          },
          "opacity": 0.8,
          "size": [
           13
          ],
          "symbol": "circle"
         },
         "mode": "markers",
         "name": "Pharmaceuticals",
         "textfont": {
          "color": "#4D5663"
         },
         "type": "scatter",
         "uid": "31f64321-4a8e-45f6-9c66-ae67073b362b",
         "x": [
          3
         ],
         "y": [
          "Pharmaceuticals"
         ]
        },
        {
         "marker": {
          "color": "rgba(55, 128, 191, 0.913978494623656)",
          "line": {
           "width": 1.3
          },
          "opacity": 0.8,
          "size": [
           12
          ],
          "symbol": "circle"
         },
         "mode": "markers",
         "name": "Medical Devices",
         "textfont": {
          "color": "#4D5663"
         },
         "type": "scatter",
         "uid": "bc81ba09-e7d3-4f94-83de-ef2d1e8d4ba4",
         "x": [
          2
         ],
         "y": [
          "Medical Devices"
         ]
        },
        {
         "marker": {
          "color": "rgba(50, 171, 96, 0.913978494623656)",
          "line": {
           "width": 1.3
          },
          "opacity": 0.8,
          "size": [
           12
          ],
          "symbol": "circle"
         },
         "mode": "markers",
         "name": "Apparel & Fashion",
         "textfont": {
          "color": "#4D5663"
         },
         "type": "scatter",
         "uid": "a475375a-290d-49de-968f-16580b1d0c60",
         "x": [
          1
         ],
         "y": [
          "Apparel & Fashion"
         ]
        },
        {
         "marker": {
          "color": "rgba(128, 0, 128, 0.913978494623656)",
          "line": {
           "width": 1.3
          },
          "opacity": 0.8,
          "size": [
           12
          ],
          "symbol": "circle"
         },
         "mode": "markers",
         "name": "Sporting Goods",
         "textfont": {
          "color": "#4D5663"
         },
         "type": "scatter",
         "uid": "6a4e4003-b8f5-457c-a651-8e8800dd7b1c",
         "x": [
          1
         ],
         "y": [
          "Sporting Goods"
         ]
        },
        {
         "marker": {
          "color": "rgba(219, 64, 82, 0.913978494623656)",
          "line": {
           "width": 1.3
          },
          "opacity": 0.8,
          "size": [
           12
          ],
          "symbol": "circle"
         },
         "mode": "markers",
         "name": "Food Production",
         "textfont": {
          "color": "#4D5663"
         },
         "type": "scatter",
         "uid": "07386c21-1943-4f20-83e2-fbfeb08661d7",
         "x": [
          1
         ],
         "y": [
          "Food Production"
         ]
        },
        {
         "marker": {
          "color": "rgba(0, 128, 128, 0.913978494623656)",
          "line": {
           "width": 1.3
          },
          "opacity": 0.8,
          "size": [
           12
          ],
          "symbol": "circle"
         },
         "mode": "markers",
         "name": "Consumer Electronics",
         "textfont": {
          "color": "#4D5663"
         },
         "type": "scatter",
         "uid": "6a896d2b-953f-4948-b079-0847d59e880c",
         "x": [
          1
         ],
         "y": [
          "Consumer Electronics"
         ]
        },
        {
         "marker": {
          "color": "rgba(255, 255, 51, 0.913978494623656)",
          "line": {
           "width": 1.3
          },
          "opacity": 0.8,
          "size": [
           13
          ],
          "symbol": "circle"
         },
         "mode": "markers",
         "name": "Consumer Goods",
         "textfont": {
          "color": "#4D5663"
         },
         "type": "scatter",
         "uid": "e6cd0a98-1204-495a-82f1-aed2d57d8fce",
         "x": [
          4
         ],
         "y": [
          "Consumer Goods"
         ]
        },
        {
         "marker": {
          "color": "rgba(128, 128, 0, 0.913978494623656)",
          "line": {
           "width": 1.3
          },
          "opacity": 0.8,
          "size": [
           13
          ],
          "symbol": "circle"
         },
         "mode": "markers",
         "name": "Furniture",
         "textfont": {
          "color": "#4D5663"
         },
         "type": "scatter",
         "uid": "a7ecc111-eb40-416b-8869-1ac36cd734ae",
         "x": [
          3
         ],
         "y": [
          "Furniture"
         ]
        },
        {
         "marker": {
          "color": "rgba(251, 128, 114, 0.913978494623656)",
          "line": {
           "width": 1.3
          },
          "opacity": 0.8,
          "size": [
           20
          ],
          "symbol": "circle"
         },
         "mode": "markers",
         "name": "Retail",
         "textfont": {
          "color": "#4D5663"
         },
         "type": "scatter",
         "uid": "485dce38-6740-45b9-a0eb-5ef98cd437f3",
         "x": [
          16
         ],
         "y": [
          "Retail"
         ]
        },
        {
         "marker": {
          "color": "rgba(251, 128, 114, 0.8279569892473118)",
          "line": {
           "width": 1.3
          },
          "opacity": 0.8,
          "size": [
           12
          ],
          "symbol": "circle"
         },
         "mode": "markers",
         "name": "Gambling & Casinos",
         "textfont": {
          "color": "#4D5663"
         },
         "type": "scatter",
         "uid": "dba3e821-afab-4d7a-9744-dbf7c711a285",
         "x": [
          2
         ],
         "y": [
          "Gambling & Casinos"
         ]
        },
        {
         "marker": {
          "color": "rgba(128, 177, 211, 0.8279569892473118)",
          "line": {
           "width": 1.3
          },
          "opacity": 0.8,
          "size": [
           12
          ],
          "symbol": "circle"
         },
         "mode": "markers",
         "name": "Leisure, Travel & Tourism",
         "textfont": {
          "color": "#4D5663"
         },
         "type": "scatter",
         "uid": "8afff796-98b4-4fe0-ab9c-8029dbc97da7",
         "x": [
          1
         ],
         "y": [
          "Leisure, Travel & Tourism"
         ]
        },
        {
         "marker": {
          "color": "rgba(255, 153, 51, 0.8279569892473118)",
          "line": {
           "width": 1.3
          },
          "opacity": 0.8,
          "size": [
           15
          ],
          "symbol": "circle"
         },
         "mode": "markers",
         "name": "Hospitality",
         "textfont": {
          "color": "#4D5663"
         },
         "type": "scatter",
         "uid": "5b4c8973-f1f2-441e-8dbf-1207076f2392",
         "x": [
          7
         ],
         "y": [
          "Hospitality"
         ]
        },
        {
         "marker": {
          "color": "rgba(55, 128, 191, 0.8279569892473118)",
          "line": {
           "width": 1.3
          },
          "opacity": 0.8,
          "size": [
           14
          ],
          "symbol": "circle"
         },
         "mode": "markers",
         "name": "Restaurants",
         "textfont": {
          "color": "#4D5663"
         },
         "type": "scatter",
         "uid": "854707d0-0d80-4a58-bafd-edc60d3c0a0f",
         "x": [
          5
         ],
         "y": [
          "Restaurants"
         ]
        },
        {
         "marker": {
          "color": "rgba(50, 171, 96, 0.8279569892473118)",
          "line": {
           "width": 1.3
          },
          "opacity": 0.8,
          "size": [
           14
          ],
          "symbol": "circle"
         },
         "mode": "markers",
         "name": "Sports",
         "textfont": {
          "color": "#4D5663"
         },
         "type": "scatter",
         "uid": "3793fca5-38fa-4f4d-87af-5002e14c439e",
         "x": [
          5
         ],
         "y": [
          "Sports"
         ]
        },
        {
         "marker": {
          "color": "rgba(128, 0, 128, 0.8279569892473118)",
          "line": {
           "width": 1.3
          },
          "opacity": 0.8,
          "size": [
           14
          ],
          "symbol": "circle"
         },
         "mode": "markers",
         "name": "Food & Beverages",
         "textfont": {
          "color": "#4D5663"
         },
         "type": "scatter",
         "uid": "bb1db890-884c-424f-9cc2-6497f55df823",
         "x": [
          5
         ],
         "y": [
          "Food & Beverages"
         ]
        },
        {
         "marker": {
          "color": "rgba(219, 64, 82, 0.8279569892473118)",
          "line": {
           "width": 1.3
          },
          "opacity": 0.8,
          "size": [
           12
          ],
          "symbol": "circle"
         },
         "mode": "markers",
         "name": "Motion Pictures and Film",
         "textfont": {
          "color": "#4D5663"
         },
         "type": "scatter",
         "uid": "ed33d4d9-b08f-4307-a90a-e45f7c0d7e8c",
         "x": [
          2
         ],
         "y": [
          "Motion Pictures and Film"
         ]
        },
        {
         "marker": {
          "color": "rgba(0, 128, 128, 0.8279569892473118)",
          "line": {
           "width": 1.3
          },
          "opacity": 0.8,
          "size": [
           16
          ],
          "symbol": "circle"
         },
         "mode": "markers",
         "name": "Broadcast Media",
         "textfont": {
          "color": "#4D5663"
         },
         "type": "scatter",
         "uid": "3a117d67-c20b-4f04-85b2-5efa62f912df",
         "x": [
          8
         ],
         "y": [
          "Broadcast Media"
         ]
        },
        {
         "marker": {
          "color": "rgba(255, 255, 51, 0.8279569892473118)",
          "line": {
           "width": 1.3
          },
          "opacity": 0.8,
          "size": [
           12
          ],
          "symbol": "circle"
         },
         "mode": "markers",
         "name": "Museums and Institutions",
         "textfont": {
          "color": "#4D5663"
         },
         "type": "scatter",
         "uid": "d5f3781e-f4c6-4096-94fb-f34ee4274f36",
         "x": [
          1
         ],
         "y": [
          "Museums and Institutions"
         ]
        },
        {
         "marker": {
          "color": "rgba(128, 128, 0, 0.8279569892473118)",
          "line": {
           "width": 1.3
          },
          "opacity": 0.8,
          "size": [
           12
          ],
          "symbol": "circle"
         },
         "mode": "markers",
         "name": "Fine Art",
         "textfont": {
          "color": "#4D5663"
         },
         "type": "scatter",
         "uid": "dad7e3f5-664e-4556-a509-67fc5c3eb202",
         "x": [
          1
         ],
         "y": [
          "Fine Art"
         ]
        },
        {
         "marker": {
          "color": "rgba(128, 128, 0, 0.7419354838709677)",
          "line": {
           "width": 1.3
          },
          "opacity": 0.8,
          "size": [
           13
          ],
          "symbol": "circle"
         },
         "mode": "markers",
         "name": "Insurance",
         "textfont": {
          "color": "#4D5663"
         },
         "type": "scatter",
         "uid": "cba7f4b3-1c34-44d3-97c8-a6ce9ce58a19",
         "x": [
          3
         ],
         "y": [
          "Insurance"
         ]
        },
        {
         "marker": {
          "color": "rgba(251, 128, 114, 0.7419354838709677)",
          "line": {
           "width": 1.3
          },
          "opacity": 0.8,
          "size": [
           14
          ],
          "symbol": "circle"
         },
         "mode": "markers",
         "name": "Financial Services",
         "textfont": {
          "color": "#4D5663"
         },
         "type": "scatter",
         "uid": "dcde8666-2a6a-4fd0-a8ac-d4e70145b28f",
         "x": [
          5
         ],
         "y": [
          "Financial Services"
         ]
        },
        {
         "marker": {
          "color": "rgba(128, 177, 211, 0.7419354838709677)",
          "line": {
           "width": 1.3
          },
          "opacity": 0.8,
          "size": [
           13
          ],
          "symbol": "circle"
         },
         "mode": "markers",
         "name": "Real Estate",
         "textfont": {
          "color": "#4D5663"
         },
         "type": "scatter",
         "uid": "5a31218a-8862-43d6-9003-ade9e0649f36",
         "x": [
          3
         ],
         "y": [
          "Real Estate"
         ]
        },
        {
         "marker": {
          "color": "rgba(255, 153, 51, 0.7419354838709677)",
          "line": {
           "width": 1.3
          },
          "opacity": 0.8,
          "size": [
           12
          ],
          "symbol": "circle"
         },
         "mode": "markers",
         "name": "Investment Management",
         "textfont": {
          "color": "#4D5663"
         },
         "type": "scatter",
         "uid": "d95c9aa7-0e5e-4bbe-a32c-3dcac81a3399",
         "x": [
          1
         ],
         "y": [
          "Investment Management"
         ]
        },
        {
         "marker": {
          "color": "rgba(55, 128, 191, 0.7419354838709677)",
          "line": {
           "width": 1.3
          },
          "opacity": 0.8,
          "size": [
           19
          ],
          "symbol": "circle"
         },
         "mode": "markers",
         "name": "Accounting",
         "textfont": {
          "color": "#4D5663"
         },
         "type": "scatter",
         "uid": "0ff33e13-f2e9-480d-98c7-3add11cac6f0",
         "x": [
          13
         ],
         "y": [
          "Accounting"
         ]
        },
        {
         "marker": {
          "color": "rgba(50, 171, 96, 0.7419354838709677)",
          "line": {
           "width": 1.3
          },
          "opacity": 0.8,
          "size": [
           16
          ],
          "symbol": "circle"
         },
         "mode": "markers",
         "name": "Construction",
         "textfont": {
          "color": "#4D5663"
         },
         "type": "scatter",
         "uid": "93f8c167-c048-4d14-97e4-d8056fc179ef",
         "x": [
          8
         ],
         "y": [
          "Construction"
         ]
        },
        {
         "marker": {
          "color": "rgba(128, 0, 128, 0.7419354838709677)",
          "line": {
           "width": 1.3
          },
          "opacity": 0.8,
          "size": [
           13
          ],
          "symbol": "circle"
         },
         "mode": "markers",
         "name": "Architecture & Planning",
         "textfont": {
          "color": "#4D5663"
         },
         "type": "scatter",
         "uid": "212c8686-a6ea-449e-8ffc-6fcabd0b9cb5",
         "x": [
          4
         ],
         "y": [
          "Architecture & Planning"
         ]
        },
        {
         "marker": {
          "color": "rgba(219, 64, 82, 0.7419354838709677)",
          "line": {
           "width": 1.3
          },
          "opacity": 0.8,
          "size": [
           12
          ],
          "symbol": "circle"
         },
         "mode": "markers",
         "name": "Civil Engineering",
         "textfont": {
          "color": "#4D5663"
         },
         "type": "scatter",
         "uid": "79f68fc2-80e7-4fe1-b5a0-9320268d24c3",
         "x": [
          2
         ],
         "y": [
          "Civil Engineering"
         ]
        },
        {
         "marker": {
          "color": "rgba(0, 128, 128, 0.7419354838709677)",
          "line": {
           "width": 1.3
          },
          "opacity": 0.8,
          "size": [
           14
          ],
          "symbol": "circle"
         },
         "mode": "markers",
         "name": "Automotive",
         "textfont": {
          "color": "#4D5663"
         },
         "type": "scatter",
         "uid": "c5cc9a97-03b8-4e6b-937a-421d20cee525",
         "x": [
          5
         ],
         "y": [
          "Automotive"
         ]
        },
        {
         "marker": {
          "color": "rgba(255, 255, 51, 0.7419354838709677)",
          "line": {
           "width": 1.3
          },
          "opacity": 0.8,
          "size": [
           17
          ],
          "symbol": "circle"
         },
         "mode": "markers",
         "name": "Machinery",
         "textfont": {
          "color": "#4D5663"
         },
         "type": "scatter",
         "uid": "921bcfba-e33c-49f9-981c-967f892ba386",
         "x": [
          11
         ],
         "y": [
          "Machinery"
         ]
        },
        {
         "marker": {
          "color": "rgba(255, 255, 51, 0.6559139784946237)",
          "line": {
           "width": 1.3
          },
          "opacity": 0.8,
          "size": [
           12
          ],
          "symbol": "circle"
         },
         "mode": "markers",
         "name": "Oil & Energy",
         "textfont": {
          "color": "#4D5663"
         },
         "type": "scatter",
         "uid": "0fd41e3b-cb9f-4406-a63d-5d2d41281b0b",
         "x": [
          1
         ],
         "y": [
          "Oil & Energy"
         ]
        },
        {
         "marker": {
          "color": "rgba(128, 128, 0, 0.6559139784946237)",
          "line": {
           "width": 1.3
          },
          "opacity": 0.8,
          "size": [
           12
          ],
          "symbol": "circle"
         },
         "mode": "markers",
         "name": "Farming",
         "textfont": {
          "color": "#4D5663"
         },
         "type": "scatter",
         "uid": "6aee6f7f-cc56-4e81-8101-8b15b8caa85e",
         "x": [
          1
         ],
         "y": [
          "Farming"
         ]
        },
        {
         "marker": {
          "color": "rgba(251, 128, 114, 0.6559139784946237)",
          "line": {
           "width": 1.3
          },
          "opacity": 0.8,
          "size": [
           12
          ],
          "symbol": "circle"
         },
         "mode": "markers",
         "name": "Dairy",
         "textfont": {
          "color": "#4D5663"
         },
         "type": "scatter",
         "uid": "5fc9c5f8-b83f-4236-9f9f-f049765ce5ba",
         "x": [
          2
         ],
         "y": [
          "Dairy"
         ]
        },
        {
         "marker": {
          "color": "rgba(128, 177, 211, 0.6559139784946237)",
          "line": {
           "width": 1.3
          },
          "opacity": 0.8,
          "size": [
           13
          ],
          "symbol": "circle"
         },
         "mode": "markers",
         "name": "Primary/Secondary Education",
         "textfont": {
          "color": "#4D5663"
         },
         "type": "scatter",
         "uid": "11080960-efe6-4e9c-b0af-aa13dd277973",
         "x": [
          3
         ],
         "y": [
          "Primary/Secondary Education"
         ]
        },
        {
         "marker": {
          "color": "rgba(255, 153, 51, 0.6559139784946237)",
          "line": {
           "width": 1.3
          },
          "opacity": 0.8,
          "size": [
           112
          ],
          "symbol": "circle"
         },
         "mode": "markers",
         "name": "Higher Education",
         "textfont": {
          "color": "#4D5663"
         },
         "type": "scatter",
         "uid": "17527b1b-1fbf-4ab5-a348-a5b1389babe1",
         "x": [
          168
         ],
         "y": [
          "Higher Education"
         ]
        },
        {
         "marker": {
          "color": "rgba(55, 128, 191, 0.6559139784946237)",
          "line": {
           "width": 1.3
          },
          "opacity": 0.8,
          "size": [
           14
          ],
          "symbol": "circle"
         },
         "mode": "markers",
         "name": "Education Management",
         "textfont": {
          "color": "#4D5663"
         },
         "type": "scatter",
         "uid": "0b397fa3-8887-4a34-a3da-fbb2eb09718c",
         "x": [
          5
         ],
         "y": [
          "Education Management"
         ]
        },
        {
         "marker": {
          "color": "rgba(50, 171, 96, 0.6559139784946237)",
          "line": {
           "width": 1.3
          },
          "opacity": 0.8,
          "size": [
           21
          ],
          "symbol": "circle"
         },
         "mode": "markers",
         "name": "Research",
         "textfont": {
          "color": "#4D5663"
         },
         "type": "scatter",
         "uid": "17004c21-5f7e-4056-a989-5cfd0798b70c",
         "x": [
          17
         ],
         "y": [
          "Research"
         ]
        },
        {
         "marker": {
          "color": "rgba(128, 0, 128, 0.6559139784946237)",
          "line": {
           "width": 1.3
          },
          "opacity": 0.8,
          "size": [
           12
          ],
          "symbol": "circle"
         },
         "mode": "markers",
         "name": "Military",
         "textfont": {
          "color": "#4D5663"
         },
         "type": "scatter",
         "uid": "8aa8be2d-3fe3-41cb-98bb-9f19745a5183",
         "x": [
          2
         ],
         "y": [
          "Military"
         ]
        },
        {
         "marker": {
          "color": "rgba(219, 64, 82, 0.6559139784946237)",
          "line": {
           "width": 1.3
          },
          "opacity": 0.8,
          "size": [
           13
          ],
          "symbol": "circle"
         },
         "mode": "markers",
         "name": "Government Administration",
         "textfont": {
          "color": "#4D5663"
         },
         "type": "scatter",
         "uid": "65b2f77b-7910-4804-9482-15f209ea0dc5",
         "x": [
          3
         ],
         "y": [
          "Government Administration"
         ]
        },
        {
         "marker": {
          "color": "rgba(0, 128, 128, 0.6559139784946237)",
          "line": {
           "width": 1.3
          },
          "opacity": 0.8,
          "size": [
           13
          ],
          "symbol": "circle"
         },
         "mode": "markers",
         "name": "Executive Office",
         "textfont": {
          "color": "#4D5663"
         },
         "type": "scatter",
         "uid": "5e30e11e-e509-4d40-a27f-53263bafe5c4",
         "x": [
          4
         ],
         "y": [
          "Executive Office"
         ]
        },
        {
         "marker": {
          "color": "rgba(0, 128, 128, 0.5698924731182797)",
          "line": {
           "width": 1.3
          },
          "opacity": 0.8,
          "size": [
           12
          ],
          "symbol": "circle"
         },
         "mode": "markers",
         "name": "Law Enforcement",
         "textfont": {
          "color": "#4D5663"
         },
         "type": "scatter",
         "uid": "6b139daa-7f4e-428f-a8d8-da9127527bb2",
         "x": [
          1
         ],
         "y": [
          "Law Enforcement"
         ]
        },
        {
         "marker": {
          "color": "rgba(255, 255, 51, 0.5698924731182797)",
          "line": {
           "width": 1.3
          },
          "opacity": 0.8,
          "size": [
           12
          ],
          "symbol": "circle"
         },
         "mode": "markers",
         "name": "Public Safety",
         "textfont": {
          "color": "#4D5663"
         },
         "type": "scatter",
         "uid": "3a222c54-e14c-447c-8477-4684b9e9b171",
         "x": [
          1
         ],
         "y": [
          "Public Safety"
         ]
        },
        {
         "marker": {
          "color": "rgba(128, 128, 0, 0.5698924731182797)",
          "line": {
           "width": 1.3
          },
          "opacity": 0.8,
          "size": [
           12
          ],
          "symbol": "circle"
         },
         "mode": "markers",
         "name": "Public Policy",
         "textfont": {
          "color": "#4D5663"
         },
         "type": "scatter",
         "uid": "bb30881a-c7b7-4363-8caa-688f04552a4c",
         "x": [
          1
         ],
         "y": [
          "Public Policy"
         ]
        },
        {
         "marker": {
          "color": "rgba(251, 128, 114, 0.5698924731182797)",
          "line": {
           "width": 1.3
          },
          "opacity": 0.8,
          "size": [
           77
          ],
          "symbol": "circle"
         },
         "mode": "markers",
         "name": "Marketing and Advertising",
         "textfont": {
          "color": "#4D5663"
         },
         "type": "scatter",
         "uid": "bf39b1de-a1b0-4645-9f17-c2ad24919251",
         "x": [
          110
         ],
         "y": [
          "Marketing and Advertising"
         ]
        },
        {
         "marker": {
          "color": "rgba(128, 177, 211, 0.5698924731182797)",
          "line": {
           "width": 1.3
          },
          "opacity": 0.8,
          "size": [
           12
          ],
          "symbol": "circle"
         },
         "mode": "markers",
         "name": "Newspapers",
         "textfont": {
          "color": "#4D5663"
         },
         "type": "scatter",
         "uid": "341359ca-6817-4b7f-9260-dc61ca4e459f",
         "x": [
          1
         ],
         "y": [
          "Newspapers"
         ]
        },
        {
         "marker": {
          "color": "rgba(255, 153, 51, 0.5698924731182797)",
          "line": {
           "width": 1.3
          },
          "opacity": 0.8,
          "size": [
           13
          ],
          "symbol": "circle"
         },
         "mode": "markers",
         "name": "Publishing",
         "textfont": {
          "color": "#4D5663"
         },
         "type": "scatter",
         "uid": "6fea38c5-9326-421d-90f1-0ef052e2d369",
         "x": [
          3
         ],
         "y": [
          "Publishing"
         ]
        },
        {
         "marker": {
          "color": "rgba(55, 128, 191, 0.5698924731182797)",
          "line": {
           "width": 1.3
          },
          "opacity": 0.8,
          "size": [
           15
          ],
          "symbol": "circle"
         },
         "mode": "markers",
         "name": "Information Services",
         "textfont": {
          "color": "#4D5663"
         },
         "type": "scatter",
         "uid": "26914833-67a0-4a90-a121-25fb3d40bb44",
         "x": [
          7
         ],
         "y": [
          "Information Services"
         ]
        },
        {
         "marker": {
          "color": "rgba(50, 171, 96, 0.5698924731182797)",
          "line": {
           "width": 1.3
          },
          "opacity": 0.8,
          "size": [
           13
          ],
          "symbol": "circle"
         },
         "mode": "markers",
         "name": "Individual & Family Services",
         "textfont": {
          "color": "#4D5663"
         },
         "type": "scatter",
         "uid": "99769831-124d-45b1-945e-27f7b171838d",
         "x": [
          3
         ],
         "y": [
          "Individual & Family Services"
         ]
        },
        {
         "marker": {
          "color": "rgba(128, 0, 128, 0.5698924731182797)",
          "line": {
           "width": 1.3
          },
          "opacity": 0.8,
          "size": [
           12
          ],
          "symbol": "circle"
         },
         "mode": "markers",
         "name": "Religious Institutions",
         "textfont": {
          "color": "#4D5663"
         },
         "type": "scatter",
         "uid": "bdcb9dbd-e602-472c-affc-6327630947b0",
         "x": [
          1
         ],
         "y": [
          "Religious Institutions"
         ]
        },
        {
         "marker": {
          "color": "rgba(219, 64, 82, 0.5698924731182797)",
          "line": {
           "width": 1.3
          },
          "opacity": 0.8,
          "size": [
           12
          ],
          "symbol": "circle"
         },
         "mode": "markers",
         "name": "Civic & Social Organization",
         "textfont": {
          "color": "#4D5663"
         },
         "type": "scatter",
         "uid": "799cd20d-e084-4fa0-84cc-8e9e27f10987",
         "x": [
          1
         ],
         "y": [
          "Civic & Social Organization"
         ]
        },
        {
         "marker": {
          "color": "rgba(219, 64, 82, 0.48387096774193555)",
          "line": {
           "width": 1.3
          },
          "opacity": 0.8,
          "size": [
           13
          ],
          "symbol": "circle"
         },
         "mode": "markers",
         "name": "Transportation/Trucking/Railroad",
         "textfont": {
          "color": "#4D5663"
         },
         "type": "scatter",
         "uid": "42dea71e-cba6-4cce-a91a-b573ecb9b9ec",
         "x": [
          4
         ],
         "y": [
          "Transportation/Trucking/Railroad"
         ]
        },
        {
         "marker": {
          "color": "rgba(0, 128, 128, 0.48387096774193555)",
          "line": {
           "width": 1.3
          },
          "opacity": 0.8,
          "size": [
           12
          ],
          "symbol": "circle"
         },
         "mode": "markers",
         "name": "Warehousing",
         "textfont": {
          "color": "#4D5663"
         },
         "type": "scatter",
         "uid": "47c21938-e3c9-4d8f-9c00-548004b35155",
         "x": [
          2
         ],
         "y": [
          "Warehousing"
         ]
        },
        {
         "marker": {
          "color": "rgba(255, 255, 51, 0.48387096774193555)",
          "line": {
           "width": 1.3
          },
          "opacity": 0.8,
          "size": [
           12
          ],
          "symbol": "circle"
         },
         "mode": "markers",
         "name": "Airlines/Aviation",
         "textfont": {
          "color": "#4D5663"
         },
         "type": "scatter",
         "uid": "c0a3c518-aaf4-482a-bcec-f83f932370c0",
         "x": [
          1
         ],
         "y": [
          "Airlines/Aviation"
         ]
        },
        {
         "marker": {
          "color": "rgba(128, 128, 0, 0.48387096774193555)",
          "line": {
           "width": 1.3
          },
          "opacity": 0.8,
          "size": [
           97
          ],
          "symbol": "circle"
         },
         "mode": "markers",
         "name": "Information Technology and Services",
         "textfont": {
          "color": "#4D5663"
         },
         "type": "scatter",
         "uid": "e2025284-55ad-4f3e-8e16-537e98bad954",
         "x": [
          144
         ],
         "y": [
          "Information Technology and Services"
         ]
        },
        {
         "marker": {
          "color": "rgba(251, 128, 114, 0.48387096774193555)",
          "line": {
           "width": 1.3
          },
          "opacity": 0.8,
          "size": [
           21
          ],
          "symbol": "circle"
         },
         "mode": "markers",
         "name": "Market Research",
         "textfont": {
          "color": "#4D5663"
         },
         "type": "scatter",
         "uid": "5345d117-9a02-42ce-8608-0cbc36a34bdb",
         "x": [
          17
         ],
         "y": [
          "Market Research"
         ]
        },
        {
         "marker": {
          "color": "rgba(128, 177, 211, 0.48387096774193555)",
          "line": {
           "width": 1.3
          },
          "opacity": 0.8,
          "size": [
           12
          ],
          "symbol": "circle"
         },
         "mode": "markers",
         "name": "Public Relations and Communications",
         "textfont": {
          "color": "#4D5663"
         },
         "type": "scatter",
         "uid": "d70d40c8-6d26-44f9-af5b-f9c7cebb1799",
         "x": [
          2
         ],
         "y": [
          "Public Relations and Communications"
         ]
        },
        {
         "marker": {
          "color": "rgba(255, 153, 51, 0.48387096774193555)",
          "line": {
           "width": 1.3
          },
          "opacity": 0.8,
          "size": [
           13
          ],
          "symbol": "circle"
         },
         "mode": "markers",
         "name": "Design",
         "textfont": {
          "color": "#4D5663"
         },
         "type": "scatter",
         "uid": "6c9e5640-6201-4cb8-8418-07cd77b75061",
         "x": [
          4
         ],
         "y": [
          "Design"
         ]
        },
        {
         "marker": {
          "color": "rgba(55, 128, 191, 0.48387096774193555)",
          "line": {
           "width": 1.3
          },
          "opacity": 0.8,
          "size": [
           15
          ],
          "symbol": "circle"
         },
         "mode": "markers",
         "name": "Nonprofit Organization Management",
         "textfont": {
          "color": "#4D5663"
         },
         "type": "scatter",
         "uid": "c52071c6-e185-43b5-99f3-6dc5445cd8b8",
         "x": [
          7
         ],
         "y": [
          "Nonprofit Organization Management"
         ]
        },
        {
         "marker": {
          "color": "rgba(50, 171, 96, 0.48387096774193555)",
          "line": {
           "width": 1.3
          },
          "opacity": 0.8,
          "size": [
           12
          ],
          "symbol": "circle"
         },
         "mode": "markers",
         "name": "Fund-Raising",
         "textfont": {
          "color": "#4D5663"
         },
         "type": "scatter",
         "uid": "c88081d8-f565-4eb6-9519-10ac17a16ae0",
         "x": [
          2
         ],
         "y": [
          "Fund-Raising"
         ]
        },
        {
         "marker": {
          "color": "rgba(128, 0, 128, 0.48387096774193555)",
          "line": {
           "width": 1.3
          },
          "opacity": 0.8,
          "size": [
           13
          ],
          "symbol": "circle"
         },
         "mode": "markers",
         "name": "Program Development",
         "textfont": {
          "color": "#4D5663"
         },
         "type": "scatter",
         "uid": "705b0942-15ac-4ae2-8f12-7fba06d22def",
         "x": [
          3
         ],
         "y": [
          "Program Development"
         ]
        },
        {
         "marker": {
          "color": "rgba(128, 0, 128, 0.39784946236559154)",
          "line": {
           "width": 1.3
          },
          "opacity": 0.8,
          "size": [
           12
          ],
          "symbol": "circle"
         },
         "mode": "markers",
         "name": "Writing and Editing",
         "textfont": {
          "color": "#4D5663"
         },
         "type": "scatter",
         "uid": "e80368f1-9474-480f-8c93-30381dd5ea46",
         "x": [
          2
         ],
         "y": [
          "Writing and Editing"
         ]
        },
        {
         "marker": {
          "color": "rgba(219, 64, 82, 0.39784946236559154)",
          "line": {
           "width": 1.3
          },
          "opacity": 0.8,
          "size": [
           16
          ],
          "symbol": "circle"
         },
         "mode": "markers",
         "name": "Staffing and Recruiting",
         "textfont": {
          "color": "#4D5663"
         },
         "type": "scatter",
         "uid": "144e79c1-b04a-4a79-8a27-edc50428329f",
         "x": [
          9
         ],
         "y": [
          "Staffing and Recruiting"
         ]
        },
        {
         "marker": {
          "color": "rgba(0, 128, 128, 0.39784946236559154)",
          "line": {
           "width": 1.3
          },
          "opacity": 0.8,
          "size": [
           13
          ],
          "symbol": "circle"
         },
         "mode": "markers",
         "name": "Venture Capital & Private Equity",
         "textfont": {
          "color": "#4D5663"
         },
         "type": "scatter",
         "uid": "1c9c5b18-927b-411c-8e00-8f85d9c615a9",
         "x": [
          3
         ],
         "y": [
          "Venture Capital & Private Equity"
         ]
        },
        {
         "marker": {
          "color": "rgba(255, 255, 51, 0.39784946236559154)",
          "line": {
           "width": 1.3
          },
          "opacity": 0.8,
          "size": [
           12
          ],
          "symbol": "circle"
         },
         "mode": "markers",
         "name": "Events Services",
         "textfont": {
          "color": "#4D5663"
         },
         "type": "scatter",
         "uid": "8bf06c2c-be47-4850-be54-329c88a823c8",
         "x": [
          2
         ],
         "y": [
          "Events Services"
         ]
        },
        {
         "marker": {
          "color": "rgba(128, 128, 0, 0.39784946236559154)",
          "line": {
           "width": 1.3
          },
          "opacity": 0.8,
          "size": [
           12
          ],
          "symbol": "circle"
         },
         "mode": "markers",
         "name": "Arts and Crafts",
         "textfont": {
          "color": "#4D5663"
         },
         "type": "scatter",
         "uid": "4dac287c-720c-4530-87b5-e9401582106a",
         "x": [
          1
         ],
         "y": [
          "Arts and Crafts"
         ]
        },
        {
         "marker": {
          "color": "rgba(251, 128, 114, 0.39784946236559154)",
          "line": {
           "width": 1.3
          },
          "opacity": 0.8,
          "size": [
           13
          ],
          "symbol": "circle"
         },
         "mode": "markers",
         "name": "Electrical/Electronic Manufacturing",
         "textfont": {
          "color": "#4D5663"
         },
         "type": "scatter",
         "uid": "cd191da8-ed1c-4fcc-8c43-9db72b3ce6fa",
         "x": [
          3
         ],
         "y": [
          "Electrical/Electronic Manufacturing"
         ]
        },
        {
         "marker": {
          "color": "rgba(128, 177, 211, 0.39784946236559154)",
          "line": {
           "width": 1.3
          },
          "opacity": 0.8,
          "size": [
           17
          ],
          "symbol": "circle"
         },
         "mode": "markers",
         "name": "Online Media",
         "textfont": {
          "color": "#4D5663"
         },
         "type": "scatter",
         "uid": "20ae0389-6f3f-4add-bd61-f22fea79c10e",
         "x": [
          10
         ],
         "y": [
          "Online Media"
         ]
        },
        {
         "marker": {
          "color": "rgba(255, 153, 51, 0.39784946236559154)",
          "line": {
           "width": 1.3
          },
          "opacity": 0.8,
          "size": [
           13
          ],
          "symbol": "circle"
         },
         "mode": "markers",
         "name": "Music",
         "textfont": {
          "color": "#4D5663"
         },
         "type": "scatter",
         "uid": "3eee7abf-699d-485f-b1dc-e249898af43e",
         "x": [
          3
         ],
         "y": [
          "Music"
         ]
        },
        {
         "marker": {
          "color": "rgba(55, 128, 191, 0.39784946236559154)",
          "line": {
           "width": 1.3
          },
          "opacity": 0.8,
          "size": [
           14
          ],
          "symbol": "circle"
         },
         "mode": "markers",
         "name": "Computer & Network Security",
         "textfont": {
          "color": "#4D5663"
         },
         "type": "scatter",
         "uid": "e9469efd-369a-4db7-9de0-385dbba8b989",
         "x": [
          6
         ],
         "y": [
          "Computer & Network Security"
         ]
        },
        {
         "marker": {
          "color": "rgba(50, 171, 96, 0.39784946236559154)",
          "line": {
           "width": 1.3
          },
          "opacity": 0.8,
          "size": [
           12
          ],
          "symbol": "circle"
         },
         "mode": "markers",
         "name": "Facilities Services",
         "textfont": {
          "color": "#4D5663"
         },
         "type": "scatter",
         "uid": "e973fb64-356f-48b8-8cb9-ece941cadb1d",
         "x": [
          2
         ],
         "y": [
          "Facilities Services"
         ]
        },
        {
         "marker": {
          "color": "rgba(50, 171, 96, 0.31182795698924753)",
          "line": {
           "width": 1.3
          },
          "opacity": 0.8,
          "size": [
           32
          ],
          "symbol": "circle"
         },
         "mode": "markers",
         "name": "Outsourcing/Offshoring",
         "textfont": {
          "color": "#4D5663"
         },
         "type": "scatter",
         "uid": "49cdd353-9ebe-4136-add0-c4de86b569a7",
         "x": [
          36
         ],
         "y": [
          "Outsourcing/Offshoring"
         ]
        },
        {
         "marker": {
          "color": "rgba(128, 0, 128, 0.31182795698924753)",
          "line": {
           "width": 1.3
          },
          "opacity": 0.8,
          "size": [
           13
          ],
          "symbol": "circle"
         },
         "mode": "markers",
         "name": "Health, Wellness and Fitness",
         "textfont": {
          "color": "#4D5663"
         },
         "type": "scatter",
         "uid": "2928e84a-f30a-46fd-b687-64b8b5c251bc",
         "x": [
          3
         ],
         "y": [
          "Health, Wellness and Fitness"
         ]
        },
        {
         "marker": {
          "color": "rgba(219, 64, 82, 0.31182795698924753)",
          "line": {
           "width": 1.3
          },
          "opacity": 0.8,
          "size": [
           12
          ],
          "symbol": "circle"
         },
         "mode": "markers",
         "name": "Media Production",
         "textfont": {
          "color": "#4D5663"
         },
         "type": "scatter",
         "uid": "c9ae0faf-d84d-4dd7-ad99-7c3d8d7aca65",
         "x": [
          2
         ],
         "y": [
          "Media Production"
         ]
        },
        {
         "marker": {
          "color": "rgba(0, 128, 128, 0.31182795698924753)",
          "line": {
           "width": 1.3
          },
          "opacity": 0.8,
          "size": [
           12
          ],
          "symbol": "circle"
         },
         "mode": "markers",
         "name": "Capital Markets",
         "textfont": {
          "color": "#4D5663"
         },
         "type": "scatter",
         "uid": "d4e3d7b6-9b55-4064-938c-862dc18fe588",
         "x": [
          1
         ],
         "y": [
          "Capital Markets"
         ]
        },
        {
         "marker": {
          "color": "rgba(255, 255, 51, 0.31182795698924753)",
          "line": {
           "width": 1.3
          },
          "opacity": 0.8,
          "size": [
           13
          ],
          "symbol": "circle"
         },
         "mode": "markers",
         "name": "Philanthropy",
         "textfont": {
          "color": "#4D5663"
         },
         "type": "scatter",
         "uid": "28a5d89b-3c05-4de5-abcf-5856d631a196",
         "x": [
          3
         ],
         "y": [
          "Philanthropy"
         ]
        },
        {
         "marker": {
          "color": "rgba(128, 128, 0, 0.31182795698924753)",
          "line": {
           "width": 1.3
          },
          "opacity": 0.8,
          "size": [
           12
          ],
          "symbol": "circle"
         },
         "mode": "markers",
         "name": "E-Learning",
         "textfont": {
          "color": "#4D5663"
         },
         "type": "scatter",
         "uid": "ee17869a-91df-4a70-b7aa-48d303550c7e",
         "x": [
          2
         ],
         "y": [
          "E-Learning"
         ]
        },
        {
         "marker": {
          "color": "rgba(251, 128, 114, 0.31182795698924753)",
          "line": {
           "width": 1.3
          },
          "opacity": 0.8,
          "size": [
           13
          ],
          "symbol": "circle"
         },
         "mode": "markers",
         "name": "Wholesale",
         "textfont": {
          "color": "#4D5663"
         },
         "type": "scatter",
         "uid": "976731a9-a7ca-479d-af52-ec70a5fc9f32",
         "x": [
          4
         ],
         "y": [
          "Wholesale"
         ]
        },
        {
         "marker": {
          "color": "rgba(128, 177, 211, 0.31182795698924753)",
          "line": {
           "width": 1.3
          },
          "opacity": 0.8,
          "size": [
           13
          ],
          "symbol": "circle"
         },
         "mode": "markers",
         "name": "Mechanical or Industrial Engineering",
         "textfont": {
          "color": "#4D5663"
         },
         "type": "scatter",
         "uid": "ceb21840-d7c6-4889-b950-da8f7ee9662a",
         "x": [
          4
         ],
         "y": [
          "Mechanical or Industrial Engineering"
         ]
        },
        {
         "marker": {
          "color": "rgba(255, 153, 51, 0.31182795698924753)",
          "line": {
           "width": 1.3
          },
          "opacity": 0.8,
          "size": [
           13
          ],
          "symbol": "circle"
         },
         "mode": "markers",
         "name": "Photography",
         "textfont": {
          "color": "#4D5663"
         },
         "type": "scatter",
         "uid": "5b419cc4-d001-4226-aa63-1ca977e27fe7",
         "x": [
          4
         ],
         "y": [
          "Photography"
         ]
        },
        {
         "marker": {
          "color": "rgba(55, 128, 191, 0.31182795698924753)",
          "line": {
           "width": 1.3
          },
          "opacity": 0.8,
          "size": [
           13
          ],
          "symbol": "circle"
         },
         "mode": "markers",
         "name": "Human Resources",
         "textfont": {
          "color": "#4D5663"
         },
         "type": "scatter",
         "uid": "5e3e97c7-ca2d-4008-9a89-20a20e6f7849",
         "x": [
          4
         ],
         "y": [
          "Human Resources"
         ]
        },
        {
         "marker": {
          "color": "rgba(55, 128, 191, 0.22580645161290352)",
          "line": {
           "width": 1.3
          },
          "opacity": 0.8,
          "size": [
           14
          ],
          "symbol": "circle"
         },
         "mode": "markers",
         "name": "Graphic Design",
         "textfont": {
          "color": "#4D5663"
         },
         "type": "scatter",
         "uid": "f11aa72d-2000-4836-b25a-4b87bcb7e130",
         "x": [
          6
         ],
         "y": [
          "Graphic Design"
         ]
        },
        {
         "marker": {
          "color": "rgba(50, 171, 96, 0.22580645161290352)",
          "line": {
           "width": 1.3
          },
          "opacity": 0.8,
          "size": [
           12
          ],
          "symbol": "circle"
         },
         "mode": "markers",
         "name": "Industrial Automation",
         "textfont": {
          "color": "#4D5663"
         },
         "type": "scatter",
         "uid": "e3db40f5-6781-4886-911c-18864ea06050",
         "x": [
          2
         ],
         "y": [
          "Industrial Automation"
         ]
        },
        {
         "marker": {
          "color": "rgba(128, 0, 128, 0.22580645161290352)",
          "line": {
           "width": 1.3
          },
          "opacity": 0.8,
          "size": [
           12
          ],
          "symbol": "circle"
         },
         "mode": "markers",
         "name": "Government Relations",
         "textfont": {
          "color": "#4D5663"
         },
         "type": "scatter",
         "uid": "315bdd16-ae00-4e2b-a284-c36fbe5cd7fd",
         "x": [
          1
         ],
         "y": [
          "Government Relations"
         ]
        }
       ],
       "layout": {
        "legend": {
         "bgcolor": "#F5F6F9",
         "font": {
          "color": "#4D5663"
         }
        },
        "paper_bgcolor": "#F5F6F9",
        "plot_bgcolor": "#F5F6F9",
        "title": {
         "font": {
          "color": "#4D5663"
         },
         "text": "Plot Sized by Total Views and Colored by Industry"
        },
        "xaxis": {
         "gridcolor": "#E1E5ED",
         "showgrid": true,
         "tickfont": {
          "color": "#4D5663"
         },
         "title": {
          "font": {
           "color": "#4D5663"
          },
          "text": "Total views"
         },
         "zerolinecolor": "#E1E5ED"
        },
        "yaxis": {
         "gridcolor": "#E1E5ED",
         "showgrid": true,
         "tickfont": {
          "color": "#4D5663"
         },
         "title": {
          "font": {
           "color": "#4D5663"
          },
          "text": "Industry"
         },
         "zerolinecolor": "#E1E5ED"
        }
       }
      },
      "text/html": [
       "<div>\n",
       "        \n",
       "        \n",
       "            <div id=\"119c0211-e138-4458-9b85-55923ba760a8\" class=\"plotly-graph-div\" style=\"height:525px; width:100%;\"></div>\n",
       "            <script type=\"text/javascript\">\n",
       "                require([\"plotly\"], function(Plotly) {\n",
       "                    window.PLOTLYENV=window.PLOTLYENV || {};\n",
       "                    window.PLOTLYENV.BASE_URL='https://plot.ly';\n",
       "                    \n",
       "                if (document.getElementById(\"119c0211-e138-4458-9b85-55923ba760a8\")) {\n",
       "                    Plotly.newPlot(\n",
       "                        '119c0211-e138-4458-9b85-55923ba760a8',\n",
       "                        [{\"marker\": {\"color\": \"rgba(255, 153, 51, 1.0)\", \"line\": {\"width\": 1.3}, \"opacity\": 0.8, \"size\": [12], \"symbol\": \"circle\"}, \"mode\": \"markers\", \"name\": \"Defense & Space\", \"textfont\": {\"color\": \"#4D5663\"}, \"type\": \"scatter\", \"uid\": \"83f1dda6-991f-4d06-91d8-e8ac4838b31d\", \"x\": [2], \"y\": [\"Defense & Space\"]}, {\"marker\": {\"color\": \"rgba(55, 128, 191, 1.0)\", \"line\": {\"width\": 1.3}, \"opacity\": 0.8, \"size\": [38], \"symbol\": \"circle\"}, \"mode\": \"markers\", \"name\": \"Computer Software\", \"textfont\": {\"color\": \"#4D5663\"}, \"type\": \"scatter\", \"uid\": \"b96add59-981d-4808-a485-41b417b723ee\", \"x\": [46], \"y\": [\"Computer Software\"]}, {\"marker\": {\"color\": \"rgba(50, 171, 96, 1.0)\", \"line\": {\"width\": 1.3}, \"opacity\": 0.8, \"size\": [12], \"symbol\": \"circle\"}, \"mode\": \"markers\", \"name\": \"Computer Networking\", \"textfont\": {\"color\": \"#4D5663\"}, \"type\": \"scatter\", \"uid\": \"e544f9a0-0b51-4804-844e-2e2b7f6b6e4f\", \"x\": [2], \"y\": [\"Computer Networking\"]}, {\"marker\": {\"color\": \"rgba(128, 0, 128, 1.0)\", \"line\": {\"width\": 1.3}, \"opacity\": 0.8, \"size\": [25], \"symbol\": \"circle\"}, \"mode\": \"markers\", \"name\": \"Internet\", \"textfont\": {\"color\": \"#4D5663\"}, \"type\": \"scatter\", \"uid\": \"bdde0fd2-b421-4f68-9346-c31ee29d5e51\", \"x\": [24], \"y\": [\"Internet\"]}, {\"marker\": {\"color\": \"rgba(219, 64, 82, 1.0)\", \"line\": {\"width\": 1.3}, \"opacity\": 0.8, \"size\": [12], \"symbol\": \"circle\"}, \"mode\": \"markers\", \"name\": \"Semiconductors\", \"textfont\": {\"color\": \"#4D5663\"}, \"type\": \"scatter\", \"uid\": \"2c427983-28ea-454d-ba5e-2a1addac7a27\", \"x\": [2], \"y\": [\"Semiconductors\"]}, {\"marker\": {\"color\": \"rgba(0, 128, 128, 1.0)\", \"line\": {\"width\": 1.3}, \"opacity\": 0.8, \"size\": [16], \"symbol\": \"circle\"}, \"mode\": \"markers\", \"name\": \"Telecommunications\", \"textfont\": {\"color\": \"#4D5663\"}, \"type\": \"scatter\", \"uid\": \"2bb6fba3-d6cf-4d51-bc3d-d887729358ae\", \"x\": [9], \"y\": [\"Telecommunications\"]}, {\"marker\": {\"color\": \"rgba(255, 255, 51, 1.0)\", \"line\": {\"width\": 1.3}, \"opacity\": 0.8, \"size\": [15], \"symbol\": \"circle\"}, \"mode\": \"markers\", \"name\": \"Law Practice\", \"textfont\": {\"color\": \"#4D5663\"}, \"type\": \"scatter\", \"uid\": \"9a821596-e29f-43e7-9cea-130f71b37f8b\", \"x\": [7], \"y\": [\"Law Practice\"]}, {\"marker\": {\"color\": \"rgba(128, 128, 0, 1.0)\", \"line\": {\"width\": 1.3}, \"opacity\": 0.8, \"size\": [12], \"symbol\": \"circle\"}, \"mode\": \"markers\", \"name\": \"Legal Services\", \"textfont\": {\"color\": \"#4D5663\"}, \"type\": \"scatter\", \"uid\": \"27a5417d-3e68-4881-b16a-b713516b0270\", \"x\": [2], \"y\": [\"Legal Services\"]}, {\"marker\": {\"color\": \"rgba(251, 128, 114, 1.0)\", \"line\": {\"width\": 1.3}, \"opacity\": 0.8, \"size\": [16], \"symbol\": \"circle\"}, \"mode\": \"markers\", \"name\": \"Management Consulting\", \"textfont\": {\"color\": \"#4D5663\"}, \"type\": \"scatter\", \"uid\": \"c60ee949-7ca2-47eb-8412-5c9ecc3b0bae\", \"x\": [9], \"y\": [\"Management Consulting\"]}, {\"marker\": {\"color\": \"rgba(128, 177, 211, 1.0)\", \"line\": {\"width\": 1.3}, \"opacity\": 0.8, \"size\": [13], \"symbol\": \"circle\"}, \"mode\": \"markers\", \"name\": \"Medical Practice\", \"textfont\": {\"color\": \"#4D5663\"}, \"type\": \"scatter\", \"uid\": \"b75b316b-a38d-4f9c-a206-6d0d427ac680\", \"x\": [3], \"y\": [\"Medical Practice\"]}, {\"marker\": {\"color\": \"rgba(128, 177, 211, 0.913978494623656)\", \"line\": {\"width\": 1.3}, \"opacity\": 0.8, \"size\": [20], \"symbol\": \"circle\"}, \"mode\": \"markers\", \"name\": \"Hospital & Health Care\", \"textfont\": {\"color\": \"#4D5663\"}, \"type\": \"scatter\", \"uid\": \"929cf6b8-8746-40ad-bdd0-cd5ef4fa5ace\", \"x\": [15], \"y\": [\"Hospital & Health Care\"]}, {\"marker\": {\"color\": \"rgba(255, 153, 51, 0.913978494623656)\", \"line\": {\"width\": 1.3}, \"opacity\": 0.8, \"size\": [13], \"symbol\": \"circle\"}, \"mode\": \"markers\", \"name\": \"Pharmaceuticals\", \"textfont\": {\"color\": \"#4D5663\"}, \"type\": \"scatter\", \"uid\": \"31f64321-4a8e-45f6-9c66-ae67073b362b\", \"x\": [3], \"y\": [\"Pharmaceuticals\"]}, {\"marker\": {\"color\": \"rgba(55, 128, 191, 0.913978494623656)\", \"line\": {\"width\": 1.3}, \"opacity\": 0.8, \"size\": [12], \"symbol\": \"circle\"}, \"mode\": \"markers\", \"name\": \"Medical Devices\", \"textfont\": {\"color\": \"#4D5663\"}, \"type\": \"scatter\", \"uid\": \"bc81ba09-e7d3-4f94-83de-ef2d1e8d4ba4\", \"x\": [2], \"y\": [\"Medical Devices\"]}, {\"marker\": {\"color\": \"rgba(50, 171, 96, 0.913978494623656)\", \"line\": {\"width\": 1.3}, \"opacity\": 0.8, \"size\": [12], \"symbol\": \"circle\"}, \"mode\": \"markers\", \"name\": \"Apparel & Fashion\", \"textfont\": {\"color\": \"#4D5663\"}, \"type\": \"scatter\", \"uid\": \"a475375a-290d-49de-968f-16580b1d0c60\", \"x\": [1], \"y\": [\"Apparel & Fashion\"]}, {\"marker\": {\"color\": \"rgba(128, 0, 128, 0.913978494623656)\", \"line\": {\"width\": 1.3}, \"opacity\": 0.8, \"size\": [12], \"symbol\": \"circle\"}, \"mode\": \"markers\", \"name\": \"Sporting Goods\", \"textfont\": {\"color\": \"#4D5663\"}, \"type\": \"scatter\", \"uid\": \"6a4e4003-b8f5-457c-a651-8e8800dd7b1c\", \"x\": [1], \"y\": [\"Sporting Goods\"]}, {\"marker\": {\"color\": \"rgba(219, 64, 82, 0.913978494623656)\", \"line\": {\"width\": 1.3}, \"opacity\": 0.8, \"size\": [12], \"symbol\": \"circle\"}, \"mode\": \"markers\", \"name\": \"Food Production\", \"textfont\": {\"color\": \"#4D5663\"}, \"type\": \"scatter\", \"uid\": \"07386c21-1943-4f20-83e2-fbfeb08661d7\", \"x\": [1], \"y\": [\"Food Production\"]}, {\"marker\": {\"color\": \"rgba(0, 128, 128, 0.913978494623656)\", \"line\": {\"width\": 1.3}, \"opacity\": 0.8, \"size\": [12], \"symbol\": \"circle\"}, \"mode\": \"markers\", \"name\": \"Consumer Electronics\", \"textfont\": {\"color\": \"#4D5663\"}, \"type\": \"scatter\", \"uid\": \"6a896d2b-953f-4948-b079-0847d59e880c\", \"x\": [1], \"y\": [\"Consumer Electronics\"]}, {\"marker\": {\"color\": \"rgba(255, 255, 51, 0.913978494623656)\", \"line\": {\"width\": 1.3}, \"opacity\": 0.8, \"size\": [13], \"symbol\": \"circle\"}, \"mode\": \"markers\", \"name\": \"Consumer Goods\", \"textfont\": {\"color\": \"#4D5663\"}, \"type\": \"scatter\", \"uid\": \"e6cd0a98-1204-495a-82f1-aed2d57d8fce\", \"x\": [4], \"y\": [\"Consumer Goods\"]}, {\"marker\": {\"color\": \"rgba(128, 128, 0, 0.913978494623656)\", \"line\": {\"width\": 1.3}, \"opacity\": 0.8, \"size\": [13], \"symbol\": \"circle\"}, \"mode\": \"markers\", \"name\": \"Furniture\", \"textfont\": {\"color\": \"#4D5663\"}, \"type\": \"scatter\", \"uid\": \"a7ecc111-eb40-416b-8869-1ac36cd734ae\", \"x\": [3], \"y\": [\"Furniture\"]}, {\"marker\": {\"color\": \"rgba(251, 128, 114, 0.913978494623656)\", \"line\": {\"width\": 1.3}, \"opacity\": 0.8, \"size\": [20], \"symbol\": \"circle\"}, \"mode\": \"markers\", \"name\": \"Retail\", \"textfont\": {\"color\": \"#4D5663\"}, \"type\": \"scatter\", \"uid\": \"485dce38-6740-45b9-a0eb-5ef98cd437f3\", \"x\": [16], \"y\": [\"Retail\"]}, {\"marker\": {\"color\": \"rgba(251, 128, 114, 0.8279569892473118)\", \"line\": {\"width\": 1.3}, \"opacity\": 0.8, \"size\": [12], \"symbol\": \"circle\"}, \"mode\": \"markers\", \"name\": \"Gambling & Casinos\", \"textfont\": {\"color\": \"#4D5663\"}, \"type\": \"scatter\", \"uid\": \"dba3e821-afab-4d7a-9744-dbf7c711a285\", \"x\": [2], \"y\": [\"Gambling & Casinos\"]}, {\"marker\": {\"color\": \"rgba(128, 177, 211, 0.8279569892473118)\", \"line\": {\"width\": 1.3}, \"opacity\": 0.8, \"size\": [12], \"symbol\": \"circle\"}, \"mode\": \"markers\", \"name\": \"Leisure, Travel & Tourism\", \"textfont\": {\"color\": \"#4D5663\"}, \"type\": \"scatter\", \"uid\": \"8afff796-98b4-4fe0-ab9c-8029dbc97da7\", \"x\": [1], \"y\": [\"Leisure, Travel & Tourism\"]}, {\"marker\": {\"color\": \"rgba(255, 153, 51, 0.8279569892473118)\", \"line\": {\"width\": 1.3}, \"opacity\": 0.8, \"size\": [15], \"symbol\": \"circle\"}, \"mode\": \"markers\", \"name\": \"Hospitality\", \"textfont\": {\"color\": \"#4D5663\"}, \"type\": \"scatter\", \"uid\": \"5b4c8973-f1f2-441e-8dbf-1207076f2392\", \"x\": [7], \"y\": [\"Hospitality\"]}, {\"marker\": {\"color\": \"rgba(55, 128, 191, 0.8279569892473118)\", \"line\": {\"width\": 1.3}, \"opacity\": 0.8, \"size\": [14], \"symbol\": \"circle\"}, \"mode\": \"markers\", \"name\": \"Restaurants\", \"textfont\": {\"color\": \"#4D5663\"}, \"type\": \"scatter\", \"uid\": \"854707d0-0d80-4a58-bafd-edc60d3c0a0f\", \"x\": [5], \"y\": [\"Restaurants\"]}, {\"marker\": {\"color\": \"rgba(50, 171, 96, 0.8279569892473118)\", \"line\": {\"width\": 1.3}, \"opacity\": 0.8, \"size\": [14], \"symbol\": \"circle\"}, \"mode\": \"markers\", \"name\": \"Sports\", \"textfont\": {\"color\": \"#4D5663\"}, \"type\": \"scatter\", \"uid\": \"3793fca5-38fa-4f4d-87af-5002e14c439e\", \"x\": [5], \"y\": [\"Sports\"]}, {\"marker\": {\"color\": \"rgba(128, 0, 128, 0.8279569892473118)\", \"line\": {\"width\": 1.3}, \"opacity\": 0.8, \"size\": [14], \"symbol\": \"circle\"}, \"mode\": \"markers\", \"name\": \"Food & Beverages\", \"textfont\": {\"color\": \"#4D5663\"}, \"type\": \"scatter\", \"uid\": \"bb1db890-884c-424f-9cc2-6497f55df823\", \"x\": [5], \"y\": [\"Food & Beverages\"]}, {\"marker\": {\"color\": \"rgba(219, 64, 82, 0.8279569892473118)\", \"line\": {\"width\": 1.3}, \"opacity\": 0.8, \"size\": [12], \"symbol\": \"circle\"}, \"mode\": \"markers\", \"name\": \"Motion Pictures and Film\", \"textfont\": {\"color\": \"#4D5663\"}, \"type\": \"scatter\", \"uid\": \"ed33d4d9-b08f-4307-a90a-e45f7c0d7e8c\", \"x\": [2], \"y\": [\"Motion Pictures and Film\"]}, {\"marker\": {\"color\": \"rgba(0, 128, 128, 0.8279569892473118)\", \"line\": {\"width\": 1.3}, \"opacity\": 0.8, \"size\": [16], \"symbol\": \"circle\"}, \"mode\": \"markers\", \"name\": \"Broadcast Media\", \"textfont\": {\"color\": \"#4D5663\"}, \"type\": \"scatter\", \"uid\": \"3a117d67-c20b-4f04-85b2-5efa62f912df\", \"x\": [8], \"y\": [\"Broadcast Media\"]}, {\"marker\": {\"color\": \"rgba(255, 255, 51, 0.8279569892473118)\", \"line\": {\"width\": 1.3}, \"opacity\": 0.8, \"size\": [12], \"symbol\": \"circle\"}, \"mode\": \"markers\", \"name\": \"Museums and Institutions\", \"textfont\": {\"color\": \"#4D5663\"}, \"type\": \"scatter\", \"uid\": \"d5f3781e-f4c6-4096-94fb-f34ee4274f36\", \"x\": [1], \"y\": [\"Museums and Institutions\"]}, {\"marker\": {\"color\": \"rgba(128, 128, 0, 0.8279569892473118)\", \"line\": {\"width\": 1.3}, \"opacity\": 0.8, \"size\": [12], \"symbol\": \"circle\"}, \"mode\": \"markers\", \"name\": \"Fine Art\", \"textfont\": {\"color\": \"#4D5663\"}, \"type\": \"scatter\", \"uid\": \"dad7e3f5-664e-4556-a509-67fc5c3eb202\", \"x\": [1], \"y\": [\"Fine Art\"]}, {\"marker\": {\"color\": \"rgba(128, 128, 0, 0.7419354838709677)\", \"line\": {\"width\": 1.3}, \"opacity\": 0.8, \"size\": [13], \"symbol\": \"circle\"}, \"mode\": \"markers\", \"name\": \"Insurance\", \"textfont\": {\"color\": \"#4D5663\"}, \"type\": \"scatter\", \"uid\": \"cba7f4b3-1c34-44d3-97c8-a6ce9ce58a19\", \"x\": [3], \"y\": [\"Insurance\"]}, {\"marker\": {\"color\": \"rgba(251, 128, 114, 0.7419354838709677)\", \"line\": {\"width\": 1.3}, \"opacity\": 0.8, \"size\": [14], \"symbol\": \"circle\"}, \"mode\": \"markers\", \"name\": \"Financial Services\", \"textfont\": {\"color\": \"#4D5663\"}, \"type\": \"scatter\", \"uid\": \"dcde8666-2a6a-4fd0-a8ac-d4e70145b28f\", \"x\": [5], \"y\": [\"Financial Services\"]}, {\"marker\": {\"color\": \"rgba(128, 177, 211, 0.7419354838709677)\", \"line\": {\"width\": 1.3}, \"opacity\": 0.8, \"size\": [13], \"symbol\": \"circle\"}, \"mode\": \"markers\", \"name\": \"Real Estate\", \"textfont\": {\"color\": \"#4D5663\"}, \"type\": \"scatter\", \"uid\": \"5a31218a-8862-43d6-9003-ade9e0649f36\", \"x\": [3], \"y\": [\"Real Estate\"]}, {\"marker\": {\"color\": \"rgba(255, 153, 51, 0.7419354838709677)\", \"line\": {\"width\": 1.3}, \"opacity\": 0.8, \"size\": [12], \"symbol\": \"circle\"}, \"mode\": \"markers\", \"name\": \"Investment Management\", \"textfont\": {\"color\": \"#4D5663\"}, \"type\": \"scatter\", \"uid\": \"d95c9aa7-0e5e-4bbe-a32c-3dcac81a3399\", \"x\": [1], \"y\": [\"Investment Management\"]}, {\"marker\": {\"color\": \"rgba(55, 128, 191, 0.7419354838709677)\", \"line\": {\"width\": 1.3}, \"opacity\": 0.8, \"size\": [19], \"symbol\": \"circle\"}, \"mode\": \"markers\", \"name\": \"Accounting\", \"textfont\": {\"color\": \"#4D5663\"}, \"type\": \"scatter\", \"uid\": \"0ff33e13-f2e9-480d-98c7-3add11cac6f0\", \"x\": [13], \"y\": [\"Accounting\"]}, {\"marker\": {\"color\": \"rgba(50, 171, 96, 0.7419354838709677)\", \"line\": {\"width\": 1.3}, \"opacity\": 0.8, \"size\": [16], \"symbol\": \"circle\"}, \"mode\": \"markers\", \"name\": \"Construction\", \"textfont\": {\"color\": \"#4D5663\"}, \"type\": \"scatter\", \"uid\": \"93f8c167-c048-4d14-97e4-d8056fc179ef\", \"x\": [8], \"y\": [\"Construction\"]}, {\"marker\": {\"color\": \"rgba(128, 0, 128, 0.7419354838709677)\", \"line\": {\"width\": 1.3}, \"opacity\": 0.8, \"size\": [13], \"symbol\": \"circle\"}, \"mode\": \"markers\", \"name\": \"Architecture & Planning\", \"textfont\": {\"color\": \"#4D5663\"}, \"type\": \"scatter\", \"uid\": \"212c8686-a6ea-449e-8ffc-6fcabd0b9cb5\", \"x\": [4], \"y\": [\"Architecture & Planning\"]}, {\"marker\": {\"color\": \"rgba(219, 64, 82, 0.7419354838709677)\", \"line\": {\"width\": 1.3}, \"opacity\": 0.8, \"size\": [12], \"symbol\": \"circle\"}, \"mode\": \"markers\", \"name\": \"Civil Engineering\", \"textfont\": {\"color\": \"#4D5663\"}, \"type\": \"scatter\", \"uid\": \"79f68fc2-80e7-4fe1-b5a0-9320268d24c3\", \"x\": [2], \"y\": [\"Civil Engineering\"]}, {\"marker\": {\"color\": \"rgba(0, 128, 128, 0.7419354838709677)\", \"line\": {\"width\": 1.3}, \"opacity\": 0.8, \"size\": [14], \"symbol\": \"circle\"}, \"mode\": \"markers\", \"name\": \"Automotive\", \"textfont\": {\"color\": \"#4D5663\"}, \"type\": \"scatter\", \"uid\": \"c5cc9a97-03b8-4e6b-937a-421d20cee525\", \"x\": [5], \"y\": [\"Automotive\"]}, {\"marker\": {\"color\": \"rgba(255, 255, 51, 0.7419354838709677)\", \"line\": {\"width\": 1.3}, \"opacity\": 0.8, \"size\": [17], \"symbol\": \"circle\"}, \"mode\": \"markers\", \"name\": \"Machinery\", \"textfont\": {\"color\": \"#4D5663\"}, \"type\": \"scatter\", \"uid\": \"921bcfba-e33c-49f9-981c-967f892ba386\", \"x\": [11], \"y\": [\"Machinery\"]}, {\"marker\": {\"color\": \"rgba(255, 255, 51, 0.6559139784946237)\", \"line\": {\"width\": 1.3}, \"opacity\": 0.8, \"size\": [12], \"symbol\": \"circle\"}, \"mode\": \"markers\", \"name\": \"Oil & Energy\", \"textfont\": {\"color\": \"#4D5663\"}, \"type\": \"scatter\", \"uid\": \"0fd41e3b-cb9f-4406-a63d-5d2d41281b0b\", \"x\": [1], \"y\": [\"Oil & Energy\"]}, {\"marker\": {\"color\": \"rgba(128, 128, 0, 0.6559139784946237)\", \"line\": {\"width\": 1.3}, \"opacity\": 0.8, \"size\": [12], \"symbol\": \"circle\"}, \"mode\": \"markers\", \"name\": \"Farming\", \"textfont\": {\"color\": \"#4D5663\"}, \"type\": \"scatter\", \"uid\": \"6aee6f7f-cc56-4e81-8101-8b15b8caa85e\", \"x\": [1], \"y\": [\"Farming\"]}, {\"marker\": {\"color\": \"rgba(251, 128, 114, 0.6559139784946237)\", \"line\": {\"width\": 1.3}, \"opacity\": 0.8, \"size\": [12], \"symbol\": \"circle\"}, \"mode\": \"markers\", \"name\": \"Dairy\", \"textfont\": {\"color\": \"#4D5663\"}, \"type\": \"scatter\", \"uid\": \"5fc9c5f8-b83f-4236-9f9f-f049765ce5ba\", \"x\": [2], \"y\": [\"Dairy\"]}, {\"marker\": {\"color\": \"rgba(128, 177, 211, 0.6559139784946237)\", \"line\": {\"width\": 1.3}, \"opacity\": 0.8, \"size\": [13], \"symbol\": \"circle\"}, \"mode\": \"markers\", \"name\": \"Primary/Secondary Education\", \"textfont\": {\"color\": \"#4D5663\"}, \"type\": \"scatter\", \"uid\": \"11080960-efe6-4e9c-b0af-aa13dd277973\", \"x\": [3], \"y\": [\"Primary/Secondary Education\"]}, {\"marker\": {\"color\": \"rgba(255, 153, 51, 0.6559139784946237)\", \"line\": {\"width\": 1.3}, \"opacity\": 0.8, \"size\": [112], \"symbol\": \"circle\"}, \"mode\": \"markers\", \"name\": \"Higher Education\", \"textfont\": {\"color\": \"#4D5663\"}, \"type\": \"scatter\", \"uid\": \"17527b1b-1fbf-4ab5-a348-a5b1389babe1\", \"x\": [168], \"y\": [\"Higher Education\"]}, {\"marker\": {\"color\": \"rgba(55, 128, 191, 0.6559139784946237)\", \"line\": {\"width\": 1.3}, \"opacity\": 0.8, \"size\": [14], \"symbol\": \"circle\"}, \"mode\": \"markers\", \"name\": \"Education Management\", \"textfont\": {\"color\": \"#4D5663\"}, \"type\": \"scatter\", \"uid\": \"0b397fa3-8887-4a34-a3da-fbb2eb09718c\", \"x\": [5], \"y\": [\"Education Management\"]}, {\"marker\": {\"color\": \"rgba(50, 171, 96, 0.6559139784946237)\", \"line\": {\"width\": 1.3}, \"opacity\": 0.8, \"size\": [21], \"symbol\": \"circle\"}, \"mode\": \"markers\", \"name\": \"Research\", \"textfont\": {\"color\": \"#4D5663\"}, \"type\": \"scatter\", \"uid\": \"17004c21-5f7e-4056-a989-5cfd0798b70c\", \"x\": [17], \"y\": [\"Research\"]}, {\"marker\": {\"color\": \"rgba(128, 0, 128, 0.6559139784946237)\", \"line\": {\"width\": 1.3}, \"opacity\": 0.8, \"size\": [12], \"symbol\": \"circle\"}, \"mode\": \"markers\", \"name\": \"Military\", \"textfont\": {\"color\": \"#4D5663\"}, \"type\": \"scatter\", \"uid\": \"8aa8be2d-3fe3-41cb-98bb-9f19745a5183\", \"x\": [2], \"y\": [\"Military\"]}, {\"marker\": {\"color\": \"rgba(219, 64, 82, 0.6559139784946237)\", \"line\": {\"width\": 1.3}, \"opacity\": 0.8, \"size\": [13], \"symbol\": \"circle\"}, \"mode\": \"markers\", \"name\": \"Government Administration\", \"textfont\": {\"color\": \"#4D5663\"}, \"type\": \"scatter\", \"uid\": \"65b2f77b-7910-4804-9482-15f209ea0dc5\", \"x\": [3], \"y\": [\"Government Administration\"]}, {\"marker\": {\"color\": \"rgba(0, 128, 128, 0.6559139784946237)\", \"line\": {\"width\": 1.3}, \"opacity\": 0.8, \"size\": [13], \"symbol\": \"circle\"}, \"mode\": \"markers\", \"name\": \"Executive Office\", \"textfont\": {\"color\": \"#4D5663\"}, \"type\": \"scatter\", \"uid\": \"5e30e11e-e509-4d40-a27f-53263bafe5c4\", \"x\": [4], \"y\": [\"Executive Office\"]}, {\"marker\": {\"color\": \"rgba(0, 128, 128, 0.5698924731182797)\", \"line\": {\"width\": 1.3}, \"opacity\": 0.8, \"size\": [12], \"symbol\": \"circle\"}, \"mode\": \"markers\", \"name\": \"Law Enforcement\", \"textfont\": {\"color\": \"#4D5663\"}, \"type\": \"scatter\", \"uid\": \"6b139daa-7f4e-428f-a8d8-da9127527bb2\", \"x\": [1], \"y\": [\"Law Enforcement\"]}, {\"marker\": {\"color\": \"rgba(255, 255, 51, 0.5698924731182797)\", \"line\": {\"width\": 1.3}, \"opacity\": 0.8, \"size\": [12], \"symbol\": \"circle\"}, \"mode\": \"markers\", \"name\": \"Public Safety\", \"textfont\": {\"color\": \"#4D5663\"}, \"type\": \"scatter\", \"uid\": \"3a222c54-e14c-447c-8477-4684b9e9b171\", \"x\": [1], \"y\": [\"Public Safety\"]}, {\"marker\": {\"color\": \"rgba(128, 128, 0, 0.5698924731182797)\", \"line\": {\"width\": 1.3}, \"opacity\": 0.8, \"size\": [12], \"symbol\": \"circle\"}, \"mode\": \"markers\", \"name\": \"Public Policy\", \"textfont\": {\"color\": \"#4D5663\"}, \"type\": \"scatter\", \"uid\": \"bb30881a-c7b7-4363-8caa-688f04552a4c\", \"x\": [1], \"y\": [\"Public Policy\"]}, {\"marker\": {\"color\": \"rgba(251, 128, 114, 0.5698924731182797)\", \"line\": {\"width\": 1.3}, \"opacity\": 0.8, \"size\": [77], \"symbol\": \"circle\"}, \"mode\": \"markers\", \"name\": \"Marketing and Advertising\", \"textfont\": {\"color\": \"#4D5663\"}, \"type\": \"scatter\", \"uid\": \"bf39b1de-a1b0-4645-9f17-c2ad24919251\", \"x\": [110], \"y\": [\"Marketing and Advertising\"]}, {\"marker\": {\"color\": \"rgba(128, 177, 211, 0.5698924731182797)\", \"line\": {\"width\": 1.3}, \"opacity\": 0.8, \"size\": [12], \"symbol\": \"circle\"}, \"mode\": \"markers\", \"name\": \"Newspapers\", \"textfont\": {\"color\": \"#4D5663\"}, \"type\": \"scatter\", \"uid\": \"341359ca-6817-4b7f-9260-dc61ca4e459f\", \"x\": [1], \"y\": [\"Newspapers\"]}, {\"marker\": {\"color\": \"rgba(255, 153, 51, 0.5698924731182797)\", \"line\": {\"width\": 1.3}, \"opacity\": 0.8, \"size\": [13], \"symbol\": \"circle\"}, \"mode\": \"markers\", \"name\": \"Publishing\", \"textfont\": {\"color\": \"#4D5663\"}, \"type\": \"scatter\", \"uid\": \"6fea38c5-9326-421d-90f1-0ef052e2d369\", \"x\": [3], \"y\": [\"Publishing\"]}, {\"marker\": {\"color\": \"rgba(55, 128, 191, 0.5698924731182797)\", \"line\": {\"width\": 1.3}, \"opacity\": 0.8, \"size\": [15], \"symbol\": \"circle\"}, \"mode\": \"markers\", \"name\": \"Information Services\", \"textfont\": {\"color\": \"#4D5663\"}, \"type\": \"scatter\", \"uid\": \"26914833-67a0-4a90-a121-25fb3d40bb44\", \"x\": [7], \"y\": [\"Information Services\"]}, {\"marker\": {\"color\": \"rgba(50, 171, 96, 0.5698924731182797)\", \"line\": {\"width\": 1.3}, \"opacity\": 0.8, \"size\": [13], \"symbol\": \"circle\"}, \"mode\": \"markers\", \"name\": \"Individual & Family Services\", \"textfont\": {\"color\": \"#4D5663\"}, \"type\": \"scatter\", \"uid\": \"99769831-124d-45b1-945e-27f7b171838d\", \"x\": [3], \"y\": [\"Individual & Family Services\"]}, {\"marker\": {\"color\": \"rgba(128, 0, 128, 0.5698924731182797)\", \"line\": {\"width\": 1.3}, \"opacity\": 0.8, \"size\": [12], \"symbol\": \"circle\"}, \"mode\": \"markers\", \"name\": \"Religious Institutions\", \"textfont\": {\"color\": \"#4D5663\"}, \"type\": \"scatter\", \"uid\": \"bdcb9dbd-e602-472c-affc-6327630947b0\", \"x\": [1], \"y\": [\"Religious Institutions\"]}, {\"marker\": {\"color\": \"rgba(219, 64, 82, 0.5698924731182797)\", \"line\": {\"width\": 1.3}, \"opacity\": 0.8, \"size\": [12], \"symbol\": \"circle\"}, \"mode\": \"markers\", \"name\": \"Civic & Social Organization\", \"textfont\": {\"color\": \"#4D5663\"}, \"type\": \"scatter\", \"uid\": \"799cd20d-e084-4fa0-84cc-8e9e27f10987\", \"x\": [1], \"y\": [\"Civic & Social Organization\"]}, {\"marker\": {\"color\": \"rgba(219, 64, 82, 0.48387096774193555)\", \"line\": {\"width\": 1.3}, \"opacity\": 0.8, \"size\": [13], \"symbol\": \"circle\"}, \"mode\": \"markers\", \"name\": \"Transportation/Trucking/Railroad\", \"textfont\": {\"color\": \"#4D5663\"}, \"type\": \"scatter\", \"uid\": \"42dea71e-cba6-4cce-a91a-b573ecb9b9ec\", \"x\": [4], \"y\": [\"Transportation/Trucking/Railroad\"]}, {\"marker\": {\"color\": \"rgba(0, 128, 128, 0.48387096774193555)\", \"line\": {\"width\": 1.3}, \"opacity\": 0.8, \"size\": [12], \"symbol\": \"circle\"}, \"mode\": \"markers\", \"name\": \"Warehousing\", \"textfont\": {\"color\": \"#4D5663\"}, \"type\": \"scatter\", \"uid\": \"47c21938-e3c9-4d8f-9c00-548004b35155\", \"x\": [2], \"y\": [\"Warehousing\"]}, {\"marker\": {\"color\": \"rgba(255, 255, 51, 0.48387096774193555)\", \"line\": {\"width\": 1.3}, \"opacity\": 0.8, \"size\": [12], \"symbol\": \"circle\"}, \"mode\": \"markers\", \"name\": \"Airlines/Aviation\", \"textfont\": {\"color\": \"#4D5663\"}, \"type\": \"scatter\", \"uid\": \"c0a3c518-aaf4-482a-bcec-f83f932370c0\", \"x\": [1], \"y\": [\"Airlines/Aviation\"]}, {\"marker\": {\"color\": \"rgba(128, 128, 0, 0.48387096774193555)\", \"line\": {\"width\": 1.3}, \"opacity\": 0.8, \"size\": [97], \"symbol\": \"circle\"}, \"mode\": \"markers\", \"name\": \"Information Technology and Services\", \"textfont\": {\"color\": \"#4D5663\"}, \"type\": \"scatter\", \"uid\": \"e2025284-55ad-4f3e-8e16-537e98bad954\", \"x\": [144], \"y\": [\"Information Technology and Services\"]}, {\"marker\": {\"color\": \"rgba(251, 128, 114, 0.48387096774193555)\", \"line\": {\"width\": 1.3}, \"opacity\": 0.8, \"size\": [21], \"symbol\": \"circle\"}, \"mode\": \"markers\", \"name\": \"Market Research\", \"textfont\": {\"color\": \"#4D5663\"}, \"type\": \"scatter\", \"uid\": \"5345d117-9a02-42ce-8608-0cbc36a34bdb\", \"x\": [17], \"y\": [\"Market Research\"]}, {\"marker\": {\"color\": \"rgba(128, 177, 211, 0.48387096774193555)\", \"line\": {\"width\": 1.3}, \"opacity\": 0.8, \"size\": [12], \"symbol\": \"circle\"}, \"mode\": \"markers\", \"name\": \"Public Relations and Communications\", \"textfont\": {\"color\": \"#4D5663\"}, \"type\": \"scatter\", \"uid\": \"d70d40c8-6d26-44f9-af5b-f9c7cebb1799\", \"x\": [2], \"y\": [\"Public Relations and Communications\"]}, {\"marker\": {\"color\": \"rgba(255, 153, 51, 0.48387096774193555)\", \"line\": {\"width\": 1.3}, \"opacity\": 0.8, \"size\": [13], \"symbol\": \"circle\"}, \"mode\": \"markers\", \"name\": \"Design\", \"textfont\": {\"color\": \"#4D5663\"}, \"type\": \"scatter\", \"uid\": \"6c9e5640-6201-4cb8-8418-07cd77b75061\", \"x\": [4], \"y\": [\"Design\"]}, {\"marker\": {\"color\": \"rgba(55, 128, 191, 0.48387096774193555)\", \"line\": {\"width\": 1.3}, \"opacity\": 0.8, \"size\": [15], \"symbol\": \"circle\"}, \"mode\": \"markers\", \"name\": \"Nonprofit Organization Management\", \"textfont\": {\"color\": \"#4D5663\"}, \"type\": \"scatter\", \"uid\": \"c52071c6-e185-43b5-99f3-6dc5445cd8b8\", \"x\": [7], \"y\": [\"Nonprofit Organization Management\"]}, {\"marker\": {\"color\": \"rgba(50, 171, 96, 0.48387096774193555)\", \"line\": {\"width\": 1.3}, \"opacity\": 0.8, \"size\": [12], \"symbol\": \"circle\"}, \"mode\": \"markers\", \"name\": \"Fund-Raising\", \"textfont\": {\"color\": \"#4D5663\"}, \"type\": \"scatter\", \"uid\": \"c88081d8-f565-4eb6-9519-10ac17a16ae0\", \"x\": [2], \"y\": [\"Fund-Raising\"]}, {\"marker\": {\"color\": \"rgba(128, 0, 128, 0.48387096774193555)\", \"line\": {\"width\": 1.3}, \"opacity\": 0.8, \"size\": [13], \"symbol\": \"circle\"}, \"mode\": \"markers\", \"name\": \"Program Development\", \"textfont\": {\"color\": \"#4D5663\"}, \"type\": \"scatter\", \"uid\": \"705b0942-15ac-4ae2-8f12-7fba06d22def\", \"x\": [3], \"y\": [\"Program Development\"]}, {\"marker\": {\"color\": \"rgba(128, 0, 128, 0.39784946236559154)\", \"line\": {\"width\": 1.3}, \"opacity\": 0.8, \"size\": [12], \"symbol\": \"circle\"}, \"mode\": \"markers\", \"name\": \"Writing and Editing\", \"textfont\": {\"color\": \"#4D5663\"}, \"type\": \"scatter\", \"uid\": \"e80368f1-9474-480f-8c93-30381dd5ea46\", \"x\": [2], \"y\": [\"Writing and Editing\"]}, {\"marker\": {\"color\": \"rgba(219, 64, 82, 0.39784946236559154)\", \"line\": {\"width\": 1.3}, \"opacity\": 0.8, \"size\": [16], \"symbol\": \"circle\"}, \"mode\": \"markers\", \"name\": \"Staffing and Recruiting\", \"textfont\": {\"color\": \"#4D5663\"}, \"type\": \"scatter\", \"uid\": \"144e79c1-b04a-4a79-8a27-edc50428329f\", \"x\": [9], \"y\": [\"Staffing and Recruiting\"]}, {\"marker\": {\"color\": \"rgba(0, 128, 128, 0.39784946236559154)\", \"line\": {\"width\": 1.3}, \"opacity\": 0.8, \"size\": [13], \"symbol\": \"circle\"}, \"mode\": \"markers\", \"name\": \"Venture Capital & Private Equity\", \"textfont\": {\"color\": \"#4D5663\"}, \"type\": \"scatter\", \"uid\": \"1c9c5b18-927b-411c-8e00-8f85d9c615a9\", \"x\": [3], \"y\": [\"Venture Capital & Private Equity\"]}, {\"marker\": {\"color\": \"rgba(255, 255, 51, 0.39784946236559154)\", \"line\": {\"width\": 1.3}, \"opacity\": 0.8, \"size\": [12], \"symbol\": \"circle\"}, \"mode\": \"markers\", \"name\": \"Events Services\", \"textfont\": {\"color\": \"#4D5663\"}, \"type\": \"scatter\", \"uid\": \"8bf06c2c-be47-4850-be54-329c88a823c8\", \"x\": [2], \"y\": [\"Events Services\"]}, {\"marker\": {\"color\": \"rgba(128, 128, 0, 0.39784946236559154)\", \"line\": {\"width\": 1.3}, \"opacity\": 0.8, \"size\": [12], \"symbol\": \"circle\"}, \"mode\": \"markers\", \"name\": \"Arts and Crafts\", \"textfont\": {\"color\": \"#4D5663\"}, \"type\": \"scatter\", \"uid\": \"4dac287c-720c-4530-87b5-e9401582106a\", \"x\": [1], \"y\": [\"Arts and Crafts\"]}, {\"marker\": {\"color\": \"rgba(251, 128, 114, 0.39784946236559154)\", \"line\": {\"width\": 1.3}, \"opacity\": 0.8, \"size\": [13], \"symbol\": \"circle\"}, \"mode\": \"markers\", \"name\": \"Electrical/Electronic Manufacturing\", \"textfont\": {\"color\": \"#4D5663\"}, \"type\": \"scatter\", \"uid\": \"cd191da8-ed1c-4fcc-8c43-9db72b3ce6fa\", \"x\": [3], \"y\": [\"Electrical/Electronic Manufacturing\"]}, {\"marker\": {\"color\": \"rgba(128, 177, 211, 0.39784946236559154)\", \"line\": {\"width\": 1.3}, \"opacity\": 0.8, \"size\": [17], \"symbol\": \"circle\"}, \"mode\": \"markers\", \"name\": \"Online Media\", \"textfont\": {\"color\": \"#4D5663\"}, \"type\": \"scatter\", \"uid\": \"20ae0389-6f3f-4add-bd61-f22fea79c10e\", \"x\": [10], \"y\": [\"Online Media\"]}, {\"marker\": {\"color\": \"rgba(255, 153, 51, 0.39784946236559154)\", \"line\": {\"width\": 1.3}, \"opacity\": 0.8, \"size\": [13], \"symbol\": \"circle\"}, \"mode\": \"markers\", \"name\": \"Music\", \"textfont\": {\"color\": \"#4D5663\"}, \"type\": \"scatter\", \"uid\": \"3eee7abf-699d-485f-b1dc-e249898af43e\", \"x\": [3], \"y\": [\"Music\"]}, {\"marker\": {\"color\": \"rgba(55, 128, 191, 0.39784946236559154)\", \"line\": {\"width\": 1.3}, \"opacity\": 0.8, \"size\": [14], \"symbol\": \"circle\"}, \"mode\": \"markers\", \"name\": \"Computer & Network Security\", \"textfont\": {\"color\": \"#4D5663\"}, \"type\": \"scatter\", \"uid\": \"e9469efd-369a-4db7-9de0-385dbba8b989\", \"x\": [6], \"y\": [\"Computer & Network Security\"]}, {\"marker\": {\"color\": \"rgba(50, 171, 96, 0.39784946236559154)\", \"line\": {\"width\": 1.3}, \"opacity\": 0.8, \"size\": [12], \"symbol\": \"circle\"}, \"mode\": \"markers\", \"name\": \"Facilities Services\", \"textfont\": {\"color\": \"#4D5663\"}, \"type\": \"scatter\", \"uid\": \"e973fb64-356f-48b8-8cb9-ece941cadb1d\", \"x\": [2], \"y\": [\"Facilities Services\"]}, {\"marker\": {\"color\": \"rgba(50, 171, 96, 0.31182795698924753)\", \"line\": {\"width\": 1.3}, \"opacity\": 0.8, \"size\": [32], \"symbol\": \"circle\"}, \"mode\": \"markers\", \"name\": \"Outsourcing/Offshoring\", \"textfont\": {\"color\": \"#4D5663\"}, \"type\": \"scatter\", \"uid\": \"49cdd353-9ebe-4136-add0-c4de86b569a7\", \"x\": [36], \"y\": [\"Outsourcing/Offshoring\"]}, {\"marker\": {\"color\": \"rgba(128, 0, 128, 0.31182795698924753)\", \"line\": {\"width\": 1.3}, \"opacity\": 0.8, \"size\": [13], \"symbol\": \"circle\"}, \"mode\": \"markers\", \"name\": \"Health, Wellness and Fitness\", \"textfont\": {\"color\": \"#4D5663\"}, \"type\": \"scatter\", \"uid\": \"2928e84a-f30a-46fd-b687-64b8b5c251bc\", \"x\": [3], \"y\": [\"Health, Wellness and Fitness\"]}, {\"marker\": {\"color\": \"rgba(219, 64, 82, 0.31182795698924753)\", \"line\": {\"width\": 1.3}, \"opacity\": 0.8, \"size\": [12], \"symbol\": \"circle\"}, \"mode\": \"markers\", \"name\": \"Media Production\", \"textfont\": {\"color\": \"#4D5663\"}, \"type\": \"scatter\", \"uid\": \"c9ae0faf-d84d-4dd7-ad99-7c3d8d7aca65\", \"x\": [2], \"y\": [\"Media Production\"]}, {\"marker\": {\"color\": \"rgba(0, 128, 128, 0.31182795698924753)\", \"line\": {\"width\": 1.3}, \"opacity\": 0.8, \"size\": [12], \"symbol\": \"circle\"}, \"mode\": \"markers\", \"name\": \"Capital Markets\", \"textfont\": {\"color\": \"#4D5663\"}, \"type\": \"scatter\", \"uid\": \"d4e3d7b6-9b55-4064-938c-862dc18fe588\", \"x\": [1], \"y\": [\"Capital Markets\"]}, {\"marker\": {\"color\": \"rgba(255, 255, 51, 0.31182795698924753)\", \"line\": {\"width\": 1.3}, \"opacity\": 0.8, \"size\": [13], \"symbol\": \"circle\"}, \"mode\": \"markers\", \"name\": \"Philanthropy\", \"textfont\": {\"color\": \"#4D5663\"}, \"type\": \"scatter\", \"uid\": \"28a5d89b-3c05-4de5-abcf-5856d631a196\", \"x\": [3], \"y\": [\"Philanthropy\"]}, {\"marker\": {\"color\": \"rgba(128, 128, 0, 0.31182795698924753)\", \"line\": {\"width\": 1.3}, \"opacity\": 0.8, \"size\": [12], \"symbol\": \"circle\"}, \"mode\": \"markers\", \"name\": \"E-Learning\", \"textfont\": {\"color\": \"#4D5663\"}, \"type\": \"scatter\", \"uid\": \"ee17869a-91df-4a70-b7aa-48d303550c7e\", \"x\": [2], \"y\": [\"E-Learning\"]}, {\"marker\": {\"color\": \"rgba(251, 128, 114, 0.31182795698924753)\", \"line\": {\"width\": 1.3}, \"opacity\": 0.8, \"size\": [13], \"symbol\": \"circle\"}, \"mode\": \"markers\", \"name\": \"Wholesale\", \"textfont\": {\"color\": \"#4D5663\"}, \"type\": \"scatter\", \"uid\": \"976731a9-a7ca-479d-af52-ec70a5fc9f32\", \"x\": [4], \"y\": [\"Wholesale\"]}, {\"marker\": {\"color\": \"rgba(128, 177, 211, 0.31182795698924753)\", \"line\": {\"width\": 1.3}, \"opacity\": 0.8, \"size\": [13], \"symbol\": \"circle\"}, \"mode\": \"markers\", \"name\": \"Mechanical or Industrial Engineering\", \"textfont\": {\"color\": \"#4D5663\"}, \"type\": \"scatter\", \"uid\": \"ceb21840-d7c6-4889-b950-da8f7ee9662a\", \"x\": [4], \"y\": [\"Mechanical or Industrial Engineering\"]}, {\"marker\": {\"color\": \"rgba(255, 153, 51, 0.31182795698924753)\", \"line\": {\"width\": 1.3}, \"opacity\": 0.8, \"size\": [13], \"symbol\": \"circle\"}, \"mode\": \"markers\", \"name\": \"Photography\", \"textfont\": {\"color\": \"#4D5663\"}, \"type\": \"scatter\", \"uid\": \"5b419cc4-d001-4226-aa63-1ca977e27fe7\", \"x\": [4], \"y\": [\"Photography\"]}, {\"marker\": {\"color\": \"rgba(55, 128, 191, 0.31182795698924753)\", \"line\": {\"width\": 1.3}, \"opacity\": 0.8, \"size\": [13], \"symbol\": \"circle\"}, \"mode\": \"markers\", \"name\": \"Human Resources\", \"textfont\": {\"color\": \"#4D5663\"}, \"type\": \"scatter\", \"uid\": \"5e3e97c7-ca2d-4008-9a89-20a20e6f7849\", \"x\": [4], \"y\": [\"Human Resources\"]}, {\"marker\": {\"color\": \"rgba(55, 128, 191, 0.22580645161290352)\", \"line\": {\"width\": 1.3}, \"opacity\": 0.8, \"size\": [14], \"symbol\": \"circle\"}, \"mode\": \"markers\", \"name\": \"Graphic Design\", \"textfont\": {\"color\": \"#4D5663\"}, \"type\": \"scatter\", \"uid\": \"f11aa72d-2000-4836-b25a-4b87bcb7e130\", \"x\": [6], \"y\": [\"Graphic Design\"]}, {\"marker\": {\"color\": \"rgba(50, 171, 96, 0.22580645161290352)\", \"line\": {\"width\": 1.3}, \"opacity\": 0.8, \"size\": [12], \"symbol\": \"circle\"}, \"mode\": \"markers\", \"name\": \"Industrial Automation\", \"textfont\": {\"color\": \"#4D5663\"}, \"type\": \"scatter\", \"uid\": \"e3db40f5-6781-4886-911c-18864ea06050\", \"x\": [2], \"y\": [\"Industrial Automation\"]}, {\"marker\": {\"color\": \"rgba(128, 0, 128, 0.22580645161290352)\", \"line\": {\"width\": 1.3}, \"opacity\": 0.8, \"size\": [12], \"symbol\": \"circle\"}, \"mode\": \"markers\", \"name\": \"Government Relations\", \"textfont\": {\"color\": \"#4D5663\"}, \"type\": \"scatter\", \"uid\": \"315bdd16-ae00-4e2b-a284-c36fbe5cd7fd\", \"x\": [1], \"y\": [\"Government Relations\"]}],\n",
       "                        {\"legend\": {\"bgcolor\": \"#F5F6F9\", \"font\": {\"color\": \"#4D5663\"}}, \"paper_bgcolor\": \"#F5F6F9\", \"plot_bgcolor\": \"#F5F6F9\", \"title\": {\"font\": {\"color\": \"#4D5663\"}, \"text\": \"Plot Sized by Total Views and Colored by Industry\"}, \"xaxis\": {\"gridcolor\": \"#E1E5ED\", \"showgrid\": true, \"tickfont\": {\"color\": \"#4D5663\"}, \"title\": {\"font\": {\"color\": \"#4D5663\"}, \"text\": \"Total views\"}, \"zerolinecolor\": \"#E1E5ED\"}, \"yaxis\": {\"gridcolor\": \"#E1E5ED\", \"showgrid\": true, \"tickfont\": {\"color\": \"#4D5663\"}, \"title\": {\"font\": {\"color\": \"#4D5663\"}, \"text\": \"Industry\"}, \"zerolinecolor\": \"#E1E5ED\"}},\n",
       "                        {\"showLink\": true, \"linkText\": \"Export to plot.ly\", \"plotlyServerURL\": \"https://plot.ly\", \"responsive\": true}\n",
       "                    ).then(function(){\n",
       "                            \n",
       "var gd = document.getElementById('119c0211-e138-4458-9b85-55923ba760a8');\n",
       "var x = new MutationObserver(function (mutations, observer) {{\n",
       "        var display = window.getComputedStyle(gd).display;\n",
       "        if (!display || display === 'none') {{\n",
       "            console.log([gd, 'removed!']);\n",
       "            Plotly.purge(gd);\n",
       "            observer.disconnect();\n",
       "        }}\n",
       "}});\n",
       "\n",
       "// Listen for the removal of the full notebook cells\n",
       "var notebookContainer = gd.closest('#notebook-container');\n",
       "if (notebookContainer) {{\n",
       "    x.observe(notebookContainer, {childList: true});\n",
       "}}\n",
       "\n",
       "// Listen for the clearing of the current output cell\n",
       "var outputEl = gd.closest('.output');\n",
       "if (outputEl) {{\n",
       "    x.observe(outputEl, {childList: true});\n",
       "}}\n",
       "\n",
       "                        })\n",
       "                };\n",
       "                });\n",
       "            </script>\n",
       "        </div>"
      ]
     },
     "metadata": {},
     "output_type": "display_data"
    }
   ],
   "source": [
    "colorscales = [\n",
    "    'Greys', 'YlGnBu', 'Greens', 'YlOrRd', 'Bluered', 'RdBu', 'Reds', 'Blues',\n",
    "    'Picnic', 'Rainbow', 'Portland', 'Jet', 'Hot', 'Blackbody', 'Earth',\n",
    "    'Electric', 'Viridis', 'Cividis'\n",
    "]\n",
    "visitor_industry_df.iplot(x='Total views', y='Industry',  kind='bubble2d', xTitle='Total views', yTitle='Industry',\n",
    "           theme='pearl', size='Total views',\n",
    "         categories='Industry', title='Plot Sized by Total Views and Colored by Industry')"
   ]
  },
  {
   "cell_type": "markdown",
   "metadata": {},
   "source": [
    "### Updates or Engagements"
   ]
  },
  {
   "cell_type": "code",
   "execution_count": 231,
   "metadata": {},
   "outputs": [
    {
     "name": "stdout",
     "output_type": "stream",
     "text": [
      "['Update metrics (aggregated)', 'Update engagement']\n"
     ]
    }
   ],
   "source": [
    "print(engagements.sheet_names)"
   ]
  },
  {
   "cell_type": "code",
   "execution_count": 232,
   "metadata": {},
   "outputs": [],
   "source": [
    "engagement_metrics_aggregate_df = pd.read_excel(engagements_file_path,sheet_name = 'Update metrics (aggregated)')\n",
    "engagement_metrics_update_df = pd.read_excel(engagements_file_path,sheet_name = 'Update engagement')"
   ]
  },
  {
   "cell_type": "markdown",
   "metadata": {},
   "source": [
    "##### Fix the Header"
   ]
  },
  {
   "cell_type": "code",
   "execution_count": 233,
   "metadata": {},
   "outputs": [],
   "source": [
    "## Fix the Header\n",
    "new_header = engagement_metrics_update_df.iloc[0] #grab the first row for the header\n",
    "engagement_metrics_update_df = engagement_metrics_update_df[1:] #take the data less the header row\n",
    "engagement_metrics_update_df.columns = new_header #set the header row as the df header\n",
    "\n",
    "\n",
    "new_header_agg = engagement_metrics_aggregate_df.iloc[0] #grab the first row for the header\n",
    "engagement_metrics_aggregate_df = engagement_metrics_aggregate_df[1:] #take the data less the header row\n",
    "engagement_metrics_aggregate_df.columns = new_header_agg #set the header row as the df header\n"
   ]
  },
  {
   "cell_type": "code",
   "execution_count": 234,
   "metadata": {},
   "outputs": [
    {
     "data": {
      "text/plain": [
       "(Index(['Update title', 'Update link', 'Update type', 'Campaign name',\n",
       "        'Posted by', 'Created date', 'Campaign start date', 'Campaign end date',\n",
       "        'Audience', 'Impressions', 'Video views', 'Clicks',\n",
       "        'Click through rate (CTR)', 'Likes', 'Comments', 'Shares', 'Follows',\n",
       "        'Engagement rate'],\n",
       "       dtype='object', name=0),\n",
       " Index(['Date', 'Impressions (organic)', 'Impressions (sponsored)',\n",
       "        'Impressions (total)', 'Unique impressions (organic)',\n",
       "        'Clicks (organic)', 'Clicks (sponsored)', 'Clicks (total)',\n",
       "        'Reactions (organic)', 'Reactions (sponsored)', 'Reactions (total)',\n",
       "        'Comments (organic)', 'Comments (sponsored)', 'Comments (total)',\n",
       "        'Shares (organic)', 'Shares (sponsored)', 'Shares (total)',\n",
       "        'Engagement rate (organic)', 'Engagement rate (sponsored)',\n",
       "        'Engagement rate (total)'],\n",
       "       dtype='object', name=0))"
      ]
     },
     "execution_count": 234,
     "metadata": {},
     "output_type": "execute_result"
    }
   ],
   "source": [
    "engagement_metrics_update_df.columns, engagement_metrics_aggregate_df.columns"
   ]
  },
  {
   "cell_type": "code",
   "execution_count": null,
   "metadata": {},
   "outputs": [],
   "source": []
  },
  {
   "cell_type": "code",
   "execution_count": 235,
   "metadata": {},
   "outputs": [
    {
     "name": "stdout",
     "output_type": "stream",
     "text": [
      "Min date: 02/08/2019  Max date: 06/06/2019\n",
      "No of records: (69, 18)\n"
     ]
    }
   ],
   "source": [
    "print(\"Min date:\", engagement_metrics_update_df[\"Created date\"].min(), \" Max date:\", engagement_metrics_update_df[\"Created date\"].max())\n",
    "print(f\"No of records: {engagement_metrics_update_df.shape}\")"
   ]
  },
  {
   "cell_type": "code",
   "execution_count": 236,
   "metadata": {},
   "outputs": [
    {
     "data": {
      "text/plain": [
       "(0        Date Impressions (organic) Impressions (sponsored)  \\\n",
       " 1  06/10/2018                     0                       0   \n",
       " 2  06/11/2018                     0                       0   \n",
       " 3  06/12/2018                     0                       0   \n",
       " 4  06/13/2018                     0                       0   \n",
       " 5  06/14/2018                     0                       0   \n",
       " \n",
       " 0 Impressions (total) Unique impressions (organic) Clicks (organic)  \\\n",
       " 1                   0                            0                0   \n",
       " 2                   0                            0                0   \n",
       " 3                   0                            0                0   \n",
       " 4                   0                            0                0   \n",
       " 5                   0                            0                0   \n",
       " \n",
       " 0 Clicks (sponsored) Clicks (total) Reactions (organic) Reactions (sponsored)  \\\n",
       " 1                  0              0                   0                     0   \n",
       " 2                  0              0                   0                     0   \n",
       " 3                  0              0                   0                     0   \n",
       " 4                  0              0                   0                     0   \n",
       " 5                  0              0                   0                     0   \n",
       " \n",
       " 0 Reactions (total) Comments (organic) Comments (sponsored) Comments (total)  \\\n",
       " 1                 0                  0                    0                0   \n",
       " 2                 0                  0                    0                0   \n",
       " 3                 0                  0                    0                0   \n",
       " 4                 0                  0                    0                0   \n",
       " 5                 0                  0                    0                0   \n",
       " \n",
       " 0 Shares (organic) Shares (sponsored) Shares (total)  \\\n",
       " 1                0                  0              0   \n",
       " 2                0                  0              0   \n",
       " 3                0                  0              0   \n",
       " 4                0                  0              0   \n",
       " 5                0                  0              0   \n",
       " \n",
       " 0 Engagement rate (organic) Engagement rate (sponsored)  \\\n",
       " 1                         0                           0   \n",
       " 2                         0                           0   \n",
       " 3                         0                           0   \n",
       " 4                         0                           0   \n",
       " 5                         0                           0   \n",
       " \n",
       " 0 Engagement rate (total)  \n",
       " 1                       0  \n",
       " 2                       0  \n",
       " 3                       0  \n",
       " 4                       0  \n",
       " 5                       0  ,\n",
       " Index(['Date', 'Impressions (organic)', 'Impressions (sponsored)',\n",
       "        'Impressions (total)', 'Unique impressions (organic)',\n",
       "        'Clicks (organic)', 'Clicks (sponsored)', 'Clicks (total)',\n",
       "        'Reactions (organic)', 'Reactions (sponsored)', 'Reactions (total)',\n",
       "        'Comments (organic)', 'Comments (sponsored)', 'Comments (total)',\n",
       "        'Shares (organic)', 'Shares (sponsored)', 'Shares (total)',\n",
       "        'Engagement rate (organic)', 'Engagement rate (sponsored)',\n",
       "        'Engagement rate (total)'],\n",
       "       dtype='object', name=0))"
      ]
     },
     "execution_count": 236,
     "metadata": {},
     "output_type": "execute_result"
    }
   ],
   "source": [
    "engagement_metrics_aggregate_df.head(),engagement_metrics_aggregate_df.columns"
   ]
  },
  {
   "cell_type": "code",
   "execution_count": 237,
   "metadata": {},
   "outputs": [],
   "source": [
    "engagement_metrics_aggregate_df[\"Date\"] = pd.to_datetime(engagement_metrics_aggregate_df[\"Date\"])"
   ]
  },
  {
   "cell_type": "code",
   "execution_count": 238,
   "metadata": {},
   "outputs": [
    {
     "data": {
      "text/plain": [
       "{'Date': 0.0,\n",
       " 'Impressions (organic)': 0.0,\n",
       " 'Impressions (sponsored)': 0.0,\n",
       " 'Impressions (total)': 0.0,\n",
       " 'Unique impressions (organic)': 0.0,\n",
       " 'Clicks (organic)': 0.0,\n",
       " 'Clicks (sponsored)': 0.0,\n",
       " 'Clicks (total)': 0.0,\n",
       " 'Reactions (organic)': 0.0,\n",
       " 'Reactions (sponsored)': 0.0,\n",
       " 'Reactions (total)': 0.0,\n",
       " 'Comments (organic)': 0.0,\n",
       " 'Comments (sponsored)': 0.0,\n",
       " 'Comments (total)': 0.0,\n",
       " 'Shares (organic)': 0.0,\n",
       " 'Shares (sponsored)': 0.0,\n",
       " 'Shares (total)': 0.0,\n",
       " 'Engagement rate (organic)': 0.0,\n",
       " 'Engagement rate (sponsored)': 0.0,\n",
       " 'Engagement rate (total)': 0.0}"
      ]
     },
     "execution_count": 238,
     "metadata": {},
     "output_type": "execute_result"
    }
   ],
   "source": [
    "# determine the percent of missing values\n",
    "def percent_missing(df):\n",
    "    data = pd.DataFrame(df)\n",
    "    df_cols = list(pd.DataFrame(data))\n",
    "    dict_x = {}\n",
    "    for i in range(0, len(df_cols)):\n",
    "        dict_x.update({df_cols[i]: round(data[df_cols[i]].isnull().mean()*100,2)})\n",
    "    \n",
    "    return dict_x\n",
    "\n",
    "percent_missing(engagement_metrics_aggregate_df)"
   ]
  },
  {
   "cell_type": "code",
   "execution_count": 239,
   "metadata": {},
   "outputs": [
    {
     "data": {
      "text/html": [
       "<div>\n",
       "<style scoped>\n",
       "    .dataframe tbody tr th:only-of-type {\n",
       "        vertical-align: middle;\n",
       "    }\n",
       "\n",
       "    .dataframe tbody tr th {\n",
       "        vertical-align: top;\n",
       "    }\n",
       "\n",
       "    .dataframe thead th {\n",
       "        text-align: right;\n",
       "    }\n",
       "</style>\n",
       "<table border=\"1\" class=\"dataframe\">\n",
       "  <thead>\n",
       "    <tr style=\"text-align: right;\">\n",
       "      <th></th>\n",
       "      <th>count</th>\n",
       "      <th>unique</th>\n",
       "      <th>top</th>\n",
       "      <th>freq</th>\n",
       "    </tr>\n",
       "    <tr>\n",
       "      <th>Date</th>\n",
       "      <th></th>\n",
       "      <th></th>\n",
       "      <th></th>\n",
       "      <th></th>\n",
       "    </tr>\n",
       "  </thead>\n",
       "  <tbody>\n",
       "    <tr>\n",
       "      <th>April</th>\n",
       "      <td>30.0</td>\n",
       "      <td>19.0</td>\n",
       "      <td>0.0</td>\n",
       "      <td>11.0</td>\n",
       "    </tr>\n",
       "    <tr>\n",
       "      <th>August</th>\n",
       "      <td>31.0</td>\n",
       "      <td>1.0</td>\n",
       "      <td>0.0</td>\n",
       "      <td>31.0</td>\n",
       "    </tr>\n",
       "    <tr>\n",
       "      <th>December</th>\n",
       "      <td>31.0</td>\n",
       "      <td>1.0</td>\n",
       "      <td>0.0</td>\n",
       "      <td>31.0</td>\n",
       "    </tr>\n",
       "    <tr>\n",
       "      <th>February</th>\n",
       "      <td>28.0</td>\n",
       "      <td>11.0</td>\n",
       "      <td>0.0</td>\n",
       "      <td>18.0</td>\n",
       "    </tr>\n",
       "    <tr>\n",
       "      <th>January</th>\n",
       "      <td>31.0</td>\n",
       "      <td>1.0</td>\n",
       "      <td>0.0</td>\n",
       "      <td>31.0</td>\n",
       "    </tr>\n",
       "    <tr>\n",
       "      <th>July</th>\n",
       "      <td>31.0</td>\n",
       "      <td>1.0</td>\n",
       "      <td>0.0</td>\n",
       "      <td>31.0</td>\n",
       "    </tr>\n",
       "    <tr>\n",
       "      <th>June</th>\n",
       "      <td>31.0</td>\n",
       "      <td>3.0</td>\n",
       "      <td>0.0</td>\n",
       "      <td>29.0</td>\n",
       "    </tr>\n",
       "    <tr>\n",
       "      <th>March</th>\n",
       "      <td>31.0</td>\n",
       "      <td>16.0</td>\n",
       "      <td>0.0</td>\n",
       "      <td>16.0</td>\n",
       "    </tr>\n",
       "    <tr>\n",
       "      <th>May</th>\n",
       "      <td>31.0</td>\n",
       "      <td>21.0</td>\n",
       "      <td>0.0</td>\n",
       "      <td>11.0</td>\n",
       "    </tr>\n",
       "    <tr>\n",
       "      <th>November</th>\n",
       "      <td>30.0</td>\n",
       "      <td>1.0</td>\n",
       "      <td>0.0</td>\n",
       "      <td>30.0</td>\n",
       "    </tr>\n",
       "    <tr>\n",
       "      <th>October</th>\n",
       "      <td>31.0</td>\n",
       "      <td>1.0</td>\n",
       "      <td>0.0</td>\n",
       "      <td>31.0</td>\n",
       "    </tr>\n",
       "    <tr>\n",
       "      <th>September</th>\n",
       "      <td>30.0</td>\n",
       "      <td>1.0</td>\n",
       "      <td>0.0</td>\n",
       "      <td>30.0</td>\n",
       "    </tr>\n",
       "  </tbody>\n",
       "</table>\n",
       "</div>"
      ],
      "text/plain": [
       "           count  unique  top  freq\n",
       "Date                               \n",
       "April       30.0    19.0  0.0  11.0\n",
       "August      31.0     1.0  0.0  31.0\n",
       "December    31.0     1.0  0.0  31.0\n",
       "February    28.0    11.0  0.0  18.0\n",
       "January     31.0     1.0  0.0  31.0\n",
       "July        31.0     1.0  0.0  31.0\n",
       "June        31.0     3.0  0.0  29.0\n",
       "March       31.0    16.0  0.0  16.0\n",
       "May         31.0    21.0  0.0  11.0\n",
       "November    30.0     1.0  0.0  30.0\n",
       "October     31.0     1.0  0.0  31.0\n",
       "September   30.0     1.0  0.0  30.0"
      ]
     },
     "execution_count": 239,
     "metadata": {},
     "output_type": "execute_result"
    }
   ],
   "source": [
    "#engagement_metrics_aggregate_df.set_index(\"Date\")\n",
    "engagement_metrics_aggregate_df.groupby(engagement_metrics_aggregate_df['Date'].dt.strftime('%B'))['Engagement rate (total)'].describe()"
   ]
  },
  {
   "cell_type": "code",
   "execution_count": 240,
   "metadata": {},
   "outputs": [
    {
     "data": {
      "text/plain": [
       "<matplotlib.axes._subplots.AxesSubplot at 0x7fcbd0d59b00>"
      ]
     },
     "execution_count": 240,
     "metadata": {},
     "output_type": "execute_result"
    },
    {
     "data": {
      "image/png": "[encoded data removed]",
      "text/plain": [
       "<Figure size 432x288 with 1 Axes>"
      ]
     },
     "metadata": {
      "needs_background": "light"
     },
     "output_type": "display_data"
    }
   ],
   "source": [
    "engagement_metrics_aggregate_df[[\"Engagement rate (total)\",\"Date\"]].set_index(\"Date\").plot()"
   ]
  },
  {
   "cell_type": "code",
   "execution_count": 241,
   "metadata": {},
   "outputs": [
    {
     "data": {
      "text/plain": [
       "Index(['Update title', 'Update link', 'Update type', 'Campaign name',\n",
       "       'Posted by', 'Created date', 'Campaign start date', 'Campaign end date',\n",
       "       'Audience', 'Impressions', 'Video views', 'Clicks',\n",
       "       'Click through rate (CTR)', 'Likes', 'Comments', 'Shares', 'Follows',\n",
       "       'Engagement rate'],\n",
       "      dtype='object', name=0)"
      ]
     },
     "execution_count": 241,
     "metadata": {},
     "output_type": "execute_result"
    }
   ],
   "source": [
    "engagement_metrics_update_df.columns"
   ]
  },
  {
   "cell_type": "code",
   "execution_count": 242,
   "metadata": {},
   "outputs": [
    {
     "data": {
      "text/plain": [
       "60    Heroin overdoses are at an all-time high. Pres...\n",
       "47    Find out who'll be speaking at Indiana Univers...\n",
       "13    Indiana University CIO, Brad Wheeler, is helpi...\n",
       "49    Susan Elrod has been named chancellor of the I...\n",
       "62    For the first time ever, Americans are now mor...\n",
       "11    IU is in the running for the 2019 Citrix Innov...\n",
       "32    It's a beautiful day to celebrate #IUDay and e...\n",
       "53    \\nMany thanks to moderator Nicole Pence Becker...\n",
       "29    Susan Elrod has been named the next chancellor...\n",
       "61    News from Indiana University South Bend - Inte...\n",
       "6     The IU Alumni Association is proud to present ...\n",
       "34    We're hiring for a new director level position...\n",
       "68    Does your nonprofit have any job, internship, ...\n",
       "44    At Indiana University we go all in. That's why...\n",
       "46    From the Florida Keys to the Great Lakes, Indi...\n",
       "16    Indiana University's ICOs are headed to Hungar...\n",
       "3     The Indiana University Alumni Association valu...\n",
       "33    The Great Mascot Bake Off is too close to call...\n",
       "65    Part of Indiana University's mission is making...\n",
       "12    Last week, we celebrated the Indiana Universit...\n",
       "22    \"The George Taliaferro Plaza will serve as a p...\n",
       "2     Indiana University–Purdue University Indianapo...\n",
       "55    From Indiana University–Purdue University Indi...\n",
       "38    Want to see an Indiana University–Purdue Unive...\n",
       "20    Join us live today at 10 a.m. to celebrate the...\n",
       "Name: Update title, dtype: object"
      ]
     },
     "execution_count": 242,
     "metadata": {},
     "output_type": "execute_result"
    }
   ],
   "source": [
    "engagement_metrics_update_df.sort_values(by='Engagement rate',ascending=False).loc[:20,'Update title']"
   ]
  },
  {
   "cell_type": "markdown",
   "metadata": {},
   "source": [
    "### Followers"
   ]
  },
  {
   "cell_type": "code",
   "execution_count": 243,
   "metadata": {},
   "outputs": [
    {
     "name": "stdout",
     "output_type": "stream",
     "text": [
      "['New followers', 'Location', 'Job function', 'Seniority', 'Industry', 'Company size']\n"
     ]
    }
   ],
   "source": [
    "print(followers.sheet_names)"
   ]
  },
  {
   "cell_type": "code",
   "execution_count": 244,
   "metadata": {},
   "outputs": [],
   "source": [
    "new_followers_df = pd.read_excel(followers_file_path, sheet_name='New followers')\n",
    "followers_location_df = pd.read_excel(followers_file_path,sheet_name = \"Location\")\n",
    "followers_job_function_df = pd.read_excel(followers_file_path,sheet_name = \"Job function\")\n",
    "followers_industry_df = pd.read_excel(followers_file_path,sheet_name= \"Industry\")\n",
    "followers_company_size_df = pd.read_excel(followers_file_path, sheet_name = \"Company size\")\n",
    "followers_seniority_df = pd.read_excel(followers_file_path,sheet_name = \"Seniority\")\n"
   ]
  },
  {
   "cell_type": "code",
   "execution_count": 245,
   "metadata": {},
   "outputs": [
    {
     "name": "stdout",
     "output_type": "stream",
     "text": [
      "Min date: 01/01/2019  Max date: 12/31/2018\n",
      "Number of records, in followers metrics: (366, 4)\n",
      "Number of records, in followers location: (40, 2)\n",
      "Number of records, in followers job function: (22, 2)\n",
      "Number of records, in followers industry: (33, 2)\n",
      "Number of records, in followers company size: (9, 2)\n",
      "Number of records, in followers seniority: (8, 2)\n"
     ]
    }
   ],
   "source": [
    "print(\"Min date:\", new_followers_df['Date'].min(), \" Max date:\", new_followers_df[\"Date\"].max())\n",
    "print(f\"Number of records, in followers metrics: {new_followers_df.shape}\")\n",
    "print(f\"Number of records, in followers location: {followers_location_df.shape}\")\n",
    "print(f\"Number of records, in followers job function: {followers_job_function_df.shape}\")\n",
    "print(f\"Number of records, in followers industry: {followers_industry_df.shape}\")\n",
    "print(f\"Number of records, in followers company size: {followers_company_size_df.shape}\")\n",
    "print(f\"Number of records, in followers seniority: {followers_seniority_df.shape}\")\n",
    "\n"
   ]
  },
  {
   "cell_type": "code",
   "execution_count": 246,
   "metadata": {},
   "outputs": [
    {
     "data": {
      "text/plain": [
       "<matplotlib.axes._subplots.AxesSubplot at 0x7fcc25035f60>"
      ]
     },
     "execution_count": 246,
     "metadata": {},
     "output_type": "execute_result"
    },
    {
     "data": {
      "image/png": "[encoded data removed]",
      "text/plain": [
       "<Figure size 432x288 with 1 Axes>"
      ]
     },
     "metadata": {
      "needs_background": "light"
     },
     "output_type": "display_data"
    }
   ],
   "source": [
    "followers_job_function_df.sort_values(by=\"Total followers\",ascending = False)[:10].set_index(\"Job function\").plot(kind=\"barh\")"
   ]
  },
  {
   "cell_type": "code",
   "execution_count": 247,
   "metadata": {},
   "outputs": [
    {
     "data": {
      "text/plain": [
       "<matplotlib.axes._subplots.AxesSubplot at 0x7fcbd0e1c5f8>"
      ]
     },
     "execution_count": 247,
     "metadata": {},
     "output_type": "execute_result"
    },
    {
     "data": {
      "image/png": "[encoded data removed]",
      "text/plain": [
       "<Figure size 432x288 with 1 Axes>"
      ]
     },
     "metadata": {
      "needs_background": "light"
     },
     "output_type": "display_data"
    }
   ],
   "source": [
    "new_followers_df.set_index(\"Date\").plot(kind=\"line\")"
   ]
  },
  {
   "cell_type": "code",
   "execution_count": 248,
   "metadata": {},
   "outputs": [
    {
     "data": {
      "text/plain": [
       "<matplotlib.axes._subplots.AxesSubplot at 0x7fcbd0e0eeb8>"
      ]
     },
     "execution_count": 248,
     "metadata": {},
     "output_type": "execute_result"
    },
    {
     "data": {
      "image/png": "[encoded data removed]",
      "text/plain": [
       "<Figure size 432x288 with 1 Axes>"
      ]
     },
     "metadata": {},
     "output_type": "display_data"
    }
   ],
   "source": [
    "followers_seniority_df.set_index(\"Seniority\").plot.pie(y = \"Total followers\")\n"
   ]
  },
  {
   "cell_type": "code",
   "execution_count": 249,
   "metadata": {},
   "outputs": [
    {
     "data": {
      "text/html": [
       "<div>\n",
       "<style scoped>\n",
       "    .dataframe tbody tr th:only-of-type {\n",
       "        vertical-align: middle;\n",
       "    }\n",
       "\n",
       "    .dataframe tbody tr th {\n",
       "        vertical-align: top;\n",
       "    }\n",
       "\n",
       "    .dataframe thead th {\n",
       "        text-align: right;\n",
       "    }\n",
       "</style>\n",
       "<table border=\"1\" class=\"dataframe\">\n",
       "  <thead>\n",
       "    <tr style=\"text-align: right;\">\n",
       "      <th></th>\n",
       "      <th>Total followers</th>\n",
       "    </tr>\n",
       "    <tr>\n",
       "      <th>Location</th>\n",
       "      <th></th>\n",
       "    </tr>\n",
       "  </thead>\n",
       "  <tbody>\n",
       "    <tr>\n",
       "      <th>Indianapolis, Indiana Area</th>\n",
       "      <td>80</td>\n",
       "    </tr>\n",
       "    <tr>\n",
       "      <th>Bloomington, Indiana Area</th>\n",
       "      <td>74</td>\n",
       "    </tr>\n",
       "    <tr>\n",
       "      <th>Louisville, Kentucky Area</th>\n",
       "      <td>6</td>\n",
       "    </tr>\n",
       "    <tr>\n",
       "      <th>Cincinnati, Ohio Area</th>\n",
       "      <td>6</td>\n",
       "    </tr>\n",
       "    <tr>\n",
       "      <th>Greater Los Angeles Area</th>\n",
       "      <td>2</td>\n",
       "    </tr>\n",
       "    <tr>\n",
       "      <th>Greater Minneapolis-St. Paul Area</th>\n",
       "      <td>2</td>\n",
       "    </tr>\n",
       "    <tr>\n",
       "      <th>Greater Seattle Area</th>\n",
       "      <td>2</td>\n",
       "    </tr>\n",
       "    <tr>\n",
       "      <th>Orange County, California Area</th>\n",
       "      <td>2</td>\n",
       "    </tr>\n",
       "    <tr>\n",
       "      <th>Washington D.C. Metro Area</th>\n",
       "      <td>2</td>\n",
       "    </tr>\n",
       "    <tr>\n",
       "      <th>South Bend, Indiana Area</th>\n",
       "      <td>2</td>\n",
       "    </tr>\n",
       "    <tr>\n",
       "      <th>Evansville, Indiana Area</th>\n",
       "      <td>2</td>\n",
       "    </tr>\n",
       "    <tr>\n",
       "      <th>San Francisco Bay Area</th>\n",
       "      <td>2</td>\n",
       "    </tr>\n",
       "    <tr>\n",
       "      <th>Columbus, Ohio Area</th>\n",
       "      <td>2</td>\n",
       "    </tr>\n",
       "    <tr>\n",
       "      <th>Bloomington/Normal, Illinois Area</th>\n",
       "      <td>1</td>\n",
       "    </tr>\n",
       "    <tr>\n",
       "      <th>Greater Philadelphia Area</th>\n",
       "      <td>1</td>\n",
       "    </tr>\n",
       "    <tr>\n",
       "      <th>Greater Chicago Area</th>\n",
       "      <td>1</td>\n",
       "    </tr>\n",
       "    <tr>\n",
       "      <th>Kokomo, Indiana Area</th>\n",
       "      <td>1</td>\n",
       "    </tr>\n",
       "    <tr>\n",
       "      <th>Clarksville, Tennessee Area</th>\n",
       "      <td>1</td>\n",
       "    </tr>\n",
       "    <tr>\n",
       "      <th>Zhengzhou, Henan, China</th>\n",
       "      <td>1</td>\n",
       "    </tr>\n",
       "    <tr>\n",
       "      <th>Rockford, Illinois Area</th>\n",
       "      <td>1</td>\n",
       "    </tr>\n",
       "  </tbody>\n",
       "</table>\n",
       "</div>"
      ],
      "text/plain": [
       "                                   Total followers\n",
       "Location                                          \n",
       "Indianapolis, Indiana Area                      80\n",
       "Bloomington, Indiana Area                       74\n",
       "Louisville, Kentucky Area                        6\n",
       "Cincinnati, Ohio Area                            6\n",
       "Greater Los Angeles Area                         2\n",
       "Greater Minneapolis-St. Paul Area                2\n",
       "Greater Seattle Area                             2\n",
       "Orange County, California Area                   2\n",
       "Washington D.C. Metro Area                       2\n",
       "South Bend, Indiana Area                         2\n",
       "Evansville, Indiana Area                         2\n",
       "San Francisco Bay Area                           2\n",
       "Columbus, Ohio Area                              2\n",
       "Bloomington/Normal, Illinois Area                1\n",
       "Greater Philadelphia Area                        1\n",
       "Greater Chicago Area                             1\n",
       "Kokomo, Indiana Area                             1\n",
       "Clarksville, Tennessee Area                      1\n",
       "Zhengzhou, Henan, China                          1\n",
       "Rockford, Illinois Area                          1"
      ]
     },
     "execution_count": 249,
     "metadata": {},
     "output_type": "execute_result"
    }
   ],
   "source": [
    "followers_location_df.set_index(\"Location\").sort_values(by=\"Total followers\",ascending=False)[:20]"
   ]
  },
  {
   "cell_type": "code",
   "execution_count": 250,
   "metadata": {},
   "outputs": [
    {
     "data": {
      "text/plain": [
       "<matplotlib.axes._subplots.AxesSubplot at 0x7fcbc04169b0>"
      ]
     },
     "execution_count": 250,
     "metadata": {},
     "output_type": "execute_result"
    },
    {
     "data": {
      "image/png": "[encoded data removed]",
      "text/plain": [
       "<Figure size 432x288 with 1 Axes>"
      ]
     },
     "metadata": {
      "needs_background": "light"
     },
     "output_type": "display_data"
    }
   ],
   "source": [
    "followers_location_df.set_index(\"Location\").sort_values(by=\"Total followers\",ascending=False)[:20].plot(kind=\"barh\")"
   ]
  },
  {
   "cell_type": "markdown",
   "metadata": {},
   "source": [
    "### Engagement Insights"
   ]
  },
  {
   "cell_type": "code",
   "execution_count": 251,
   "metadata": {},
   "outputs": [],
   "source": [
    "def make_engagement_insights(visitor_metrics_df, engagement_metrics_aggregate_df, new_followers_df):\n",
    "    columns = ['Date',\n",
    "                        'Total page views (desktop)',\n",
    "                        'Total page views (mobile)',\n",
    "                        'Total page views (total)',\n",
    "                        'Total unique visitors (desktop)',\n",
    "                        'Total unique visitors (mobile)',\n",
    "                        'Total unique visitors (total)',\n",
    "                        'Sponsored followers',\n",
    "                        'Organic followers',\n",
    "                        'Total followers',\n",
    "                        'Impressions (organic)', \n",
    "                        'Impressions (sponsored)',\n",
    "                        'Impressions (total)', \n",
    "                        'Unique impressions (organic)',\n",
    "        'Clicks (organic)', 'Clicks (sponsored)', 'Clicks (total)',\n",
    "        'Reactions (organic)', 'Reactions (sponsored)', 'Reactions (total)',\n",
    "        'Comments (organic)', 'Comments (sponsored)', 'Comments (total)',\n",
    "        'Shares (organic)', 'Shares (sponsored)', 'Shares (total)',\n",
    "        'Engagement rate (organic)', 'Engagement rate (sponsored)',\n",
    "        'Engagement rate (total)']\n",
    "\n",
    "\n",
    "    # days between start and end date\n",
    "    delta = end_date - start_date  # timedelta\n",
    "\n",
    "    visitor_metrics_df = visitor_metrics_df.fillna(0)\n",
    "    engagement_metrics_aggregate_df = engagement_metrics_aggregate_df.fillna(0)\n",
    "    new_followers_df = new_followers_df.fillna(0)\n",
    "    \n",
    "    ## Set Index Date\n",
    "    visitor_metrics_df[\"Date\"] = pd.to_datetime(visitor_metrics_df[\"Date\"])\n",
    "    new_followers_df[\"Date\"] = pd.to_datetime(new_followers_df[\"Date\"])\n",
    "    engagement_metrics_aggregate_df[\"Date\"] = pd.to_datetime(engagement_metrics_aggregate_df[\"Date\"])\n",
    "    \n",
    "    visitor_metrics_df = visitor_metrics_df.set_index(\"Date\")\n",
    "    new_followers_df = new_followers_df.set_index(\"Date\")\n",
    "    engagement_metrics_aggregate_df = engagement_metrics_aggregate_df.set_index(\"Date\")\n",
    "\n",
    "    lines = []\n",
    "    for i in range(delta.days + 1):\n",
    "        metric = []\n",
    "\n",
    "        date = start_date + timedelta(days=i)\n",
    "\n",
    "        ## visitor metrics\n",
    "        v = visitor_metrics_df[visitor_metrics_df.index.date==date]\n",
    "        metric.append(date)\n",
    "        metric.append(float(v[\"Total page views (desktop)\"]))\n",
    "        metric.append(float(v[\"Total page views (mobile)\"]))\n",
    "        metric.append(float(v[\"Total page views (total)\"]))\n",
    "        metric.append(float(v[\"Total unique visitors (desktop)\"]))\n",
    "        metric.append(float(v[\"Total unique visitors (mobile)\"]))\n",
    "        metric.append(float(v[\"Total unique visitors (total)\"]))\n",
    "\n",
    "        ## follower metrics\n",
    "\n",
    "        f = new_followers_df[new_followers_df.index.date==date]\n",
    "        metric.append(float(f[\"Sponsored followers\"]))\n",
    "        metric.append(float(f[\"Organic followers\"]))\n",
    "        metric.append(float(f['Total followers']))\n",
    "\n",
    "        ## engagement \n",
    "        try:\n",
    "            e = engagement_metrics_aggregate_df[engagement_metrics_aggregate_df.index.date == date]\n",
    "            metric.append(float(e['Impressions (organic)']))\n",
    "            metric.append(float(e['Impressions (sponsored)']))\n",
    "            metric.append(float(e['Impressions (total)']))\n",
    "            metric.append(float(e['Unique impressions (organic)']))\n",
    "            metric.append(float(e['Clicks (organic)']))\n",
    "            metric.append(float(e['Clicks (total)']))\n",
    "            metric.append(float(e['Clicks (sponsored)']))\n",
    "            metric.append(float(e['Reactions (organic)']))\n",
    "            metric.append(float(e['Reactions (sponsored)']))\n",
    "            metric.append(float(e['Reactions (total)']))\n",
    "            metric.append(float(e['Comments (organic)']))\n",
    "            metric.append(float(e['Comments (sponsored)']))\n",
    "            metric.append(float(e['Comments (total)']))\n",
    "            metric.append(float(e['Shares (organic)']))\n",
    "            metric.append(float(e['Shares (sponsored)']))\n",
    "            metric.append(float(e['Shares (total)']))\n",
    "            metric.append(float(e['Engagement rate (organic)']))\n",
    "            metric.append(float(e['Engagement rate (sponsored)']))\n",
    "            metric.append(float(e['Engagement rate (total)']))         \n",
    "        except e:   \n",
    "            print(\"exception\",str(e))\n",
    "            for r in range(19):\n",
    "                metric.append(0)\n",
    "                \n",
    "        lines.append(metric)\n",
    "        \n",
    "    \n",
    "    ### \n",
    "    df = pd.DataFrame(lines, \n",
    "               columns =columns)\n",
    "    return df\n",
    "    \n",
    "        "
   ]
  },
  {
   "cell_type": "code",
   "execution_count": null,
   "metadata": {},
   "outputs": [],
   "source": []
  },
  {
   "cell_type": "code",
   "execution_count": 252,
   "metadata": {},
   "outputs": [],
   "source": [
    "engagement_df = make_engagement_insights(visitor_metrics_df,engagement_metrics_aggregate_df,new_followers_df)"
   ]
  },
  {
   "cell_type": "code",
   "execution_count": 253,
   "metadata": {},
   "outputs": [
    {
     "name": "stdout",
     "output_type": "stream",
     "text": [
      "Number of rows and columns (366, 29)\n"
     ]
    }
   ],
   "source": [
    "print(f\"Number of rows and columns\",engagement_df.shape)"
   ]
  },
  {
   "cell_type": "code",
   "execution_count": 254,
   "metadata": {},
   "outputs": [
    {
     "data": {
      "text/plain": [
       "datetime.date(2019, 6, 10)"
      ]
     },
     "execution_count": 254,
     "metadata": {},
     "output_type": "execute_result"
    }
   ],
   "source": [
    "engagement_df[\"Date\"].max()\n"
   ]
  },
  {
   "cell_type": "code",
   "execution_count": 255,
   "metadata": {
    "scrolled": true
   },
   "outputs": [
    {
     "data": {
      "text/html": [
       "<div>\n",
       "<style scoped>\n",
       "    .dataframe tbody tr th:only-of-type {\n",
       "        vertical-align: middle;\n",
       "    }\n",
       "\n",
       "    .dataframe tbody tr th {\n",
       "        vertical-align: top;\n",
       "    }\n",
       "\n",
       "    .dataframe thead th {\n",
       "        text-align: right;\n",
       "    }\n",
       "</style>\n",
       "<table border=\"1\" class=\"dataframe\">\n",
       "  <thead>\n",
       "    <tr style=\"text-align: right;\">\n",
       "      <th></th>\n",
       "      <th>Date</th>\n",
       "      <th>Total page views (desktop)</th>\n",
       "      <th>Total page views (mobile)</th>\n",
       "      <th>Total page views (total)</th>\n",
       "      <th>Total unique visitors (desktop)</th>\n",
       "      <th>Total unique visitors (mobile)</th>\n",
       "      <th>Total unique visitors (total)</th>\n",
       "      <th>Sponsored followers</th>\n",
       "      <th>Organic followers</th>\n",
       "      <th>Total followers</th>\n",
       "      <th>Impressions (organic)</th>\n",
       "      <th>Impressions (sponsored)</th>\n",
       "      <th>Impressions (total)</th>\n",
       "      <th>Unique impressions (organic)</th>\n",
       "      <th>Clicks (organic)</th>\n",
       "      <th>Clicks (sponsored)</th>\n",
       "      <th>Clicks (total)</th>\n",
       "      <th>Reactions (organic)</th>\n",
       "      <th>Reactions (sponsored)</th>\n",
       "      <th>Reactions (total)</th>\n",
       "      <th>Comments (organic)</th>\n",
       "      <th>Comments (sponsored)</th>\n",
       "      <th>Comments (total)</th>\n",
       "      <th>Shares (organic)</th>\n",
       "      <th>Shares (sponsored)</th>\n",
       "      <th>Shares (total)</th>\n",
       "      <th>Engagement rate (organic)</th>\n",
       "      <th>Engagement rate (sponsored)</th>\n",
       "      <th>Engagement rate (total)</th>\n",
       "    </tr>\n",
       "  </thead>\n",
       "  <tbody>\n",
       "    <tr>\n",
       "      <th>0</th>\n",
       "      <td>2018-06-10</td>\n",
       "      <td>0.0</td>\n",
       "      <td>0.0</td>\n",
       "      <td>0.0</td>\n",
       "      <td>0.0</td>\n",
       "      <td>0.0</td>\n",
       "      <td>0.0</td>\n",
       "      <td>0.0</td>\n",
       "      <td>0.0</td>\n",
       "      <td>0.0</td>\n",
       "      <td>0.0</td>\n",
       "      <td>0.0</td>\n",
       "      <td>0.0</td>\n",
       "      <td>0.0</td>\n",
       "      <td>0.0</td>\n",
       "      <td>0.0</td>\n",
       "      <td>0.0</td>\n",
       "      <td>0.0</td>\n",
       "      <td>0.0</td>\n",
       "      <td>0.0</td>\n",
       "      <td>0.0</td>\n",
       "      <td>0.0</td>\n",
       "      <td>0.0</td>\n",
       "      <td>0.0</td>\n",
       "      <td>0.0</td>\n",
       "      <td>0.0</td>\n",
       "      <td>0.0</td>\n",
       "      <td>0.0</td>\n",
       "      <td>0.0</td>\n",
       "    </tr>\n",
       "    <tr>\n",
       "      <th>1</th>\n",
       "      <td>2018-06-11</td>\n",
       "      <td>0.0</td>\n",
       "      <td>0.0</td>\n",
       "      <td>0.0</td>\n",
       "      <td>0.0</td>\n",
       "      <td>0.0</td>\n",
       "      <td>0.0</td>\n",
       "      <td>0.0</td>\n",
       "      <td>0.0</td>\n",
       "      <td>0.0</td>\n",
       "      <td>0.0</td>\n",
       "      <td>0.0</td>\n",
       "      <td>0.0</td>\n",
       "      <td>0.0</td>\n",
       "      <td>0.0</td>\n",
       "      <td>0.0</td>\n",
       "      <td>0.0</td>\n",
       "      <td>0.0</td>\n",
       "      <td>0.0</td>\n",
       "      <td>0.0</td>\n",
       "      <td>0.0</td>\n",
       "      <td>0.0</td>\n",
       "      <td>0.0</td>\n",
       "      <td>0.0</td>\n",
       "      <td>0.0</td>\n",
       "      <td>0.0</td>\n",
       "      <td>0.0</td>\n",
       "      <td>0.0</td>\n",
       "      <td>0.0</td>\n",
       "    </tr>\n",
       "    <tr>\n",
       "      <th>2</th>\n",
       "      <td>2018-06-12</td>\n",
       "      <td>0.0</td>\n",
       "      <td>0.0</td>\n",
       "      <td>0.0</td>\n",
       "      <td>0.0</td>\n",
       "      <td>0.0</td>\n",
       "      <td>0.0</td>\n",
       "      <td>0.0</td>\n",
       "      <td>0.0</td>\n",
       "      <td>0.0</td>\n",
       "      <td>0.0</td>\n",
       "      <td>0.0</td>\n",
       "      <td>0.0</td>\n",
       "      <td>0.0</td>\n",
       "      <td>0.0</td>\n",
       "      <td>0.0</td>\n",
       "      <td>0.0</td>\n",
       "      <td>0.0</td>\n",
       "      <td>0.0</td>\n",
       "      <td>0.0</td>\n",
       "      <td>0.0</td>\n",
       "      <td>0.0</td>\n",
       "      <td>0.0</td>\n",
       "      <td>0.0</td>\n",
       "      <td>0.0</td>\n",
       "      <td>0.0</td>\n",
       "      <td>0.0</td>\n",
       "      <td>0.0</td>\n",
       "      <td>0.0</td>\n",
       "    </tr>\n",
       "    <tr>\n",
       "      <th>3</th>\n",
       "      <td>2018-06-13</td>\n",
       "      <td>0.0</td>\n",
       "      <td>0.0</td>\n",
       "      <td>0.0</td>\n",
       "      <td>0.0</td>\n",
       "      <td>0.0</td>\n",
       "      <td>0.0</td>\n",
       "      <td>0.0</td>\n",
       "      <td>0.0</td>\n",
       "      <td>0.0</td>\n",
       "      <td>0.0</td>\n",
       "      <td>0.0</td>\n",
       "      <td>0.0</td>\n",
       "      <td>0.0</td>\n",
       "      <td>0.0</td>\n",
       "      <td>0.0</td>\n",
       "      <td>0.0</td>\n",
       "      <td>0.0</td>\n",
       "      <td>0.0</td>\n",
       "      <td>0.0</td>\n",
       "      <td>0.0</td>\n",
       "      <td>0.0</td>\n",
       "      <td>0.0</td>\n",
       "      <td>0.0</td>\n",
       "      <td>0.0</td>\n",
       "      <td>0.0</td>\n",
       "      <td>0.0</td>\n",
       "      <td>0.0</td>\n",
       "      <td>0.0</td>\n",
       "    </tr>\n",
       "    <tr>\n",
       "      <th>4</th>\n",
       "      <td>2018-06-14</td>\n",
       "      <td>0.0</td>\n",
       "      <td>0.0</td>\n",
       "      <td>0.0</td>\n",
       "      <td>0.0</td>\n",
       "      <td>0.0</td>\n",
       "      <td>0.0</td>\n",
       "      <td>0.0</td>\n",
       "      <td>0.0</td>\n",
       "      <td>0.0</td>\n",
       "      <td>0.0</td>\n",
       "      <td>0.0</td>\n",
       "      <td>0.0</td>\n",
       "      <td>0.0</td>\n",
       "      <td>0.0</td>\n",
       "      <td>0.0</td>\n",
       "      <td>0.0</td>\n",
       "      <td>0.0</td>\n",
       "      <td>0.0</td>\n",
       "      <td>0.0</td>\n",
       "      <td>0.0</td>\n",
       "      <td>0.0</td>\n",
       "      <td>0.0</td>\n",
       "      <td>0.0</td>\n",
       "      <td>0.0</td>\n",
       "      <td>0.0</td>\n",
       "      <td>0.0</td>\n",
       "      <td>0.0</td>\n",
       "      <td>0.0</td>\n",
       "    </tr>\n",
       "  </tbody>\n",
       "</table>\n",
       "</div>"
      ],
      "text/plain": [
       "         Date  Total page views (desktop)  Total page views (mobile)  \\\n",
       "0  2018-06-10                         0.0                        0.0   \n",
       "1  2018-06-11                         0.0                        0.0   \n",
       "2  2018-06-12                         0.0                        0.0   \n",
       "3  2018-06-13                         0.0                        0.0   \n",
       "4  2018-06-14                         0.0                        0.0   \n",
       "\n",
       "   Total page views (total)  Total unique visitors (desktop)  \\\n",
       "0                       0.0                              0.0   \n",
       "1                       0.0                              0.0   \n",
       "2                       0.0                              0.0   \n",
       "3                       0.0                              0.0   \n",
       "4                       0.0                              0.0   \n",
       "\n",
       "   Total unique visitors (mobile)  Total unique visitors (total)  \\\n",
       "0                             0.0                            0.0   \n",
       "1                             0.0                            0.0   \n",
       "2                             0.0                            0.0   \n",
       "3                             0.0                            0.0   \n",
       "4                             0.0                            0.0   \n",
       "\n",
       "   Sponsored followers  Organic followers  Total followers  \\\n",
       "0                  0.0                0.0              0.0   \n",
       "1                  0.0                0.0              0.0   \n",
       "2                  0.0                0.0              0.0   \n",
       "3                  0.0                0.0              0.0   \n",
       "4                  0.0                0.0              0.0   \n",
       "\n",
       "   Impressions (organic)  Impressions (sponsored)  Impressions (total)  \\\n",
       "0                    0.0                      0.0                  0.0   \n",
       "1                    0.0                      0.0                  0.0   \n",
       "2                    0.0                      0.0                  0.0   \n",
       "3                    0.0                      0.0                  0.0   \n",
       "4                    0.0                      0.0                  0.0   \n",
       "\n",
       "   Unique impressions (organic)  Clicks (organic)  Clicks (sponsored)  \\\n",
       "0                           0.0               0.0                 0.0   \n",
       "1                           0.0               0.0                 0.0   \n",
       "2                           0.0               0.0                 0.0   \n",
       "3                           0.0               0.0                 0.0   \n",
       "4                           0.0               0.0                 0.0   \n",
       "\n",
       "   Clicks (total)  Reactions (organic)  Reactions (sponsored)  \\\n",
       "0             0.0                  0.0                    0.0   \n",
       "1             0.0                  0.0                    0.0   \n",
       "2             0.0                  0.0                    0.0   \n",
       "3             0.0                  0.0                    0.0   \n",
       "4             0.0                  0.0                    0.0   \n",
       "\n",
       "   Reactions (total)  Comments (organic)  Comments (sponsored)  \\\n",
       "0                0.0                 0.0                   0.0   \n",
       "1                0.0                 0.0                   0.0   \n",
       "2                0.0                 0.0                   0.0   \n",
       "3                0.0                 0.0                   0.0   \n",
       "4                0.0                 0.0                   0.0   \n",
       "\n",
       "   Comments (total)  Shares (organic)  Shares (sponsored)  Shares (total)  \\\n",
       "0               0.0               0.0                 0.0             0.0   \n",
       "1               0.0               0.0                 0.0             0.0   \n",
       "2               0.0               0.0                 0.0             0.0   \n",
       "3               0.0               0.0                 0.0             0.0   \n",
       "4               0.0               0.0                 0.0             0.0   \n",
       "\n",
       "   Engagement rate (organic)  Engagement rate (sponsored)  \\\n",
       "0                        0.0                          0.0   \n",
       "1                        0.0                          0.0   \n",
       "2                        0.0                          0.0   \n",
       "3                        0.0                          0.0   \n",
       "4                        0.0                          0.0   \n",
       "\n",
       "   Engagement rate (total)  \n",
       "0                      0.0  \n",
       "1                      0.0  \n",
       "2                      0.0  \n",
       "3                      0.0  \n",
       "4                      0.0  "
      ]
     },
     "execution_count": 255,
     "metadata": {},
     "output_type": "execute_result"
    }
   ],
   "source": [
    "#engagement_top_posts_filepath\n",
    "\n",
    "engagement_df.head()"
   ]
  },
  {
   "cell_type": "markdown",
   "metadata": {},
   "source": [
    "### Engagement Posts"
   ]
  },
  {
   "cell_type": "code",
   "execution_count": 256,
   "metadata": {},
   "outputs": [],
   "source": [
    "def make_engagement_posts(engagement_metrics_update_df):\n",
    "    columns = ['Created date',\n",
    "                        'Post title',\n",
    "                        'Post link',\n",
    "                        'Post type',\n",
    "                        'Impressions',\n",
    "                        'Video views',\n",
    "                        'Clicks',\n",
    "                        'Click through rate (CTR)',\n",
    "                        'Likes',\n",
    "                        'Comments',\n",
    "                        'Shares', \n",
    "                        'Follows',\n",
    "        'Engagement rate'] \n",
    "    \n",
    "    engagement_metrics_update_df = engagement_metrics_update_df.fillna(0)\n",
    "    data = []\n",
    "    for index, row in engagement_metrics_update_df.iterrows():\n",
    "        data.append([row[\"Created date\"], row[\"Update title\"],row[\"Update link\"],row[\"Update type\"],\n",
    "                           row[\"Impressions\"],row[\"Video views\"],row[\"Clicks\"],row[\"Click through rate (CTR)\"],\n",
    "                           row[\"Likes\"],row[\"Comments\"], row[\"Shares\"],row[\"Follows\"],row[\"Engagement rate\"]\n",
    "                           ])\n",
    "    \n",
    "    engagement_posts_df = pd.DataFrame(data, \n",
    "               columns =columns)\n",
    "    \n",
    "    \n",
    "    return engagement_posts_df\n",
    "    \n",
    "\n",
    "    "
   ]
  },
  {
   "cell_type": "code",
   "execution_count": 257,
   "metadata": {},
   "outputs": [],
   "source": [
    "engagement_posts_df = make_engagement_posts(engagement_metrics_update_df)"
   ]
  },
  {
   "cell_type": "code",
   "execution_count": 258,
   "metadata": {},
   "outputs": [
    {
     "name": "stdout",
     "output_type": "stream",
     "text": [
      "Number of rows and columns (69, 13)\n"
     ]
    }
   ],
   "source": [
    "print(f\"Number of rows and columns\",engagement_posts_df.shape)"
   ]
  },
  {
   "cell_type": "code",
   "execution_count": 259,
   "metadata": {},
   "outputs": [
    {
     "data": {
      "text/html": [
       "<div>\n",
       "<style scoped>\n",
       "    .dataframe tbody tr th:only-of-type {\n",
       "        vertical-align: middle;\n",
       "    }\n",
       "\n",
       "    .dataframe tbody tr th {\n",
       "        vertical-align: top;\n",
       "    }\n",
       "\n",
       "    .dataframe thead th {\n",
       "        text-align: right;\n",
       "    }\n",
       "</style>\n",
       "<table border=\"1\" class=\"dataframe\">\n",
       "  <thead>\n",
       "    <tr style=\"text-align: right;\">\n",
       "      <th></th>\n",
       "      <th>Created date</th>\n",
       "      <th>Post title</th>\n",
       "      <th>Post link</th>\n",
       "      <th>Post type</th>\n",
       "      <th>Impressions</th>\n",
       "      <th>Video views</th>\n",
       "      <th>Clicks</th>\n",
       "      <th>Click through rate (CTR)</th>\n",
       "      <th>Likes</th>\n",
       "      <th>Comments</th>\n",
       "      <th>Shares</th>\n",
       "      <th>Follows</th>\n",
       "      <th>Engagement rate</th>\n",
       "    </tr>\n",
       "  </thead>\n",
       "  <tbody>\n",
       "    <tr>\n",
       "      <th>0</th>\n",
       "      <td>06/06/2019</td>\n",
       "      <td>Business law and ethics professor and IU-Bloom...</td>\n",
       "      <td>https://www.linkedin.com/feed/update/urn:li:ac...</td>\n",
       "      <td>Organic</td>\n",
       "      <td>84</td>\n",
       "      <td>0</td>\n",
       "      <td>1</td>\n",
       "      <td>0.011905</td>\n",
       "      <td>0</td>\n",
       "      <td>0</td>\n",
       "      <td>0</td>\n",
       "      <td>0</td>\n",
       "      <td>0.011905</td>\n",
       "    </tr>\n",
       "    <tr>\n",
       "      <th>1</th>\n",
       "      <td>06/04/2019</td>\n",
       "      <td>Indiana University–Purdue University Indianapo...</td>\n",
       "      <td>https://www.linkedin.com/feed/update/urn:li:ac...</td>\n",
       "      <td>Organic</td>\n",
       "      <td>47</td>\n",
       "      <td>0</td>\n",
       "      <td>2</td>\n",
       "      <td>0.042553</td>\n",
       "      <td>0</td>\n",
       "      <td>0</td>\n",
       "      <td>0</td>\n",
       "      <td>0</td>\n",
       "      <td>0.042553</td>\n",
       "    </tr>\n",
       "    <tr>\n",
       "      <th>2</th>\n",
       "      <td>05/31/2019</td>\n",
       "      <td>The Indiana University Alumni Association valu...</td>\n",
       "      <td>https://www.linkedin.com/feed/update/urn:li:ac...</td>\n",
       "      <td>Organic</td>\n",
       "      <td>62</td>\n",
       "      <td>0</td>\n",
       "      <td>2</td>\n",
       "      <td>0.032258</td>\n",
       "      <td>1</td>\n",
       "      <td>0</td>\n",
       "      <td>0</td>\n",
       "      <td>0</td>\n",
       "      <td>0.048387</td>\n",
       "    </tr>\n",
       "    <tr>\n",
       "      <th>3</th>\n",
       "      <td>05/31/2019</td>\n",
       "      <td>\\nWho likes dealing with paperwork, especially...</td>\n",
       "      <td>https://www.linkedin.com/feed/update/urn:li:ac...</td>\n",
       "      <td>Organic</td>\n",
       "      <td>50</td>\n",
       "      <td>0</td>\n",
       "      <td>0</td>\n",
       "      <td>0.000000</td>\n",
       "      <td>0</td>\n",
       "      <td>0</td>\n",
       "      <td>0</td>\n",
       "      <td>0</td>\n",
       "      <td>0.000000</td>\n",
       "    </tr>\n",
       "    <tr>\n",
       "      <th>4</th>\n",
       "      <td>05/30/2019</td>\n",
       "      <td>Celebrate Indiana University’s Bicentennial on...</td>\n",
       "      <td>https://www.linkedin.com/feed/update/urn:li:ac...</td>\n",
       "      <td>Organic</td>\n",
       "      <td>125</td>\n",
       "      <td>0</td>\n",
       "      <td>0</td>\n",
       "      <td>0.000000</td>\n",
       "      <td>0</td>\n",
       "      <td>0</td>\n",
       "      <td>0</td>\n",
       "      <td>0</td>\n",
       "      <td>0.000000</td>\n",
       "    </tr>\n",
       "  </tbody>\n",
       "</table>\n",
       "</div>"
      ],
      "text/plain": [
       "  Created date                                         Post title  \\\n",
       "0   06/06/2019  Business law and ethics professor and IU-Bloom...   \n",
       "1   06/04/2019  Indiana University–Purdue University Indianapo...   \n",
       "2   05/31/2019  The Indiana University Alumni Association valu...   \n",
       "3   05/31/2019  \\nWho likes dealing with paperwork, especially...   \n",
       "4   05/30/2019  Celebrate Indiana University’s Bicentennial on...   \n",
       "\n",
       "                                           Post link Post type  Impressions  \\\n",
       "0  https://www.linkedin.com/feed/update/urn:li:ac...   Organic           84   \n",
       "1  https://www.linkedin.com/feed/update/urn:li:ac...   Organic           47   \n",
       "2  https://www.linkedin.com/feed/update/urn:li:ac...   Organic           62   \n",
       "3  https://www.linkedin.com/feed/update/urn:li:ac...   Organic           50   \n",
       "4  https://www.linkedin.com/feed/update/urn:li:ac...   Organic          125   \n",
       "\n",
       "   Video views  Clicks  Click through rate (CTR)  Likes  Comments  Shares  \\\n",
       "0            0       1                  0.011905      0         0       0   \n",
       "1            0       2                  0.042553      0         0       0   \n",
       "2            0       2                  0.032258      1         0       0   \n",
       "3            0       0                  0.000000      0         0       0   \n",
       "4            0       0                  0.000000      0         0       0   \n",
       "\n",
       "   Follows  Engagement rate  \n",
       "0        0         0.011905  \n",
       "1        0         0.042553  \n",
       "2        0         0.048387  \n",
       "3        0         0.000000  \n",
       "4        0         0.000000  "
      ]
     },
     "execution_count": 259,
     "metadata": {},
     "output_type": "execute_result"
    }
   ],
   "source": [
    "engagement_posts_df.head()"
   ]
  },
  {
   "cell_type": "code",
   "execution_count": 260,
   "metadata": {},
   "outputs": [
    {
     "data": {
      "text/html": [
       "<div>\n",
       "<style scoped>\n",
       "    .dataframe tbody tr th:only-of-type {\n",
       "        vertical-align: middle;\n",
       "    }\n",
       "\n",
       "    .dataframe tbody tr th {\n",
       "        vertical-align: top;\n",
       "    }\n",
       "\n",
       "    .dataframe thead th {\n",
       "        text-align: right;\n",
       "    }\n",
       "</style>\n",
       "<table border=\"1\" class=\"dataframe\">\n",
       "  <thead>\n",
       "    <tr style=\"text-align: right;\">\n",
       "      <th></th>\n",
       "      <th>Location</th>\n",
       "      <th>Total views</th>\n",
       "    </tr>\n",
       "  </thead>\n",
       "  <tbody>\n",
       "    <tr>\n",
       "      <th>0</th>\n",
       "      <td>Greater Boston Area</td>\n",
       "      <td>9</td>\n",
       "    </tr>\n",
       "    <tr>\n",
       "      <th>1</th>\n",
       "      <td>Greater Chicago Area</td>\n",
       "      <td>17</td>\n",
       "    </tr>\n",
       "    <tr>\n",
       "      <th>2</th>\n",
       "      <td>Cincinnati, Ohio Area</td>\n",
       "      <td>9</td>\n",
       "    </tr>\n",
       "    <tr>\n",
       "      <th>3</th>\n",
       "      <td>Dallas/Fort Worth Area</td>\n",
       "      <td>11</td>\n",
       "    </tr>\n",
       "    <tr>\n",
       "      <th>4</th>\n",
       "      <td>Greater Denver Area</td>\n",
       "      <td>3</td>\n",
       "    </tr>\n",
       "  </tbody>\n",
       "</table>\n",
       "</div>"
      ],
      "text/plain": [
       "                 Location  Total views\n",
       "0     Greater Boston Area            9\n",
       "1    Greater Chicago Area           17\n",
       "2   Cincinnati, Ohio Area            9\n",
       "3  Dallas/Fort Worth Area           11\n",
       "4     Greater Denver Area            3"
      ]
     },
     "execution_count": 260,
     "metadata": {},
     "output_type": "execute_result"
    }
   ],
   "source": [
    "visitor_location_df.head()"
   ]
  },
  {
   "cell_type": "markdown",
   "metadata": {},
   "source": [
    "### Visitor Demographic Insights"
   ]
  },
  {
   "cell_type": "code",
   "execution_count": 261,
   "metadata": {},
   "outputs": [
    {
     "data": {
      "text/html": [
       "<div>\n",
       "<style scoped>\n",
       "    .dataframe tbody tr th:only-of-type {\n",
       "        vertical-align: middle;\n",
       "    }\n",
       "\n",
       "    .dataframe tbody tr th {\n",
       "        vertical-align: top;\n",
       "    }\n",
       "\n",
       "    .dataframe thead th {\n",
       "        text-align: right;\n",
       "    }\n",
       "</style>\n",
       "<table border=\"1\" class=\"dataframe\">\n",
       "  <thead>\n",
       "    <tr style=\"text-align: right;\">\n",
       "      <th></th>\n",
       "      <th>Location</th>\n",
       "      <th>Total views</th>\n",
       "    </tr>\n",
       "  </thead>\n",
       "  <tbody>\n",
       "    <tr>\n",
       "      <th>0</th>\n",
       "      <td>Greater Boston Area</td>\n",
       "      <td>9</td>\n",
       "    </tr>\n",
       "    <tr>\n",
       "      <th>1</th>\n",
       "      <td>Greater Chicago Area</td>\n",
       "      <td>17</td>\n",
       "    </tr>\n",
       "    <tr>\n",
       "      <th>2</th>\n",
       "      <td>Cincinnati, Ohio Area</td>\n",
       "      <td>9</td>\n",
       "    </tr>\n",
       "    <tr>\n",
       "      <th>3</th>\n",
       "      <td>Dallas/Fort Worth Area</td>\n",
       "      <td>11</td>\n",
       "    </tr>\n",
       "    <tr>\n",
       "      <th>4</th>\n",
       "      <td>Greater Denver Area</td>\n",
       "      <td>3</td>\n",
       "    </tr>\n",
       "  </tbody>\n",
       "</table>\n",
       "</div>"
      ],
      "text/plain": [
       "                 Location  Total views\n",
       "0     Greater Boston Area            9\n",
       "1    Greater Chicago Area           17\n",
       "2   Cincinnati, Ohio Area            9\n",
       "3  Dallas/Fort Worth Area           11\n",
       "4     Greater Denver Area            3"
      ]
     },
     "execution_count": 261,
     "metadata": {},
     "output_type": "execute_result"
    }
   ],
   "source": [
    "visitor_location_df.head()\n"
   ]
  },
  {
   "cell_type": "markdown",
   "metadata": {},
   "source": [
    "### Follower Demographics Insights"
   ]
  },
  {
   "cell_type": "code",
   "execution_count": 262,
   "metadata": {},
   "outputs": [
    {
     "name": "stdout",
     "output_type": "stream",
     "text": [
      "(40, 2)\n"
     ]
    }
   ],
   "source": [
    "print(followers_location_df.shape)\n"
   ]
  },
  {
   "cell_type": "markdown",
   "metadata": {},
   "source": [
    "## Build Excel Sheets"
   ]
  },
  {
   "cell_type": "code",
   "execution_count": 263,
   "metadata": {},
   "outputs": [],
   "source": [
    "## Output\n",
    "file = \"iu_linkedIn_data.xlsx\"\n",
    "\n",
    "## Save to Engagement insights\n",
    "engagement_insights_sheetname = \"engagement_insights\"\n",
    "engagement_top_posts_sheetname = \"top_engagement_posts\"\n",
    "\n",
    "### Visitor Demographic Insights\n",
    "visitor_demographics_location_sheetname = \"visitors_by_location\"\n",
    "visitor_demographics_industry_sheetname = \"visitors_by_industry\"\n",
    "\n",
    "\n",
    "### Follower Demographic insights\n",
    "follower_demographics_location_sheetname = \"followers_by_location\"\n",
    "follower_demographics_industry_sheetname = \"followers_by_industry\"\n",
    "follower_demographics_seniority_sheetname = \"followers_by_seniority\""
   ]
  },
  {
   "cell_type": "code",
   "execution_count": 264,
   "metadata": {},
   "outputs": [
    {
     "name": "stdout",
     "output_type": "stream",
     "text": [
      "RangeIndex(start=0, stop=93, step=1)\n"
     ]
    }
   ],
   "source": [
    "print(visitor_industry_df.index)"
   ]
  },
  {
   "cell_type": "code",
   "execution_count": 265,
   "metadata": {},
   "outputs": [],
   "source": [
    "with pd.ExcelWriter(os.path.join(processed_data_dir,file),engine='xlsxwriter') as writer:\n",
    "    \n",
    "    ## Metrics\n",
    "    engagement_df.to_excel(writer, sheet_name=engagement_insights_sheetname,index= False)\n",
    "    engagement_posts_df.to_excel(writer, sheet_name=engagement_top_posts_sheetname,index= False)\n",
    "    \n",
    "    ## visitor demographics\n",
    "    visitor_location_df.to_excel(writer, sheet_name = visitor_demographics_location_sheetname,index=False)\n",
    "    visitor_industry_df.to_excel(writer, sheet_name = visitor_demographics_industry_sheetname,index=False)\n",
    "\n",
    "    ## follower demographics\n",
    "    followers_location_df.to_excel(writer, sheet_name = follower_demographics_location_sheetname,index=False)\n",
    "    followers_industry_df.to_excel(writer, sheet_name = follower_demographics_industry_sheetname,index=False)\n",
    "    followers_seniority_df.to_excel(writer, sheet_name = follower_demographics_seniority_sheetname,index=False)\n",
    "    \n",
    "    \n",
    "    writer.save()"
   ]
  },
  {
   "cell_type": "code",
   "execution_count": null,
   "metadata": {},
   "outputs": [],
   "source": []
  },
  {
   "cell_type": "code",
   "execution_count": null,
   "metadata": {},
   "outputs": [],
   "source": []
  }
 ],
 "metadata": {
  "kernelspec": {
   "display_name": "Python 3",
   "language": "python",
   "name": "python3"
  },
  "language_info": {
   "codemirror_mode": {
    "name": "ipython",
    "version": 3
   },
   "file_extension": ".py",
   "mimetype": "text/x-python",
   "name": "python",
   "nbconvert_exporter": "python",
   "pygments_lexer": "ipython3",
   "version": "3.7.3"
  }
 },
 "nbformat": 4,
 "nbformat_minor": 2
}
