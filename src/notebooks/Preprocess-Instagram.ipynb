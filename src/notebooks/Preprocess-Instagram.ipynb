{
 "cells": [
  {
   "cell_type": "code",
   "execution_count": 36,
   "metadata": {},
   "outputs": [
    {
     "data": {
      "text/html": [
       "        <script type=\"text/javascript\">\n",
       "        window.PlotlyConfig = {MathJaxConfig: 'local'};\n",
       "        if (window.MathJax) {MathJax.Hub.Config({SVG: {font: \"STIX-Web\"}});}\n",
       "        if (typeof require !== 'undefined') {\n",
       "        require.undef(\"plotly\");\n",
       "        requirejs.config({\n",
       "            paths: {\n",
       "                'plotly': ['https://cdn.plot.ly/plotly-latest.min']\n",
       "            }\n",
       "        });\n",
       "        require(['plotly'], function(Plotly) {\n",
       "            window._Plotly = Plotly;\n",
       "        });\n",
       "        }\n",
       "        </script>\n",
       "        "
      ]
     },
     "metadata": {},
     "output_type": "display_data"
    }
   ],
   "source": [
    "import os\n",
    "import pandas as pdr \n",
    "import numpy as np\n",
    "from datetime import date, timedelta, datetime\n",
    "import csv\n",
    "\n",
    "\n",
    "### Data Visualization\n",
    "\n",
    "import matplotlib.pyplot as plt\n",
    "import seaborn as sns\n",
    "import plotly \n",
    "\n",
    "# Replace with your information\n",
    "plotly.tools.set_credentials_file(username='mchivuku', api_key='ONCxWI3IjbPiHtld9PFm')\n",
    "# plotly standard imports\n",
    "import plotly.graph_objs as go\n",
    "import plotly.plotly as py\n",
    "\n",
    "# Cufflinks wrapper on plotly\n",
    "import cufflinks\n",
    "\n",
    "\n",
    "# Options for pandas\n",
    "pd.options.display.max_columns = 30\n",
    "\n",
    "# Display all cell outputs\n",
    "from IPython.core.interactiveshell import InteractiveShell\n",
    "InteractiveShell.ast_node_interactivity = 'all'\n",
    "\n",
    "from plotly.offline import iplot\n",
    "cufflinks.go_offline()\n",
    "\n",
    "# Set global theme\n",
    "cufflinks.set_config_file(world_readable=True, theme='pearl')\n",
    "\n",
    "%matplotlib inline\n",
    "plt.style.use(\"seaborn\")\n",
    "\n"
   ]
  },
  {
   "cell_type": "markdown",
   "metadata": {},
   "source": [
    "## Settings"
   ]
  },
  {
   "cell_type": "code",
   "execution_count": 37,
   "metadata": {},
   "outputs": [],
   "source": [
    "raw_data_dir = os.path.join(\"../../\",\"data\",\"raw_data\",\"iupui\",\"instagram\")\n",
    "processed_data_dir = os.path.join(\"../../\",\"data\",\"processed_data\",\"iupui\",\"instagram\")\n",
    "\n",
    "\n",
    "## Read from\n",
    "processed_instagram_data = os.path.join(processed_data_dir, \"iupui_instagram_data.xlsx\")\n",
    "raw_data_instagram = os.path.join(processed_data_dir, \"iupui_instagram_data.xlsx\")\n",
    "\n",
    "username = \"@IUPUI\""
   ]
  },
  {
   "cell_type": "markdown",
   "metadata": {},
   "source": [
    "## Exploratory Data Analysis"
   ]
  },
  {
   "cell_type": "code",
   "execution_count": 38,
   "metadata": {},
   "outputs": [],
   "source": [
    "df = pd.ExcelFile(raw_data_instagram)"
   ]
  },
  {
   "cell_type": "code",
   "execution_count": 39,
   "metadata": {},
   "outputs": [
    {
     "name": "stdout",
     "output_type": "stream",
     "text": [
      "['userinfo', 'user_followers_relationship', 'top_hashtags', 'top_hashtags_images', 'all_posts']\n"
     ]
    }
   ],
   "source": [
    "print(df.sheet_names)"
   ]
  },
  {
   "cell_type": "code",
   "execution_count": 40,
   "metadata": {},
   "outputs": [],
   "source": [
    "user_kpi_df = pd.read_excel(raw_data_instagram, sheet_name=\"userinfo\")\n",
    "user_follower_relationship_df = pd.read_excel(raw_data_instagram,sheet_name=\"user_followers_relationship\")\n",
    "all_posts_df = pd.read_excel(raw_data_instagram, sheet_name='all_posts')"
   ]
  },
  {
   "cell_type": "code",
   "execution_count": 41,
   "metadata": {},
   "outputs": [],
   "source": [
    "all_posts_df[\"username\"] = username"
   ]
  },
  {
   "cell_type": "code",
   "execution_count": 42,
   "metadata": {},
   "outputs": [],
   "source": [
    "all_posts_df = all_posts_df.drop(['Unnamed: 0'],axis=1)"
   ]
  },
  {
   "cell_type": "code",
   "execution_count": 43,
   "metadata": {},
   "outputs": [],
   "source": [
    "all_posts_df = all_posts_df.set_index(\"post_id\")"
   ]
  },
  {
   "cell_type": "code",
   "execution_count": 44,
   "metadata": {},
   "outputs": [
    {
     "name": "stdout",
     "output_type": "stream",
     "text": [
      "Min date: 2019-01-04 10:35:11  Max date: 2019-08-12 11:54:06\n"
     ]
    }
   ],
   "source": [
    "print(\"Min date:\", all_posts_df['taken_at'].min(), \" Max date:\", all_posts_df[\"taken_at\"].max())"
   ]
  },
  {
   "cell_type": "code",
   "execution_count": 45,
   "metadata": {},
   "outputs": [
    {
     "name": "stdout",
     "output_type": "stream",
     "text": [
      "No of records: user_follower_relationship: (199232, 4)\n"
     ]
    }
   ],
   "source": [
    "print(f\"No of records: user_follower_relationship: {user_follower_relationship_df.shape}\")"
   ]
  },
  {
   "cell_type": "code",
   "execution_count": 46,
   "metadata": {},
   "outputs": [
    {
     "name": "stdout",
     "output_type": "stream",
     "text": [
      "All posts: (144, 8)\n",
      "Index(['taken_at', 'likes', 'comments', 'media_type', 'captions',\n",
      "       'num_hashtags', 'num_mentions', 'username'],\n",
      "      dtype='object')\n"
     ]
    }
   ],
   "source": [
    "print(f\"All posts: {all_posts_df.shape}\")\n",
    "\n",
    "print(all_posts_df.columns)"
   ]
  },
  {
   "cell_type": "markdown",
   "metadata": {},
   "source": [
    "## Parse Url - Top Hashtags"
   ]
  },
  {
   "cell_type": "code",
   "execution_count": 24,
   "metadata": {},
   "outputs": [
    {
     "name": "stderr",
     "output_type": "stream",
     "text": [
      "\r",
      "0it [00:00, ?it/s]"
     ]
    },
    {
     "data": {
      "text/plain": [
       "[None, None, None, None, None, None]"
      ]
     },
     "execution_count": 24,
     "metadata": {},
     "output_type": "execute_result"
    },
    {
     "data": {
      "text/plain": [
       "[None, None]"
      ]
     },
     "execution_count": 24,
     "metadata": {},
     "output_type": "execute_result"
    },
    {
     "data": {
      "text/plain": [
       "[None, None, None, None]"
      ]
     },
     "execution_count": 24,
     "metadata": {},
     "output_type": "execute_result"
    },
    {
     "data": {
      "text/plain": [
       "[]"
      ]
     },
     "execution_count": 24,
     "metadata": {},
     "output_type": "execute_result"
    },
    {
     "data": {
      "text/plain": [
       "[None, None, None]"
      ]
     },
     "execution_count": 24,
     "metadata": {},
     "output_type": "execute_result"
    },
    {
     "data": {
      "text/plain": [
       "[]"
      ]
     },
     "execution_count": 24,
     "metadata": {},
     "output_type": "execute_result"
    },
    {
     "data": {
      "text/plain": [
       "[None, None, None, None]"
      ]
     },
     "execution_count": 24,
     "metadata": {},
     "output_type": "execute_result"
    },
    {
     "data": {
      "text/plain": [
       "[]"
      ]
     },
     "execution_count": 24,
     "metadata": {},
     "output_type": "execute_result"
    },
    {
     "data": {
      "text/plain": [
       "[None, None, None, None, None, None]"
      ]
     },
     "execution_count": 24,
     "metadata": {},
     "output_type": "execute_result"
    },
    {
     "data": {
      "text/plain": [
       "[None]"
      ]
     },
     "execution_count": 24,
     "metadata": {},
     "output_type": "execute_result"
    },
    {
     "data": {
      "text/plain": [
       "[None, None, None, None]"
      ]
     },
     "execution_count": 24,
     "metadata": {},
     "output_type": "execute_result"
    },
    {
     "data": {
      "text/plain": [
       "[]"
      ]
     },
     "execution_count": 24,
     "metadata": {},
     "output_type": "execute_result"
    },
    {
     "data": {
      "text/plain": [
       "[None, None, None, None]"
      ]
     },
     "execution_count": 24,
     "metadata": {},
     "output_type": "execute_result"
    },
    {
     "data": {
      "text/plain": [
       "[]"
      ]
     },
     "execution_count": 24,
     "metadata": {},
     "output_type": "execute_result"
    },
    {
     "data": {
      "text/plain": [
       "[None, None, None]"
      ]
     },
     "execution_count": 24,
     "metadata": {},
     "output_type": "execute_result"
    },
    {
     "data": {
      "text/plain": [
       "[]"
      ]
     },
     "execution_count": 24,
     "metadata": {},
     "output_type": "execute_result"
    },
    {
     "data": {
      "text/plain": [
       "[None, None, None]"
      ]
     },
     "execution_count": 24,
     "metadata": {},
     "output_type": "execute_result"
    },
    {
     "data": {
      "text/plain": [
       "[None]"
      ]
     },
     "execution_count": 24,
     "metadata": {},
     "output_type": "execute_result"
    },
    {
     "data": {
      "text/plain": [
       "[None, None, None, None]"
      ]
     },
     "execution_count": 24,
     "metadata": {},
     "output_type": "execute_result"
    },
    {
     "data": {
      "text/plain": [
       "[]"
      ]
     },
     "execution_count": 24,
     "metadata": {},
     "output_type": "execute_result"
    },
    {
     "data": {
      "text/plain": [
       "[None, None, None, None]"
      ]
     },
     "execution_count": 24,
     "metadata": {},
     "output_type": "execute_result"
    },
    {
     "data": {
      "text/plain": [
       "[]"
      ]
     },
     "execution_count": 24,
     "metadata": {},
     "output_type": "execute_result"
    },
    {
     "data": {
      "text/plain": [
       "[None, None, None, None, None]"
      ]
     },
     "execution_count": 24,
     "metadata": {},
     "output_type": "execute_result"
    },
    {
     "data": {
      "text/plain": [
       "[]"
      ]
     },
     "execution_count": 24,
     "metadata": {},
     "output_type": "execute_result"
    },
    {
     "data": {
      "text/plain": [
       "[None, None, None, None, None]"
      ]
     },
     "execution_count": 24,
     "metadata": {},
     "output_type": "execute_result"
    },
    {
     "data": {
      "text/plain": [
       "[]"
      ]
     },
     "execution_count": 24,
     "metadata": {},
     "output_type": "execute_result"
    },
    {
     "data": {
      "text/plain": [
       "[None, None, None]"
      ]
     },
     "execution_count": 24,
     "metadata": {},
     "output_type": "execute_result"
    },
    {
     "data": {
      "text/plain": [
       "[]"
      ]
     },
     "execution_count": 24,
     "metadata": {},
     "output_type": "execute_result"
    },
    {
     "data": {
      "text/plain": [
       "[None, None, None]"
      ]
     },
     "execution_count": 24,
     "metadata": {},
     "output_type": "execute_result"
    },
    {
     "data": {
      "text/plain": [
       "[]"
      ]
     },
     "execution_count": 24,
     "metadata": {},
     "output_type": "execute_result"
    },
    {
     "data": {
      "text/plain": [
       "[None, None, None, None]"
      ]
     },
     "execution_count": 24,
     "metadata": {},
     "output_type": "execute_result"
    },
    {
     "data": {
      "text/plain": [
       "[]"
      ]
     },
     "execution_count": 24,
     "metadata": {},
     "output_type": "execute_result"
    },
    {
     "data": {
      "text/plain": [
       "[None, None, None, None]"
      ]
     },
     "execution_count": 24,
     "metadata": {},
     "output_type": "execute_result"
    },
    {
     "data": {
      "text/plain": [
       "[]"
      ]
     },
     "execution_count": 24,
     "metadata": {},
     "output_type": "execute_result"
    },
    {
     "data": {
      "text/plain": [
       "[None, None, None, None]"
      ]
     },
     "execution_count": 24,
     "metadata": {},
     "output_type": "execute_result"
    },
    {
     "data": {
      "text/plain": [
       "[]"
      ]
     },
     "execution_count": 24,
     "metadata": {},
     "output_type": "execute_result"
    },
    {
     "data": {
      "text/plain": [
       "[None, None, None, None]"
      ]
     },
     "execution_count": 24,
     "metadata": {},
     "output_type": "execute_result"
    },
    {
     "data": {
      "text/plain": [
       "[]"
      ]
     },
     "execution_count": 24,
     "metadata": {},
     "output_type": "execute_result"
    },
    {
     "data": {
      "text/plain": [
       "[None, None, None, None]"
      ]
     },
     "execution_count": 24,
     "metadata": {},
     "output_type": "execute_result"
    },
    {
     "data": {
      "text/plain": [
       "[]"
      ]
     },
     "execution_count": 24,
     "metadata": {},
     "output_type": "execute_result"
    },
    {
     "data": {
      "text/plain": [
       "[None, None, None, None, None, None]"
      ]
     },
     "execution_count": 24,
     "metadata": {},
     "output_type": "execute_result"
    },
    {
     "data": {
      "text/plain": [
       "[None]"
      ]
     },
     "execution_count": 24,
     "metadata": {},
     "output_type": "execute_result"
    },
    {
     "data": {
      "text/plain": [
       "[None, None, None]"
      ]
     },
     "execution_count": 24,
     "metadata": {},
     "output_type": "execute_result"
    },
    {
     "data": {
      "text/plain": [
       "[]"
      ]
     },
     "execution_count": 24,
     "metadata": {},
     "output_type": "execute_result"
    },
    {
     "data": {
      "text/plain": [
       "[None, None, None]"
      ]
     },
     "execution_count": 24,
     "metadata": {},
     "output_type": "execute_result"
    },
    {
     "data": {
      "text/plain": [
       "[]"
      ]
     },
     "execution_count": 24,
     "metadata": {},
     "output_type": "execute_result"
    },
    {
     "data": {
      "text/plain": [
       "[None, None, None, None, None]"
      ]
     },
     "execution_count": 24,
     "metadata": {},
     "output_type": "execute_result"
    },
    {
     "data": {
      "text/plain": [
       "[None]"
      ]
     },
     "execution_count": 24,
     "metadata": {},
     "output_type": "execute_result"
    },
    {
     "data": {
      "text/plain": [
       "[None]"
      ]
     },
     "execution_count": 24,
     "metadata": {},
     "output_type": "execute_result"
    },
    {
     "data": {
      "text/plain": [
       "[]"
      ]
     },
     "execution_count": 24,
     "metadata": {},
     "output_type": "execute_result"
    },
    {
     "data": {
      "text/plain": [
       "[None, None, None]"
      ]
     },
     "execution_count": 24,
     "metadata": {},
     "output_type": "execute_result"
    },
    {
     "data": {
      "text/plain": [
       "[]"
      ]
     },
     "execution_count": 24,
     "metadata": {},
     "output_type": "execute_result"
    },
    {
     "data": {
      "text/plain": [
       "[None, None, None, None]"
      ]
     },
     "execution_count": 24,
     "metadata": {},
     "output_type": "execute_result"
    },
    {
     "data": {
      "text/plain": [
       "[]"
      ]
     },
     "execution_count": 24,
     "metadata": {},
     "output_type": "execute_result"
    },
    {
     "data": {
      "text/plain": [
       "[None, None, None, None]"
      ]
     },
     "execution_count": 24,
     "metadata": {},
     "output_type": "execute_result"
    },
    {
     "data": {
      "text/plain": [
       "[]"
      ]
     },
     "execution_count": 24,
     "metadata": {},
     "output_type": "execute_result"
    },
    {
     "data": {
      "text/plain": [
       "[None, None, None, None, None, None]"
      ]
     },
     "execution_count": 24,
     "metadata": {},
     "output_type": "execute_result"
    },
    {
     "data": {
      "text/plain": [
       "[]"
      ]
     },
     "execution_count": 24,
     "metadata": {},
     "output_type": "execute_result"
    },
    {
     "name": "stderr",
     "output_type": "stream",
     "text": [
      "\r",
      "29it [00:00, 287.98it/s]"
     ]
    },
    {
     "data": {
      "text/plain": [
       "[None, None, None]"
      ]
     },
     "execution_count": 24,
     "metadata": {},
     "output_type": "execute_result"
    },
    {
     "data": {
      "text/plain": [
       "[]"
      ]
     },
     "execution_count": 24,
     "metadata": {},
     "output_type": "execute_result"
    },
    {
     "data": {
      "text/plain": [
       "[None, None, None, None]"
      ]
     },
     "execution_count": 24,
     "metadata": {},
     "output_type": "execute_result"
    },
    {
     "data": {
      "text/plain": [
       "[None]"
      ]
     },
     "execution_count": 24,
     "metadata": {},
     "output_type": "execute_result"
    },
    {
     "data": {
      "text/plain": [
       "[None, None, None, None, None]"
      ]
     },
     "execution_count": 24,
     "metadata": {},
     "output_type": "execute_result"
    },
    {
     "data": {
      "text/plain": [
       "[]"
      ]
     },
     "execution_count": 24,
     "metadata": {},
     "output_type": "execute_result"
    },
    {
     "data": {
      "text/plain": [
       "[None, None, None, None, None]"
      ]
     },
     "execution_count": 24,
     "metadata": {},
     "output_type": "execute_result"
    },
    {
     "data": {
      "text/plain": [
       "[]"
      ]
     },
     "execution_count": 24,
     "metadata": {},
     "output_type": "execute_result"
    },
    {
     "data": {
      "text/plain": [
       "[None, None, None, None, None, None]"
      ]
     },
     "execution_count": 24,
     "metadata": {},
     "output_type": "execute_result"
    },
    {
     "data": {
      "text/plain": [
       "[]"
      ]
     },
     "execution_count": 24,
     "metadata": {},
     "output_type": "execute_result"
    },
    {
     "data": {
      "text/plain": [
       "[None, None, None, None, None]"
      ]
     },
     "execution_count": 24,
     "metadata": {},
     "output_type": "execute_result"
    },
    {
     "data": {
      "text/plain": [
       "[]"
      ]
     },
     "execution_count": 24,
     "metadata": {},
     "output_type": "execute_result"
    },
    {
     "data": {
      "text/plain": [
       "[None, None, None, None, None]"
      ]
     },
     "execution_count": 24,
     "metadata": {},
     "output_type": "execute_result"
    },
    {
     "data": {
      "text/plain": [
       "[None]"
      ]
     },
     "execution_count": 24,
     "metadata": {},
     "output_type": "execute_result"
    },
    {
     "data": {
      "text/plain": [
       "[None, None, None, None, None, None]"
      ]
     },
     "execution_count": 24,
     "metadata": {},
     "output_type": "execute_result"
    },
    {
     "data": {
      "text/plain": [
       "[None]"
      ]
     },
     "execution_count": 24,
     "metadata": {},
     "output_type": "execute_result"
    },
    {
     "data": {
      "text/plain": [
       "[None, None, None]"
      ]
     },
     "execution_count": 24,
     "metadata": {},
     "output_type": "execute_result"
    },
    {
     "data": {
      "text/plain": [
       "[None]"
      ]
     },
     "execution_count": 24,
     "metadata": {},
     "output_type": "execute_result"
    },
    {
     "data": {
      "text/plain": [
       "[None, None, None, None]"
      ]
     },
     "execution_count": 24,
     "metadata": {},
     "output_type": "execute_result"
    },
    {
     "data": {
      "text/plain": [
       "[None]"
      ]
     },
     "execution_count": 24,
     "metadata": {},
     "output_type": "execute_result"
    },
    {
     "data": {
      "text/plain": [
       "[None, None, None, None]"
      ]
     },
     "execution_count": 24,
     "metadata": {},
     "output_type": "execute_result"
    },
    {
     "data": {
      "text/plain": [
       "[]"
      ]
     },
     "execution_count": 24,
     "metadata": {},
     "output_type": "execute_result"
    },
    {
     "data": {
      "text/plain": [
       "[None, None, None, None]"
      ]
     },
     "execution_count": 24,
     "metadata": {},
     "output_type": "execute_result"
    },
    {
     "data": {
      "text/plain": [
       "[]"
      ]
     },
     "execution_count": 24,
     "metadata": {},
     "output_type": "execute_result"
    },
    {
     "data": {
      "text/plain": [
       "[None, None, None, None, None]"
      ]
     },
     "execution_count": 24,
     "metadata": {},
     "output_type": "execute_result"
    },
    {
     "data": {
      "text/plain": [
       "[]"
      ]
     },
     "execution_count": 24,
     "metadata": {},
     "output_type": "execute_result"
    },
    {
     "data": {
      "text/plain": [
       "[None, None, None, None, None]"
      ]
     },
     "execution_count": 24,
     "metadata": {},
     "output_type": "execute_result"
    },
    {
     "data": {
      "text/plain": [
       "[]"
      ]
     },
     "execution_count": 24,
     "metadata": {},
     "output_type": "execute_result"
    },
    {
     "data": {
      "text/plain": [
       "[None, None, None, None]"
      ]
     },
     "execution_count": 24,
     "metadata": {},
     "output_type": "execute_result"
    },
    {
     "data": {
      "text/plain": [
       "[]"
      ]
     },
     "execution_count": 24,
     "metadata": {},
     "output_type": "execute_result"
    },
    {
     "data": {
      "text/plain": [
       "[None, None, None, None, None]"
      ]
     },
     "execution_count": 24,
     "metadata": {},
     "output_type": "execute_result"
    },
    {
     "data": {
      "text/plain": [
       "[None]"
      ]
     },
     "execution_count": 24,
     "metadata": {},
     "output_type": "execute_result"
    },
    {
     "data": {
      "text/plain": [
       "[None, None, None, None, None]"
      ]
     },
     "execution_count": 24,
     "metadata": {},
     "output_type": "execute_result"
    },
    {
     "data": {
      "text/plain": [
       "[None]"
      ]
     },
     "execution_count": 24,
     "metadata": {},
     "output_type": "execute_result"
    },
    {
     "data": {
      "text/plain": [
       "[None, None, None]"
      ]
     },
     "execution_count": 24,
     "metadata": {},
     "output_type": "execute_result"
    },
    {
     "data": {
      "text/plain": [
       "[]"
      ]
     },
     "execution_count": 24,
     "metadata": {},
     "output_type": "execute_result"
    },
    {
     "data": {
      "text/plain": [
       "[None, None, None]"
      ]
     },
     "execution_count": 24,
     "metadata": {},
     "output_type": "execute_result"
    },
    {
     "data": {
      "text/plain": [
       "[]"
      ]
     },
     "execution_count": 24,
     "metadata": {},
     "output_type": "execute_result"
    },
    {
     "data": {
      "text/plain": [
       "[None, None, None, None, None, None]"
      ]
     },
     "execution_count": 24,
     "metadata": {},
     "output_type": "execute_result"
    },
    {
     "data": {
      "text/plain": [
       "[]"
      ]
     },
     "execution_count": 24,
     "metadata": {},
     "output_type": "execute_result"
    },
    {
     "data": {
      "text/plain": [
       "[None, None, None, None, None]"
      ]
     },
     "execution_count": 24,
     "metadata": {},
     "output_type": "execute_result"
    },
    {
     "data": {
      "text/plain": [
       "[]"
      ]
     },
     "execution_count": 24,
     "metadata": {},
     "output_type": "execute_result"
    },
    {
     "data": {
      "text/plain": [
       "[None, None, None, None, None]"
      ]
     },
     "execution_count": 24,
     "metadata": {},
     "output_type": "execute_result"
    },
    {
     "data": {
      "text/plain": [
       "[]"
      ]
     },
     "execution_count": 24,
     "metadata": {},
     "output_type": "execute_result"
    },
    {
     "data": {
      "text/plain": [
       "[None, None, None, None, None]"
      ]
     },
     "execution_count": 24,
     "metadata": {},
     "output_type": "execute_result"
    },
    {
     "data": {
      "text/plain": [
       "[]"
      ]
     },
     "execution_count": 24,
     "metadata": {},
     "output_type": "execute_result"
    },
    {
     "data": {
      "text/plain": [
       "[None, None, None, None]"
      ]
     },
     "execution_count": 24,
     "metadata": {},
     "output_type": "execute_result"
    },
    {
     "data": {
      "text/plain": [
       "[]"
      ]
     },
     "execution_count": 24,
     "metadata": {},
     "output_type": "execute_result"
    },
    {
     "data": {
      "text/plain": [
       "[]"
      ]
     },
     "execution_count": 24,
     "metadata": {},
     "output_type": "execute_result"
    },
    {
     "data": {
      "text/plain": [
       "[]"
      ]
     },
     "execution_count": 24,
     "metadata": {},
     "output_type": "execute_result"
    },
    {
     "data": {
      "text/plain": [
       "[None, None, None, None]"
      ]
     },
     "execution_count": 24,
     "metadata": {},
     "output_type": "execute_result"
    },
    {
     "data": {
      "text/plain": [
       "[None]"
      ]
     },
     "execution_count": 24,
     "metadata": {},
     "output_type": "execute_result"
    },
    {
     "data": {
      "text/plain": [
       "[None, None, None, None]"
      ]
     },
     "execution_count": 24,
     "metadata": {},
     "output_type": "execute_result"
    },
    {
     "data": {
      "text/plain": [
       "[]"
      ]
     },
     "execution_count": 24,
     "metadata": {},
     "output_type": "execute_result"
    },
    {
     "data": {
      "text/plain": [
       "[None, None, None, None]"
      ]
     },
     "execution_count": 24,
     "metadata": {},
     "output_type": "execute_result"
    },
    {
     "data": {
      "text/plain": [
       "[]"
      ]
     },
     "execution_count": 24,
     "metadata": {},
     "output_type": "execute_result"
    },
    {
     "data": {
      "text/plain": [
       "[None, None, None]"
      ]
     },
     "execution_count": 24,
     "metadata": {},
     "output_type": "execute_result"
    },
    {
     "data": {
      "text/plain": [
       "[]"
      ]
     },
     "execution_count": 24,
     "metadata": {},
     "output_type": "execute_result"
    },
    {
     "data": {
      "text/plain": [
       "[None, None, None]"
      ]
     },
     "execution_count": 24,
     "metadata": {},
     "output_type": "execute_result"
    },
    {
     "data": {
      "text/plain": [
       "[]"
      ]
     },
     "execution_count": 24,
     "metadata": {},
     "output_type": "execute_result"
    },
    {
     "data": {
      "text/plain": [
       "[None, None, None, None]"
      ]
     },
     "execution_count": 24,
     "metadata": {},
     "output_type": "execute_result"
    },
    {
     "data": {
      "text/plain": [
       "[]"
      ]
     },
     "execution_count": 24,
     "metadata": {},
     "output_type": "execute_result"
    },
    {
     "name": "stderr",
     "output_type": "stream",
     "text": [
      "\r",
      "60it [00:00, 292.60it/s]"
     ]
    },
    {
     "data": {
      "text/plain": [
       "[None, None, None, None]"
      ]
     },
     "execution_count": 24,
     "metadata": {},
     "output_type": "execute_result"
    },
    {
     "data": {
      "text/plain": [
       "[]"
      ]
     },
     "execution_count": 24,
     "metadata": {},
     "output_type": "execute_result"
    },
    {
     "data": {
      "text/plain": [
       "[None, None, None, None]"
      ]
     },
     "execution_count": 24,
     "metadata": {},
     "output_type": "execute_result"
    },
    {
     "data": {
      "text/plain": [
       "[]"
      ]
     },
     "execution_count": 24,
     "metadata": {},
     "output_type": "execute_result"
    },
    {
     "data": {
      "text/plain": [
       "[None, None, None, None, None]"
      ]
     },
     "execution_count": 24,
     "metadata": {},
     "output_type": "execute_result"
    },
    {
     "data": {
      "text/plain": [
       "[None]"
      ]
     },
     "execution_count": 24,
     "metadata": {},
     "output_type": "execute_result"
    },
    {
     "data": {
      "text/plain": [
       "[None, None, None]"
      ]
     },
     "execution_count": 24,
     "metadata": {},
     "output_type": "execute_result"
    },
    {
     "data": {
      "text/plain": [
       "[]"
      ]
     },
     "execution_count": 24,
     "metadata": {},
     "output_type": "execute_result"
    },
    {
     "data": {
      "text/plain": [
       "[None, None, None]"
      ]
     },
     "execution_count": 24,
     "metadata": {},
     "output_type": "execute_result"
    },
    {
     "data": {
      "text/plain": [
       "[]"
      ]
     },
     "execution_count": 24,
     "metadata": {},
     "output_type": "execute_result"
    },
    {
     "data": {
      "text/plain": [
       "[None, None, None, None]"
      ]
     },
     "execution_count": 24,
     "metadata": {},
     "output_type": "execute_result"
    },
    {
     "data": {
      "text/plain": [
       "[]"
      ]
     },
     "execution_count": 24,
     "metadata": {},
     "output_type": "execute_result"
    },
    {
     "data": {
      "text/plain": [
       "[None, None, None, None]"
      ]
     },
     "execution_count": 24,
     "metadata": {},
     "output_type": "execute_result"
    },
    {
     "data": {
      "text/plain": [
       "[]"
      ]
     },
     "execution_count": 24,
     "metadata": {},
     "output_type": "execute_result"
    },
    {
     "data": {
      "text/plain": [
       "[None, None, None, None, None]"
      ]
     },
     "execution_count": 24,
     "metadata": {},
     "output_type": "execute_result"
    },
    {
     "data": {
      "text/plain": [
       "[]"
      ]
     },
     "execution_count": 24,
     "metadata": {},
     "output_type": "execute_result"
    },
    {
     "data": {
      "text/plain": [
       "[None, None, None, None]"
      ]
     },
     "execution_count": 24,
     "metadata": {},
     "output_type": "execute_result"
    },
    {
     "data": {
      "text/plain": [
       "[]"
      ]
     },
     "execution_count": 24,
     "metadata": {},
     "output_type": "execute_result"
    },
    {
     "data": {
      "text/plain": [
       "[None, None, None, None]"
      ]
     },
     "execution_count": 24,
     "metadata": {},
     "output_type": "execute_result"
    },
    {
     "data": {
      "text/plain": [
       "[None]"
      ]
     },
     "execution_count": 24,
     "metadata": {},
     "output_type": "execute_result"
    },
    {
     "data": {
      "text/plain": [
       "[None, None, None, None]"
      ]
     },
     "execution_count": 24,
     "metadata": {},
     "output_type": "execute_result"
    },
    {
     "data": {
      "text/plain": [
       "[]"
      ]
     },
     "execution_count": 24,
     "metadata": {},
     "output_type": "execute_result"
    },
    {
     "data": {
      "text/plain": [
       "[None, None, None, None]"
      ]
     },
     "execution_count": 24,
     "metadata": {},
     "output_type": "execute_result"
    },
    {
     "data": {
      "text/plain": [
       "[]"
      ]
     },
     "execution_count": 24,
     "metadata": {},
     "output_type": "execute_result"
    },
    {
     "data": {
      "text/plain": [
       "[None, None, None, None]"
      ]
     },
     "execution_count": 24,
     "metadata": {},
     "output_type": "execute_result"
    },
    {
     "data": {
      "text/plain": [
       "[]"
      ]
     },
     "execution_count": 24,
     "metadata": {},
     "output_type": "execute_result"
    },
    {
     "data": {
      "text/plain": [
       "[None, None, None, None]"
      ]
     },
     "execution_count": 24,
     "metadata": {},
     "output_type": "execute_result"
    },
    {
     "data": {
      "text/plain": [
       "[]"
      ]
     },
     "execution_count": 24,
     "metadata": {},
     "output_type": "execute_result"
    },
    {
     "data": {
      "text/plain": [
       "[None, None, None, None]"
      ]
     },
     "execution_count": 24,
     "metadata": {},
     "output_type": "execute_result"
    },
    {
     "data": {
      "text/plain": [
       "[]"
      ]
     },
     "execution_count": 24,
     "metadata": {},
     "output_type": "execute_result"
    },
    {
     "data": {
      "text/plain": [
       "[None, None, None, None, None]"
      ]
     },
     "execution_count": 24,
     "metadata": {},
     "output_type": "execute_result"
    },
    {
     "data": {
      "text/plain": [
       "[]"
      ]
     },
     "execution_count": 24,
     "metadata": {},
     "output_type": "execute_result"
    },
    {
     "data": {
      "text/plain": [
       "[None, None, None, None]"
      ]
     },
     "execution_count": 24,
     "metadata": {},
     "output_type": "execute_result"
    },
    {
     "data": {
      "text/plain": [
       "[]"
      ]
     },
     "execution_count": 24,
     "metadata": {},
     "output_type": "execute_result"
    },
    {
     "data": {
      "text/plain": [
       "[None, None, None, None, None, None, None]"
      ]
     },
     "execution_count": 24,
     "metadata": {},
     "output_type": "execute_result"
    },
    {
     "data": {
      "text/plain": [
       "[None, None]"
      ]
     },
     "execution_count": 24,
     "metadata": {},
     "output_type": "execute_result"
    },
    {
     "data": {
      "text/plain": [
       "[None, None, None, None, None]"
      ]
     },
     "execution_count": 24,
     "metadata": {},
     "output_type": "execute_result"
    },
    {
     "data": {
      "text/plain": [
       "[]"
      ]
     },
     "execution_count": 24,
     "metadata": {},
     "output_type": "execute_result"
    },
    {
     "data": {
      "text/plain": [
       "[None, None, None, None, None]"
      ]
     },
     "execution_count": 24,
     "metadata": {},
     "output_type": "execute_result"
    },
    {
     "data": {
      "text/plain": [
       "[]"
      ]
     },
     "execution_count": 24,
     "metadata": {},
     "output_type": "execute_result"
    },
    {
     "data": {
      "text/plain": [
       "[None, None, None, None]"
      ]
     },
     "execution_count": 24,
     "metadata": {},
     "output_type": "execute_result"
    },
    {
     "data": {
      "text/plain": [
       "[]"
      ]
     },
     "execution_count": 24,
     "metadata": {},
     "output_type": "execute_result"
    },
    {
     "data": {
      "text/plain": [
       "[None, None, None, None]"
      ]
     },
     "execution_count": 24,
     "metadata": {},
     "output_type": "execute_result"
    },
    {
     "data": {
      "text/plain": [
       "[None]"
      ]
     },
     "execution_count": 24,
     "metadata": {},
     "output_type": "execute_result"
    },
    {
     "data": {
      "text/plain": [
       "[None, None, None]"
      ]
     },
     "execution_count": 24,
     "metadata": {},
     "output_type": "execute_result"
    },
    {
     "data": {
      "text/plain": [
       "[]"
      ]
     },
     "execution_count": 24,
     "metadata": {},
     "output_type": "execute_result"
    },
    {
     "data": {
      "text/plain": [
       "[None, None, None, None]"
      ]
     },
     "execution_count": 24,
     "metadata": {},
     "output_type": "execute_result"
    },
    {
     "data": {
      "text/plain": [
       "[]"
      ]
     },
     "execution_count": 24,
     "metadata": {},
     "output_type": "execute_result"
    },
    {
     "data": {
      "text/plain": [
       "[None, None, None, None, None]"
      ]
     },
     "execution_count": 24,
     "metadata": {},
     "output_type": "execute_result"
    },
    {
     "data": {
      "text/plain": [
       "[]"
      ]
     },
     "execution_count": 24,
     "metadata": {},
     "output_type": "execute_result"
    },
    {
     "data": {
      "text/plain": [
       "[None, None, None, None, None]"
      ]
     },
     "execution_count": 24,
     "metadata": {},
     "output_type": "execute_result"
    },
    {
     "data": {
      "text/plain": [
       "[None]"
      ]
     },
     "execution_count": 24,
     "metadata": {},
     "output_type": "execute_result"
    },
    {
     "data": {
      "text/plain": [
       "[None, None, None, None]"
      ]
     },
     "execution_count": 24,
     "metadata": {},
     "output_type": "execute_result"
    },
    {
     "data": {
      "text/plain": [
       "[]"
      ]
     },
     "execution_count": 24,
     "metadata": {},
     "output_type": "execute_result"
    },
    {
     "data": {
      "text/plain": [
       "[None, None, None, None, None]"
      ]
     },
     "execution_count": 24,
     "metadata": {},
     "output_type": "execute_result"
    },
    {
     "data": {
      "text/plain": [
       "[None, None, None, None]"
      ]
     },
     "execution_count": 24,
     "metadata": {},
     "output_type": "execute_result"
    },
    {
     "data": {
      "text/plain": [
       "[None, None, None, None, None]"
      ]
     },
     "execution_count": 24,
     "metadata": {},
     "output_type": "execute_result"
    },
    {
     "data": {
      "text/plain": [
       "[None]"
      ]
     },
     "execution_count": 24,
     "metadata": {},
     "output_type": "execute_result"
    },
    {
     "data": {
      "text/plain": [
       "[None, None, None, None, None]"
      ]
     },
     "execution_count": 24,
     "metadata": {},
     "output_type": "execute_result"
    },
    {
     "data": {
      "text/plain": [
       "[None]"
      ]
     },
     "execution_count": 24,
     "metadata": {},
     "output_type": "execute_result"
    },
    {
     "name": "stderr",
     "output_type": "stream",
     "text": [
      "\r",
      "90it [00:00, 291.77it/s]"
     ]
    },
    {
     "data": {
      "text/plain": [
       "[None, None, None, None, None]"
      ]
     },
     "execution_count": 24,
     "metadata": {},
     "output_type": "execute_result"
    },
    {
     "data": {
      "text/plain": [
       "[None]"
      ]
     },
     "execution_count": 24,
     "metadata": {},
     "output_type": "execute_result"
    },
    {
     "data": {
      "text/plain": [
       "[None, None, None, None, None, None, None, None]"
      ]
     },
     "execution_count": 24,
     "metadata": {},
     "output_type": "execute_result"
    },
    {
     "data": {
      "text/plain": [
       "[None]"
      ]
     },
     "execution_count": 24,
     "metadata": {},
     "output_type": "execute_result"
    },
    {
     "data": {
      "text/plain": [
       "[None, None, None]"
      ]
     },
     "execution_count": 24,
     "metadata": {},
     "output_type": "execute_result"
    },
    {
     "data": {
      "text/plain": [
       "[]"
      ]
     },
     "execution_count": 24,
     "metadata": {},
     "output_type": "execute_result"
    },
    {
     "data": {
      "text/plain": [
       "[None, None, None, None, None]"
      ]
     },
     "execution_count": 24,
     "metadata": {},
     "output_type": "execute_result"
    },
    {
     "data": {
      "text/plain": [
       "[]"
      ]
     },
     "execution_count": 24,
     "metadata": {},
     "output_type": "execute_result"
    },
    {
     "data": {
      "text/plain": [
       "[None, None, None, None]"
      ]
     },
     "execution_count": 24,
     "metadata": {},
     "output_type": "execute_result"
    },
    {
     "data": {
      "text/plain": [
       "[]"
      ]
     },
     "execution_count": 24,
     "metadata": {},
     "output_type": "execute_result"
    },
    {
     "data": {
      "text/plain": [
       "[None, None, None, None]"
      ]
     },
     "execution_count": 24,
     "metadata": {},
     "output_type": "execute_result"
    },
    {
     "data": {
      "text/plain": [
       "[]"
      ]
     },
     "execution_count": 24,
     "metadata": {},
     "output_type": "execute_result"
    },
    {
     "data": {
      "text/plain": [
       "[None, None, None, None]"
      ]
     },
     "execution_count": 24,
     "metadata": {},
     "output_type": "execute_result"
    },
    {
     "data": {
      "text/plain": [
       "[]"
      ]
     },
     "execution_count": 24,
     "metadata": {},
     "output_type": "execute_result"
    },
    {
     "data": {
      "text/plain": [
       "[None, None, None]"
      ]
     },
     "execution_count": 24,
     "metadata": {},
     "output_type": "execute_result"
    },
    {
     "data": {
      "text/plain": [
       "[None]"
      ]
     },
     "execution_count": 24,
     "metadata": {},
     "output_type": "execute_result"
    },
    {
     "data": {
      "text/plain": [
       "[None, None, None, None, None]"
      ]
     },
     "execution_count": 24,
     "metadata": {},
     "output_type": "execute_result"
    },
    {
     "data": {
      "text/plain": [
       "[]"
      ]
     },
     "execution_count": 24,
     "metadata": {},
     "output_type": "execute_result"
    },
    {
     "data": {
      "text/plain": [
       "[None, None, None]"
      ]
     },
     "execution_count": 24,
     "metadata": {},
     "output_type": "execute_result"
    },
    {
     "data": {
      "text/plain": [
       "[]"
      ]
     },
     "execution_count": 24,
     "metadata": {},
     "output_type": "execute_result"
    },
    {
     "data": {
      "text/plain": [
       "[None]"
      ]
     },
     "execution_count": 24,
     "metadata": {},
     "output_type": "execute_result"
    },
    {
     "data": {
      "text/plain": [
       "[]"
      ]
     },
     "execution_count": 24,
     "metadata": {},
     "output_type": "execute_result"
    },
    {
     "data": {
      "text/plain": [
       "[None, None, None]"
      ]
     },
     "execution_count": 24,
     "metadata": {},
     "output_type": "execute_result"
    },
    {
     "data": {
      "text/plain": [
       "[]"
      ]
     },
     "execution_count": 24,
     "metadata": {},
     "output_type": "execute_result"
    },
    {
     "data": {
      "text/plain": [
       "[None, None, None, None, None, None, None]"
      ]
     },
     "execution_count": 24,
     "metadata": {},
     "output_type": "execute_result"
    },
    {
     "data": {
      "text/plain": [
       "[]"
      ]
     },
     "execution_count": 24,
     "metadata": {},
     "output_type": "execute_result"
    },
    {
     "data": {
      "text/plain": [
       "[None, None, None, None, None, None]"
      ]
     },
     "execution_count": 24,
     "metadata": {},
     "output_type": "execute_result"
    },
    {
     "data": {
      "text/plain": [
       "[]"
      ]
     },
     "execution_count": 24,
     "metadata": {},
     "output_type": "execute_result"
    },
    {
     "data": {
      "text/plain": [
       "[None, None, None, None, None, None]"
      ]
     },
     "execution_count": 24,
     "metadata": {},
     "output_type": "execute_result"
    },
    {
     "data": {
      "text/plain": [
       "[]"
      ]
     },
     "execution_count": 24,
     "metadata": {},
     "output_type": "execute_result"
    },
    {
     "data": {
      "text/plain": [
       "[None, None, None, None, None]"
      ]
     },
     "execution_count": 24,
     "metadata": {},
     "output_type": "execute_result"
    },
    {
     "data": {
      "text/plain": [
       "[]"
      ]
     },
     "execution_count": 24,
     "metadata": {},
     "output_type": "execute_result"
    },
    {
     "data": {
      "text/plain": [
       "[None, None, None, None, None, None, None]"
      ]
     },
     "execution_count": 24,
     "metadata": {},
     "output_type": "execute_result"
    },
    {
     "data": {
      "text/plain": [
       "[]"
      ]
     },
     "execution_count": 24,
     "metadata": {},
     "output_type": "execute_result"
    },
    {
     "data": {
      "text/plain": [
       "[None, None, None, None]"
      ]
     },
     "execution_count": 24,
     "metadata": {},
     "output_type": "execute_result"
    },
    {
     "data": {
      "text/plain": [
       "[]"
      ]
     },
     "execution_count": 24,
     "metadata": {},
     "output_type": "execute_result"
    },
    {
     "data": {
      "text/plain": [
       "[None, None, None, None]"
      ]
     },
     "execution_count": 24,
     "metadata": {},
     "output_type": "execute_result"
    },
    {
     "data": {
      "text/plain": [
       "[]"
      ]
     },
     "execution_count": 24,
     "metadata": {},
     "output_type": "execute_result"
    },
    {
     "data": {
      "text/plain": [
       "[None, None, None, None]"
      ]
     },
     "execution_count": 24,
     "metadata": {},
     "output_type": "execute_result"
    },
    {
     "data": {
      "text/plain": [
       "[]"
      ]
     },
     "execution_count": 24,
     "metadata": {},
     "output_type": "execute_result"
    },
    {
     "data": {
      "text/plain": [
       "[]"
      ]
     },
     "execution_count": 24,
     "metadata": {},
     "output_type": "execute_result"
    },
    {
     "data": {
      "text/plain": [
       "[None]"
      ]
     },
     "execution_count": 24,
     "metadata": {},
     "output_type": "execute_result"
    },
    {
     "data": {
      "text/plain": [
       "[None, None, None, None, None, None]"
      ]
     },
     "execution_count": 24,
     "metadata": {},
     "output_type": "execute_result"
    },
    {
     "data": {
      "text/plain": [
       "[None]"
      ]
     },
     "execution_count": 24,
     "metadata": {},
     "output_type": "execute_result"
    },
    {
     "data": {
      "text/plain": [
       "[None, None, None, None, None, None, None, None]"
      ]
     },
     "execution_count": 24,
     "metadata": {},
     "output_type": "execute_result"
    },
    {
     "data": {
      "text/plain": [
       "[None, None]"
      ]
     },
     "execution_count": 24,
     "metadata": {},
     "output_type": "execute_result"
    },
    {
     "data": {
      "text/plain": [
       "[None, None, None, None, None, None, None, None]"
      ]
     },
     "execution_count": 24,
     "metadata": {},
     "output_type": "execute_result"
    },
    {
     "data": {
      "text/plain": [
       "[]"
      ]
     },
     "execution_count": 24,
     "metadata": {},
     "output_type": "execute_result"
    },
    {
     "data": {
      "text/plain": [
       "[None, None, None, None]"
      ]
     },
     "execution_count": 24,
     "metadata": {},
     "output_type": "execute_result"
    },
    {
     "data": {
      "text/plain": [
       "[None]"
      ]
     },
     "execution_count": 24,
     "metadata": {},
     "output_type": "execute_result"
    },
    {
     "data": {
      "text/plain": [
       "[None, None, None]"
      ]
     },
     "execution_count": 24,
     "metadata": {},
     "output_type": "execute_result"
    },
    {
     "data": {
      "text/plain": [
       "[]"
      ]
     },
     "execution_count": 24,
     "metadata": {},
     "output_type": "execute_result"
    },
    {
     "data": {
      "text/plain": [
       "[None, None, None, None]"
      ]
     },
     "execution_count": 24,
     "metadata": {},
     "output_type": "execute_result"
    },
    {
     "data": {
      "text/plain": [
       "[None]"
      ]
     },
     "execution_count": 24,
     "metadata": {},
     "output_type": "execute_result"
    },
    {
     "data": {
      "text/plain": [
       "[None, None, None, None, None]"
      ]
     },
     "execution_count": 24,
     "metadata": {},
     "output_type": "execute_result"
    },
    {
     "data": {
      "text/plain": [
       "[None]"
      ]
     },
     "execution_count": 24,
     "metadata": {},
     "output_type": "execute_result"
    },
    {
     "data": {
      "text/plain": [
       "[None]"
      ]
     },
     "execution_count": 24,
     "metadata": {},
     "output_type": "execute_result"
    },
    {
     "data": {
      "text/plain": [
       "[]"
      ]
     },
     "execution_count": 24,
     "metadata": {},
     "output_type": "execute_result"
    },
    {
     "name": "stderr",
     "output_type": "stream",
     "text": [
      "\r",
      "119it [00:00, 290.96it/s]"
     ]
    },
    {
     "data": {
      "text/plain": [
       "[None, None, None, None]"
      ]
     },
     "execution_count": 24,
     "metadata": {},
     "output_type": "execute_result"
    },
    {
     "data": {
      "text/plain": [
       "[]"
      ]
     },
     "execution_count": 24,
     "metadata": {},
     "output_type": "execute_result"
    },
    {
     "data": {
      "text/plain": [
       "[None, None, None, None, None, None]"
      ]
     },
     "execution_count": 24,
     "metadata": {},
     "output_type": "execute_result"
    },
    {
     "data": {
      "text/plain": [
       "[None]"
      ]
     },
     "execution_count": 24,
     "metadata": {},
     "output_type": "execute_result"
    },
    {
     "data": {
      "text/plain": [
       "[None, None, None, None, None]"
      ]
     },
     "execution_count": 24,
     "metadata": {},
     "output_type": "execute_result"
    },
    {
     "data": {
      "text/plain": [
       "[]"
      ]
     },
     "execution_count": 24,
     "metadata": {},
     "output_type": "execute_result"
    },
    {
     "data": {
      "text/plain": [
       "[None]"
      ]
     },
     "execution_count": 24,
     "metadata": {},
     "output_type": "execute_result"
    },
    {
     "data": {
      "text/plain": [
       "[None, None, None]"
      ]
     },
     "execution_count": 24,
     "metadata": {},
     "output_type": "execute_result"
    },
    {
     "data": {
      "text/plain": [
       "[None]"
      ]
     },
     "execution_count": 24,
     "metadata": {},
     "output_type": "execute_result"
    },
    {
     "data": {
      "text/plain": [
       "[None]"
      ]
     },
     "execution_count": 24,
     "metadata": {},
     "output_type": "execute_result"
    },
    {
     "data": {
      "text/plain": [
       "[None, None, None, None, None, None]"
      ]
     },
     "execution_count": 24,
     "metadata": {},
     "output_type": "execute_result"
    },
    {
     "data": {
      "text/plain": [
       "[]"
      ]
     },
     "execution_count": 24,
     "metadata": {},
     "output_type": "execute_result"
    },
    {
     "data": {
      "text/plain": [
       "[None, None, None, None, None, None, None]"
      ]
     },
     "execution_count": 24,
     "metadata": {},
     "output_type": "execute_result"
    },
    {
     "data": {
      "text/plain": [
       "[]"
      ]
     },
     "execution_count": 24,
     "metadata": {},
     "output_type": "execute_result"
    },
    {
     "data": {
      "text/plain": [
       "[None, None, None, None, None, None]"
      ]
     },
     "execution_count": 24,
     "metadata": {},
     "output_type": "execute_result"
    },
    {
     "data": {
      "text/plain": [
       "[]"
      ]
     },
     "execution_count": 24,
     "metadata": {},
     "output_type": "execute_result"
    },
    {
     "data": {
      "text/plain": [
       "[None, None, None, None, None]"
      ]
     },
     "execution_count": 24,
     "metadata": {},
     "output_type": "execute_result"
    },
    {
     "data": {
      "text/plain": [
       "[]"
      ]
     },
     "execution_count": 24,
     "metadata": {},
     "output_type": "execute_result"
    },
    {
     "data": {
      "text/plain": [
       "[None, None, None, None, None, None, None]"
      ]
     },
     "execution_count": 24,
     "metadata": {},
     "output_type": "execute_result"
    },
    {
     "data": {
      "text/plain": [
       "[]"
      ]
     },
     "execution_count": 24,
     "metadata": {},
     "output_type": "execute_result"
    },
    {
     "data": {
      "text/plain": [
       "[None, None, None, None]"
      ]
     },
     "execution_count": 24,
     "metadata": {},
     "output_type": "execute_result"
    },
    {
     "data": {
      "text/plain": [
       "[]"
      ]
     },
     "execution_count": 24,
     "metadata": {},
     "output_type": "execute_result"
    },
    {
     "data": {
      "text/plain": [
       "[None, None, None]"
      ]
     },
     "execution_count": 24,
     "metadata": {},
     "output_type": "execute_result"
    },
    {
     "data": {
      "text/plain": [
       "[]"
      ]
     },
     "execution_count": 24,
     "metadata": {},
     "output_type": "execute_result"
    },
    {
     "data": {
      "text/plain": [
       "[None, None, None, None, None]"
      ]
     },
     "execution_count": 24,
     "metadata": {},
     "output_type": "execute_result"
    },
    {
     "data": {
      "text/plain": [
       "[]"
      ]
     },
     "execution_count": 24,
     "metadata": {},
     "output_type": "execute_result"
    },
    {
     "data": {
      "text/plain": [
       "[None, None, None, None, None]"
      ]
     },
     "execution_count": 24,
     "metadata": {},
     "output_type": "execute_result"
    },
    {
     "data": {
      "text/plain": [
       "[]"
      ]
     },
     "execution_count": 24,
     "metadata": {},
     "output_type": "execute_result"
    },
    {
     "data": {
      "text/plain": [
       "[None, None, None, None, None, None, None, None]"
      ]
     },
     "execution_count": 24,
     "metadata": {},
     "output_type": "execute_result"
    },
    {
     "data": {
      "text/plain": [
       "[]"
      ]
     },
     "execution_count": 24,
     "metadata": {},
     "output_type": "execute_result"
    },
    {
     "data": {
      "text/plain": [
       "[None, None, None, None]"
      ]
     },
     "execution_count": 24,
     "metadata": {},
     "output_type": "execute_result"
    },
    {
     "data": {
      "text/plain": [
       "[]"
      ]
     },
     "execution_count": 24,
     "metadata": {},
     "output_type": "execute_result"
    },
    {
     "data": {
      "text/plain": [
       "[None, None, None, None]"
      ]
     },
     "execution_count": 24,
     "metadata": {},
     "output_type": "execute_result"
    },
    {
     "data": {
      "text/plain": [
       "[]"
      ]
     },
     "execution_count": 24,
     "metadata": {},
     "output_type": "execute_result"
    },
    {
     "data": {
      "text/plain": [
       "[None, None, None, None, None]"
      ]
     },
     "execution_count": 24,
     "metadata": {},
     "output_type": "execute_result"
    },
    {
     "data": {
      "text/plain": [
       "[None]"
      ]
     },
     "execution_count": 24,
     "metadata": {},
     "output_type": "execute_result"
    },
    {
     "data": {
      "text/plain": [
       "[None, None, None, None, None, None]"
      ]
     },
     "execution_count": 24,
     "metadata": {},
     "output_type": "execute_result"
    },
    {
     "data": {
      "text/plain": [
       "[]"
      ]
     },
     "execution_count": 24,
     "metadata": {},
     "output_type": "execute_result"
    },
    {
     "data": {
      "text/plain": [
       "[None, None, None, None, None, None]"
      ]
     },
     "execution_count": 24,
     "metadata": {},
     "output_type": "execute_result"
    },
    {
     "data": {
      "text/plain": [
       "[]"
      ]
     },
     "execution_count": 24,
     "metadata": {},
     "output_type": "execute_result"
    },
    {
     "data": {
      "text/plain": [
       "[None, None, None, None]"
      ]
     },
     "execution_count": 24,
     "metadata": {},
     "output_type": "execute_result"
    },
    {
     "data": {
      "text/plain": [
       "[None]"
      ]
     },
     "execution_count": 24,
     "metadata": {},
     "output_type": "execute_result"
    },
    {
     "data": {
      "text/plain": [
       "[None, None, None, None]"
      ]
     },
     "execution_count": 24,
     "metadata": {},
     "output_type": "execute_result"
    },
    {
     "data": {
      "text/plain": [
       "[]"
      ]
     },
     "execution_count": 24,
     "metadata": {},
     "output_type": "execute_result"
    },
    {
     "data": {
      "text/plain": [
       "[None, None, None, None, None, None, None]"
      ]
     },
     "execution_count": 24,
     "metadata": {},
     "output_type": "execute_result"
    },
    {
     "data": {
      "text/plain": [
       "[]"
      ]
     },
     "execution_count": 24,
     "metadata": {},
     "output_type": "execute_result"
    },
    {
     "data": {
      "text/plain": [
       "[None, None, None, None, None, None, None, None]"
      ]
     },
     "execution_count": 24,
     "metadata": {},
     "output_type": "execute_result"
    },
    {
     "data": {
      "text/plain": [
       "[]"
      ]
     },
     "execution_count": 24,
     "metadata": {},
     "output_type": "execute_result"
    },
    {
     "data": {
      "text/plain": [
       "[None, None, None, None, None, None]"
      ]
     },
     "execution_count": 24,
     "metadata": {},
     "output_type": "execute_result"
    },
    {
     "data": {
      "text/plain": [
       "[]"
      ]
     },
     "execution_count": 24,
     "metadata": {},
     "output_type": "execute_result"
    },
    {
     "data": {
      "text/plain": [
       "[None, None, None, None]"
      ]
     },
     "execution_count": 24,
     "metadata": {},
     "output_type": "execute_result"
    },
    {
     "data": {
      "text/plain": [
       "[]"
      ]
     },
     "execution_count": 24,
     "metadata": {},
     "output_type": "execute_result"
    },
    {
     "data": {
      "text/plain": [
       "[None, None, None]"
      ]
     },
     "execution_count": 24,
     "metadata": {},
     "output_type": "execute_result"
    },
    {
     "data": {
      "text/plain": [
       "[]"
      ]
     },
     "execution_count": 24,
     "metadata": {},
     "output_type": "execute_result"
    },
    {
     "name": "stderr",
     "output_type": "stream",
     "text": [
      "\r",
      "146it [00:00, 284.13it/s]"
     ]
    },
    {
     "data": {
      "text/plain": [
       "[None, None, None, None, None]"
      ]
     },
     "execution_count": 24,
     "metadata": {},
     "output_type": "execute_result"
    },
    {
     "data": {
      "text/plain": [
       "[None]"
      ]
     },
     "execution_count": 24,
     "metadata": {},
     "output_type": "execute_result"
    },
    {
     "data": {
      "text/plain": [
       "[None, None, None]"
      ]
     },
     "execution_count": 24,
     "metadata": {},
     "output_type": "execute_result"
    },
    {
     "data": {
      "text/plain": [
       "[]"
      ]
     },
     "execution_count": 24,
     "metadata": {},
     "output_type": "execute_result"
    },
    {
     "data": {
      "text/plain": [
       "[None, None, None]"
      ]
     },
     "execution_count": 24,
     "metadata": {},
     "output_type": "execute_result"
    },
    {
     "data": {
      "text/plain": [
       "[]"
      ]
     },
     "execution_count": 24,
     "metadata": {},
     "output_type": "execute_result"
    },
    {
     "data": {
      "text/plain": [
       "[None, None, None, None]"
      ]
     },
     "execution_count": 24,
     "metadata": {},
     "output_type": "execute_result"
    },
    {
     "data": {
      "text/plain": [
       "[None]"
      ]
     },
     "execution_count": 24,
     "metadata": {},
     "output_type": "execute_result"
    },
    {
     "data": {
      "text/plain": [
       "[None, None, None, None]"
      ]
     },
     "execution_count": 24,
     "metadata": {},
     "output_type": "execute_result"
    },
    {
     "data": {
      "text/plain": [
       "[None]"
      ]
     },
     "execution_count": 24,
     "metadata": {},
     "output_type": "execute_result"
    },
    {
     "data": {
      "text/plain": [
       "[None, None, None, None, None]"
      ]
     },
     "execution_count": 24,
     "metadata": {},
     "output_type": "execute_result"
    },
    {
     "data": {
      "text/plain": [
       "[]"
      ]
     },
     "execution_count": 24,
     "metadata": {},
     "output_type": "execute_result"
    },
    {
     "data": {
      "text/plain": [
       "[None, None, None, None]"
      ]
     },
     "execution_count": 24,
     "metadata": {},
     "output_type": "execute_result"
    },
    {
     "data": {
      "text/plain": [
       "[None, None, None]"
      ]
     },
     "execution_count": 24,
     "metadata": {},
     "output_type": "execute_result"
    },
    {
     "data": {
      "text/plain": [
       "[None, None, None, None, None, None]"
      ]
     },
     "execution_count": 24,
     "metadata": {},
     "output_type": "execute_result"
    },
    {
     "data": {
      "text/plain": [
       "[]"
      ]
     },
     "execution_count": 24,
     "metadata": {},
     "output_type": "execute_result"
    },
    {
     "data": {
      "text/plain": [
       "[None, None, None, None, None, None, None, None]"
      ]
     },
     "execution_count": 24,
     "metadata": {},
     "output_type": "execute_result"
    },
    {
     "data": {
      "text/plain": [
       "[None]"
      ]
     },
     "execution_count": 24,
     "metadata": {},
     "output_type": "execute_result"
    },
    {
     "data": {
      "text/plain": [
       "[None, None, None, None, None]"
      ]
     },
     "execution_count": 24,
     "metadata": {},
     "output_type": "execute_result"
    },
    {
     "data": {
      "text/plain": [
       "[None]"
      ]
     },
     "execution_count": 24,
     "metadata": {},
     "output_type": "execute_result"
    },
    {
     "data": {
      "text/plain": [
       "[None, None, None, None]"
      ]
     },
     "execution_count": 24,
     "metadata": {},
     "output_type": "execute_result"
    },
    {
     "data": {
      "text/plain": [
       "[]"
      ]
     },
     "execution_count": 24,
     "metadata": {},
     "output_type": "execute_result"
    },
    {
     "data": {
      "text/plain": [
       "[None, None, None, None, None, None, None, None]"
      ]
     },
     "execution_count": 24,
     "metadata": {},
     "output_type": "execute_result"
    },
    {
     "data": {
      "text/plain": [
       "[]"
      ]
     },
     "execution_count": 24,
     "metadata": {},
     "output_type": "execute_result"
    },
    {
     "data": {
      "text/plain": [
       "[None, None, None, None, None]"
      ]
     },
     "execution_count": 24,
     "metadata": {},
     "output_type": "execute_result"
    },
    {
     "data": {
      "text/plain": [
       "[None]"
      ]
     },
     "execution_count": 24,
     "metadata": {},
     "output_type": "execute_result"
    },
    {
     "data": {
      "text/plain": [
       "[None, None, None, None, None, None, None, None]"
      ]
     },
     "execution_count": 24,
     "metadata": {},
     "output_type": "execute_result"
    },
    {
     "data": {
      "text/plain": [
       "[]"
      ]
     },
     "execution_count": 24,
     "metadata": {},
     "output_type": "execute_result"
    },
    {
     "data": {
      "text/plain": [
       "[None, None, None, None, None]"
      ]
     },
     "execution_count": 24,
     "metadata": {},
     "output_type": "execute_result"
    },
    {
     "data": {
      "text/plain": [
       "[]"
      ]
     },
     "execution_count": 24,
     "metadata": {},
     "output_type": "execute_result"
    },
    {
     "data": {
      "text/plain": [
       "[None, None, None, None, None, None, None, None]"
      ]
     },
     "execution_count": 24,
     "metadata": {},
     "output_type": "execute_result"
    },
    {
     "data": {
      "text/plain": [
       "[]"
      ]
     },
     "execution_count": 24,
     "metadata": {},
     "output_type": "execute_result"
    },
    {
     "data": {
      "text/plain": [
       "[None, None, None, None, None, None]"
      ]
     },
     "execution_count": 24,
     "metadata": {},
     "output_type": "execute_result"
    },
    {
     "data": {
      "text/plain": [
       "[]"
      ]
     },
     "execution_count": 24,
     "metadata": {},
     "output_type": "execute_result"
    },
    {
     "data": {
      "text/plain": [
       "[None, None, None, None, None]"
      ]
     },
     "execution_count": 24,
     "metadata": {},
     "output_type": "execute_result"
    },
    {
     "data": {
      "text/plain": [
       "[]"
      ]
     },
     "execution_count": 24,
     "metadata": {},
     "output_type": "execute_result"
    },
    {
     "data": {
      "text/plain": [
       "[None, None, None, None, None, None]"
      ]
     },
     "execution_count": 24,
     "metadata": {},
     "output_type": "execute_result"
    },
    {
     "data": {
      "text/plain": [
       "[]"
      ]
     },
     "execution_count": 24,
     "metadata": {},
     "output_type": "execute_result"
    },
    {
     "data": {
      "text/plain": [
       "[None, None, None, None, None]"
      ]
     },
     "execution_count": 24,
     "metadata": {},
     "output_type": "execute_result"
    },
    {
     "data": {
      "text/plain": [
       "[]"
      ]
     },
     "execution_count": 24,
     "metadata": {},
     "output_type": "execute_result"
    },
    {
     "data": {
      "text/plain": [
       "[None, None, None, None, None, None]"
      ]
     },
     "execution_count": 24,
     "metadata": {},
     "output_type": "execute_result"
    },
    {
     "data": {
      "text/plain": [
       "[]"
      ]
     },
     "execution_count": 24,
     "metadata": {},
     "output_type": "execute_result"
    },
    {
     "data": {
      "text/plain": [
       "[None, None, None, None, None]"
      ]
     },
     "execution_count": 24,
     "metadata": {},
     "output_type": "execute_result"
    },
    {
     "data": {
      "text/plain": [
       "[None]"
      ]
     },
     "execution_count": 24,
     "metadata": {},
     "output_type": "execute_result"
    },
    {
     "data": {
      "text/plain": [
       "[None, None, None, None, None]"
      ]
     },
     "execution_count": 24,
     "metadata": {},
     "output_type": "execute_result"
    },
    {
     "data": {
      "text/plain": [
       "[None]"
      ]
     },
     "execution_count": 24,
     "metadata": {},
     "output_type": "execute_result"
    },
    {
     "data": {
      "text/plain": [
       "[None, None, None, None, None, None, None]"
      ]
     },
     "execution_count": 24,
     "metadata": {},
     "output_type": "execute_result"
    },
    {
     "data": {
      "text/plain": [
       "[None]"
      ]
     },
     "execution_count": 24,
     "metadata": {},
     "output_type": "execute_result"
    },
    {
     "data": {
      "text/plain": [
       "[None, None, None, None, None]"
      ]
     },
     "execution_count": 24,
     "metadata": {},
     "output_type": "execute_result"
    },
    {
     "data": {
      "text/plain": [
       "[]"
      ]
     },
     "execution_count": 24,
     "metadata": {},
     "output_type": "execute_result"
    },
    {
     "data": {
      "text/plain": [
       "[None, None, None, None, None]"
      ]
     },
     "execution_count": 24,
     "metadata": {},
     "output_type": "execute_result"
    },
    {
     "data": {
      "text/plain": [
       "[]"
      ]
     },
     "execution_count": 24,
     "metadata": {},
     "output_type": "execute_result"
    },
    {
     "data": {
      "text/plain": [
       "[None, None, None, None, None]"
      ]
     },
     "execution_count": 24,
     "metadata": {},
     "output_type": "execute_result"
    },
    {
     "data": {
      "text/plain": [
       "[None]"
      ]
     },
     "execution_count": 24,
     "metadata": {},
     "output_type": "execute_result"
    },
    {
     "data": {
      "text/plain": [
       "[None, None, None, None, None]"
      ]
     },
     "execution_count": 24,
     "metadata": {},
     "output_type": "execute_result"
    },
    {
     "data": {
      "text/plain": [
       "[None]"
      ]
     },
     "execution_count": 24,
     "metadata": {},
     "output_type": "execute_result"
    },
    {
     "data": {
      "text/plain": [
       "[None, None, None, None, None, None, None, None]"
      ]
     },
     "execution_count": 24,
     "metadata": {},
     "output_type": "execute_result"
    },
    {
     "data": {
      "text/plain": [
       "[None]"
      ]
     },
     "execution_count": 24,
     "metadata": {},
     "output_type": "execute_result"
    },
    {
     "name": "stderr",
     "output_type": "stream",
     "text": [
      "\r",
      "175it [00:00, 285.71it/s]"
     ]
    },
    {
     "data": {
      "text/plain": [
       "[None, None, None, None, None, None]"
      ]
     },
     "execution_count": 24,
     "metadata": {},
     "output_type": "execute_result"
    },
    {
     "data": {
      "text/plain": [
       "[]"
      ]
     },
     "execution_count": 24,
     "metadata": {},
     "output_type": "execute_result"
    },
    {
     "data": {
      "text/plain": [
       "[None, None, None, None, None]"
      ]
     },
     "execution_count": 24,
     "metadata": {},
     "output_type": "execute_result"
    },
    {
     "data": {
      "text/plain": [
       "[]"
      ]
     },
     "execution_count": 24,
     "metadata": {},
     "output_type": "execute_result"
    },
    {
     "data": {
      "text/plain": [
       "[None, None, None, None, None]"
      ]
     },
     "execution_count": 24,
     "metadata": {},
     "output_type": "execute_result"
    },
    {
     "data": {
      "text/plain": [
       "[None]"
      ]
     },
     "execution_count": 24,
     "metadata": {},
     "output_type": "execute_result"
    },
    {
     "data": {
      "text/plain": [
       "[None, None, None, None, None]"
      ]
     },
     "execution_count": 24,
     "metadata": {},
     "output_type": "execute_result"
    },
    {
     "data": {
      "text/plain": [
       "[None]"
      ]
     },
     "execution_count": 24,
     "metadata": {},
     "output_type": "execute_result"
    },
    {
     "data": {
      "text/plain": [
       "[None, None, None, None, None]"
      ]
     },
     "execution_count": 24,
     "metadata": {},
     "output_type": "execute_result"
    },
    {
     "data": {
      "text/plain": [
       "[]"
      ]
     },
     "execution_count": 24,
     "metadata": {},
     "output_type": "execute_result"
    },
    {
     "data": {
      "text/plain": [
       "[None, None, None, None]"
      ]
     },
     "execution_count": 24,
     "metadata": {},
     "output_type": "execute_result"
    },
    {
     "data": {
      "text/plain": [
       "[None, None]"
      ]
     },
     "execution_count": 24,
     "metadata": {},
     "output_type": "execute_result"
    },
    {
     "data": {
      "text/plain": [
       "[None, None, None, None, None]"
      ]
     },
     "execution_count": 24,
     "metadata": {},
     "output_type": "execute_result"
    },
    {
     "data": {
      "text/plain": [
       "[]"
      ]
     },
     "execution_count": 24,
     "metadata": {},
     "output_type": "execute_result"
    },
    {
     "data": {
      "text/plain": [
       "[None, None, None, None]"
      ]
     },
     "execution_count": 24,
     "metadata": {},
     "output_type": "execute_result"
    },
    {
     "data": {
      "text/plain": [
       "[]"
      ]
     },
     "execution_count": 24,
     "metadata": {},
     "output_type": "execute_result"
    },
    {
     "data": {
      "text/plain": [
       "[None, None, None, None]"
      ]
     },
     "execution_count": 24,
     "metadata": {},
     "output_type": "execute_result"
    },
    {
     "data": {
      "text/plain": [
       "[]"
      ]
     },
     "execution_count": 24,
     "metadata": {},
     "output_type": "execute_result"
    },
    {
     "data": {
      "text/plain": [
       "[None, None, None, None]"
      ]
     },
     "execution_count": 24,
     "metadata": {},
     "output_type": "execute_result"
    },
    {
     "data": {
      "text/plain": [
       "[]"
      ]
     },
     "execution_count": 24,
     "metadata": {},
     "output_type": "execute_result"
    },
    {
     "data": {
      "text/plain": [
       "[None, None, None, None, None]"
      ]
     },
     "execution_count": 24,
     "metadata": {},
     "output_type": "execute_result"
    },
    {
     "data": {
      "text/plain": [
       "[]"
      ]
     },
     "execution_count": 24,
     "metadata": {},
     "output_type": "execute_result"
    },
    {
     "data": {
      "text/plain": [
       "[None, None, None, None]"
      ]
     },
     "execution_count": 24,
     "metadata": {},
     "output_type": "execute_result"
    },
    {
     "data": {
      "text/plain": [
       "[]"
      ]
     },
     "execution_count": 24,
     "metadata": {},
     "output_type": "execute_result"
    },
    {
     "data": {
      "text/plain": [
       "[None, None, None]"
      ]
     },
     "execution_count": 24,
     "metadata": {},
     "output_type": "execute_result"
    },
    {
     "data": {
      "text/plain": [
       "[None]"
      ]
     },
     "execution_count": 24,
     "metadata": {},
     "output_type": "execute_result"
    },
    {
     "data": {
      "text/plain": [
       "[None, None, None, None, None]"
      ]
     },
     "execution_count": 24,
     "metadata": {},
     "output_type": "execute_result"
    },
    {
     "data": {
      "text/plain": [
       "[]"
      ]
     },
     "execution_count": 24,
     "metadata": {},
     "output_type": "execute_result"
    },
    {
     "data": {
      "text/plain": [
       "[None, None, None, None, None]"
      ]
     },
     "execution_count": 24,
     "metadata": {},
     "output_type": "execute_result"
    },
    {
     "data": {
      "text/plain": [
       "[None, None]"
      ]
     },
     "execution_count": 24,
     "metadata": {},
     "output_type": "execute_result"
    },
    {
     "data": {
      "text/plain": [
       "[None, None, None, None, None]"
      ]
     },
     "execution_count": 24,
     "metadata": {},
     "output_type": "execute_result"
    },
    {
     "data": {
      "text/plain": [
       "[]"
      ]
     },
     "execution_count": 24,
     "metadata": {},
     "output_type": "execute_result"
    },
    {
     "data": {
      "text/plain": [
       "[None, None, None, None]"
      ]
     },
     "execution_count": 24,
     "metadata": {},
     "output_type": "execute_result"
    },
    {
     "data": {
      "text/plain": [
       "[]"
      ]
     },
     "execution_count": 24,
     "metadata": {},
     "output_type": "execute_result"
    },
    {
     "data": {
      "text/plain": [
       "[None, None, None, None, None, None, None]"
      ]
     },
     "execution_count": 24,
     "metadata": {},
     "output_type": "execute_result"
    },
    {
     "data": {
      "text/plain": [
       "[None, None]"
      ]
     },
     "execution_count": 24,
     "metadata": {},
     "output_type": "execute_result"
    },
    {
     "data": {
      "text/plain": [
       "[None, None, None, None, None, None, None]"
      ]
     },
     "execution_count": 24,
     "metadata": {},
     "output_type": "execute_result"
    },
    {
     "data": {
      "text/plain": [
       "[]"
      ]
     },
     "execution_count": 24,
     "metadata": {},
     "output_type": "execute_result"
    },
    {
     "data": {
      "text/plain": [
       "[None, None, None, None, None, None]"
      ]
     },
     "execution_count": 24,
     "metadata": {},
     "output_type": "execute_result"
    },
    {
     "data": {
      "text/plain": [
       "[]"
      ]
     },
     "execution_count": 24,
     "metadata": {},
     "output_type": "execute_result"
    },
    {
     "data": {
      "text/plain": [
       "[None, None, None, None, None, None, None]"
      ]
     },
     "execution_count": 24,
     "metadata": {},
     "output_type": "execute_result"
    },
    {
     "data": {
      "text/plain": [
       "[]"
      ]
     },
     "execution_count": 24,
     "metadata": {},
     "output_type": "execute_result"
    },
    {
     "data": {
      "text/plain": [
       "[None, None, None, None, None, None, None, None]"
      ]
     },
     "execution_count": 24,
     "metadata": {},
     "output_type": "execute_result"
    },
    {
     "data": {
      "text/plain": [
       "[]"
      ]
     },
     "execution_count": 24,
     "metadata": {},
     "output_type": "execute_result"
    },
    {
     "data": {
      "text/plain": [
       "[None, None, None, None, None, None]"
      ]
     },
     "execution_count": 24,
     "metadata": {},
     "output_type": "execute_result"
    },
    {
     "data": {
      "text/plain": [
       "[]"
      ]
     },
     "execution_count": 24,
     "metadata": {},
     "output_type": "execute_result"
    },
    {
     "data": {
      "text/plain": [
       "[None, None, None, None, None, None, None, None]"
      ]
     },
     "execution_count": 24,
     "metadata": {},
     "output_type": "execute_result"
    },
    {
     "data": {
      "text/plain": [
       "[None, None]"
      ]
     },
     "execution_count": 24,
     "metadata": {},
     "output_type": "execute_result"
    },
    {
     "data": {
      "text/plain": [
       "[None, None, None, None, None, None, None, None, None, None]"
      ]
     },
     "execution_count": 24,
     "metadata": {},
     "output_type": "execute_result"
    },
    {
     "data": {
      "text/plain": [
       "[None, None]"
      ]
     },
     "execution_count": 24,
     "metadata": {},
     "output_type": "execute_result"
    },
    {
     "data": {
      "text/plain": [
       "[None, None, None, None, None]"
      ]
     },
     "execution_count": 24,
     "metadata": {},
     "output_type": "execute_result"
    },
    {
     "data": {
      "text/plain": [
       "[]"
      ]
     },
     "execution_count": 24,
     "metadata": {},
     "output_type": "execute_result"
    },
    {
     "data": {
      "text/plain": [
       "[None, None, None, None, None, None, None, None]"
      ]
     },
     "execution_count": 24,
     "metadata": {},
     "output_type": "execute_result"
    },
    {
     "data": {
      "text/plain": [
       "[None]"
      ]
     },
     "execution_count": 24,
     "metadata": {},
     "output_type": "execute_result"
    },
    {
     "data": {
      "text/plain": [
       "[None, None, None, None, None]"
      ]
     },
     "execution_count": 24,
     "metadata": {},
     "output_type": "execute_result"
    },
    {
     "data": {
      "text/plain": [
       "[]"
      ]
     },
     "execution_count": 24,
     "metadata": {},
     "output_type": "execute_result"
    },
    {
     "data": {
      "text/plain": [
       "[None, None, None, None, None]"
      ]
     },
     "execution_count": 24,
     "metadata": {},
     "output_type": "execute_result"
    },
    {
     "data": {
      "text/plain": [
       "[]"
      ]
     },
     "execution_count": 24,
     "metadata": {},
     "output_type": "execute_result"
    },
    {
     "name": "stderr",
     "output_type": "stream",
     "text": [
      "204it [00:00, 285.61it/s]\n"
     ]
    }
   ],
   "source": [
    "from tqdm import tqdm\n",
    "import re\n",
    "\n",
    "find_hashtags = lambda text: re.findall(r'#(\\w+)',text)\n",
    "find_mentions = lambda text: re.findall(r'@(\\w+)',text)\n",
    "hashtags = []\n",
    "usermention = []\n",
    "\n",
    "# photos that i have liked\n",
    "# photos i have liked recently\n",
    "\n",
    "for idx, r in tqdm(all_posts_df.iterrows()):\n",
    "    \n",
    "    if r['captions'] is not None:\n",
    "        hashtag = find_hashtags(r['captions'])\n",
    "        mention = find_mentions(r['captions'])\n",
    "       \n",
    "        [hashtags.append(i.strip().lower()) for i in (hashtag)]\n",
    "        [usermention.append(i.strip().lower()) for i in (mention)]\n",
    "        \n",
    "        \n",
    "    "
   ]
  },
  {
   "cell_type": "code",
   "execution_count": 47,
   "metadata": {},
   "outputs": [
    {
     "data": {
      "text/html": [
       "<div>\n",
       "<style scoped>\n",
       "    .dataframe tbody tr th:only-of-type {\n",
       "        vertical-align: middle;\n",
       "    }\n",
       "\n",
       "    .dataframe tbody tr th {\n",
       "        vertical-align: top;\n",
       "    }\n",
       "\n",
       "    .dataframe thead th {\n",
       "        text-align: right;\n",
       "    }\n",
       "</style>\n",
       "<table border=\"1\" class=\"dataframe\">\n",
       "  <thead>\n",
       "    <tr style=\"text-align: right;\">\n",
       "      <th></th>\n",
       "      <th>count</th>\n",
       "    </tr>\n",
       "    <tr>\n",
       "      <th>tag</th>\n",
       "      <th></th>\n",
       "    </tr>\n",
       "  </thead>\n",
       "  <tbody>\n",
       "    <tr>\n",
       "      <th>indianauniversity</th>\n",
       "      <td>318</td>\n",
       "    </tr>\n",
       "    <tr>\n",
       "      <th>dunnswoods</th>\n",
       "      <td>1</td>\n",
       "    </tr>\n",
       "    <tr>\n",
       "      <th>iubloomington</th>\n",
       "      <td>300</td>\n",
       "    </tr>\n",
       "    <tr>\n",
       "      <th>takemehome</th>\n",
       "      <td>1</td>\n",
       "    </tr>\n",
       "    <tr>\n",
       "      <th>hoosiers</th>\n",
       "      <td>164</td>\n",
       "    </tr>\n",
       "    <tr>\n",
       "      <th>goiu</th>\n",
       "      <td>32</td>\n",
       "    </tr>\n",
       "    <tr>\n",
       "      <th>indiana</th>\n",
       "      <td>96</td>\n",
       "    </tr>\n",
       "    <tr>\n",
       "      <th>iuhoosiers</th>\n",
       "      <td>15</td>\n",
       "    </tr>\n",
       "    <tr>\n",
       "      <th>banners</th>\n",
       "      <td>1</td>\n",
       "    </tr>\n",
       "    <tr>\n",
       "      <th>indianaunviersity</th>\n",
       "      <td>1</td>\n",
       "    </tr>\n",
       "    <tr>\n",
       "      <th>iumovein</th>\n",
       "      <td>5</td>\n",
       "    </tr>\n",
       "    <tr>\n",
       "      <th>iufb</th>\n",
       "      <td>4</td>\n",
       "    </tr>\n",
       "    <tr>\n",
       "      <th>iubb</th>\n",
       "      <td>6</td>\n",
       "    </tr>\n",
       "    <tr>\n",
       "      <th>samplegates</th>\n",
       "      <td>38</td>\n",
       "    </tr>\n",
       "    <tr>\n",
       "      <th>memorialhall</th>\n",
       "      <td>2</td>\n",
       "    </tr>\n",
       "    <tr>\n",
       "      <th>hogwarts</th>\n",
       "      <td>1</td>\n",
       "    </tr>\n",
       "    <tr>\n",
       "      <th>campuslife</th>\n",
       "      <td>1</td>\n",
       "    </tr>\n",
       "    <tr>\n",
       "      <th>art</th>\n",
       "      <td>1</td>\n",
       "    </tr>\n",
       "    <tr>\n",
       "      <th>o19m</th>\n",
       "      <td>1</td>\n",
       "    </tr>\n",
       "    <tr>\n",
       "      <th>furryfriendsoffye</th>\n",
       "      <td>1</td>\n",
       "    </tr>\n",
       "    <tr>\n",
       "      <th>fye</th>\n",
       "      <td>1</td>\n",
       "    </tr>\n",
       "    <tr>\n",
       "      <th>hoosierpups</th>\n",
       "      <td>4</td>\n",
       "    </tr>\n",
       "    <tr>\n",
       "      <th>nationalicecreamday</th>\n",
       "      <td>2</td>\n",
       "    </tr>\n",
       "    <tr>\n",
       "      <th>clioawards</th>\n",
       "      <td>1</td>\n",
       "    </tr>\n",
       "    <tr>\n",
       "      <th>bloomington</th>\n",
       "      <td>68</td>\n",
       "    </tr>\n",
       "    <tr>\n",
       "      <th>worldemojiday</th>\n",
       "      <td>1</td>\n",
       "    </tr>\n",
       "    <tr>\n",
       "      <th>instaiub</th>\n",
       "      <td>1</td>\n",
       "    </tr>\n",
       "    <tr>\n",
       "      <th>emojis</th>\n",
       "      <td>1</td>\n",
       "    </tr>\n",
       "    <tr>\n",
       "      <th>centuryplant</th>\n",
       "      <td>2</td>\n",
       "    </tr>\n",
       "    <tr>\n",
       "      <th>iuiseverywhere</th>\n",
       "      <td>9</td>\n",
       "    </tr>\n",
       "    <tr>\n",
       "      <th>...</th>\n",
       "      <td>...</td>\n",
       "    </tr>\n",
       "    <tr>\n",
       "      <th>coffee</th>\n",
       "      <td>1</td>\n",
       "    </tr>\n",
       "    <tr>\n",
       "      <th>weekend</th>\n",
       "      <td>1</td>\n",
       "    </tr>\n",
       "    <tr>\n",
       "      <th>fridayfeeling</th>\n",
       "      <td>1</td>\n",
       "    </tr>\n",
       "    <tr>\n",
       "      <th>hoosierstate</th>\n",
       "      <td>1</td>\n",
       "    </tr>\n",
       "    <tr>\n",
       "      <th>cloudy</th>\n",
       "      <td>1</td>\n",
       "    </tr>\n",
       "    <tr>\n",
       "      <th>clouds</th>\n",
       "      <td>1</td>\n",
       "    </tr>\n",
       "    <tr>\n",
       "      <th>nationalvoterregistrationday</th>\n",
       "      <td>1</td>\n",
       "    </tr>\n",
       "    <tr>\n",
       "      <th>nofilterneeded</th>\n",
       "      <td>1</td>\n",
       "    </tr>\n",
       "    <tr>\n",
       "      <th>bigredeatsgreen</th>\n",
       "      <td>3</td>\n",
       "    </tr>\n",
       "    <tr>\n",
       "      <th>breg</th>\n",
       "      <td>2</td>\n",
       "    </tr>\n",
       "    <tr>\n",
       "      <th>breg2018</th>\n",
       "      <td>1</td>\n",
       "    </tr>\n",
       "    <tr>\n",
       "      <th>september11</th>\n",
       "      <td>1</td>\n",
       "    </tr>\n",
       "    <tr>\n",
       "      <th>neverforget</th>\n",
       "      <td>1</td>\n",
       "    </tr>\n",
       "    <tr>\n",
       "      <th>sustainability</th>\n",
       "      <td>1</td>\n",
       "    </tr>\n",
       "    <tr>\n",
       "      <th>sustainiu</th>\n",
       "      <td>1</td>\n",
       "    </tr>\n",
       "    <tr>\n",
       "      <th>dogsofiu</th>\n",
       "      <td>1</td>\n",
       "    </tr>\n",
       "    <tr>\n",
       "      <th>dogstagram</th>\n",
       "      <td>1</td>\n",
       "    </tr>\n",
       "    <tr>\n",
       "      <th>weareiu</th>\n",
       "      <td>1</td>\n",
       "    </tr>\n",
       "    <tr>\n",
       "      <th>champion</th>\n",
       "      <td>1</td>\n",
       "    </tr>\n",
       "    <tr>\n",
       "      <th>iuswimming</th>\n",
       "      <td>1</td>\n",
       "    </tr>\n",
       "    <tr>\n",
       "      <th>birdseyeview</th>\n",
       "      <td>1</td>\n",
       "    </tr>\n",
       "    <tr>\n",
       "      <th>backtoschool</th>\n",
       "      <td>2</td>\n",
       "    </tr>\n",
       "    <tr>\n",
       "      <th>advice</th>\n",
       "      <td>1</td>\n",
       "    </tr>\n",
       "    <tr>\n",
       "      <th>mondaymotivation</th>\n",
       "      <td>1</td>\n",
       "    </tr>\n",
       "    <tr>\n",
       "      <th>waterski</th>\n",
       "      <td>1</td>\n",
       "    </tr>\n",
       "    <tr>\n",
       "      <th>recfestisthebestfest</th>\n",
       "      <td>1</td>\n",
       "    </tr>\n",
       "    <tr>\n",
       "      <th>culturefest</th>\n",
       "      <td>1</td>\n",
       "    </tr>\n",
       "    <tr>\n",
       "      <th>iuww</th>\n",
       "      <td>3</td>\n",
       "    </tr>\n",
       "    <tr>\n",
       "      <th>moveinday</th>\n",
       "      <td>2</td>\n",
       "    </tr>\n",
       "    <tr>\n",
       "      <th>flowers</th>\n",
       "      <td>1</td>\n",
       "    </tr>\n",
       "  </tbody>\n",
       "</table>\n",
       "<p>315 rows × 1 columns</p>\n",
       "</div>"
      ],
      "text/plain": [
       "                              count\n",
       "tag                                \n",
       "indianauniversity               318\n",
       "dunnswoods                        1\n",
       "iubloomington                   300\n",
       "takemehome                        1\n",
       "hoosiers                        164\n",
       "goiu                             32\n",
       "indiana                          96\n",
       "iuhoosiers                       15\n",
       "banners                           1\n",
       "indianaunviersity                 1\n",
       "iumovein                          5\n",
       "iufb                              4\n",
       "iubb                              6\n",
       "samplegates                      38\n",
       "memorialhall                      2\n",
       "hogwarts                          1\n",
       "campuslife                        1\n",
       "art                               1\n",
       "o19m                              1\n",
       "furryfriendsoffye                 1\n",
       "fye                               1\n",
       "hoosierpups                       4\n",
       "nationalicecreamday               2\n",
       "clioawards                        1\n",
       "bloomington                      68\n",
       "worldemojiday                     1\n",
       "instaiub                          1\n",
       "emojis                            1\n",
       "centuryplant                      2\n",
       "iuiseverywhere                    9\n",
       "...                             ...\n",
       "coffee                            1\n",
       "weekend                           1\n",
       "fridayfeeling                     1\n",
       "hoosierstate                      1\n",
       "cloudy                            1\n",
       "clouds                            1\n",
       "nationalvoterregistrationday      1\n",
       "nofilterneeded                    1\n",
       "bigredeatsgreen                   3\n",
       "breg                              2\n",
       "breg2018                          1\n",
       "september11                       1\n",
       "neverforget                       1\n",
       "sustainability                    1\n",
       "sustainiu                         1\n",
       "dogsofiu                          1\n",
       "dogstagram                        1\n",
       "weareiu                           1\n",
       "champion                          1\n",
       "iuswimming                        1\n",
       "birdseyeview                      1\n",
       "backtoschool                      2\n",
       "advice                            1\n",
       "mondaymotivation                  1\n",
       "waterski                          1\n",
       "recfestisthebestfest              1\n",
       "culturefest                       1\n",
       "iuww                              3\n",
       "moveinday                         2\n",
       "flowers                           1\n",
       "\n",
       "[315 rows x 1 columns]"
      ]
     },
     "execution_count": 47,
     "metadata": {},
     "output_type": "execute_result"
    },
    {
     "data": {
      "text/html": [
       "<div>\n",
       "<style scoped>\n",
       "    .dataframe tbody tr th:only-of-type {\n",
       "        vertical-align: middle;\n",
       "    }\n",
       "\n",
       "    .dataframe tbody tr th {\n",
       "        vertical-align: top;\n",
       "    }\n",
       "\n",
       "    .dataframe thead th {\n",
       "        text-align: right;\n",
       "    }\n",
       "</style>\n",
       "<table border=\"1\" class=\"dataframe\">\n",
       "  <thead>\n",
       "    <tr style=\"text-align: right;\">\n",
       "      <th></th>\n",
       "      <th>tag</th>\n",
       "      <th>count</th>\n",
       "    </tr>\n",
       "  </thead>\n",
       "  <tbody>\n",
       "    <tr>\n",
       "      <th>0</th>\n",
       "      <td>indianauniversity</td>\n",
       "      <td>318</td>\n",
       "    </tr>\n",
       "    <tr>\n",
       "      <th>2</th>\n",
       "      <td>iubloomington</td>\n",
       "      <td>300</td>\n",
       "    </tr>\n",
       "    <tr>\n",
       "      <th>4</th>\n",
       "      <td>hoosiers</td>\n",
       "      <td>164</td>\n",
       "    </tr>\n",
       "    <tr>\n",
       "      <th>6</th>\n",
       "      <td>indiana</td>\n",
       "      <td>96</td>\n",
       "    </tr>\n",
       "    <tr>\n",
       "      <th>24</th>\n",
       "      <td>bloomington</td>\n",
       "      <td>68</td>\n",
       "    </tr>\n",
       "    <tr>\n",
       "      <th>78</th>\n",
       "      <td>iu</td>\n",
       "      <td>48</td>\n",
       "    </tr>\n",
       "    <tr>\n",
       "      <th>53</th>\n",
       "      <td>iuishome</td>\n",
       "      <td>48</td>\n",
       "    </tr>\n",
       "    <tr>\n",
       "      <th>50</th>\n",
       "      <td>hoosiernation</td>\n",
       "      <td>39</td>\n",
       "    </tr>\n",
       "    <tr>\n",
       "      <th>13</th>\n",
       "      <td>samplegates</td>\n",
       "      <td>38</td>\n",
       "    </tr>\n",
       "    <tr>\n",
       "      <th>5</th>\n",
       "      <td>goiu</td>\n",
       "      <td>32</td>\n",
       "    </tr>\n",
       "    <tr>\n",
       "      <th>92</th>\n",
       "      <td>indianauniversitybloomington</td>\n",
       "      <td>28</td>\n",
       "    </tr>\n",
       "    <tr>\n",
       "      <th>35</th>\n",
       "      <td>onedayonehoosier</td>\n",
       "      <td>21</td>\n",
       "    </tr>\n",
       "    <tr>\n",
       "      <th>57</th>\n",
       "      <td>hoosier</td>\n",
       "      <td>21</td>\n",
       "    </tr>\n",
       "    <tr>\n",
       "      <th>7</th>\n",
       "      <td>iuhoosiers</td>\n",
       "      <td>15</td>\n",
       "    </tr>\n",
       "    <tr>\n",
       "      <th>152</th>\n",
       "      <td>university</td>\n",
       "      <td>14</td>\n",
       "    </tr>\n",
       "    <tr>\n",
       "      <th>217</th>\n",
       "      <td>fall</td>\n",
       "      <td>12</td>\n",
       "    </tr>\n",
       "    <tr>\n",
       "      <th>142</th>\n",
       "      <td>gloryofcoldiu</td>\n",
       "      <td>11</td>\n",
       "    </tr>\n",
       "    <tr>\n",
       "      <th>100</th>\n",
       "      <td>little500</td>\n",
       "      <td>10</td>\n",
       "    </tr>\n",
       "    <tr>\n",
       "      <th>172</th>\n",
       "      <td>iub</td>\n",
       "      <td>10</td>\n",
       "    </tr>\n",
       "    <tr>\n",
       "      <th>29</th>\n",
       "      <td>iuiseverywhere</td>\n",
       "      <td>9</td>\n",
       "    </tr>\n",
       "    <tr>\n",
       "      <th>40</th>\n",
       "      <td>drone</td>\n",
       "      <td>9</td>\n",
       "    </tr>\n",
       "    <tr>\n",
       "      <th>133</th>\n",
       "      <td>iuhoosier</td>\n",
       "      <td>6</td>\n",
       "    </tr>\n",
       "    <tr>\n",
       "      <th>230</th>\n",
       "      <td>b1gvotes</td>\n",
       "      <td>6</td>\n",
       "    </tr>\n",
       "    <tr>\n",
       "      <th>106</th>\n",
       "      <td>little5</td>\n",
       "      <td>6</td>\n",
       "    </tr>\n",
       "    <tr>\n",
       "      <th>82</th>\n",
       "      <td>iubgrad19</td>\n",
       "      <td>6</td>\n",
       "    </tr>\n",
       "    <tr>\n",
       "      <th>229</th>\n",
       "      <td>iuvotes</td>\n",
       "      <td>6</td>\n",
       "    </tr>\n",
       "    <tr>\n",
       "      <th>210</th>\n",
       "      <td>repost</td>\n",
       "      <td>6</td>\n",
       "    </tr>\n",
       "    <tr>\n",
       "      <th>12</th>\n",
       "      <td>iubb</td>\n",
       "      <td>6</td>\n",
       "    </tr>\n",
       "    <tr>\n",
       "      <th>10</th>\n",
       "      <td>iumovein</td>\n",
       "      <td>5</td>\n",
       "    </tr>\n",
       "    <tr>\n",
       "      <th>125</th>\n",
       "      <td>springbreakiu</td>\n",
       "      <td>5</td>\n",
       "    </tr>\n",
       "    <tr>\n",
       "      <th>...</th>\n",
       "      <td>...</td>\n",
       "      <td>...</td>\n",
       "    </tr>\n",
       "    <tr>\n",
       "      <th>1</th>\n",
       "      <td>dunnswoods</td>\n",
       "      <td>1</td>\n",
       "    </tr>\n",
       "    <tr>\n",
       "      <th>156</th>\n",
       "      <td>nationalloveyourpetday</td>\n",
       "      <td>1</td>\n",
       "    </tr>\n",
       "    <tr>\n",
       "      <th>134</th>\n",
       "      <td>squirrelsofiu</td>\n",
       "      <td>1</td>\n",
       "    </tr>\n",
       "    <tr>\n",
       "      <th>115</th>\n",
       "      <td>indianabasketball</td>\n",
       "      <td>1</td>\n",
       "    </tr>\n",
       "    <tr>\n",
       "      <th>116</th>\n",
       "      <td>indianasunset</td>\n",
       "      <td>1</td>\n",
       "    </tr>\n",
       "    <tr>\n",
       "      <th>121</th>\n",
       "      <td>archeology</td>\n",
       "      <td>1</td>\n",
       "    </tr>\n",
       "    <tr>\n",
       "      <th>122</th>\n",
       "      <td>anthropology</td>\n",
       "      <td>1</td>\n",
       "    </tr>\n",
       "    <tr>\n",
       "      <th>123</th>\n",
       "      <td>science</td>\n",
       "      <td>1</td>\n",
       "    </tr>\n",
       "    <tr>\n",
       "      <th>124</th>\n",
       "      <td>nationalpuppyday</td>\n",
       "      <td>1</td>\n",
       "    </tr>\n",
       "    <tr>\n",
       "      <th>126</th>\n",
       "      <td>raisetheflag</td>\n",
       "      <td>1</td>\n",
       "    </tr>\n",
       "    <tr>\n",
       "      <th>128</th>\n",
       "      <td>stpatricksday</td>\n",
       "      <td>1</td>\n",
       "    </tr>\n",
       "    <tr>\n",
       "      <th>129</th>\n",
       "      <td>rainbow</td>\n",
       "      <td>1</td>\n",
       "    </tr>\n",
       "    <tr>\n",
       "      <th>130</th>\n",
       "      <td>niagarafalls</td>\n",
       "      <td>1</td>\n",
       "    </tr>\n",
       "    <tr>\n",
       "      <th>131</th>\n",
       "      <td>iubaseball</td>\n",
       "      <td>1</td>\n",
       "    </tr>\n",
       "    <tr>\n",
       "      <th>132</th>\n",
       "      <td>kite</td>\n",
       "      <td>1</td>\n",
       "    </tr>\n",
       "    <tr>\n",
       "      <th>135</th>\n",
       "      <td>daylightsavingtime</td>\n",
       "      <td>1</td>\n",
       "    </tr>\n",
       "    <tr>\n",
       "      <th>154</th>\n",
       "      <td>timelapse</td>\n",
       "      <td>1</td>\n",
       "    </tr>\n",
       "    <tr>\n",
       "      <th>136</th>\n",
       "      <td>dst</td>\n",
       "      <td>1</td>\n",
       "    </tr>\n",
       "    <tr>\n",
       "      <th>138</th>\n",
       "      <td>iubabies</td>\n",
       "      <td>1</td>\n",
       "    </tr>\n",
       "    <tr>\n",
       "      <th>139</th>\n",
       "      <td>internationalwomensday</td>\n",
       "      <td>1</td>\n",
       "    </tr>\n",
       "    <tr>\n",
       "      <th>140</th>\n",
       "      <td>herstory</td>\n",
       "      <td>1</td>\n",
       "    </tr>\n",
       "    <tr>\n",
       "      <th>141</th>\n",
       "      <td>womenshistorymonth</td>\n",
       "      <td>1</td>\n",
       "    </tr>\n",
       "    <tr>\n",
       "      <th>144</th>\n",
       "      <td>mardigras</td>\n",
       "      <td>1</td>\n",
       "    </tr>\n",
       "    <tr>\n",
       "      <th>145</th>\n",
       "      <td>fattuesday</td>\n",
       "      <td>1</td>\n",
       "    </tr>\n",
       "    <tr>\n",
       "      <th>146</th>\n",
       "      <td>midwest</td>\n",
       "      <td>1</td>\n",
       "    </tr>\n",
       "    <tr>\n",
       "      <th>148</th>\n",
       "      <td>iudogs</td>\n",
       "      <td>1</td>\n",
       "    </tr>\n",
       "    <tr>\n",
       "      <th>149</th>\n",
       "      <td>doggo</td>\n",
       "      <td>1</td>\n",
       "    </tr>\n",
       "    <tr>\n",
       "      <th>150</th>\n",
       "      <td>furryfriday</td>\n",
       "      <td>1</td>\n",
       "    </tr>\n",
       "    <tr>\n",
       "      <th>151</th>\n",
       "      <td>breakfast</td>\n",
       "      <td>1</td>\n",
       "    </tr>\n",
       "    <tr>\n",
       "      <th>314</th>\n",
       "      <td>flowers</td>\n",
       "      <td>1</td>\n",
       "    </tr>\n",
       "  </tbody>\n",
       "</table>\n",
       "<p>315 rows × 2 columns</p>\n",
       "</div>"
      ],
      "text/plain": [
       "                              tag  count\n",
       "0               indianauniversity    318\n",
       "2                   iubloomington    300\n",
       "4                        hoosiers    164\n",
       "6                         indiana     96\n",
       "24                    bloomington     68\n",
       "78                             iu     48\n",
       "53                       iuishome     48\n",
       "50                  hoosiernation     39\n",
       "13                    samplegates     38\n",
       "5                            goiu     32\n",
       "92   indianauniversitybloomington     28\n",
       "35               onedayonehoosier     21\n",
       "57                        hoosier     21\n",
       "7                      iuhoosiers     15\n",
       "152                    university     14\n",
       "217                          fall     12\n",
       "142                 gloryofcoldiu     11\n",
       "100                     little500     10\n",
       "172                           iub     10\n",
       "29                 iuiseverywhere      9\n",
       "40                          drone      9\n",
       "133                     iuhoosier      6\n",
       "230                      b1gvotes      6\n",
       "106                       little5      6\n",
       "82                      iubgrad19      6\n",
       "229                       iuvotes      6\n",
       "210                        repost      6\n",
       "12                           iubb      6\n",
       "10                       iumovein      5\n",
       "125                 springbreakiu      5\n",
       "..                            ...    ...\n",
       "1                      dunnswoods      1\n",
       "156        nationalloveyourpetday      1\n",
       "134                 squirrelsofiu      1\n",
       "115             indianabasketball      1\n",
       "116                 indianasunset      1\n",
       "121                    archeology      1\n",
       "122                  anthropology      1\n",
       "123                       science      1\n",
       "124              nationalpuppyday      1\n",
       "126                  raisetheflag      1\n",
       "128                 stpatricksday      1\n",
       "129                       rainbow      1\n",
       "130                  niagarafalls      1\n",
       "131                    iubaseball      1\n",
       "132                          kite      1\n",
       "135            daylightsavingtime      1\n",
       "154                     timelapse      1\n",
       "136                           dst      1\n",
       "138                      iubabies      1\n",
       "139        internationalwomensday      1\n",
       "140                      herstory      1\n",
       "141            womenshistorymonth      1\n",
       "144                     mardigras      1\n",
       "145                    fattuesday      1\n",
       "146                       midwest      1\n",
       "148                        iudogs      1\n",
       "149                         doggo      1\n",
       "150                   furryfriday      1\n",
       "151                     breakfast      1\n",
       "314                       flowers      1\n",
       "\n",
       "[315 rows x 2 columns]"
      ]
     },
     "execution_count": 47,
     "metadata": {},
     "output_type": "execute_result"
    },
    {
     "name": "stdout",
     "output_type": "stream",
     "text": [
      "indianauniversity\n",
      "dunnswoods\n",
      "iubloomington\n",
      "takemehome\n",
      "hoosiers\n",
      "goiu\n",
      "indiana\n",
      "iuhoosiers\n",
      "banners\n",
      "indianaunviersity\n",
      "iumovein\n",
      "iufb\n",
      "iubb\n",
      "samplegates\n",
      "memorialhall\n",
      "hogwarts\n",
      "campuslife\n",
      "art\n",
      "o19m\n",
      "furryfriendsoffye\n",
      "fye\n",
      "hoosierpups\n",
      "nationalicecreamday\n",
      "clioawards\n",
      "bloomington\n"
     ]
    }
   ],
   "source": [
    "from collections import Counter\n",
    "hashtag_freq  = Counter(hashtags)\n",
    "hashtag_df = pd.DataFrame({\"tag\":list(hashtag_freq.keys()),\"count\": list(hashtag_freq.values())})\n",
    "hashtag_df.set_index(\"tag\")\n",
    "hashtag_df.sort_values(by=['count'],ascending=False)\n",
    "\n",
    "urls = []\n",
    "likes = []\n",
    "for idx, row in hashtag_df.iterrows():\n",
    "    tag = row[\"tag\"]\n",
    "    max_likes = 0\n",
    "    max_likes_url = \"\"\n",
    "    for idx, r in tqdm(all_posts_df.iterrows()):\n",
    "        if r['captions'] is not None:\n",
    "            hashtag = find_hashtags(r['captions'])\n",
    "            if tag in hashtag:\n",
    "                if r[\"likes\"]>max_likes:\n",
    "                    max_likes= r['likes']\n",
    "                    max_likes_url = r[\"url\"]\n",
    "    \n",
    "    urls.append(max_likes_url)\n",
    "    likes.append(max_likes)\n",
    "    \n",
    "\n",
    "            \n",
    "                \n",
    "hashtag_df['max_likes_url']= urls\n",
    "hashtag_df['max_likes']= likes"
   ]
  },
  {
   "cell_type": "code",
   "execution_count": 32,
   "metadata": {},
   "outputs": [],
   "source": [
    "import urllib.parse\n",
    "\n",
    "def parse_url(df):\n",
    "    for index, row in df.iterrows():\n",
    "        parsed = urllib.parse.urlparse(str(row['urls'])).query #<==\n",
    "        parsed = urllib.parse.parse_qs(parsed)\n",
    "        for k, v in parsed.items():\n",
    "            df.loc[index, k.strip()] = v[0].strip().lower()\n",
    "    return df"
   ]
  },
  {
   "cell_type": "code",
   "execution_count": 33,
   "metadata": {},
   "outputs": [
    {
     "data": {
      "text/html": [
       "<div>\n",
       "<style scoped>\n",
       "    .dataframe tbody tr th:only-of-type {\n",
       "        vertical-align: middle;\n",
       "    }\n",
       "\n",
       "    .dataframe tbody tr th {\n",
       "        vertical-align: top;\n",
       "    }\n",
       "\n",
       "    .dataframe thead th {\n",
       "        text-align: right;\n",
       "    }\n",
       "</style>\n",
       "<table border=\"1\" class=\"dataframe\">\n",
       "  <thead>\n",
       "    <tr style=\"text-align: right;\">\n",
       "      <th></th>\n",
       "      <th>Unnamed: 0</th>\n",
       "      <th>urls</th>\n",
       "      <th>likes</th>\n",
       "      <th>tag</th>\n",
       "      <th>_nc_ht</th>\n",
       "      <th>oh</th>\n",
       "      <th>oe</th>\n",
       "      <th>ig_cache_key</th>\n",
       "    </tr>\n",
       "  </thead>\n",
       "  <tbody>\n",
       "    <tr>\n",
       "      <th>0</th>\n",
       "      <td>0</td>\n",
       "      <td>https://scontent-ort2-1.cdninstagram.com/v/t51.2885-15/e35/s240x240/66530381_163211744842856_3012422801686194357_n.jpg?_nc_ht=scontent-ort2-1.cdninstagram.com&amp;oh=aeff09198dca839fe67f14fbb4fa44ee&amp;oe=5DDBF245&amp;ig_cache_key=MjEwNjE1OTIwNzQ1MjMwNTU4OA%3D%3D.2</td>\n",
       "      <td>0</td>\n",
       "      <td>indiana</td>\n",
       "      <td>scontent-ort2-1.cdninstagram.com</td>\n",
       "      <td>aeff09198dca839fe67f14fbb4fa44ee</td>\n",
       "      <td>5ddbf245</td>\n",
       "      <td>mjewnje1otiwnzq1mjmwntu4oa==.2</td>\n",
       "    </tr>\n",
       "    <tr>\n",
       "      <th>1</th>\n",
       "      <td>1</td>\n",
       "      <td>https://scontent-ort2-1.cdninstagram.com/v/t51.2885-15/e35/s240x240/66114976_138538480689678_3235903269161027367_n.jpg?_nc_ht=scontent-ort2-1.cdninstagram.com&amp;oh=f712454dd8c54aff8dcc55c0196dd848&amp;oe=5DCEC3BD&amp;ig_cache_key=MjEwNjE1ODYwOTY2MzM0OTkwMg%3D%3D.2</td>\n",
       "      <td>5</td>\n",
       "      <td>indiana</td>\n",
       "      <td>scontent-ort2-1.cdninstagram.com</td>\n",
       "      <td>f712454dd8c54aff8dcc55c0196dd848</td>\n",
       "      <td>5dcec3bd</td>\n",
       "      <td>mjewnje1odywoty2mzm0otkwmg==.2</td>\n",
       "    </tr>\n",
       "    <tr>\n",
       "      <th>2</th>\n",
       "      <td>2</td>\n",
       "      <td>https://scontent-ort2-1.cdninstagram.com/v/t51.2885-15/e35/s240x240/67800954_2745171882159632_2676516435775243482_n.jpg?_nc_ht=scontent-ort2-1.cdninstagram.com&amp;oh=b9bf1ce5dc9aee9d041f81f6527cf061&amp;oe=5DDB1FCC&amp;ig_cache_key=MjEwNjE1ODE2NTA2NzI4MDA5MA%3D%3D.2</td>\n",
       "      <td>0</td>\n",
       "      <td>indiana</td>\n",
       "      <td>scontent-ort2-1.cdninstagram.com</td>\n",
       "      <td>b9bf1ce5dc9aee9d041f81f6527cf061</td>\n",
       "      <td>5ddb1fcc</td>\n",
       "      <td>mjewnje1ode2nta2nzi4mda5ma==.2</td>\n",
       "    </tr>\n",
       "    <tr>\n",
       "      <th>3</th>\n",
       "      <td>3</td>\n",
       "      <td>https://scontent-ort2-1.cdninstagram.com/v/t51.2885-15/e35/s240x240/67752202_545018606237099_7556609888288103773_n.jpg?_nc_ht=scontent-ort2-1.cdninstagram.com&amp;oh=f0324972b110a2e1eb94704a72e7a908&amp;oe=5DDED7DD&amp;ig_cache_key=MjEwNjE1Nzk5MzUyODQ0NjcxNg%3D%3D.2</td>\n",
       "      <td>0</td>\n",
       "      <td>indiana</td>\n",
       "      <td>scontent-ort2-1.cdninstagram.com</td>\n",
       "      <td>f0324972b110a2e1eb94704a72e7a908</td>\n",
       "      <td>5dded7dd</td>\n",
       "      <td>mjewnje1nzk5mzuyodq0njcxng==.2</td>\n",
       "    </tr>\n",
       "    <tr>\n",
       "      <th>4</th>\n",
       "      <td>4</td>\n",
       "      <td>https://scontent-ort2-1.cdninstagram.com/v/t51.2885-15/e35/s240x240/66503303_2299677823695147_6865556520673931784_n.jpg?_nc_ht=scontent-ort2-1.cdninstagram.com&amp;oh=4048bf684619c612b3a2332e04b71baf&amp;oe=5DED3629&amp;ig_cache_key=MjEwNjE1NzY1MTQzOTIyOTY4OQ%3D%3D.2</td>\n",
       "      <td>15</td>\n",
       "      <td>indiana</td>\n",
       "      <td>scontent-ort2-1.cdninstagram.com</td>\n",
       "      <td>4048bf684619c612b3a2332e04b71baf</td>\n",
       "      <td>5ded3629</td>\n",
       "      <td>mjewnje1nzy1mtqzotiyoty4oq==.2</td>\n",
       "    </tr>\n",
       "    <tr>\n",
       "      <th>5</th>\n",
       "      <td>5</td>\n",
       "      <td>https://scontent-ort2-1.cdninstagram.com/v/t51.2885-15/e35/s240x240/66700133_418332532369294_104511529474130727_n.jpg?_nc_ht=scontent-ort2-1.cdninstagram.com&amp;oh=1c8e67b0965d6ff6aeab9d127cc90921&amp;oe=5D4F3A51</td>\n",
       "      <td>1</td>\n",
       "      <td>indiana</td>\n",
       "      <td>scontent-ort2-1.cdninstagram.com</td>\n",
       "      <td>1c8e67b0965d6ff6aeab9d127cc90921</td>\n",
       "      <td>5d4f3a51</td>\n",
       "      <td>NaN</td>\n",
       "    </tr>\n",
       "    <tr>\n",
       "      <th>6</th>\n",
       "      <td>6</td>\n",
       "      <td>https://scontent-ort2-1.cdninstagram.com/v/t51.2885-15/e35/s240x240/67053385_348130719441047_3783910026309985028_n.jpg?_nc_ht=scontent-ort2-1.cdninstagram.com&amp;oh=e65fa1bba768f5f30dc37f097c15acd4&amp;oe=5DD4D172&amp;ig_cache_key=MjEwNjE1NzI1OTg3NzU0ODgyMQ%3D%3D.2</td>\n",
       "      <td>0</td>\n",
       "      <td>indiana</td>\n",
       "      <td>scontent-ort2-1.cdninstagram.com</td>\n",
       "      <td>e65fa1bba768f5f30dc37f097c15acd4</td>\n",
       "      <td>5dd4d172</td>\n",
       "      <td>mjewnje1nzi1otg3nzu0odgymq==.2</td>\n",
       "    </tr>\n",
       "    <tr>\n",
       "      <th>7</th>\n",
       "      <td>7</td>\n",
       "      <td>https://scontent-ort2-1.cdninstagram.com/v/t51.2885-15/e15/s240x240/66108567_156749585476020_4868944971988078252_n.jpg?_nc_ht=scontent-ort2-1.cdninstagram.com&amp;oh=acd6674471cb3b57a0209baf05ea24dc&amp;oe=5DDADA97&amp;ig_cache_key=MjEwNjE1NzAxNzU3MTA4NzEyMw%3D%3D.2</td>\n",
       "      <td>1</td>\n",
       "      <td>indiana</td>\n",
       "      <td>scontent-ort2-1.cdninstagram.com</td>\n",
       "      <td>acd6674471cb3b57a0209baf05ea24dc</td>\n",
       "      <td>5ddada97</td>\n",
       "      <td>mjewnje1nzaxnzu3mta4nzeymw==.2</td>\n",
       "    </tr>\n",
       "    <tr>\n",
       "      <th>8</th>\n",
       "      <td>8</td>\n",
       "      <td>https://scontent-ort2-1.cdninstagram.com/v/t51.2885-15/e35/s240x240/67293158_520503235165506_2544531947063240294_n.jpg?_nc_ht=scontent-ort2-1.cdninstagram.com&amp;oh=6c3dd3749a2b3b9dac6638017d6d8bd7&amp;oe=5D4F2019</td>\n",
       "      <td>2</td>\n",
       "      <td>indiana</td>\n",
       "      <td>scontent-ort2-1.cdninstagram.com</td>\n",
       "      <td>6c3dd3749a2b3b9dac6638017d6d8bd7</td>\n",
       "      <td>5d4f2019</td>\n",
       "      <td>NaN</td>\n",
       "    </tr>\n",
       "    <tr>\n",
       "      <th>9</th>\n",
       "      <td>9</td>\n",
       "      <td>https://scontent-ort2-1.cdninstagram.com/v/t51.2885-15/e35/s240x240/66066889_224617408502078_8357082182313644484_n.jpg?_nc_ht=scontent-ort2-1.cdninstagram.com&amp;oh=bc6d8147784d4b7e7b011a5f51b385c8&amp;oe=5D4EC810</td>\n",
       "      <td>2</td>\n",
       "      <td>indiana</td>\n",
       "      <td>scontent-ort2-1.cdninstagram.com</td>\n",
       "      <td>bc6d8147784d4b7e7b011a5f51b385c8</td>\n",
       "      <td>5d4ec810</td>\n",
       "      <td>NaN</td>\n",
       "    </tr>\n",
       "    <tr>\n",
       "      <th>10</th>\n",
       "      <td>10</td>\n",
       "      <td>https://scontent-ort2-1.cdninstagram.com/v/t51.2885-15/e35/p240x240/67747840_708082489636355_7807609927353628311_n.jpg?_nc_ht=scontent-ort2-1.cdninstagram.com&amp;oh=2b3300c5b1608a6216f0d84d739c139b&amp;oe=5DCEE1FF&amp;ig_cache_key=MjEwNjE1NTI3NjI4MTE2Njc2NA%3D%3D.2</td>\n",
       "      <td>0</td>\n",
       "      <td>indiana</td>\n",
       "      <td>scontent-ort2-1.cdninstagram.com</td>\n",
       "      <td>2b3300c5b1608a6216f0d84d739c139b</td>\n",
       "      <td>5dcee1ff</td>\n",
       "      <td>mjewnje1nti3nji4mte2njc2na==.2</td>\n",
       "    </tr>\n",
       "    <tr>\n",
       "      <th>11</th>\n",
       "      <td>11</td>\n",
       "      <td>https://scontent-ort2-1.cdninstagram.com/v/t51.2885-15/e35/s240x240/67503598_1164755337051677_873537146425527349_n.jpg?_nc_ht=scontent-ort2-1.cdninstagram.com&amp;oh=f6061924df50ebf8849c2ced92ef1885&amp;oe=5DE100F8&amp;ig_cache_key=MjEwNjE1NTIzMTg4MTYzMjU0OQ%3D%3D.2</td>\n",
       "      <td>9</td>\n",
       "      <td>indiana</td>\n",
       "      <td>scontent-ort2-1.cdninstagram.com</td>\n",
       "      <td>f6061924df50ebf8849c2ced92ef1885</td>\n",
       "      <td>5de100f8</td>\n",
       "      <td>mjewnje1ntizmtg4mtyzmju0oq==.2</td>\n",
       "    </tr>\n",
       "    <tr>\n",
       "      <th>12</th>\n",
       "      <td>12</td>\n",
       "      <td>https://scontent-ort2-1.cdninstagram.com/v/t51.2885-15/e35/s240x240/68959725_123341218956681_7392319404321731262_n.jpg?_nc_ht=scontent-ort2-1.cdninstagram.com&amp;oh=8705304551d07b30dd5e663eaf11ac8a&amp;oe=5DDE136C&amp;ig_cache_key=MjEwNjE1NDg5ODcxMDg4NDEzOQ%3D%3D.2</td>\n",
       "      <td>1</td>\n",
       "      <td>indiana</td>\n",
       "      <td>scontent-ort2-1.cdninstagram.com</td>\n",
       "      <td>8705304551d07b30dd5e663eaf11ac8a</td>\n",
       "      <td>5dde136c</td>\n",
       "      <td>mjewnje1ndg5odcxmdg4ndezoq==.2</td>\n",
       "    </tr>\n",
       "    <tr>\n",
       "      <th>13</th>\n",
       "      <td>13</td>\n",
       "      <td>https://scontent-ort2-1.cdninstagram.com/v/t51.2885-15/e35/s240x240/67643535_341112773479434_348049656878162959_n.jpg?_nc_ht=scontent-ort2-1.cdninstagram.com&amp;oh=6aa962a8dba3469c187a178a2a15409f&amp;oe=5DE020D0&amp;ig_cache_key=MjEwNjE1Mzg0MTU4NTk2MzUyMw%3D%3D.2</td>\n",
       "      <td>0</td>\n",
       "      <td>indiana</td>\n",
       "      <td>scontent-ort2-1.cdninstagram.com</td>\n",
       "      <td>6aa962a8dba3469c187a178a2a15409f</td>\n",
       "      <td>5de020d0</td>\n",
       "      <td>mjewnje1mzg0mtu4ntk2mzuymw==.2</td>\n",
       "    </tr>\n",
       "    <tr>\n",
       "      <th>14</th>\n",
       "      <td>14</td>\n",
       "      <td>https://scontent-ort2-1.cdninstagram.com/v/t51.2885-15/e35/s240x240/66449536_218190979161992_6922618264037617023_n.jpg?_nc_ht=scontent-ort2-1.cdninstagram.com&amp;oh=810fce8e36ba492dd64f095433755eb4&amp;oe=5DCA31F2&amp;ig_cache_key=MjEwNjE1MzU4ODQ3NjAyMzEyMg%3D%3D.2</td>\n",
       "      <td>2</td>\n",
       "      <td>indiana</td>\n",
       "      <td>scontent-ort2-1.cdninstagram.com</td>\n",
       "      <td>810fce8e36ba492dd64f095433755eb4</td>\n",
       "      <td>5dca31f2</td>\n",
       "      <td>mjewnje1mzu4odq3njaymzeymg==.2</td>\n",
       "    </tr>\n",
       "    <tr>\n",
       "      <th>15</th>\n",
       "      <td>15</td>\n",
       "      <td>https://scontent-ort2-1.cdninstagram.com/v/t51.2885-15/e35/s240x240/66471826_332248824321598_5773090292272067451_n.jpg?_nc_ht=scontent-ort2-1.cdninstagram.com&amp;oh=cd7480f5c8b3a7c45ba0bf31fdca92ed&amp;oe=5DDB78CB&amp;ig_cache_key=MjEwNjE1MzU1NzMwMzU2NjYzNA%3D%3D.2</td>\n",
       "      <td>1</td>\n",
       "      <td>indiana</td>\n",
       "      <td>scontent-ort2-1.cdninstagram.com</td>\n",
       "      <td>cd7480f5c8b3a7c45ba0bf31fdca92ed</td>\n",
       "      <td>5ddb78cb</td>\n",
       "      <td>mjewnje1mzu1nzmwmzu2njyzna==.2</td>\n",
       "    </tr>\n",
       "    <tr>\n",
       "      <th>16</th>\n",
       "      <td>16</td>\n",
       "      <td>https://scontent-ort2-1.cdninstagram.com/v/t51.2885-15/e15/s240x240/66485827_2418033648520113_6306038722423799751_n.jpg?_nc_ht=scontent-ort2-1.cdninstagram.com&amp;oh=6198a2350aa5214bbad6bf3c8c5599de&amp;oe=5DEAE1F7&amp;ig_cache_key=MjEwNjE1MzU0MDg3MjY5MDIxMw%3D%3D.2</td>\n",
       "      <td>0</td>\n",
       "      <td>indiana</td>\n",
       "      <td>scontent-ort2-1.cdninstagram.com</td>\n",
       "      <td>6198a2350aa5214bbad6bf3c8c5599de</td>\n",
       "      <td>5deae1f7</td>\n",
       "      <td>mjewnje1mzu0mdg3mjy5mdixmw==.2</td>\n",
       "    </tr>\n",
       "    <tr>\n",
       "      <th>17</th>\n",
       "      <td>17</td>\n",
       "      <td>https://scontent-ort2-1.cdninstagram.com/v/t51.2885-15/e15/s240x240/64789839_121336099175831_6812061285334820436_n.jpg?_nc_ht=scontent-ort2-1.cdninstagram.com&amp;oh=5dc8966946b9e7754fa65d8b8b8c425a&amp;oe=5DC8B2C1&amp;ig_cache_key=MjEwNjE1MzU0MzkxNzY4NzI2NQ%3D%3D.2</td>\n",
       "      <td>0</td>\n",
       "      <td>indiana</td>\n",
       "      <td>scontent-ort2-1.cdninstagram.com</td>\n",
       "      <td>5dc8966946b9e7754fa65d8b8b8c425a</td>\n",
       "      <td>5dc8b2c1</td>\n",
       "      <td>mjewnje1mzu0mzkxnzy4nzi2nq==.2</td>\n",
       "    </tr>\n",
       "    <tr>\n",
       "      <th>18</th>\n",
       "      <td>18</td>\n",
       "      <td>https://scontent-ort2-1.cdninstagram.com/v/t51.2885-15/e35/s240x240/66787745_761268837621481_7721536539670097259_n.jpg?_nc_ht=scontent-ort2-1.cdninstagram.com&amp;oh=542510681bfb5c10a4c91574cb689f0b&amp;oe=5DEBCC8E&amp;ig_cache_key=MjEwNjE1MzQ4ODg4NjA3NTkwNg%3D%3D.2</td>\n",
       "      <td>6</td>\n",
       "      <td>indiana</td>\n",
       "      <td>scontent-ort2-1.cdninstagram.com</td>\n",
       "      <td>542510681bfb5c10a4c91574cb689f0b</td>\n",
       "      <td>5debcc8e</td>\n",
       "      <td>mjewnje1mzq4odg4nja3ntkwng==.2</td>\n",
       "    </tr>\n",
       "    <tr>\n",
       "      <th>19</th>\n",
       "      <td>19</td>\n",
       "      <td>https://scontent-ort2-1.cdninstagram.com/v/t51.2885-15/e35/s240x240/65971781_138522227358248_728962126543251156_n.jpg?_nc_ht=scontent-ort2-1.cdninstagram.com&amp;oh=c5e91fcd33eefd586f0ce353b05c00ff&amp;oe=5D4F31FE</td>\n",
       "      <td>3</td>\n",
       "      <td>indiana</td>\n",
       "      <td>scontent-ort2-1.cdninstagram.com</td>\n",
       "      <td>c5e91fcd33eefd586f0ce353b05c00ff</td>\n",
       "      <td>5d4f31fe</td>\n",
       "      <td>NaN</td>\n",
       "    </tr>\n",
       "    <tr>\n",
       "      <th>20</th>\n",
       "      <td>20</td>\n",
       "      <td>https://scontent-ort2-1.cdninstagram.com/v/t51.2885-15/e35/p240x240/67802630_450037015843011_6034637232269155004_n.jpg?_nc_ht=scontent-ort2-1.cdninstagram.com&amp;oh=089622df7e5d1b2e67eb46837f8a4700&amp;oe=5DCFAAA9&amp;ig_cache_key=MjEwNjE1MjE5NjMxMDU4MzYyOQ%3D%3D.2</td>\n",
       "      <td>26</td>\n",
       "      <td>indiana</td>\n",
       "      <td>scontent-ort2-1.cdninstagram.com</td>\n",
       "      <td>089622df7e5d1b2e67eb46837f8a4700</td>\n",
       "      <td>5dcfaaa9</td>\n",
       "      <td>mjewnje1mje5njmxmdu4mzyyoq==.2</td>\n",
       "    </tr>\n",
       "    <tr>\n",
       "      <th>21</th>\n",
       "      <td>21</td>\n",
       "      <td>https://scontent-ort2-1.cdninstagram.com/v/t51.2885-15/e35/s240x240/67064656_475804739868124_9166180636406665971_n.jpg?_nc_ht=scontent-ort2-1.cdninstagram.com&amp;oh=3e0d1e957d77cd6dfa4e6ca456e38e6a&amp;oe=5D4F35C2</td>\n",
       "      <td>3</td>\n",
       "      <td>indiana</td>\n",
       "      <td>scontent-ort2-1.cdninstagram.com</td>\n",
       "      <td>3e0d1e957d77cd6dfa4e6ca456e38e6a</td>\n",
       "      <td>5d4f35c2</td>\n",
       "      <td>NaN</td>\n",
       "    </tr>\n",
       "    <tr>\n",
       "      <th>22</th>\n",
       "      <td>22</td>\n",
       "      <td>https://scontent-ort2-1.cdninstagram.com/v/t51.2885-15/e35/s240x240/67202225_154867102328241_151437585563384096_n.jpg?_nc_ht=scontent-ort2-1.cdninstagram.com&amp;oh=88cd1456cc523b84c80cb4cea5b277b4&amp;oe=5DD8689C&amp;ig_cache_key=MjEwNjE1MTgyNTEwODY2ODYwMQ%3D%3D.2</td>\n",
       "      <td>3</td>\n",
       "      <td>indiana</td>\n",
       "      <td>scontent-ort2-1.cdninstagram.com</td>\n",
       "      <td>88cd1456cc523b84c80cb4cea5b277b4</td>\n",
       "      <td>5dd8689c</td>\n",
       "      <td>mjewnje1mtgyntewody2odywmq==.2</td>\n",
       "    </tr>\n",
       "    <tr>\n",
       "      <th>23</th>\n",
       "      <td>23</td>\n",
       "      <td>https://scontent-ort2-1.cdninstagram.com/v/t51.2885-15/e35/s240x240/66623513_758700897879987_8527990800876813760_n.jpg?_nc_ht=scontent-ort2-1.cdninstagram.com&amp;oh=8a3e91aa1e589d850d649d2821a29665&amp;oe=5DEC089F&amp;ig_cache_key=MjEwNjE1MTY4MjA5NzYxMDM0NA%3D%3D.2</td>\n",
       "      <td>3</td>\n",
       "      <td>indiana</td>\n",
       "      <td>scontent-ort2-1.cdninstagram.com</td>\n",
       "      <td>8a3e91aa1e589d850d649d2821a29665</td>\n",
       "      <td>5dec089f</td>\n",
       "      <td>mjewnje1mty4mja5nzyxmdm0na==.2</td>\n",
       "    </tr>\n",
       "    <tr>\n",
       "      <th>24</th>\n",
       "      <td>24</td>\n",
       "      <td>https://scontent-ort2-1.cdninstagram.com/v/t51.2885-15/e35/s240x240/67099196_425293044999080_5488731853696564610_n.jpg?_nc_ht=scontent-ort2-1.cdninstagram.com&amp;oh=b1e9c61f6e912e135c7add42f25bcdd8&amp;oe=5DDCC6BF&amp;ig_cache_key=MjEwNjE1MTY1ODY2MDkxMDAyNw%3D%3D.2</td>\n",
       "      <td>4</td>\n",
       "      <td>indiana</td>\n",
       "      <td>scontent-ort2-1.cdninstagram.com</td>\n",
       "      <td>b1e9c61f6e912e135c7add42f25bcdd8</td>\n",
       "      <td>5ddcc6bf</td>\n",
       "      <td>mjewnje1mty1ody2mdkxmdaynw==.2</td>\n",
       "    </tr>\n",
       "    <tr>\n",
       "      <th>25</th>\n",
       "      <td>25</td>\n",
       "      <td>https://scontent-ort2-1.cdninstagram.com/v/t51.2885-15/e35/s240x240/67628731_2415773655149003_7786728197574351261_n.jpg?_nc_ht=scontent-ort2-1.cdninstagram.com&amp;oh=d5909f96001c0577cedc5793bf673913&amp;oe=5DE258DD&amp;ig_cache_key=MjEwNjE1MTEzOTYwNzg0NTQyMw%3D%3D.2</td>\n",
       "      <td>3</td>\n",
       "      <td>indiana</td>\n",
       "      <td>scontent-ort2-1.cdninstagram.com</td>\n",
       "      <td>d5909f96001c0577cedc5793bf673913</td>\n",
       "      <td>5de258dd</td>\n",
       "      <td>mjewnje1mtezotywnzg0ntqymw==.2</td>\n",
       "    </tr>\n",
       "    <tr>\n",
       "      <th>26</th>\n",
       "      <td>26</td>\n",
       "      <td>https://scontent-ort2-1.cdninstagram.com/v/t51.2885-15/e35/s240x240/67934537_2720738097938227_7303517178339859019_n.jpg?_nc_ht=scontent-ort2-1.cdninstagram.com&amp;oh=8783a64037fed5198c0580c7e3711309&amp;oe=5DC8D4E1&amp;ig_cache_key=MjEwNjE1MDk2Nzg3NDY3MzY1NQ%3D%3D.2</td>\n",
       "      <td>3</td>\n",
       "      <td>indiana</td>\n",
       "      <td>scontent-ort2-1.cdninstagram.com</td>\n",
       "      <td>8783a64037fed5198c0580c7e3711309</td>\n",
       "      <td>5dc8d4e1</td>\n",
       "      <td>mjewnje1mdk2nzg3ndy3mzy1nq==.2</td>\n",
       "    </tr>\n",
       "    <tr>\n",
       "      <th>27</th>\n",
       "      <td>27</td>\n",
       "      <td>https://scontent-ort2-1.cdninstagram.com/v/t51.2885-15/e35/s240x240/66703561_2334854556832788_3469940993712887139_n.jpg?_nc_ht=scontent-ort2-1.cdninstagram.com&amp;oh=56297be5478cfe4ccebd698648a18a78&amp;oe=5DE17C63&amp;ig_cache_key=MjEwNjE1MDU5MDMwMzQ0MTc3Mw%3D%3D.2</td>\n",
       "      <td>2</td>\n",
       "      <td>indiana</td>\n",
       "      <td>scontent-ort2-1.cdninstagram.com</td>\n",
       "      <td>56297be5478cfe4ccebd698648a18a78</td>\n",
       "      <td>5de17c63</td>\n",
       "      <td>mjewnje1mdu5mdmwmzq0mtc3mw==.2</td>\n",
       "    </tr>\n",
       "    <tr>\n",
       "      <th>28</th>\n",
       "      <td>28</td>\n",
       "      <td>https://scontent-ort2-1.cdninstagram.com/v/t51.2885-15/e35/p240x240/67309611_435918500378557_2946403872291961042_n.jpg?_nc_ht=scontent-ort2-1.cdninstagram.com&amp;oh=56c88c5a8fde67f0c6b4c90de94796a8&amp;oe=5DD4D3CF&amp;ig_cache_key=MjEwNjE1MDU1ODQ3MDQ1MTc3Mw%3D%3D.2</td>\n",
       "      <td>5</td>\n",
       "      <td>indiana</td>\n",
       "      <td>scontent-ort2-1.cdninstagram.com</td>\n",
       "      <td>56c88c5a8fde67f0c6b4c90de94796a8</td>\n",
       "      <td>5dd4d3cf</td>\n",
       "      <td>mjewnje1mdu1odq3mdq1mtc3mw==.2</td>\n",
       "    </tr>\n",
       "    <tr>\n",
       "      <th>29</th>\n",
       "      <td>29</td>\n",
       "      <td>https://scontent-ort2-1.cdninstagram.com/v/t51.2885-15/e35/s240x240/68732506_490343444872367_6659272787554688207_n.jpg?_nc_ht=scontent-ort2-1.cdninstagram.com&amp;oh=dec0c6cf4970ffc6d7b2d387cc940b22&amp;oe=5DE55BDB&amp;ig_cache_key=MjEwNjE1MDI4MDAzMzgzODk3Ng%3D%3D.2</td>\n",
       "      <td>2</td>\n",
       "      <td>indiana</td>\n",
       "      <td>scontent-ort2-1.cdninstagram.com</td>\n",
       "      <td>dec0c6cf4970ffc6d7b2d387cc940b22</td>\n",
       "      <td>5de55bdb</td>\n",
       "      <td>mjewnje1mdi4mdazmzgzodk3ng==.2</td>\n",
       "    </tr>\n",
       "    <tr>\n",
       "      <th>...</th>\n",
       "      <td>...</td>\n",
       "      <td>...</td>\n",
       "      <td>...</td>\n",
       "      <td>...</td>\n",
       "      <td>...</td>\n",
       "      <td>...</td>\n",
       "      <td>...</td>\n",
       "      <td>...</td>\n",
       "    </tr>\n",
       "    <tr>\n",
       "      <th>7404</th>\n",
       "      <td>7404</td>\n",
       "      <td>https://scontent-ort2-1.cdninstagram.com/v/t51.2885-15/e35/s240x240/67122450_366903657324466_7870467826786208274_n.jpg?_nc_ht=scontent-ort2-1.cdninstagram.com&amp;oh=79946c5a55de9fbacb011251b7ec4ffc&amp;oe=5DCB7E55&amp;ig_cache_key=MjEwNTk3NTAzMTA0MDUwMzE3Nw%3D%3D.2</td>\n",
       "      <td>5</td>\n",
       "      <td>disabilities</td>\n",
       "      <td>scontent-ort2-1.cdninstagram.com</td>\n",
       "      <td>79946c5a55de9fbacb011251b7ec4ffc</td>\n",
       "      <td>5dcb7e55</td>\n",
       "      <td>mjewntk3ntazmta0mduwmze3nw==.2</td>\n",
       "    </tr>\n",
       "    <tr>\n",
       "      <th>7405</th>\n",
       "      <td>7405</td>\n",
       "      <td>https://scontent-ort2-1.cdninstagram.com/v/t51.2885-15/e35/s240x240/65914568_2391244561152984_964271677750179046_n.jpg?_nc_ht=scontent-ort2-1.cdninstagram.com&amp;oh=7a549d8391e1c503778274f982a63d36&amp;oe=5DD335DE&amp;ig_cache_key=MjEwNTk2ODU3ODY0MjUwODkwMg%3D%3D.2</td>\n",
       "      <td>49</td>\n",
       "      <td>disabilities</td>\n",
       "      <td>scontent-ort2-1.cdninstagram.com</td>\n",
       "      <td>7a549d8391e1c503778274f982a63d36</td>\n",
       "      <td>5dd335de</td>\n",
       "      <td>mjewntk2odu3ody0mjuwodkwmg==.2</td>\n",
       "    </tr>\n",
       "    <tr>\n",
       "      <th>7406</th>\n",
       "      <td>7406</td>\n",
       "      <td>https://scontent-ort2-1.cdninstagram.com/v/t51.2885-15/e35/s240x240/67502416_135075811047120_1541870542295124375_n.jpg?_nc_ht=scontent-ort2-1.cdninstagram.com&amp;oh=20fd3f9777501c8d4331972c5b452efe&amp;oe=5DD41ACA&amp;ig_cache_key=MjEwNTk2NjczOTI1NDA2NDMyNQ%3D%3D.2</td>\n",
       "      <td>5</td>\n",
       "      <td>disabilities</td>\n",
       "      <td>scontent-ort2-1.cdninstagram.com</td>\n",
       "      <td>20fd3f9777501c8d4331972c5b452efe</td>\n",
       "      <td>5dd41aca</td>\n",
       "      <td>mjewntk2njczoti1nda2ndmynq==.2</td>\n",
       "    </tr>\n",
       "    <tr>\n",
       "      <th>7407</th>\n",
       "      <td>7407</td>\n",
       "      <td>https://scontent-ort2-1.cdninstagram.com/v/t51.2885-15/e15/s240x240/67596230_2081817642127520_685147403803615059_n.jpg?_nc_ht=scontent-ort2-1.cdninstagram.com&amp;oh=e9b7052ccf1f935978b3b931e2bdc076&amp;oe=5DC7A246&amp;ig_cache_key=MjEwNTk2NjIyMTc5NDE4NzM1Nw%3D%3D.2</td>\n",
       "      <td>7</td>\n",
       "      <td>disabilities</td>\n",
       "      <td>scontent-ort2-1.cdninstagram.com</td>\n",
       "      <td>e9b7052ccf1f935978b3b931e2bdc076</td>\n",
       "      <td>5dc7a246</td>\n",
       "      <td>mjewntk2njiymtc5nde4nzm1nw==.2</td>\n",
       "    </tr>\n",
       "    <tr>\n",
       "      <th>7408</th>\n",
       "      <td>7408</td>\n",
       "      <td>https://scontent-ort2-1.cdninstagram.com/v/t51.2885-15/e35/s240x240/67914233_127196185217052_3087764058168821321_n.jpg?_nc_ht=scontent-ort2-1.cdninstagram.com&amp;oh=f187e53567114bd22314cac941828110&amp;oe=5DD3FDA8&amp;ig_cache_key=MjEwNTk2MDIwNjQ0OTExMDU4OA%3D%3D.2</td>\n",
       "      <td>7</td>\n",
       "      <td>disabilities</td>\n",
       "      <td>scontent-ort2-1.cdninstagram.com</td>\n",
       "      <td>f187e53567114bd22314cac941828110</td>\n",
       "      <td>5dd3fda8</td>\n",
       "      <td>mjewntk2mdiwnjq0otexmdu4oa==.2</td>\n",
       "    </tr>\n",
       "    <tr>\n",
       "      <th>7409</th>\n",
       "      <td>7409</td>\n",
       "      <td>https://scontent-ort2-1.cdninstagram.com/v/t51.2885-15/e35/s240x240/67893713_458624544918651_6594892589283506046_n.jpg?_nc_ht=scontent-ort2-1.cdninstagram.com&amp;oh=24c9f3b73d8bbc3323cce841a7b426a6&amp;oe=5DDD0770&amp;ig_cache_key=MjEwNTk1Nzc0NTEwNzUwNTQyMA%3D%3D.2</td>\n",
       "      <td>11</td>\n",
       "      <td>disabilities</td>\n",
       "      <td>scontent-ort2-1.cdninstagram.com</td>\n",
       "      <td>24c9f3b73d8bbc3323cce841a7b426a6</td>\n",
       "      <td>5ddd0770</td>\n",
       "      <td>mjewntk1nzc0ntewnzuwntqyma==.2</td>\n",
       "    </tr>\n",
       "    <tr>\n",
       "      <th>7410</th>\n",
       "      <td>7410</td>\n",
       "      <td>https://scontent-ort2-1.cdninstagram.com/v/t51.2885-15/e35/s240x240/66619937_474484173341018_2102364215054129540_n.jpg?_nc_ht=scontent-ort2-1.cdninstagram.com&amp;oh=519c5f57f352d19d32dc8725723fb96b&amp;oe=5DD81E53&amp;ig_cache_key=MjEwNTk0Njc1OTYyMTI2NTUwMQ%3D%3D.2</td>\n",
       "      <td>51</td>\n",
       "      <td>disabilities</td>\n",
       "      <td>scontent-ort2-1.cdninstagram.com</td>\n",
       "      <td>519c5f57f352d19d32dc8725723fb96b</td>\n",
       "      <td>5dd81e53</td>\n",
       "      <td>mjewntk0njc1otyymti2ntuwmq==.2</td>\n",
       "    </tr>\n",
       "    <tr>\n",
       "      <th>7411</th>\n",
       "      <td>7411</td>\n",
       "      <td>https://scontent-ort2-1.cdninstagram.com/v/t51.2885-15/e35/p240x240/66860217_379596346071630_1857327579470549969_n.jpg?_nc_ht=scontent-ort2-1.cdninstagram.com&amp;oh=9f790bdaea058dbea749972f56b1dc6d&amp;oe=5DCA0C4F&amp;ig_cache_key=MjEwNTk0MTg1ODk1Mjc4MDEwNw%3D%3D.2</td>\n",
       "      <td>28</td>\n",
       "      <td>disabilities</td>\n",
       "      <td>scontent-ort2-1.cdninstagram.com</td>\n",
       "      <td>9f790bdaea058dbea749972f56b1dc6d</td>\n",
       "      <td>5dca0c4f</td>\n",
       "      <td>mjewntk0mtg1odk1mjc4mdewnw==.2</td>\n",
       "    </tr>\n",
       "    <tr>\n",
       "      <th>7412</th>\n",
       "      <td>7412</td>\n",
       "      <td>https://scontent-ort2-1.cdninstagram.com/v/t51.2885-15/e35/s240x240/67402969_128298465105816_948988945554019581_n.jpg?_nc_ht=scontent-ort2-1.cdninstagram.com&amp;oh=48977800e6ce2e5de0cbf5105e1ede2e&amp;oe=5DE0EA67&amp;ig_cache_key=MjEwNTkzOTkzNzE0ODA5MTQ2Nw%3D%3D.2</td>\n",
       "      <td>23</td>\n",
       "      <td>disabilities</td>\n",
       "      <td>scontent-ort2-1.cdninstagram.com</td>\n",
       "      <td>48977800e6ce2e5de0cbf5105e1ede2e</td>\n",
       "      <td>5de0ea67</td>\n",
       "      <td>mjewntkzotkznze0oda5mtq2nw==.2</td>\n",
       "    </tr>\n",
       "    <tr>\n",
       "      <th>7413</th>\n",
       "      <td>7413</td>\n",
       "      <td>https://scontent-ort2-1.cdninstagram.com/v/t51.2885-15/e35/s240x240/66398777_138398917378309_2974222846265140328_n.jpg?_nc_ht=scontent-ort2-1.cdninstagram.com&amp;oh=7070b401420ca94dc749029b156001cc&amp;oe=5DD649F1&amp;ig_cache_key=MjEwNTkyNDkyMDA5Njk5NTMwMw%3D%3D.2</td>\n",
       "      <td>24</td>\n",
       "      <td>disabilities</td>\n",
       "      <td>scontent-ort2-1.cdninstagram.com</td>\n",
       "      <td>7070b401420ca94dc749029b156001cc</td>\n",
       "      <td>5dd649f1</td>\n",
       "      <td>mjewntkyndkymda5njk5ntmwmw==.2</td>\n",
       "    </tr>\n",
       "    <tr>\n",
       "      <th>7414</th>\n",
       "      <td>7414</td>\n",
       "      <td>https://scontent-ort2-1.cdninstagram.com/v/t51.2885-15/e35/s240x240/66503664_411567162795897_717163278754280147_n.jpg?_nc_ht=scontent-ort2-1.cdninstagram.com&amp;oh=a65a42405512d8b1bf4eeeeef2015edc&amp;oe=5DEC2C28&amp;ig_cache_key=MjEwNTkyNDMzNDgxNjU1NzMxMQ%3D%3D.2</td>\n",
       "      <td>1</td>\n",
       "      <td>disabilities</td>\n",
       "      <td>scontent-ort2-1.cdninstagram.com</td>\n",
       "      <td>a65a42405512d8b1bf4eeeeef2015edc</td>\n",
       "      <td>5dec2c28</td>\n",
       "      <td>mjewntkyndmzndgxnju1nzmxmq==.2</td>\n",
       "    </tr>\n",
       "    <tr>\n",
       "      <th>7415</th>\n",
       "      <td>7415</td>\n",
       "      <td>https://scontent-ort2-1.cdninstagram.com/v/t51.2885-15/e35/s240x240/66477589_162327774821204_7945782191280735284_n.jpg?_nc_ht=scontent-ort2-1.cdninstagram.com&amp;oh=65688673c7acb753a072045d85c0837f&amp;oe=5DCBFCD4&amp;ig_cache_key=MjEwNTkxNzc5NzUxNDQ2ODg4MA%3D%3D.2</td>\n",
       "      <td>5</td>\n",
       "      <td>disabilities</td>\n",
       "      <td>scontent-ort2-1.cdninstagram.com</td>\n",
       "      <td>65688673c7acb753a072045d85c0837f</td>\n",
       "      <td>5dcbfcd4</td>\n",
       "      <td>mjewntkxnzc5nzuxndq2odg4ma==.2</td>\n",
       "    </tr>\n",
       "    <tr>\n",
       "      <th>7416</th>\n",
       "      <td>7416</td>\n",
       "      <td>https://scontent-ort2-1.cdninstagram.com/v/t51.2885-15/e35/s240x240/66429633_621090875044865_8829179575721860578_n.jpg?_nc_ht=scontent-ort2-1.cdninstagram.com&amp;oh=b7f62356fa6b364f62647044bf8e5b5a&amp;oe=5DDE7515&amp;ig_cache_key=MjEwNTkxNzYyMjE3NTg4OTU4MA%3D%3D.2</td>\n",
       "      <td>31</td>\n",
       "      <td>disabilities</td>\n",
       "      <td>scontent-ort2-1.cdninstagram.com</td>\n",
       "      <td>b7f62356fa6b364f62647044bf8e5b5a</td>\n",
       "      <td>5dde7515</td>\n",
       "      <td>mjewntkxnzyymje3ntg4otu4ma==.2</td>\n",
       "    </tr>\n",
       "    <tr>\n",
       "      <th>7417</th>\n",
       "      <td>7417</td>\n",
       "      <td>https://scontent-ort2-1.cdninstagram.com/v/t51.2885-15/e15/s240x240/67460439_149081109508759_3057067455332420084_n.jpg?_nc_ht=scontent-ort2-1.cdninstagram.com&amp;oh=87b53dae2704658fa8263116aa911662&amp;oe=5D4F04E1</td>\n",
       "      <td>13</td>\n",
       "      <td>disabilities</td>\n",
       "      <td>scontent-ort2-1.cdninstagram.com</td>\n",
       "      <td>87b53dae2704658fa8263116aa911662</td>\n",
       "      <td>5d4f04e1</td>\n",
       "      <td>NaN</td>\n",
       "    </tr>\n",
       "    <tr>\n",
       "      <th>7418</th>\n",
       "      <td>7418</td>\n",
       "      <td>https://scontent-ort2-1.cdninstagram.com/v/t51.2885-15/e35/s240x240/66306405_346861922902025_7048865518928787506_n.jpg?_nc_ht=scontent-ort2-1.cdninstagram.com&amp;oh=e074f32a800895ebdd36caba3cd4fc0a&amp;oe=5DDCADB1&amp;ig_cache_key=MjEwNTkxMDYyMzE3NDM0NzEyOQ%3D%3D.2</td>\n",
       "      <td>177</td>\n",
       "      <td>disabilities</td>\n",
       "      <td>scontent-ort2-1.cdninstagram.com</td>\n",
       "      <td>e074f32a800895ebdd36caba3cd4fc0a</td>\n",
       "      <td>5ddcadb1</td>\n",
       "      <td>mjewntkxmdyymze3ndm0nzeyoq==.2</td>\n",
       "    </tr>\n",
       "    <tr>\n",
       "      <th>7419</th>\n",
       "      <td>7419</td>\n",
       "      <td>https://scontent-ort2-1.cdninstagram.com/v/t51.2885-15/e35/s240x240/66158290_495201954593599_1267723139207520861_n.jpg?_nc_ht=scontent-ort2-1.cdninstagram.com&amp;oh=1d83686b67881e2afcbcc02b1d75a9a7&amp;oe=5DD17330&amp;ig_cache_key=MjEwNTkwNzc0ODE5ODk2MDgzNg%3D%3D.2</td>\n",
       "      <td>46</td>\n",
       "      <td>disabilities</td>\n",
       "      <td>scontent-ort2-1.cdninstagram.com</td>\n",
       "      <td>1d83686b67881e2afcbcc02b1d75a9a7</td>\n",
       "      <td>5dd17330</td>\n",
       "      <td>mjewntkwnzc0ode5odk2mdgzng==.2</td>\n",
       "    </tr>\n",
       "    <tr>\n",
       "      <th>7420</th>\n",
       "      <td>7420</td>\n",
       "      <td>https://scontent-ort2-1.cdninstagram.com/v/t51.2885-15/e35/s240x240/65483184_146841606421233_7209096258069511897_n.jpg?_nc_ht=scontent-ort2-1.cdninstagram.com&amp;oh=8a7ecaf268a873fc313e2d423bbbd2af&amp;oe=5DEA4603&amp;ig_cache_key=MjEwNTkwNTAwOTU2MDI2ODM1OQ%3D%3D.2</td>\n",
       "      <td>13</td>\n",
       "      <td>disabilities</td>\n",
       "      <td>scontent-ort2-1.cdninstagram.com</td>\n",
       "      <td>8a7ecaf268a873fc313e2d423bbbd2af</td>\n",
       "      <td>5dea4603</td>\n",
       "      <td>mjewntkwntawotu2mdi2odm1oq==.2</td>\n",
       "    </tr>\n",
       "    <tr>\n",
       "      <th>7421</th>\n",
       "      <td>7421</td>\n",
       "      <td>https://scontent-ort2-1.cdninstagram.com/v/t51.2885-15/e35/s240x240/67581832_372403637021097_1291102089236929727_n.jpg?_nc_ht=scontent-ort2-1.cdninstagram.com&amp;oh=179f07fb8cc8353259b1a24ac9de7f8a&amp;oe=5DEACC04&amp;ig_cache_key=MjEwNTg5NTkwNDI4MDk4MTQ2Mg%3D%3D.2</td>\n",
       "      <td>80</td>\n",
       "      <td>disabilities</td>\n",
       "      <td>scontent-ort2-1.cdninstagram.com</td>\n",
       "      <td>179f07fb8cc8353259b1a24ac9de7f8a</td>\n",
       "      <td>5deacc04</td>\n",
       "      <td>mjewntg5ntkwndi4mdk4mtq2mg==.2</td>\n",
       "    </tr>\n",
       "    <tr>\n",
       "      <th>7422</th>\n",
       "      <td>7422</td>\n",
       "      <td>https://scontent-ort2-1.cdninstagram.com/v/t51.2885-15/e15/s240x240/66788231_2109610952678036_3390548356824960457_n.jpg?_nc_ht=scontent-ort2-1.cdninstagram.com&amp;oh=7d1e97596a381e937667a7456f5c8bab&amp;oe=5DD5088F&amp;ig_cache_key=MjEwNTg5MzI1Nzg3NjU4NjEzOA%3D%3D.2</td>\n",
       "      <td>5</td>\n",
       "      <td>disabilities</td>\n",
       "      <td>scontent-ort2-1.cdninstagram.com</td>\n",
       "      <td>7d1e97596a381e937667a7456f5c8bab</td>\n",
       "      <td>5dd5088f</td>\n",
       "      <td>mjewntg5mzi1nzg3nju4njezoa==.2</td>\n",
       "    </tr>\n",
       "    <tr>\n",
       "      <th>7423</th>\n",
       "      <td>7423</td>\n",
       "      <td>https://scontent-ort2-1.cdninstagram.com/v/t51.2885-15/e15/s240x240/66479484_109110173621765_5202950729602906635_n.jpg?_nc_ht=scontent-ort2-1.cdninstagram.com&amp;oh=e0dbb6091b43319d3e6b345e1ae7cce2&amp;oe=5DE9BD5A&amp;ig_cache_key=MjEwNTg5MzA2NzYzMTE1Mjg3NA%3D%3D.2</td>\n",
       "      <td>2</td>\n",
       "      <td>disabilities</td>\n",
       "      <td>scontent-ort2-1.cdninstagram.com</td>\n",
       "      <td>e0dbb6091b43319d3e6b345e1ae7cce2</td>\n",
       "      <td>5de9bd5a</td>\n",
       "      <td>mjewntg5mza2nzyzmte1mjg3na==.2</td>\n",
       "    </tr>\n",
       "    <tr>\n",
       "      <th>7424</th>\n",
       "      <td>7424</td>\n",
       "      <td>https://scontent-ort2-1.cdninstagram.com/v/t51.2885-15/e35/s240x240/65212156_648171775693401_8490440678297255056_n.jpg?_nc_ht=scontent-ort2-1.cdninstagram.com&amp;oh=4ed97949b01b6fd0a56616bd948dece3&amp;oe=5DCEBC31&amp;ig_cache_key=MjEwNTg4ODI4NjM2NjE1NzcwNA%3D%3D.2</td>\n",
       "      <td>105</td>\n",
       "      <td>disabilities</td>\n",
       "      <td>scontent-ort2-1.cdninstagram.com</td>\n",
       "      <td>4ed97949b01b6fd0a56616bd948dece3</td>\n",
       "      <td>5dcebc31</td>\n",
       "      <td>mjewntg4odi4njm2nje1nzcwna==.2</td>\n",
       "    </tr>\n",
       "    <tr>\n",
       "      <th>7425</th>\n",
       "      <td>7425</td>\n",
       "      <td>https://scontent-ort2-1.cdninstagram.com/v/t51.2885-15/e35/s240x240/67283083_2275506445880123_8784003146802974911_n.jpg?_nc_ht=scontent-ort2-1.cdninstagram.com&amp;oh=6d931ac91cf7c0d07757b0d1be7f676f&amp;oe=5DDB095A&amp;ig_cache_key=MjEwNTg4MzY4OTE5MTA2ODkyNA%3D%3D.2</td>\n",
       "      <td>8</td>\n",
       "      <td>disabilities</td>\n",
       "      <td>scontent-ort2-1.cdninstagram.com</td>\n",
       "      <td>6d931ac91cf7c0d07757b0d1be7f676f</td>\n",
       "      <td>5ddb095a</td>\n",
       "      <td>mjewntg4mzy4ote5mta2odkyna==.2</td>\n",
       "    </tr>\n",
       "    <tr>\n",
       "      <th>7426</th>\n",
       "      <td>7426</td>\n",
       "      <td>https://scontent-ort2-1.cdninstagram.com/v/t51.2885-15/e35/s240x240/66448990_1659111284219639_911674071885735071_n.jpg?_nc_ht=scontent-ort2-1.cdninstagram.com&amp;oh=1036134ee55ec43bbf11bd0088de7420&amp;oe=5DE8B3CB&amp;ig_cache_key=MjEwNTg4MTczMDQxNzMyMDEzNA%3D%3D.2</td>\n",
       "      <td>4</td>\n",
       "      <td>disabilities</td>\n",
       "      <td>scontent-ort2-1.cdninstagram.com</td>\n",
       "      <td>1036134ee55ec43bbf11bd0088de7420</td>\n",
       "      <td>5de8b3cb</td>\n",
       "      <td>mjewntg4mtczmdqxnzmymdezna==.2</td>\n",
       "    </tr>\n",
       "    <tr>\n",
       "      <th>7427</th>\n",
       "      <td>7427</td>\n",
       "      <td>https://scontent-ort2-1.cdninstagram.com/v/t51.2885-15/e35/s240x240/67185695_147196899719323_28796276140804737_n.jpg?_nc_ht=scontent-ort2-1.cdninstagram.com&amp;oh=8fe197ccbeea0833f5593e5b52a8b070&amp;oe=5DE999FE&amp;ig_cache_key=MjEwNTg3NDM4OTQyMjcyNDQ1Mw%3D%3D.2</td>\n",
       "      <td>6</td>\n",
       "      <td>disabilities</td>\n",
       "      <td>scontent-ort2-1.cdninstagram.com</td>\n",
       "      <td>8fe197ccbeea0833f5593e5b52a8b070</td>\n",
       "      <td>5de999fe</td>\n",
       "      <td>mjewntg3ndm4otqymjcyndq1mw==.2</td>\n",
       "    </tr>\n",
       "    <tr>\n",
       "      <th>7428</th>\n",
       "      <td>7428</td>\n",
       "      <td>https://scontent-ort2-1.cdninstagram.com/v/t51.2885-15/e35/s240x240/66445841_494216761341637_1674001347462550175_n.jpg?_nc_ht=scontent-ort2-1.cdninstagram.com&amp;oh=f1b093d35d677de3437c50fe21a0a7a1&amp;oe=5DD70BC1&amp;ig_cache_key=MjEwNTg3NDAyNDE2NDY3MjM4OQ%3D%3D.2</td>\n",
       "      <td>3</td>\n",
       "      <td>disabilities</td>\n",
       "      <td>scontent-ort2-1.cdninstagram.com</td>\n",
       "      <td>f1b093d35d677de3437c50fe21a0a7a1</td>\n",
       "      <td>5dd70bc1</td>\n",
       "      <td>mjewntg3ndaynde2ndy3mjm4oq==.2</td>\n",
       "    </tr>\n",
       "    <tr>\n",
       "      <th>7429</th>\n",
       "      <td>7429</td>\n",
       "      <td>https://scontent-ort2-1.cdninstagram.com/v/t51.2885-15/e15/s240x240/66283234_149955036100148_5070579052417042869_n.jpg?_nc_ht=scontent-ort2-1.cdninstagram.com&amp;oh=349363b348059552e1a107f116eff7f0&amp;oe=5DCD995A&amp;ig_cache_key=MjEwNTM5NDYwNzA1NjQzNzE1NQ%3D%3D.2</td>\n",
       "      <td>5</td>\n",
       "      <td>disabilities</td>\n",
       "      <td>scontent-ort2-1.cdninstagram.com</td>\n",
       "      <td>349363b348059552e1a107f116eff7f0</td>\n",
       "      <td>5dcd995a</td>\n",
       "      <td>mjewntm5ndywnza1njqznze1nq==.2</td>\n",
       "    </tr>\n",
       "    <tr>\n",
       "      <th>7430</th>\n",
       "      <td>7430</td>\n",
       "      <td>https://scontent-ort2-1.cdninstagram.com/v/t51.2885-15/e35/p240x240/65835819_121995549078895_4782933876792261171_n.jpg?_nc_ht=scontent-ort2-1.cdninstagram.com&amp;oh=499eab4d66679386840798666124aff1&amp;oe=5DEE2C85&amp;ig_cache_key=MjA5MTA5OTUyOTY5NjU5NDQzNA%3D%3D.2</td>\n",
       "      <td>20</td>\n",
       "      <td>disabilities</td>\n",
       "      <td>scontent-ort2-1.cdninstagram.com</td>\n",
       "      <td>499eab4d66679386840798666124aff1</td>\n",
       "      <td>5dee2c85</td>\n",
       "      <td>mja5mta5otuyoty5nju5ndqzna==.2</td>\n",
       "    </tr>\n",
       "    <tr>\n",
       "      <th>7431</th>\n",
       "      <td>7431</td>\n",
       "      <td>https://scontent-ort2-1.cdninstagram.com/v/t51.2885-15/e35/p240x240/66795952_2360925520666049_190609300202627754_n.jpg?_nc_ht=scontent-ort2-1.cdninstagram.com&amp;oh=65555b1418ac658a70c186873f966ebb&amp;oe=5DCC4513&amp;ig_cache_key=MjA5MTA5NDEyOTgzMjM1NzI2Mg%3D%3D.2</td>\n",
       "      <td>34</td>\n",
       "      <td>disabilities</td>\n",
       "      <td>scontent-ort2-1.cdninstagram.com</td>\n",
       "      <td>65555b1418ac658a70c186873f966ebb</td>\n",
       "      <td>5dcc4513</td>\n",
       "      <td>mja5mta5ndeyotgzmjm1nzi2mg==.2</td>\n",
       "    </tr>\n",
       "    <tr>\n",
       "      <th>7432</th>\n",
       "      <td>7432</td>\n",
       "      <td>https://scontent-ort2-1.cdninstagram.com/v/t51.2885-15/e35/p240x240/66042084_148070542918910_1726308777292862482_n.jpg?_nc_ht=scontent-ort2-1.cdninstagram.com&amp;oh=28bf386d45e4572101d7d091ef87f680&amp;oe=5DCA5914&amp;ig_cache_key=MjA5MTA5Mjk3ODEzNDk3MzI2NQ%3D%3D.2</td>\n",
       "      <td>21</td>\n",
       "      <td>disabilities</td>\n",
       "      <td>scontent-ort2-1.cdninstagram.com</td>\n",
       "      <td>28bf386d45e4572101d7d091ef87f680</td>\n",
       "      <td>5dca5914</td>\n",
       "      <td>mja5mta5mjk3odezndk3mzi2nq==.2</td>\n",
       "    </tr>\n",
       "    <tr>\n",
       "      <th>7433</th>\n",
       "      <td>7433</td>\n",
       "      <td>https://scontent-ort2-1.cdninstagram.com/v/t51.2885-15/e35/p240x240/67174437_153146009163725_2471882442741324722_n.jpg?_nc_ht=scontent-ort2-1.cdninstagram.com&amp;oh=e7e1cb216ba2de74a77e7dd6492c916a&amp;oe=5DDCD204&amp;ig_cache_key=MjA4OTM4MzM3NDk0MjYyNzI0NA%3D%3D.2</td>\n",
       "      <td>18</td>\n",
       "      <td>disabilities</td>\n",
       "      <td>scontent-ort2-1.cdninstagram.com</td>\n",
       "      <td>e7e1cb216ba2de74a77e7dd6492c916a</td>\n",
       "      <td>5ddcd204</td>\n",
       "      <td>mja4otm4mzm3ndk0mjyynzi0na==.2</td>\n",
       "    </tr>\n",
       "  </tbody>\n",
       "</table>\n",
       "<p>7434 rows × 8 columns</p>\n",
       "</div>"
      ],
      "text/plain": [
       "      Unnamed: 0  \\\n",
       "0     0            \n",
       "1     1            \n",
       "2     2            \n",
       "3     3            \n",
       "4     4            \n",
       "5     5            \n",
       "6     6            \n",
       "7     7            \n",
       "8     8            \n",
       "9     9            \n",
       "10    10           \n",
       "11    11           \n",
       "12    12           \n",
       "13    13           \n",
       "14    14           \n",
       "15    15           \n",
       "16    16           \n",
       "17    17           \n",
       "18    18           \n",
       "19    19           \n",
       "20    20           \n",
       "21    21           \n",
       "22    22           \n",
       "23    23           \n",
       "24    24           \n",
       "25    25           \n",
       "26    26           \n",
       "27    27           \n",
       "28    28           \n",
       "29    29           \n",
       "...   ..           \n",
       "7404  7404         \n",
       "7405  7405         \n",
       "7406  7406         \n",
       "7407  7407         \n",
       "7408  7408         \n",
       "7409  7409         \n",
       "7410  7410         \n",
       "7411  7411         \n",
       "7412  7412         \n",
       "7413  7413         \n",
       "7414  7414         \n",
       "7415  7415         \n",
       "7416  7416         \n",
       "7417  7417         \n",
       "7418  7418         \n",
       "7419  7419         \n",
       "7420  7420         \n",
       "7421  7421         \n",
       "7422  7422         \n",
       "7423  7423         \n",
       "7424  7424         \n",
       "7425  7425         \n",
       "7426  7426         \n",
       "7427  7427         \n",
       "7428  7428         \n",
       "7429  7429         \n",
       "7430  7430         \n",
       "7431  7431         \n",
       "7432  7432         \n",
       "7433  7433         \n",
       "\n",
       "                                                                                                                                                                                                                                                                 urls  \\\n",
       "0     https://scontent-ort2-1.cdninstagram.com/v/t51.2885-15/e35/s240x240/66530381_163211744842856_3012422801686194357_n.jpg?_nc_ht=scontent-ort2-1.cdninstagram.com&oh=aeff09198dca839fe67f14fbb4fa44ee&oe=5DDBF245&ig_cache_key=MjEwNjE1OTIwNzQ1MjMwNTU4OA%3D%3D.2    \n",
       "1     https://scontent-ort2-1.cdninstagram.com/v/t51.2885-15/e35/s240x240/66114976_138538480689678_3235903269161027367_n.jpg?_nc_ht=scontent-ort2-1.cdninstagram.com&oh=f712454dd8c54aff8dcc55c0196dd848&oe=5DCEC3BD&ig_cache_key=MjEwNjE1ODYwOTY2MzM0OTkwMg%3D%3D.2    \n",
       "2     https://scontent-ort2-1.cdninstagram.com/v/t51.2885-15/e35/s240x240/67800954_2745171882159632_2676516435775243482_n.jpg?_nc_ht=scontent-ort2-1.cdninstagram.com&oh=b9bf1ce5dc9aee9d041f81f6527cf061&oe=5DDB1FCC&ig_cache_key=MjEwNjE1ODE2NTA2NzI4MDA5MA%3D%3D.2   \n",
       "3     https://scontent-ort2-1.cdninstagram.com/v/t51.2885-15/e35/s240x240/67752202_545018606237099_7556609888288103773_n.jpg?_nc_ht=scontent-ort2-1.cdninstagram.com&oh=f0324972b110a2e1eb94704a72e7a908&oe=5DDED7DD&ig_cache_key=MjEwNjE1Nzk5MzUyODQ0NjcxNg%3D%3D.2    \n",
       "4     https://scontent-ort2-1.cdninstagram.com/v/t51.2885-15/e35/s240x240/66503303_2299677823695147_6865556520673931784_n.jpg?_nc_ht=scontent-ort2-1.cdninstagram.com&oh=4048bf684619c612b3a2332e04b71baf&oe=5DED3629&ig_cache_key=MjEwNjE1NzY1MTQzOTIyOTY4OQ%3D%3D.2   \n",
       "5     https://scontent-ort2-1.cdninstagram.com/v/t51.2885-15/e35/s240x240/66700133_418332532369294_104511529474130727_n.jpg?_nc_ht=scontent-ort2-1.cdninstagram.com&oh=1c8e67b0965d6ff6aeab9d127cc90921&oe=5D4F3A51                                                     \n",
       "6     https://scontent-ort2-1.cdninstagram.com/v/t51.2885-15/e35/s240x240/67053385_348130719441047_3783910026309985028_n.jpg?_nc_ht=scontent-ort2-1.cdninstagram.com&oh=e65fa1bba768f5f30dc37f097c15acd4&oe=5DD4D172&ig_cache_key=MjEwNjE1NzI1OTg3NzU0ODgyMQ%3D%3D.2    \n",
       "7     https://scontent-ort2-1.cdninstagram.com/v/t51.2885-15/e15/s240x240/66108567_156749585476020_4868944971988078252_n.jpg?_nc_ht=scontent-ort2-1.cdninstagram.com&oh=acd6674471cb3b57a0209baf05ea24dc&oe=5DDADA97&ig_cache_key=MjEwNjE1NzAxNzU3MTA4NzEyMw%3D%3D.2    \n",
       "8     https://scontent-ort2-1.cdninstagram.com/v/t51.2885-15/e35/s240x240/67293158_520503235165506_2544531947063240294_n.jpg?_nc_ht=scontent-ort2-1.cdninstagram.com&oh=6c3dd3749a2b3b9dac6638017d6d8bd7&oe=5D4F2019                                                    \n",
       "9     https://scontent-ort2-1.cdninstagram.com/v/t51.2885-15/e35/s240x240/66066889_224617408502078_8357082182313644484_n.jpg?_nc_ht=scontent-ort2-1.cdninstagram.com&oh=bc6d8147784d4b7e7b011a5f51b385c8&oe=5D4EC810                                                    \n",
       "10    https://scontent-ort2-1.cdninstagram.com/v/t51.2885-15/e35/p240x240/67747840_708082489636355_7807609927353628311_n.jpg?_nc_ht=scontent-ort2-1.cdninstagram.com&oh=2b3300c5b1608a6216f0d84d739c139b&oe=5DCEE1FF&ig_cache_key=MjEwNjE1NTI3NjI4MTE2Njc2NA%3D%3D.2    \n",
       "11    https://scontent-ort2-1.cdninstagram.com/v/t51.2885-15/e35/s240x240/67503598_1164755337051677_873537146425527349_n.jpg?_nc_ht=scontent-ort2-1.cdninstagram.com&oh=f6061924df50ebf8849c2ced92ef1885&oe=5DE100F8&ig_cache_key=MjEwNjE1NTIzMTg4MTYzMjU0OQ%3D%3D.2    \n",
       "12    https://scontent-ort2-1.cdninstagram.com/v/t51.2885-15/e35/s240x240/68959725_123341218956681_7392319404321731262_n.jpg?_nc_ht=scontent-ort2-1.cdninstagram.com&oh=8705304551d07b30dd5e663eaf11ac8a&oe=5DDE136C&ig_cache_key=MjEwNjE1NDg5ODcxMDg4NDEzOQ%3D%3D.2    \n",
       "13    https://scontent-ort2-1.cdninstagram.com/v/t51.2885-15/e35/s240x240/67643535_341112773479434_348049656878162959_n.jpg?_nc_ht=scontent-ort2-1.cdninstagram.com&oh=6aa962a8dba3469c187a178a2a15409f&oe=5DE020D0&ig_cache_key=MjEwNjE1Mzg0MTU4NTk2MzUyMw%3D%3D.2     \n",
       "14    https://scontent-ort2-1.cdninstagram.com/v/t51.2885-15/e35/s240x240/66449536_218190979161992_6922618264037617023_n.jpg?_nc_ht=scontent-ort2-1.cdninstagram.com&oh=810fce8e36ba492dd64f095433755eb4&oe=5DCA31F2&ig_cache_key=MjEwNjE1MzU4ODQ3NjAyMzEyMg%3D%3D.2    \n",
       "15    https://scontent-ort2-1.cdninstagram.com/v/t51.2885-15/e35/s240x240/66471826_332248824321598_5773090292272067451_n.jpg?_nc_ht=scontent-ort2-1.cdninstagram.com&oh=cd7480f5c8b3a7c45ba0bf31fdca92ed&oe=5DDB78CB&ig_cache_key=MjEwNjE1MzU1NzMwMzU2NjYzNA%3D%3D.2    \n",
       "16    https://scontent-ort2-1.cdninstagram.com/v/t51.2885-15/e15/s240x240/66485827_2418033648520113_6306038722423799751_n.jpg?_nc_ht=scontent-ort2-1.cdninstagram.com&oh=6198a2350aa5214bbad6bf3c8c5599de&oe=5DEAE1F7&ig_cache_key=MjEwNjE1MzU0MDg3MjY5MDIxMw%3D%3D.2   \n",
       "17    https://scontent-ort2-1.cdninstagram.com/v/t51.2885-15/e15/s240x240/64789839_121336099175831_6812061285334820436_n.jpg?_nc_ht=scontent-ort2-1.cdninstagram.com&oh=5dc8966946b9e7754fa65d8b8b8c425a&oe=5DC8B2C1&ig_cache_key=MjEwNjE1MzU0MzkxNzY4NzI2NQ%3D%3D.2    \n",
       "18    https://scontent-ort2-1.cdninstagram.com/v/t51.2885-15/e35/s240x240/66787745_761268837621481_7721536539670097259_n.jpg?_nc_ht=scontent-ort2-1.cdninstagram.com&oh=542510681bfb5c10a4c91574cb689f0b&oe=5DEBCC8E&ig_cache_key=MjEwNjE1MzQ4ODg4NjA3NTkwNg%3D%3D.2    \n",
       "19    https://scontent-ort2-1.cdninstagram.com/v/t51.2885-15/e35/s240x240/65971781_138522227358248_728962126543251156_n.jpg?_nc_ht=scontent-ort2-1.cdninstagram.com&oh=c5e91fcd33eefd586f0ce353b05c00ff&oe=5D4F31FE                                                     \n",
       "20    https://scontent-ort2-1.cdninstagram.com/v/t51.2885-15/e35/p240x240/67802630_450037015843011_6034637232269155004_n.jpg?_nc_ht=scontent-ort2-1.cdninstagram.com&oh=089622df7e5d1b2e67eb46837f8a4700&oe=5DCFAAA9&ig_cache_key=MjEwNjE1MjE5NjMxMDU4MzYyOQ%3D%3D.2    \n",
       "21    https://scontent-ort2-1.cdninstagram.com/v/t51.2885-15/e35/s240x240/67064656_475804739868124_9166180636406665971_n.jpg?_nc_ht=scontent-ort2-1.cdninstagram.com&oh=3e0d1e957d77cd6dfa4e6ca456e38e6a&oe=5D4F35C2                                                    \n",
       "22    https://scontent-ort2-1.cdninstagram.com/v/t51.2885-15/e35/s240x240/67202225_154867102328241_151437585563384096_n.jpg?_nc_ht=scontent-ort2-1.cdninstagram.com&oh=88cd1456cc523b84c80cb4cea5b277b4&oe=5DD8689C&ig_cache_key=MjEwNjE1MTgyNTEwODY2ODYwMQ%3D%3D.2     \n",
       "23    https://scontent-ort2-1.cdninstagram.com/v/t51.2885-15/e35/s240x240/66623513_758700897879987_8527990800876813760_n.jpg?_nc_ht=scontent-ort2-1.cdninstagram.com&oh=8a3e91aa1e589d850d649d2821a29665&oe=5DEC089F&ig_cache_key=MjEwNjE1MTY4MjA5NzYxMDM0NA%3D%3D.2    \n",
       "24    https://scontent-ort2-1.cdninstagram.com/v/t51.2885-15/e35/s240x240/67099196_425293044999080_5488731853696564610_n.jpg?_nc_ht=scontent-ort2-1.cdninstagram.com&oh=b1e9c61f6e912e135c7add42f25bcdd8&oe=5DDCC6BF&ig_cache_key=MjEwNjE1MTY1ODY2MDkxMDAyNw%3D%3D.2    \n",
       "25    https://scontent-ort2-1.cdninstagram.com/v/t51.2885-15/e35/s240x240/67628731_2415773655149003_7786728197574351261_n.jpg?_nc_ht=scontent-ort2-1.cdninstagram.com&oh=d5909f96001c0577cedc5793bf673913&oe=5DE258DD&ig_cache_key=MjEwNjE1MTEzOTYwNzg0NTQyMw%3D%3D.2   \n",
       "26    https://scontent-ort2-1.cdninstagram.com/v/t51.2885-15/e35/s240x240/67934537_2720738097938227_7303517178339859019_n.jpg?_nc_ht=scontent-ort2-1.cdninstagram.com&oh=8783a64037fed5198c0580c7e3711309&oe=5DC8D4E1&ig_cache_key=MjEwNjE1MDk2Nzg3NDY3MzY1NQ%3D%3D.2   \n",
       "27    https://scontent-ort2-1.cdninstagram.com/v/t51.2885-15/e35/s240x240/66703561_2334854556832788_3469940993712887139_n.jpg?_nc_ht=scontent-ort2-1.cdninstagram.com&oh=56297be5478cfe4ccebd698648a18a78&oe=5DE17C63&ig_cache_key=MjEwNjE1MDU5MDMwMzQ0MTc3Mw%3D%3D.2   \n",
       "28    https://scontent-ort2-1.cdninstagram.com/v/t51.2885-15/e35/p240x240/67309611_435918500378557_2946403872291961042_n.jpg?_nc_ht=scontent-ort2-1.cdninstagram.com&oh=56c88c5a8fde67f0c6b4c90de94796a8&oe=5DD4D3CF&ig_cache_key=MjEwNjE1MDU1ODQ3MDQ1MTc3Mw%3D%3D.2    \n",
       "29    https://scontent-ort2-1.cdninstagram.com/v/t51.2885-15/e35/s240x240/68732506_490343444872367_6659272787554688207_n.jpg?_nc_ht=scontent-ort2-1.cdninstagram.com&oh=dec0c6cf4970ffc6d7b2d387cc940b22&oe=5DE55BDB&ig_cache_key=MjEwNjE1MDI4MDAzMzgzODk3Ng%3D%3D.2    \n",
       "...                                                                                                                                                                                                                                                              ...    \n",
       "7404  https://scontent-ort2-1.cdninstagram.com/v/t51.2885-15/e35/s240x240/67122450_366903657324466_7870467826786208274_n.jpg?_nc_ht=scontent-ort2-1.cdninstagram.com&oh=79946c5a55de9fbacb011251b7ec4ffc&oe=5DCB7E55&ig_cache_key=MjEwNTk3NTAzMTA0MDUwMzE3Nw%3D%3D.2    \n",
       "7405  https://scontent-ort2-1.cdninstagram.com/v/t51.2885-15/e35/s240x240/65914568_2391244561152984_964271677750179046_n.jpg?_nc_ht=scontent-ort2-1.cdninstagram.com&oh=7a549d8391e1c503778274f982a63d36&oe=5DD335DE&ig_cache_key=MjEwNTk2ODU3ODY0MjUwODkwMg%3D%3D.2    \n",
       "7406  https://scontent-ort2-1.cdninstagram.com/v/t51.2885-15/e35/s240x240/67502416_135075811047120_1541870542295124375_n.jpg?_nc_ht=scontent-ort2-1.cdninstagram.com&oh=20fd3f9777501c8d4331972c5b452efe&oe=5DD41ACA&ig_cache_key=MjEwNTk2NjczOTI1NDA2NDMyNQ%3D%3D.2    \n",
       "7407  https://scontent-ort2-1.cdninstagram.com/v/t51.2885-15/e15/s240x240/67596230_2081817642127520_685147403803615059_n.jpg?_nc_ht=scontent-ort2-1.cdninstagram.com&oh=e9b7052ccf1f935978b3b931e2bdc076&oe=5DC7A246&ig_cache_key=MjEwNTk2NjIyMTc5NDE4NzM1Nw%3D%3D.2    \n",
       "7408  https://scontent-ort2-1.cdninstagram.com/v/t51.2885-15/e35/s240x240/67914233_127196185217052_3087764058168821321_n.jpg?_nc_ht=scontent-ort2-1.cdninstagram.com&oh=f187e53567114bd22314cac941828110&oe=5DD3FDA8&ig_cache_key=MjEwNTk2MDIwNjQ0OTExMDU4OA%3D%3D.2    \n",
       "7409  https://scontent-ort2-1.cdninstagram.com/v/t51.2885-15/e35/s240x240/67893713_458624544918651_6594892589283506046_n.jpg?_nc_ht=scontent-ort2-1.cdninstagram.com&oh=24c9f3b73d8bbc3323cce841a7b426a6&oe=5DDD0770&ig_cache_key=MjEwNTk1Nzc0NTEwNzUwNTQyMA%3D%3D.2    \n",
       "7410  https://scontent-ort2-1.cdninstagram.com/v/t51.2885-15/e35/s240x240/66619937_474484173341018_2102364215054129540_n.jpg?_nc_ht=scontent-ort2-1.cdninstagram.com&oh=519c5f57f352d19d32dc8725723fb96b&oe=5DD81E53&ig_cache_key=MjEwNTk0Njc1OTYyMTI2NTUwMQ%3D%3D.2    \n",
       "7411  https://scontent-ort2-1.cdninstagram.com/v/t51.2885-15/e35/p240x240/66860217_379596346071630_1857327579470549969_n.jpg?_nc_ht=scontent-ort2-1.cdninstagram.com&oh=9f790bdaea058dbea749972f56b1dc6d&oe=5DCA0C4F&ig_cache_key=MjEwNTk0MTg1ODk1Mjc4MDEwNw%3D%3D.2    \n",
       "7412  https://scontent-ort2-1.cdninstagram.com/v/t51.2885-15/e35/s240x240/67402969_128298465105816_948988945554019581_n.jpg?_nc_ht=scontent-ort2-1.cdninstagram.com&oh=48977800e6ce2e5de0cbf5105e1ede2e&oe=5DE0EA67&ig_cache_key=MjEwNTkzOTkzNzE0ODA5MTQ2Nw%3D%3D.2     \n",
       "7413  https://scontent-ort2-1.cdninstagram.com/v/t51.2885-15/e35/s240x240/66398777_138398917378309_2974222846265140328_n.jpg?_nc_ht=scontent-ort2-1.cdninstagram.com&oh=7070b401420ca94dc749029b156001cc&oe=5DD649F1&ig_cache_key=MjEwNTkyNDkyMDA5Njk5NTMwMw%3D%3D.2    \n",
       "7414  https://scontent-ort2-1.cdninstagram.com/v/t51.2885-15/e35/s240x240/66503664_411567162795897_717163278754280147_n.jpg?_nc_ht=scontent-ort2-1.cdninstagram.com&oh=a65a42405512d8b1bf4eeeeef2015edc&oe=5DEC2C28&ig_cache_key=MjEwNTkyNDMzNDgxNjU1NzMxMQ%3D%3D.2     \n",
       "7415  https://scontent-ort2-1.cdninstagram.com/v/t51.2885-15/e35/s240x240/66477589_162327774821204_7945782191280735284_n.jpg?_nc_ht=scontent-ort2-1.cdninstagram.com&oh=65688673c7acb753a072045d85c0837f&oe=5DCBFCD4&ig_cache_key=MjEwNTkxNzc5NzUxNDQ2ODg4MA%3D%3D.2    \n",
       "7416  https://scontent-ort2-1.cdninstagram.com/v/t51.2885-15/e35/s240x240/66429633_621090875044865_8829179575721860578_n.jpg?_nc_ht=scontent-ort2-1.cdninstagram.com&oh=b7f62356fa6b364f62647044bf8e5b5a&oe=5DDE7515&ig_cache_key=MjEwNTkxNzYyMjE3NTg4OTU4MA%3D%3D.2    \n",
       "7417  https://scontent-ort2-1.cdninstagram.com/v/t51.2885-15/e15/s240x240/67460439_149081109508759_3057067455332420084_n.jpg?_nc_ht=scontent-ort2-1.cdninstagram.com&oh=87b53dae2704658fa8263116aa911662&oe=5D4F04E1                                                    \n",
       "7418  https://scontent-ort2-1.cdninstagram.com/v/t51.2885-15/e35/s240x240/66306405_346861922902025_7048865518928787506_n.jpg?_nc_ht=scontent-ort2-1.cdninstagram.com&oh=e074f32a800895ebdd36caba3cd4fc0a&oe=5DDCADB1&ig_cache_key=MjEwNTkxMDYyMzE3NDM0NzEyOQ%3D%3D.2    \n",
       "7419  https://scontent-ort2-1.cdninstagram.com/v/t51.2885-15/e35/s240x240/66158290_495201954593599_1267723139207520861_n.jpg?_nc_ht=scontent-ort2-1.cdninstagram.com&oh=1d83686b67881e2afcbcc02b1d75a9a7&oe=5DD17330&ig_cache_key=MjEwNTkwNzc0ODE5ODk2MDgzNg%3D%3D.2    \n",
       "7420  https://scontent-ort2-1.cdninstagram.com/v/t51.2885-15/e35/s240x240/65483184_146841606421233_7209096258069511897_n.jpg?_nc_ht=scontent-ort2-1.cdninstagram.com&oh=8a7ecaf268a873fc313e2d423bbbd2af&oe=5DEA4603&ig_cache_key=MjEwNTkwNTAwOTU2MDI2ODM1OQ%3D%3D.2    \n",
       "7421  https://scontent-ort2-1.cdninstagram.com/v/t51.2885-15/e35/s240x240/67581832_372403637021097_1291102089236929727_n.jpg?_nc_ht=scontent-ort2-1.cdninstagram.com&oh=179f07fb8cc8353259b1a24ac9de7f8a&oe=5DEACC04&ig_cache_key=MjEwNTg5NTkwNDI4MDk4MTQ2Mg%3D%3D.2    \n",
       "7422  https://scontent-ort2-1.cdninstagram.com/v/t51.2885-15/e15/s240x240/66788231_2109610952678036_3390548356824960457_n.jpg?_nc_ht=scontent-ort2-1.cdninstagram.com&oh=7d1e97596a381e937667a7456f5c8bab&oe=5DD5088F&ig_cache_key=MjEwNTg5MzI1Nzg3NjU4NjEzOA%3D%3D.2   \n",
       "7423  https://scontent-ort2-1.cdninstagram.com/v/t51.2885-15/e15/s240x240/66479484_109110173621765_5202950729602906635_n.jpg?_nc_ht=scontent-ort2-1.cdninstagram.com&oh=e0dbb6091b43319d3e6b345e1ae7cce2&oe=5DE9BD5A&ig_cache_key=MjEwNTg5MzA2NzYzMTE1Mjg3NA%3D%3D.2    \n",
       "7424  https://scontent-ort2-1.cdninstagram.com/v/t51.2885-15/e35/s240x240/65212156_648171775693401_8490440678297255056_n.jpg?_nc_ht=scontent-ort2-1.cdninstagram.com&oh=4ed97949b01b6fd0a56616bd948dece3&oe=5DCEBC31&ig_cache_key=MjEwNTg4ODI4NjM2NjE1NzcwNA%3D%3D.2    \n",
       "7425  https://scontent-ort2-1.cdninstagram.com/v/t51.2885-15/e35/s240x240/67283083_2275506445880123_8784003146802974911_n.jpg?_nc_ht=scontent-ort2-1.cdninstagram.com&oh=6d931ac91cf7c0d07757b0d1be7f676f&oe=5DDB095A&ig_cache_key=MjEwNTg4MzY4OTE5MTA2ODkyNA%3D%3D.2   \n",
       "7426  https://scontent-ort2-1.cdninstagram.com/v/t51.2885-15/e35/s240x240/66448990_1659111284219639_911674071885735071_n.jpg?_nc_ht=scontent-ort2-1.cdninstagram.com&oh=1036134ee55ec43bbf11bd0088de7420&oe=5DE8B3CB&ig_cache_key=MjEwNTg4MTczMDQxNzMyMDEzNA%3D%3D.2    \n",
       "7427  https://scontent-ort2-1.cdninstagram.com/v/t51.2885-15/e35/s240x240/67185695_147196899719323_28796276140804737_n.jpg?_nc_ht=scontent-ort2-1.cdninstagram.com&oh=8fe197ccbeea0833f5593e5b52a8b070&oe=5DE999FE&ig_cache_key=MjEwNTg3NDM4OTQyMjcyNDQ1Mw%3D%3D.2      \n",
       "7428  https://scontent-ort2-1.cdninstagram.com/v/t51.2885-15/e35/s240x240/66445841_494216761341637_1674001347462550175_n.jpg?_nc_ht=scontent-ort2-1.cdninstagram.com&oh=f1b093d35d677de3437c50fe21a0a7a1&oe=5DD70BC1&ig_cache_key=MjEwNTg3NDAyNDE2NDY3MjM4OQ%3D%3D.2    \n",
       "7429  https://scontent-ort2-1.cdninstagram.com/v/t51.2885-15/e15/s240x240/66283234_149955036100148_5070579052417042869_n.jpg?_nc_ht=scontent-ort2-1.cdninstagram.com&oh=349363b348059552e1a107f116eff7f0&oe=5DCD995A&ig_cache_key=MjEwNTM5NDYwNzA1NjQzNzE1NQ%3D%3D.2    \n",
       "7430  https://scontent-ort2-1.cdninstagram.com/v/t51.2885-15/e35/p240x240/65835819_121995549078895_4782933876792261171_n.jpg?_nc_ht=scontent-ort2-1.cdninstagram.com&oh=499eab4d66679386840798666124aff1&oe=5DEE2C85&ig_cache_key=MjA5MTA5OTUyOTY5NjU5NDQzNA%3D%3D.2    \n",
       "7431  https://scontent-ort2-1.cdninstagram.com/v/t51.2885-15/e35/p240x240/66795952_2360925520666049_190609300202627754_n.jpg?_nc_ht=scontent-ort2-1.cdninstagram.com&oh=65555b1418ac658a70c186873f966ebb&oe=5DCC4513&ig_cache_key=MjA5MTA5NDEyOTgzMjM1NzI2Mg%3D%3D.2    \n",
       "7432  https://scontent-ort2-1.cdninstagram.com/v/t51.2885-15/e35/p240x240/66042084_148070542918910_1726308777292862482_n.jpg?_nc_ht=scontent-ort2-1.cdninstagram.com&oh=28bf386d45e4572101d7d091ef87f680&oe=5DCA5914&ig_cache_key=MjA5MTA5Mjk3ODEzNDk3MzI2NQ%3D%3D.2    \n",
       "7433  https://scontent-ort2-1.cdninstagram.com/v/t51.2885-15/e35/p240x240/67174437_153146009163725_2471882442741324722_n.jpg?_nc_ht=scontent-ort2-1.cdninstagram.com&oh=e7e1cb216ba2de74a77e7dd6492c916a&oe=5DDCD204&ig_cache_key=MjA4OTM4MzM3NDk0MjYyNzI0NA%3D%3D.2    \n",
       "\n",
       "      likes           tag                            _nc_ht  \\\n",
       "0     0      indiana       scontent-ort2-1.cdninstagram.com   \n",
       "1     5      indiana       scontent-ort2-1.cdninstagram.com   \n",
       "2     0      indiana       scontent-ort2-1.cdninstagram.com   \n",
       "3     0      indiana       scontent-ort2-1.cdninstagram.com   \n",
       "4     15     indiana       scontent-ort2-1.cdninstagram.com   \n",
       "5     1      indiana       scontent-ort2-1.cdninstagram.com   \n",
       "6     0      indiana       scontent-ort2-1.cdninstagram.com   \n",
       "7     1      indiana       scontent-ort2-1.cdninstagram.com   \n",
       "8     2      indiana       scontent-ort2-1.cdninstagram.com   \n",
       "9     2      indiana       scontent-ort2-1.cdninstagram.com   \n",
       "10    0      indiana       scontent-ort2-1.cdninstagram.com   \n",
       "11    9      indiana       scontent-ort2-1.cdninstagram.com   \n",
       "12    1      indiana       scontent-ort2-1.cdninstagram.com   \n",
       "13    0      indiana       scontent-ort2-1.cdninstagram.com   \n",
       "14    2      indiana       scontent-ort2-1.cdninstagram.com   \n",
       "15    1      indiana       scontent-ort2-1.cdninstagram.com   \n",
       "16    0      indiana       scontent-ort2-1.cdninstagram.com   \n",
       "17    0      indiana       scontent-ort2-1.cdninstagram.com   \n",
       "18    6      indiana       scontent-ort2-1.cdninstagram.com   \n",
       "19    3      indiana       scontent-ort2-1.cdninstagram.com   \n",
       "20    26     indiana       scontent-ort2-1.cdninstagram.com   \n",
       "21    3      indiana       scontent-ort2-1.cdninstagram.com   \n",
       "22    3      indiana       scontent-ort2-1.cdninstagram.com   \n",
       "23    3      indiana       scontent-ort2-1.cdninstagram.com   \n",
       "24    4      indiana       scontent-ort2-1.cdninstagram.com   \n",
       "25    3      indiana       scontent-ort2-1.cdninstagram.com   \n",
       "26    3      indiana       scontent-ort2-1.cdninstagram.com   \n",
       "27    2      indiana       scontent-ort2-1.cdninstagram.com   \n",
       "28    5      indiana       scontent-ort2-1.cdninstagram.com   \n",
       "29    2      indiana       scontent-ort2-1.cdninstagram.com   \n",
       "...  ..          ...                                    ...   \n",
       "7404  5      disabilities  scontent-ort2-1.cdninstagram.com   \n",
       "7405  49     disabilities  scontent-ort2-1.cdninstagram.com   \n",
       "7406  5      disabilities  scontent-ort2-1.cdninstagram.com   \n",
       "7407  7      disabilities  scontent-ort2-1.cdninstagram.com   \n",
       "7408  7      disabilities  scontent-ort2-1.cdninstagram.com   \n",
       "7409  11     disabilities  scontent-ort2-1.cdninstagram.com   \n",
       "7410  51     disabilities  scontent-ort2-1.cdninstagram.com   \n",
       "7411  28     disabilities  scontent-ort2-1.cdninstagram.com   \n",
       "7412  23     disabilities  scontent-ort2-1.cdninstagram.com   \n",
       "7413  24     disabilities  scontent-ort2-1.cdninstagram.com   \n",
       "7414  1      disabilities  scontent-ort2-1.cdninstagram.com   \n",
       "7415  5      disabilities  scontent-ort2-1.cdninstagram.com   \n",
       "7416  31     disabilities  scontent-ort2-1.cdninstagram.com   \n",
       "7417  13     disabilities  scontent-ort2-1.cdninstagram.com   \n",
       "7418  177    disabilities  scontent-ort2-1.cdninstagram.com   \n",
       "7419  46     disabilities  scontent-ort2-1.cdninstagram.com   \n",
       "7420  13     disabilities  scontent-ort2-1.cdninstagram.com   \n",
       "7421  80     disabilities  scontent-ort2-1.cdninstagram.com   \n",
       "7422  5      disabilities  scontent-ort2-1.cdninstagram.com   \n",
       "7423  2      disabilities  scontent-ort2-1.cdninstagram.com   \n",
       "7424  105    disabilities  scontent-ort2-1.cdninstagram.com   \n",
       "7425  8      disabilities  scontent-ort2-1.cdninstagram.com   \n",
       "7426  4      disabilities  scontent-ort2-1.cdninstagram.com   \n",
       "7427  6      disabilities  scontent-ort2-1.cdninstagram.com   \n",
       "7428  3      disabilities  scontent-ort2-1.cdninstagram.com   \n",
       "7429  5      disabilities  scontent-ort2-1.cdninstagram.com   \n",
       "7430  20     disabilities  scontent-ort2-1.cdninstagram.com   \n",
       "7431  34     disabilities  scontent-ort2-1.cdninstagram.com   \n",
       "7432  21     disabilities  scontent-ort2-1.cdninstagram.com   \n",
       "7433  18     disabilities  scontent-ort2-1.cdninstagram.com   \n",
       "\n",
       "                                    oh        oe  \\\n",
       "0     aeff09198dca839fe67f14fbb4fa44ee  5ddbf245   \n",
       "1     f712454dd8c54aff8dcc55c0196dd848  5dcec3bd   \n",
       "2     b9bf1ce5dc9aee9d041f81f6527cf061  5ddb1fcc   \n",
       "3     f0324972b110a2e1eb94704a72e7a908  5dded7dd   \n",
       "4     4048bf684619c612b3a2332e04b71baf  5ded3629   \n",
       "5     1c8e67b0965d6ff6aeab9d127cc90921  5d4f3a51   \n",
       "6     e65fa1bba768f5f30dc37f097c15acd4  5dd4d172   \n",
       "7     acd6674471cb3b57a0209baf05ea24dc  5ddada97   \n",
       "8     6c3dd3749a2b3b9dac6638017d6d8bd7  5d4f2019   \n",
       "9     bc6d8147784d4b7e7b011a5f51b385c8  5d4ec810   \n",
       "10    2b3300c5b1608a6216f0d84d739c139b  5dcee1ff   \n",
       "11    f6061924df50ebf8849c2ced92ef1885  5de100f8   \n",
       "12    8705304551d07b30dd5e663eaf11ac8a  5dde136c   \n",
       "13    6aa962a8dba3469c187a178a2a15409f  5de020d0   \n",
       "14    810fce8e36ba492dd64f095433755eb4  5dca31f2   \n",
       "15    cd7480f5c8b3a7c45ba0bf31fdca92ed  5ddb78cb   \n",
       "16    6198a2350aa5214bbad6bf3c8c5599de  5deae1f7   \n",
       "17    5dc8966946b9e7754fa65d8b8b8c425a  5dc8b2c1   \n",
       "18    542510681bfb5c10a4c91574cb689f0b  5debcc8e   \n",
       "19    c5e91fcd33eefd586f0ce353b05c00ff  5d4f31fe   \n",
       "20    089622df7e5d1b2e67eb46837f8a4700  5dcfaaa9   \n",
       "21    3e0d1e957d77cd6dfa4e6ca456e38e6a  5d4f35c2   \n",
       "22    88cd1456cc523b84c80cb4cea5b277b4  5dd8689c   \n",
       "23    8a3e91aa1e589d850d649d2821a29665  5dec089f   \n",
       "24    b1e9c61f6e912e135c7add42f25bcdd8  5ddcc6bf   \n",
       "25    d5909f96001c0577cedc5793bf673913  5de258dd   \n",
       "26    8783a64037fed5198c0580c7e3711309  5dc8d4e1   \n",
       "27    56297be5478cfe4ccebd698648a18a78  5de17c63   \n",
       "28    56c88c5a8fde67f0c6b4c90de94796a8  5dd4d3cf   \n",
       "29    dec0c6cf4970ffc6d7b2d387cc940b22  5de55bdb   \n",
       "...                                ...       ...   \n",
       "7404  79946c5a55de9fbacb011251b7ec4ffc  5dcb7e55   \n",
       "7405  7a549d8391e1c503778274f982a63d36  5dd335de   \n",
       "7406  20fd3f9777501c8d4331972c5b452efe  5dd41aca   \n",
       "7407  e9b7052ccf1f935978b3b931e2bdc076  5dc7a246   \n",
       "7408  f187e53567114bd22314cac941828110  5dd3fda8   \n",
       "7409  24c9f3b73d8bbc3323cce841a7b426a6  5ddd0770   \n",
       "7410  519c5f57f352d19d32dc8725723fb96b  5dd81e53   \n",
       "7411  9f790bdaea058dbea749972f56b1dc6d  5dca0c4f   \n",
       "7412  48977800e6ce2e5de0cbf5105e1ede2e  5de0ea67   \n",
       "7413  7070b401420ca94dc749029b156001cc  5dd649f1   \n",
       "7414  a65a42405512d8b1bf4eeeeef2015edc  5dec2c28   \n",
       "7415  65688673c7acb753a072045d85c0837f  5dcbfcd4   \n",
       "7416  b7f62356fa6b364f62647044bf8e5b5a  5dde7515   \n",
       "7417  87b53dae2704658fa8263116aa911662  5d4f04e1   \n",
       "7418  e074f32a800895ebdd36caba3cd4fc0a  5ddcadb1   \n",
       "7419  1d83686b67881e2afcbcc02b1d75a9a7  5dd17330   \n",
       "7420  8a7ecaf268a873fc313e2d423bbbd2af  5dea4603   \n",
       "7421  179f07fb8cc8353259b1a24ac9de7f8a  5deacc04   \n",
       "7422  7d1e97596a381e937667a7456f5c8bab  5dd5088f   \n",
       "7423  e0dbb6091b43319d3e6b345e1ae7cce2  5de9bd5a   \n",
       "7424  4ed97949b01b6fd0a56616bd948dece3  5dcebc31   \n",
       "7425  6d931ac91cf7c0d07757b0d1be7f676f  5ddb095a   \n",
       "7426  1036134ee55ec43bbf11bd0088de7420  5de8b3cb   \n",
       "7427  8fe197ccbeea0833f5593e5b52a8b070  5de999fe   \n",
       "7428  f1b093d35d677de3437c50fe21a0a7a1  5dd70bc1   \n",
       "7429  349363b348059552e1a107f116eff7f0  5dcd995a   \n",
       "7430  499eab4d66679386840798666124aff1  5dee2c85   \n",
       "7431  65555b1418ac658a70c186873f966ebb  5dcc4513   \n",
       "7432  28bf386d45e4572101d7d091ef87f680  5dca5914   \n",
       "7433  e7e1cb216ba2de74a77e7dd6492c916a  5ddcd204   \n",
       "\n",
       "                        ig_cache_key  \n",
       "0     mjewnje1otiwnzq1mjmwntu4oa==.2  \n",
       "1     mjewnje1odywoty2mzm0otkwmg==.2  \n",
       "2     mjewnje1ode2nta2nzi4mda5ma==.2  \n",
       "3     mjewnje1nzk5mzuyodq0njcxng==.2  \n",
       "4     mjewnje1nzy1mtqzotiyoty4oq==.2  \n",
       "5     NaN                             \n",
       "6     mjewnje1nzi1otg3nzu0odgymq==.2  \n",
       "7     mjewnje1nzaxnzu3mta4nzeymw==.2  \n",
       "8     NaN                             \n",
       "9     NaN                             \n",
       "10    mjewnje1nti3nji4mte2njc2na==.2  \n",
       "11    mjewnje1ntizmtg4mtyzmju0oq==.2  \n",
       "12    mjewnje1ndg5odcxmdg4ndezoq==.2  \n",
       "13    mjewnje1mzg0mtu4ntk2mzuymw==.2  \n",
       "14    mjewnje1mzu4odq3njaymzeymg==.2  \n",
       "15    mjewnje1mzu1nzmwmzu2njyzna==.2  \n",
       "16    mjewnje1mzu0mdg3mjy5mdixmw==.2  \n",
       "17    mjewnje1mzu0mzkxnzy4nzi2nq==.2  \n",
       "18    mjewnje1mzq4odg4nja3ntkwng==.2  \n",
       "19    NaN                             \n",
       "20    mjewnje1mje5njmxmdu4mzyyoq==.2  \n",
       "21    NaN                             \n",
       "22    mjewnje1mtgyntewody2odywmq==.2  \n",
       "23    mjewnje1mty4mja5nzyxmdm0na==.2  \n",
       "24    mjewnje1mty1ody2mdkxmdaynw==.2  \n",
       "25    mjewnje1mtezotywnzg0ntqymw==.2  \n",
       "26    mjewnje1mdk2nzg3ndy3mzy1nq==.2  \n",
       "27    mjewnje1mdu5mdmwmzq0mtc3mw==.2  \n",
       "28    mjewnje1mdu1odq3mdq1mtc3mw==.2  \n",
       "29    mjewnje1mdi4mdazmzgzodk3ng==.2  \n",
       "...                              ...  \n",
       "7404  mjewntk3ntazmta0mduwmze3nw==.2  \n",
       "7405  mjewntk2odu3ody0mjuwodkwmg==.2  \n",
       "7406  mjewntk2njczoti1nda2ndmynq==.2  \n",
       "7407  mjewntk2njiymtc5nde4nzm1nw==.2  \n",
       "7408  mjewntk2mdiwnjq0otexmdu4oa==.2  \n",
       "7409  mjewntk1nzc0ntewnzuwntqyma==.2  \n",
       "7410  mjewntk0njc1otyymti2ntuwmq==.2  \n",
       "7411  mjewntk0mtg1odk1mjc4mdewnw==.2  \n",
       "7412  mjewntkzotkznze0oda5mtq2nw==.2  \n",
       "7413  mjewntkyndkymda5njk5ntmwmw==.2  \n",
       "7414  mjewntkyndmzndgxnju1nzmxmq==.2  \n",
       "7415  mjewntkxnzc5nzuxndq2odg4ma==.2  \n",
       "7416  mjewntkxnzyymje3ntg4otu4ma==.2  \n",
       "7417  NaN                             \n",
       "7418  mjewntkxmdyymze3ndm0nzeyoq==.2  \n",
       "7419  mjewntkwnzc0ode5odk2mdgzng==.2  \n",
       "7420  mjewntkwntawotu2mdi2odm1oq==.2  \n",
       "7421  mjewntg5ntkwndi4mdk4mtq2mg==.2  \n",
       "7422  mjewntg5mzi1nzg3nju4njezoa==.2  \n",
       "7423  mjewntg5mza2nzyzmte1mjg3na==.2  \n",
       "7424  mjewntg4odi4njm2nje1nzcwna==.2  \n",
       "7425  mjewntg4mzy4ote5mta2odkyna==.2  \n",
       "7426  mjewntg4mtczmdqxnzmymdezna==.2  \n",
       "7427  mjewntg3ndm4otqymjcyndq1mw==.2  \n",
       "7428  mjewntg3ndaynde2ndy3mjm4oq==.2  \n",
       "7429  mjewntm5ndywnza1njqznze1nq==.2  \n",
       "7430  mja5mta5otuyoty5nju5ndqzna==.2  \n",
       "7431  mja5mta5ndeyotgzmjm1nzi2mg==.2  \n",
       "7432  mja5mta5mjk3odezndk3mzi2nq==.2  \n",
       "7433  mja4otm4mzm3ndk0mjyynzi0na==.2  \n",
       "\n",
       "[7434 rows x 8 columns]"
      ]
     },
     "execution_count": 33,
     "metadata": {},
     "output_type": "execute_result"
    }
   ],
   "source": [
    "#top_hashtags_images_df = top_hashtags_images_df.drop(['Unnamed: 0'],axis=1)\n",
    "\n",
    "parse_url(top_hashtags_images_df)"
   ]
  },
  {
   "cell_type": "code",
   "execution_count": 35,
   "metadata": {},
   "outputs": [],
   "source": [
    "top_hashtags_images_df = top_hashtags_images_df.sort_values(by=['likes'],ascending=False)"
   ]
  },
  {
   "cell_type": "markdown",
   "metadata": {},
   "source": [
    "## Save "
   ]
  },
  {
   "cell_type": "code",
   "execution_count": 41,
   "metadata": {},
   "outputs": [],
   "source": [
    "from pandas import ExcelWriter\n",
    "\n",
    "writer = ExcelWriter(processed_instagram_data)\n",
    "user_kpi_df.to_excel(writer, sheet_name=\"userinfo\",index=False)\n",
    "user_follower_relationship_df.to_excel(writer, sheet_name=\"user_followers_relationship\",index= False)\n",
    "## hastags, hashtags and images\n",
    "top_hashtags_df.to_excel(writer, sheet_name=\"top_hashtags\",index=False)\n",
    "top_hashtags_images_df.to_excel(writer, sheet_name=\"top_hashtags_images\",index=False)\n",
    "all_posts_df.to_excel(writer,sheet_name=\"all_posts\",index=True)\n",
    "writer.save()\n"
   ]
  },
  {
   "cell_type": "code",
   "execution_count": null,
   "metadata": {},
   "outputs": [],
   "source": []
  },
  {
   "cell_type": "code",
   "execution_count": 44,
   "metadata": {},
   "outputs": [],
   "source": [
    "user_follower_relationship_df = pd.read_excel(raw_data_instagram, sheet_name=\"user_followers_relationship\")"
   ]
  },
  {
   "cell_type": "code",
   "execution_count": 46,
   "metadata": {},
   "outputs": [
    {
     "data": {
      "text/plain": [
       "Index(['src_id', 'dst_id', 'src_name', 'dst_name'], dtype='object')"
      ]
     },
     "execution_count": 46,
     "metadata": {},
     "output_type": "execute_result"
    }
   ],
   "source": [
    "user_follower_relationship_df.columns\n",
    "user_follower_relationship_df = user_follower_relationship_df.loc[:,['src_id', 'dst_id']]"
   ]
  },
  {
   "cell_type": "code",
   "execution_count": 48,
   "metadata": {},
   "outputs": [],
   "source": [
    "user_follower_relationship_df.to_csv(os.path.join(processed_data_dir,\"follower_relationship.csv\"),index=False)\n"
   ]
  },
  {
   "cell_type": "code",
   "execution_count": null,
   "metadata": {},
   "outputs": [],
   "source": []
  }
 ],
 "metadata": {
  "kernelspec": {
   "display_name": "Python 3",
   "language": "python",
   "name": "python3"
  },
  "language_info": {
   "codemirror_mode": {
    "name": "ipython",
    "version": 3
   },
   "file_extension": ".py",
   "mimetype": "text/x-python",
   "name": "python",
   "nbconvert_exporter": "python",
   "pygments_lexer": "ipython3",
   "version": "3.7.3"
  }
 },
 "nbformat": 4,
 "nbformat_minor": 2
}
